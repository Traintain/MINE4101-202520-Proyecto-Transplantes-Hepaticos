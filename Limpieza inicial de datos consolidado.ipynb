{
 "cells": [
  {
   "cell_type": "markdown",
   "id": "18085973",
   "metadata": {},
   "source": [
    "# Proyecto de ciencia de datos - MINE 4101"
   ]
  },
  {
   "cell_type": "markdown",
   "id": "9d9e3f8f",
   "metadata": {},
   "source": [
    "## Expectativas stakeholder:\n",
    "\"El objetivo de esta entrega es dar inicio a la creación del tablero en Power BI, que permitirá integrar y visualizar toda la información disponible. La idea es que este tablero se convierta en una herramienta dinámica, que pueda ser alimentada continuamente en el futuro con nuevos datos que vayamos recopilando.\"\n",
    "\n",
    "#### Comentarios adicionales:\n",
    "\"Podemos revisar pacientes con complicaciones, infecciones, sobrevida, y revisar grupos etarios.\n",
    "\n",
    "\n",
    "## Insumos entregados a corte 25 de septiembre de 2025\n",
    "\n",
    "* Cirugias_Hepaticas_consolidado.xlsx   (Higado)\n",
    "* Cirugias_Pancreaticas_Consolidado.xlsx (Pancreas)\n",
    "* Colecistectomias_Laparoscopicas_consolidado.xlsx  (Vesicula biliar) \"extracción de la vesícula biliar mediante laparoscopia\" \"técnica mínimamente invasiva (no se abre el abdomen por completo, sino que se usan pequeñas incisiones y una cámara).\" -- suelen ser mas comunes, \n",
    "* Otras_cirugias_consolidado.xlsx \n",
    "* Trasplante_hepático_consolidado.xlsx\n",
    "\n"
   ]
  },
  {
   "cell_type": "markdown",
   "id": "f02d56ed",
   "metadata": {},
   "source": [
    "## 0. Importación de librerías y preparación del entorno de trabajo"
   ]
  },
  {
   "cell_type": "code",
   "execution_count": 538,
   "id": "9131a241",
   "metadata": {},
   "outputs": [],
   "source": [
    "import os\n",
    "import pandas as pd\n",
    "import matplotlib.pyplot as plt\n",
    "import seaborn as sns\n",
    "import numpy as np"
   ]
  },
  {
   "cell_type": "code",
   "execution_count": 539,
   "id": "32d444db",
   "metadata": {},
   "outputs": [],
   "source": [
    "path = os.path.join(\n",
    "    \"C:\\\\\",\n",
    "    \"Users\",\n",
    "    \"jmriv\",\n",
    "    \"OneDrive - Universidad de los andes\",\n",
    "    \"Semestres uniandes\",\n",
    "    \"2025-2\",\n",
    "    \"Ciencia de datos aplicada\",\n",
    "    \"Proyecto transplantes hepáticos Fundación Sanatfé\",\n",
    "    \"Trasplante hepático consolidado.xlsx\"\n",
    ")"
   ]
  },
  {
   "cell_type": "markdown",
   "id": "cdbbbd16",
   "metadata": {},
   "source": [
    "## Etapa 1: Entendimiento de los datos"
   ]
  },
  {
   "cell_type": "code",
   "execution_count": 540,
   "id": "490c4361",
   "metadata": {},
   "outputs": [
    {
     "data": {
      "text/html": [
       "<div>\n",
       "<style scoped>\n",
       "    .dataframe tbody tr th:only-of-type {\n",
       "        vertical-align: middle;\n",
       "    }\n",
       "\n",
       "    .dataframe tbody tr th {\n",
       "        vertical-align: top;\n",
       "    }\n",
       "\n",
       "    .dataframe thead th {\n",
       "        text-align: right;\n",
       "    }\n",
       "</style>\n",
       "<table border=\"1\" class=\"dataframe\">\n",
       "  <thead>\n",
       "    <tr style=\"text-align: right;\">\n",
       "      <th></th>\n",
       "      <th>Año_Tx</th>\n",
       "      <th>Mes_Tx#1</th>\n",
       "      <th>Fecha_Tx</th>\n",
       "      <th>Edad_Al_Tx</th>\n",
       "      <th>Sexo_Receptor</th>\n",
       "      <th>Código de anonimización</th>\n",
       "      <th>Fecha_nacimiento</th>\n",
       "      <th>EPS</th>\n",
       "      <th>Grupo_Sanguíneo_Receptor</th>\n",
       "      <th>RH_Receptor</th>\n",
       "      <th>...</th>\n",
       "      <th>POSTMORAL_Categoría</th>\n",
       "      <th>RETREAT_Valor</th>\n",
       "      <th>COMBOMORAL_Valor</th>\n",
       "      <th>COMBOMORAL_Categoría</th>\n",
       "      <th>αFP_1m_PostTx</th>\n",
       "      <th>αFP_6m_PostTx</th>\n",
       "      <th>αFP_1año_PostTx</th>\n",
       "      <th>Recurrencia_ HCC</th>\n",
       "      <th>Fecha_Recurrencia</th>\n",
       "      <th>Lugar_De_Recurrencia</th>\n",
       "    </tr>\n",
       "    <tr>\n",
       "      <th>#_Paciente</th>\n",
       "      <th></th>\n",
       "      <th></th>\n",
       "      <th></th>\n",
       "      <th></th>\n",
       "      <th></th>\n",
       "      <th></th>\n",
       "      <th></th>\n",
       "      <th></th>\n",
       "      <th></th>\n",
       "      <th></th>\n",
       "      <th></th>\n",
       "      <th></th>\n",
       "      <th></th>\n",
       "      <th></th>\n",
       "      <th></th>\n",
       "      <th></th>\n",
       "      <th></th>\n",
       "      <th></th>\n",
       "      <th></th>\n",
       "      <th></th>\n",
       "      <th></th>\n",
       "    </tr>\n",
       "  </thead>\n",
       "  <tbody>\n",
       "    <tr>\n",
       "      <th>333</th>\n",
       "      <td>2013</td>\n",
       "      <td>11</td>\n",
       "      <td>2013-11-13</td>\n",
       "      <td>59.909589</td>\n",
       "      <td>1</td>\n",
       "      <td>TXHEP333</td>\n",
       "      <td>1953-12-31 00:00:00</td>\n",
       "      <td>25.0</td>\n",
       "      <td>AB</td>\n",
       "      <td>(+)</td>\n",
       "      <td>...</td>\n",
       "      <td>9999.0</td>\n",
       "      <td>9999.0</td>\n",
       "      <td>9999.0</td>\n",
       "      <td>9999.0</td>\n",
       "      <td>9999</td>\n",
       "      <td>9999</td>\n",
       "      <td>9999</td>\n",
       "      <td>9999.0</td>\n",
       "      <td>9999</td>\n",
       "      <td>9999.0</td>\n",
       "    </tr>\n",
       "    <tr>\n",
       "      <th>624</th>\n",
       "      <td>2022</td>\n",
       "      <td>3</td>\n",
       "      <td>2022-03-16</td>\n",
       "      <td>67.676712</td>\n",
       "      <td>1</td>\n",
       "      <td>TXHEP624</td>\n",
       "      <td>1954-07-29 00:00:00</td>\n",
       "      <td>2.0</td>\n",
       "      <td>O</td>\n",
       "      <td>(+)</td>\n",
       "      <td>...</td>\n",
       "      <td>NaN</td>\n",
       "      <td>NaN</td>\n",
       "      <td>NaN</td>\n",
       "      <td>NaN</td>\n",
       "      <td>NaN</td>\n",
       "      <td>NaN</td>\n",
       "      <td>NaN</td>\n",
       "      <td>NaN</td>\n",
       "      <td>NaN</td>\n",
       "      <td>NaN</td>\n",
       "    </tr>\n",
       "    <tr>\n",
       "      <th>502</th>\n",
       "      <td>2017</td>\n",
       "      <td>9</td>\n",
       "      <td>2017-09-03</td>\n",
       "      <td>63.915068</td>\n",
       "      <td>1</td>\n",
       "      <td>TXHEP502</td>\n",
       "      <td>1953-10-20 00:00:00</td>\n",
       "      <td>2.0</td>\n",
       "      <td>A</td>\n",
       "      <td>(+)</td>\n",
       "      <td>...</td>\n",
       "      <td>NaN</td>\n",
       "      <td>NaN</td>\n",
       "      <td>NaN</td>\n",
       "      <td>NaN</td>\n",
       "      <td>NaN</td>\n",
       "      <td>NaN</td>\n",
       "      <td>NaN</td>\n",
       "      <td>0.0</td>\n",
       "      <td>2019-03-01 00:00:00</td>\n",
       "      <td>NaN</td>\n",
       "    </tr>\n",
       "  </tbody>\n",
       "</table>\n",
       "<p>3 rows × 284 columns</p>\n",
       "</div>"
      ],
      "text/plain": [
       "            Año_Tx  Mes_Tx#1   Fecha_Tx  Edad_Al_Tx  Sexo_Receptor  \\\n",
       "#_Paciente                                                           \n",
       "333           2013        11 2013-11-13   59.909589              1   \n",
       "624           2022         3 2022-03-16   67.676712              1   \n",
       "502           2017         9 2017-09-03   63.915068              1   \n",
       "\n",
       "           Código de anonimización      Fecha_nacimiento   EPS  \\\n",
       "#_Paciente                                                       \n",
       "333                        TXHEP333  1953-12-31 00:00:00  25.0   \n",
       "624                        TXHEP624  1954-07-29 00:00:00   2.0   \n",
       "502                        TXHEP502  1953-10-20 00:00:00   2.0   \n",
       "\n",
       "           Grupo_Sanguíneo_Receptor RH_Receptor  ...  POSTMORAL_Categoría  \\\n",
       "#_Paciente                                       ...                        \n",
       "333                              AB         (+)  ...               9999.0   \n",
       "624                               O         (+)  ...                  NaN   \n",
       "502                               A         (+)  ...                  NaN   \n",
       "\n",
       "            RETREAT_Valor COMBOMORAL_Valor  COMBOMORAL_Categoría  \\\n",
       "#_Paciente                                                         \n",
       "333                9999.0           9999.0                9999.0   \n",
       "624                   NaN              NaN                   NaN   \n",
       "502                   NaN              NaN                   NaN   \n",
       "\n",
       "            αFP_1m_PostTx  αFP_6m_PostTx  αFP_1año_PostTx  Recurrencia_ HCC  \\\n",
       "#_Paciente                                                                    \n",
       "333                  9999           9999             9999            9999.0   \n",
       "624                   NaN            NaN              NaN               NaN   \n",
       "502                   NaN            NaN              NaN               0.0   \n",
       "\n",
       "              Fecha_Recurrencia Lugar_De_Recurrencia  \n",
       "#_Paciente                                            \n",
       "333                        9999               9999.0  \n",
       "624                         NaN                  NaN  \n",
       "502         2019-03-01 00:00:00                  NaN  \n",
       "\n",
       "[3 rows x 284 columns]"
      ]
     },
     "execution_count": 540,
     "metadata": {},
     "output_type": "execute_result"
    }
   ],
   "source": [
    "df_original = pd.read_excel(path,index_col=0)\n",
    "df_original.sample(3)"
   ]
  },
  {
   "cell_type": "code",
   "execution_count": 541,
   "id": "709504ca",
   "metadata": {},
   "outputs": [
    {
     "name": "stdout",
     "output_type": "stream",
     "text": [
      "La base de datos tiene 284 columnas y 736 filas.\n"
     ]
    }
   ],
   "source": [
    "print(f'La base de datos tiene {df_original.shape[1]} columnas y {df_original.shape[0]} filas.')"
   ]
  },
  {
   "cell_type": "markdown",
   "id": "02b795f9",
   "metadata": {},
   "source": [
    "A partir del diccionario y al revisar el comportamiento del dataframe, podemos concluir que los valores de 9999 corresponden a datos nulos.\n",
    "\n",
    "Por esto, <span style=\"color:red\">se remplazaran como valores perdidos con el fin de tener un cálculo mas preciso de completitud de la información </span>"
   ]
  },
  {
   "cell_type": "code",
   "execution_count": 542,
   "id": "a2254ab0",
   "metadata": {},
   "outputs": [],
   "source": [
    "valores_nulos=[9999, 9999.0, '9999',999,99999,'8888.0',8888.0 ]"
   ]
  },
  {
   "cell_type": "code",
   "execution_count": 543,
   "id": "d91a3032",
   "metadata": {},
   "outputs": [
    {
     "name": "stderr",
     "output_type": "stream",
     "text": [
      "C:\\Users\\jmriv\\AppData\\Local\\Temp\\ipykernel_22692\\753223659.py:1: FutureWarning: Downcasting behavior in `replace` is deprecated and will be removed in a future version. To retain the old behavior, explicitly call `result.infer_objects(copy=False)`. To opt-in to the future behavior, set `pd.set_option('future.no_silent_downcasting', True)`\n",
      "  df = df_original.replace(\n"
     ]
    }
   ],
   "source": [
    "df = df_original.replace(\n",
    "    valores_nulos,\n",
    "    np.nan)"
   ]
  },
  {
   "cell_type": "markdown",
   "id": "69cbf975",
   "metadata": {},
   "source": [
    "Adicionalmente, se eliminarán espacios vacíos al inicio y final de los nombres de las columnas"
   ]
  },
  {
   "cell_type": "code",
   "execution_count": 544,
   "id": "5c84aa5b",
   "metadata": {},
   "outputs": [],
   "source": [
    "df.columns = df.columns.str.strip()"
   ]
  },
  {
   "cell_type": "markdown",
   "id": "3ccd288a",
   "metadata": {},
   "source": [
    "Se validará el número de datos nulos presentes en las columnas"
   ]
  },
  {
   "cell_type": "code",
   "execution_count": 545,
   "id": "71f7a641",
   "metadata": {},
   "outputs": [
    {
     "data": {
      "text/plain": [
       "Año_Tx                                0\n",
       "Mes_Tx#1                              0\n",
       "Fecha_Tx                              0\n",
       "Edad_Al_Tx                            0\n",
       "Sexo_Receptor                         0\n",
       "Código de anonimización               0\n",
       "Año_Tx2 (si no retx, poner año tx)    0\n",
       "Año_Tx#3                              0\n",
       "dtype: int64"
      ]
     },
     "execution_count": 545,
     "metadata": {},
     "output_type": "execute_result"
    }
   ],
   "source": [
    "null_count = df.isnull().sum()\n",
    "null_count[null_count==0]"
   ]
  },
  {
   "cell_type": "code",
   "execution_count": 546,
   "id": "43f2ace9",
   "metadata": {},
   "outputs": [
    {
     "data": {
      "text/plain": [
       "(59,)"
      ]
     },
     "execution_count": 546,
     "metadata": {},
     "output_type": "execute_result"
    }
   ],
   "source": [
    "# Miraremos cuántas filas tienen más del 95% de datos nulos\n",
    "null_count[null_count>700].shape"
   ]
  },
  {
   "cell_type": "markdown",
   "id": "41492c00",
   "metadata": {},
   "source": [
    "De las 286 variables vemos que solo 8 tienen todos los datos, y 59 tienen más del 95% de los datos como valores nulos."
   ]
  },
  {
   "cell_type": "markdown",
   "id": "22de6f14",
   "metadata": {},
   "source": [
    "### Selección de variables de interés\n",
    "\n",
    "Dado el elevado número de variables y la poca completitud de las mismas se decidió trabajar con un subconjunto de las variables.\n",
    "\n",
    "Para esto, se usaron los siguientes criterios de selección:\n",
    "- **Completitud de los datos**: el número de valores no nulos\n",
    "- **Variabilidad de los datos**: el número de veces que se repite un dato en una columna. La idea es evitar las columnas donde la muestra puede estar desbalanceada\n",
    "- **Concepto del experto**: el experto indicó que variables considera que se deben priorizar en el análisis\n",
    "\n",
    "Adicionalmente, se dividieron las variables en las siguientes categorías:\n",
    "- **Identificación del paciente**\n",
    "- **Transplante y cirugía**\n",
    "- **Hepatocarcinoma y cáncer**\n",
    "- **Scores clínicos**\n",
    "- **Comorbilidades y antecedentes**\n",
    "- **Evaluaciones diagnósticas**\n",
    "- **Seguimiento y sobrevida**\n",
    "- **Postoperatorio y complicaciones**\n",
    "- **Otras**\n",
    "\n",
    "De este proceso se seleccionaron 108 variables\n"
   ]
  },
  {
   "cell_type": "code",
   "execution_count": 547,
   "id": "a65e4e11",
   "metadata": {},
   "outputs": [],
   "source": [
    "selected_columns = [\n",
    "    \"Año_Tx\",\n",
    "    \"Mes_Tx#1\",\n",
    "    \"Edad_Al_Tx\",\n",
    "    \"Tiempo_En_Lista_Días\",\n",
    "    \"Tiempo_En_Lista_Meses\",\n",
    "    \"Tiempo_En_Lista_Años\",\n",
    "    \"Sexo_Receptor\",\n",
    "    \"EPS\",\n",
    "    \"Causa_1_Tx_Hepático_\",\n",
    "    \"Causa_2_Tx_Hepático_\",\n",
    "    \"Hepatocarcinoma\",\n",
    "    \"Child_Pugh_Letra\",\n",
    "    \"MELD_Score\",\n",
    "    \"Causa_Tx_Renal\",\n",
    "    \"Peso_Pre_Tx\",\n",
    "    \"BMI\",\n",
    "    \"Composición_Corporal\",\n",
    "    \"Falla_Cardiaca_Pre_Tx\",\n",
    "    \"Antecedente_De_Tabaquismo\",\n",
    "    \"Antecedente_De_Alcoholismo\",\n",
    "    \"Enfermedad_Coronaria_Pre_Tx\",\n",
    "    \"Infarto_Cardiaco_Pre_Tx\",\n",
    "    \"Diabetes_Mellitus_Pre_Tx\",\n",
    "    \"Hipertensión_Arterial_Pre_Tx\",\n",
    "    \"Colesterol_TotalPre_Tx\",\n",
    "    \"LDL_Pre_Tx\",\n",
    "    \"HDL_Pre_Tx\",\n",
    "    \"Triglicéridos_Pre_Tx\",\n",
    "    \"Dislipidemia_Pre_Tx\",\n",
    "    \"MDRD_Categórico_PreTx\",\n",
    "    \"CMV_Receptor\",\n",
    "    \"EKG_PreQx\",\n",
    "    \"EKG_PreQx_Valor\",\n",
    "    \"Valvulopatía_Pre_Tx\",\n",
    "    \"Ecocardiograma_PreQx_FE%\",\n",
    "    \"Ecocardiograma_PreQx-FE_Cod\",\n",
    "    \"Ecocardiograma_PreQx_RC%\",\n",
    "    \"Ecocardiograma_PreQx_RC\",\n",
    "    \"Ecocardiograma_PreQx_Hipertensión_Pulmonar\",\n",
    "    \"Ecocardiograma_PreQx_TAPSE\",\n",
    "    \"Ecocardiograma_PreQx_TASVE\",\n",
    "    \"Ecocardiograma_PreQx_Disfunción_Diastólica\",\n",
    "    \"METS\",\n",
    "    \"Tx#1\",\n",
    "    \"Edad_Donante_Tx#1\",\n",
    "    \"Sexo_Donante_Tx#1\",\n",
    "    \"Causa_Muerte_Donante_Tx#1\",\n",
    "    \"Tipo_de_Cx-Trasplante_Tx#1\",\n",
    "    \"Trasplante_Combinado-Hígado-Riñón_Tx#1\",\n",
    "    \"#_Unidades_Glóbulos_Rojos_Tx#1\",\n",
    "    \"#_Unidades_Plasma_Fresco_Congelado_Tx#1\",\n",
    "    \"#_Unidades_Crioprecipitados_Tx#1\",\n",
    "    \"#_Unidades_Plaquetas_Tx#1\",\n",
    "    \"Tiempo_Quirúrgico_Tx#1\",\n",
    "    \"Antibiótico_Profiláctico_VS_Terapéutico\",\n",
    "    \"Días_Tratamiento_Antibiótico_Previo_A_Tx#1\",\n",
    "    \"Tiempo_De_Dosis_Hasta_Tx#1\",\n",
    "    \"Tiempo_Sonda_Vesical\",\n",
    "    \"Tiempo_CVC\",\n",
    "    \"Soporte_Vasopresor_PeriTx\",\n",
    "    \"Levosimendan_PeriTx\",\n",
    "    \"Noradrenalina_PeriTx\",\n",
    "    \"Adrenalina_PeriTx\",\n",
    "    \"Vasopresina_PeriTx\",\n",
    "    \"Dopamina_PeriTx\",\n",
    "    \"Amiodarona_PeriTx\",\n",
    "    \"Stent\",\n",
    "    \"Requirió_Reconstrucción_Biliar\",\n",
    "    \"Profilaxis_Antitrombótica\",\n",
    "    \"Días_de_Profilaxis_Antitrombótica\",\n",
    "    \"Fast_Track\",\n",
    "    \"Días_En_UCI\",\n",
    "    \"Días_En_Hospitalización_Piso\",\n",
    "    \"Días_Totales_Intrahospitalarios\",\n",
    "    \"Fecha_Egreso_UCI\",\n",
    "    \"Fecha_Egreso_Hospitalario\",\n",
    "    \"¿Complicación?\",\n",
    "    \"#_De_Complicaciones\",\n",
    "    \"Tipo_De_Complicación_1\",\n",
    "    \"Rechazo_Agudo\",\n",
    "    \"Severidad_Rechazo_Agudo\",\n",
    "    \"Rechazo_Crónico\",\n",
    "    \"Infección_POP\",\n",
    "    \"Tipo_Infección_1\",\n",
    "    \"Germen_1\",\n",
    "    \"Tiempo_Desde_Tx_Infección_1\",\n",
    "    \"Falla_Cardiaca_POP\",\n",
    "    \"Arritmia_POP\",\n",
    "    \"Infarto_POP\",\n",
    "    \"EKG_VALOR_POP\",\n",
    "    \"Ecocardiograma_POP_FE%\",\n",
    "    \"Ecocardiograma_POP_PASP\",\n",
    "    \"Ecocardiograma_POP_Otros\",\n",
    "    \"Retrasplante\",\n",
    "    \"Indicación_Retrasplante\",\n",
    "    \"Año_Tx2 (si no retx, poner año tx)\",\n",
    "    \"Re_Re trasplante\",\n",
    "    \"Indicación_Re_Re_trasplante\",\n",
    "    \"PTLD\",\n",
    "    \"Neoplasia_PostTx\",\n",
    "    \"Grado_HCC\",\n",
    "    \"Estadio\",\n",
    "    \"Sobrevida_PeriQx_30_días_POP\",\n",
    "    \"Vivo_Hoy\",\n",
    "    \"Fecha_Control/Muerte\",\n",
    "    \"Sobrevida_Días\",\n",
    "    \"Sobrevida_Meses\",\n",
    "    \"Sobrevida_Años\",\n",
    "    \"Causa_De_Muerte\",\n",
    "    \"Complicación_Asociada\",\n",
    "    \"Fecha-Enlistamiento\",\n",
    "    \"αFP_PreTx\",\n",
    "    \"αFP_Al_Dx\",\n",
    "    \"Tiempo_Isquemia_Fría_Tx#1\",\n",
    "    \"Días_Sobrevida_Injerto_#1\",\n",
    "    \"Meses_Sobrevida_Injerto_#1\",\n",
    "    \"Años_Sobrevida_Injerto_#1\",\n",
    "    \"Diámetro_Nódulo_Principal_(cm)_Al_Dx\",\n",
    "    \"Ki67\",\n",
    "    \"#_Nódulos_Al_Dx\"\n",
    "]"
   ]
  },
  {
   "cell_type": "code",
   "execution_count": 548,
   "id": "bdaea1be",
   "metadata": {},
   "outputs": [],
   "source": [
    "categorias = {\n",
    "    'Identificación del paciente': ['#_Paciente',\t'Edad_Al_Tx',\t'Sexo_Receptor',\n",
    "    'Código de anonimización ',\t'Fecha_nacimiento',\t'EPS',\t'Grupo_Sanguíneo_Receptor',\t'RH_Receptor',\t\n",
    "    'COD_Grupo_Sanguíneo_Receptor',\t'COD_RH_Receptor',\t'Fecha-Enlistamiento',\n",
    "    'Tiempo_En_Lista_Días',\t'Tiempo_En_Lista_Meses',\t'Tiempo_En_Lista_Años',\t\n",
    "    'BMI',\t'Composición_Corporal',\t'Enfermedad_Coronaria_Pre_Tx',\t\n",
    "    'Edad_Donante_Tx#1',\t'Sexo_Donante_Tx#1',\t'Edad_Donante_Tx#2',\n",
    "    'Sexo_Donante_Tx#2',\t'Edad_Donante_Tx#3',\t'Sexo_Donante_Tx#3'\n",
    "    ],\n",
    "\n",
    "    'Trasplante y cirugía': ['Año_Tx',\t'Mes_Tx#1',\t'Fecha_Tx',\t'Causa_1_Tx_Hepático_',\n",
    "    'Causa_2_Tx_Hepático_',\t'Causa_Tx_Renal',\t'Peso_Pre_Tx',\t'Falla_Cardiaca_Pre_Tx',\t\n",
    "    'Infarto_Cardiaco_Pre_Tx',\t'Diabetes_Mellitus_Pre_Tx',\t'Hipertensión_Arterial_Pre_Tx',\t\n",
    "    'Colesterol_TotalPre_Tx',\t'LDL_Pre_Tx',\t'HDL_Pre_Tx',\t'Triglicéridos_Pre_Tx',\t\n",
    "    'Dislipidemia_Pre_Tx',\t'MDRD_Score_Pre_Tx',\t'MDRD_Categórico_PreTx',\t\n",
    "    'Valvulopatía_Pre_Tx',\t'Tx#1',\t'Causa_Muerte_Donante_Tx#1',\t'CMV_Donante_Tx#1',\n",
    "    'Cirujano_Rescate_1_Tx#1',\t'Cirujano_Rescate_2_Tx#1',\t'Tipo_de_Cx-Trasplante_Tx#1',\t\n",
    "    'Trasplante_Combinado-Hígado-Riñón_Tx#1',\t'Tiempo_Isquemia_Fría_Tx#1',\t\n",
    "    'Tiempo_Isquemia_Caliente_Tx#1',\t'Arterialización_Portal',\t'Injerto_Aórtico_Tx#1',\t\n",
    "    '#_Unidades_Glóbulos_Rojos_Tx#1',\t'#_Unidades_Plasma_Fresco_Congelado_Tx#1',\t\n",
    "    '#_Unidades_Crioprecipitados_Tx#1',\t'#_Unidades_Plaquetas_Tx#1',\t\n",
    "    'Tiempo_Quirúrgico_Tx#1',\t'Antibiótico_Profiláctico_VS_Terapéutico',\t\n",
    "    'Días_Tratamiento_Antibiótico_Previo_A_Tx#1',\t'Antibiótico_1__Tx#1',\t'Antibiótico_2_Tx#1',\t\n",
    "    'Antibiótico_3_Tx#1',\t'Antifúngico_Tx#1',\t'Tiempo_De_Dosis_Hasta_Tx#1',\t'Cirujano_Principal_Tx#1',\t\n",
    "    'Cirujano_Ayudante_Tx#1',\t'Fecha_Colocación_Sonda_Vesical',\t'Fecha_Colocación_CVC',\t\n",
    "    'Soporte_Vasopresor_PeriTx',\t'Levosimendan_PeriTx ',\t'Levosimendam_Dosis',\t\n",
    "    'Noradrenalina_PeriTx',\t'Noradrenalina_Dosis',\t'Adrenalina_PeriTx',\t\n",
    "    'Vasopresina_PeriTx',\t'Vasopresina_Dosis',\t'Dopamina_PeriTx',\t'Dopamina_Dosis',\t\n",
    "    'Amiodarona_PeriTx',\t'Amiodarona_Dosis',\t'Tx_Soporte_Inotrópico',\t\n",
    "    'Retrasplante',\t'Indicación_Retrasplante',\t'Fecha-Enlistamiento_Tx#2',\t\n",
    "    'Año_Tx2 (si no retx, poner año tx)',\t'Fecha_Tx#2',\t'Mes_Tx#2',\t'Días_Reenlistado_Tx#2',\t\n",
    "    'Días_Desde_Tx#1',\t'Causa_Muerte_Donante_Tx#2',\t'CMV_Donante_Tx#0',\t'Cirujano_Rescate_1_Tx#2',\t\n",
    "    'Cirujano_Rescate_2_Tx#2',\t'Tipo_de_Cx-Trasplante_Tx#2',\t'Tiempo_Isquemia_Fría_Tx#2',\t'Tiempo_Isquemia_Caliente_Tx#2',\t\n",
    "    'Injerto_Aórtico_Tx#2',\t'#_Unidades_Glóbulos_Rojos_Tx#2',\t'#_Unidades_Plasma_Fresco_Congelado_Tx#2',\t\n",
    "    '#_Unidades_Crioprecipitados_Tx#2',\t'#_Unidades_Plaquetas_Tx#2',\t'Tiempo_Quirúrgico_Tx#2',\t\n",
    "    'Días_Tratamiento_Antibiótico_Previo_A_Tx#2',\t'Antibiótico_1_Tx#2',\t'Antibiótico_2_Tx#2',\t\n",
    "    'Antibiótico_3_Tx#2',\t'Antifúngico_Tx#2',\t'Segunda_Dosis_Tx#2',\t'Tiempo_De_Dosis_Hasta_Tx#2',\t\n",
    "    'Cirujano_Principal_Tx#2',\t'Cirujano_Ayudante_Tx#2',\t'Re_Re trasplante',\t'Indicación_Re_Re_trasplante',\t\n",
    "    'Fecha-Enlistamiento_Tx#3',\t'Año_Tx#3',\t'Fecha_Tx#3',\t'Mes_Tx#3',\t'Días_Reenlistado_Tx#3',\t'Días_Desde_Tx#1',\t'Causa_Muerte_Donante_Tx#3',\t\n",
    "    'CMV_Donante_Tx#3',\t'Cirujano_Rescate_1_Tx#3',\t'Cirujano_Rescate_2_Tx#3',\t'Tipo_de_Cx-Trasplante_Tx#3',\t'Tiempo_Isquemia_Fría_Tx#3',\t'Tiempo_Isquemia_Caliente_Tx#3',\t\n",
    "    'Injerto_Aórtico_Tx#3',\t'#_Unidades_Glóbulos_Rojos_Tx#3',\t'#_Unidades_Plasma_Fresco_Congelado_Tx#3',\t'#_Unidades_Crioprecipitados_Tx#3',\t'#_Unidades_Plaquetas_Tx#3',\t\n",
    "    'Tiempo_Quirúrgico_Tx#3',\t'Cirujano_Principal_Tx#3',\t'Cirujano_Ayudante_Tx#3',\t'Años_Desde_El_Tx',\t'Fecha_Tx_A_PTLD',\t'Tiempo_Tx_A_PTLD',\t'Neoplasia_PostTx',\t'Fecha_Neoplasia_PostTx',\t\n",
    "    'Tiempo_Tx_A_Neoplasia_PostTx',\t'Fecha_última_Terapia_Local_PreTx',\t'αFP_PreTx',\t'Ca-19-9_PreTx',\t'Neutrófilos_PreTx',\t'Plaquetas_PreTx',\t'Linfocitos_PreTx',\t'αFP_1m_PostTx',\t\n",
    "    'αFP_6m_PostTx',\t'αFP_1año_PostTx'\n",
    "    ],\n",
    "\n",
    "    'Hepatocarcinoma y cáncer': ['Hepatocarcinoma',\t'Hepatocarcinoma',\t'αFP_Al_Dx',\t'#_Nódulos_Al_Dx',\t'Diámetro_Nódulo_Principal_(cm)_Al_Dx',\t\n",
    "    'Sumatoria_#Nódulos_y_Diámetros_Al_Dx',\t'Cumple_Milán',\t'Cumple_UCSF',\t'Cumple_Up_To_Seven',\t'Terapia_Local_1',\t'Terapia_Local_2',\t'#_Sesiones',\t'Patrón_Histológico',\n",
    "    'Grado_HCC',\t'Invasión_Vascular',\t'Trombosis_Porta_Tumoral',\t'Invasión_Linfática',\t'Invasión_Nerviosa',\t'Necrosis_Tumoral',\t'#Nódulos_Viables',\t'Diámetro_Tumor_Viable_Más_Grande_Patología',\n",
    "    'Sumatoria_Nódulos_Viables_y_Diámetro_Tumor_Más_Grande_Patología',\t'Ki67',\t'Mitosis',\t'p53',\t'αFP_Patología',\t'T',\t'N',\t'M',\t'Estadio',\n",
    "\n",
    "    ],\n",
    "\n",
    "    'Scores clínicos': ['Child_Pugh_Letra',\t'MELD_Score',\t'PREMORAL_Valor',\t'PREMORAL_Categoría',\t'POSTMORAL_Valor',\t'POSTMORAL_Categoría',\t'RETREAT_Valor',\t'COMBOMORAL_Valor',\t'COMBOMORAL_Categoría'\n",
    "    ],\n",
    "\n",
    "    'Comorbilidades y antecedentes': ['Antecedente_De_Tabaquismo',\t'Antecedente_De_Alcoholismo',\t'Ecocardiograma_PreQx_Hipertensión_Pulmonar',\t'Andrenalina_Dois',\t'Falla_Cardiaca_POP'\n",
    "    ],\n",
    "\n",
    "    'Evaluaciones diagnósticas': ['CMV_Receptor',\t'EKG_PreQx',\t'EKG_PreQx_Valor',\t'Ecocardiograma_PreQx_FE%',\t'Ecocardiograma_PreQx-FE_Cod',\t'Ecocardiograma_PreQx_RC%',\t'Ecocardiograma_PreQx_RC',\t\n",
    "    'Ecocardiograma_PreQxPSAP',\t'Ecocardiograma_PreQx_TAPSE ',\t'Ecocardiograma_PreQx_TASVE',\t'Ecocardiograma_PreQx_Disfunción_Diastólica',\t'METS',\t'EKG_VALOR_POP',\t'Ecocardiograma_POP_FE%',\t\n",
    "    'Ecocardiograma_POP_PASP',\t'Ecocardiograma_POP_Otros',\t'NLR',\t'PLR'\n",
    "    ],\n",
    "\n",
    "    'Seguimiento y sobrevida': [\n",
    "       'Fecha_Retiro_Sonda_Vesical',\t'Tiempo_Sonda_Vesical',\t'Fecha_Retiro_CVC',\t'Tiempo_CVC',\t'Días_de_Profilaxis_Antitrombótica',\t'Días_En_Hospitalización_Piso',\t'Días_Totales_Intrahospitalarios',\t'Vivo_Hoy',\t'Fecha_Control/Muerte',\t'Sobrevida_Días',\t'Sobrevida_Meses',\t'Sobrevida_Años',\t'Último_Análisis_De_Mortalidad',\t'Causa_De_Muerte',\t'Sobrevida_Injerto_#1',\t'Control_Injerto_#1',\t'Días_Sobrevida_Injerto_#1',\t'Meses_Sobrevida_Injerto_#1',\t'Años_Sobrevida_Injerto_#1',\t'Sobrevida_Injerto_#2',\t'Control_Injerto_#2',\t'Días_Sobrevida_Injerto_#2',\t'Meses_Sobrevida_Injerto_#2',\t'Años_Sobrevida_Injerto_#2',\t'Sobrevida_Injerto_#3',\t'Control_Injerto_#3',\t'Días_Sobrevida_Injerto_#3',\t'Meses_Sobrevida_Injerto_#3',\t'Años_Sobrevida_Injerto_#3',\t'PTLD',\t'Recurrencia_ HCC',\t'Fecha_Recurrencia',\t'Lugar_De_Recurrencia',\n",
    "\n",
    "    ],\n",
    "\n",
    "    'Postoperatorio y complicaciones': ['Bilirrubina_Total_POP',\t'COD_ Bilirrubina_Total_POP',\t'Bilirrubina_Directa_POP',\t'COD_Bilirrubina_Directa',\t'¿Complicación?',\t'#_De_Complicaciones',\t'Tipo_De_Complicación_1',\n",
    "    'Inmunosupresor_1',\t'Inmunosupresor_2',\t'Inmunosupresión_con_Anticuerpos',\t'Rechazo_Agudo',\t'Severidad_Rechazo_Agudo',\t'Rechazo_Crónico',\t'Infección_POP',\t'Tipo_Infección_1',\t'Germen_1',\t'Fecha_Infección_1',\n",
    "    'Tiempo_Desde_Tx_Infección_1',\t'Tipo_Infección_2',\t'Germen_2',\t'Fecha_Infección_2',\t'Tiempo_Desde_Tx_Infección_2',\t'Tipo_Infección_3',\t'Germen_3',\t'Fecha_Infección_3',\t'Tiempo_Desde_Tx_Infección_3',\t'Stent',\n",
    "    'Requirió_Reconstrucción_Biliar',\t'Fecha_Reconstrucción_Biliar',\t'Tiempo_Reconstrucción_Biliar',\t'Profilaxis_Antitrombótica',\t'Medicamento_Antitrombótica',\t'Arritmia_POP',\t'Infarto_POP',\t'Fast_Track',\t\n",
    "    'Días_En_UCI',\t'Fecha_Egreso_UCI ',\t'Fecha_Egreso_Hospitalario',\t'Sobrevida_PeriQx_30_días_POP',\t'Complicación_Asociada'\n",
    "    ]\n",
    "}"
   ]
  },
  {
   "cell_type": "code",
   "execution_count": 549,
   "id": "6154a35e",
   "metadata": {},
   "outputs": [
    {
     "data": {
      "text/plain": [
       "Categoría\n",
       "Trasplante y cirugía               43\n",
       "Postoperatorio y complicaciones    20\n",
       "Seguimiento y sobrevida            15\n",
       "Evaluaciones diagnósticas          14\n",
       "Identificación del paciente        12\n",
       "Hepatocarcinoma y cáncer            7\n",
       "Comorbilidades y antecedentes       4\n",
       "Otras / No clasificadas             3\n",
       "Scores clínicos                     2\n",
       "dtype: int64"
      ]
     },
     "execution_count": 549,
     "metadata": {},
     "output_type": "execute_result"
    }
   ],
   "source": [
    "def clasificar_variable(var):\n",
    "    for categoria, palabras in categorias.items():\n",
    "        if var in palabras:\n",
    "            return categoria\n",
    "    return 'Otras / No clasificadas'\n",
    "\n",
    "df_vars = pd.DataFrame({'Variable': selected_columns})\n",
    "\n",
    "df_vars['Categoría'] = df_vars['Variable'].apply(clasificar_variable)\n",
    "\n",
    "# Vista general\n",
    "df_vars.groupby('Categoría').size().sort_values(ascending=False)"
   ]
  },
  {
   "cell_type": "markdown",
   "id": "be515691",
   "metadata": {},
   "source": [
    "## Etapa 2: Limpieza y enriquecimiento del dataset\n",
    "\n",
    "Se revisará la calidad de cada variable seleccionada. En caso de ser necesario se ajustará"
   ]
  },
  {
   "cell_type": "code",
   "execution_count": 550,
   "id": "64a37af1",
   "metadata": {},
   "outputs": [],
   "source": [
    "def ver_datos(data, col_name, categorica=False):\n",
    "    print(data[col_name].describe())\n",
    "    print('--'*10)\n",
    "    print(f'Número de datos nulos: {data[col_name].isnull().sum()}')\n",
    "    if categorica:\n",
    "        print('--'*10)\n",
    "        print(data[col_name].value_counts(dropna=False))"
   ]
  },
  {
   "cell_type": "code",
   "execution_count": 551,
   "id": "073d2cea",
   "metadata": {},
   "outputs": [],
   "source": [
    "def limpiar_numericas(data, col_name):\n",
    "    temp = (\n",
    "    data[col_name]\n",
    "    .astype(str)\n",
    "    .str.replace(',', '.', regex=False)\n",
    "    )\n",
    "    data[col_name] = pd.to_numeric(temp, errors='coerce')"
   ]
  },
  {
   "cell_type": "code",
   "execution_count": 552,
   "id": "db3eb2ae",
   "metadata": {},
   "outputs": [],
   "source": [
    "def parse_date(date, valores_nulos=[]):\n",
    "    if pd.isna(date) or date in valores_nulos:\n",
    "        return pd.NaT\n",
    "    try:\n",
    "        if isinstance(date, int):\n",
    "            return pd.to_datetime(date, origin=\"1899-12-30\", unit=\"D\", errors='coerce')\n",
    "        else:\n",
    "            return pd.to_datetime(date, dayfirst=True, errors='coerce')\n",
    "    except:\n",
    "        return pd.NaT"
   ]
  },
  {
   "cell_type": "markdown",
   "id": "1421ab28",
   "metadata": {},
   "source": [
    "### Año_Tx"
   ]
  },
  {
   "cell_type": "code",
   "execution_count": 553,
   "id": "e8102617",
   "metadata": {},
   "outputs": [
    {
     "name": "stdout",
     "output_type": "stream",
     "text": [
      "count     736.000000\n",
      "mean     2013.747283\n",
      "std         6.839958\n",
      "min      1988.000000\n",
      "25%      2009.000000\n",
      "50%      2014.000000\n",
      "75%      2019.000000\n",
      "max      2025.000000\n",
      "Name: Año_Tx, dtype: float64\n",
      "--------------------\n",
      "Número de datos nulos: 0\n"
     ]
    }
   ],
   "source": [
    "ver_datos(df, 'Año_Tx')"
   ]
  },
  {
   "cell_type": "markdown",
   "id": "4cc0f7d1",
   "metadata": {},
   "source": [
    "### Mes_Tx#1"
   ]
  },
  {
   "cell_type": "code",
   "execution_count": 554,
   "id": "e10a986a",
   "metadata": {},
   "outputs": [
    {
     "name": "stdout",
     "output_type": "stream",
     "text": [
      "count    736.000000\n",
      "mean       6.474185\n",
      "std        3.482026\n",
      "min        1.000000\n",
      "25%        3.000000\n",
      "50%        6.000000\n",
      "75%       10.000000\n",
      "max       12.000000\n",
      "Name: Mes_Tx#1, dtype: float64\n",
      "--------------------\n",
      "Número de datos nulos: 0\n"
     ]
    }
   ],
   "source": [
    "ver_datos(df, 'Mes_Tx#1')"
   ]
  },
  {
   "cell_type": "markdown",
   "id": "4aa04207",
   "metadata": {},
   "source": [
    "### Edad_Al_Tx"
   ]
  },
  {
   "cell_type": "code",
   "execution_count": 555,
   "id": "a4b000a0",
   "metadata": {},
   "outputs": [
    {
     "name": "stdout",
     "output_type": "stream",
     "text": [
      "count    736.000000\n",
      "mean      53.880852\n",
      "std       15.650689\n",
      "min        0.000000\n",
      "25%       48.063699\n",
      "50%       58.452055\n",
      "75%       64.626712\n",
      "max       84.813699\n",
      "Name: Edad_Al_Tx, dtype: float64\n",
      "--------------------\n",
      "Número de datos nulos: 0\n"
     ]
    }
   ],
   "source": [
    "ver_datos(df, 'Edad_Al_Tx')"
   ]
  },
  {
   "cell_type": "markdown",
   "id": "7aa12f9d",
   "metadata": {},
   "source": [
    "### Tiempo en lista (Tiempo_En_Lista_Días, Tiempo_En_Lista_Meses, Tiempo_En_Lista_Años)"
   ]
  },
  {
   "cell_type": "code",
   "execution_count": 556,
   "id": "56dccc69",
   "metadata": {},
   "outputs": [
    {
     "name": "stdout",
     "output_type": "stream",
     "text": [
      "count      705.000000\n",
      "mean       539.451064\n",
      "std       4177.666859\n",
      "min          0.000000\n",
      "25%         19.000000\n",
      "50%         57.000000\n",
      "75%        168.000000\n",
      "max      45745.000000\n",
      "Name: Tiempo_En_Lista_Días, dtype: float64\n",
      "--------------------\n",
      "Número de datos nulos: 31\n"
     ]
    }
   ],
   "source": [
    "ver_datos(df, 'Tiempo_En_Lista_Días')"
   ]
  },
  {
   "cell_type": "code",
   "execution_count": 557,
   "id": "9ce33d93",
   "metadata": {},
   "outputs": [
    {
     "name": "stdout",
     "output_type": "stream",
     "text": [
      "count     705.000000\n",
      "mean       17.981702\n",
      "std       139.255562\n",
      "min         0.000000\n",
      "25%         0.633333\n",
      "50%         1.900000\n",
      "75%         5.600000\n",
      "max      1524.833333\n",
      "Name: Tiempo_En_Lista_Meses, dtype: float64\n",
      "--------------------\n",
      "Número de datos nulos: 31\n"
     ]
    }
   ],
   "source": [
    "ver_datos(df, 'Tiempo_En_Lista_Meses')"
   ]
  },
  {
   "cell_type": "code",
   "execution_count": 558,
   "id": "3d7d3c34",
   "metadata": {},
   "outputs": [
    {
     "name": "stdout",
     "output_type": "stream",
     "text": [
      "count    705.000000\n",
      "mean       1.498475\n",
      "std       11.604630\n",
      "min        0.000000\n",
      "25%        0.052778\n",
      "50%        0.158333\n",
      "75%        0.466667\n",
      "max      127.069444\n",
      "Name: Tiempo_En_Lista_Años, dtype: float64\n",
      "--------------------\n",
      "Número de datos nulos: 31\n"
     ]
    }
   ],
   "source": [
    "ver_datos(df, 'Tiempo_En_Lista_Años')"
   ]
  },
  {
   "cell_type": "markdown",
   "id": "179bc398",
   "metadata": {},
   "source": [
    "### Sexo_Receptor"
   ]
  },
  {
   "cell_type": "code",
   "execution_count": 559,
   "id": "e01f0546",
   "metadata": {},
   "outputs": [
    {
     "name": "stdout",
     "output_type": "stream",
     "text": [
      "count    736.000000\n",
      "mean       1.491848\n",
      "std        0.500274\n",
      "min        1.000000\n",
      "25%        1.000000\n",
      "50%        1.000000\n",
      "75%        2.000000\n",
      "max        2.000000\n",
      "Name: Sexo_Receptor, dtype: float64\n",
      "--------------------\n",
      "Número de datos nulos: 0\n",
      "--------------------\n",
      "Sexo_Receptor\n",
      "1    374\n",
      "2    362\n",
      "Name: count, dtype: int64\n"
     ]
    }
   ],
   "source": [
    "ver_datos(df, 'Sexo_Receptor', True)"
   ]
  },
  {
   "cell_type": "markdown",
   "id": "c275b0b9",
   "metadata": {},
   "source": [
    "### EPS"
   ]
  },
  {
   "cell_type": "code",
   "execution_count": 560,
   "id": "d923cb3f",
   "metadata": {},
   "outputs": [
    {
     "name": "stdout",
     "output_type": "stream",
     "text": [
      "count    702.000000\n",
      "mean       6.888889\n",
      "std        8.592646\n",
      "min        0.000000\n",
      "25%        2.000000\n",
      "50%        2.000000\n",
      "75%       10.000000\n",
      "max       37.000000\n",
      "Name: EPS, dtype: float64\n",
      "--------------------\n",
      "Número de datos nulos: 34\n",
      "--------------------\n",
      "EPS\n",
      "2.0     256\n",
      "1.0     166\n",
      "NaN      34\n",
      "4.0      29\n",
      "6.0      28\n",
      "25.0     27\n",
      "12.0     20\n",
      "20.0     17\n",
      "14.0     16\n",
      "7.0      15\n",
      "22.0     14\n",
      "23.0     13\n",
      "3.0      11\n",
      "10.0     11\n",
      "17.0     10\n",
      "5.0      10\n",
      "28.0      6\n",
      "33.0      6\n",
      "13.0      5\n",
      "19.0      5\n",
      "9.0       4\n",
      "29.0      4\n",
      "27.0      4\n",
      "26.0      4\n",
      "30.0      3\n",
      "16.0      3\n",
      "21.0      3\n",
      "11.0      2\n",
      "8.0       2\n",
      "18.0      1\n",
      "15.0      1\n",
      "24.0      1\n",
      "34.0      1\n",
      "32.0      1\n",
      "31.0      1\n",
      "37.0      1\n",
      "0.0       1\n",
      "Name: count, dtype: int64\n"
     ]
    }
   ],
   "source": [
    "ver_datos(df, 'EPS', True)"
   ]
  },
  {
   "cell_type": "markdown",
   "id": "6ef25ff0",
   "metadata": {},
   "source": [
    "### Causa (Causa_1_Tx_Hepático_, Causa_2_Tx_Hepático_)"
   ]
  },
  {
   "cell_type": "code",
   "execution_count": 561,
   "id": "8e4c043b",
   "metadata": {},
   "outputs": [
    {
     "name": "stdout",
     "output_type": "stream",
     "text": [
      "count    729.000000\n",
      "mean       6.868313\n",
      "std        5.668420\n",
      "min        1.000000\n",
      "25%        3.000000\n",
      "50%        4.000000\n",
      "75%        9.000000\n",
      "max       28.000000\n",
      "Name: Causa_1_Tx_Hepático_, dtype: float64\n",
      "--------------------\n",
      "Número de datos nulos: 7\n",
      "--------------------\n",
      "Causa_1_Tx_Hepático_\n",
      "3.0     155\n",
      "4.0     113\n",
      "1.0     106\n",
      "8.0      92\n",
      "9.0      71\n",
      "11.0     40\n",
      "12.0     38\n",
      "23.0     22\n",
      "10.0     15\n",
      "5.0      11\n",
      "2.0      11\n",
      "20.0     10\n",
      "22.0     10\n",
      "14.0      8\n",
      "NaN       7\n",
      "21.0      4\n",
      "7.0       3\n",
      "6.0       3\n",
      "13.0      3\n",
      "19.0      3\n",
      "15.0      2\n",
      "25.0      2\n",
      "17.0      2\n",
      "18.0      1\n",
      "26.0      1\n",
      "16.0      1\n",
      "27.0      1\n",
      "28.0      1\n",
      "Name: count, dtype: int64\n"
     ]
    }
   ],
   "source": [
    "ver_datos(df, 'Causa_1_Tx_Hepático_', True)"
   ]
  },
  {
   "cell_type": "code",
   "execution_count": 562,
   "id": "3bee156c",
   "metadata": {},
   "outputs": [
    {
     "name": "stdout",
     "output_type": "stream",
     "text": [
      "count    730.000000\n",
      "mean       0.238356\n",
      "std        1.732655\n",
      "min        0.000000\n",
      "25%        0.000000\n",
      "50%        0.000000\n",
      "75%        0.000000\n",
      "max       22.000000\n",
      "Name: Causa_2_Tx_Hepático_, dtype: float64\n",
      "--------------------\n",
      "Número de datos nulos: 6\n",
      "--------------------\n",
      "Causa_2_Tx_Hepático_\n",
      "0.0     705\n",
      "3.0       7\n",
      "4.0       7\n",
      "NaN       6\n",
      "2.0       3\n",
      "15.0      2\n",
      "21.0      2\n",
      "5.0       1\n",
      "11.0      1\n",
      "22.0      1\n",
      "9.0       1\n",
      "Name: count, dtype: int64\n"
     ]
    }
   ],
   "source": [
    "ver_datos(df, 'Causa_2_Tx_Hepático_', True)"
   ]
  },
  {
   "cell_type": "markdown",
   "id": "4f77343c",
   "metadata": {},
   "source": [
    "### Hepatocarcinoma"
   ]
  },
  {
   "cell_type": "code",
   "execution_count": 563,
   "id": "2496c986",
   "metadata": {},
   "outputs": [
    {
     "name": "stdout",
     "output_type": "stream",
     "text": [
      "count    730.000000\n",
      "mean       0.236986\n",
      "std        0.425525\n",
      "min        0.000000\n",
      "25%        0.000000\n",
      "50%        0.000000\n",
      "75%        0.000000\n",
      "max        1.000000\n",
      "Name: Hepatocarcinoma, dtype: float64\n",
      "--------------------\n",
      "Número de datos nulos: 6\n",
      "--------------------\n",
      "Hepatocarcinoma\n",
      "0.0    557\n",
      "1.0    173\n",
      "NaN      6\n",
      "Name: count, dtype: int64\n"
     ]
    }
   ],
   "source": [
    "ver_datos(df, 'Hepatocarcinoma', True)"
   ]
  },
  {
   "cell_type": "markdown",
   "id": "bc0b8071",
   "metadata": {},
   "source": [
    "### Child_Pugh_Letra"
   ]
  },
  {
   "cell_type": "code",
   "execution_count": 564,
   "id": "d23426f4",
   "metadata": {},
   "outputs": [
    {
     "name": "stdout",
     "output_type": "stream",
     "text": [
      "count     682\n",
      "unique      8\n",
      "top         B\n",
      "freq      354\n",
      "Name: Child_Pugh_Letra, dtype: object\n",
      "--------------------\n",
      "Número de datos nulos: 54\n",
      "--------------------\n",
      "Child_Pugh_Letra\n",
      "B      354\n",
      "C      168\n",
      "A      128\n",
      "NaN     54\n",
      "2       15\n",
      "3       11\n",
      "1        3\n",
      "0        2\n",
      "B        1\n",
      "Name: count, dtype: int64\n"
     ]
    }
   ],
   "source": [
    "ver_datos(df, 'Child_Pugh_Letra', True)"
   ]
  },
  {
   "cell_type": "code",
   "execution_count": 565,
   "id": "e80df80c",
   "metadata": {},
   "outputs": [],
   "source": [
    "df['Child_Pugh_Letra'] = (\n",
    "    df['Child_Pugh_Letra']\n",
    "    .astype(str).str.strip()   # limpia espacios invisibles que hay en letras\n",
    "    .replace({\n",
    "        'A': '1',\n",
    "        'B': '2',\n",
    "        'C': '3'\n",
    "    })\n",
    ")"
   ]
  },
  {
   "cell_type": "code",
   "execution_count": 566,
   "id": "9b56d025",
   "metadata": {},
   "outputs": [
    {
     "name": "stdout",
     "output_type": "stream",
     "text": [
      "count     736\n",
      "unique      5\n",
      "top         2\n",
      "freq      370\n",
      "Name: Child_Pugh_Letra, dtype: object\n",
      "--------------------\n",
      "Número de datos nulos: 0\n",
      "--------------------\n",
      "Child_Pugh_Letra\n",
      "2      370\n",
      "3      179\n",
      "1      131\n",
      "nan     54\n",
      "0        2\n",
      "Name: count, dtype: int64\n"
     ]
    }
   ],
   "source": [
    "ver_datos(df, 'Child_Pugh_Letra', True)"
   ]
  },
  {
   "cell_type": "markdown",
   "id": "27d1cb69",
   "metadata": {},
   "source": [
    "### MELD_Score"
   ]
  },
  {
   "cell_type": "code",
   "execution_count": 567,
   "id": "3cef31aa",
   "metadata": {},
   "outputs": [
    {
     "name": "stdout",
     "output_type": "stream",
     "text": [
      "count    647.000000\n",
      "mean      16.683153\n",
      "std        6.190231\n",
      "min        0.000000\n",
      "25%       12.000000\n",
      "50%       16.000000\n",
      "75%       22.000000\n",
      "max       57.000000\n",
      "Name: MELD_Score, dtype: float64\n",
      "--------------------\n",
      "Número de datos nulos: 89\n"
     ]
    }
   ],
   "source": [
    "ver_datos(df, 'MELD_Score')"
   ]
  },
  {
   "cell_type": "code",
   "execution_count": 568,
   "id": "510dfb82",
   "metadata": {},
   "outputs": [],
   "source": [
    "df['MELD_Score'] = (\n",
    "    df['MELD_Score']\n",
    "    .replace({\n",
    "        57: 40,\n",
    "        0: np.nan\n",
    "    })\n",
    ")"
   ]
  },
  {
   "cell_type": "code",
   "execution_count": 569,
   "id": "ed240cb7",
   "metadata": {},
   "outputs": [
    {
     "name": "stdout",
     "output_type": "stream",
     "text": [
      "count    645.000000\n",
      "mean      16.708527\n",
      "std        5.991091\n",
      "min        6.000000\n",
      "25%       12.000000\n",
      "50%       16.000000\n",
      "75%       22.000000\n",
      "max       40.000000\n",
      "Name: MELD_Score, dtype: float64\n",
      "--------------------\n",
      "Número de datos nulos: 91\n"
     ]
    }
   ],
   "source": [
    "ver_datos(df, 'MELD_Score')"
   ]
  },
  {
   "cell_type": "markdown",
   "id": "4e560dd7",
   "metadata": {},
   "source": [
    "### Causa_Tx_Renal"
   ]
  },
  {
   "cell_type": "code",
   "execution_count": 570,
   "id": "72854f98",
   "metadata": {},
   "outputs": [
    {
     "name": "stdout",
     "output_type": "stream",
     "text": [
      "count    47.000000\n",
      "mean      2.297872\n",
      "std       3.463567\n",
      "min       0.000000\n",
      "25%       0.000000\n",
      "50%       1.000000\n",
      "75%       3.500000\n",
      "max      20.000000\n",
      "Name: Causa_Tx_Renal, dtype: float64\n",
      "--------------------\n",
      "Número de datos nulos: 689\n",
      "--------------------\n",
      "Causa_Tx_Renal\n",
      "NaN     689\n",
      "0.0      21\n",
      "1.0       6\n",
      "6.0       6\n",
      "3.0       6\n",
      "5.0       4\n",
      "2.0       2\n",
      "4.0       1\n",
      "20.0      1\n",
      "Name: count, dtype: int64\n"
     ]
    }
   ],
   "source": [
    "ver_datos(df, 'Causa_Tx_Renal', True)"
   ]
  },
  {
   "cell_type": "code",
   "execution_count": 571,
   "id": "9605e731",
   "metadata": {},
   "outputs": [],
   "source": [
    "df['Causa_Tx_Renal'] = (\n",
    "    df['Causa_Tx_Renal']\n",
    "    .replace({\n",
    "        0: np.nan,\n",
    "        20: np.nan,\n",
    "    })\n",
    ")"
   ]
  },
  {
   "cell_type": "code",
   "execution_count": 572,
   "id": "f6dbf419",
   "metadata": {},
   "outputs": [
    {
     "name": "stdout",
     "output_type": "stream",
     "text": [
      "count    25.000000\n",
      "mean      3.520000\n",
      "std       1.939072\n",
      "min       1.000000\n",
      "25%       2.000000\n",
      "50%       3.000000\n",
      "75%       5.000000\n",
      "max       6.000000\n",
      "Name: Causa_Tx_Renal, dtype: float64\n",
      "--------------------\n",
      "Número de datos nulos: 711\n",
      "--------------------\n",
      "Causa_Tx_Renal\n",
      "NaN    711\n",
      "1.0      6\n",
      "3.0      6\n",
      "6.0      6\n",
      "5.0      4\n",
      "2.0      2\n",
      "4.0      1\n",
      "Name: count, dtype: int64\n"
     ]
    }
   ],
   "source": [
    "ver_datos(df, 'Causa_Tx_Renal', True)"
   ]
  },
  {
   "cell_type": "markdown",
   "id": "1c4e4ea8",
   "metadata": {},
   "source": [
    "### Peso_Pre_Tx"
   ]
  },
  {
   "cell_type": "code",
   "execution_count": 573,
   "id": "34e83c70",
   "metadata": {},
   "outputs": [
    {
     "name": "stdout",
     "output_type": "stream",
     "text": [
      "count    667.000000\n",
      "mean      67.087106\n",
      "std       15.758395\n",
      "min        4.000000\n",
      "25%       57.000000\n",
      "50%       66.000000\n",
      "75%       77.000000\n",
      "max      129.000000\n",
      "Name: Peso_Pre_Tx, dtype: float64\n",
      "--------------------\n",
      "Número de datos nulos: 69\n"
     ]
    }
   ],
   "source": [
    "ver_datos(df, 'Peso_Pre_Tx')"
   ]
  },
  {
   "cell_type": "markdown",
   "id": "b0743fe1",
   "metadata": {},
   "source": [
    "### BMI"
   ]
  },
  {
   "cell_type": "code",
   "execution_count": 574,
   "id": "724ca046",
   "metadata": {},
   "outputs": [
    {
     "name": "stdout",
     "output_type": "stream",
     "text": [
      "count     597\n",
      "unique    207\n",
      "top        28\n",
      "freq       22\n",
      "Name: BMI, dtype: int64\n",
      "--------------------\n",
      "Número de datos nulos: 139\n"
     ]
    }
   ],
   "source": [
    "ver_datos(df, 'BMI')"
   ]
  },
  {
   "cell_type": "code",
   "execution_count": 575,
   "id": "b73fca52",
   "metadata": {},
   "outputs": [],
   "source": [
    "df['BMI'] = (\n",
    "    df['BMI']\n",
    "    .replace({\n",
    "        '%PESO/TALLA:NO SE CALCULA POR LA PRESENCIA DE EDEMA Y ASCITIS PERO ESTÀ POR DEBAJO DEL 86% CON DEFICIT DE MÀS DEL 14%': np.nan,\n",
    "        0: np.nan,\n",
    "    })\n",
    ")"
   ]
  },
  {
   "cell_type": "code",
   "execution_count": 576,
   "id": "ba7954f2",
   "metadata": {},
   "outputs": [],
   "source": [
    "limpiar_numericas(df,'BMI')"
   ]
  },
  {
   "cell_type": "code",
   "execution_count": 577,
   "id": "24584f88",
   "metadata": {},
   "outputs": [
    {
     "name": "stdout",
     "output_type": "stream",
     "text": [
      "count    594.000000\n",
      "mean      25.262449\n",
      "std        4.548209\n",
      "min       13.200000\n",
      "25%       22.000000\n",
      "50%       24.950000\n",
      "75%       28.075000\n",
      "max       42.000000\n",
      "Name: BMI, dtype: float64\n",
      "--------------------\n",
      "Número de datos nulos: 142\n"
     ]
    }
   ],
   "source": [
    "ver_datos(df, 'BMI')"
   ]
  },
  {
   "cell_type": "markdown",
   "id": "57bb71f1",
   "metadata": {},
   "source": [
    "### Composición_Corporal (Podemos dejar este o el BMI, solo que este está categorizado)"
   ]
  },
  {
   "cell_type": "code",
   "execution_count": 578,
   "id": "d327c452",
   "metadata": {},
   "outputs": [
    {
     "name": "stdout",
     "output_type": "stream",
     "text": [
      "count    609.000000\n",
      "mean       1.559934\n",
      "std        0.905087\n",
      "min        0.000000\n",
      "25%        1.000000\n",
      "50%        1.000000\n",
      "75%        2.000000\n",
      "max        5.000000\n",
      "Name: Composición_Corporal, dtype: float64\n",
      "--------------------\n",
      "Número de datos nulos: 127\n",
      "--------------------\n",
      "Composición_Corporal\n",
      "1.0    260\n",
      "2.0    208\n",
      "NaN    127\n",
      "3.0     71\n",
      "0.0     55\n",
      "4.0     14\n",
      "5.0      1\n",
      "Name: count, dtype: int64\n"
     ]
    }
   ],
   "source": [
    "ver_datos(df, 'Composición_Corporal', True)"
   ]
  },
  {
   "cell_type": "code",
   "execution_count": 579,
   "id": "8fd3e95a",
   "metadata": {},
   "outputs": [],
   "source": [
    "def clasificar_bmi(bmi):\n",
    "    if pd.isna(bmi):\n",
    "        return np.nan\n",
    "    elif bmi < 18.5:\n",
    "        return 0\n",
    "    elif bmi < 25:\n",
    "        return 1\n",
    "    elif bmi < 30:\n",
    "        return 2\n",
    "    elif bmi < 35:\n",
    "        return 3\n",
    "    elif bmi < 40:\n",
    "        return 4\n",
    "    else:\n",
    "        return 5"
   ]
  },
  {
   "cell_type": "code",
   "execution_count": 580,
   "id": "3c67b088",
   "metadata": {},
   "outputs": [],
   "source": [
    "calculated_BMI = df['BMI'].apply(clasificar_bmi)\n",
    "df.loc[df['Composición_Corporal'].isna() & df['BMI'].notna(), 'Composición_Corporal'] = calculated_BMI"
   ]
  },
  {
   "cell_type": "code",
   "execution_count": 581,
   "id": "87b646e5",
   "metadata": {},
   "outputs": [
    {
     "name": "stdout",
     "output_type": "stream",
     "text": [
      "count    619.000000\n",
      "mean       1.563813\n",
      "std        0.903275\n",
      "min        0.000000\n",
      "25%        1.000000\n",
      "50%        1.000000\n",
      "75%        2.000000\n",
      "max        5.000000\n",
      "Name: Composición_Corporal, dtype: float64\n",
      "--------------------\n",
      "Número de datos nulos: 117\n",
      "--------------------\n",
      "Composición_Corporal\n",
      "1.0    264\n",
      "2.0    212\n",
      "NaN    117\n",
      "3.0     73\n",
      "0.0     55\n",
      "4.0     14\n",
      "5.0      1\n",
      "Name: count, dtype: int64\n"
     ]
    }
   ],
   "source": [
    "ver_datos(df, 'Composición_Corporal', True)"
   ]
  },
  {
   "cell_type": "markdown",
   "id": "bf696ee1",
   "metadata": {},
   "source": [
    "### Falla_Cardiaca_Pre_Tx"
   ]
  },
  {
   "cell_type": "code",
   "execution_count": 582,
   "id": "13a58c4d",
   "metadata": {},
   "outputs": [
    {
     "name": "stdout",
     "output_type": "stream",
     "text": [
      "count     654\n",
      "unique      3\n",
      "top         0\n",
      "freq      645\n",
      "Name: Falla_Cardiaca_Pre_Tx, dtype: int64\n",
      "--------------------\n",
      "Número de datos nulos: 82\n",
      "--------------------\n",
      "Falla_Cardiaca_Pre_Tx\n",
      "0               645\n",
      "NaN              82\n",
      "1                 8\n",
      "PERICARDITIS      1\n",
      "Name: count, dtype: int64\n"
     ]
    }
   ],
   "source": [
    "ver_datos(df, 'Falla_Cardiaca_Pre_Tx', True)"
   ]
  },
  {
   "cell_type": "code",
   "execution_count": 583,
   "id": "860067e4",
   "metadata": {},
   "outputs": [
    {
     "name": "stderr",
     "output_type": "stream",
     "text": [
      "C:\\Users\\jmriv\\AppData\\Local\\Temp\\ipykernel_22692\\753072673.py:3: FutureWarning: Downcasting behavior in `replace` is deprecated and will be removed in a future version. To retain the old behavior, explicitly call `result.infer_objects(copy=False)`. To opt-in to the future behavior, set `pd.set_option('future.no_silent_downcasting', True)`\n",
      "  .replace({\n"
     ]
    }
   ],
   "source": [
    "df['Falla_Cardiaca_Pre_Tx'] = (\n",
    "    df['Falla_Cardiaca_Pre_Tx']\n",
    "    .replace({\n",
    "        'PERICARDITIS': 0,\n",
    "    })\n",
    ")"
   ]
  },
  {
   "cell_type": "code",
   "execution_count": 584,
   "id": "7cdae1a0",
   "metadata": {},
   "outputs": [
    {
     "name": "stdout",
     "output_type": "stream",
     "text": [
      "count    654.000000\n",
      "mean       0.012232\n",
      "std        0.110006\n",
      "min        0.000000\n",
      "25%        0.000000\n",
      "50%        0.000000\n",
      "75%        0.000000\n",
      "max        1.000000\n",
      "Name: Falla_Cardiaca_Pre_Tx, dtype: float64\n",
      "--------------------\n",
      "Número de datos nulos: 82\n",
      "--------------------\n",
      "Falla_Cardiaca_Pre_Tx\n",
      "0.0    646\n",
      "NaN     82\n",
      "1.0      8\n",
      "Name: count, dtype: int64\n"
     ]
    }
   ],
   "source": [
    "ver_datos(df, 'Falla_Cardiaca_Pre_Tx', True)"
   ]
  },
  {
   "cell_type": "markdown",
   "id": "28ffdefe",
   "metadata": {},
   "source": [
    "### Antecedente_De_Tabaquismo"
   ]
  },
  {
   "cell_type": "code",
   "execution_count": 585,
   "id": "acefaae3",
   "metadata": {},
   "outputs": [
    {
     "name": "stdout",
     "output_type": "stream",
     "text": [
      "count    657.000000\n",
      "mean       0.302892\n",
      "std        0.459859\n",
      "min        0.000000\n",
      "25%        0.000000\n",
      "50%        0.000000\n",
      "75%        1.000000\n",
      "max        1.000000\n",
      "Name: Antecedente_De_Tabaquismo, dtype: float64\n",
      "--------------------\n",
      "Número de datos nulos: 79\n",
      "--------------------\n",
      "Antecedente_De_Tabaquismo\n",
      "0.0    458\n",
      "1.0    199\n",
      "NaN     79\n",
      "Name: count, dtype: int64\n"
     ]
    }
   ],
   "source": [
    "ver_datos(df, 'Antecedente_De_Tabaquismo', True)"
   ]
  },
  {
   "cell_type": "markdown",
   "id": "45fe00da",
   "metadata": {},
   "source": [
    "### Antecedente_De_Alcoholismo"
   ]
  },
  {
   "cell_type": "code",
   "execution_count": 586,
   "id": "f47674d8",
   "metadata": {},
   "outputs": [
    {
     "name": "stdout",
     "output_type": "stream",
     "text": [
      "count    654.000000\n",
      "mean       0.354740\n",
      "std        0.478801\n",
      "min        0.000000\n",
      "25%        0.000000\n",
      "50%        0.000000\n",
      "75%        1.000000\n",
      "max        1.000000\n",
      "Name: Antecedente_De_Alcoholismo, dtype: float64\n",
      "--------------------\n",
      "Número de datos nulos: 82\n",
      "--------------------\n",
      "Antecedente_De_Alcoholismo\n",
      "0.0    422\n",
      "1.0    232\n",
      "NaN     82\n",
      "Name: count, dtype: int64\n"
     ]
    }
   ],
   "source": [
    "ver_datos(df, 'Antecedente_De_Alcoholismo', True)"
   ]
  },
  {
   "cell_type": "markdown",
   "id": "2c9a52ad",
   "metadata": {},
   "source": [
    "### Enfermedad_Coronaria_Pre_Tx"
   ]
  },
  {
   "cell_type": "code",
   "execution_count": 587,
   "id": "b1fb8e96",
   "metadata": {},
   "outputs": [
    {
     "name": "stdout",
     "output_type": "stream",
     "text": [
      "count     655\n",
      "unique      4\n",
      "top         0\n",
      "freq      623\n",
      "Name: Enfermedad_Coronaria_Pre_Tx, dtype: int64\n",
      "--------------------\n",
      "Número de datos nulos: 81\n",
      "--------------------\n",
      "Enfermedad_Coronaria_Pre_Tx\n",
      "0                   623\n",
      "NaN                  81\n",
      "1                    30\n",
      "ANGINA ESTABLE        1\n",
      "ANGINA INESTABLE      1\n",
      "Name: count, dtype: int64\n"
     ]
    }
   ],
   "source": [
    "ver_datos(df, 'Enfermedad_Coronaria_Pre_Tx', True)"
   ]
  },
  {
   "cell_type": "code",
   "execution_count": 588,
   "id": "440fb635",
   "metadata": {},
   "outputs": [
    {
     "name": "stderr",
     "output_type": "stream",
     "text": [
      "C:\\Users\\jmriv\\AppData\\Local\\Temp\\ipykernel_22692\\1616243419.py:3: FutureWarning: Downcasting behavior in `replace` is deprecated and will be removed in a future version. To retain the old behavior, explicitly call `result.infer_objects(copy=False)`. To opt-in to the future behavior, set `pd.set_option('future.no_silent_downcasting', True)`\n",
      "  .replace({\n"
     ]
    }
   ],
   "source": [
    "df['Enfermedad_Coronaria_Pre_Tx'] = (\n",
    "    df['Enfermedad_Coronaria_Pre_Tx']\n",
    "    .replace({\n",
    "        'ANGINA ESTABLE': 1,\n",
    "        'ANGINA INESTABLE': 1,\n",
    "    })\n",
    ")"
   ]
  },
  {
   "cell_type": "code",
   "execution_count": 589,
   "id": "2f181eb3",
   "metadata": {},
   "outputs": [
    {
     "name": "stdout",
     "output_type": "stream",
     "text": [
      "count    655.000000\n",
      "mean       0.048855\n",
      "std        0.215729\n",
      "min        0.000000\n",
      "25%        0.000000\n",
      "50%        0.000000\n",
      "75%        0.000000\n",
      "max        1.000000\n",
      "Name: Enfermedad_Coronaria_Pre_Tx, dtype: float64\n",
      "--------------------\n",
      "Número de datos nulos: 81\n",
      "--------------------\n",
      "Enfermedad_Coronaria_Pre_Tx\n",
      "0.0    623\n",
      "NaN     81\n",
      "1.0     32\n",
      "Name: count, dtype: int64\n"
     ]
    }
   ],
   "source": [
    "ver_datos(df, 'Enfermedad_Coronaria_Pre_Tx', True)"
   ]
  },
  {
   "cell_type": "markdown",
   "id": "cd7db0c2",
   "metadata": {},
   "source": [
    "### Infarto_Cardiaco_Pre_Tx"
   ]
  },
  {
   "cell_type": "code",
   "execution_count": 590,
   "id": "2f7cd1bd",
   "metadata": {},
   "outputs": [
    {
     "name": "stdout",
     "output_type": "stream",
     "text": [
      "count     653\n",
      "unique      3\n",
      "top         0\n",
      "freq      633\n",
      "Name: Infarto_Cardiaco_Pre_Tx, dtype: int64\n",
      "--------------------\n",
      "Número de datos nulos: 83\n",
      "--------------------\n",
      "Infarto_Cardiaco_Pre_Tx\n",
      "0                            633\n",
      "NaN                           83\n",
      "1                             19\n",
      "BLOQUEO AV CON MARCAPASOS      1\n",
      "Name: count, dtype: int64\n"
     ]
    }
   ],
   "source": [
    "ver_datos(df, 'Infarto_Cardiaco_Pre_Tx', True)"
   ]
  },
  {
   "cell_type": "code",
   "execution_count": 591,
   "id": "22a1eb52",
   "metadata": {},
   "outputs": [
    {
     "name": "stderr",
     "output_type": "stream",
     "text": [
      "C:\\Users\\jmriv\\AppData\\Local\\Temp\\ipykernel_22692\\960486950.py:3: FutureWarning: Downcasting behavior in `replace` is deprecated and will be removed in a future version. To retain the old behavior, explicitly call `result.infer_objects(copy=False)`. To opt-in to the future behavior, set `pd.set_option('future.no_silent_downcasting', True)`\n",
      "  .replace({\n"
     ]
    }
   ],
   "source": [
    "df['Infarto_Cardiaco_Pre_Tx'] = (\n",
    "    df['Infarto_Cardiaco_Pre_Tx']\n",
    "    .replace({\n",
    "        'BLOQUEO AV CON MARCAPASOS': 0,\n",
    "    })\n",
    ")"
   ]
  },
  {
   "cell_type": "code",
   "execution_count": 592,
   "id": "72c54d1a",
   "metadata": {},
   "outputs": [
    {
     "name": "stdout",
     "output_type": "stream",
     "text": [
      "count    653.000000\n",
      "mean       0.029096\n",
      "std        0.168206\n",
      "min        0.000000\n",
      "25%        0.000000\n",
      "50%        0.000000\n",
      "75%        0.000000\n",
      "max        1.000000\n",
      "Name: Infarto_Cardiaco_Pre_Tx, dtype: float64\n",
      "--------------------\n",
      "Número de datos nulos: 83\n",
      "--------------------\n",
      "Infarto_Cardiaco_Pre_Tx\n",
      "0.0    634\n",
      "NaN     83\n",
      "1.0     19\n",
      "Name: count, dtype: int64\n"
     ]
    }
   ],
   "source": [
    "ver_datos(df, 'Infarto_Cardiaco_Pre_Tx', True)"
   ]
  },
  {
   "cell_type": "markdown",
   "id": "2eacfce2",
   "metadata": {},
   "source": [
    "### Diabetes_Mellitus_Pre_Tx"
   ]
  },
  {
   "cell_type": "code",
   "execution_count": 593,
   "id": "99602343",
   "metadata": {},
   "outputs": [
    {
     "name": "stdout",
     "output_type": "stream",
     "text": [
      "count     653\n",
      "unique      4\n",
      "top         0\n",
      "freq      463\n",
      "Name: Diabetes_Mellitus_Pre_Tx, dtype: int64\n",
      "--------------------\n",
      "Número de datos nulos: 83\n",
      "--------------------\n",
      "Diabetes_Mellitus_Pre_Tx\n",
      "0      463\n",
      "1      188\n",
      "NaN     83\n",
      "2        1\n",
      "O        1\n",
      "Name: count, dtype: int64\n"
     ]
    }
   ],
   "source": [
    "ver_datos(df, 'Diabetes_Mellitus_Pre_Tx', True)"
   ]
  },
  {
   "cell_type": "code",
   "execution_count": 594,
   "id": "672d76bd",
   "metadata": {},
   "outputs": [
    {
     "name": "stderr",
     "output_type": "stream",
     "text": [
      "C:\\Users\\jmriv\\AppData\\Local\\Temp\\ipykernel_22692\\792571815.py:3: FutureWarning: Downcasting behavior in `replace` is deprecated and will be removed in a future version. To retain the old behavior, explicitly call `result.infer_objects(copy=False)`. To opt-in to the future behavior, set `pd.set_option('future.no_silent_downcasting', True)`\n",
      "  .replace({\n"
     ]
    }
   ],
   "source": [
    "df['Diabetes_Mellitus_Pre_Tx'] = (\n",
    "    df['Diabetes_Mellitus_Pre_Tx']\n",
    "    .replace({\n",
    "        'O': 0,\n",
    "        2:np.nan\n",
    "    })\n",
    ")"
   ]
  },
  {
   "cell_type": "code",
   "execution_count": 595,
   "id": "f0977561",
   "metadata": {},
   "outputs": [
    {
     "name": "stdout",
     "output_type": "stream",
     "text": [
      "count    652.000000\n",
      "mean       0.288344\n",
      "std        0.453340\n",
      "min        0.000000\n",
      "25%        0.000000\n",
      "50%        0.000000\n",
      "75%        1.000000\n",
      "max        1.000000\n",
      "Name: Diabetes_Mellitus_Pre_Tx, dtype: float64\n",
      "--------------------\n",
      "Número de datos nulos: 84\n",
      "--------------------\n",
      "Diabetes_Mellitus_Pre_Tx\n",
      "0.0    464\n",
      "1.0    188\n",
      "NaN     84\n",
      "Name: count, dtype: int64\n"
     ]
    }
   ],
   "source": [
    "ver_datos(df, 'Diabetes_Mellitus_Pre_Tx', True)"
   ]
  },
  {
   "cell_type": "markdown",
   "id": "f9119ad4",
   "metadata": {},
   "source": [
    "### Hipertensión_Arterial_Pre_Tx"
   ]
  },
  {
   "cell_type": "code",
   "execution_count": 596,
   "id": "8b9d7540",
   "metadata": {},
   "outputs": [
    {
     "name": "stdout",
     "output_type": "stream",
     "text": [
      "count     653\n",
      "unique      3\n",
      "top         0\n",
      "freq      493\n",
      "Name: Hipertensión_Arterial_Pre_Tx, dtype: int64\n",
      "--------------------\n",
      "Número de datos nulos: 83\n",
      "--------------------\n",
      "Hipertensión_Arterial_Pre_Tx\n",
      "0      493\n",
      "1      159\n",
      "NaN     83\n",
      "O        1\n",
      "Name: count, dtype: int64\n"
     ]
    }
   ],
   "source": [
    "ver_datos(df, 'Hipertensión_Arterial_Pre_Tx', True)"
   ]
  },
  {
   "cell_type": "code",
   "execution_count": 597,
   "id": "a57ac1df",
   "metadata": {},
   "outputs": [
    {
     "name": "stderr",
     "output_type": "stream",
     "text": [
      "C:\\Users\\jmriv\\AppData\\Local\\Temp\\ipykernel_22692\\1352510790.py:3: FutureWarning: Downcasting behavior in `replace` is deprecated and will be removed in a future version. To retain the old behavior, explicitly call `result.infer_objects(copy=False)`. To opt-in to the future behavior, set `pd.set_option('future.no_silent_downcasting', True)`\n",
      "  .replace({\n"
     ]
    }
   ],
   "source": [
    "df['Hipertensión_Arterial_Pre_Tx'] = (\n",
    "    df['Hipertensión_Arterial_Pre_Tx']\n",
    "    .replace({\n",
    "        'O': 0\n",
    "    })\n",
    ")"
   ]
  },
  {
   "cell_type": "code",
   "execution_count": 598,
   "id": "3063e8af",
   "metadata": {},
   "outputs": [
    {
     "name": "stdout",
     "output_type": "stream",
     "text": [
      "count    653.000000\n",
      "mean       0.243492\n",
      "std        0.429518\n",
      "min        0.000000\n",
      "25%        0.000000\n",
      "50%        0.000000\n",
      "75%        0.000000\n",
      "max        1.000000\n",
      "Name: Hipertensión_Arterial_Pre_Tx, dtype: float64\n",
      "--------------------\n",
      "Número de datos nulos: 83\n",
      "--------------------\n",
      "Hipertensión_Arterial_Pre_Tx\n",
      "0.0    494\n",
      "1.0    159\n",
      "NaN     83\n",
      "Name: count, dtype: int64\n"
     ]
    }
   ],
   "source": [
    "ver_datos(df, 'Hipertensión_Arterial_Pre_Tx', True)"
   ]
  },
  {
   "cell_type": "markdown",
   "id": "521ac61a",
   "metadata": {},
   "source": [
    "### Colesterol_TotalPre_Tx"
   ]
  },
  {
   "cell_type": "code",
   "execution_count": 599,
   "id": "a681dac2",
   "metadata": {},
   "outputs": [
    {
     "name": "stdout",
     "output_type": "stream",
     "text": [
      "count     550\n",
      "unique    233\n",
      "top       159\n",
      "freq        9\n",
      "Name: Colesterol_TotalPre_Tx, dtype: int64\n",
      "--------------------\n",
      "Número de datos nulos: 186\n"
     ]
    }
   ],
   "source": [
    "ver_datos(df, 'Colesterol_TotalPre_Tx')"
   ]
  },
  {
   "cell_type": "code",
   "execution_count": 600,
   "id": "29cc8e2b",
   "metadata": {},
   "outputs": [],
   "source": [
    "df['Colesterol_TotalPre_Tx'] = (\n",
    "    df['Colesterol_TotalPre_Tx']\n",
    "    .replace({\n",
    "        0: np.nan,\n",
    "        '>200':np.nan\n",
    "    })\n",
    ")"
   ]
  },
  {
   "cell_type": "code",
   "execution_count": 601,
   "id": "38654e19",
   "metadata": {},
   "outputs": [],
   "source": [
    "limpiar_numericas(df,'Colesterol_TotalPre_Tx')"
   ]
  },
  {
   "cell_type": "code",
   "execution_count": 602,
   "id": "9177d209",
   "metadata": {},
   "outputs": [
    {
     "name": "stdout",
     "output_type": "stream",
     "text": [
      "count     545.000000\n",
      "mean      175.884220\n",
      "std       102.146972\n",
      "min        24.000000\n",
      "25%       124.000000\n",
      "50%       161.000000\n",
      "75%       196.000000\n",
      "max      1113.000000\n",
      "Name: Colesterol_TotalPre_Tx, dtype: float64\n",
      "--------------------\n",
      "Número de datos nulos: 191\n"
     ]
    }
   ],
   "source": [
    "ver_datos(df, 'Colesterol_TotalPre_Tx')"
   ]
  },
  {
   "cell_type": "markdown",
   "id": "48a2f3d3",
   "metadata": {},
   "source": [
    "### LDL_Pre_Tx"
   ]
  },
  {
   "cell_type": "code",
   "execution_count": 603,
   "id": "f0ed72d5",
   "metadata": {},
   "outputs": [
    {
     "name": "stdout",
     "output_type": "stream",
     "text": [
      "count    455.000000\n",
      "mean     110.007143\n",
      "std       78.812600\n",
      "min        0.000000\n",
      "25%       66.300000\n",
      "50%       96.300000\n",
      "75%      131.000000\n",
      "max      893.000000\n",
      "Name: LDL_Pre_Tx, dtype: float64\n",
      "--------------------\n",
      "Número de datos nulos: 281\n"
     ]
    }
   ],
   "source": [
    "ver_datos(df, 'LDL_Pre_Tx')"
   ]
  },
  {
   "cell_type": "code",
   "execution_count": 604,
   "id": "93e82398",
   "metadata": {},
   "outputs": [],
   "source": [
    "df['LDL_Pre_Tx'] = (\n",
    "    df['LDL_Pre_Tx']\n",
    "    .replace({\n",
    "        0: np.nan\n",
    "    })\n",
    ")"
   ]
  },
  {
   "cell_type": "code",
   "execution_count": 605,
   "id": "92de22ea",
   "metadata": {},
   "outputs": [
    {
     "name": "stdout",
     "output_type": "stream",
     "text": [
      "count    452.000000\n",
      "mean     110.737279\n",
      "std       78.560239\n",
      "min       11.000000\n",
      "25%       68.000000\n",
      "50%       97.100000\n",
      "75%      131.000000\n",
      "max      893.000000\n",
      "Name: LDL_Pre_Tx, dtype: float64\n",
      "--------------------\n",
      "Número de datos nulos: 284\n"
     ]
    }
   ],
   "source": [
    "ver_datos(df, 'LDL_Pre_Tx')"
   ]
  },
  {
   "cell_type": "markdown",
   "id": "3eb28ef0",
   "metadata": {},
   "source": [
    "### HDL_Pre_Tx"
   ]
  },
  {
   "cell_type": "code",
   "execution_count": 606,
   "id": "a3460548",
   "metadata": {},
   "outputs": [
    {
     "name": "stdout",
     "output_type": "stream",
     "text": [
      "count    464.000000\n",
      "mean      41.768707\n",
      "std       26.200961\n",
      "min        0.000000\n",
      "25%       28.000000\n",
      "50%       39.400000\n",
      "75%       52.700000\n",
      "max      365.000000\n",
      "Name: HDL_Pre_Tx, dtype: float64\n",
      "--------------------\n",
      "Número de datos nulos: 272\n"
     ]
    }
   ],
   "source": [
    "ver_datos(df, 'HDL_Pre_Tx')"
   ]
  },
  {
   "cell_type": "code",
   "execution_count": 607,
   "id": "d809f5cb",
   "metadata": {},
   "outputs": [],
   "source": [
    "df['HDL_Pre_Tx'] = (\n",
    "    df['HDL_Pre_Tx']\n",
    "    .replace({\n",
    "        0: np.nan\n",
    "    })\n",
    ")"
   ]
  },
  {
   "cell_type": "markdown",
   "id": "ff19524a",
   "metadata": {},
   "source": [
    "### Triglicéridos_Pre_Tx"
   ]
  },
  {
   "cell_type": "code",
   "execution_count": 608,
   "id": "f4fc834c",
   "metadata": {},
   "outputs": [
    {
     "name": "stdout",
     "output_type": "stream",
     "text": [
      "count     488\n",
      "unique    175\n",
      "top        84\n",
      "freq       10\n",
      "Name: Triglicéridos_Pre_Tx, dtype: int64\n",
      "--------------------\n",
      "Número de datos nulos: 248\n"
     ]
    }
   ],
   "source": [
    "ver_datos(df, 'Triglicéridos_Pre_Tx')"
   ]
  },
  {
   "cell_type": "code",
   "execution_count": 609,
   "id": "a1e88b0f",
   "metadata": {},
   "outputs": [],
   "source": [
    "limpiar_numericas(df,'Triglicéridos_Pre_Tx')"
   ]
  },
  {
   "cell_type": "code",
   "execution_count": 610,
   "id": "e4ce60da",
   "metadata": {},
   "outputs": [],
   "source": [
    "df['Triglicéridos_Pre_Tx'] = (\n",
    "    df['Triglicéridos_Pre_Tx']\n",
    "    .replace({\n",
    "        0: np.nan\n",
    "    })\n",
    ")"
   ]
  },
  {
   "cell_type": "code",
   "execution_count": 611,
   "id": "edb3b0e9",
   "metadata": {},
   "outputs": [
    {
     "name": "stdout",
     "output_type": "stream",
     "text": [
      "count     486.000000\n",
      "mean      111.400000\n",
      "std       106.369766\n",
      "min        14.000000\n",
      "25%        67.000000\n",
      "50%        91.000000\n",
      "75%       126.000000\n",
      "max      1444.000000\n",
      "Name: Triglicéridos_Pre_Tx, dtype: float64\n",
      "--------------------\n",
      "Número de datos nulos: 250\n"
     ]
    }
   ],
   "source": [
    "ver_datos(df, 'Triglicéridos_Pre_Tx')"
   ]
  },
  {
   "cell_type": "markdown",
   "id": "88778d0c",
   "metadata": {},
   "source": [
    "### Dislipidemia_Pre_Tx"
   ]
  },
  {
   "cell_type": "code",
   "execution_count": 612,
   "id": "dabef1bf",
   "metadata": {},
   "outputs": [
    {
     "name": "stdout",
     "output_type": "stream",
     "text": [
      "count    630.000000\n",
      "mean       1.153968\n",
      "std       12.806997\n",
      "min        0.000000\n",
      "25%        0.000000\n",
      "50%        0.000000\n",
      "75%        0.000000\n",
      "max      258.000000\n",
      "Name: Dislipidemia_Pre_Tx, dtype: float64\n",
      "--------------------\n",
      "Número de datos nulos: 106\n",
      "--------------------\n",
      "Dislipidemia_Pre_Tx\n",
      "0.0      488\n",
      "1.0      108\n",
      "NaN      106\n",
      "3.0       15\n",
      "4.0       13\n",
      "2.0        3\n",
      "258.0      1\n",
      "86.0       1\n",
      "172.0      1\n",
      "Name: count, dtype: int64\n"
     ]
    }
   ],
   "source": [
    "ver_datos(df, 'Dislipidemia_Pre_Tx', True)"
   ]
  },
  {
   "cell_type": "code",
   "execution_count": 613,
   "id": "9c9aa4e9",
   "metadata": {},
   "outputs": [],
   "source": [
    "df['Dislipidemia_Pre_Tx'] = (\n",
    "    df['Dislipidemia_Pre_Tx']\n",
    "    .replace(\n",
    "        [258, 86, 172], 0\n",
    "    )\n",
    ")"
   ]
  },
  {
   "cell_type": "code",
   "execution_count": 614,
   "id": "bcf6e52e",
   "metadata": {},
   "outputs": [
    {
     "name": "stdout",
     "output_type": "stream",
     "text": [
      "count    630.000000\n",
      "mean       0.334921\n",
      "std        0.789771\n",
      "min        0.000000\n",
      "25%        0.000000\n",
      "50%        0.000000\n",
      "75%        0.000000\n",
      "max        4.000000\n",
      "Name: Dislipidemia_Pre_Tx, dtype: float64\n",
      "--------------------\n",
      "Número de datos nulos: 106\n",
      "--------------------\n",
      "Dislipidemia_Pre_Tx\n",
      "0.0    491\n",
      "1.0    108\n",
      "NaN    106\n",
      "3.0     15\n",
      "4.0     13\n",
      "2.0      3\n",
      "Name: count, dtype: int64\n"
     ]
    }
   ],
   "source": [
    "ver_datos(df, 'Dislipidemia_Pre_Tx', True)"
   ]
  },
  {
   "cell_type": "markdown",
   "id": "90bfaf32",
   "metadata": {},
   "source": [
    "### MDRD_Categórico_PreTx"
   ]
  },
  {
   "cell_type": "code",
   "execution_count": 615,
   "id": "89c48c4c",
   "metadata": {},
   "outputs": [
    {
     "name": "stdout",
     "output_type": "stream",
     "text": [
      "count    575.000000\n",
      "mean       0.621896\n",
      "std        1.134050\n",
      "min        0.000000\n",
      "25%        0.000000\n",
      "50%        0.000000\n",
      "75%        1.000000\n",
      "max       18.590000\n",
      "Name: MDRD_Categórico_PreTx, dtype: float64\n",
      "--------------------\n",
      "Número de datos nulos: 161\n",
      "--------------------\n",
      "MDRD_Categórico_PreTx\n",
      "0.00     341\n",
      "NaN      161\n",
      "1.00     151\n",
      "2.00      66\n",
      "4.00       8\n",
      "3.00       8\n",
      "18.59      1\n",
      "Name: count, dtype: int64\n"
     ]
    }
   ],
   "source": [
    "ver_datos(df, 'MDRD_Categórico_PreTx', True)"
   ]
  },
  {
   "cell_type": "code",
   "execution_count": 616,
   "id": "a84dbd26",
   "metadata": {},
   "outputs": [],
   "source": [
    "df['MDRD_Categórico_PreTx'] = (\n",
    "    df['MDRD_Categórico_PreTx']\n",
    "    .replace(\n",
    "        [18.59], 3\n",
    "    )\n",
    ")"
   ]
  },
  {
   "cell_type": "code",
   "execution_count": 617,
   "id": "97052151",
   "metadata": {},
   "outputs": [
    {
     "name": "stdout",
     "output_type": "stream",
     "text": [
      "count    575.000000\n",
      "mean       0.594783\n",
      "std        0.855994\n",
      "min        0.000000\n",
      "25%        0.000000\n",
      "50%        0.000000\n",
      "75%        1.000000\n",
      "max        4.000000\n",
      "Name: MDRD_Categórico_PreTx, dtype: float64\n",
      "--------------------\n",
      "Número de datos nulos: 161\n",
      "--------------------\n",
      "MDRD_Categórico_PreTx\n",
      "0.0    341\n",
      "NaN    161\n",
      "1.0    151\n",
      "2.0     66\n",
      "3.0      9\n",
      "4.0      8\n",
      "Name: count, dtype: int64\n"
     ]
    }
   ],
   "source": [
    "ver_datos(df, 'MDRD_Categórico_PreTx', True)"
   ]
  },
  {
   "cell_type": "markdown",
   "id": "4468df37",
   "metadata": {},
   "source": [
    "### CMV_Receptor"
   ]
  },
  {
   "cell_type": "code",
   "execution_count": 618,
   "id": "c9b7054f",
   "metadata": {},
   "outputs": [
    {
     "name": "stdout",
     "output_type": "stream",
     "text": [
      "count    643.000000\n",
      "mean       0.962675\n",
      "std        0.189705\n",
      "min        0.000000\n",
      "25%        1.000000\n",
      "50%        1.000000\n",
      "75%        1.000000\n",
      "max        1.000000\n",
      "Name: CMV_Receptor, dtype: float64\n",
      "--------------------\n",
      "Número de datos nulos: 93\n",
      "--------------------\n",
      "CMV_Receptor\n",
      "1.0    619\n",
      "NaN     93\n",
      "0.0     24\n",
      "Name: count, dtype: int64\n"
     ]
    }
   ],
   "source": [
    "ver_datos(df, 'CMV_Receptor', True)"
   ]
  },
  {
   "cell_type": "markdown",
   "id": "82e90500",
   "metadata": {},
   "source": [
    "### EKG_PreQx"
   ]
  },
  {
   "cell_type": "code",
   "execution_count": 619,
   "id": "efe86e87",
   "metadata": {},
   "outputs": [
    {
     "name": "stdout",
     "output_type": "stream",
     "text": [
      "count     583\n",
      "unique     15\n",
      "top         0\n",
      "freq      435\n",
      "Name: EKG_PreQx, dtype: int64\n",
      "--------------------\n",
      "Número de datos nulos: 153\n",
      "--------------------\n",
      "EKG_PreQx\n",
      "0        435\n",
      "NaN      153\n",
      "2         42\n",
      "1         34\n",
      "6         23\n",
      "5         17\n",
      "8         10\n",
      "3          5\n",
      "7          4\n",
      "9          4\n",
      "P          2\n",
      "?          2\n",
      "10         2\n",
      "3 - 4      1\n",
      "4          1\n",
      "nv         1\n",
      "Name: count, dtype: int64\n"
     ]
    }
   ],
   "source": [
    "ver_datos(df, 'EKG_PreQx', True)"
   ]
  },
  {
   "cell_type": "code",
   "execution_count": 620,
   "id": "65ccc7dd",
   "metadata": {},
   "outputs": [
    {
     "name": "stderr",
     "output_type": "stream",
     "text": [
      "C:\\Users\\jmriv\\AppData\\Local\\Temp\\ipykernel_22692\\3695801232.py:3: FutureWarning: Downcasting behavior in `replace` is deprecated and will be removed in a future version. To retain the old behavior, explicitly call `result.infer_objects(copy=False)`. To opt-in to the future behavior, set `pd.set_option('future.no_silent_downcasting', True)`\n",
      "  .replace({\n"
     ]
    }
   ],
   "source": [
    "df['EKG_PreQx'] = (\n",
    "    df['EKG_PreQx']\n",
    "    .replace({\n",
    "        '?': np.nan,\n",
    "        'P': np.nan,\n",
    "        10: np.nan,\n",
    "        'nv': np.nan,\n",
    "        '3 - 4':3\n",
    "    })\n",
    ")"
   ]
  },
  {
   "cell_type": "code",
   "execution_count": 621,
   "id": "70d9f89c",
   "metadata": {},
   "outputs": [
    {
     "name": "stdout",
     "output_type": "stream",
     "text": [
      "count    576.000000\n",
      "mean       0.880208\n",
      "std        1.973183\n",
      "min        0.000000\n",
      "25%        0.000000\n",
      "50%        0.000000\n",
      "75%        0.000000\n",
      "max        9.000000\n",
      "Name: EKG_PreQx, dtype: float64\n",
      "--------------------\n",
      "Número de datos nulos: 160\n",
      "--------------------\n",
      "EKG_PreQx\n",
      "0.0    435\n",
      "NaN    160\n",
      "2.0     42\n",
      "1.0     34\n",
      "6.0     23\n",
      "5.0     17\n",
      "8.0     10\n",
      "3.0      6\n",
      "9.0      4\n",
      "7.0      4\n",
      "4.0      1\n",
      "Name: count, dtype: int64\n"
     ]
    }
   ],
   "source": [
    "ver_datos(df, 'EKG_PreQx', True)"
   ]
  },
  {
   "cell_type": "markdown",
   "id": "1d43dc5e",
   "metadata": {},
   "source": [
    "### EKG_PreQx_Valor"
   ]
  },
  {
   "cell_type": "code",
   "execution_count": 622,
   "id": "9a9885f0",
   "metadata": {},
   "outputs": [
    {
     "name": "stdout",
     "output_type": "stream",
     "text": [
      "count        393\n",
      "unique       111\n",
      "top       NORMAL\n",
      "freq         146\n",
      "Name: EKG_PreQx_Valor, dtype: object\n",
      "--------------------\n",
      "Número de datos nulos: 343\n",
      "--------------------\n",
      "EKG_PreQx_Valor\n",
      "NaN                                                                        343\n",
      "NORMAL                                                                     146\n",
      "0                                                                           91\n",
      "TRASTORNO DE LA REPOLARIZACIÓN                                              11\n",
      "BRADICARDIA SINUSAL                                                         10\n",
      "                                                                          ... \n",
      "BLOQUEO COMPLETO DE RAMA DERECHA. HEMIBLOQUEO ANTEROSUPERIOR\\nIZQUIERDO      1\n",
      "BLOQUEO ANTEROSUPERIOR                                                       1\n",
      "EXTRSÍSTOLES VENTRICULAES                                                    1\n",
      "PROGRESIÓN LENTA DE LA ONDA R Y ANOMALÍA T INESPECÍFICA                      1\n",
      "NORAML                                                                       1\n",
      "Name: count, Length: 112, dtype: int64\n"
     ]
    }
   ],
   "source": [
    "ver_datos(df, 'EKG_PreQx_Valor', True)"
   ]
  },
  {
   "cell_type": "markdown",
   "id": "7bb4543f",
   "metadata": {},
   "source": [
    "### Valvulopatía_Pre_Tx"
   ]
  },
  {
   "cell_type": "code",
   "execution_count": 623,
   "id": "bfab8be1",
   "metadata": {},
   "outputs": [
    {
     "name": "stdout",
     "output_type": "stream",
     "text": [
      "count     639\n",
      "unique     25\n",
      "top         0\n",
      "freq      523\n",
      "Name: Valvulopatía_Pre_Tx, dtype: int64\n",
      "--------------------\n",
      "Número de datos nulos: 97\n",
      "--------------------\n",
      "Valvulopatía_Pre_Tx\n",
      "0                                                                     523\n",
      "NaN                                                                    97\n",
      "4                                                                      37\n",
      "1                                                                      31\n",
      "2                                                                      15\n",
      "2+4                                                                     8\n",
      "3                                                                       6\n",
      "2.1                                                                     1\n",
      "AORTICA Y MITRAL                                                        1\n",
      "ESCLEROSIS VAL AORTICA CON LEVE GRADIENTE SISTÓLICO (POR ECG)           1\n",
      "INFS  MITRAL Y TRIC LEVE                                                1\n",
      "INSF MITRAL Y TRICUSPIDEA                                               1\n",
      "1 (INS AORITCA)                                                         1\n",
      "4 (GRADO III)                                                           1\n",
      "NV                                                                      1\n",
      "2 - 4(INSUF MITRAL Y TRICUSP)                                           1\n",
      "2 (PROLAPSO MITRAL PEQUEÑO)                                             1\n",
      "2-4 (INSUF MITRAL Y TRICUSP)                                            1\n",
      "1+4                                                                     1\n",
      "INSUF 1+2                                                               1\n",
      "4 (insuf tricusp)                                                       1\n",
      "1 (insuf tricusp)                                                       1\n",
      "2- 4(INSUFCIENCIA TRICUSP Y MITRAL)                                     1\n",
      "2 (INSUF MITRAL)                                                        1\n",
      "2 (MOVIMIENTO ANTERIOR SISTÓLICO DE LA VALVA ANTERIOR DE LA MITRAL      1\n",
      "1 (INSUF AORTICA)                                                       1\n",
      "Name: count, dtype: int64\n"
     ]
    }
   ],
   "source": [
    "ver_datos(df, 'Valvulopatía_Pre_Tx', True)"
   ]
  },
  {
   "cell_type": "code",
   "execution_count": 624,
   "id": "ad00b1ca",
   "metadata": {},
   "outputs": [
    {
     "name": "stderr",
     "output_type": "stream",
     "text": [
      "C:\\Users\\jmriv\\AppData\\Local\\Temp\\ipykernel_22692\\890579721.py:3: FutureWarning: Downcasting behavior in `replace` is deprecated and will be removed in a future version. To retain the old behavior, explicitly call `result.infer_objects(copy=False)`. To opt-in to the future behavior, set `pd.set_option('future.no_silent_downcasting', True)`\n",
      "  .replace({\n"
     ]
    }
   ],
   "source": [
    "df['Valvulopatía_Pre_Tx'] = (\n",
    "    df['Valvulopatía_Pre_Tx']\n",
    "    .replace({\n",
    "        'AORTICA Y MITRAL':1,\n",
    "        'ESCLEROSIS VAL AORTICA CON LEVE GRADIENTE SISTÓLICO (POR ECG)':1,\n",
    "        'INFS  MITRAL Y TRIC LEVE':2,\n",
    "        'INSF MITRAL Y TRICUSPIDEA':2,\n",
    "        '1 (INS AORITCA)':1,\n",
    "        '4 (GRADO III)':4,\n",
    "        'NV':np.nan,\n",
    "        '2 - 4(INSUF MITRAL Y TRICUSP)':2,\n",
    "        '2 (PROLAPSO MITRAL PEQUEÑO)':2,\n",
    "        '2-4 (INSUF MITRAL Y TRICUSP)':2,\n",
    "        '1+4':1,\n",
    "        'INSUF 1+2':1,\n",
    "        '4 (insuf tricusp)':4,\n",
    "        '1 (insuf tricusp)':np.nan,\n",
    "        '2- 4(INSUFCIENCIA TRICUSP Y MITRAL)':2,\n",
    "        '2 (INSUF MITRAL)':2,\n",
    "        '2 (MOVIMIENTO ANTERIOR SISTÓLICO DE LA VALVA ANTERIOR DE LA MITRAL':2,\n",
    "        '1 (INSUF AORTICA)':1,\n",
    "        '2+4':2,\n",
    "        2.1:2\n",
    "    })\n",
    ")"
   ]
  },
  {
   "cell_type": "code",
   "execution_count": 625,
   "id": "0ee2a174",
   "metadata": {},
   "outputs": [
    {
     "name": "stdout",
     "output_type": "stream",
     "text": [
      "count    637.000000\n",
      "mean       0.431711\n",
      "std        1.067148\n",
      "min        0.000000\n",
      "25%        0.000000\n",
      "50%        0.000000\n",
      "75%        0.000000\n",
      "max        4.000000\n",
      "Name: Valvulopatía_Pre_Tx, dtype: float64\n",
      "--------------------\n",
      "Número de datos nulos: 99\n",
      "--------------------\n",
      "Valvulopatía_Pre_Tx\n",
      "0.0    523\n",
      "NaN     99\n",
      "4.0     39\n",
      "1.0     37\n",
      "2.0     32\n",
      "3.0      6\n",
      "Name: count, dtype: int64\n"
     ]
    }
   ],
   "source": [
    "ver_datos(df, 'Valvulopatía_Pre_Tx', True)"
   ]
  },
  {
   "cell_type": "markdown",
   "id": "c0c00f2a",
   "metadata": {},
   "source": [
    "### Valvulopatía_SiNo"
   ]
  },
  {
   "cell_type": "code",
   "execution_count": 626,
   "id": "1657d274",
   "metadata": {},
   "outputs": [],
   "source": [
    "def valv_bool(value):\n",
    "    if pd.isna(value):\n",
    "        return np.nan\n",
    "    elif value==0:\n",
    "        return 0\n",
    "    else:\n",
    "        return 1"
   ]
  },
  {
   "cell_type": "code",
   "execution_count": 627,
   "id": "575e2836",
   "metadata": {},
   "outputs": [],
   "source": [
    "df['Valvulopatía_SiNo'] = df['Valvulopatía_Pre_Tx'].apply(valv_bool)"
   ]
  },
  {
   "cell_type": "code",
   "execution_count": 628,
   "id": "abc73973",
   "metadata": {},
   "outputs": [],
   "source": [
    "selected_columns.append('Valvulopatía_SiNo')"
   ]
  },
  {
   "cell_type": "code",
   "execution_count": 629,
   "id": "38f24d5b",
   "metadata": {},
   "outputs": [
    {
     "name": "stdout",
     "output_type": "stream",
     "text": [
      "count    637.000000\n",
      "mean       0.178964\n",
      "std        0.383623\n",
      "min        0.000000\n",
      "25%        0.000000\n",
      "50%        0.000000\n",
      "75%        0.000000\n",
      "max        1.000000\n",
      "Name: Valvulopatía_SiNo, dtype: float64\n",
      "--------------------\n",
      "Número de datos nulos: 99\n",
      "--------------------\n",
      "Valvulopatía_SiNo\n",
      "0.0    523\n",
      "1.0    114\n",
      "NaN     99\n",
      "Name: count, dtype: int64\n"
     ]
    }
   ],
   "source": [
    "ver_datos(df, 'Valvulopatía_SiNo', True)"
   ]
  },
  {
   "cell_type": "markdown",
   "id": "3be800ed",
   "metadata": {},
   "source": [
    "### Ecocardiograma_PreQx_FE%"
   ]
  },
  {
   "cell_type": "code",
   "execution_count": 630,
   "id": "4968eb64",
   "metadata": {},
   "outputs": [
    {
     "name": "stdout",
     "output_type": "stream",
     "text": [
      "count     564\n",
      "unique     38\n",
      "top        65\n",
      "freq       84\n",
      "Name: Ecocardiograma_PreQx_FE%, dtype: int64\n",
      "--------------------\n",
      "Número de datos nulos: 172\n"
     ]
    }
   ],
   "source": [
    "ver_datos(df, 'Ecocardiograma_PreQx_FE%')"
   ]
  },
  {
   "cell_type": "code",
   "execution_count": 631,
   "id": "784b6605",
   "metadata": {},
   "outputs": [],
   "source": [
    "limpiar_numericas(df, 'Ecocardiograma_PreQx_FE%')"
   ]
  },
  {
   "cell_type": "code",
   "execution_count": 632,
   "id": "809cc23e",
   "metadata": {},
   "outputs": [
    {
     "name": "stdout",
     "output_type": "stream",
     "text": [
      "count    561.000000\n",
      "mean      66.709447\n",
      "std        5.824155\n",
      "min       49.000000\n",
      "25%       63.000000\n",
      "50%       66.000000\n",
      "75%       70.000000\n",
      "max       94.000000\n",
      "Name: Ecocardiograma_PreQx_FE%, dtype: float64\n",
      "--------------------\n",
      "Número de datos nulos: 175\n"
     ]
    }
   ],
   "source": [
    "ver_datos(df, 'Ecocardiograma_PreQx_FE%')"
   ]
  },
  {
   "cell_type": "markdown",
   "id": "df14d410",
   "metadata": {},
   "source": [
    "### Ecocardiograma_PreQx-FE_Cod"
   ]
  },
  {
   "cell_type": "code",
   "execution_count": 633,
   "id": "afff671c",
   "metadata": {},
   "outputs": [
    {
     "name": "stdout",
     "output_type": "stream",
     "text": [
      "count     524\n",
      "unique      5\n",
      "top         2\n",
      "freq      349\n",
      "Name: Ecocardiograma_PreQx-FE_Cod, dtype: int64\n",
      "--------------------\n",
      "Número de datos nulos: 212\n",
      "--------------------\n",
      "Ecocardiograma_PreQx-FE_Cod\n",
      "2      349\n",
      "NaN    212\n",
      "0      126\n",
      "1       47\n",
      "NV       1\n",
      "nv       1\n",
      "Name: count, dtype: int64\n"
     ]
    }
   ],
   "source": [
    "ver_datos(df, 'Ecocardiograma_PreQx-FE_Cod', True)"
   ]
  },
  {
   "cell_type": "code",
   "execution_count": 634,
   "id": "b97a1986",
   "metadata": {},
   "outputs": [
    {
     "name": "stderr",
     "output_type": "stream",
     "text": [
      "C:\\Users\\jmriv\\AppData\\Local\\Temp\\ipykernel_22692\\383932686.py:3: FutureWarning: Downcasting behavior in `replace` is deprecated and will be removed in a future version. To retain the old behavior, explicitly call `result.infer_objects(copy=False)`. To opt-in to the future behavior, set `pd.set_option('future.no_silent_downcasting', True)`\n",
      "  .replace({\n"
     ]
    }
   ],
   "source": [
    "df['Ecocardiograma_PreQx-FE_Cod'] = (\n",
    "    df['Ecocardiograma_PreQx-FE_Cod']\n",
    "    .replace({\n",
    "        'NV':np.nan,\n",
    "        'nv':np.nan,\n",
    "    })\n",
    ")"
   ]
  },
  {
   "cell_type": "code",
   "execution_count": 635,
   "id": "3ff14d69",
   "metadata": {},
   "outputs": [],
   "source": [
    "def clasificar_fraccion_eyeccion_ekg(ekg):\n",
    "    if pd.isna(ekg):\n",
    "        return np.nan\n",
    "    elif ekg > 60:\n",
    "        return 0\n",
    "    elif ekg < 40:\n",
    "        return 2\n",
    "    else:\n",
    "        1"
   ]
  },
  {
   "cell_type": "code",
   "execution_count": 636,
   "id": "f45fa476",
   "metadata": {},
   "outputs": [],
   "source": [
    "calculated_Fr_Ey_EKG = df['Ecocardiograma_PreQx_FE%'].apply(clasificar_fraccion_eyeccion_ekg)\n",
    "df.loc[df['Ecocardiograma_PreQx-FE_Cod'].isna() & df['Ecocardiograma_PreQx_FE%'].notna(), 'Ecocardiograma_PreQx-FE_Cod'] = calculated_Fr_Ey_EKG"
   ]
  },
  {
   "cell_type": "code",
   "execution_count": 637,
   "id": "f8109674",
   "metadata": {},
   "outputs": [
    {
     "name": "stdout",
     "output_type": "stream",
     "text": [
      "count    558.000000\n",
      "mean       1.335125\n",
      "std        0.897164\n",
      "min        0.000000\n",
      "25%        0.000000\n",
      "50%        2.000000\n",
      "75%        2.000000\n",
      "max        2.000000\n",
      "Name: Ecocardiograma_PreQx-FE_Cod, dtype: float64\n",
      "--------------------\n",
      "Número de datos nulos: 178\n",
      "--------------------\n",
      "Ecocardiograma_PreQx-FE_Cod\n",
      "2.0    349\n",
      "NaN    178\n",
      "0.0    162\n",
      "1.0     47\n",
      "Name: count, dtype: int64\n"
     ]
    }
   ],
   "source": [
    "ver_datos(df, 'Ecocardiograma_PreQx-FE_Cod', True)"
   ]
  },
  {
   "cell_type": "markdown",
   "id": "d68b881d",
   "metadata": {},
   "source": [
    "### Ecocardiograma_PreQx_RC%"
   ]
  },
  {
   "cell_type": "code",
   "execution_count": 638,
   "id": "ca741e32",
   "metadata": {},
   "outputs": [
    {
     "name": "stdout",
     "output_type": "stream",
     "text": [
      "count     502\n",
      "unique     55\n",
      "top        87\n",
      "freq       82\n",
      "Name: Ecocardiograma_PreQx_RC%, dtype: int64\n",
      "--------------------\n",
      "Número de datos nulos: 234\n"
     ]
    }
   ],
   "source": [
    "ver_datos(df, 'Ecocardiograma_PreQx_RC%')"
   ]
  },
  {
   "cell_type": "code",
   "execution_count": 639,
   "id": "771f2bee",
   "metadata": {},
   "outputs": [],
   "source": [
    "df['Ecocardiograma_PreQx_RC%'] = (\n",
    "    df['Ecocardiograma_PreQx_RC%']\n",
    "    .replace({\n",
    "        'NV':np.nan,\n",
    "        'nv \"resultado digiatado\"':np.nan,\n",
    "    })\n",
    ")"
   ]
  },
  {
   "cell_type": "code",
   "execution_count": 640,
   "id": "cd0a7c58",
   "metadata": {},
   "outputs": [],
   "source": [
    "limpiar_numericas(df, 'Ecocardiograma_PreQx_RC%')"
   ]
  },
  {
   "cell_type": "code",
   "execution_count": 641,
   "id": "a0480ff4",
   "metadata": {},
   "outputs": [
    {
     "name": "stdout",
     "output_type": "stream",
     "text": [
      "count    495.000000\n",
      "mean      87.830000\n",
      "std       10.541842\n",
      "min        0.850000\n",
      "25%       85.000000\n",
      "50%       87.000000\n",
      "75%       91.000000\n",
      "max      141.000000\n",
      "Name: Ecocardiograma_PreQx_RC%, dtype: float64\n",
      "--------------------\n",
      "Número de datos nulos: 241\n"
     ]
    }
   ],
   "source": [
    "ver_datos(df, 'Ecocardiograma_PreQx_RC%')"
   ]
  },
  {
   "cell_type": "markdown",
   "id": "8f167173",
   "metadata": {},
   "source": [
    "### Ecocardiograma_PreQx_RC"
   ]
  },
  {
   "cell_type": "code",
   "execution_count": 642,
   "id": "6f27e405",
   "metadata": {},
   "outputs": [
    {
     "name": "stdout",
     "output_type": "stream",
     "text": [
      "count     453\n",
      "unique      7\n",
      "top         0\n",
      "freq      368\n",
      "Name: Ecocardiograma_PreQx_RC, dtype: int64\n",
      "--------------------\n",
      "Número de datos nulos: 283\n",
      "--------------------\n",
      "Ecocardiograma_PreQx_RC\n",
      "0      368\n",
      "NaN    283\n",
      "1       67\n",
      "2       13\n",
      "NV       2\n",
      "9        1\n",
      "nv       1\n",
      "85       1\n",
      "Name: count, dtype: int64\n"
     ]
    }
   ],
   "source": [
    "ver_datos(df, 'Ecocardiograma_PreQx_RC', True)"
   ]
  },
  {
   "cell_type": "code",
   "execution_count": 643,
   "id": "b8814544",
   "metadata": {},
   "outputs": [
    {
     "name": "stderr",
     "output_type": "stream",
     "text": [
      "C:\\Users\\jmriv\\AppData\\Local\\Temp\\ipykernel_22692\\4194565765.py:3: FutureWarning: Downcasting behavior in `replace` is deprecated and will be removed in a future version. To retain the old behavior, explicitly call `result.infer_objects(copy=False)`. To opt-in to the future behavior, set `pd.set_option('future.no_silent_downcasting', True)`\n",
      "  .replace({\n"
     ]
    }
   ],
   "source": [
    "df['Ecocardiograma_PreQx_RC'] = (\n",
    "    df['Ecocardiograma_PreQx_RC']\n",
    "    .replace({\n",
    "        'NV':np.nan,\n",
    "        'nv':np.nan\n",
    "    })\n",
    ")"
   ]
  },
  {
   "cell_type": "code",
   "execution_count": 644,
   "id": "83d57531",
   "metadata": {},
   "outputs": [],
   "source": [
    "def clasificar_resp(ekg):\n",
    "    if pd.isna(ekg):\n",
    "        return np.nan\n",
    "    elif ekg >= 85:\n",
    "        return 0\n",
    "    elif ekg < 85:\n",
    "        return 1"
   ]
  },
  {
   "cell_type": "code",
   "execution_count": 645,
   "id": "bae7ace5",
   "metadata": {},
   "outputs": [],
   "source": [
    "calculated_RC_EKG = df['Ecocardiograma_PreQx_RC%'].apply(clasificar_resp)\n",
    "df.loc[(df['Ecocardiograma_PreQx_RC']>1) & df['Ecocardiograma_PreQx_RC%'].notna(), 'Ecocardiograma_PreQx_RC'] = calculated_RC_EKG"
   ]
  },
  {
   "cell_type": "code",
   "execution_count": 646,
   "id": "4c82c92c",
   "metadata": {},
   "outputs": [],
   "source": [
    "df['Ecocardiograma_PreQx_RC'] = (\n",
    "    df['Ecocardiograma_PreQx_RC']\n",
    "    .replace({\n",
    "        2:np.nan\n",
    "    })\n",
    ")"
   ]
  },
  {
   "cell_type": "code",
   "execution_count": 647,
   "id": "565ba5b3",
   "metadata": {},
   "outputs": [
    {
     "name": "stdout",
     "output_type": "stream",
     "text": [
      "count    449.000000\n",
      "mean       0.153675\n",
      "std        0.361039\n",
      "min        0.000000\n",
      "25%        0.000000\n",
      "50%        0.000000\n",
      "75%        0.000000\n",
      "max        1.000000\n",
      "Name: Ecocardiograma_PreQx_RC, dtype: float64\n",
      "--------------------\n",
      "Número de datos nulos: 287\n",
      "--------------------\n",
      "Ecocardiograma_PreQx_RC\n",
      "0.0    380\n",
      "NaN    287\n",
      "1.0     69\n",
      "Name: count, dtype: int64\n"
     ]
    }
   ],
   "source": [
    "ver_datos(df, 'Ecocardiograma_PreQx_RC', True)"
   ]
  },
  {
   "cell_type": "markdown",
   "id": "7086fb05",
   "metadata": {},
   "source": [
    "### Ecocardiograma_PreQx_Hipertensión_Pulmonar"
   ]
  },
  {
   "cell_type": "code",
   "execution_count": 648,
   "id": "f97ce1c1",
   "metadata": {},
   "outputs": [
    {
     "name": "stdout",
     "output_type": "stream",
     "text": [
      "count     255\n",
      "unique     16\n",
      "top         0\n",
      "freq      160\n",
      "Name: Ecocardiograma_PreQx_Hipertensión_Pulmonar, dtype: int64\n",
      "--------------------\n",
      "Número de datos nulos: 481\n",
      "--------------------\n",
      "Ecocardiograma_PreQx_Hipertensión_Pulmonar\n",
      "NaN    481\n",
      "0      160\n",
      "1       73\n",
      "2        4\n",
      "36       3\n",
      "22       2\n",
      "39       2\n",
      "35       2\n",
      "30       1\n",
      "31       1\n",
      "29       1\n",
      "NO       1\n",
      "27       1\n",
      "37       1\n",
      "34       1\n",
      "20       1\n",
      "40       1\n",
      "Name: count, dtype: int64\n"
     ]
    }
   ],
   "source": [
    "ver_datos(df, 'Ecocardiograma_PreQx_Hipertensión_Pulmonar', True)"
   ]
  },
  {
   "cell_type": "code",
   "execution_count": 649,
   "id": "f0e159d2",
   "metadata": {},
   "outputs": [
    {
     "name": "stderr",
     "output_type": "stream",
     "text": [
      "C:\\Users\\jmriv\\AppData\\Local\\Temp\\ipykernel_22692\\4229912866.py:3: FutureWarning: Downcasting behavior in `replace` is deprecated and will be removed in a future version. To retain the old behavior, explicitly call `result.infer_objects(copy=False)`. To opt-in to the future behavior, set `pd.set_option('future.no_silent_downcasting', True)`\n",
      "  .replace({\n"
     ]
    }
   ],
   "source": [
    "df['Ecocardiograma_PreQx_Hipertensión_Pulmonar'] = (\n",
    "    df['Ecocardiograma_PreQx_Hipertensión_Pulmonar']\n",
    "    .replace({\n",
    "        'NO':0\n",
    "    })\n",
    ")"
   ]
  },
  {
   "cell_type": "code",
   "execution_count": 650,
   "id": "5fa15be0",
   "metadata": {},
   "outputs": [
    {
     "data": {
      "text/html": [
       "<div>\n",
       "<style scoped>\n",
       "    .dataframe tbody tr th:only-of-type {\n",
       "        vertical-align: middle;\n",
       "    }\n",
       "\n",
       "    .dataframe tbody tr th {\n",
       "        vertical-align: top;\n",
       "    }\n",
       "\n",
       "    .dataframe thead th {\n",
       "        text-align: right;\n",
       "    }\n",
       "</style>\n",
       "<table border=\"1\" class=\"dataframe\">\n",
       "  <thead>\n",
       "    <tr style=\"text-align: right;\">\n",
       "      <th></th>\n",
       "      <th>Ecocardiograma_PreQx_Hipertensión_Pulmonar</th>\n",
       "      <th>Ecocardiograma_PreQxPSAP</th>\n",
       "    </tr>\n",
       "    <tr>\n",
       "      <th>#_Paciente</th>\n",
       "      <th></th>\n",
       "      <th></th>\n",
       "    </tr>\n",
       "  </thead>\n",
       "  <tbody>\n",
       "    <tr>\n",
       "      <th>217</th>\n",
       "      <td>30.0</td>\n",
       "      <td>NaN</td>\n",
       "    </tr>\n",
       "    <tr>\n",
       "      <th>218</th>\n",
       "      <td>29.0</td>\n",
       "      <td>NaN</td>\n",
       "    </tr>\n",
       "    <tr>\n",
       "      <th>223</th>\n",
       "      <td>35.0</td>\n",
       "      <td>NaN</td>\n",
       "    </tr>\n",
       "    <tr>\n",
       "      <th>233</th>\n",
       "      <td>36.0</td>\n",
       "      <td>NaN</td>\n",
       "    </tr>\n",
       "    <tr>\n",
       "      <th>235</th>\n",
       "      <td>31.0</td>\n",
       "      <td>NaN</td>\n",
       "    </tr>\n",
       "    <tr>\n",
       "      <th>245</th>\n",
       "      <td>22.0</td>\n",
       "      <td>NaN</td>\n",
       "    </tr>\n",
       "    <tr>\n",
       "      <th>249</th>\n",
       "      <td>27.0</td>\n",
       "      <td>NaN</td>\n",
       "    </tr>\n",
       "    <tr>\n",
       "      <th>253</th>\n",
       "      <td>37.0</td>\n",
       "      <td>NaN</td>\n",
       "    </tr>\n",
       "    <tr>\n",
       "      <th>255</th>\n",
       "      <td>36.0</td>\n",
       "      <td>NaN</td>\n",
       "    </tr>\n",
       "    <tr>\n",
       "      <th>256</th>\n",
       "      <td>35.0</td>\n",
       "      <td>NaN</td>\n",
       "    </tr>\n",
       "    <tr>\n",
       "      <th>258</th>\n",
       "      <td>36.0</td>\n",
       "      <td>NaN</td>\n",
       "    </tr>\n",
       "    <tr>\n",
       "      <th>260</th>\n",
       "      <td>39.0</td>\n",
       "      <td>NaN</td>\n",
       "    </tr>\n",
       "    <tr>\n",
       "      <th>261</th>\n",
       "      <td>22.0</td>\n",
       "      <td>NaN</td>\n",
       "    </tr>\n",
       "    <tr>\n",
       "      <th>263</th>\n",
       "      <td>34.0</td>\n",
       "      <td>NaN</td>\n",
       "    </tr>\n",
       "    <tr>\n",
       "      <th>264</th>\n",
       "      <td>39.0</td>\n",
       "      <td>NaN</td>\n",
       "    </tr>\n",
       "    <tr>\n",
       "      <th>265</th>\n",
       "      <td>20.0</td>\n",
       "      <td>NaN</td>\n",
       "    </tr>\n",
       "    <tr>\n",
       "      <th>268</th>\n",
       "      <td>40.0</td>\n",
       "      <td>NaN</td>\n",
       "    </tr>\n",
       "    <tr>\n",
       "      <th>312</th>\n",
       "      <td>2.0</td>\n",
       "      <td>24</td>\n",
       "    </tr>\n",
       "    <tr>\n",
       "      <th>348</th>\n",
       "      <td>2.0</td>\n",
       "      <td>24</td>\n",
       "    </tr>\n",
       "    <tr>\n",
       "      <th>352</th>\n",
       "      <td>2.0</td>\n",
       "      <td>22</td>\n",
       "    </tr>\n",
       "    <tr>\n",
       "      <th>353</th>\n",
       "      <td>2.0</td>\n",
       "      <td>26</td>\n",
       "    </tr>\n",
       "  </tbody>\n",
       "</table>\n",
       "</div>"
      ],
      "text/plain": [
       "            Ecocardiograma_PreQx_Hipertensión_Pulmonar  \\\n",
       "#_Paciente                                               \n",
       "217                                               30.0   \n",
       "218                                               29.0   \n",
       "223                                               35.0   \n",
       "233                                               36.0   \n",
       "235                                               31.0   \n",
       "245                                               22.0   \n",
       "249                                               27.0   \n",
       "253                                               37.0   \n",
       "255                                               36.0   \n",
       "256                                               35.0   \n",
       "258                                               36.0   \n",
       "260                                               39.0   \n",
       "261                                               22.0   \n",
       "263                                               34.0   \n",
       "264                                               39.0   \n",
       "265                                               20.0   \n",
       "268                                               40.0   \n",
       "312                                                2.0   \n",
       "348                                                2.0   \n",
       "352                                                2.0   \n",
       "353                                                2.0   \n",
       "\n",
       "           Ecocardiograma_PreQxPSAP  \n",
       "#_Paciente                           \n",
       "217                             NaN  \n",
       "218                             NaN  \n",
       "223                             NaN  \n",
       "233                             NaN  \n",
       "235                             NaN  \n",
       "245                             NaN  \n",
       "249                             NaN  \n",
       "253                             NaN  \n",
       "255                             NaN  \n",
       "256                             NaN  \n",
       "258                             NaN  \n",
       "260                             NaN  \n",
       "261                             NaN  \n",
       "263                             NaN  \n",
       "264                             NaN  \n",
       "265                             NaN  \n",
       "268                             NaN  \n",
       "312                              24  \n",
       "348                              24  \n",
       "352                              22  \n",
       "353                              26  "
      ]
     },
     "execution_count": 650,
     "metadata": {},
     "output_type": "execute_result"
    }
   ],
   "source": [
    "df.loc[(df['Ecocardiograma_PreQx_Hipertensión_Pulmonar']>1)][['Ecocardiograma_PreQx_Hipertensión_Pulmonar','Ecocardiograma_PreQxPSAP']]"
   ]
  },
  {
   "cell_type": "code",
   "execution_count": 651,
   "id": "53991628",
   "metadata": {},
   "outputs": [],
   "source": [
    "df['Ecocardiograma_PreQx_Hipertensión_Pulmonar'] = (\n",
    "    df['Ecocardiograma_PreQx_Hipertensión_Pulmonar']\n",
    "    .replace({\n",
    "        2:0  # En este caso están todos bajo el umbral de 29\n",
    "    })\n",
    ")"
   ]
  },
  {
   "cell_type": "code",
   "execution_count": 652,
   "id": "9f119533",
   "metadata": {},
   "outputs": [],
   "source": [
    "def clasificar_resp(ekg):\n",
    "    if pd.isna(ekg):\n",
    "        return np.nan\n",
    "    elif ekg <= 29:\n",
    "        return 0\n",
    "    else:\n",
    "        return 1"
   ]
  },
  {
   "cell_type": "code",
   "execution_count": 653,
   "id": "588f08fb",
   "metadata": {},
   "outputs": [],
   "source": [
    "calculated = df['Ecocardiograma_PreQx_Hipertensión_Pulmonar'].apply(clasificar_resp)\n",
    "df.loc[(df['Ecocardiograma_PreQx_Hipertensión_Pulmonar']>1) , 'Ecocardiograma_PreQx_Hipertensión_Pulmonar'] = calculated"
   ]
  },
  {
   "cell_type": "code",
   "execution_count": 654,
   "id": "31c1801b",
   "metadata": {},
   "outputs": [
    {
     "name": "stdout",
     "output_type": "stream",
     "text": [
      "count    255.000000\n",
      "mean       0.333333\n",
      "std        0.472332\n",
      "min        0.000000\n",
      "25%        0.000000\n",
      "50%        0.000000\n",
      "75%        1.000000\n",
      "max        1.000000\n",
      "Name: Ecocardiograma_PreQx_Hipertensión_Pulmonar, dtype: float64\n",
      "--------------------\n",
      "Número de datos nulos: 481\n",
      "--------------------\n",
      "Ecocardiograma_PreQx_Hipertensión_Pulmonar\n",
      "NaN    481\n",
      "0.0    170\n",
      "1.0     85\n",
      "Name: count, dtype: int64\n"
     ]
    }
   ],
   "source": [
    "ver_datos(df, 'Ecocardiograma_PreQx_Hipertensión_Pulmonar', True)"
   ]
  },
  {
   "cell_type": "markdown",
   "id": "c8b9bb5f",
   "metadata": {},
   "source": [
    "### Ecocardiograma_PreQx_TAPSE"
   ]
  },
  {
   "cell_type": "code",
   "execution_count": 655,
   "id": "87e20595",
   "metadata": {},
   "outputs": [
    {
     "name": "stdout",
     "output_type": "stream",
     "text": [
      "count     288\n",
      "unique     24\n",
      "top         0\n",
      "freq      123\n",
      "Name: Ecocardiograma_PreQx_TAPSE, dtype: int64\n",
      "--------------------\n",
      "Número de datos nulos: 448\n",
      "--------------------\n",
      "Ecocardiograma_PreQx_TAPSE\n",
      "NaN     448\n",
      "0       123\n",
      "24       21\n",
      "25       21\n",
      "23       18\n",
      "22       15\n",
      "20       14\n",
      "21       10\n",
      "27        9\n",
      "26        7\n",
      "18        7\n",
      "19        7\n",
      "30        7\n",
      "28        6\n",
      "31        4\n",
      "32        3\n",
      "29        3\n",
      "33        3\n",
      "16        3\n",
      "17        2\n",
      "2         1\n",
      "13MM      1\n",
      "35        1\n",
      "37        1\n",
      "1.9       1\n",
      "Name: count, dtype: int64\n"
     ]
    }
   ],
   "source": [
    "ver_datos(df, 'Ecocardiograma_PreQx_TAPSE', True)"
   ]
  },
  {
   "cell_type": "code",
   "execution_count": 656,
   "id": "4bb08ead",
   "metadata": {},
   "outputs": [
    {
     "name": "stderr",
     "output_type": "stream",
     "text": [
      "C:\\Users\\jmriv\\AppData\\Local\\Temp\\ipykernel_22692\\3124144626.py:3: FutureWarning: Downcasting behavior in `replace` is deprecated and will be removed in a future version. To retain the old behavior, explicitly call `result.infer_objects(copy=False)`. To opt-in to the future behavior, set `pd.set_option('future.no_silent_downcasting', True)`\n",
      "  .replace({\n"
     ]
    }
   ],
   "source": [
    "df['Ecocardiograma_PreQx_TAPSE'] = (\n",
    "    df['Ecocardiograma_PreQx_TAPSE']\n",
    "    .replace({\n",
    "        '13MM':13\n",
    "    })\n",
    ")"
   ]
  },
  {
   "cell_type": "code",
   "execution_count": 657,
   "id": "177255a2",
   "metadata": {},
   "outputs": [
    {
     "name": "stdout",
     "output_type": "stream",
     "text": [
      "count    288.000000\n",
      "mean      13.548264\n",
      "std       12.249389\n",
      "min        0.000000\n",
      "25%        0.000000\n",
      "50%       19.000000\n",
      "75%       24.000000\n",
      "max       37.000000\n",
      "Name: Ecocardiograma_PreQx_TAPSE, dtype: float64\n",
      "--------------------\n",
      "Número de datos nulos: 448\n"
     ]
    }
   ],
   "source": [
    "ver_datos(df, 'Ecocardiograma_PreQx_TAPSE')"
   ]
  },
  {
   "cell_type": "markdown",
   "id": "fdeb0d55",
   "metadata": {},
   "source": [
    "### Ecocardiograma_PreQx_TASVE"
   ]
  },
  {
   "cell_type": "code",
   "execution_count": 658,
   "id": "3db511eb",
   "metadata": {},
   "outputs": [
    {
     "name": "stdout",
     "output_type": "stream",
     "text": [
      "count     156\n",
      "unique     19\n",
      "top         0\n",
      "freq      126\n",
      "Name: Ecocardiograma_PreQx_TASVE, dtype: int64\n",
      "--------------------\n",
      "Número de datos nulos: 580\n",
      "--------------------\n",
      "Ecocardiograma_PreQx_TASVE\n",
      "NaN     580\n",
      "0       126\n",
      "14        5\n",
      "13        4\n",
      "11        3\n",
      "15        2\n",
      "10        2\n",
      "21        2\n",
      "16CM      1\n",
      "1         1\n",
      "25        1\n",
      "23        1\n",
      "26        1\n",
      "20        1\n",
      "5         1\n",
      "7         1\n",
      "18        1\n",
      "12        1\n",
      "9         1\n",
      "16        1\n",
      "Name: count, dtype: int64\n"
     ]
    }
   ],
   "source": [
    "ver_datos(df, 'Ecocardiograma_PreQx_TASVE', True)"
   ]
  },
  {
   "cell_type": "code",
   "execution_count": 659,
   "id": "fdc03715",
   "metadata": {},
   "outputs": [
    {
     "name": "stderr",
     "output_type": "stream",
     "text": [
      "C:\\Users\\jmriv\\AppData\\Local\\Temp\\ipykernel_22692\\2576872614.py:3: FutureWarning: Downcasting behavior in `replace` is deprecated and will be removed in a future version. To retain the old behavior, explicitly call `result.infer_objects(copy=False)`. To opt-in to the future behavior, set `pd.set_option('future.no_silent_downcasting', True)`\n",
      "  .replace({\n"
     ]
    }
   ],
   "source": [
    "df['Ecocardiograma_PreQx_TASVE'] = (\n",
    "    df['Ecocardiograma_PreQx_TASVE']\n",
    "    .replace({\n",
    "        '16CM':13\n",
    "    })\n",
    ")"
   ]
  },
  {
   "cell_type": "code",
   "execution_count": 660,
   "id": "a9ebb4fc",
   "metadata": {},
   "outputs": [
    {
     "name": "stdout",
     "output_type": "stream",
     "text": [
      "count    156.000000\n",
      "mean       2.705128\n",
      "std        6.058018\n",
      "min        0.000000\n",
      "25%        0.000000\n",
      "50%        0.000000\n",
      "75%        0.000000\n",
      "max       26.000000\n",
      "Name: Ecocardiograma_PreQx_TASVE, dtype: float64\n",
      "--------------------\n",
      "Número de datos nulos: 580\n"
     ]
    }
   ],
   "source": [
    "ver_datos(df, 'Ecocardiograma_PreQx_TASVE')"
   ]
  },
  {
   "cell_type": "markdown",
   "id": "8a8db788",
   "metadata": {},
   "source": [
    "### Ecocardiograma_PreQx_Disfunción_Diastólica"
   ]
  },
  {
   "cell_type": "code",
   "execution_count": 661,
   "id": "d95e7cd9",
   "metadata": {},
   "outputs": [
    {
     "name": "stdout",
     "output_type": "stream",
     "text": [
      "count     524\n",
      "unique      6\n",
      "top         0\n",
      "freq      489\n",
      "Name: Ecocardiograma_PreQx_Disfunción_Diastólica, dtype: int64\n",
      "--------------------\n",
      "Número de datos nulos: 212\n",
      "--------------------\n",
      "Ecocardiograma_PreQx_Disfunción_Diastólica\n",
      "0            489\n",
      "NaN          212\n",
      "1             30\n",
      "NV             2\n",
      "IZQUIERDA      1\n",
      "9              1\n",
      "TIPO 1         1\n",
      "Name: count, dtype: int64\n"
     ]
    }
   ],
   "source": [
    "ver_datos(df, 'Ecocardiograma_PreQx_Disfunción_Diastólica', True)"
   ]
  },
  {
   "cell_type": "code",
   "execution_count": 662,
   "id": "66e27464",
   "metadata": {},
   "outputs": [
    {
     "name": "stderr",
     "output_type": "stream",
     "text": [
      "C:\\Users\\jmriv\\AppData\\Local\\Temp\\ipykernel_22692\\72107711.py:3: FutureWarning: Downcasting behavior in `replace` is deprecated and will be removed in a future version. To retain the old behavior, explicitly call `result.infer_objects(copy=False)`. To opt-in to the future behavior, set `pd.set_option('future.no_silent_downcasting', True)`\n",
      "  .replace({\n"
     ]
    }
   ],
   "source": [
    "df['Ecocardiograma_PreQx_Disfunción_Diastólica'] = (\n",
    "    df['Ecocardiograma_PreQx_Disfunción_Diastólica']\n",
    "    .replace({\n",
    "        'NV':np.nan,\n",
    "        'IZQUIERDA':1,\n",
    "        9:np.nan,\n",
    "        'TIPO 1':1\n",
    "    })\n",
    ")"
   ]
  },
  {
   "cell_type": "code",
   "execution_count": 663,
   "id": "d01ea536",
   "metadata": {},
   "outputs": [
    {
     "name": "stdout",
     "output_type": "stream",
     "text": [
      "count    521.00000\n",
      "mean       0.06142\n",
      "std        0.24033\n",
      "min        0.00000\n",
      "25%        0.00000\n",
      "50%        0.00000\n",
      "75%        0.00000\n",
      "max        1.00000\n",
      "Name: Ecocardiograma_PreQx_Disfunción_Diastólica, dtype: float64\n",
      "--------------------\n",
      "Número de datos nulos: 215\n",
      "--------------------\n",
      "Ecocardiograma_PreQx_Disfunción_Diastólica\n",
      "0.0    489\n",
      "NaN    215\n",
      "1.0     32\n",
      "Name: count, dtype: int64\n"
     ]
    }
   ],
   "source": [
    "ver_datos(df, 'Ecocardiograma_PreQx_Disfunción_Diastólica', True)"
   ]
  },
  {
   "cell_type": "markdown",
   "id": "f5ad8b52",
   "metadata": {},
   "source": [
    "### METS"
   ]
  },
  {
   "cell_type": "code",
   "execution_count": 664,
   "id": "35be2f7e",
   "metadata": {},
   "outputs": [
    {
     "name": "stdout",
     "output_type": "stream",
     "text": [
      "count     97\n",
      "unique    60\n",
      "top        7\n",
      "freq      16\n",
      "Name: METS, dtype: int64\n",
      "--------------------\n",
      "Número de datos nulos: 639\n",
      "--------------------\n",
      "METS\n",
      "NaN     639\n",
      "7.0      16\n",
      "4.6       8\n",
      "10.0      5\n",
      "10.1      4\n",
      "       ... \n",
      "8.1       1\n",
      "13.5      1\n",
      "13.7      1\n",
      "4.0       1\n",
      "3.8       1\n",
      "Name: count, Length: 61, dtype: int64\n"
     ]
    }
   ],
   "source": [
    "ver_datos(df, 'METS', True)"
   ]
  },
  {
   "cell_type": "code",
   "execution_count": 665,
   "id": "0a41b3ae",
   "metadata": {},
   "outputs": [],
   "source": [
    "df['METS'] = (\n",
    "    df['METS']\n",
    "    .replace({\n",
    "        '>8':8\n",
    "    })\n",
    ")"
   ]
  },
  {
   "cell_type": "code",
   "execution_count": 666,
   "id": "bda8dd35",
   "metadata": {},
   "outputs": [],
   "source": [
    "limpiar_numericas(df, 'METS')"
   ]
  },
  {
   "cell_type": "code",
   "execution_count": 667,
   "id": "130507df",
   "metadata": {},
   "outputs": [
    {
     "name": "stdout",
     "output_type": "stream",
     "text": [
      "count    97.000000\n",
      "mean      7.672268\n",
      "std       3.034629\n",
      "min       0.000000\n",
      "25%       5.100000\n",
      "50%       7.200000\n",
      "75%      10.000000\n",
      "max      18.000000\n",
      "Name: METS, dtype: float64\n",
      "--------------------\n",
      "Número de datos nulos: 639\n"
     ]
    }
   ],
   "source": [
    "ver_datos(df, 'METS')"
   ]
  },
  {
   "cell_type": "markdown",
   "id": "e5443968",
   "metadata": {},
   "source": [
    "### Tx#1"
   ]
  },
  {
   "cell_type": "code",
   "execution_count": 668,
   "id": "009a4450",
   "metadata": {},
   "outputs": [
    {
     "name": "stdout",
     "output_type": "stream",
     "text": [
      "count    733.0\n",
      "mean       1.0\n",
      "std        0.0\n",
      "min        1.0\n",
      "25%        1.0\n",
      "50%        1.0\n",
      "75%        1.0\n",
      "max        1.0\n",
      "Name: Tx#1, dtype: float64\n",
      "--------------------\n",
      "Número de datos nulos: 3\n"
     ]
    }
   ],
   "source": [
    "ver_datos(df, 'Tx#1')"
   ]
  },
  {
   "cell_type": "markdown",
   "id": "94d110d7",
   "metadata": {},
   "source": [
    "### Edad_Donante_Tx#1"
   ]
  },
  {
   "cell_type": "code",
   "execution_count": 669,
   "id": "0a6bfde6",
   "metadata": {},
   "outputs": [
    {
     "name": "stdout",
     "output_type": "stream",
     "text": [
      "count    697.000000\n",
      "mean      34.246772\n",
      "std       14.536397\n",
      "min        1.000000\n",
      "25%       23.000000\n",
      "50%       31.000000\n",
      "75%       46.000000\n",
      "max       74.000000\n",
      "Name: Edad_Donante_Tx#1, dtype: float64\n",
      "--------------------\n",
      "Número de datos nulos: 39\n"
     ]
    }
   ],
   "source": [
    "ver_datos(df, 'Edad_Donante_Tx#1')"
   ]
  },
  {
   "cell_type": "markdown",
   "id": "bc4ba1c5",
   "metadata": {},
   "source": [
    "### Sexo_Donante_Tx#1"
   ]
  },
  {
   "cell_type": "code",
   "execution_count": 670,
   "id": "dea5c131",
   "metadata": {},
   "outputs": [
    {
     "name": "stdout",
     "output_type": "stream",
     "text": [
      "count    695.000000\n",
      "mean       1.286331\n",
      "std        0.452372\n",
      "min        1.000000\n",
      "25%        1.000000\n",
      "50%        1.000000\n",
      "75%        2.000000\n",
      "max        2.000000\n",
      "Name: Sexo_Donante_Tx#1, dtype: float64\n",
      "--------------------\n",
      "Número de datos nulos: 41\n",
      "--------------------\n",
      "Sexo_Donante_Tx#1\n",
      "1.0    496\n",
      "2.0    199\n",
      "NaN     41\n",
      "Name: count, dtype: int64\n"
     ]
    }
   ],
   "source": [
    "ver_datos(df, 'Sexo_Donante_Tx#1', True)"
   ]
  },
  {
   "cell_type": "markdown",
   "id": "1bc876df",
   "metadata": {},
   "source": [
    "### Causa_Muerte_Donante_Tx#1"
   ]
  },
  {
   "cell_type": "code",
   "execution_count": 671,
   "id": "a58975b0",
   "metadata": {},
   "outputs": [
    {
     "name": "stdout",
     "output_type": "stream",
     "text": [
      "count    668.000000\n",
      "mean       3.284431\n",
      "std        3.253866\n",
      "min        0.000000\n",
      "25%        1.000000\n",
      "50%        2.000000\n",
      "75%        5.000000\n",
      "max       29.000000\n",
      "Name: Causa_Muerte_Donante_Tx#1, dtype: float64\n",
      "--------------------\n",
      "Número de datos nulos: 68\n",
      "--------------------\n",
      "Causa_Muerte_Donante_Tx#1\n",
      "1.0     313\n",
      "2.0     122\n",
      "5.0      80\n",
      "NaN      68\n",
      "10.0     60\n",
      "7.0      48\n",
      "4.0      18\n",
      "3.0       7\n",
      "6.0       4\n",
      "12.0      4\n",
      "9.0       3\n",
      "8.0       2\n",
      "11.0      2\n",
      "29.0      1\n",
      "13.0      1\n",
      "14.0      1\n",
      "0.0       1\n",
      "15.0      1\n",
      "Name: count, dtype: int64\n"
     ]
    }
   ],
   "source": [
    "ver_datos(df, 'Causa_Muerte_Donante_Tx#1', True)"
   ]
  },
  {
   "cell_type": "code",
   "execution_count": 672,
   "id": "27da9644",
   "metadata": {},
   "outputs": [],
   "source": [
    "df['Causa_Muerte_Donante_Tx#1'] = (\n",
    "    df['Causa_Muerte_Donante_Tx#1']\n",
    "    .replace({\n",
    "        0:np.nan,\n",
    "        29:np.nan\n",
    "    })\n",
    ")"
   ]
  },
  {
   "cell_type": "code",
   "execution_count": 673,
   "id": "486f22eb",
   "metadata": {},
   "outputs": [
    {
     "name": "stdout",
     "output_type": "stream",
     "text": [
      "count    666.000000\n",
      "mean       3.250751\n",
      "std        3.099630\n",
      "min        1.000000\n",
      "25%        1.000000\n",
      "50%        2.000000\n",
      "75%        5.000000\n",
      "max       15.000000\n",
      "Name: Causa_Muerte_Donante_Tx#1, dtype: float64\n",
      "--------------------\n",
      "Número de datos nulos: 70\n",
      "--------------------\n",
      "Causa_Muerte_Donante_Tx#1\n",
      "1.0     313\n",
      "2.0     122\n",
      "5.0      80\n",
      "NaN      70\n",
      "10.0     60\n",
      "7.0      48\n",
      "4.0      18\n",
      "3.0       7\n",
      "6.0       4\n",
      "12.0      4\n",
      "9.0       3\n",
      "8.0       2\n",
      "11.0      2\n",
      "13.0      1\n",
      "14.0      1\n",
      "15.0      1\n",
      "Name: count, dtype: int64\n"
     ]
    }
   ],
   "source": [
    "ver_datos(df, 'Causa_Muerte_Donante_Tx#1', True)"
   ]
  },
  {
   "cell_type": "markdown",
   "id": "3da83de9",
   "metadata": {},
   "source": [
    "### Tipo_de_Cx-Trasplante_Tx#1"
   ]
  },
  {
   "cell_type": "code",
   "execution_count": 674,
   "id": "6e2a0cb1",
   "metadata": {},
   "outputs": [
    {
     "name": "stdout",
     "output_type": "stream",
     "text": [
      "count    728.000000\n",
      "mean       1.950549\n",
      "std        0.413360\n",
      "min        0.000000\n",
      "25%        2.000000\n",
      "50%        2.000000\n",
      "75%        2.000000\n",
      "max        4.000000\n",
      "Name: Tipo_de_Cx-Trasplante_Tx#1, dtype: float64\n",
      "--------------------\n",
      "Número de datos nulos: 8\n",
      "--------------------\n",
      "Tipo_de_Cx-Trasplante_Tx#1\n",
      "2.0    644\n",
      "1.0     45\n",
      "3.0     25\n",
      "0.0     11\n",
      "NaN      8\n",
      "4.0      3\n",
      "Name: count, dtype: int64\n"
     ]
    }
   ],
   "source": [
    "ver_datos(df, 'Tipo_de_Cx-Trasplante_Tx#1', True)"
   ]
  },
  {
   "cell_type": "code",
   "execution_count": 675,
   "id": "d580279a",
   "metadata": {},
   "outputs": [],
   "source": [
    "df['Tipo_de_Cx-Trasplante_Tx#1'] = (\n",
    "    df['Tipo_de_Cx-Trasplante_Tx#1']\n",
    "    .replace({\n",
    "        0:np.nan\n",
    "    })\n",
    ")"
   ]
  },
  {
   "cell_type": "code",
   "execution_count": 676,
   "id": "bf194497",
   "metadata": {},
   "outputs": [
    {
     "name": "stdout",
     "output_type": "stream",
     "text": [
      "count    717.000000\n",
      "mean       1.980474\n",
      "std        0.337851\n",
      "min        1.000000\n",
      "25%        2.000000\n",
      "50%        2.000000\n",
      "75%        2.000000\n",
      "max        4.000000\n",
      "Name: Tipo_de_Cx-Trasplante_Tx#1, dtype: float64\n",
      "--------------------\n",
      "Número de datos nulos: 19\n",
      "--------------------\n",
      "Tipo_de_Cx-Trasplante_Tx#1\n",
      "2.0    644\n",
      "1.0     45\n",
      "3.0     25\n",
      "NaN     19\n",
      "4.0      3\n",
      "Name: count, dtype: int64\n"
     ]
    }
   ],
   "source": [
    "ver_datos(df, 'Tipo_de_Cx-Trasplante_Tx#1', True)"
   ]
  },
  {
   "cell_type": "markdown",
   "id": "e2e406e7",
   "metadata": {},
   "source": [
    "### Trasplante_Combinado-Hígado-Riñón_Tx#1"
   ]
  },
  {
   "cell_type": "code",
   "execution_count": 677,
   "id": "ba29c6eb",
   "metadata": {},
   "outputs": [
    {
     "name": "stdout",
     "output_type": "stream",
     "text": [
      "count    698.000000\n",
      "mean       0.057307\n",
      "std        0.232594\n",
      "min        0.000000\n",
      "25%        0.000000\n",
      "50%        0.000000\n",
      "75%        0.000000\n",
      "max        1.000000\n",
      "Name: Trasplante_Combinado-Hígado-Riñón_Tx#1, dtype: float64\n",
      "--------------------\n",
      "Número de datos nulos: 38\n",
      "--------------------\n",
      "Trasplante_Combinado-Hígado-Riñón_Tx#1\n",
      "0.0    658\n",
      "1.0     40\n",
      "NaN     38\n",
      "Name: count, dtype: int64\n"
     ]
    }
   ],
   "source": [
    "ver_datos(df, 'Trasplante_Combinado-Hígado-Riñón_Tx#1', True)"
   ]
  },
  {
   "cell_type": "markdown",
   "id": "a003afa3",
   "metadata": {},
   "source": [
    "### #_Unidades_Glóbulos_Rojos_Tx#1"
   ]
  },
  {
   "cell_type": "code",
   "execution_count": 678,
   "id": "e3b2e4b0",
   "metadata": {},
   "outputs": [
    {
     "name": "stdout",
     "output_type": "stream",
     "text": [
      "count    697.000000\n",
      "mean       6.421090\n",
      "std        8.176058\n",
      "min        0.000000\n",
      "25%        2.000000\n",
      "50%        4.000000\n",
      "75%        8.000000\n",
      "max       82.000000\n",
      "Name: #_Unidades_Glóbulos_Rojos_Tx#1, dtype: float64\n",
      "--------------------\n",
      "Número de datos nulos: 39\n"
     ]
    }
   ],
   "source": [
    "ver_datos(df, '#_Unidades_Glóbulos_Rojos_Tx#1')"
   ]
  },
  {
   "cell_type": "markdown",
   "id": "eb7021ad",
   "metadata": {},
   "source": [
    "### #_Unidades_Plasma_Fresco_Congelado_Tx#1"
   ]
  },
  {
   "cell_type": "code",
   "execution_count": 679,
   "id": "4b642fc7",
   "metadata": {},
   "outputs": [
    {
     "name": "stdout",
     "output_type": "stream",
     "text": [
      "count    698.000000\n",
      "mean      12.523639\n",
      "std        9.827410\n",
      "min        0.000000\n",
      "25%        6.000000\n",
      "50%       10.000000\n",
      "75%       15.000000\n",
      "max       87.000000\n",
      "Name: #_Unidades_Plasma_Fresco_Congelado_Tx#1, dtype: float64\n",
      "--------------------\n",
      "Número de datos nulos: 38\n"
     ]
    }
   ],
   "source": [
    "ver_datos(df, '#_Unidades_Plasma_Fresco_Congelado_Tx#1')"
   ]
  },
  {
   "cell_type": "markdown",
   "id": "2fa0ac78",
   "metadata": {},
   "source": [
    "### #_Unidades_Crioprecipitados_Tx#1"
   ]
  },
  {
   "cell_type": "code",
   "execution_count": 680,
   "id": "50743b35",
   "metadata": {},
   "outputs": [
    {
     "name": "stdout",
     "output_type": "stream",
     "text": [
      "count    698.000000\n",
      "mean       8.840974\n",
      "std       11.639944\n",
      "min        0.000000\n",
      "25%        0.000000\n",
      "50%        6.000000\n",
      "75%       14.000000\n",
      "max       82.000000\n",
      "Name: #_Unidades_Crioprecipitados_Tx#1, dtype: float64\n",
      "--------------------\n",
      "Número de datos nulos: 38\n"
     ]
    }
   ],
   "source": [
    "ver_datos(df, '#_Unidades_Crioprecipitados_Tx#1')"
   ]
  },
  {
   "cell_type": "markdown",
   "id": "a94025d9",
   "metadata": {},
   "source": [
    "### #_Unidades_Plaquetas_Tx#1"
   ]
  },
  {
   "cell_type": "code",
   "execution_count": 681,
   "id": "f8d60aec",
   "metadata": {},
   "outputs": [
    {
     "name": "stdout",
     "output_type": "stream",
     "text": [
      "count    698.000000\n",
      "mean       7.148281\n",
      "std       10.170090\n",
      "min        0.000000\n",
      "25%        0.000000\n",
      "50%        6.000000\n",
      "75%       12.000000\n",
      "max      138.000000\n",
      "Name: #_Unidades_Plaquetas_Tx#1, dtype: float64\n",
      "--------------------\n",
      "Número de datos nulos: 38\n"
     ]
    }
   ],
   "source": [
    "ver_datos(df, '#_Unidades_Plaquetas_Tx#1')"
   ]
  },
  {
   "cell_type": "markdown",
   "id": "86cb78d3",
   "metadata": {},
   "source": [
    "### Tiempo_Quirúrgico_Tx#1"
   ]
  },
  {
   "cell_type": "code",
   "execution_count": 682,
   "id": "1c1cfe8c",
   "metadata": {},
   "outputs": [
    {
     "name": "stdout",
     "output_type": "stream",
     "text": [
      "count    691.000000\n",
      "mean       5.795774\n",
      "std        1.969284\n",
      "min        2.300000\n",
      "25%        4.500000\n",
      "50%        5.300000\n",
      "75%        6.500000\n",
      "max       16.000000\n",
      "Name: Tiempo_Quirúrgico_Tx#1, dtype: float64\n",
      "--------------------\n",
      "Número de datos nulos: 45\n"
     ]
    }
   ],
   "source": [
    "ver_datos(df, 'Tiempo_Quirúrgico_Tx#1')"
   ]
  },
  {
   "cell_type": "markdown",
   "id": "0f8be2e9",
   "metadata": {},
   "source": [
    "### Antibiótico_Profiláctico_VS_Terapéutico"
   ]
  },
  {
   "cell_type": "code",
   "execution_count": 683,
   "id": "3967b30a",
   "metadata": {},
   "outputs": [
    {
     "name": "stdout",
     "output_type": "stream",
     "text": [
      "count    576.000000\n",
      "mean       0.053819\n",
      "std        0.225857\n",
      "min        0.000000\n",
      "25%        0.000000\n",
      "50%        0.000000\n",
      "75%        0.000000\n",
      "max        1.000000\n",
      "Name: Antibiótico_Profiláctico_VS_Terapéutico, dtype: float64\n",
      "--------------------\n",
      "Número de datos nulos: 160\n",
      "--------------------\n",
      "Antibiótico_Profiláctico_VS_Terapéutico\n",
      "0.0    545\n",
      "NaN    160\n",
      "1.0     31\n",
      "Name: count, dtype: int64\n"
     ]
    }
   ],
   "source": [
    "ver_datos(df, 'Antibiótico_Profiláctico_VS_Terapéutico', True)"
   ]
  },
  {
   "cell_type": "markdown",
   "id": "21ca19df",
   "metadata": {},
   "source": [
    "### Días_Tratamiento_Antibiótico_Previo_A_Tx#1 (hay varios de antibióticos, no sé si incluirlos)"
   ]
  },
  {
   "cell_type": "code",
   "execution_count": 684,
   "id": "83221799",
   "metadata": {},
   "outputs": [
    {
     "name": "stdout",
     "output_type": "stream",
     "text": [
      "count    571.000000\n",
      "mean       0.315236\n",
      "std        1.766778\n",
      "min        0.000000\n",
      "25%        0.000000\n",
      "50%        0.000000\n",
      "75%        0.000000\n",
      "max       18.000000\n",
      "Name: Días_Tratamiento_Antibiótico_Previo_A_Tx#1, dtype: float64\n",
      "--------------------\n",
      "Número de datos nulos: 165\n"
     ]
    }
   ],
   "source": [
    "ver_datos(df, 'Días_Tratamiento_Antibiótico_Previo_A_Tx#1')"
   ]
  },
  {
   "cell_type": "markdown",
   "id": "60ae1642",
   "metadata": {},
   "source": [
    "### Tiempo_De_Dosis_Hasta_Tx#1"
   ]
  },
  {
   "cell_type": "code",
   "execution_count": 685,
   "id": "2947c3c0",
   "metadata": {},
   "outputs": [
    {
     "name": "stdout",
     "output_type": "stream",
     "text": [
      "count     496\n",
      "unique    186\n",
      "top        10\n",
      "freq       16\n",
      "Name: Tiempo_De_Dosis_Hasta_Tx#1, dtype: int64\n",
      "--------------------\n",
      "Número de datos nulos: 240\n"
     ]
    }
   ],
   "source": [
    "ver_datos(df, 'Tiempo_De_Dosis_Hasta_Tx#1')"
   ]
  },
  {
   "cell_type": "code",
   "execution_count": 686,
   "id": "ccab987f",
   "metadata": {},
   "outputs": [
    {
     "name": "stdout",
     "output_type": "stream",
     "text": [
      "count     496\n",
      "unique    186\n",
      "top        10\n",
      "freq       16\n",
      "Name: Tiempo_De_Dosis_Hasta_Tx#1, dtype: int64\n",
      "--------------------\n",
      "Número de datos nulos: 240\n",
      "--------------------\n",
      "Tiempo_De_Dosis_Hasta_Tx#1\n",
      "NaN     240\n",
      "10.0     16\n",
      "2.0      15\n",
      "0.0      15\n",
      "1.0      14\n",
      "       ... \n",
      "69.0      1\n",
      "84.0      1\n",
      "70.0      1\n",
      "61.0      1\n",
      "38.0      1\n",
      "Name: count, Length: 187, dtype: int64\n"
     ]
    }
   ],
   "source": [
    "ver_datos(df, 'Tiempo_De_Dosis_Hasta_Tx#1', True)"
   ]
  },
  {
   "cell_type": "code",
   "execution_count": 687,
   "id": "e794d9ef",
   "metadata": {},
   "outputs": [],
   "source": [
    "df['Tiempo_De_Dosis_Hasta_Tx#1'] = (\n",
    "    df['Tiempo_De_Dosis_Hasta_Tx#1']\n",
    "    .replace({\n",
    "        '0..91':0.91\n",
    "    })\n",
    ")"
   ]
  },
  {
   "cell_type": "code",
   "execution_count": 688,
   "id": "21650fbd",
   "metadata": {},
   "outputs": [],
   "source": [
    "limpiar_numericas(df, 'Tiempo_De_Dosis_Hasta_Tx#1')"
   ]
  },
  {
   "cell_type": "code",
   "execution_count": 689,
   "id": "091cb21b",
   "metadata": {},
   "outputs": [
    {
     "name": "stdout",
     "output_type": "stream",
     "text": [
      "count     495.000000\n",
      "mean       18.900141\n",
      "std        95.058341\n",
      "min         0.000000\n",
      "25%         1.000000\n",
      "50%         3.000000\n",
      "75%        24.000000\n",
      "max      2083.000000\n",
      "Name: Tiempo_De_Dosis_Hasta_Tx#1, dtype: float64\n",
      "--------------------\n",
      "Número de datos nulos: 241\n"
     ]
    }
   ],
   "source": [
    "ver_datos(df, 'Tiempo_De_Dosis_Hasta_Tx#1')"
   ]
  },
  {
   "cell_type": "markdown",
   "id": "d367951e",
   "metadata": {},
   "source": [
    "### Tiempo_Sonda_Vesical"
   ]
  },
  {
   "cell_type": "code",
   "execution_count": 690,
   "id": "bbfa7781",
   "metadata": {},
   "outputs": [
    {
     "name": "stdout",
     "output_type": "stream",
     "text": [
      "count      404.000000\n",
      "mean      -867.150990\n",
      "std       6123.497471\n",
      "min     -44810.000000\n",
      "25%          0.000000\n",
      "50%          1.000000\n",
      "75%          2.000000\n",
      "max         47.000000\n",
      "Name: Tiempo_Sonda_Vesical, dtype: float64\n",
      "--------------------\n",
      "Número de datos nulos: 332\n"
     ]
    }
   ],
   "source": [
    "ver_datos(df, 'Tiempo_Sonda_Vesical')"
   ]
  },
  {
   "cell_type": "code",
   "execution_count": 691,
   "id": "72d83e29",
   "metadata": {},
   "outputs": [
    {
     "data": {
      "text/plain": [
       "<Axes: >"
      ]
     },
     "execution_count": 691,
     "metadata": {},
     "output_type": "execute_result"
    },
    {
     "data": {
      "image/png": "[encoded data removed]",
      "text/plain": [
       "<Figure size 640x480 with 1 Axes>"
      ]
     },
     "metadata": {},
     "output_type": "display_data"
    }
   ],
   "source": [
    "df['Tiempo_Sonda_Vesical'].hist()"
   ]
  },
  {
   "cell_type": "code",
   "execution_count": 692,
   "id": "bf6daebe",
   "metadata": {},
   "outputs": [],
   "source": [
    "# Los pacientes que tienen duraciones de cateter negativos no tienen fecha de retiro.\n",
    "df.loc[df['Tiempo_Sonda_Vesical']<0, 'Tiempo_Sonda_Vesical'] = np.nan"
   ]
  },
  {
   "cell_type": "code",
   "execution_count": 693,
   "id": "a0adf848",
   "metadata": {},
   "outputs": [
    {
     "data": {
      "text/plain": [
       "<Axes: >"
      ]
     },
     "execution_count": 693,
     "metadata": {},
     "output_type": "execute_result"
    },
    {
     "data": {
      "image/png": "[encoded data removed]",
      "text/plain": [
       "<Figure size 640x480 with 1 Axes>"
      ]
     },
     "metadata": {},
     "output_type": "display_data"
    }
   ],
   "source": [
    "df['Tiempo_Sonda_Vesical'].hist()"
   ]
  },
  {
   "cell_type": "code",
   "execution_count": 694,
   "id": "162bccff",
   "metadata": {},
   "outputs": [
    {
     "name": "stdout",
     "output_type": "stream",
     "text": [
      "count    396.000000\n",
      "mean       1.916667\n",
      "std        3.965755\n",
      "min        0.000000\n",
      "25%        0.000000\n",
      "50%        1.000000\n",
      "75%        2.000000\n",
      "max       47.000000\n",
      "Name: Tiempo_Sonda_Vesical, dtype: float64\n",
      "--------------------\n",
      "Número de datos nulos: 340\n"
     ]
    }
   ],
   "source": [
    "ver_datos(df, 'Tiempo_Sonda_Vesical')"
   ]
  },
  {
   "cell_type": "markdown",
   "id": "4b34e2fc",
   "metadata": {},
   "source": [
    "### Tiempo_CVC"
   ]
  },
  {
   "cell_type": "code",
   "execution_count": 695,
   "id": "97b8dec2",
   "metadata": {},
   "outputs": [
    {
     "name": "stdout",
     "output_type": "stream",
     "text": [
      "count      446.000000\n",
      "mean     -3467.995516\n",
      "std      11752.094236\n",
      "min     -45245.000000\n",
      "25%          2.000000\n",
      "50%          6.000000\n",
      "75%          9.000000\n",
      "max        889.000000\n",
      "Name: Tiempo_CVC, dtype: float64\n",
      "--------------------\n",
      "Número de datos nulos: 290\n"
     ]
    }
   ],
   "source": [
    "ver_datos(df, 'Tiempo_CVC')"
   ]
  },
  {
   "cell_type": "code",
   "execution_count": 696,
   "id": "c886367b",
   "metadata": {},
   "outputs": [
    {
     "data": {
      "text/plain": [
       "<Axes: >"
      ]
     },
     "execution_count": 696,
     "metadata": {},
     "output_type": "execute_result"
    },
    {
     "data": {
      "image/png": "[encoded data removed]",
      "text/plain": [
       "<Figure size 640x480 with 1 Axes>"
      ]
     },
     "metadata": {},
     "output_type": "display_data"
    }
   ],
   "source": [
    "df['Tiempo_CVC'].hist()"
   ]
  },
  {
   "cell_type": "code",
   "execution_count": 697,
   "id": "c36600a9",
   "metadata": {},
   "outputs": [],
   "source": [
    "# Los pacientes que tienen duraciones de cateter negativos no tienen fecha de retiro.\n",
    "df.loc[df['Tiempo_CVC']<0, 'Tiempo_CVC'] = np.nan"
   ]
  },
  {
   "cell_type": "code",
   "execution_count": 698,
   "id": "40010fb7",
   "metadata": {},
   "outputs": [
    {
     "data": {
      "text/plain": [
       "<Axes: >"
      ]
     },
     "execution_count": 698,
     "metadata": {},
     "output_type": "execute_result"
    },
    {
     "data": {
      "image/png": "[encoded data removed]",
      "text/plain": [
       "<Figure size 640x480 with 1 Axes>"
      ]
     },
     "metadata": {},
     "output_type": "display_data"
    }
   ],
   "source": [
    "df['Tiempo_CVC'].hist()"
   ]
  },
  {
   "cell_type": "code",
   "execution_count": 699,
   "id": "b1567287",
   "metadata": {},
   "outputs": [
    {
     "data": {
      "text/html": [
       "<div>\n",
       "<style scoped>\n",
       "    .dataframe tbody tr th:only-of-type {\n",
       "        vertical-align: middle;\n",
       "    }\n",
       "\n",
       "    .dataframe tbody tr th {\n",
       "        vertical-align: top;\n",
       "    }\n",
       "\n",
       "    .dataframe thead th {\n",
       "        text-align: right;\n",
       "    }\n",
       "</style>\n",
       "<table border=\"1\" class=\"dataframe\">\n",
       "  <thead>\n",
       "    <tr style=\"text-align: right;\">\n",
       "      <th></th>\n",
       "      <th>Fecha_Colocación_CVC</th>\n",
       "      <th>Fecha_Retiro_CVC</th>\n",
       "      <th>Tiempo_CVC</th>\n",
       "    </tr>\n",
       "    <tr>\n",
       "      <th>#_Paciente</th>\n",
       "      <th></th>\n",
       "      <th></th>\n",
       "      <th></th>\n",
       "    </tr>\n",
       "  </thead>\n",
       "  <tbody>\n",
       "    <tr>\n",
       "      <th>440</th>\n",
       "      <td>2016-07-25 00:00:00</td>\n",
       "      <td>2018-12-31</td>\n",
       "      <td>889.0</td>\n",
       "    </tr>\n",
       "  </tbody>\n",
       "</table>\n",
       "</div>"
      ],
      "text/plain": [
       "           Fecha_Colocación_CVC Fecha_Retiro_CVC  Tiempo_CVC\n",
       "#_Paciente                                                  \n",
       "440         2016-07-25 00:00:00       2018-12-31       889.0"
      ]
     },
     "execution_count": 699,
     "metadata": {},
     "output_type": "execute_result"
    }
   ],
   "source": [
    "# Vemos que la duración de 889 días es válida, pero corresponde a un valor atípico por lo que se omitirá\n",
    "df[(df['Tiempo_CVC']>400)][['Fecha_Colocación_CVC','Fecha_Retiro_CVC','Tiempo_CVC']]"
   ]
  },
  {
   "cell_type": "code",
   "execution_count": 700,
   "id": "1316bcbe",
   "metadata": {},
   "outputs": [],
   "source": [
    "df.loc[df['Tiempo_CVC']>800, 'Tiempo_CVC'] = np.nan"
   ]
  },
  {
   "cell_type": "code",
   "execution_count": 701,
   "id": "0c27b726",
   "metadata": {},
   "outputs": [
    {
     "name": "stdout",
     "output_type": "stream",
     "text": [
      "count    409.000000\n",
      "mean       7.422983\n",
      "std        7.302938\n",
      "min        0.000000\n",
      "25%        4.000000\n",
      "50%        6.000000\n",
      "75%        9.000000\n",
      "max       59.000000\n",
      "Name: Tiempo_CVC, dtype: float64\n",
      "--------------------\n",
      "Número de datos nulos: 327\n"
     ]
    }
   ],
   "source": [
    "ver_datos(df, 'Tiempo_CVC')"
   ]
  },
  {
   "cell_type": "markdown",
   "id": "3e5f11f6",
   "metadata": {},
   "source": [
    "### Soporte_Vasopresor_PeriTx"
   ]
  },
  {
   "cell_type": "code",
   "execution_count": 702,
   "id": "b86b406a",
   "metadata": {},
   "outputs": [
    {
     "name": "stdout",
     "output_type": "stream",
     "text": [
      "count    642.000000\n",
      "mean       0.588785\n",
      "std        0.492438\n",
      "min        0.000000\n",
      "25%        0.000000\n",
      "50%        1.000000\n",
      "75%        1.000000\n",
      "max        1.000000\n",
      "Name: Soporte_Vasopresor_PeriTx, dtype: float64\n",
      "--------------------\n",
      "Número de datos nulos: 94\n",
      "--------------------\n",
      "Soporte_Vasopresor_PeriTx\n",
      "1.0    378\n",
      "0.0    264\n",
      "NaN     94\n",
      "Name: count, dtype: int64\n"
     ]
    }
   ],
   "source": [
    "ver_datos(df, 'Soporte_Vasopresor_PeriTx', True)"
   ]
  },
  {
   "cell_type": "markdown",
   "id": "97b97573",
   "metadata": {},
   "source": [
    "### Levosimendan_PeriTx"
   ]
  },
  {
   "cell_type": "code",
   "execution_count": 703,
   "id": "4d4bb832",
   "metadata": {},
   "outputs": [
    {
     "name": "stdout",
     "output_type": "stream",
     "text": [
      "count    648.000000\n",
      "mean       0.006173\n",
      "std        0.078385\n",
      "min        0.000000\n",
      "25%        0.000000\n",
      "50%        0.000000\n",
      "75%        0.000000\n",
      "max        1.000000\n",
      "Name: Levosimendan_PeriTx, dtype: float64\n",
      "--------------------\n",
      "Número de datos nulos: 88\n",
      "--------------------\n",
      "Levosimendan_PeriTx\n",
      "0.0    644\n",
      "NaN     88\n",
      "1.0      4\n",
      "Name: count, dtype: int64\n"
     ]
    }
   ],
   "source": [
    "ver_datos(df, 'Levosimendan_PeriTx', True)"
   ]
  },
  {
   "cell_type": "markdown",
   "id": "31c991d7",
   "metadata": {},
   "source": [
    "### Noradrenalina_PeriTx"
   ]
  },
  {
   "cell_type": "code",
   "execution_count": 704,
   "id": "4fd8680a",
   "metadata": {},
   "outputs": [
    {
     "name": "stdout",
     "output_type": "stream",
     "text": [
      "count    644.000000\n",
      "mean       0.560559\n",
      "std        0.496705\n",
      "min        0.000000\n",
      "25%        0.000000\n",
      "50%        1.000000\n",
      "75%        1.000000\n",
      "max        1.000000\n",
      "Name: Noradrenalina_PeriTx, dtype: float64\n",
      "--------------------\n",
      "Número de datos nulos: 92\n",
      "--------------------\n",
      "Noradrenalina_PeriTx\n",
      "1.0    361\n",
      "0.0    283\n",
      "NaN     92\n",
      "Name: count, dtype: int64\n"
     ]
    }
   ],
   "source": [
    "ver_datos(df, 'Noradrenalina_PeriTx', True)"
   ]
  },
  {
   "cell_type": "markdown",
   "id": "6ec6a1c3",
   "metadata": {},
   "source": [
    "### Adrenalina_PeriTx"
   ]
  },
  {
   "cell_type": "code",
   "execution_count": 705,
   "id": "d6d7a29e",
   "metadata": {},
   "outputs": [
    {
     "name": "stdout",
     "output_type": "stream",
     "text": [
      "count    646.000000\n",
      "mean       0.082043\n",
      "std        0.274643\n",
      "min        0.000000\n",
      "25%        0.000000\n",
      "50%        0.000000\n",
      "75%        0.000000\n",
      "max        1.000000\n",
      "Name: Adrenalina_PeriTx, dtype: float64\n",
      "--------------------\n",
      "Número de datos nulos: 90\n",
      "--------------------\n",
      "Adrenalina_PeriTx\n",
      "0.0    593\n",
      "NaN     90\n",
      "1.0     53\n",
      "Name: count, dtype: int64\n"
     ]
    }
   ],
   "source": [
    "ver_datos(df, 'Adrenalina_PeriTx', True)"
   ]
  },
  {
   "cell_type": "markdown",
   "id": "0fbbd457",
   "metadata": {},
   "source": [
    "### Vasopresina_PeriTx"
   ]
  },
  {
   "cell_type": "code",
   "execution_count": 706,
   "id": "d0fdf612",
   "metadata": {},
   "outputs": [
    {
     "name": "stdout",
     "output_type": "stream",
     "text": [
      "count    646.000000\n",
      "mean       0.051084\n",
      "std        0.220339\n",
      "min        0.000000\n",
      "25%        0.000000\n",
      "50%        0.000000\n",
      "75%        0.000000\n",
      "max        1.000000\n",
      "Name: Vasopresina_PeriTx, dtype: float64\n",
      "--------------------\n",
      "Número de datos nulos: 90\n",
      "--------------------\n",
      "Vasopresina_PeriTx\n",
      "0.0    613\n",
      "NaN     90\n",
      "1.0     33\n",
      "Name: count, dtype: int64\n"
     ]
    }
   ],
   "source": [
    "ver_datos(df, 'Vasopresina_PeriTx', True)"
   ]
  },
  {
   "cell_type": "markdown",
   "id": "1c2ba74a",
   "metadata": {},
   "source": [
    "### Dopamina_PeriTx"
   ]
  },
  {
   "cell_type": "code",
   "execution_count": 707,
   "id": "700b6882",
   "metadata": {},
   "outputs": [
    {
     "name": "stdout",
     "output_type": "stream",
     "text": [
      "count    645.000000\n",
      "mean       0.131783\n",
      "std        0.338517\n",
      "min        0.000000\n",
      "25%        0.000000\n",
      "50%        0.000000\n",
      "75%        0.000000\n",
      "max        1.000000\n",
      "Name: Dopamina_PeriTx, dtype: float64\n",
      "--------------------\n",
      "Número de datos nulos: 91\n",
      "--------------------\n",
      "Dopamina_PeriTx\n",
      "0.0    560\n",
      "NaN     91\n",
      "1.0     85\n",
      "Name: count, dtype: int64\n"
     ]
    }
   ],
   "source": [
    "ver_datos(df, 'Dopamina_PeriTx', True)"
   ]
  },
  {
   "cell_type": "markdown",
   "id": "6d856c02",
   "metadata": {},
   "source": [
    "### Amiodarona_PeriTx"
   ]
  },
  {
   "cell_type": "code",
   "execution_count": 708,
   "id": "99293c8e",
   "metadata": {},
   "outputs": [
    {
     "name": "stdout",
     "output_type": "stream",
     "text": [
      "count    645.000000\n",
      "mean       0.058915\n",
      "std        0.441907\n",
      "min        0.000000\n",
      "25%        0.000000\n",
      "50%        0.000000\n",
      "75%        0.000000\n",
      "max       10.000000\n",
      "Name: Amiodarona_PeriTx, dtype: float64\n",
      "--------------------\n",
      "Número de datos nulos: 91\n",
      "--------------------\n",
      "Amiodarona_PeriTx\n",
      "0.0     616\n",
      "NaN      91\n",
      "1.0      28\n",
      "10.0      1\n",
      "Name: count, dtype: int64\n"
     ]
    }
   ],
   "source": [
    "ver_datos(df, 'Amiodarona_PeriTx', True)"
   ]
  },
  {
   "cell_type": "code",
   "execution_count": 709,
   "id": "e608ed44",
   "metadata": {},
   "outputs": [],
   "source": [
    "df[\"Amiodarona_PeriTx\"] = df[\"Amiodarona_PeriTx\"].replace(10, 1)"
   ]
  },
  {
   "cell_type": "code",
   "execution_count": 710,
   "id": "28b01783",
   "metadata": {},
   "outputs": [
    {
     "name": "stdout",
     "output_type": "stream",
     "text": [
      "count    645.000000\n",
      "mean       0.044961\n",
      "std        0.207380\n",
      "min        0.000000\n",
      "25%        0.000000\n",
      "50%        0.000000\n",
      "75%        0.000000\n",
      "max        1.000000\n",
      "Name: Amiodarona_PeriTx, dtype: float64\n",
      "--------------------\n",
      "Número de datos nulos: 91\n",
      "--------------------\n",
      "Amiodarona_PeriTx\n",
      "0.0    616\n",
      "NaN     91\n",
      "1.0     29\n",
      "Name: count, dtype: int64\n"
     ]
    }
   ],
   "source": [
    "ver_datos(df, 'Amiodarona_PeriTx', True)"
   ]
  },
  {
   "cell_type": "markdown",
   "id": "ccc7dd85",
   "metadata": {},
   "source": [
    "### Stent"
   ]
  },
  {
   "cell_type": "code",
   "execution_count": 711,
   "id": "60ba20ca",
   "metadata": {},
   "outputs": [
    {
     "name": "stdout",
     "output_type": "stream",
     "text": [
      "count    651.000000\n",
      "mean       0.168971\n",
      "std        0.375014\n",
      "min        0.000000\n",
      "25%        0.000000\n",
      "50%        0.000000\n",
      "75%        0.000000\n",
      "max        1.000000\n",
      "Name: Stent, dtype: float64\n",
      "--------------------\n",
      "Número de datos nulos: 85\n",
      "--------------------\n",
      "Stent\n",
      "0.0    541\n",
      "1.0    110\n",
      "NaN     85\n",
      "Name: count, dtype: int64\n"
     ]
    }
   ],
   "source": [
    "ver_datos(df, 'Stent', True)"
   ]
  },
  {
   "cell_type": "markdown",
   "id": "c9eb7fce",
   "metadata": {},
   "source": [
    "### Requirió_Reconstrucción_Biliar"
   ]
  },
  {
   "cell_type": "code",
   "execution_count": 712,
   "id": "9e324ba9",
   "metadata": {},
   "outputs": [
    {
     "name": "stdout",
     "output_type": "stream",
     "text": [
      "count    652.000000\n",
      "mean       0.044479\n",
      "std        0.206314\n",
      "min        0.000000\n",
      "25%        0.000000\n",
      "50%        0.000000\n",
      "75%        0.000000\n",
      "max        1.000000\n",
      "Name: Requirió_Reconstrucción_Biliar, dtype: float64\n",
      "--------------------\n",
      "Número de datos nulos: 84\n",
      "--------------------\n",
      "Requirió_Reconstrucción_Biliar\n",
      "0.0    623\n",
      "NaN     84\n",
      "1.0     29\n",
      "Name: count, dtype: int64\n"
     ]
    }
   ],
   "source": [
    "ver_datos(df, 'Requirió_Reconstrucción_Biliar', True)"
   ]
  },
  {
   "cell_type": "markdown",
   "id": "a6ae3111",
   "metadata": {},
   "source": [
    "### Profilaxis_Antitrombótica"
   ]
  },
  {
   "cell_type": "code",
   "execution_count": 713,
   "id": "9d9e2a71",
   "metadata": {},
   "outputs": [
    {
     "name": "stdout",
     "output_type": "stream",
     "text": [
      "count    533.000000\n",
      "mean       0.969981\n",
      "std        0.485736\n",
      "min        0.000000\n",
      "25%        1.000000\n",
      "50%        1.000000\n",
      "75%        1.000000\n",
      "max       11.000000\n",
      "Name: Profilaxis_Antitrombótica, dtype: float64\n",
      "--------------------\n",
      "Número de datos nulos: 203\n",
      "--------------------\n",
      "Profilaxis_Antitrombótica\n",
      "1.0     506\n",
      "NaN     203\n",
      "0.0      26\n",
      "11.0      1\n",
      "Name: count, dtype: int64\n"
     ]
    }
   ],
   "source": [
    "ver_datos(df, 'Profilaxis_Antitrombótica', True)"
   ]
  },
  {
   "cell_type": "code",
   "execution_count": 714,
   "id": "82c110e0",
   "metadata": {},
   "outputs": [],
   "source": [
    "df[\"Profilaxis_Antitrombótica\"] = df[\"Profilaxis_Antitrombótica\"].replace(11, 1)"
   ]
  },
  {
   "cell_type": "code",
   "execution_count": 715,
   "id": "ded64073",
   "metadata": {},
   "outputs": [
    {
     "name": "stdout",
     "output_type": "stream",
     "text": [
      "count    533.000000\n",
      "mean       0.951220\n",
      "std        0.215611\n",
      "min        0.000000\n",
      "25%        1.000000\n",
      "50%        1.000000\n",
      "75%        1.000000\n",
      "max        1.000000\n",
      "Name: Profilaxis_Antitrombótica, dtype: float64\n",
      "--------------------\n",
      "Número de datos nulos: 203\n",
      "--------------------\n",
      "Profilaxis_Antitrombótica\n",
      "1.0    507\n",
      "NaN    203\n",
      "0.0     26\n",
      "Name: count, dtype: int64\n"
     ]
    }
   ],
   "source": [
    "ver_datos(df, 'Profilaxis_Antitrombótica', True)"
   ]
  },
  {
   "cell_type": "markdown",
   "id": "a3b1614b",
   "metadata": {},
   "source": [
    "### Días_de_Profilaxis_Antitrombótica"
   ]
  },
  {
   "cell_type": "code",
   "execution_count": 716,
   "id": "71f6226d",
   "metadata": {},
   "outputs": [
    {
     "name": "stdout",
     "output_type": "stream",
     "text": [
      "count    473.000000\n",
      "mean       6.520085\n",
      "std        8.788723\n",
      "min        0.000000\n",
      "25%        1.000000\n",
      "50%        1.000000\n",
      "75%        9.000000\n",
      "max       54.000000\n",
      "Name: Días_de_Profilaxis_Antitrombótica, dtype: float64\n",
      "--------------------\n",
      "Número de datos nulos: 263\n"
     ]
    }
   ],
   "source": [
    "ver_datos(df, 'Días_de_Profilaxis_Antitrombótica')"
   ]
  },
  {
   "cell_type": "markdown",
   "id": "955489d8",
   "metadata": {},
   "source": [
    "### Fast_Track"
   ]
  },
  {
   "cell_type": "code",
   "execution_count": 717,
   "id": "b2db90e5",
   "metadata": {},
   "outputs": [
    {
     "name": "stdout",
     "output_type": "stream",
     "text": [
      "count    696.000000\n",
      "mean       0.089080\n",
      "std        0.285065\n",
      "min        0.000000\n",
      "25%        0.000000\n",
      "50%        0.000000\n",
      "75%        0.000000\n",
      "max        1.000000\n",
      "Name: Fast_Track, dtype: float64\n",
      "--------------------\n",
      "Número de datos nulos: 40\n",
      "--------------------\n",
      "Fast_Track\n",
      "0.0    634\n",
      "1.0     62\n",
      "NaN     40\n",
      "Name: count, dtype: int64\n"
     ]
    }
   ],
   "source": [
    "ver_datos(df, 'Fast_Track', True)"
   ]
  },
  {
   "cell_type": "markdown",
   "id": "83951db1",
   "metadata": {},
   "source": [
    "### Días_En_UCI"
   ]
  },
  {
   "cell_type": "code",
   "execution_count": 718,
   "id": "9ccdfcd7",
   "metadata": {},
   "outputs": [
    {
     "name": "stdout",
     "output_type": "stream",
     "text": [
      "count    697.000000\n",
      "mean       4.568149\n",
      "std        8.556524\n",
      "min        0.000000\n",
      "25%        1.000000\n",
      "50%        2.000000\n",
      "75%        4.000000\n",
      "max       94.000000\n",
      "Name: Días_En_UCI, dtype: float64\n",
      "--------------------\n",
      "Número de datos nulos: 39\n"
     ]
    }
   ],
   "source": [
    "ver_datos(df, 'Días_En_UCI')"
   ]
  },
  {
   "cell_type": "markdown",
   "id": "4cfce924",
   "metadata": {},
   "source": [
    "### Días_En_Hospitalización_Piso"
   ]
  },
  {
   "cell_type": "code",
   "execution_count": 719,
   "id": "5dfc45a8",
   "metadata": {},
   "outputs": [
    {
     "name": "stdout",
     "output_type": "stream",
     "text": [
      "count      702.000000\n",
      "mean      -377.676638\n",
      "std       4167.865767\n",
      "min     -45324.000000\n",
      "25%          4.000000\n",
      "50%          7.000000\n",
      "75%         11.000000\n",
      "max        125.000000\n",
      "Name: Días_En_Hospitalización_Piso, dtype: float64\n",
      "--------------------\n",
      "Número de datos nulos: 34\n"
     ]
    }
   ],
   "source": [
    "ver_datos(df, 'Días_En_Hospitalización_Piso')"
   ]
  },
  {
   "cell_type": "code",
   "execution_count": 720,
   "id": "a8d46573",
   "metadata": {},
   "outputs": [],
   "source": [
    "df.loc[\n",
    "    df[\"Días_En_Hospitalización_Piso\"] < 0,\n",
    "    \"Días_En_Hospitalización_Piso\"\n",
    "] = np.nan"
   ]
  },
  {
   "cell_type": "code",
   "execution_count": 721,
   "id": "63fc2b16",
   "metadata": {},
   "outputs": [
    {
     "name": "stdout",
     "output_type": "stream",
     "text": [
      "count    696.000000\n",
      "mean       9.022989\n",
      "std        9.356999\n",
      "min        0.000000\n",
      "25%        4.000000\n",
      "50%        7.000000\n",
      "75%       11.000000\n",
      "max      125.000000\n",
      "Name: Días_En_Hospitalización_Piso, dtype: float64\n",
      "--------------------\n",
      "Número de datos nulos: 40\n"
     ]
    }
   ],
   "source": [
    "ver_datos(df, 'Días_En_Hospitalización_Piso')"
   ]
  },
  {
   "cell_type": "markdown",
   "id": "30b7203e",
   "metadata": {},
   "source": [
    "### Días_Totales_Intrahospitalarios"
   ]
  },
  {
   "cell_type": "code",
   "execution_count": 722,
   "id": "9f43f683",
   "metadata": {},
   "outputs": [
    {
     "name": "stdout",
     "output_type": "stream",
     "text": [
      "count      702.000000\n",
      "mean      -373.457265\n",
      "std       4168.268764\n",
      "min     -45324.000000\n",
      "25%          6.000000\n",
      "50%          9.000000\n",
      "75%         15.000000\n",
      "max        184.000000\n",
      "Name: Días_Totales_Intrahospitalarios, dtype: float64\n",
      "--------------------\n",
      "Número de datos nulos: 34\n"
     ]
    }
   ],
   "source": [
    "ver_datos(df, 'Días_Totales_Intrahospitalarios')"
   ]
  },
  {
   "cell_type": "code",
   "execution_count": 723,
   "id": "eaebb8ce",
   "metadata": {},
   "outputs": [],
   "source": [
    "df.loc[\n",
    "    df[\"Días_Totales_Intrahospitalarios\"] < 0,\n",
    "    \"Días_Totales_Intrahospitalarios\"\n",
    "] = np.nan"
   ]
  },
  {
   "cell_type": "code",
   "execution_count": 724,
   "id": "d5150d8c",
   "metadata": {},
   "outputs": [
    {
     "name": "stdout",
     "output_type": "stream",
     "text": [
      "count    696.000000\n",
      "mean      13.278736\n",
      "std       13.405460\n",
      "min        0.000000\n",
      "25%        6.000000\n",
      "50%        9.000000\n",
      "75%       15.000000\n",
      "max      184.000000\n",
      "Name: Días_Totales_Intrahospitalarios, dtype: float64\n",
      "--------------------\n",
      "Número de datos nulos: 40\n"
     ]
    }
   ],
   "source": [
    "ver_datos(df, 'Días_Totales_Intrahospitalarios')"
   ]
  },
  {
   "cell_type": "markdown",
   "id": "619f85fd",
   "metadata": {},
   "source": [
    "### Fecha_Egreso_UCI\n"
   ]
  },
  {
   "cell_type": "code",
   "execution_count": 725,
   "id": "ddbd0043",
   "metadata": {},
   "outputs": [
    {
     "name": "stdout",
     "output_type": "stream",
     "text": [
      "count                     108\n",
      "unique                    107\n",
      "top       2017-11-09 00:00:00\n",
      "freq                        2\n",
      "Name: Fecha_Egreso_UCI, dtype: object\n",
      "--------------------\n",
      "Número de datos nulos: 628\n"
     ]
    }
   ],
   "source": [
    "ver_datos(df, 'Fecha_Egreso_UCI')"
   ]
  },
  {
   "cell_type": "code",
   "execution_count": 726,
   "id": "9e46b216",
   "metadata": {},
   "outputs": [],
   "source": [
    "df['Fecha_Egreso_UCI']=df['Fecha_Egreso_UCI'].apply(parse_date)"
   ]
  },
  {
   "cell_type": "code",
   "execution_count": 727,
   "id": "c78ca057",
   "metadata": {},
   "outputs": [],
   "source": [
    "df.loc[df['Fecha_Egreso_UCI'] < '1900-01-01', 'Fecha_Egreso_UCI'] = pd.NaT"
   ]
  },
  {
   "cell_type": "code",
   "execution_count": 728,
   "id": "d1354e41",
   "metadata": {},
   "outputs": [
    {
     "name": "stdout",
     "output_type": "stream",
     "text": [
      "count                              107\n",
      "mean     2017-12-15 19:30:50.467289600\n",
      "min                2004-08-14 00:00:00\n",
      "25%                2014-07-21 12:00:00\n",
      "50%                2017-02-11 00:00:00\n",
      "75%                2023-02-15 00:00:00\n",
      "max                2025-03-05 00:00:00\n",
      "Name: Fecha_Egreso_UCI, dtype: object\n",
      "--------------------\n",
      "Número de datos nulos: 629\n"
     ]
    }
   ],
   "source": [
    "ver_datos(df, 'Fecha_Egreso_UCI')"
   ]
  },
  {
   "cell_type": "markdown",
   "id": "231d5c11",
   "metadata": {},
   "source": [
    "### Fecha_Egreso_Hospitalario"
   ]
  },
  {
   "cell_type": "code",
   "execution_count": 729,
   "id": "4cd58eb7",
   "metadata": {},
   "outputs": [
    {
     "name": "stdout",
     "output_type": "stream",
     "text": [
      "count                              155\n",
      "mean     2019-11-18 15:38:19.354838784\n",
      "min                2004-08-14 00:00:00\n",
      "25%                2015-08-08 00:00:00\n",
      "50%                2023-01-28 00:00:00\n",
      "75%                2024-01-27 00:00:00\n",
      "max                2025-03-13 00:00:00\n",
      "Name: Fecha_Egreso_Hospitalario, dtype: object\n",
      "--------------------\n",
      "Número de datos nulos: 581\n"
     ]
    }
   ],
   "source": [
    "ver_datos(df, 'Fecha_Egreso_Hospitalario')"
   ]
  },
  {
   "cell_type": "markdown",
   "id": "51590418",
   "metadata": {},
   "source": [
    "### ¿Complicación?"
   ]
  },
  {
   "cell_type": "code",
   "execution_count": 730,
   "id": "b074a4cb",
   "metadata": {},
   "outputs": [
    {
     "name": "stdout",
     "output_type": "stream",
     "text": [
      "count     675\n",
      "unique    162\n",
      "top        NO\n",
      "freq      259\n",
      "Name: ¿Complicación?, dtype: object\n",
      "--------------------\n",
      "Número de datos nulos: 61\n",
      "--------------------\n",
      "¿Complicación?\n",
      "NO                                 259\n",
      "0                                   94\n",
      "NaN                                 61\n",
      "1                                   61\n",
      "BILIAR                              19\n",
      "                                  ... \n",
      "HERPES ZOSTER                        1\n",
      "RECHAZO                              1\n",
      "CHOQUE DISTRIBUTIVO                  1\n",
      "FALLA RENAL                          1\n",
      "DISFUNCIÓN PRIMARIA DEL INJERTO      1\n",
      "Name: count, Length: 163, dtype: int64\n"
     ]
    }
   ],
   "source": [
    "ver_datos(df, '¿Complicación?', True)"
   ]
  },
  {
   "cell_type": "code",
   "execution_count": 731,
   "id": "52440685",
   "metadata": {},
   "outputs": [],
   "source": [
    "df['¿Complicación?']=df['¿Complicación?'].replace([\"NO\", \"N0\", \"NINGUNA\", \"NINGUNO\", \"NADA\"], 0)\n",
    "df.loc[df['¿Complicación?'].notna() & (df['¿Complicación?'] != 0), '¿Complicación?'] = 1"
   ]
  },
  {
   "cell_type": "code",
   "execution_count": 732,
   "id": "c8149df7",
   "metadata": {},
   "outputs": [
    {
     "name": "stdout",
     "output_type": "stream",
     "text": [
      "count     675\n",
      "unique      2\n",
      "top         0\n",
      "freq      361\n",
      "Name: ¿Complicación?, dtype: int64\n",
      "--------------------\n",
      "Número de datos nulos: 61\n",
      "--------------------\n",
      "¿Complicación?\n",
      "0      361\n",
      "1      314\n",
      "NaN     61\n",
      "Name: count, dtype: int64\n"
     ]
    }
   ],
   "source": [
    "ver_datos(df, '¿Complicación?', True)"
   ]
  },
  {
   "cell_type": "markdown",
   "id": "23e9ac66",
   "metadata": {},
   "source": [
    "### #_De_Complicaciones"
   ]
  },
  {
   "cell_type": "code",
   "execution_count": 733,
   "id": "c57ec6b3",
   "metadata": {},
   "outputs": [
    {
     "name": "stdout",
     "output_type": "stream",
     "text": [
      "count    491.000000\n",
      "mean       1.853360\n",
      "std        3.887038\n",
      "min        0.000000\n",
      "25%        0.000000\n",
      "50%        1.000000\n",
      "75%        2.000000\n",
      "max       37.000000\n",
      "Name: #_De_Complicaciones, dtype: float64\n",
      "--------------------\n",
      "Número de datos nulos: 245\n"
     ]
    }
   ],
   "source": [
    "ver_datos(df, '#_De_Complicaciones')"
   ]
  },
  {
   "cell_type": "markdown",
   "id": "2f2e5fc3",
   "metadata": {},
   "source": [
    "### Tipo_De_Complicación_1"
   ]
  },
  {
   "cell_type": "code",
   "execution_count": 734,
   "id": "70c886cf",
   "metadata": {},
   "outputs": [
    {
     "name": "stdout",
     "output_type": "stream",
     "text": [
      "count     537\n",
      "unique     44\n",
      "top         0\n",
      "freq      256\n",
      "Name: Tipo_De_Complicación_1, dtype: int64\n",
      "--------------------\n",
      "Número de datos nulos: 199\n",
      "--------------------\n",
      "Tipo_De_Complicación_1\n",
      "0                                                                                       256\n",
      "NaN                                                                                     199\n",
      "1                                                                                        69\n",
      "4                                                                                        34\n",
      "15                                                                                       30\n",
      "9                                                                                        22\n",
      "3                                                                                        18\n",
      "18                                                                                       15\n",
      "5                                                                                        13\n",
      "2                                                                                        12\n",
      "14                                                                                        8\n",
      "31                                                                                        6\n",
      "6                                                                                         5\n",
      "38                                                                                        4\n",
      "22                                                                                        4\n",
      "19                                                                                        3\n",
      "17                                                                                        3\n",
      "7                                                                                         2\n",
      "8                                                                                         2\n",
      "24                                                                                        2\n",
      "25                                                                                        2\n",
      "26                                                                                        2\n",
      "20                                                                                        2\n",
      "21                                                                                        2\n",
      "11                                                                                        1\n",
      "12                                                                                        1\n",
      "30                                                                                        1\n",
      "13                                                                                        1\n",
      "16                                                                                        1\n",
      "29                                                                                        1\n",
      "28                                                                                        1\n",
      "35                                                                                        1\n",
      "27                                                                                        1\n",
      "36                                                                                        1\n",
      "5,9,18                                                                                    1\n",
      "34                                                                                        1\n",
      "9.18                                                                                      1\n",
      "5.15                                                                                      1\n",
      "7,15,18,33                                                                                1\n",
      "4.18                                                                                      1\n",
      "5,11,15,18,25,38                                                                          1\n",
      "BUDD CHIARI AGUDO                                                                         1\n",
      "40                                                                                        1\n",
      "FA, HEMOPERITONEO, FALLA RENAL, PARO RESPIRATORIO, STEVEN JOHNSON, FALLA RENAL AGUDA      1\n",
      "41                                                                                        1\n",
      "Name: count, dtype: int64\n"
     ]
    }
   ],
   "source": [
    "ver_datos(df, 'Tipo_De_Complicación_1', True)"
   ]
  },
  {
   "cell_type": "code",
   "execution_count": 735,
   "id": "407dcb28",
   "metadata": {},
   "outputs": [
    {
     "name": "stderr",
     "output_type": "stream",
     "text": [
      "C:\\Users\\jmriv\\AppData\\Local\\Temp\\ipykernel_22692\\667141772.py:3: FutureWarning: Downcasting behavior in `replace` is deprecated and will be removed in a future version. To retain the old behavior, explicitly call `result.infer_objects(copy=False)`. To opt-in to the future behavior, set `pd.set_option('future.no_silent_downcasting', True)`\n",
      "  .replace({\n"
     ]
    }
   ],
   "source": [
    "df['Tipo_De_Complicación_1'] = (\n",
    "    df['Tipo_De_Complicación_1']\n",
    "    .replace({\n",
    "        \"BUDD CHIARI AGUDO\": 24,\n",
    "        \"STEVEN JOHNSON\": 42,\n",
    "        \"FALLA RENAL AGUDA\": 18,\n",
    "        \"FA, HEMOPERITONEO, FALLA RENAL, PARO RESPIRATORIO, STEVEN JOHNSON, FALLA RENAL AGUDA\":18,\n",
    "        \"5,9,18\":5,\n",
    "        9.18:9,\n",
    "        5.15:5,\n",
    "        '7,15,18,33':7,\n",
    "        4.18:4,\n",
    "        '5,11,15,18,25,38':5\n",
    "    })\n",
    ")"
   ]
  },
  {
   "cell_type": "code",
   "execution_count": 736,
   "id": "09bc2cb4",
   "metadata": {},
   "outputs": [
    {
     "name": "stdout",
     "output_type": "stream",
     "text": [
      "count    537.000000\n",
      "mean       4.903166\n",
      "std        8.251070\n",
      "min        0.000000\n",
      "25%        0.000000\n",
      "50%        1.000000\n",
      "75%        5.000000\n",
      "max       41.000000\n",
      "Name: Tipo_De_Complicación_1, dtype: float64\n",
      "--------------------\n",
      "Número de datos nulos: 199\n",
      "--------------------\n",
      "Tipo_De_Complicación_1\n",
      "0.0     256\n",
      "NaN     199\n",
      "1.0      69\n",
      "4.0      35\n",
      "15.0     30\n",
      "9.0      23\n",
      "3.0      18\n",
      "5.0      16\n",
      "18.0     16\n",
      "2.0      12\n",
      "14.0      8\n",
      "31.0      6\n",
      "6.0       5\n",
      "38.0      4\n",
      "22.0      4\n",
      "24.0      3\n",
      "7.0       3\n",
      "19.0      3\n",
      "17.0      3\n",
      "8.0       2\n",
      "20.0      2\n",
      "26.0      2\n",
      "21.0      2\n",
      "25.0      2\n",
      "16.0      1\n",
      "12.0      1\n",
      "11.0      1\n",
      "13.0      1\n",
      "30.0      1\n",
      "29.0      1\n",
      "28.0      1\n",
      "35.0      1\n",
      "27.0      1\n",
      "36.0      1\n",
      "34.0      1\n",
      "40.0      1\n",
      "41.0      1\n",
      "Name: count, dtype: int64\n"
     ]
    }
   ],
   "source": [
    "ver_datos(df, 'Tipo_De_Complicación_1', True)"
   ]
  },
  {
   "cell_type": "markdown",
   "id": "5d4554e0",
   "metadata": {},
   "source": [
    "A partir de los datos de *Tipo de complicación* se ajustará la variable *¿Complicaciones?* para que sea coherente"
   ]
  },
  {
   "cell_type": "code",
   "execution_count": 737,
   "id": "5498e7b4",
   "metadata": {},
   "outputs": [
    {
     "data": {
      "text/html": [
       "<div>\n",
       "<style scoped>\n",
       "    .dataframe tbody tr th:only-of-type {\n",
       "        vertical-align: middle;\n",
       "    }\n",
       "\n",
       "    .dataframe tbody tr th {\n",
       "        vertical-align: top;\n",
       "    }\n",
       "\n",
       "    .dataframe thead th {\n",
       "        text-align: right;\n",
       "    }\n",
       "</style>\n",
       "<table border=\"1\" class=\"dataframe\">\n",
       "  <thead>\n",
       "    <tr style=\"text-align: right;\">\n",
       "      <th></th>\n",
       "      <th>Tipo_De_Complicación_1</th>\n",
       "      <th>¿Complicación?</th>\n",
       "    </tr>\n",
       "    <tr>\n",
       "      <th>#_Paciente</th>\n",
       "      <th></th>\n",
       "      <th></th>\n",
       "    </tr>\n",
       "  </thead>\n",
       "  <tbody>\n",
       "    <tr>\n",
       "      <th>289</th>\n",
       "      <td>4.0</td>\n",
       "      <td>0</td>\n",
       "    </tr>\n",
       "    <tr>\n",
       "      <th>304</th>\n",
       "      <td>2.0</td>\n",
       "      <td>0</td>\n",
       "    </tr>\n",
       "    <tr>\n",
       "      <th>586</th>\n",
       "      <td>9.0</td>\n",
       "      <td>0</td>\n",
       "    </tr>\n",
       "    <tr>\n",
       "      <th>590</th>\n",
       "      <td>15.0</td>\n",
       "      <td>0</td>\n",
       "    </tr>\n",
       "    <tr>\n",
       "      <th>595</th>\n",
       "      <td>15.0</td>\n",
       "      <td>0</td>\n",
       "    </tr>\n",
       "    <tr>\n",
       "      <th>596</th>\n",
       "      <td>15.0</td>\n",
       "      <td>0</td>\n",
       "    </tr>\n",
       "    <tr>\n",
       "      <th>597</th>\n",
       "      <td>15.0</td>\n",
       "      <td>0</td>\n",
       "    </tr>\n",
       "    <tr>\n",
       "      <th>600</th>\n",
       "      <td>9.0</td>\n",
       "      <td>0</td>\n",
       "    </tr>\n",
       "    <tr>\n",
       "      <th>603</th>\n",
       "      <td>5.0</td>\n",
       "      <td>0</td>\n",
       "    </tr>\n",
       "    <tr>\n",
       "      <th>605</th>\n",
       "      <td>7.0</td>\n",
       "      <td>0</td>\n",
       "    </tr>\n",
       "    <tr>\n",
       "      <th>606</th>\n",
       "      <td>15.0</td>\n",
       "      <td>0</td>\n",
       "    </tr>\n",
       "    <tr>\n",
       "      <th>608</th>\n",
       "      <td>4.0</td>\n",
       "      <td>0</td>\n",
       "    </tr>\n",
       "    <tr>\n",
       "      <th>609</th>\n",
       "      <td>38.0</td>\n",
       "      <td>0</td>\n",
       "    </tr>\n",
       "    <tr>\n",
       "      <th>610</th>\n",
       "      <td>5.0</td>\n",
       "      <td>0</td>\n",
       "    </tr>\n",
       "    <tr>\n",
       "      <th>611</th>\n",
       "      <td>15.0</td>\n",
       "      <td>0</td>\n",
       "    </tr>\n",
       "  </tbody>\n",
       "</table>\n",
       "</div>"
      ],
      "text/plain": [
       "            Tipo_De_Complicación_1 ¿Complicación?\n",
       "#_Paciente                                       \n",
       "289                            4.0              0\n",
       "304                            2.0              0\n",
       "586                            9.0              0\n",
       "590                           15.0              0\n",
       "595                           15.0              0\n",
       "596                           15.0              0\n",
       "597                           15.0              0\n",
       "600                            9.0              0\n",
       "603                            5.0              0\n",
       "605                            7.0              0\n",
       "606                           15.0              0\n",
       "608                            4.0              0\n",
       "609                           38.0              0\n",
       "610                            5.0              0\n",
       "611                           15.0              0"
      ]
     },
     "execution_count": 737,
     "metadata": {},
     "output_type": "execute_result"
    }
   ],
   "source": [
    "df[[\"Tipo_De_Complicación_1\",\"¿Complicación?\"]].loc[(df[\"Tipo_De_Complicación_1\"].notna())&(df[\"Tipo_De_Complicación_1\"]!=0)&(df[\"¿Complicación?\"]==0)]"
   ]
  },
  {
   "cell_type": "code",
   "execution_count": 738,
   "id": "8a45a3bd",
   "metadata": {},
   "outputs": [],
   "source": [
    "df.loc[\n",
    "    (df[\"Tipo_De_Complicación_1\"].notna())\n",
    "    &(df[\"Tipo_De_Complicación_1\"]!=0)\n",
    "    &(df[\"¿Complicación?\"]==0), '¿Complicación?'] = 1"
   ]
  },
  {
   "cell_type": "code",
   "execution_count": 739,
   "id": "23c3fab7",
   "metadata": {},
   "outputs": [
    {
     "name": "stdout",
     "output_type": "stream",
     "text": [
      "count     675\n",
      "unique      2\n",
      "top         0\n",
      "freq      346\n",
      "Name: ¿Complicación?, dtype: int64\n",
      "--------------------\n",
      "Número de datos nulos: 61\n",
      "--------------------\n",
      "¿Complicación?\n",
      "0      346\n",
      "1      329\n",
      "NaN     61\n",
      "Name: count, dtype: int64\n"
     ]
    }
   ],
   "source": [
    "ver_datos(df, '¿Complicación?', True)"
   ]
  },
  {
   "cell_type": "markdown",
   "id": "cd806d14",
   "metadata": {},
   "source": [
    "### Inmunosupresión_con_Anticuerpos"
   ]
  },
  {
   "cell_type": "code",
   "execution_count": 740,
   "id": "5937cc8e",
   "metadata": {},
   "outputs": [
    {
     "name": "stdout",
     "output_type": "stream",
     "text": [
      "count    228.000000\n",
      "mean       0.250000\n",
      "std        0.444001\n",
      "min        0.000000\n",
      "25%        0.000000\n",
      "50%        0.000000\n",
      "75%        0.000000\n",
      "max        2.000000\n",
      "Name: Inmunosupresión_con_Anticuerpos, dtype: float64\n",
      "--------------------\n",
      "Número de datos nulos: 508\n",
      "--------------------\n",
      "Inmunosupresión_con_Anticuerpos\n",
      "NaN    508\n",
      "0.0    172\n",
      "1.0     55\n",
      "2.0      1\n",
      "Name: count, dtype: int64\n"
     ]
    }
   ],
   "source": [
    "ver_datos(df, 'Inmunosupresión_con_Anticuerpos', True)"
   ]
  },
  {
   "cell_type": "code",
   "execution_count": 741,
   "id": "01fe050a",
   "metadata": {},
   "outputs": [],
   "source": [
    "def clasificar_inmunosupresion(valor):\n",
    "    if pd.isna(valor):\n",
    "        return np.nan\n",
    "    elif valor in [1, 2]:\n",
    "        return \"SI\"\n",
    "    else:\n",
    "        return \"NO\"\n",
    "\n",
    "df[\"Inmunosupresión_con_Anticuerpos\"] = df[\"Inmunosupresión_con_Anticuerpos\"].apply(clasificar_inmunosupresion)\n",
    "selected_columns.append('Inmunosupresión_con_Anticuerpos')"
   ]
  },
  {
   "cell_type": "code",
   "execution_count": 742,
   "id": "9973f224",
   "metadata": {},
   "outputs": [
    {
     "name": "stdout",
     "output_type": "stream",
     "text": [
      "count     228\n",
      "unique      2\n",
      "top        NO\n",
      "freq      172\n",
      "Name: Inmunosupresión_con_Anticuerpos, dtype: object\n",
      "--------------------\n",
      "Número de datos nulos: 508\n",
      "--------------------\n",
      "Inmunosupresión_con_Anticuerpos\n",
      "NaN    508\n",
      "NO     172\n",
      "SI      56\n",
      "Name: count, dtype: int64\n"
     ]
    }
   ],
   "source": [
    "ver_datos(df, 'Inmunosupresión_con_Anticuerpos', True)"
   ]
  },
  {
   "cell_type": "markdown",
   "id": "62b41979",
   "metadata": {},
   "source": [
    "### Rechazo_Agudo"
   ]
  },
  {
   "cell_type": "code",
   "execution_count": 743,
   "id": "124f752a",
   "metadata": {},
   "outputs": [
    {
     "name": "stdout",
     "output_type": "stream",
     "text": [
      "count     672\n",
      "unique      3\n",
      "top         0\n",
      "freq      537\n",
      "Name: Rechazo_Agudo, dtype: int64\n",
      "--------------------\n",
      "Número de datos nulos: 64\n",
      "--------------------\n",
      "Rechazo_Agudo\n",
      "0           537\n",
      "1           134\n",
      "NaN          64\n",
      "MODERADO      1\n",
      "Name: count, dtype: int64\n"
     ]
    }
   ],
   "source": [
    "ver_datos(df, 'Rechazo_Agudo', True)"
   ]
  },
  {
   "cell_type": "code",
   "execution_count": 744,
   "id": "ccf39fa3",
   "metadata": {},
   "outputs": [
    {
     "name": "stderr",
     "output_type": "stream",
     "text": [
      "C:\\Users\\jmriv\\AppData\\Local\\Temp\\ipykernel_22692\\4161090847.py:1: FutureWarning: Downcasting behavior in `replace` is deprecated and will be removed in a future version. To retain the old behavior, explicitly call `result.infer_objects(copy=False)`. To opt-in to the future behavior, set `pd.set_option('future.no_silent_downcasting', True)`\n",
      "  df['Rechazo_Agudo']=df['Rechazo_Agudo'].replace('MODERADO', 1)\n"
     ]
    }
   ],
   "source": [
    "df['Rechazo_Agudo']=df['Rechazo_Agudo'].replace('MODERADO', 1)"
   ]
  },
  {
   "cell_type": "code",
   "execution_count": 745,
   "id": "2ae8d270",
   "metadata": {},
   "outputs": [
    {
     "name": "stdout",
     "output_type": "stream",
     "text": [
      "count    672.000000\n",
      "mean       0.200893\n",
      "std        0.400967\n",
      "min        0.000000\n",
      "25%        0.000000\n",
      "50%        0.000000\n",
      "75%        0.000000\n",
      "max        1.000000\n",
      "Name: Rechazo_Agudo, dtype: float64\n",
      "--------------------\n",
      "Número de datos nulos: 64\n",
      "--------------------\n",
      "Rechazo_Agudo\n",
      "0.0    537\n",
      "1.0    135\n",
      "NaN     64\n",
      "Name: count, dtype: int64\n"
     ]
    }
   ],
   "source": [
    "ver_datos(df, 'Rechazo_Agudo', True)"
   ]
  },
  {
   "cell_type": "markdown",
   "id": "022e02e0",
   "metadata": {},
   "source": [
    "### Severidad_Rechazo_Agudo"
   ]
  },
  {
   "cell_type": "code",
   "execution_count": 746,
   "id": "cee5788d",
   "metadata": {},
   "outputs": [
    {
     "name": "stdout",
     "output_type": "stream",
     "text": [
      "count     657\n",
      "unique      6\n",
      "top         0\n",
      "freq      524\n",
      "Name: Severidad_Rechazo_Agudo, dtype: int64\n",
      "--------------------\n",
      "Número de datos nulos: 79\n",
      "--------------------\n",
      "Severidad_Rechazo_Agudo\n",
      "0      524\n",
      "2       87\n",
      "NaN     79\n",
      "3       28\n",
      "1       16\n",
      "4        1\n",
      "SI       1\n",
      "Name: count, dtype: int64\n"
     ]
    }
   ],
   "source": [
    "ver_datos(df, 'Severidad_Rechazo_Agudo', True)"
   ]
  },
  {
   "cell_type": "code",
   "execution_count": 747,
   "id": "af7b3839",
   "metadata": {},
   "outputs": [
    {
     "name": "stderr",
     "output_type": "stream",
     "text": [
      "C:\\Users\\jmriv\\AppData\\Local\\Temp\\ipykernel_22692\\1102723293.py:1: FutureWarning: Downcasting behavior in `replace` is deprecated and will be removed in a future version. To retain the old behavior, explicitly call `result.infer_objects(copy=False)`. To opt-in to the future behavior, set `pd.set_option('future.no_silent_downcasting', True)`\n",
      "  df['Severidad_Rechazo_Agudo']=df['Severidad_Rechazo_Agudo'].replace('SI', 1)\n"
     ]
    }
   ],
   "source": [
    "df['Severidad_Rechazo_Agudo']=df['Severidad_Rechazo_Agudo'].replace('SI', 1)"
   ]
  },
  {
   "cell_type": "code",
   "execution_count": 748,
   "id": "2b75d2df",
   "metadata": {},
   "outputs": [
    {
     "name": "stdout",
     "output_type": "stream",
     "text": [
      "count    657.000000\n",
      "mean       0.424658\n",
      "std        0.885624\n",
      "min        0.000000\n",
      "25%        0.000000\n",
      "50%        0.000000\n",
      "75%        0.000000\n",
      "max        4.000000\n",
      "Name: Severidad_Rechazo_Agudo, dtype: float64\n",
      "--------------------\n",
      "Número de datos nulos: 79\n",
      "--------------------\n",
      "Severidad_Rechazo_Agudo\n",
      "0.0    524\n",
      "2.0     87\n",
      "NaN     79\n",
      "3.0     28\n",
      "1.0     17\n",
      "4.0      1\n",
      "Name: count, dtype: int64\n"
     ]
    }
   ],
   "source": [
    "ver_datos(df, 'Severidad_Rechazo_Agudo', True)"
   ]
  },
  {
   "cell_type": "markdown",
   "id": "c710cdab",
   "metadata": {},
   "source": [
    "### Rechazo_Crónico"
   ]
  },
  {
   "cell_type": "code",
   "execution_count": 749,
   "id": "10e572fd",
   "metadata": {},
   "outputs": [
    {
     "name": "stdout",
     "output_type": "stream",
     "text": [
      "count    671.000000\n",
      "mean       0.005961\n",
      "std        0.077036\n",
      "min        0.000000\n",
      "25%        0.000000\n",
      "50%        0.000000\n",
      "75%        0.000000\n",
      "max        1.000000\n",
      "Name: Rechazo_Crónico, dtype: float64\n",
      "--------------------\n",
      "Número de datos nulos: 65\n",
      "--------------------\n",
      "Rechazo_Crónico\n",
      "0.0    667\n",
      "NaN     65\n",
      "1.0      4\n",
      "Name: count, dtype: int64\n"
     ]
    }
   ],
   "source": [
    "ver_datos(df, 'Rechazo_Crónico', True)"
   ]
  },
  {
   "cell_type": "markdown",
   "id": "4622ba90",
   "metadata": {},
   "source": [
    "### Infección_POP"
   ]
  },
  {
   "cell_type": "code",
   "execution_count": 750,
   "id": "0a90baf3",
   "metadata": {},
   "outputs": [
    {
     "name": "stdout",
     "output_type": "stream",
     "text": [
      "count    562.000000\n",
      "mean       0.268683\n",
      "std        0.443670\n",
      "min        0.000000\n",
      "25%        0.000000\n",
      "50%        0.000000\n",
      "75%        1.000000\n",
      "max        1.000000\n",
      "Name: Infección_POP, dtype: float64\n",
      "--------------------\n",
      "Número de datos nulos: 174\n",
      "--------------------\n",
      "Infección_POP\n",
      "0.0    411\n",
      "NaN    174\n",
      "1.0    151\n",
      "Name: count, dtype: int64\n"
     ]
    }
   ],
   "source": [
    "ver_datos(df, 'Infección_POP', True)"
   ]
  },
  {
   "cell_type": "markdown",
   "id": "40465d27",
   "metadata": {},
   "source": [
    "### Tipo_Infección_1"
   ]
  },
  {
   "cell_type": "code",
   "execution_count": 751,
   "id": "afba8e30",
   "metadata": {},
   "outputs": [
    {
     "name": "stdout",
     "output_type": "stream",
     "text": [
      "count     254\n",
      "unique     18\n",
      "top         0\n",
      "freq      103\n",
      "Name: Tipo_Infección_1, dtype: int64\n",
      "--------------------\n",
      "Número de datos nulos: 482\n",
      "--------------------\n",
      "Tipo_Infección_1\n",
      "NaN         482\n",
      "0           103\n",
      "2            50\n",
      "10           22\n",
      "1            17\n",
      "3            13\n",
      "8            10\n",
      "5            10\n",
      "11            8\n",
      "6             5\n",
      "4             4\n",
      "16            2\n",
      "18            2\n",
      "BILIAR        2\n",
      "7             2\n",
      "13            1\n",
      "17            1\n",
      "9             1\n",
      "NEUMONIA      1\n",
      "Name: count, dtype: int64\n"
     ]
    }
   ],
   "source": [
    "ver_datos(df, 'Tipo_Infección_1', True)"
   ]
  },
  {
   "cell_type": "code",
   "execution_count": 752,
   "id": "368272d1",
   "metadata": {},
   "outputs": [],
   "source": [
    "df['Tipo_Infección_1']= df['Tipo_Infección_1'].replace({\n",
    "    \"BILIAR\": \"19\",\n",
    "    \"NEUMONIA\": \"3\",\n",
    "})"
   ]
  },
  {
   "cell_type": "code",
   "execution_count": 753,
   "id": "7fb1c276",
   "metadata": {},
   "outputs": [
    {
     "name": "stdout",
     "output_type": "stream",
     "text": [
      "count     254\n",
      "unique     18\n",
      "top         0\n",
      "freq      103\n",
      "Name: Tipo_Infección_1, dtype: int64\n",
      "--------------------\n",
      "Número de datos nulos: 482\n",
      "--------------------\n",
      "Tipo_Infección_1\n",
      "NaN    482\n",
      "0      103\n",
      "2       50\n",
      "10      22\n",
      "1       17\n",
      "3       13\n",
      "8       10\n",
      "5       10\n",
      "11       8\n",
      "6        5\n",
      "4        4\n",
      "16       2\n",
      "18       2\n",
      "19       2\n",
      "7        2\n",
      "13       1\n",
      "17       1\n",
      "9        1\n",
      "3        1\n",
      "Name: count, dtype: int64\n"
     ]
    }
   ],
   "source": [
    "ver_datos(df, 'Tipo_Infección_1', True)"
   ]
  },
  {
   "cell_type": "markdown",
   "id": "bb59fd86",
   "metadata": {},
   "source": [
    "### Germen_1"
   ]
  },
  {
   "cell_type": "code",
   "execution_count": 754,
   "id": "c04a368e",
   "metadata": {},
   "outputs": [
    {
     "name": "stdout",
     "output_type": "stream",
     "text": [
      "count     198\n",
      "unique     32\n",
      "top         0\n",
      "freq       85\n",
      "Name: Germen_1, dtype: int64\n",
      "--------------------\n",
      "Número de datos nulos: 538\n",
      "--------------------\n",
      "Germen_1\n",
      "NaN                                                                                       538\n",
      "0                                                                                          85\n",
      "1                                                                                          26\n",
      "7                                                                                          23\n",
      "17                                                                                          8\n",
      "16                                                                                          6\n",
      "14                                                                                          6\n",
      "10                                                                                          5\n",
      "2                                                                                           5\n",
      "3                                                                                           4\n",
      "23                                                                                          2\n",
      "26                                                                                          2\n",
      "24                                                                                          2\n",
      "28                                                                                          2\n",
      "32                                                                                          2\n",
      "6                                                                                           2\n",
      "12                                                                                          2\n",
      "22                                                                                          1\n",
      "19                                                                                          1\n",
      "18                                                                                          1\n",
      "4                                                                                           1\n",
      "8                                                                                           1\n",
      "27                                                                                          1\n",
      "31                                                                                          1\n",
      "9                                                                                           1\n",
      "30                                                                                          1\n",
      "ENTEROBACTER CLOACAE, ENT\\nEROCOCCUS FAECALIS, ESCHERICHI COLI Y CITROBACTER FREUNDII.      1\n",
      "KPC                                                                                         1\n",
      "e.coli                                                                                      1\n",
      "ecoli blee                                                                                  1\n",
      "CANDIDA                                                                                     1\n",
      "S.CAPITIS                                                                                   1\n",
      "ECOLI                                                                                       1\n",
      "Name: count, dtype: int64\n"
     ]
    }
   ],
   "source": [
    "ver_datos(df, 'Germen_1', True)"
   ]
  },
  {
   "cell_type": "code",
   "execution_count": 755,
   "id": "5fcf25a7",
   "metadata": {},
   "outputs": [
    {
     "name": "stderr",
     "output_type": "stream",
     "text": [
      "C:\\Users\\jmriv\\AppData\\Local\\Temp\\ipykernel_22692\\4156398199.py:1: FutureWarning: Downcasting behavior in `replace` is deprecated and will be removed in a future version. To retain the old behavior, explicitly call `result.infer_objects(copy=False)`. To opt-in to the future behavior, set `pd.set_option('future.no_silent_downcasting', True)`\n",
      "  df['Germen_1']= df['Germen_1'].replace({\n"
     ]
    }
   ],
   "source": [
    "df['Germen_1']= df['Germen_1'].replace({\n",
    "    \"KPC\": 28,\n",
    "    \"e.coli\": 7,\n",
    "    \"e.coliblee\": 7,\n",
    "    \"ecoli blee\":7,\n",
    "    \"candida\":10,\n",
    "    \"CANDIDA\":10,\n",
    "    \"S.CAPITIS\": 19,\n",
    "    \"ECOLI\": 7,\n",
    "    \"ENTEROBACTER CLOACAE, ENT\\nEROCOCCUS FAECALIS, ESCHERICHI COLI Y CITROBACTER FREUNDII.\":7\n",
    "})"
   ]
  },
  {
   "cell_type": "code",
   "execution_count": 756,
   "id": "9e0394f9",
   "metadata": {},
   "outputs": [
    {
     "name": "stdout",
     "output_type": "stream",
     "text": [
      "count    198.000000\n",
      "mean       5.707071\n",
      "std        8.180393\n",
      "min        0.000000\n",
      "25%        0.000000\n",
      "50%        1.000000\n",
      "75%        7.000000\n",
      "max       32.000000\n",
      "Name: Germen_1, dtype: float64\n",
      "--------------------\n",
      "Número de datos nulos: 538\n",
      "--------------------\n",
      "Germen_1\n",
      "NaN     538\n",
      "0.0      85\n",
      "7.0      27\n",
      "1.0      26\n",
      "17.0      8\n",
      "10.0      6\n",
      "14.0      6\n",
      "16.0      6\n",
      "2.0       5\n",
      "3.0       4\n",
      "28.0      3\n",
      "32.0      2\n",
      "26.0      2\n",
      "12.0      2\n",
      "19.0      2\n",
      "6.0       2\n",
      "24.0      2\n",
      "23.0      2\n",
      "4.0       1\n",
      "8.0       1\n",
      "22.0      1\n",
      "18.0      1\n",
      "30.0      1\n",
      "27.0      1\n",
      "9.0       1\n",
      "31.0      1\n",
      "Name: count, dtype: int64\n"
     ]
    }
   ],
   "source": [
    "ver_datos(df, 'Germen_1', True)"
   ]
  },
  {
   "cell_type": "markdown",
   "id": "a49b5454",
   "metadata": {},
   "source": [
    "### Fecha_Infección_1"
   ]
  },
  {
   "cell_type": "code",
   "execution_count": 757,
   "id": "2f113bbb",
   "metadata": {},
   "outputs": [
    {
     "name": "stdout",
     "output_type": "stream",
     "text": [
      "count                     517\n",
      "unique                    147\n",
      "top       1927-05-17 00:00:00\n",
      "freq                      280\n",
      "Name: Fecha_Infección_1, dtype: object\n",
      "--------------------\n",
      "Número de datos nulos: 219\n"
     ]
    }
   ],
   "source": [
    "ver_datos(df, 'Fecha_Infección_1')"
   ]
  },
  {
   "cell_type": "code",
   "execution_count": 758,
   "id": "27ecd5eb",
   "metadata": {},
   "outputs": [],
   "source": [
    "df['Fecha_Infección_1'] = df['Fecha_Infección_1'].apply(parse_date)"
   ]
  },
  {
   "cell_type": "code",
   "execution_count": 759,
   "id": "6bc13b2c",
   "metadata": {},
   "outputs": [],
   "source": [
    "df['Fecha_Infección_1'] = df['Fecha_Infección_1'].replace(\n",
    "    {\n",
    "        pd.Timestamp('1927-05-17'): pd.NaT,\n",
    "        pd.Timestamp('1902-09-25'): pd.NaT\n",
    "    }\n",
    ")"
   ]
  },
  {
   "cell_type": "code",
   "execution_count": 760,
   "id": "6d8a9fd8",
   "metadata": {},
   "outputs": [
    {
     "name": "stdout",
     "output_type": "stream",
     "text": [
      "count                    145\n",
      "mean     2014-12-29 14:24:00\n",
      "min      2004-01-10 00:00:00\n",
      "25%      2011-05-23 00:00:00\n",
      "50%      2013-05-24 00:00:00\n",
      "75%      2017-06-23 00:00:00\n",
      "max      2024-05-18 00:00:00\n",
      "Name: Fecha_Infección_1, dtype: object\n",
      "--------------------\n",
      "Número de datos nulos: 591\n"
     ]
    }
   ],
   "source": [
    "ver_datos(df, 'Fecha_Infección_1')"
   ]
  },
  {
   "cell_type": "markdown",
   "id": "158cfd97",
   "metadata": {},
   "source": [
    "### Tiempo_Desde_Tx_Infección_1 (Fecha_Infección_1 - Fecha_Tx)"
   ]
  },
  {
   "cell_type": "code",
   "execution_count": 761,
   "id": "6601a6d6",
   "metadata": {},
   "outputs": [
    {
     "name": "stdout",
     "output_type": "stream",
     "text": [
      "count     634\n",
      "unique    542\n",
      "top        10\n",
      "freq       11\n",
      "Name: Tiempo_Desde_Tx_Infección_1, dtype: int64\n",
      "--------------------\n",
      "Número de datos nulos: 102\n",
      "--------------------\n",
      "Tiempo_Desde_Tx_Infección_1\n",
      "NaN                    102\n",
      "10                      11\n",
      "7                        9\n",
      "4                        8\n",
      "9                        7\n",
      "                      ... \n",
      "1777-02-16 00:00:00      1\n",
      "1777-02-04 00:00:00      1\n",
      "1777-01-20 00:00:00      1\n",
      "121                      1\n",
      "1824-07-03 00:00:00      1\n",
      "Name: count, Length: 543, dtype: int64\n"
     ]
    }
   ],
   "source": [
    "ver_datos(df, 'Tiempo_Desde_Tx_Infección_1', True)"
   ]
  },
  {
   "cell_type": "markdown",
   "id": "679b96c4",
   "metadata": {},
   "source": [
    "Por como algunos datos están codificados como fechas se recalculará esta variable a partir de la fecha del transplante y la fecha de infección"
   ]
  },
  {
   "cell_type": "code",
   "execution_count": 762,
   "id": "15eb0b3a",
   "metadata": {},
   "outputs": [],
   "source": [
    "df[\"Tiempo_Desde_Tx_Infección_1\"] = (\n",
    "    df[\"Fecha_Infección_1\"] - df[\"Fecha_Tx\"]\n",
    ").dt.days"
   ]
  },
  {
   "cell_type": "code",
   "execution_count": 763,
   "id": "ff8af3dd",
   "metadata": {},
   "outputs": [
    {
     "name": "stdout",
     "output_type": "stream",
     "text": [
      "count    145.000000\n",
      "mean      22.393103\n",
      "std       31.406010\n",
      "min        0.000000\n",
      "25%        7.000000\n",
      "50%       12.000000\n",
      "75%       24.000000\n",
      "max      250.000000\n",
      "Name: Tiempo_Desde_Tx_Infección_1, dtype: float64\n",
      "--------------------\n",
      "Número de datos nulos: 591\n",
      "--------------------\n",
      "Tiempo_Desde_Tx_Infección_1\n",
      "NaN      591\n",
      "10.0      11\n",
      "7.0        9\n",
      "9.0        9\n",
      "4.0        8\n",
      "8.0        7\n",
      "6.0        7\n",
      "15.0       6\n",
      "14.0       6\n",
      "1.0        5\n",
      "24.0       4\n",
      "5.0        4\n",
      "12.0       4\n",
      "18.0       4\n",
      "21.0       3\n",
      "11.0       3\n",
      "3.0        3\n",
      "16.0       3\n",
      "22.0       3\n",
      "17.0       3\n",
      "19.0       2\n",
      "78.0       2\n",
      "37.0       2\n",
      "0.0        2\n",
      "23.0       2\n",
      "26.0       2\n",
      "42.0       2\n",
      "2.0        2\n",
      "28.0       1\n",
      "35.0       1\n",
      "111.0      1\n",
      "250.0      1\n",
      "64.0       1\n",
      "102.0      1\n",
      "55.0       1\n",
      "58.0       1\n",
      "31.0       1\n",
      "20.0       1\n",
      "13.0       1\n",
      "36.0       1\n",
      "25.0       1\n",
      "38.0       1\n",
      "48.0       1\n",
      "70.0       1\n",
      "43.0       1\n",
      "52.0       1\n",
      "29.0       1\n",
      "74.0       1\n",
      "41.0       1\n",
      "44.0       1\n",
      "173.0      1\n",
      "121.0      1\n",
      "34.0       1\n",
      "57.0       1\n",
      "72.0       1\n",
      "Name: count, dtype: int64\n"
     ]
    }
   ],
   "source": [
    "ver_datos(df, 'Tiempo_Desde_Tx_Infección_1', True)"
   ]
  },
  {
   "cell_type": "markdown",
   "id": "06080090",
   "metadata": {},
   "source": [
    "### Falla_Cardiaca_POP"
   ]
  },
  {
   "cell_type": "code",
   "execution_count": 764,
   "id": "0f535f66",
   "metadata": {},
   "outputs": [
    {
     "name": "stdout",
     "output_type": "stream",
     "text": [
      "count    623.000000\n",
      "mean       0.020867\n",
      "std        0.143053\n",
      "min        0.000000\n",
      "25%        0.000000\n",
      "50%        0.000000\n",
      "75%        0.000000\n",
      "max        1.000000\n",
      "Name: Falla_Cardiaca_POP, dtype: float64\n",
      "--------------------\n",
      "Número de datos nulos: 113\n",
      "--------------------\n",
      "Falla_Cardiaca_POP\n",
      "0.0    610\n",
      "NaN    113\n",
      "1.0     13\n",
      "Name: count, dtype: int64\n"
     ]
    }
   ],
   "source": [
    "ver_datos(df, 'Falla_Cardiaca_POP', True)"
   ]
  },
  {
   "cell_type": "markdown",
   "id": "f1db3643",
   "metadata": {},
   "source": [
    "### Arritmia_POP"
   ]
  },
  {
   "cell_type": "code",
   "execution_count": 765,
   "id": "a832067a",
   "metadata": {},
   "outputs": [
    {
     "name": "stdout",
     "output_type": "stream",
     "text": [
      "count     626\n",
      "unique     33\n",
      "top         0\n",
      "freq      544\n",
      "Name: Arritmia_POP, dtype: int64\n",
      "--------------------\n",
      "Número de datos nulos: 110\n",
      "--------------------\n",
      "Arritmia_POP\n",
      "0                                                                                                                                                                                                                                                               544\n",
      "NaN                                                                                                                                                                                                                                                             110\n",
      "1                                                                                                                                                                                                                                                                36\n",
      "3                                                                                                                                                                                                                                                                 8\n",
      "TAQUICARDIA SINUSAL                                                                                                                                                                                                                                               5\n",
      "TAQUICARDIA SINUSAL/ FIBRILACION VENTRICULAR CON RTS VENT CONTROLADA/ EXTRASISTOLES SUPREAVENT OCASIONALES/TAQUICARDIA SUPRAVENTRICULAR CON RESPUESTA VENTRICULAR ABERRANTE - COMPLEJO ANCHO COMPROMISO HEMODINAMICO                                              3\n",
      "2                                                                                                                                                                                                                                                                 2\n",
      "TAQUICARDIA SINUKAS                                                                                                                                                                                                                                               2\n",
      "PARO                                                                                                                                                                                                                                                              1\n",
      "TAQUIARDIA SINUSAL                                                                                                                                                                                                                                                1\n",
      "TAQUICARDIA SINUSAL,                                                                                                                                                                                                                                              1\n",
      "TAQUICARDIA SINUSAL, BRADICARDIA, PARO, AESP, FIBRILACION VENTRICULAR                                                                                                                                                                                             1\n",
      "TAQUICARDIA SINUSAL, TAQUICARDIA SURPAVENTRICULAR.AESP, REANIMAICON, TAQUICARDIA VENTRICULAR, FIBRILACION VENTRICULAR. MUERTE                                                                                                                                     1\n",
      "AMBIOS DINAMICOS EN EL VISOSCOPIO: \\nARRITMICA, TAQUI-BRADICARDICO, \\nELEVACION DEL ST Y PROL\\nONGACION DEL QRS,. /  FIBRILACION AURICULAR OCN REPSUESTA VENTRICULAR 112-120, NO COLAPSANTE/ EPISODIOS DE PAUSA SINUSAL EXTREMA / ASISTOLIA REFRACTARIA           1\n",
      "TAQUIARDICA SINUSAL                                                                                                                                                                                                                                               1\n",
      "BRADICARDIA SINUSAL-ENSANCHAMIENTO QRS/ TAQUICARDIA DUPRAVENTIRCULAR INICIA FIBRILACIN AURICULAR CON RESPUESTA VENTRICULAR RAPIDA                                                                                                                                 1\n",
      "BRADICARDIA, CON ACTIVIDAD ELECTRICA SIN PULSO, LUEGO FV )INTRACX). BRADICARDIA, AESP, REANIM, TAQUICARDIA SINUSAL.  FA CON RTA  VENT RAPIDA. BIGEMINISMO Y LUEGO TAQUICARDIA VENTRICULAR MONOMORFICA NO COLAPSANTE )cardio version elect mas sulfato de mg)      1\n",
      "4 ( TAQUICARDIA CON BIGEMINISMO, FA, PARO)                                                                                                                                                                                                                        1\n",
      "BRADICARDIA, AESP,  FIBRILAVION VENTRICULAR,  RITMO DE ESCAPE,  AISSTOLIA 10 MIN.  PARO PRESENCIADO, REANIMACION, RITMO DE ESCAPE, TAQUICARDIA SINUSAL.  AESP, ASISTOLIA, REANIMACION. AESP                                                                       1\n",
      "aesp                                                                                                                                                                                                                                                              1\n",
      "EXTRASISTOLES VENTRICULARES, 1 EPISODIO DE BIGEMINISMO                                                                                                                                                                                                            1\n",
      "AISIS INTRAOP.                                                                                                                                                                                                                                                    1\n",
      "0FIBRILACIÓN AURICULAR DE RESPUESTA VENTRICULAR RÁPIDA. BRADICARDIA SEVERE                                                                                                                                                                                        1\n",
      "TAQUICARDIA SINUSAL                                                                                                                                                                                                                                               1\n",
      "BRADICARDIA, ASISTOLIA, TAQUIARRITMIA DE COMPLEJO ESTRECHO, CON PR CORTO - SUGESTIVO DE SINDROME DE WPW . ASISTOLIA PARO CARDIO RESP .                                                                                                                            1\n",
      "BRADICARDIA. PARAO                                                                                                                                                                                                                                                1\n",
      "2 (FV)                                                                                                                                                                                                                                                            1\n",
      "2 + 1 (FA)                                                                                                                                                                                                                                                        1\n",
      "1 (FA) + 2                                                                                                                                                                                                                                                        1\n",
      "1+2                                                                                                                                                                                                                                                               1\n",
      "1 (FA)                                                                                                                                                                                                                                                            1\n",
      "1 y 2                                                                                                                                                                                                                                                             1\n",
      "FA                                                                                                                                                                                                                                                                1\n",
      "REVISAR HOLTER                                                                                                                                                                                                                                                    1\n",
      "Name: count, dtype: int64\n"
     ]
    }
   ],
   "source": [
    "ver_datos(df, 'Arritmia_POP', True)"
   ]
  },
  {
   "cell_type": "code",
   "execution_count": 766,
   "id": "d8cfc74c",
   "metadata": {},
   "outputs": [],
   "source": [
    "# Supongamos que la columna se llama 'arritmia_pop'\n",
    "df['Arritmia_pop_limpia'] = df['Arritmia_POP'].astype(str).str.upper().str.strip()\n",
    "\n",
    "def clasificar_arritmia(texto):\n",
    "    if texto in ['0', 'NO', 'N/A', 'NINGUNA']:\n",
    "        return 0\n",
    "    # Bradiarritmias\n",
    "    elif any(x in texto for x in ['BRADI', 'ASISTOLIA', 'RITMO DE ESCAPE', 'AESP', 'PARO']):\n",
    "        return 3\n",
    "    # Taquiarritmias ventriculares\n",
    "    elif any(x in texto for x in ['VENTRICULAR', 'FV', 'FIBRILACION VENTRICULAR', 'BIGEMINISMO']):\n",
    "        return 2\n",
    "    # Taquiarritmias supraventriculares\n",
    "    elif any(x in texto for x in ['SUPRAVENT', 'FA ', 'FIBRILACION AURICULAR', 'TAQUICARDIA SINUSAL']):\n",
    "        return 1\n",
    "    # Casos dudosos o combinaciones múltiples\n",
    "    elif any(c in texto for c in ['+', '/', 'Y']):\n",
    "        # Si menciona taqui + bradi, podría marcarse como 1 (predomina taqui) o np.nan\n",
    "        return np.nan\n",
    "    else:\n",
    "        return np.nan\n",
    "\n",
    "df['arritmia_pop_cod'] = df['Arritmia_pop_limpia'].apply(clasificar_arritmia)"
   ]
  },
  {
   "cell_type": "code",
   "execution_count": 767,
   "id": "c5e57934",
   "metadata": {},
   "outputs": [],
   "source": [
    "selected_columns.append('arritmia_pop_cod')"
   ]
  },
  {
   "cell_type": "code",
   "execution_count": 768,
   "id": "97b4b98c",
   "metadata": {},
   "outputs": [
    {
     "name": "stdout",
     "output_type": "stream",
     "text": [
      "count     626\n",
      "unique     33\n",
      "top         0\n",
      "freq      544\n",
      "Name: Arritmia_POP, dtype: int64\n",
      "--------------------\n",
      "Número de datos nulos: 110\n",
      "--------------------\n",
      "Arritmia_POP\n",
      "0                                                                                                                                                                                                                                                               544\n",
      "NaN                                                                                                                                                                                                                                                             110\n",
      "1                                                                                                                                                                                                                                                                36\n",
      "3                                                                                                                                                                                                                                                                 8\n",
      "TAQUICARDIA SINUSAL                                                                                                                                                                                                                                               5\n",
      "TAQUICARDIA SINUSAL/ FIBRILACION VENTRICULAR CON RTS VENT CONTROLADA/ EXTRASISTOLES SUPREAVENT OCASIONALES/TAQUICARDIA SUPRAVENTRICULAR CON RESPUESTA VENTRICULAR ABERRANTE - COMPLEJO ANCHO COMPROMISO HEMODINAMICO                                              3\n",
      "2                                                                                                                                                                                                                                                                 2\n",
      "TAQUICARDIA SINUKAS                                                                                                                                                                                                                                               2\n",
      "PARO                                                                                                                                                                                                                                                              1\n",
      "TAQUIARDIA SINUSAL                                                                                                                                                                                                                                                1\n",
      "TAQUICARDIA SINUSAL,                                                                                                                                                                                                                                              1\n",
      "TAQUICARDIA SINUSAL, BRADICARDIA, PARO, AESP, FIBRILACION VENTRICULAR                                                                                                                                                                                             1\n",
      "TAQUICARDIA SINUSAL, TAQUICARDIA SURPAVENTRICULAR.AESP, REANIMAICON, TAQUICARDIA VENTRICULAR, FIBRILACION VENTRICULAR. MUERTE                                                                                                                                     1\n",
      "AMBIOS DINAMICOS EN EL VISOSCOPIO: \\nARRITMICA, TAQUI-BRADICARDICO, \\nELEVACION DEL ST Y PROL\\nONGACION DEL QRS,. /  FIBRILACION AURICULAR OCN REPSUESTA VENTRICULAR 112-120, NO COLAPSANTE/ EPISODIOS DE PAUSA SINUSAL EXTREMA / ASISTOLIA REFRACTARIA           1\n",
      "TAQUIARDICA SINUSAL                                                                                                                                                                                                                                               1\n",
      "BRADICARDIA SINUSAL-ENSANCHAMIENTO QRS/ TAQUICARDIA DUPRAVENTIRCULAR INICIA FIBRILACIN AURICULAR CON RESPUESTA VENTRICULAR RAPIDA                                                                                                                                 1\n",
      "BRADICARDIA, CON ACTIVIDAD ELECTRICA SIN PULSO, LUEGO FV )INTRACX). BRADICARDIA, AESP, REANIM, TAQUICARDIA SINUSAL.  FA CON RTA  VENT RAPIDA. BIGEMINISMO Y LUEGO TAQUICARDIA VENTRICULAR MONOMORFICA NO COLAPSANTE )cardio version elect mas sulfato de mg)      1\n",
      "4 ( TAQUICARDIA CON BIGEMINISMO, FA, PARO)                                                                                                                                                                                                                        1\n",
      "BRADICARDIA, AESP,  FIBRILAVION VENTRICULAR,  RITMO DE ESCAPE,  AISSTOLIA 10 MIN.  PARO PRESENCIADO, REANIMACION, RITMO DE ESCAPE, TAQUICARDIA SINUSAL.  AESP, ASISTOLIA, REANIMACION. AESP                                                                       1\n",
      "aesp                                                                                                                                                                                                                                                              1\n",
      "EXTRASISTOLES VENTRICULARES, 1 EPISODIO DE BIGEMINISMO                                                                                                                                                                                                            1\n",
      "AISIS INTRAOP.                                                                                                                                                                                                                                                    1\n",
      "0FIBRILACIÓN AURICULAR DE RESPUESTA VENTRICULAR RÁPIDA. BRADICARDIA SEVERE                                                                                                                                                                                        1\n",
      "TAQUICARDIA SINUSAL                                                                                                                                                                                                                                               1\n",
      "BRADICARDIA, ASISTOLIA, TAQUIARRITMIA DE COMPLEJO ESTRECHO, CON PR CORTO - SUGESTIVO DE SINDROME DE WPW . ASISTOLIA PARO CARDIO RESP .                                                                                                                            1\n",
      "BRADICARDIA. PARAO                                                                                                                                                                                                                                                1\n",
      "2 (FV)                                                                                                                                                                                                                                                            1\n",
      "2 + 1 (FA)                                                                                                                                                                                                                                                        1\n",
      "1 (FA) + 2                                                                                                                                                                                                                                                        1\n",
      "1+2                                                                                                                                                                                                                                                               1\n",
      "1 (FA)                                                                                                                                                                                                                                                            1\n",
      "1 y 2                                                                                                                                                                                                                                                             1\n",
      "FA                                                                                                                                                                                                                                                                1\n",
      "REVISAR HOLTER                                                                                                                                                                                                                                                    1\n",
      "Name: count, dtype: int64\n"
     ]
    }
   ],
   "source": [
    "ver_datos(df, 'Arritmia_POP', True)"
   ]
  },
  {
   "cell_type": "code",
   "execution_count": 769,
   "id": "9e967555",
   "metadata": {},
   "outputs": [],
   "source": [
    "df[\"arritmia_pop_descripcion\"] = (\n",
    "    df[\"Arritmia_POP\"]\n",
    "    .map({0: \"NO\", 1: \"TAQUIARRITMIA SUPRAVENTRICULAR\", 2: \"TAQUIARRITMIA VENTRICULAR\", 3: \"BRADIARRITMIA\"})\n",
    "    .fillna(\"NO\")\n",
    ")"
   ]
  },
  {
   "cell_type": "code",
   "execution_count": 770,
   "id": "2a80033c",
   "metadata": {},
   "outputs": [],
   "source": [
    "selected_columns.append('arritmia_pop_descripcion')"
   ]
  },
  {
   "cell_type": "code",
   "execution_count": 771,
   "id": "0839a952",
   "metadata": {},
   "outputs": [
    {
     "name": "stdout",
     "output_type": "stream",
     "text": [
      "count     736\n",
      "unique      4\n",
      "top        NO\n",
      "freq      690\n",
      "Name: arritmia_pop_descripcion, dtype: object\n",
      "--------------------\n",
      "Número de datos nulos: 0\n",
      "--------------------\n",
      "arritmia_pop_descripcion\n",
      "NO                                690\n",
      "TAQUIARRITMIA SUPRAVENTRICULAR     36\n",
      "BRADIARRITMIA                       8\n",
      "TAQUIARRITMIA VENTRICULAR           2\n",
      "Name: count, dtype: int64\n"
     ]
    }
   ],
   "source": [
    "ver_datos(df, 'arritmia_pop_descripcion', True)"
   ]
  },
  {
   "cell_type": "markdown",
   "id": "1623f2b3",
   "metadata": {},
   "source": [
    "### Infarto_POP"
   ]
  },
  {
   "cell_type": "code",
   "execution_count": 772,
   "id": "6797a091",
   "metadata": {},
   "outputs": [
    {
     "name": "stdout",
     "output_type": "stream",
     "text": [
      "count     629\n",
      "unique      5\n",
      "top         0\n",
      "freq      621\n",
      "Name: Infarto_POP, dtype: int64\n",
      "--------------------\n",
      "Número de datos nulos: 107\n",
      "--------------------\n",
      "Infarto_POP\n",
      "0                 621\n",
      "NaN               107\n",
      "1                   4\n",
      "2                   2\n",
      "P                   1\n",
      "2 (2 INFARTOS)      1\n",
      "Name: count, dtype: int64\n"
     ]
    }
   ],
   "source": [
    "ver_datos(df, 'Infarto_POP', True)"
   ]
  },
  {
   "cell_type": "code",
   "execution_count": 773,
   "id": "3d7e036d",
   "metadata": {},
   "outputs": [],
   "source": [
    "def limpiar_infarto_pop(texto):\n",
    "    if pd.isna(texto):\n",
    "        return np.nan\n",
    "    texto = str(texto).strip().upper()\n",
    "    \n",
    "    if texto in ['0','0.0', 'NO', 'N/A', 'NINGUNA']:\n",
    "        return 0\n",
    "    elif texto in ['1', '1.0','SI', 'SÍ']:\n",
    "        return 1\n",
    "    else:\n",
    "        return np.nan\n",
    "\n",
    "df['Infarto_POP'] = df['Infarto_POP'].apply(limpiar_infarto_pop)\n"
   ]
  },
  {
   "cell_type": "code",
   "execution_count": 774,
   "id": "0bac192b",
   "metadata": {},
   "outputs": [
    {
     "name": "stdout",
     "output_type": "stream",
     "text": [
      "count    625.000000\n",
      "mean       0.006400\n",
      "std        0.079807\n",
      "min        0.000000\n",
      "25%        0.000000\n",
      "50%        0.000000\n",
      "75%        0.000000\n",
      "max        1.000000\n",
      "Name: Infarto_POP, dtype: float64\n",
      "--------------------\n",
      "Número de datos nulos: 111\n",
      "--------------------\n",
      "Infarto_POP\n",
      "0.0    621\n",
      "NaN    111\n",
      "1.0      4\n",
      "Name: count, dtype: int64\n"
     ]
    }
   ],
   "source": [
    "ver_datos(df, 'Infarto_POP', True)"
   ]
  },
  {
   "cell_type": "code",
   "execution_count": 775,
   "id": "25fbf615",
   "metadata": {},
   "outputs": [
    {
     "name": "stdout",
     "output_type": "stream",
     "text": [
      "count       625\n",
      "unique        2\n",
      "top       False\n",
      "freq        621\n",
      "Name: Infarto_POP_bool, dtype: object\n",
      "--------------------\n",
      "Número de datos nulos: 111\n",
      "--------------------\n",
      "Infarto_POP_bool\n",
      "False    621\n",
      "NaN      111\n",
      "True       4\n",
      "Name: count, dtype: int64\n"
     ]
    }
   ],
   "source": [
    "df[\"Infarto_POP_bool\"] = df[\"Infarto_POP\"].replace({0: False, 1: True})\n",
    "ver_datos(df, 'Infarto_POP_bool', True)\n",
    "selected_columns.append('Infarto_POP_bool')"
   ]
  },
  {
   "cell_type": "markdown",
   "id": "33fcca4e",
   "metadata": {},
   "source": [
    "### EKG_VALOR_POP"
   ]
  },
  {
   "cell_type": "code",
   "execution_count": 776,
   "id": "866352bc",
   "metadata": {},
   "outputs": [
    {
     "name": "stdout",
     "output_type": "stream",
     "text": [
      "count     168\n",
      "unique     35\n",
      "top         0\n",
      "freq      119\n",
      "Name: EKG_VALOR_POP, dtype: int64\n",
      "--------------------\n",
      "Número de datos nulos: 568\n",
      "--------------------\n",
      "EKG_VALOR_POP\n",
      "NaN                                                                                                                                                                                                                                                                                                                                                                                                                                                                                                                                                                                                                                                                                        568\n",
      "0                                                                                                                                                                                                                                                                                                                                                                                                                                                                                                                                                                                                                                                                                          119\n",
      "TAQUICARDIA SINUSAL                                                                                                                                                                                                                                                                                                                                                                                                                                                                                                                                                                                                                                                                          5\n",
      "RITMO SINUSAL                                                                                                                                                                                                                                                                                                                                                                                                                                                                                                                                                                                                                                                                                5\n",
      "1                                                                                                                                                                                                                                                                                                                                                                                                                                                                                                                                                                                                                                                                                            3\n",
      "NORMAL                                                                                                                                                                                                                                                                                                                                                                                                                                                                                                                                                                                                                                                                                       2\n",
      "FA                                                                                                                                                                                                                                                                                                                                                                                                                                                                                                                                                                                                                                                                                           2\n",
      "2                                                                                                                                                                                                                                                                                                                                                                                                                                                                                                                                                                                                                                                                                            2\n",
      "FA CON RESPUESTA VENTRICULAR RAPIDA                                                                                                                                                                                                                                                                                                                                                                                                                                                                                                                                                                                                                                                          2\n",
      "RITMO SINUSAL, SIN CAMBIOS DINAMICOS EN EL ST                                                                                                                                                                                                                                                                                                                                                                                                                                                                                                                                                                                                                                                2\n",
      "BLOQUEO AV III GRADO                                                                                                                                                                                                                                                                                                                                                                                                                                                                                                                                                                                                                                                                         1\n",
      "TAQUICARDIA SINULSAL, ALTERACION INESPECIFICA DE T                                                                                                                                                                                                                                                                                                                                                                                                                                                                                                                                                                                                                                           1\n",
      "01.08.2012: INFARTO INFERIOR.\\n05.08.2012: FA CON  RTA VENTRICUALR RAPIRDA. ANOMALIAS DIFUSAS DE LA REPOLARIZACION\\n(2) ANOMALIAS DIFUSAS DE LA REPOLARIZACION\\n(3)PQ CORTO. ANOMALIAS DIFUSAS DE REPOLARIZACION\\n06.08.2012: PROBABLE NECROSIS INFERIOR, LESION ISQUEMIA SEPTAL\\n11:08.2012: FA CON RTA VENTRICULAR RAPIDA\\n12.08.2012: ALTERACIONES INESPECIFICAS DEL ST\\n13.08.20'12: TC SINUSAL, INFRADESNIVEL DEL ST 1MM: ISQUEMIA?:\\n14.08.2012:TX DIFUSO DE LA REPOLARIZAION. \\n20.08.2012: FA CON RTA VENTRICULAR ACELERADA.LESION SUBENDOCARDICA ANTERIOR. \\n(2)ALTERACION DE LA REPOLARIZACION: LESION ISQUEMICA ANTERISEPTAL.\\n22.08.2012:TX DIFUSO DE LA REPOLARIZACION\\n\\n      1\n",
      "ELEVACION DEL ST EN CARA ANTERIOR Y LATERAL, PERO 10 MIN MAS TARDE SE NORM\\nALIZA Y ENTRA EN RITMO SINUSAL REGULAR./ FIRBRILACION AURICULAR CONRTA VENT RAPIDA. LESION SBEPICARDICA ANTERIOR/ TAQUICARDIA SINUSAL                                                                                                                                                                                                                                                                                                                                                                                                                                                                            1\n",
      "BRADICARDIA, AESP,  FIBRILAVION VENTRICULAR,  RITMO DE ESCAPE,  AISSTOLIA 10 MIN.  PARO PRESENCIADO, REANIMACION, RITMO DE ESCAPE, TAQUICARDIA SINUSAL.  AESP, ASISTOLIA, REANIMACION. AESP                                                                                                                                                                                                                                                                                                                                                                                                                                                                                                  1\n",
      "FIBRILACION AURICULAR PAROXISTICA                                                                                                                                                                                                                                                                                                                                                                                                                                                                                                                                                                                                                                                            1\n",
      "HIPERTROFIA VENTRICULAR IZQ                                                                                                                                                                                                                                                                                                                                                                                                                                                                                                                                                                                                                                                                  1\n",
      "TAQUICARDIA SINUSAL, EXTRASISTOLES VENTRICULARES                                                                                                                                                                                                                                                                                                                                                                                                                                                                                                                                                                                                                                             1\n",
      "INVERSION T EN VI / NORMAL                                                                                                                                                                                                                                                                                                                                                                                                                                                                                                                                                                                                                                                                   1\n",
      "TAQUIARDIA SINUSAL                                                                                                                                                                                                                                                                                                                                                                                                                                                                                                                                                                                                                                                                           1\n",
      "EXTRASISTOLES VENTRICULARES, 1 EPISODIO DE BIGEMINISMO/ (2) HACE TAQUICARDIA VENTRICULAR NO SOSTENIDA, RESUELVE A RITMO SINUSAL CON PRESENCIA DE EXTRASISTOLES SUPRAVENTRICULARES \\n\\n                                                                                                                                                                                                                                                                                                                                                                                                                                                                                                       1\n",
      "AESP/ RITMO DIVENTRICULAR                                                                                                                                                                                                                                                                                                                                                                                                                                                                                                                                                                                                                                                                    1\n",
      "TAQUICARDIA SINUSAL(03.04.2009) FIBRILACIÓN AURICULAR DE RESPUESTA VENTRICULAR RÁPIDA                                                                                                                                                                                                                                                                                                                                                                                                                                                                                                                                                                                                        1\n",
      "FIBRILACION AURICULAR CON RTA VENT RAPIDA, FA PAROXISTICA 3 EPISODIOS/ FLUTTER AURICULAR                                                                                                                                                                                                                                                                                                                                                                                                                                                                                                                                                                                                     1\n",
      ")11.10:2008) EKG DE CONTROL DIARIO MUESTRA RITMO SINUSAL, FC 96, PR 156, QRS 130, QTC 466, PARTON DE BLOQUEO DE RAMA IZQDA, UNA EXTRASISTOLE VENTRICUAR EN EL TRAZADO.  14.10.2008 EKG NUEVAMENTE EVIDENCIANDO ISQUEMIA SUBENDOCARDICA, CON LESION EN CARA INFERIOR SIN CAMBIOS CON RESPECTO A ELECTROS PREVIO                                                                                                                                                                                                                                                                                                                                                                               1\n",
      "3                                                                                                                                                                                                                                                                                                                                                                                                                                                                                                                                                                                                                                                                                            1\n",
      "01.06.2009\\n Ritmo sinusal FC 71, PR 180, QTC 470 mseg, eje 5 grados, inversion asimè trica de la onda T difusa (anteroseptal, inferior, lateral) \\n2. Ritmo sinusal FC 66, PR 180 mseg, QTc 526 mseg, Eje 0 grados, inversiòn asimètrica y difusa de la onda T (anteroseptal, inferior, lateral).                                                                                                                                                                                                                                                                                                                                                                                           1\n",
      "6                                                                                                                                                                                                                                                                                                                                                                                                                                                                                                                                                                                                                                                                                            1\n",
      "SIN ALTERACIONES QUE SUGIERAN ISQUEMIA AGUDA                                                                                                                                                                                                                                                                                                                                                                                                                                                                                                                                                                                                                                                 1\n",
      "RITMO SINUSAL, BLOQUEO DE RAMA DERECHA DEL HAZ DE HIS, SIN CAMBIOS DINAMICOS EN EL ST                                                                                                                                                                                                                                                                                                                                                                                                                                                                                                                                                                                                        1\n",
      "TAQUICRDIA SINUSAL                                                                                                                                                                                                                                                                                                                                                                                                                                                                                                                                                                                                                                                                           1\n",
      "RITMO SINUSAL. PROGRESIÓN LENTA DE LA ONDA R EN PRECORDIALES. DESCARTAR NECROSIS ANTERIOR                                                                                                                                                                                                                                                                                                                                                                                                                                                                                                                                                                                                    1\n",
      "RITMO SINUSAL NORMAL, SIN CAMBIOS SEGMENTO ST                                                                                                                                                                                                                                                                                                                                                                                                                                                                                                                                                                                                                                                1\n",
      "QT NORMAL DE 400\\nMSEG CORREGIDO POR FRECUENCIA SIN OTROS HALLAZGOS ANORMALES                                                                                                                                                                                                                                                                                                                                                                                                                                                                                                                                                                                                                1\n",
      "TAQUICARDIA SUPRAVENTRICULAR                                                                                                                                                                                                                                                                                                                                                                                                                                                                                                                                                                                                                                                                 1\n",
      "FIBRILACIÓN AURICULAR                                                                                                                                                                                                                                                                                                                                                                                                                                                                                                                                                                                                                                                                        1\n",
      "Name: count, dtype: int64\n"
     ]
    }
   ],
   "source": [
    "ver_datos(df, 'EKG_VALOR_POP', True)"
   ]
  },
  {
   "cell_type": "code",
   "execution_count": 777,
   "id": "43ca43aa",
   "metadata": {},
   "outputs": [
    {
     "name": "stdout",
     "output_type": "stream",
     "text": [
      "count    159.000000\n",
      "mean       0.352201\n",
      "std        1.038124\n",
      "min        0.000000\n",
      "25%        0.000000\n",
      "50%        0.000000\n",
      "75%        0.000000\n",
      "max        6.000000\n",
      "Name: EKG_VALOR_POP_1, dtype: float64\n",
      "--------------------\n",
      "Número de datos nulos: 577\n",
      "--------------------\n",
      "EKG_VALOR_POP_1\n",
      "NaN    577\n",
      "0.0    141\n",
      "3.0     13\n",
      "2.0      3\n",
      "5.0      1\n",
      "6.0      1\n",
      "Name: count, dtype: int64\n"
     ]
    }
   ],
   "source": [
    "def clasificar_ekg(valor):\n",
    "    if pd.isna(valor) or valor.strip() in ['999', '']:\n",
    "        return np.nan\n",
    "    \n",
    "    v = valor.upper()\n",
    "    \n",
    "    # Normal\n",
    "    if any(x in v for x in ['0','NORMAL', 'RITMO SINUSAL', 'SIN CAMBIOS', 'SIN ALTERACIONES']):\n",
    "        return 0\n",
    "    \n",
    "    # QTc prolongado\n",
    "    elif 'QT' in v and any(x in v for x in ['1','PROLONG', 'QTC 5']):\n",
    "        return 1\n",
    "    \n",
    "    # Trastornos de la repolarización\n",
    "    elif any(x in v for x in ['2','REPOLAR', 'ONDA T', 'LESION', 'ISQUEM', 'ALTERACION INESPECIFICA']):\n",
    "        return 2\n",
    "    \n",
    "    # Taquiarritmias supraventriculares\n",
    "    elif any(x in v for x in ['3','TAQUICARDIA SINUSAL', 'TAQUIARDIA', 'FA ', 'FIBRILACION AURIC', 'FLUTTER', 'SUPRAVENTRICULAR']):\n",
    "        return 3\n",
    "    \n",
    "    # Taquiarritmias ventriculares\n",
    "    elif any(x in v for x in ['4','TAQUICARDIA VENTRICULAR', 'FIBRILACION VENTRICULAR']):\n",
    "        return 4\n",
    "    \n",
    "    # Bradiarritmias\n",
    "    elif any(x in v for x in ['5','BRADICARD', 'ASISTOL', 'BLOQUEO AV']):\n",
    "        return 5\n",
    "    \n",
    "    # Extrasístoles\n",
    "    elif 'EXTRASIST' in v or 'BIGEMINISMO' in v or '6' in v:\n",
    "        return 6\n",
    "    \n",
    "    # Mala progresión de onda R\n",
    "    elif 'ONDA R' in v or 'PROGRESION LENTA' in v or '7' in v:\n",
    "        return 7\n",
    "    \n",
    "    # Bloqueo de rama derecha\n",
    "    elif 'BLOQUEO DE RAMA DERECHA' in v or '8'in v:\n",
    "        return 8\n",
    "    \n",
    "    # Bloqueo de rama izquierda\n",
    "    elif 'BLOQUEO DE RAMA IZQ' in v or '9' in v:\n",
    "        return 9\n",
    "    \n",
    "    else:\n",
    "        return np.nan\n",
    "\n",
    "\n",
    "# Aplicar\n",
    "df['EKG_VALOR_POP_1'] = df['EKG_VALOR_POP'].astype(str).apply(clasificar_ekg)\n",
    "\n",
    "# Ver resultado\n",
    "ver_datos(df, 'EKG_VALOR_POP_1', True)"
   ]
  },
  {
   "cell_type": "code",
   "execution_count": 778,
   "id": "04c3c76e",
   "metadata": {},
   "outputs": [],
   "source": [
    "selected_columns.append('EKG_VALOR_POP_1')"
   ]
  },
  {
   "cell_type": "code",
   "execution_count": 779,
   "id": "e04736a3",
   "metadata": {},
   "outputs": [
    {
     "name": "stdout",
     "output_type": "stream",
     "text": [
      "count        159\n",
      "unique         5\n",
      "top       Normal\n",
      "freq         141\n",
      "Name: EKG_VALOR_POP_categoria, dtype: object\n",
      "--------------------\n",
      "Número de datos nulos: 577\n",
      "--------------------\n",
      "EKG_VALOR_POP_categoria\n",
      "NaN                                  577\n",
      "Normal                               141\n",
      "Taquiarritmias supraventriculares     13\n",
      "Trastornos de la repolarización        3\n",
      "Bradiarritmias                         1\n",
      "Extrasístoles                          1\n",
      "Name: count, dtype: int64\n"
     ]
    }
   ],
   "source": [
    "df[\"EKG_VALOR_POP_categoria\"] = df[\"EKG_VALOR_POP_1\"].replace({0: 'Normal', 1: 'QTc prolongado', 2: 'Trastornos de la repolarización', \n",
    "                                                                                             3: 'Taquiarritmias supraventriculares', 4: 'Taquiarritmias ventriculares', \n",
    "                                                                                             5: 'Bradiarritmias', 6: 'Extrasístoles', 7: 'Mala progresión de onda R',\n",
    "                                                                                             8: 'Bloqueo de rama derecha', 9: 'Bloqueo de rama izquierda'})\n",
    "selected_columns.append('EKG_VALOR_POP_categoria')\n",
    "ver_datos(df, 'EKG_VALOR_POP_categoria', True)"
   ]
  },
  {
   "cell_type": "markdown",
   "id": "447a776d",
   "metadata": {},
   "source": [
    "### Ecocardiograma_POP_FE%"
   ]
  },
  {
   "cell_type": "code",
   "execution_count": 780,
   "id": "9dd52afe",
   "metadata": {},
   "outputs": [
    {
     "name": "stdout",
     "output_type": "stream",
     "text": [
      "count    126.000000\n",
      "mean       7.888889\n",
      "std       21.136593\n",
      "min        0.000000\n",
      "25%        0.000000\n",
      "50%        0.000000\n",
      "75%        0.000000\n",
      "max       85.000000\n",
      "Name: Ecocardiograma_POP_FE%, dtype: float64\n",
      "--------------------\n",
      "Número de datos nulos: 610\n"
     ]
    }
   ],
   "source": [
    "ver_datos(df, 'Ecocardiograma_POP_FE%')"
   ]
  },
  {
   "cell_type": "markdown",
   "id": "f9336170",
   "metadata": {},
   "source": [
    "### Ecocardiograma_POP_PASP"
   ]
  },
  {
   "cell_type": "code",
   "execution_count": 781,
   "id": "db8db494",
   "metadata": {},
   "outputs": [
    {
     "name": "stdout",
     "output_type": "stream",
     "text": [
      "count    123.000000\n",
      "mean       3.040650\n",
      "std       11.025602\n",
      "min        0.000000\n",
      "25%        0.000000\n",
      "50%        0.000000\n",
      "75%        0.000000\n",
      "max       72.000000\n",
      "Name: Ecocardiograma_POP_PASP, dtype: float64\n",
      "--------------------\n",
      "Número de datos nulos: 613\n",
      "--------------------\n",
      "Ecocardiograma_POP_PASP\n",
      "NaN     613\n",
      "0.0     113\n",
      "38.0      2\n",
      "33.0      1\n",
      "50.0      1\n",
      "31.0      1\n",
      "27.0      1\n",
      "24.0      1\n",
      "40.0      1\n",
      "21.0      1\n",
      "72.0      1\n",
      "Name: count, dtype: int64\n"
     ]
    }
   ],
   "source": [
    "ver_datos(df, 'Ecocardiograma_POP_PASP', True)"
   ]
  },
  {
   "cell_type": "code",
   "execution_count": 782,
   "id": "35458ba7",
   "metadata": {},
   "outputs": [],
   "source": [
    "df['Ecocardiograma_POP_PASP'] = df['Ecocardiograma_POP_PASP'].replace(\n",
    "    {\n",
    "        0: np.nan\n",
    "    }\n",
    ")"
   ]
  },
  {
   "cell_type": "code",
   "execution_count": 783,
   "id": "1caeb737",
   "metadata": {},
   "outputs": [
    {
     "name": "stdout",
     "output_type": "stream",
     "text": [
      "count    10.000000\n",
      "mean     37.400000\n",
      "std      14.833895\n",
      "min      21.000000\n",
      "25%      28.000000\n",
      "50%      35.500000\n",
      "75%      39.500000\n",
      "max      72.000000\n",
      "Name: Ecocardiograma_POP_PASP, dtype: float64\n",
      "--------------------\n",
      "Número de datos nulos: 726\n",
      "--------------------\n",
      "Ecocardiograma_POP_PASP\n",
      "NaN     726\n",
      "38.0      2\n",
      "50.0      1\n",
      "33.0      1\n",
      "31.0      1\n",
      "27.0      1\n",
      "24.0      1\n",
      "40.0      1\n",
      "21.0      1\n",
      "72.0      1\n",
      "Name: count, dtype: int64\n"
     ]
    }
   ],
   "source": [
    "ver_datos(df, 'Ecocardiograma_POP_PASP', True)"
   ]
  },
  {
   "cell_type": "markdown",
   "id": "e891d2bf",
   "metadata": {},
   "source": [
    "### Retrasplante"
   ]
  },
  {
   "cell_type": "code",
   "execution_count": 784,
   "id": "4ce2788c",
   "metadata": {},
   "outputs": [
    {
     "name": "stdout",
     "output_type": "stream",
     "text": [
      "count    732.000000\n",
      "mean       0.060109\n",
      "std        0.237852\n",
      "min        0.000000\n",
      "25%        0.000000\n",
      "50%        0.000000\n",
      "75%        0.000000\n",
      "max        1.000000\n",
      "Name: Retrasplante, dtype: float64\n",
      "--------------------\n",
      "Número de datos nulos: 4\n",
      "--------------------\n",
      "Retrasplante\n",
      "0.0    688\n",
      "1.0     44\n",
      "NaN      4\n",
      "Name: count, dtype: int64\n"
     ]
    }
   ],
   "source": [
    "ver_datos(df,'Retrasplante', True)"
   ]
  },
  {
   "cell_type": "code",
   "execution_count": 785,
   "id": "66bee816",
   "metadata": {},
   "outputs": [
    {
     "name": "stdout",
     "output_type": "stream",
     "text": [
      "count       732\n",
      "unique        2\n",
      "top       False\n",
      "freq        688\n",
      "Name: Retrasplante_bool, dtype: object\n",
      "--------------------\n",
      "Número de datos nulos: 4\n"
     ]
    }
   ],
   "source": [
    "df[\"Retrasplante_bool\"] = df[\"Retrasplante\"].replace({0: False, 1: True})\n",
    "selected_columns.append(\"Retrasplante_bool\")\n",
    "ver_datos(df, \"Retrasplante_bool\")"
   ]
  },
  {
   "cell_type": "markdown",
   "id": "aa607487",
   "metadata": {},
   "source": [
    "### Indicación_Retrasplante"
   ]
  },
  {
   "cell_type": "code",
   "execution_count": 786,
   "id": "280ce86a",
   "metadata": {},
   "outputs": [
    {
     "name": "stdout",
     "output_type": "stream",
     "text": [
      "count    42.000000\n",
      "mean      1.690476\n",
      "std       1.219518\n",
      "min       1.000000\n",
      "25%       1.000000\n",
      "50%       1.000000\n",
      "75%       2.000000\n",
      "max       6.000000\n",
      "Name: Indicación_Retrasplante, dtype: float64\n",
      "--------------------\n",
      "Número de datos nulos: 694\n",
      "--------------------\n",
      "Indicación_Retrasplante\n",
      "NaN    694\n",
      "1.0     26\n",
      "2.0     11\n",
      "5.0      2\n",
      "3.0      1\n",
      "4.0      1\n",
      "6.0      1\n",
      "Name: count, dtype: int64\n"
     ]
    }
   ],
   "source": [
    "ver_datos(df, \"Indicación_Retrasplante\", True)"
   ]
  },
  {
   "cell_type": "code",
   "execution_count": 787,
   "id": "6733fcda",
   "metadata": {},
   "outputs": [],
   "source": [
    "df[\"Indicación_Retrasplante_categoria\"] = df[\"Indicación_Retrasplante\"].replace({1:'DISFUNCIÓN PRIMARIA DEL INJERTO', 2: 'TROMBOSIS ARTERIA HEPÁTICA', 3: 'TROMBOSIS PORTAL', \n",
    "                                                                                                     4: 'BUDD CHIARI', 5: 'COLANGIOPATIA ISQUEMICA', 6: 'HELLP'})\n",
    "selected_columns.append('Indicación_Retrasplante_categoria')"
   ]
  },
  {
   "cell_type": "code",
   "execution_count": 788,
   "id": "1e703192",
   "metadata": {},
   "outputs": [
    {
     "name": "stdout",
     "output_type": "stream",
     "text": [
      "count                                  42\n",
      "unique                                  6\n",
      "top       DISFUNCIÓN PRIMARIA DEL INJERTO\n",
      "freq                                   26\n",
      "Name: Indicación_Retrasplante_categoria, dtype: object\n",
      "--------------------\n",
      "Número de datos nulos: 694\n",
      "--------------------\n",
      "Indicación_Retrasplante_categoria\n",
      "NaN                                694\n",
      "DISFUNCIÓN PRIMARIA DEL INJERTO     26\n",
      "TROMBOSIS ARTERIA HEPÁTICA          11\n",
      "COLANGIOPATIA ISQUEMICA              2\n",
      "TROMBOSIS PORTAL                     1\n",
      "BUDD CHIARI                          1\n",
      "HELLP                                1\n",
      "Name: count, dtype: int64\n"
     ]
    }
   ],
   "source": [
    "ver_datos(df, \"Indicación_Retrasplante_categoria\", True)"
   ]
  },
  {
   "cell_type": "markdown",
   "id": "9c6514ee",
   "metadata": {},
   "source": [
    "### Año_Tx2 (si no retx, poner año tx)"
   ]
  },
  {
   "cell_type": "code",
   "execution_count": 789,
   "id": "c6974114",
   "metadata": {},
   "outputs": [
    {
     "name": "stdout",
     "output_type": "stream",
     "text": [
      "count     736.000000\n",
      "mean     2013.767663\n",
      "std         6.841577\n",
      "min      1988.000000\n",
      "25%      2009.000000\n",
      "50%      2014.000000\n",
      "75%      2019.000000\n",
      "max      2025.000000\n",
      "Name: Año_Tx2 (si no retx, poner año tx), dtype: float64\n",
      "--------------------\n",
      "Número de datos nulos: 0\n",
      "--------------------\n",
      "Año_Tx2 (si no retx, poner año tx)\n",
      "2017    58\n",
      "2009    45\n",
      "2010    43\n",
      "2016    43\n",
      "2023    42\n",
      "2015    40\n",
      "2018    38\n",
      "2024    37\n",
      "2012    37\n",
      "2008    34\n",
      "2014    34\n",
      "2011    33\n",
      "2019    33\n",
      "2022    30\n",
      "2007    29\n",
      "2013    27\n",
      "2021    22\n",
      "1998    19\n",
      "2006    19\n",
      "2004    14\n",
      "2005    14\n",
      "2020    13\n",
      "2025     9\n",
      "2003     8\n",
      "2002     3\n",
      "1991     2\n",
      "1999     2\n",
      "1994     2\n",
      "1990     2\n",
      "1989     2\n",
      "1988     1\n",
      "1997     1\n",
      "Name: count, dtype: int64\n"
     ]
    }
   ],
   "source": [
    "ver_datos(df, \"Año_Tx2 (si no retx, poner año tx)\", True)"
   ]
  },
  {
   "cell_type": "code",
   "execution_count": 790,
   "id": "9a599857",
   "metadata": {},
   "outputs": [
    {
     "data": {
      "text/html": [
       "<div>\n",
       "<style scoped>\n",
       "    .dataframe tbody tr th:only-of-type {\n",
       "        vertical-align: middle;\n",
       "    }\n",
       "\n",
       "    .dataframe tbody tr th {\n",
       "        vertical-align: top;\n",
       "    }\n",
       "\n",
       "    .dataframe thead th {\n",
       "        text-align: right;\n",
       "    }\n",
       "</style>\n",
       "<table border=\"1\" class=\"dataframe\">\n",
       "  <thead>\n",
       "    <tr style=\"text-align: right;\">\n",
       "      <th></th>\n",
       "      <th>Fecha_Tx</th>\n",
       "      <th>Año_Tx2 (si no retx, poner año tx)</th>\n",
       "      <th>Fecha_Tx#2</th>\n",
       "      <th>Retrasplante</th>\n",
       "      <th>Indicación_Retrasplante_categoria</th>\n",
       "    </tr>\n",
       "    <tr>\n",
       "      <th>#_Paciente</th>\n",
       "      <th></th>\n",
       "      <th></th>\n",
       "      <th></th>\n",
       "      <th></th>\n",
       "      <th></th>\n",
       "    </tr>\n",
       "  </thead>\n",
       "  <tbody>\n",
       "    <tr>\n",
       "      <th>35</th>\n",
       "      <td>2002-12-02</td>\n",
       "      <td>2006</td>\n",
       "      <td>2006-06-17</td>\n",
       "      <td>1.0</td>\n",
       "      <td>COLANGIOPATIA ISQUEMICA</td>\n",
       "    </tr>\n",
       "    <tr>\n",
       "      <th>52</th>\n",
       "      <td>2004-06-29</td>\n",
       "      <td>2004</td>\n",
       "      <td>2004-07-25</td>\n",
       "      <td>1.0</td>\n",
       "      <td>TROMBOSIS ARTERIA HEPÁTICA</td>\n",
       "    </tr>\n",
       "    <tr>\n",
       "      <th>69</th>\n",
       "      <td>2005-10-16</td>\n",
       "      <td>2005</td>\n",
       "      <td>2005-11-02</td>\n",
       "      <td>1.0</td>\n",
       "      <td>DISFUNCIÓN PRIMARIA DEL INJERTO</td>\n",
       "    </tr>\n",
       "    <tr>\n",
       "      <th>81</th>\n",
       "      <td>2006-07-11</td>\n",
       "      <td>2006</td>\n",
       "      <td>2006-12-06</td>\n",
       "      <td>1.0</td>\n",
       "      <td>COLANGIOPATIA ISQUEMICA</td>\n",
       "    </tr>\n",
       "    <tr>\n",
       "      <th>153</th>\n",
       "      <td>2008-12-26</td>\n",
       "      <td>2009</td>\n",
       "      <td>2009-01-08</td>\n",
       "      <td>1.0</td>\n",
       "      <td>DISFUNCIÓN PRIMARIA DEL INJERTO</td>\n",
       "    </tr>\n",
       "  </tbody>\n",
       "</table>\n",
       "</div>"
      ],
      "text/plain": [
       "             Fecha_Tx  Año_Tx2 (si no retx, poner año tx) Fecha_Tx#2  \\\n",
       "#_Paciente                                                             \n",
       "35         2002-12-02                                2006 2006-06-17   \n",
       "52         2004-06-29                                2004 2004-07-25   \n",
       "69         2005-10-16                                2005 2005-11-02   \n",
       "81         2006-07-11                                2006 2006-12-06   \n",
       "153        2008-12-26                                2009 2009-01-08   \n",
       "\n",
       "            Retrasplante Indicación_Retrasplante_categoria  \n",
       "#_Paciente                                                  \n",
       "35                   1.0           COLANGIOPATIA ISQUEMICA  \n",
       "52                   1.0        TROMBOSIS ARTERIA HEPÁTICA  \n",
       "69                   1.0   DISFUNCIÓN PRIMARIA DEL INJERTO  \n",
       "81                   1.0           COLANGIOPATIA ISQUEMICA  \n",
       "153                  1.0   DISFUNCIÓN PRIMARIA DEL INJERTO  "
      ]
     },
     "execution_count": 790,
     "metadata": {},
     "output_type": "execute_result"
    }
   ],
   "source": [
    "df[[\"Fecha_Tx\",\"Año_Tx2 (si no retx, poner año tx)\",\"Fecha_Tx#2\",\"Retrasplante\",\"Indicación_Retrasplante_categoria\"]].loc[df[\"Fecha_Tx#2\"].notna() |\n",
    "                                                                                                                        ((~df[\"Retrasplante\"].astype(str).isin([\"\", \"0.0\", \"NaN\", \"NAT\", \"NO\"])) &  (df[\"Retrasplante\"].notna())) |\n",
    "                                                                                                                            df[\"Indicación_Retrasplante_categoria\"].notnull() \n",
    "                                                                                                                            #| df[\"Año_Tx2 (si no retx, poner año tx)\"].notna() # la variable tiene datos inconsistentes\n",
    "                                                                                                                            ].head(5)\n",
    "\n",
    "# # Convertir ambas columnas a datetime\n",
    "# df_trans_hepatico[\"Fecha_Tx#2\"] = pd.to_datetime(df_trans_hepatico[\"Fecha_Tx#2\"], errors='coerce')\n",
    "\n",
    "# df_trans_hepatico[\"Tiempo_Desde_Tx_Infección_1\"] = (\n",
    "#     df_trans_hepatico[\"Fecha_Infección_1\"] - df_trans_hepatico[\"Fecha_Tx\"]\n",
    "# ).dt.days\n",
    "\n",
    "# df_trans_hepatico[\"Tiempo_Desde_Tx_Infección_1\"] = df_trans_hepatico[\"Tiempo_Desde_Tx_Infección_1\"].astype(\"Int64\")\n",
    "# df_trans_hepatico[\"Tiempo_Desde_Tx_Infección_1\"].unique()"
   ]
  },
  {
   "cell_type": "markdown",
   "id": "d6d8e791",
   "metadata": {},
   "source": [
    "Dado que el atributo Año_tx2 no es consistente con la variable retrasplante o indicacion retrasplante, se pensaria en ajustarla, sin embargo, la definición de la variable para los stakeholder sugiere que debe dejarse asi. \n",
    "\n",
    "Por lo tanto, se hará uso de las variables que presentan consistencia las cuales son Retrasplante, Indicacion_Retrasplante y Fecha_Tx#2. "
   ]
  },
  {
   "cell_type": "markdown",
   "id": "b4cdc62f",
   "metadata": {},
   "source": [
    "### Fecha_Tx#2"
   ]
  },
  {
   "cell_type": "code",
   "execution_count": 791,
   "id": "ff71c988",
   "metadata": {},
   "outputs": [
    {
     "name": "stdout",
     "output_type": "stream",
     "text": [
      "count                               44\n",
      "mean     2014-11-06 09:49:05.454545408\n",
      "min                2004-07-25 00:00:00\n",
      "25%                2010-03-03 18:00:00\n",
      "50%                2014-12-13 00:00:00\n",
      "75%                2018-10-07 12:00:00\n",
      "max                2025-03-04 00:00:00\n",
      "Name: Fecha_Tx#2, dtype: object\n",
      "--------------------\n",
      "Número de datos nulos: 692\n"
     ]
    }
   ],
   "source": [
    "ver_datos(df, 'Fecha_Tx#2')\n",
    "selected_columns.append('Fecha_Tx#2')"
   ]
  },
  {
   "cell_type": "markdown",
   "id": "a6e233ef",
   "metadata": {},
   "source": [
    "### Días_Desde_Tx#1(se puede hacer un calculo con años o algo así, como una nueva variable)"
   ]
  },
  {
   "cell_type": "code",
   "execution_count": 792,
   "id": "9472116c",
   "metadata": {},
   "outputs": [
    {
     "name": "stdout",
     "output_type": "stream",
     "text": [
      "count      42.000000\n",
      "mean       45.261905\n",
      "std       199.944146\n",
      "min         0.000000\n",
      "25%         2.000000\n",
      "50%         3.000000\n",
      "75%        12.500000\n",
      "max      1293.000000\n",
      "Name: Días_Desde_Tx#1, dtype: float64\n",
      "--------------------\n",
      "Número de datos nulos: 694\n"
     ]
    }
   ],
   "source": [
    "ver_datos(df, 'Días_Desde_Tx#1')"
   ]
  },
  {
   "cell_type": "code",
   "execution_count": 793,
   "id": "5c84d835",
   "metadata": {},
   "outputs": [
    {
     "data": {
      "text/plain": [
       "count      44.000000\n",
       "mean      123.477273\n",
       "std       560.630438\n",
       "min         0.000000\n",
       "25%         2.000000\n",
       "50%         3.000000\n",
       "75%        14.000000\n",
       "max      3530.000000\n",
       "Name: Días_Desde_Tx#1_calculada, dtype: float64"
      ]
     },
     "execution_count": 793,
     "metadata": {},
     "output_type": "execute_result"
    }
   ],
   "source": [
    "# Ahora sí puedes restar fechas\n",
    "df[\"Días_Desde_Tx#1_calculada\"] = (\n",
    "    df[\"Fecha_Tx#2\"] - df[\"Fecha_Tx\"]\n",
    ").dt.days\n",
    "\n",
    "df[\"Días_Desde_Tx#1_calculada\"].describe()"
   ]
  },
  {
   "cell_type": "code",
   "execution_count": 794,
   "id": "ea86e3db",
   "metadata": {},
   "outputs": [
    {
     "data": {
      "text/html": [
       "<div>\n",
       "<style scoped>\n",
       "    .dataframe tbody tr th:only-of-type {\n",
       "        vertical-align: middle;\n",
       "    }\n",
       "\n",
       "    .dataframe tbody tr th {\n",
       "        vertical-align: top;\n",
       "    }\n",
       "\n",
       "    .dataframe thead th {\n",
       "        text-align: right;\n",
       "    }\n",
       "</style>\n",
       "<table border=\"1\" class=\"dataframe\">\n",
       "  <thead>\n",
       "    <tr style=\"text-align: right;\">\n",
       "      <th></th>\n",
       "      <th>Días_Desde_Tx#1</th>\n",
       "      <th>Días_Desde_Tx#1_calculada</th>\n",
       "      <th>Fecha_Tx</th>\n",
       "      <th>Fecha_Tx#2</th>\n",
       "    </tr>\n",
       "    <tr>\n",
       "      <th>#_Paciente</th>\n",
       "      <th></th>\n",
       "      <th></th>\n",
       "      <th></th>\n",
       "      <th></th>\n",
       "    </tr>\n",
       "  </thead>\n",
       "  <tbody>\n",
       "    <tr>\n",
       "      <th>364</th>\n",
       "      <td>NaN</td>\n",
       "      <td>3530.0</td>\n",
       "      <td>2014-10-06</td>\n",
       "      <td>2024-06-05</td>\n",
       "    </tr>\n",
       "    <tr>\n",
       "      <th>712</th>\n",
       "      <td>NaN</td>\n",
       "      <td>2.0</td>\n",
       "      <td>2024-07-17</td>\n",
       "      <td>2024-07-19</td>\n",
       "    </tr>\n",
       "  </tbody>\n",
       "</table>\n",
       "</div>"
      ],
      "text/plain": [
       "            Días_Desde_Tx#1  Días_Desde_Tx#1_calculada   Fecha_Tx Fecha_Tx#2\n",
       "#_Paciente                                                                  \n",
       "364                     NaN                     3530.0 2014-10-06 2024-06-05\n",
       "712                     NaN                        2.0 2024-07-17 2024-07-19"
      ]
     },
     "execution_count": 794,
     "metadata": {},
     "output_type": "execute_result"
    }
   ],
   "source": [
    "df.loc[(df['Días_Desde_Tx#1']!=df['Días_Desde_Tx#1_calculada']) & df['Días_Desde_Tx#1_calculada'].notna()][['Días_Desde_Tx#1', 'Días_Desde_Tx#1_calculada', 'Fecha_Tx', 'Fecha_Tx#2']]"
   ]
  },
  {
   "cell_type": "code",
   "execution_count": 795,
   "id": "65518742",
   "metadata": {},
   "outputs": [],
   "source": [
    "df['Días_Desde_Tx#1'] = df['Días_Desde_Tx#1_calculada']"
   ]
  },
  {
   "cell_type": "markdown",
   "id": "d1620339",
   "metadata": {},
   "source": [
    "### Re_Re trasplante"
   ]
  },
  {
   "cell_type": "code",
   "execution_count": 796,
   "id": "f2abeb96",
   "metadata": {},
   "outputs": [
    {
     "name": "stdout",
     "output_type": "stream",
     "text": [
      "count    731.000000\n",
      "mean       0.002736\n",
      "std        0.052271\n",
      "min        0.000000\n",
      "25%        0.000000\n",
      "50%        0.000000\n",
      "75%        0.000000\n",
      "max        1.000000\n",
      "Name: Re_Re trasplante, dtype: float64\n",
      "--------------------\n",
      "Número de datos nulos: 5\n",
      "--------------------\n",
      "Re_Re trasplante\n",
      "0.0    729\n",
      "NaN      5\n",
      "1.0      2\n",
      "Name: count, dtype: int64\n"
     ]
    }
   ],
   "source": [
    "ver_datos(df, 'Re_Re trasplante', True)"
   ]
  },
  {
   "cell_type": "code",
   "execution_count": 797,
   "id": "6efe1fe7",
   "metadata": {},
   "outputs": [
    {
     "data": {
      "text/html": [
       "<div>\n",
       "<style scoped>\n",
       "    .dataframe tbody tr th:only-of-type {\n",
       "        vertical-align: middle;\n",
       "    }\n",
       "\n",
       "    .dataframe tbody tr th {\n",
       "        vertical-align: top;\n",
       "    }\n",
       "\n",
       "    .dataframe thead th {\n",
       "        text-align: right;\n",
       "    }\n",
       "</style>\n",
       "<table border=\"1\" class=\"dataframe\">\n",
       "  <thead>\n",
       "    <tr style=\"text-align: right;\">\n",
       "      <th></th>\n",
       "      <th>Fecha_Tx</th>\n",
       "      <th>Fecha_Tx#2</th>\n",
       "      <th>Días_Desde_Tx#1</th>\n",
       "      <th>Días_Desde_Tx#1_calculada</th>\n",
       "      <th>Re_Re trasplante</th>\n",
       "    </tr>\n",
       "    <tr>\n",
       "      <th>#_Paciente</th>\n",
       "      <th></th>\n",
       "      <th></th>\n",
       "      <th></th>\n",
       "      <th></th>\n",
       "      <th></th>\n",
       "    </tr>\n",
       "  </thead>\n",
       "  <tbody>\n",
       "    <tr>\n",
       "      <th>35</th>\n",
       "      <td>2002-12-02</td>\n",
       "      <td>2006-06-17</td>\n",
       "      <td>1293.0</td>\n",
       "      <td>1293.0</td>\n",
       "      <td>0.0</td>\n",
       "    </tr>\n",
       "    <tr>\n",
       "      <th>52</th>\n",
       "      <td>2004-06-29</td>\n",
       "      <td>2004-07-25</td>\n",
       "      <td>26.0</td>\n",
       "      <td>26.0</td>\n",
       "      <td>0.0</td>\n",
       "    </tr>\n",
       "    <tr>\n",
       "      <th>69</th>\n",
       "      <td>2005-10-16</td>\n",
       "      <td>2005-11-02</td>\n",
       "      <td>17.0</td>\n",
       "      <td>17.0</td>\n",
       "      <td>0.0</td>\n",
       "    </tr>\n",
       "    <tr>\n",
       "      <th>81</th>\n",
       "      <td>2006-07-11</td>\n",
       "      <td>2006-12-06</td>\n",
       "      <td>148.0</td>\n",
       "      <td>148.0</td>\n",
       "      <td>0.0</td>\n",
       "    </tr>\n",
       "    <tr>\n",
       "      <th>153</th>\n",
       "      <td>2008-12-26</td>\n",
       "      <td>2009-01-08</td>\n",
       "      <td>13.0</td>\n",
       "      <td>13.0</td>\n",
       "      <td>0.0</td>\n",
       "    </tr>\n",
       "    <tr>\n",
       "      <th>164</th>\n",
       "      <td>2009-03-30</td>\n",
       "      <td>2009-04-03</td>\n",
       "      <td>4.0</td>\n",
       "      <td>4.0</td>\n",
       "      <td>0.0</td>\n",
       "    </tr>\n",
       "    <tr>\n",
       "      <th>181</th>\n",
       "      <td>2009-08-13</td>\n",
       "      <td>2009-08-18</td>\n",
       "      <td>5.0</td>\n",
       "      <td>5.0</td>\n",
       "      <td>0.0</td>\n",
       "    </tr>\n",
       "    <tr>\n",
       "      <th>185</th>\n",
       "      <td>2009-09-18</td>\n",
       "      <td>2009-09-20</td>\n",
       "      <td>2.0</td>\n",
       "      <td>2.0</td>\n",
       "      <td>0.0</td>\n",
       "    </tr>\n",
       "    <tr>\n",
       "      <th>195</th>\n",
       "      <td>2009-11-25</td>\n",
       "      <td>2009-11-26</td>\n",
       "      <td>1.0</td>\n",
       "      <td>1.0</td>\n",
       "      <td>0.0</td>\n",
       "    </tr>\n",
       "    <tr>\n",
       "      <th>196</th>\n",
       "      <td>2009-12-02</td>\n",
       "      <td>2009-12-05</td>\n",
       "      <td>3.0</td>\n",
       "      <td>3.0</td>\n",
       "      <td>0.0</td>\n",
       "    </tr>\n",
       "    <tr>\n",
       "      <th>197</th>\n",
       "      <td>2009-12-16</td>\n",
       "      <td>2009-12-27</td>\n",
       "      <td>11.0</td>\n",
       "      <td>11.0</td>\n",
       "      <td>0.0</td>\n",
       "    </tr>\n",
       "    <tr>\n",
       "      <th>203</th>\n",
       "      <td>2010-03-24</td>\n",
       "      <td>2010-03-26</td>\n",
       "      <td>2.0</td>\n",
       "      <td>2.0</td>\n",
       "      <td>0.0</td>\n",
       "    </tr>\n",
       "    <tr>\n",
       "      <th>212</th>\n",
       "      <td>2010-05-25</td>\n",
       "      <td>2010-06-04</td>\n",
       "      <td>10.0</td>\n",
       "      <td>10.0</td>\n",
       "      <td>0.0</td>\n",
       "    </tr>\n",
       "    <tr>\n",
       "      <th>214</th>\n",
       "      <td>2010-06-24</td>\n",
       "      <td>2010-06-27</td>\n",
       "      <td>3.0</td>\n",
       "      <td>3.0</td>\n",
       "      <td>0.0</td>\n",
       "    </tr>\n",
       "    <tr>\n",
       "      <th>219</th>\n",
       "      <td>2010-08-14</td>\n",
       "      <td>2010-08-16</td>\n",
       "      <td>2.0</td>\n",
       "      <td>2.0</td>\n",
       "      <td>0.0</td>\n",
       "    </tr>\n",
       "    <tr>\n",
       "      <th>236</th>\n",
       "      <td>2010-12-11</td>\n",
       "      <td>2010-12-12</td>\n",
       "      <td>1.0</td>\n",
       "      <td>1.0</td>\n",
       "      <td>1.0</td>\n",
       "    </tr>\n",
       "    <tr>\n",
       "      <th>245</th>\n",
       "      <td>2011-03-16</td>\n",
       "      <td>2011-03-17</td>\n",
       "      <td>1.0</td>\n",
       "      <td>1.0</td>\n",
       "      <td>0.0</td>\n",
       "    </tr>\n",
       "    <tr>\n",
       "      <th>272</th>\n",
       "      <td>2011-12-14</td>\n",
       "      <td>2011-12-16</td>\n",
       "      <td>2.0</td>\n",
       "      <td>2.0</td>\n",
       "      <td>0.0</td>\n",
       "    </tr>\n",
       "    <tr>\n",
       "      <th>303</th>\n",
       "      <td>2012-10-21</td>\n",
       "      <td>2012-10-29</td>\n",
       "      <td>8.0</td>\n",
       "      <td>8.0</td>\n",
       "      <td>0.0</td>\n",
       "    </tr>\n",
       "    <tr>\n",
       "      <th>347</th>\n",
       "      <td>2014-03-03</td>\n",
       "      <td>2014-03-04</td>\n",
       "      <td>1.0</td>\n",
       "      <td>1.0</td>\n",
       "      <td>0.0</td>\n",
       "    </tr>\n",
       "    <tr>\n",
       "      <th>348</th>\n",
       "      <td>2014-03-20</td>\n",
       "      <td>2014-04-21</td>\n",
       "      <td>32.0</td>\n",
       "      <td>32.0</td>\n",
       "      <td>0.0</td>\n",
       "    </tr>\n",
       "    <tr>\n",
       "      <th>361</th>\n",
       "      <td>2014-08-28</td>\n",
       "      <td>2014-09-01</td>\n",
       "      <td>4.0</td>\n",
       "      <td>4.0</td>\n",
       "      <td>0.0</td>\n",
       "    </tr>\n",
       "    <tr>\n",
       "      <th>364</th>\n",
       "      <td>2014-10-06</td>\n",
       "      <td>2024-06-05</td>\n",
       "      <td>3530.0</td>\n",
       "      <td>3530.0</td>\n",
       "      <td>0.0</td>\n",
       "    </tr>\n",
       "    <tr>\n",
       "      <th>378</th>\n",
       "      <td>2015-02-28</td>\n",
       "      <td>2015-04-12</td>\n",
       "      <td>43.0</td>\n",
       "      <td>43.0</td>\n",
       "      <td>0.0</td>\n",
       "    </tr>\n",
       "    <tr>\n",
       "      <th>382</th>\n",
       "      <td>2015-03-23</td>\n",
       "      <td>2015-03-26</td>\n",
       "      <td>3.0</td>\n",
       "      <td>3.0</td>\n",
       "      <td>0.0</td>\n",
       "    </tr>\n",
       "    <tr>\n",
       "      <th>403</th>\n",
       "      <td>2015-09-18</td>\n",
       "      <td>2015-10-11</td>\n",
       "      <td>23.0</td>\n",
       "      <td>23.0</td>\n",
       "      <td>0.0</td>\n",
       "    </tr>\n",
       "    <tr>\n",
       "      <th>404</th>\n",
       "      <td>2015-09-20</td>\n",
       "      <td>2015-09-23</td>\n",
       "      <td>3.0</td>\n",
       "      <td>3.0</td>\n",
       "      <td>0.0</td>\n",
       "    </tr>\n",
       "    <tr>\n",
       "      <th>409</th>\n",
       "      <td>2015-11-12</td>\n",
       "      <td>2015-11-21</td>\n",
       "      <td>9.0</td>\n",
       "      <td>9.0</td>\n",
       "      <td>0.0</td>\n",
       "    </tr>\n",
       "    <tr>\n",
       "      <th>422</th>\n",
       "      <td>2016-02-23</td>\n",
       "      <td>2016-02-25</td>\n",
       "      <td>2.0</td>\n",
       "      <td>2.0</td>\n",
       "      <td>0.0</td>\n",
       "    </tr>\n",
       "    <tr>\n",
       "      <th>444</th>\n",
       "      <td>2016-09-22</td>\n",
       "      <td>2016-10-16</td>\n",
       "      <td>24.0</td>\n",
       "      <td>24.0</td>\n",
       "      <td>0.0</td>\n",
       "    </tr>\n",
       "    <tr>\n",
       "      <th>492</th>\n",
       "      <td>2017-06-26</td>\n",
       "      <td>2017-06-30</td>\n",
       "      <td>4.0</td>\n",
       "      <td>4.0</td>\n",
       "      <td>0.0</td>\n",
       "    </tr>\n",
       "    <tr>\n",
       "      <th>495</th>\n",
       "      <td>2017-07-08</td>\n",
       "      <td>2017-07-10</td>\n",
       "      <td>2.0</td>\n",
       "      <td>2.0</td>\n",
       "      <td>0.0</td>\n",
       "    </tr>\n",
       "    <tr>\n",
       "      <th>533</th>\n",
       "      <td>2018-06-29</td>\n",
       "      <td>2018-06-30</td>\n",
       "      <td>1.0</td>\n",
       "      <td>1.0</td>\n",
       "      <td>0.0</td>\n",
       "    </tr>\n",
       "    <tr>\n",
       "      <th>537</th>\n",
       "      <td>2018-07-26</td>\n",
       "      <td>2018-07-29</td>\n",
       "      <td>3.0</td>\n",
       "      <td>3.0</td>\n",
       "      <td>0.0</td>\n",
       "    </tr>\n",
       "    <tr>\n",
       "      <th>563</th>\n",
       "      <td>2019-05-04</td>\n",
       "      <td>2019-05-07</td>\n",
       "      <td>3.0</td>\n",
       "      <td>3.0</td>\n",
       "      <td>0.0</td>\n",
       "    </tr>\n",
       "    <tr>\n",
       "      <th>584</th>\n",
       "      <td>2019-12-16</td>\n",
       "      <td>2019-12-18</td>\n",
       "      <td>2.0</td>\n",
       "      <td>2.0</td>\n",
       "      <td>0.0</td>\n",
       "    </tr>\n",
       "    <tr>\n",
       "      <th>603</th>\n",
       "      <td>2021-04-01</td>\n",
       "      <td>2021-04-03</td>\n",
       "      <td>2.0</td>\n",
       "      <td>2.0</td>\n",
       "      <td>0.0</td>\n",
       "    </tr>\n",
       "    <tr>\n",
       "      <th>606</th>\n",
       "      <td>2021-06-25</td>\n",
       "      <td>2021-06-25</td>\n",
       "      <td>0.0</td>\n",
       "      <td>0.0</td>\n",
       "      <td>0.0</td>\n",
       "    </tr>\n",
       "    <tr>\n",
       "      <th>610</th>\n",
       "      <td>2021-09-19</td>\n",
       "      <td>2021-10-09</td>\n",
       "      <td>20.0</td>\n",
       "      <td>20.0</td>\n",
       "      <td>0.0</td>\n",
       "    </tr>\n",
       "    <tr>\n",
       "      <th>648</th>\n",
       "      <td>2022-11-23</td>\n",
       "      <td>2022-11-24</td>\n",
       "      <td>1.0</td>\n",
       "      <td>1.0</td>\n",
       "      <td>1.0</td>\n",
       "    </tr>\n",
       "    <tr>\n",
       "      <th>649</th>\n",
       "      <td>2022-12-08</td>\n",
       "      <td>2022-12-09</td>\n",
       "      <td>1.0</td>\n",
       "      <td>1.0</td>\n",
       "      <td>0.0</td>\n",
       "    </tr>\n",
       "    <tr>\n",
       "      <th>655</th>\n",
       "      <td>2023-02-10</td>\n",
       "      <td>2023-07-19</td>\n",
       "      <td>159.0</td>\n",
       "      <td>159.0</td>\n",
       "      <td>0.0</td>\n",
       "    </tr>\n",
       "    <tr>\n",
       "      <th>712</th>\n",
       "      <td>2024-07-17</td>\n",
       "      <td>2024-07-19</td>\n",
       "      <td>2.0</td>\n",
       "      <td>2.0</td>\n",
       "      <td>0.0</td>\n",
       "    </tr>\n",
       "    <tr>\n",
       "      <th>729</th>\n",
       "      <td>2025-02-25</td>\n",
       "      <td>2025-03-04</td>\n",
       "      <td>7.0</td>\n",
       "      <td>7.0</td>\n",
       "      <td>0.0</td>\n",
       "    </tr>\n",
       "  </tbody>\n",
       "</table>\n",
       "</div>"
      ],
      "text/plain": [
       "             Fecha_Tx Fecha_Tx#2  Días_Desde_Tx#1  Días_Desde_Tx#1_calculada  \\\n",
       "#_Paciente                                                                     \n",
       "35         2002-12-02 2006-06-17           1293.0                     1293.0   \n",
       "52         2004-06-29 2004-07-25             26.0                       26.0   \n",
       "69         2005-10-16 2005-11-02             17.0                       17.0   \n",
       "81         2006-07-11 2006-12-06            148.0                      148.0   \n",
       "153        2008-12-26 2009-01-08             13.0                       13.0   \n",
       "164        2009-03-30 2009-04-03              4.0                        4.0   \n",
       "181        2009-08-13 2009-08-18              5.0                        5.0   \n",
       "185        2009-09-18 2009-09-20              2.0                        2.0   \n",
       "195        2009-11-25 2009-11-26              1.0                        1.0   \n",
       "196        2009-12-02 2009-12-05              3.0                        3.0   \n",
       "197        2009-12-16 2009-12-27             11.0                       11.0   \n",
       "203        2010-03-24 2010-03-26              2.0                        2.0   \n",
       "212        2010-05-25 2010-06-04             10.0                       10.0   \n",
       "214        2010-06-24 2010-06-27              3.0                        3.0   \n",
       "219        2010-08-14 2010-08-16              2.0                        2.0   \n",
       "236        2010-12-11 2010-12-12              1.0                        1.0   \n",
       "245        2011-03-16 2011-03-17              1.0                        1.0   \n",
       "272        2011-12-14 2011-12-16              2.0                        2.0   \n",
       "303        2012-10-21 2012-10-29              8.0                        8.0   \n",
       "347        2014-03-03 2014-03-04              1.0                        1.0   \n",
       "348        2014-03-20 2014-04-21             32.0                       32.0   \n",
       "361        2014-08-28 2014-09-01              4.0                        4.0   \n",
       "364        2014-10-06 2024-06-05           3530.0                     3530.0   \n",
       "378        2015-02-28 2015-04-12             43.0                       43.0   \n",
       "382        2015-03-23 2015-03-26              3.0                        3.0   \n",
       "403        2015-09-18 2015-10-11             23.0                       23.0   \n",
       "404        2015-09-20 2015-09-23              3.0                        3.0   \n",
       "409        2015-11-12 2015-11-21              9.0                        9.0   \n",
       "422        2016-02-23 2016-02-25              2.0                        2.0   \n",
       "444        2016-09-22 2016-10-16             24.0                       24.0   \n",
       "492        2017-06-26 2017-06-30              4.0                        4.0   \n",
       "495        2017-07-08 2017-07-10              2.0                        2.0   \n",
       "533        2018-06-29 2018-06-30              1.0                        1.0   \n",
       "537        2018-07-26 2018-07-29              3.0                        3.0   \n",
       "563        2019-05-04 2019-05-07              3.0                        3.0   \n",
       "584        2019-12-16 2019-12-18              2.0                        2.0   \n",
       "603        2021-04-01 2021-04-03              2.0                        2.0   \n",
       "606        2021-06-25 2021-06-25              0.0                        0.0   \n",
       "610        2021-09-19 2021-10-09             20.0                       20.0   \n",
       "648        2022-11-23 2022-11-24              1.0                        1.0   \n",
       "649        2022-12-08 2022-12-09              1.0                        1.0   \n",
       "655        2023-02-10 2023-07-19            159.0                      159.0   \n",
       "712        2024-07-17 2024-07-19              2.0                        2.0   \n",
       "729        2025-02-25 2025-03-04              7.0                        7.0   \n",
       "\n",
       "            Re_Re trasplante  \n",
       "#_Paciente                    \n",
       "35                       0.0  \n",
       "52                       0.0  \n",
       "69                       0.0  \n",
       "81                       0.0  \n",
       "153                      0.0  \n",
       "164                      0.0  \n",
       "181                      0.0  \n",
       "185                      0.0  \n",
       "195                      0.0  \n",
       "196                      0.0  \n",
       "197                      0.0  \n",
       "203                      0.0  \n",
       "212                      0.0  \n",
       "214                      0.0  \n",
       "219                      0.0  \n",
       "236                      1.0  \n",
       "245                      0.0  \n",
       "272                      0.0  \n",
       "303                      0.0  \n",
       "347                      0.0  \n",
       "348                      0.0  \n",
       "361                      0.0  \n",
       "364                      0.0  \n",
       "378                      0.0  \n",
       "382                      0.0  \n",
       "403                      0.0  \n",
       "404                      0.0  \n",
       "409                      0.0  \n",
       "422                      0.0  \n",
       "444                      0.0  \n",
       "492                      0.0  \n",
       "495                      0.0  \n",
       "533                      0.0  \n",
       "537                      0.0  \n",
       "563                      0.0  \n",
       "584                      0.0  \n",
       "603                      0.0  \n",
       "606                      0.0  \n",
       "610                      0.0  \n",
       "648                      1.0  \n",
       "649                      0.0  \n",
       "655                      0.0  \n",
       "712                      0.0  \n",
       "729                      0.0  "
      ]
     },
     "execution_count": 797,
     "metadata": {},
     "output_type": "execute_result"
    }
   ],
   "source": [
    "df[[\"Fecha_Tx\",\"Fecha_Tx#2\",\"Días_Desde_Tx#1\",\"Días_Desde_Tx#1_calculada\",\"Re_Re trasplante\"]].loc[df[\"Fecha_Tx#2\"].notna() ]"
   ]
  },
  {
   "cell_type": "markdown",
   "id": "a5439430",
   "metadata": {},
   "source": [
    "Dada la definición del stakeholder para esta variable en donde \"Re_Re Trasplante\" : DEFINE SI EL PACIENTE REQUIRIÓ RE-RETRASPLANTE TEMPRANO (< 1AÑO), se evidencia que tiene inconsistencias, por lo que se procede a calcularla en funcon de Dias_Desde_Tx#1_calculada."
   ]
  },
  {
   "cell_type": "code",
   "execution_count": 798,
   "id": "2cbfc702",
   "metadata": {},
   "outputs": [],
   "source": [
    "# Convertir a float para que los nulos sean np.nan y se puedan evaluar\n",
    "dias = df[\"Días_Desde_Tx#1\"].astype(float)\n",
    "\n",
    "# Aplicar la lógica con np.where\n",
    "df[\"Re_Re trasplante\"] = np.where(\n",
    "    dias < 366,\n",
    "    True,\n",
    "    np.where(dias.isna(), np.nan, False)\n",
    ")"
   ]
  },
  {
   "cell_type": "code",
   "execution_count": 799,
   "id": "a308c69e",
   "metadata": {},
   "outputs": [
    {
     "name": "stdout",
     "output_type": "stream",
     "text": [
      "count    44.000000\n",
      "mean      0.954545\n",
      "std       0.210707\n",
      "min       0.000000\n",
      "25%       1.000000\n",
      "50%       1.000000\n",
      "75%       1.000000\n",
      "max       1.000000\n",
      "Name: Re_Re trasplante, dtype: float64\n",
      "--------------------\n",
      "Número de datos nulos: 692\n",
      "--------------------\n",
      "Re_Re trasplante\n",
      "NaN    692\n",
      "1.0     42\n",
      "0.0      2\n",
      "Name: count, dtype: int64\n"
     ]
    }
   ],
   "source": [
    "ver_datos(df, 'Re_Re trasplante', True)"
   ]
  },
  {
   "cell_type": "markdown",
   "id": "f285cb49",
   "metadata": {},
   "source": [
    "### Indicación_Re_Re_trasplante"
   ]
  },
  {
   "cell_type": "code",
   "execution_count": 800,
   "id": "886d91ed",
   "metadata": {},
   "outputs": [
    {
     "name": "stdout",
     "output_type": "stream",
     "text": [
      "count    42.000000\n",
      "mean      1.690476\n",
      "std       1.219518\n",
      "min       1.000000\n",
      "25%       1.000000\n",
      "50%       1.000000\n",
      "75%       2.000000\n",
      "max       6.000000\n",
      "Name: Indicación_Retrasplante, dtype: float64\n",
      "--------------------\n",
      "Número de datos nulos: 694\n",
      "--------------------\n",
      "Indicación_Retrasplante\n",
      "NaN    694\n",
      "1.0     26\n",
      "2.0     11\n",
      "5.0      2\n",
      "3.0      1\n",
      "4.0      1\n",
      "6.0      1\n",
      "Name: count, dtype: int64\n"
     ]
    }
   ],
   "source": [
    "ver_datos(df, 'Indicación_Retrasplante', True)"
   ]
  },
  {
   "cell_type": "code",
   "execution_count": 801,
   "id": "dd56f22e",
   "metadata": {},
   "outputs": [
    {
     "name": "stdout",
     "output_type": "stream",
     "text": [
      "count                                  42\n",
      "unique                                  6\n",
      "top       DISFUNCIÓN PRIMARIA DEL INJERTO\n",
      "freq                                   26\n",
      "Name: Indicación_Retrasplante_categoria, dtype: object\n",
      "--------------------\n",
      "Número de datos nulos: 694\n",
      "--------------------\n",
      "Indicación_Retrasplante_categoria\n",
      "NaN                                694\n",
      "DISFUNCIÓN PRIMARIA DEL INJERTO     26\n",
      "TROMBOSIS ARTERIA HEPÁTICA          11\n",
      "COLANGIOPATIA ISQUEMICA              2\n",
      "TROMBOSIS PORTAL                     1\n",
      "BUDD CHIARI                          1\n",
      "HELLP                                1\n",
      "Name: count, dtype: int64\n"
     ]
    }
   ],
   "source": [
    "df[\"Indicación_Retrasplante_categoria\"] = df[\"Indicación_Retrasplante\"].replace({1:'DISFUNCIÓN PRIMARIA DEL INJERTO', 2: 'TROMBOSIS ARTERIA HEPÁTICA', 3: 'TROMBOSIS PORTAL', \n",
    "                                                                                                     4: 'BUDD CHIARI', 5: 'COLANGIOPATIA ISQUEMICA', 6: 'HELLP'})\n",
    "selected_columns.append('Indicación_Retrasplante_categoria')\n",
    "ver_datos(df, 'Indicación_Retrasplante_categoria', True)"
   ]
  },
  {
   "cell_type": "markdown",
   "id": "551efe91",
   "metadata": {},
   "source": [
    "### PTLD"
   ]
  },
  {
   "cell_type": "code",
   "execution_count": 802,
   "id": "9e65bd8b",
   "metadata": {},
   "outputs": [
    {
     "name": "stdout",
     "output_type": "stream",
     "text": [
      "count     646\n",
      "unique      3\n",
      "top         0\n",
      "freq      624\n",
      "Name: PTLD, dtype: int64\n",
      "--------------------\n",
      "Número de datos nulos: 90\n",
      "--------------------\n",
      "PTLD\n",
      "0      624\n",
      "NaN     90\n",
      "1       21\n",
      "         1\n",
      "Name: count, dtype: int64\n"
     ]
    }
   ],
   "source": [
    "ver_datos(df, 'PTLD', True)"
   ]
  },
  {
   "cell_type": "code",
   "execution_count": 803,
   "id": "9b1ed8d6",
   "metadata": {},
   "outputs": [],
   "source": [
    "df['PTLD'] = df['PTLD'].apply(lambda x: np.nan if isinstance(x, str) and x.strip() == '' else x)"
   ]
  },
  {
   "cell_type": "code",
   "execution_count": 804,
   "id": "0bb3d07c",
   "metadata": {},
   "outputs": [
    {
     "name": "stdout",
     "output_type": "stream",
     "text": [
      "count    645.000000\n",
      "mean       0.032558\n",
      "std        0.177615\n",
      "min        0.000000\n",
      "25%        0.000000\n",
      "50%        0.000000\n",
      "75%        0.000000\n",
      "max        1.000000\n",
      "Name: PTLD, dtype: float64\n",
      "--------------------\n",
      "Número de datos nulos: 91\n",
      "--------------------\n",
      "PTLD\n",
      "0.0    624\n",
      "NaN     91\n",
      "1.0     21\n",
      "Name: count, dtype: int64\n"
     ]
    }
   ],
   "source": [
    "ver_datos(df, 'PTLD', True)"
   ]
  },
  {
   "cell_type": "markdown",
   "id": "01a7a02f",
   "metadata": {},
   "source": [
    "### Tiempo_Tx_A_PTLD"
   ]
  },
  {
   "cell_type": "code",
   "execution_count": 805,
   "id": "3edd085d",
   "metadata": {},
   "outputs": [
    {
     "name": "stdout",
     "output_type": "stream",
     "text": [
      "count     148\n",
      "unique      3\n",
      "top         0\n",
      "freq      146\n",
      "Name: Tiempo_Tx_A_PTLD, dtype: int64\n",
      "--------------------\n",
      "Número de datos nulos: 588\n",
      "--------------------\n",
      "Tiempo_Tx_A_PTLD\n",
      "NaN          588\n",
      "0            146\n",
      "RITUXIMAB      1\n",
      "1              1\n",
      "Name: count, dtype: int64\n"
     ]
    }
   ],
   "source": [
    "ver_datos(df, 'Tiempo_Tx_A_PTLD', True)"
   ]
  },
  {
   "cell_type": "markdown",
   "id": "2337506d",
   "metadata": {},
   "source": [
    "La variable deberia reflejar el tiempo en dias desde el transplante a la identificación de un PTLD. Parece tener un comportamiento booleano. <span style=\"color:red\"> No es consistente </span>"
   ]
  },
  {
   "cell_type": "markdown",
   "id": "7f9bb63b",
   "metadata": {},
   "source": [
    "### Neoplasia_PostTx"
   ]
  },
  {
   "cell_type": "code",
   "execution_count": 806,
   "id": "04ed6a2f",
   "metadata": {},
   "outputs": [
    {
     "name": "stdout",
     "output_type": "stream",
     "text": [
      "count    634.000000\n",
      "mean       0.075710\n",
      "std        0.530828\n",
      "min        0.000000\n",
      "25%        0.000000\n",
      "50%        0.000000\n",
      "75%        0.000000\n",
      "max        7.000000\n",
      "Name: Neoplasia_PostTx, dtype: float64\n",
      "--------------------\n",
      "Número de datos nulos: 102\n",
      "--------------------\n",
      "Neoplasia_PostTx\n",
      "0.0    612\n",
      "NaN    102\n",
      "1.0     14\n",
      "2.0      2\n",
      "5.0      2\n",
      "7.0      1\n",
      "3.0      1\n",
      "6.0      1\n",
      "4.0      1\n",
      "Name: count, dtype: int64\n"
     ]
    }
   ],
   "source": [
    "ver_datos(df,'Neoplasia_PostTx', True)"
   ]
  },
  {
   "cell_type": "code",
   "execution_count": 807,
   "id": "2ba71a61",
   "metadata": {},
   "outputs": [],
   "source": [
    "df[\"Neoplasia_PostTx\"] = df[\"Neoplasia_PostTx\"].replace({0:'NO' ,1:'PTLD', 2: 'CA PIEL', 3: 'CA PULMON', \n",
    "                                                        4: 'CA UTERO', 5: 'SARCOMA DE KAPOSI', 6: 'CA RENAL',\n",
    "                                                        7: 'CA SENO',8:'LEUCEMIAS', 9: 'CA COLON',10 : 'LINFOMA' ,11:'COLANGIOCA',12: 'CA PROSTATA' ,13:'CA CERVIX',14:'PSEUDOMIXOMA PERITONEAL'})"
   ]
  },
  {
   "cell_type": "code",
   "execution_count": 808,
   "id": "e2ca450a",
   "metadata": {},
   "outputs": [
    {
     "name": "stdout",
     "output_type": "stream",
     "text": [
      "count     634\n",
      "unique      8\n",
      "top        NO\n",
      "freq      612\n",
      "Name: Neoplasia_PostTx, dtype: object\n",
      "--------------------\n",
      "Número de datos nulos: 102\n",
      "--------------------\n",
      "Neoplasia_PostTx\n",
      "NO                   612\n",
      "NaN                  102\n",
      "PTLD                  14\n",
      "CA PIEL                2\n",
      "SARCOMA DE KAPOSI      2\n",
      "CA SENO                1\n",
      "CA PULMON              1\n",
      "CA RENAL               1\n",
      "CA UTERO               1\n",
      "Name: count, dtype: int64\n"
     ]
    }
   ],
   "source": [
    "ver_datos(df,'Neoplasia_PostTx', True)"
   ]
  },
  {
   "cell_type": "markdown",
   "id": "6f9fccf8",
   "metadata": {},
   "source": [
    "### Tiempo_Tx_A_Neoplasia_PostTx"
   ]
  },
  {
   "cell_type": "code",
   "execution_count": 809,
   "id": "610e77bf",
   "metadata": {},
   "outputs": [
    {
     "name": "stdout",
     "output_type": "stream",
     "text": [
      "count    147.0\n",
      "mean       0.0\n",
      "std        0.0\n",
      "min        0.0\n",
      "25%        0.0\n",
      "50%        0.0\n",
      "75%        0.0\n",
      "max        0.0\n",
      "Name: Tiempo_Tx_A_Neoplasia_PostTx, dtype: float64\n",
      "--------------------\n",
      "Número de datos nulos: 589\n",
      "--------------------\n",
      "Tiempo_Tx_A_Neoplasia_PostTx\n",
      "NaN    589\n",
      "0.0    147\n",
      "Name: count, dtype: int64\n"
     ]
    }
   ],
   "source": [
    "ver_datos(df, 'Tiempo_Tx_A_Neoplasia_PostTx', True)"
   ]
  },
  {
   "cell_type": "markdown",
   "id": "d2307027",
   "metadata": {},
   "source": [
    "La varaible no tiene datos. A pesar de que el conteo de no nulidad mostraba un 20% de completitud"
   ]
  },
  {
   "cell_type": "code",
   "execution_count": 810,
   "id": "6ebbe9c3",
   "metadata": {},
   "outputs": [],
   "source": [
    "# selected_columns.remove('Tiempo_Tx_A_Neoplasia_PostTx')"
   ]
  },
  {
   "cell_type": "markdown",
   "id": "f5dbd192",
   "metadata": {},
   "source": [
    "### Grado_HCC\n"
   ]
  },
  {
   "cell_type": "code",
   "execution_count": 811,
   "id": "c4e6d5c7",
   "metadata": {},
   "outputs": [
    {
     "name": "stdout",
     "output_type": "stream",
     "text": [
      "count    99.000000\n",
      "mean      2.484848\n",
      "std       0.675574\n",
      "min       1.000000\n",
      "25%       2.000000\n",
      "50%       2.000000\n",
      "75%       3.000000\n",
      "max       4.000000\n",
      "Name: Grado_HCC, dtype: float64\n",
      "--------------------\n",
      "Número de datos nulos: 637\n",
      "--------------------\n",
      "Grado_HCC\n",
      "NaN    637\n",
      "2.0     49\n",
      "3.0     40\n",
      "4.0      6\n",
      "1.0      4\n",
      "Name: count, dtype: int64\n"
     ]
    }
   ],
   "source": [
    "ver_datos(df, 'Grado_HCC', True)"
   ]
  },
  {
   "cell_type": "code",
   "execution_count": 812,
   "id": "12ce26c1",
   "metadata": {},
   "outputs": [],
   "source": [
    "grado_map = {\n",
    "    1: \"Bien diferenciado\",\n",
    "    2: \"Moderadamente diferenciado\",\n",
    "    3: \"Poco diferenciado\",\n",
    "    4: \"Indiferenciado\"\n",
    "}\n",
    "\n",
    "df[\"Grado_HCC_desc\"] = df[\"Grado_HCC\"].map(grado_map)\n",
    "selected_columns.append('Grado_HCC_desc')"
   ]
  },
  {
   "cell_type": "code",
   "execution_count": 813,
   "id": "4f39f7a3",
   "metadata": {},
   "outputs": [
    {
     "name": "stdout",
     "output_type": "stream",
     "text": [
      "count                             99\n",
      "unique                             4\n",
      "top       Moderadamente diferenciado\n",
      "freq                              49\n",
      "Name: Grado_HCC_desc, dtype: object\n",
      "--------------------\n",
      "Número de datos nulos: 637\n",
      "--------------------\n",
      "Grado_HCC_desc\n",
      "NaN                           637\n",
      "Moderadamente diferenciado     49\n",
      "Poco diferenciado              40\n",
      "Indiferenciado                  6\n",
      "Bien diferenciado               4\n",
      "Name: count, dtype: int64\n"
     ]
    }
   ],
   "source": [
    "ver_datos(df, 'Grado_HCC_desc', True)"
   ]
  },
  {
   "cell_type": "markdown",
   "id": "68a17116",
   "metadata": {},
   "source": [
    "### Estadio"
   ]
  },
  {
   "cell_type": "code",
   "execution_count": 814,
   "id": "25d622c8",
   "metadata": {},
   "outputs": [
    {
     "name": "stdout",
     "output_type": "stream",
     "text": [
      "count    99.000000\n",
      "mean      1.565657\n",
      "std       0.687522\n",
      "min       1.000000\n",
      "25%       1.000000\n",
      "50%       1.000000\n",
      "75%       2.000000\n",
      "max       4.000000\n",
      "Name: Estadio, dtype: float64\n",
      "--------------------\n",
      "Número de datos nulos: 637\n",
      "--------------------\n",
      "Estadio\n",
      "NaN    637\n",
      "1.0     53\n",
      "2.0     37\n",
      "3.0      8\n",
      "4.0      1\n",
      "Name: count, dtype: int64\n"
     ]
    }
   ],
   "source": [
    "ver_datos(df, 'Estadio', True)"
   ]
  },
  {
   "cell_type": "code",
   "execution_count": 815,
   "id": "df83c04c",
   "metadata": {},
   "outputs": [],
   "source": [
    "df[\"Estadio\"] = df[\"Estadio\"].replace({0:'NO' ,1:'ESTADIO 1', 2: 'ESTADIO 2', 3: 'ESTADIO 3',4: 'ESTADIO 4'})"
   ]
  },
  {
   "cell_type": "code",
   "execution_count": 816,
   "id": "c808347d",
   "metadata": {},
   "outputs": [
    {
     "name": "stdout",
     "output_type": "stream",
     "text": [
      "count            99\n",
      "unique            4\n",
      "top       ESTADIO 1\n",
      "freq             53\n",
      "Name: Estadio, dtype: object\n",
      "--------------------\n",
      "Número de datos nulos: 637\n",
      "--------------------\n",
      "Estadio\n",
      "NaN          637\n",
      "ESTADIO 1     53\n",
      "ESTADIO 2     37\n",
      "ESTADIO 3      8\n",
      "ESTADIO 4      1\n",
      "Name: count, dtype: int64\n"
     ]
    }
   ],
   "source": [
    "ver_datos(df, 'Estadio', True)"
   ]
  },
  {
   "cell_type": "markdown",
   "id": "c97553bb",
   "metadata": {},
   "source": [
    "### Sobrevida_PeriQx_30_días_POP"
   ]
  },
  {
   "cell_type": "code",
   "execution_count": 817,
   "id": "1f2824a4",
   "metadata": {},
   "outputs": [
    {
     "name": "stdout",
     "output_type": "stream",
     "text": [
      "count    702.000000\n",
      "mean       0.920228\n",
      "std        0.271133\n",
      "min        0.000000\n",
      "25%        1.000000\n",
      "50%        1.000000\n",
      "75%        1.000000\n",
      "max        1.000000\n",
      "Name: Sobrevida_PeriQx_30_días_POP, dtype: float64\n",
      "--------------------\n",
      "Número de datos nulos: 34\n",
      "--------------------\n",
      "Sobrevida_PeriQx_30_días_POP\n",
      "1.0    646\n",
      "0.0     56\n",
      "NaN     34\n",
      "Name: count, dtype: int64\n"
     ]
    }
   ],
   "source": [
    "ver_datos(df, 'Sobrevida_PeriQx_30_días_POP', True)"
   ]
  },
  {
   "cell_type": "markdown",
   "id": "26201839",
   "metadata": {},
   "source": [
    "### Vivo hoy (Actualizado enero 2022)"
   ]
  },
  {
   "cell_type": "code",
   "execution_count": 818,
   "id": "64694608",
   "metadata": {},
   "outputs": [
    {
     "name": "stdout",
     "output_type": "stream",
     "text": [
      "count    702.000000\n",
      "mean       0.646724\n",
      "std        0.478328\n",
      "min        0.000000\n",
      "25%        0.000000\n",
      "50%        1.000000\n",
      "75%        1.000000\n",
      "max        1.000000\n",
      "Name: Vivo_Hoy, dtype: float64\n",
      "--------------------\n",
      "Número de datos nulos: 34\n",
      "--------------------\n",
      "Vivo_Hoy\n",
      "1.0    454\n",
      "0.0    248\n",
      "NaN     34\n",
      "Name: count, dtype: int64\n"
     ]
    }
   ],
   "source": [
    "ver_datos(df, 'Vivo_Hoy', True)"
   ]
  },
  {
   "cell_type": "markdown",
   "id": "8f940aed",
   "metadata": {},
   "source": [
    "### Fecha_Control/Muerte"
   ]
  },
  {
   "cell_type": "code",
   "execution_count": 819,
   "id": "f15c6fad",
   "metadata": {},
   "outputs": [
    {
     "name": "stdout",
     "output_type": "stream",
     "text": [
      "count                              702\n",
      "mean     2021-11-20 01:58:58.461538560\n",
      "min                2002-11-29 00:00:00\n",
      "25%                2020-11-14 00:00:00\n",
      "50%                2024-12-31 00:00:00\n",
      "75%                2024-12-31 00:00:00\n",
      "max                2025-04-01 00:00:00\n",
      "Name: Fecha_Control/Muerte, dtype: object\n",
      "--------------------\n",
      "Número de datos nulos: 34\n"
     ]
    }
   ],
   "source": [
    "ver_datos(df, 'Fecha_Control/Muerte')"
   ]
  },
  {
   "cell_type": "markdown",
   "id": "cbcd80e4",
   "metadata": {},
   "source": [
    "### Sobrevida (escoger entre Sobrevida_Días, Sobrevida_Meses, Sobrevida_Años)"
   ]
  },
  {
   "cell_type": "code",
   "execution_count": 820,
   "id": "eae93dcf",
   "metadata": {},
   "outputs": [
    {
     "name": "stdout",
     "output_type": "stream",
     "text": [
      "count      704.000000\n",
      "mean      2317.992898\n",
      "std       3788.853487\n",
      "min     -45745.000000\n",
      "25%        489.500000\n",
      "50%       2347.000000\n",
      "75%       4013.000000\n",
      "max       8086.000000\n",
      "Name: Sobrevida_Días, dtype: float64\n",
      "--------------------\n",
      "Número de datos nulos: 32\n"
     ]
    }
   ],
   "source": [
    "ver_datos(df, \"Sobrevida_Días\")"
   ]
  },
  {
   "cell_type": "code",
   "execution_count": 821,
   "id": "eb824b3d",
   "metadata": {},
   "outputs": [
    {
     "name": "stdout",
     "output_type": "stream",
     "text": [
      "count     702.000000\n",
      "mean     2521.511396\n",
      "std      2114.754796\n",
      "min         0.000000\n",
      "25%       499.000000\n",
      "50%      2350.500000\n",
      "75%      4013.000000\n",
      "max      8086.000000\n",
      "Name: Sobrevida_Días_calculado, dtype: float64\n",
      "--------------------\n",
      "Número de datos nulos: 34\n"
     ]
    }
   ],
   "source": [
    "df[\"Sobrevida_Días_calculado\"] = (\n",
    "    df[\"Fecha_Control/Muerte\"] - df[\"Fecha_Tx\"]\n",
    ").dt.days\n",
    "selected_columns.append(\"Sobrevida_Días_calculado\")\n",
    "ver_datos(df, \"Sobrevida_Días_calculado\")"
   ]
  },
  {
   "cell_type": "markdown",
   "id": "97d0c595",
   "metadata": {},
   "source": [
    "<span style=\"color:red\">Se sugiere trabajar con el dato calculado dado que se encuentra una inconsistencia en el dato capturado </span>"
   ]
  },
  {
   "cell_type": "markdown",
   "id": "09d43f96",
   "metadata": {},
   "source": [
    "### Causa_De_Muerte"
   ]
  },
  {
   "cell_type": "code",
   "execution_count": 822,
   "id": "d1737603",
   "metadata": {},
   "outputs": [
    {
     "name": "stdout",
     "output_type": "stream",
     "text": [
      "count     117\n",
      "unique     40\n",
      "top         2\n",
      "freq       25\n",
      "Name: Causa_De_Muerte, dtype: int64\n",
      "--------------------\n",
      "Número de datos nulos: 619\n",
      "--------------------\n",
      "Causa_De_Muerte\n",
      "NaN                               619\n",
      "2                                  25\n",
      "12                                 15\n",
      "18                                 10\n",
      "1                                   8\n",
      "FALLA MULTI                         5\n",
      "13                                  4\n",
      "4                                   4\n",
      "5                                   3\n",
      "16                                  3\n",
      "11                                  3\n",
      "8                                   3\n",
      "6                                   2\n",
      "17                                  2\n",
      "SHOCK SEPTICO/DISFUNCION            2\n",
      "24                                  2\n",
      "hiporexia                           2\n",
      "choque mixto                        1\n",
      "7                                   1\n",
      "NEUMONIA COVID                      1\n",
      "asistolia                           1\n",
      "19                                  1\n",
      "15                                  1\n",
      "3                                   1\n",
      "falla ventilatoria                  1\n",
      "shock mixto - sepsis                1\n",
      "20                                  1\n",
      "muerte cerebral                     1\n",
      "21                                  1\n",
      "23                                  1\n",
      "shock mixto                         1\n",
      "25                                  1\n",
      "22                                  1\n",
      "shock                               1\n",
      "sepsis abdominal                    1\n",
      "enceladopatia hipoxia               1\n",
      "SEPSIS GI                           1\n",
      "****                                1\n",
      "FALLA RENAL AGUDA                   1\n",
      "Insifuciencia renal aguda           1\n",
      "TROMBOSIS VENAS SUPRAHEPÁTICAS      1\n",
      "Name: count, dtype: int64\n"
     ]
    }
   ],
   "source": [
    "ver_datos(df, \"Causa_De_Muerte\", True)"
   ]
  },
  {
   "cell_type": "code",
   "execution_count": 823,
   "id": "8cb5dcfd",
   "metadata": {},
   "outputs": [
    {
     "name": "stdout",
     "output_type": "stream",
     "text": [
      "count    113.000000\n",
      "mean       9.477876\n",
      "std        6.783774\n",
      "min        1.000000\n",
      "25%        2.000000\n",
      "50%       12.000000\n",
      "75%       15.000000\n",
      "max       24.000000\n",
      "Name: Causa_De_Muerte_cod, dtype: float64\n",
      "--------------------\n",
      "Número de datos nulos: 623\n",
      "--------------------\n",
      "Causa_De_Muerte_cod\n",
      "NaN     623\n",
      "2.0      28\n",
      "12.0     24\n",
      "18.0     12\n",
      "1.0       8\n",
      "16.0      6\n",
      "11.0      4\n",
      "4.0       4\n",
      "8.0       4\n",
      "13.0      4\n",
      "5.0       3\n",
      "24.0      2\n",
      "3.0       2\n",
      "6.0       2\n",
      "17.0      2\n",
      "21.0      2\n",
      "7.0       1\n",
      "15.0      1\n",
      "19.0      1\n",
      "20.0      1\n",
      "22.0      1\n",
      "23.0      1\n",
      "Name: count, dtype: int64\n"
     ]
    }
   ],
   "source": [
    "def clasificar_causa_muerte(texto):\n",
    "    if pd.isna(texto):\n",
    "        return np.nan\n",
    "\n",
    "    texto = str(texto).upper().strip()\n",
    "\n",
    "    # Mapeo directo por número\n",
    "    if texto.isdigit():\n",
    "        num = int(texto)\n",
    "        if num in range(1, 25):\n",
    "            return num\n",
    "\n",
    "    # Reglas por texto libre\n",
    "    elif any(x in texto for x in ['FALLA MULTI', 'MULTIORGAN']):\n",
    "        return 12  # FALLA MULTIORGÁNICA\n",
    "    elif 'SEPSIS' in texto:\n",
    "        return 2   # SEPSIS\n",
    "    elif any(x in texto for x in ['EMBOL', 'TROMBOSIS']):\n",
    "        return 3   # EMBOLIA PULMONAR\n",
    "    elif 'RECHAZO' in texto:\n",
    "        return 4   # RECHAZO CRÓNICO\n",
    "    elif any(x in texto for x in ['AEREA', 'OBSTRUCCION']):\n",
    "        return 5   # OBSTRUCCIÓN DE LA VÍA AÉREA\n",
    "    elif 'BRONCOASP' in texto:\n",
    "        return 6   # BRONCOASPIRACIÓN\n",
    "    elif 'COLANGIO' in texto:\n",
    "        return 7   # COLANGIOCARCINOMA\n",
    "    elif any(x in texto for x in ['NEURO', 'ENCEFAL', 'CEREBR']):\n",
    "        return 8   # NEUROLÓGICA\n",
    "    elif 'SUBARACNO' in texto:\n",
    "        return 9   # HEMORRAGIA SUBARACNOIDEA\n",
    "    elif 'HERPES' in texto:\n",
    "        return 10  # ENCEFALITIS HERPES\n",
    "    elif any(x in texto for x in ['NEUMON', 'COVID']):\n",
    "        return 11  # NEUMONÍA\n",
    "    elif any(x in texto for x in ['DISFUNCION', 'DISFUNCIÓN', 'HEPAT']):\n",
    "        return 18  # DISFUNCIÓN HEPÁTICA\n",
    "    elif 'ANGIOSARCOMA' in texto:\n",
    "        return 14  # ANGIOSARCOMA\n",
    "    elif 'HCC' in texto:\n",
    "        return 15  # HCC\n",
    "    elif any(x in texto for x in ['SHOCK', 'CHOQUE']):\n",
    "        return 16  # SHOCK HIPOVOLÉMICO\n",
    "    elif 'ASPERG' in texto:\n",
    "        return 17  # ASPERGILOSIS\n",
    "    elif 'ISQUEMIA' in texto:\n",
    "        return 19  # ISQUEMIA MESENTÉRICA\n",
    "    elif 'EDEMA' in texto:\n",
    "        return 20  # EDEMA PULMONAR\n",
    "    elif 'VENTILATOR' in texto:\n",
    "        return 21  # FALLA VENTILATORIA\n",
    "    elif 'ILEO' in texto:\n",
    "        return 22  # ÍLEO ADINÁMICO\n",
    "    elif 'HCV' in texto:\n",
    "        return 23  # RECURRENCIA HCV\n",
    "    elif 'ONCOL' in texto:\n",
    "        return 24  # ONCOLÓGICO\n",
    "    elif any(x in texto for x in ['RENAL', 'HIPOREXIA']):\n",
    "        return 12  # FALLA MULTIORGÁNICA (asociado)\n",
    "    else:\n",
    "        return np.nan\n",
    "\n",
    "\n",
    "# Aplicación sobre tu DataFrame\n",
    "df[\"Causa_De_Muerte_cod\"] = df[\"Causa_De_Muerte\"].apply(clasificar_causa_muerte)\n",
    "ver_datos(df, \"Causa_De_Muerte_cod\", True)"
   ]
  },
  {
   "cell_type": "code",
   "execution_count": 824,
   "id": "a5d389e2",
   "metadata": {},
   "outputs": [],
   "source": [
    "catalogo = {\n",
    "    1: \"COAGULOPATÍA\", 2: \"SEPSIS\", 3: \"EMBOLIA PULMONAR\", 4: \"RECHAZO CRÓNICO\", \n",
    "    5: \"OBSTRUCCIÓN DE LA VÍA AÉREA\", 6: \"BRONCOASPIRACIÓN\", 7: \"COLANGIOCARCINOMA\", \n",
    "    8: \"NEUROLÓGICA\", 9: \"HEMORRAGIA SUBARACNOIDEA\", 10: \"ENCEFALITIS HERPES\", \n",
    "    11: \"NEUMONÍA\", 12: \"FALLA MULTIORGÁNICA\", 13: \"MUERTE IO\", 14: \"ANGIOSARCOMA\", \n",
    "    15: \"HCC\", 16: \"SHOCK HIPOVOLÉMICO\", 17: \"ASPERGILOSIS\", 18: \"DISFUNCIÓN HEPÁTICA\", \n",
    "    19: \"ISQUEMIA MESENTÉRICA\", 20: \"EDEMA PULMONAR\", 21: \"FALLA VENTILATORIA\", \n",
    "    22: \"ÍLEO ADINÁMICO\", 23: \"RECURRENCIA HCV\", 24: \"ONCOLÓGICO\"\n",
    "}\n",
    "\n",
    "df['Causa_De_Muerte_categoria'] = df['Causa_De_Muerte_cod'].map(catalogo)\n",
    "selected_columns.append('Causa_De_Muerte_categoria')"
   ]
  },
  {
   "cell_type": "code",
   "execution_count": 825,
   "id": "316b40e6",
   "metadata": {},
   "outputs": [
    {
     "name": "stdout",
     "output_type": "stream",
     "text": [
      "count        113\n",
      "unique        21\n",
      "top       SEPSIS\n",
      "freq          28\n",
      "Name: Causa_De_Muerte_categoria, dtype: object\n",
      "--------------------\n",
      "Número de datos nulos: 623\n",
      "--------------------\n",
      "Causa_De_Muerte_categoria\n",
      "NaN                            623\n",
      "SEPSIS                          28\n",
      "FALLA MULTIORGÁNICA             24\n",
      "DISFUNCIÓN HEPÁTICA             12\n",
      "COAGULOPATÍA                     8\n",
      "SHOCK HIPOVOLÉMICO               6\n",
      "NEUMONÍA                         4\n",
      "RECHAZO CRÓNICO                  4\n",
      "NEUROLÓGICA                      4\n",
      "MUERTE IO                        4\n",
      "OBSTRUCCIÓN DE LA VÍA AÉREA      3\n",
      "ONCOLÓGICO                       2\n",
      "EMBOLIA PULMONAR                 2\n",
      "BRONCOASPIRACIÓN                 2\n",
      "ASPERGILOSIS                     2\n",
      "FALLA VENTILATORIA               2\n",
      "COLANGIOCARCINOMA                1\n",
      "HCC                              1\n",
      "ISQUEMIA MESENTÉRICA             1\n",
      "EDEMA PULMONAR                   1\n",
      "ÍLEO ADINÁMICO                   1\n",
      "RECURRENCIA HCV                  1\n",
      "Name: count, dtype: int64\n"
     ]
    }
   ],
   "source": [
    "ver_datos(df, \"Causa_De_Muerte_categoria\", True)"
   ]
  },
  {
   "cell_type": "markdown",
   "id": "2d23c95a",
   "metadata": {},
   "source": [
    "### Complicación_Asociada"
   ]
  },
  {
   "cell_type": "code",
   "execution_count": 826,
   "id": "1db81e5e",
   "metadata": {},
   "outputs": [
    {
     "name": "stdout",
     "output_type": "stream",
     "text": [
      "count         143\n",
      "unique         54\n",
      "top       NINGUNA\n",
      "freq           54\n",
      "Name: Complicación_Asociada, dtype: object\n",
      "--------------------\n",
      "Número de datos nulos: 593\n",
      "--------------------\n",
      "Complicación_Asociada\n",
      "NaN                                                                                                                                                                                                                                                                                                                                                                  593\n",
      "NINGUNA                                                                                                                                                                                                                                                                                                                                                               54\n",
      "4                                                                                                                                                                                                                                                                                                                                                                      8\n",
      "3                                                                                                                                                                                                                                                                                                                                                                      5\n",
      "15                                                                                                                                                                                                                                                                                                                                                                     5\n",
      "DISFUNCION PRIMARIA                                                                                                                                                                                                                                                                                                                                                    5\n",
      "1                                                                                                                                                                                                                                                                                                                                                                      5\n",
      "DISFUNCIÓN PRIMARIA DEL INJERTO                                                                                                                                                                                                                                                                                                                                        4\n",
      "SANGRADO POST                                                                                                                                                                                                                                                                                                                                                          4\n",
      "18                                                                                                                                                                                                                                                                                                                                                                     4\n",
      "5                                                                                                                                                                                                                                                                                                                                                                      3\n",
      "2                                                                                                                                                                                                                                                                                                                                                                      3\n",
      "fallamultiorganica - hemorragia vias digestivas - sindrome hepatorenal 1                                                                                                                                                                                                                                                                                               1\n",
      "6                                                                                                                                                                                                                                                                                                                                                                      1\n",
      "sondrome mielodisplasico                                                                                                                                                                                                                                                                                                                                               1\n",
      "apergilosis en SNC                                                                                                                                                                                                                                                                                                                                                     1\n",
      "linfoma gastrico b celula grande difuso                                                                                                                                                                                                                                                                                                                                1\n",
      "aneurisma cerebral                                                                                                                                                                                                                                                                                                                                                     1\n",
      "IVU                                                                                                                                                                                                                                                                                                                                                                    1\n",
      "9                                                                                                                                                                                                                                                                                                                                                                      1\n",
      "neumonia nosocomial - rechazo cronico                                                                                                                                                                                                                                                                                                                                  1\n",
      "hepatoca metastasuci a colon                                                                                                                                                                                                                                                                                                                                           1\n",
      "8                                                                                                                                                                                                                                                                                                                                                                      1\n",
      "36                                                                                                                                                                                                                                                                                                                                                                     1\n",
      "20                                                                                                                                                                                                                                                                                                                                                                     1\n",
      "trombosis arteria hepatica - hemorrafia digestiva alta                                                                                                                                                                                                                                                                                                                 1\n",
      "ptld                                                                                                                                                                                                                                                                                                                                                                   1\n",
      "2020-08-16 00:00:00                                                                                                                                                                                                                                                                                                                                                    1\n",
      "SHOCK - DISFUCION NGERTO                                                                                                                                                                                                                                                                                                                                               1\n",
      "rechazo agudo                                                                                                                                                                                                                                                                                                                                                          1\n",
      "neumonia                                                                                                                                                                                                                                                                                                                                                               1\n",
      "infección                                                                                                                                                                                                                                                                                                                                                              1\n",
      "NEUMONIA                                                                                                                                                                                                                                                                                                                                                               1\n",
      "RECHAZO SEVERO                                                                                                                                                                                                                                                                                                                                                         1\n",
      "INFECCIÓN, ESTENSOIS VIA BILIAR, SANGRADO                                                                                                                                                                                                                                                                                                                              1\n",
      "NEUMONITIS POR ASPIRACION                                                                                                                                                                                                                                                                                                                                              1\n",
      "TROMBOSIS PORTAÑ                                                                                                                                                                                                                                                                                                                                                       1\n",
      "PANCREATITIS POST CPRE                                                                                                                                                                                                                                                                                                                                                 1\n",
      "recurrencia hcc                                                                                                                                                                                                                                                                                                                                                        1\n",
      "CHOQUE DISTRIBUTIVO                                                                                                                                                                                                                                                                                                                                                    1\n",
      "RECHAZO                                                                                                                                                                                                                                                                                                                                                                1\n",
      "NIGNUNA                                                                                                                                                                                                                                                                                                                                                                1\n",
      "FALLA RENAL                                                                                                                                                                                                                                                                                                                                                            1\n",
      "SESPIS POR INFECCIÓN GASTROINTESTINAL                                                                                                                                                                                                                                                                                                                                  1\n",
      "PERFORACIÓN INTESTINAL, SANGRADO, BACTEREMIA , CONVULSION                                                                                                                                                                                                                                                                                                              1\n",
      "DISFUNCION PRIMARIA, BACTEREMIA , FALLA RENAL                                                                                                                                                                                                                                                                                                                          1\n",
      "1. FALLA HEPÁTICA HIPERAGUDA POST TRASPLANTE DE POSIBLE ORIGEN VASCULAR _x000B_1.1 DEFECTO PERFUSION SEGMENTO VI - TROMBOSIS CRONICA PARCIALMENTE R _x000B_ECANALIZADA DE LA PORTA PRINCIPAL Y RAMA I ZQUERDA - PROBABLE COMPRESION EXTRINSECA POR PTLD _x000B_2. BACTEREMIA POR ENTEROCOCCUS FAECIUM (30/06/2022) _x000B_2.1 MICROABSCESOS HEPATICOS + BILIOMAS       1\n",
      "HIPERTENSIÓN ABDOMINAL                                                                                                                                                                                                                                                                                                                                                 1\n",
      "DISFUNCIÓN PRIMARIA DEL INJERTO, FALLA HEPÁTICA HIPERAGUDA, RECHAZO AGUDO SEVERO, LESIÓN RENAL AGUDA, COAGULOPATÍA                                                                                                                                                                                                                                                     1\n",
      "DISFUNCIÓN PRIMARIA DEL INJERTO, FALLA HEPÁTICA AGUDA SOBRE CRÓNICA, SOSPECHA SEPSIS ORIGEN BILIAR                                                                                                                                                                                                                                                                     1\n",
      "DISFUNCIÓN PRIMARIA DEL INJERTO, , CHOQUE MIXTO, ACIDOSIS METABOLICA SEVERA, COAGULOPATIA,\\nDISFUNCION MULTIPORGANICA CON COMPROMISO RESPIRATORIO, NEUROLOGICO, LESIÓN RENAL CRÓNICA AGUDIZADA, HIPOPERFUSIÓN, HIPERLACTATEMIA, HIPERAMONEMIA, HIPOTERMIA                                                                                                              1\n",
      "Edema pulmonar                                                                                                                                                                                                                                                                                                                                                         1\n",
      "TROMBOSIS ARTERIA HEPÁTICA                                                                                                                                                                                                                                                                                                                                             1\n",
      "ACV                                                                                                                                                                                                                                                                                                                                                                    1\n",
      "Bradicardia sostenida                                                                                                                                                                                                                                                                                                                                                  1\n",
      "Name: count, dtype: int64\n"
     ]
    }
   ],
   "source": [
    "ver_datos(df, 'Complicación_Asociada', True)"
   ]
  },
  {
   "cell_type": "code",
   "execution_count": 827,
   "id": "5c8be5a1",
   "metadata": {},
   "outputs": [
    {
     "name": "stdout",
     "output_type": "stream",
     "text": [
      "count     143\n",
      "unique     54\n",
      "top         0\n",
      "freq       54\n",
      "Name: Complicación_Asociada, dtype: int64\n",
      "--------------------\n",
      "Número de datos nulos: 593\n",
      "--------------------\n",
      "Complicación_Asociada\n",
      "NaN                                                                                                                                                                                                                                                                                                                                                                  593\n",
      "0                                                                                                                                                                                                                                                                                                                                                                     54\n",
      "4                                                                                                                                                                                                                                                                                                                                                                      8\n",
      "3                                                                                                                                                                                                                                                                                                                                                                      5\n",
      "15                                                                                                                                                                                                                                                                                                                                                                     5\n",
      "DISFUNCION PRIMARIA                                                                                                                                                                                                                                                                                                                                                    5\n",
      "1                                                                                                                                                                                                                                                                                                                                                                      5\n",
      "DISFUNCIÓN PRIMARIA DEL INJERTO                                                                                                                                                                                                                                                                                                                                        4\n",
      "SANGRADO POST                                                                                                                                                                                                                                                                                                                                                          4\n",
      "18                                                                                                                                                                                                                                                                                                                                                                     4\n",
      "5                                                                                                                                                                                                                                                                                                                                                                      3\n",
      "2                                                                                                                                                                                                                                                                                                                                                                      3\n",
      "fallamultiorganica - hemorragia vias digestivas - sindrome hepatorenal 1                                                                                                                                                                                                                                                                                               1\n",
      "6                                                                                                                                                                                                                                                                                                                                                                      1\n",
      "sondrome mielodisplasico                                                                                                                                                                                                                                                                                                                                               1\n",
      "apergilosis en SNC                                                                                                                                                                                                                                                                                                                                                     1\n",
      "linfoma gastrico b celula grande difuso                                                                                                                                                                                                                                                                                                                                1\n",
      "aneurisma cerebral                                                                                                                                                                                                                                                                                                                                                     1\n",
      "IVU                                                                                                                                                                                                                                                                                                                                                                    1\n",
      "9                                                                                                                                                                                                                                                                                                                                                                      1\n",
      "neumonia nosocomial - rechazo cronico                                                                                                                                                                                                                                                                                                                                  1\n",
      "hepatoca metastasuci a colon                                                                                                                                                                                                                                                                                                                                           1\n",
      "8                                                                                                                                                                                                                                                                                                                                                                      1\n",
      "36                                                                                                                                                                                                                                                                                                                                                                     1\n",
      "20                                                                                                                                                                                                                                                                                                                                                                     1\n",
      "trombosis arteria hepatica - hemorrafia digestiva alta                                                                                                                                                                                                                                                                                                                 1\n",
      "ptld                                                                                                                                                                                                                                                                                                                                                                   1\n",
      "2020-08-16 00:00:00                                                                                                                                                                                                                                                                                                                                                    1\n",
      "SHOCK - DISFUCION NGERTO                                                                                                                                                                                                                                                                                                                                               1\n",
      "rechazo agudo                                                                                                                                                                                                                                                                                                                                                          1\n",
      "neumonia                                                                                                                                                                                                                                                                                                                                                               1\n",
      "infección                                                                                                                                                                                                                                                                                                                                                              1\n",
      "NEUMONIA                                                                                                                                                                                                                                                                                                                                                               1\n",
      "RECHAZO SEVERO                                                                                                                                                                                                                                                                                                                                                         1\n",
      "INFECCIÓN, ESTENSOIS VIA BILIAR, SANGRADO                                                                                                                                                                                                                                                                                                                              1\n",
      "NEUMONITIS POR ASPIRACION                                                                                                                                                                                                                                                                                                                                              1\n",
      "TROMBOSIS PORTAÑ                                                                                                                                                                                                                                                                                                                                                       1\n",
      "PANCREATITIS POST CPRE                                                                                                                                                                                                                                                                                                                                                 1\n",
      "recurrencia hcc                                                                                                                                                                                                                                                                                                                                                        1\n",
      "CHOQUE DISTRIBUTIVO                                                                                                                                                                                                                                                                                                                                                    1\n",
      "RECHAZO                                                                                                                                                                                                                                                                                                                                                                1\n",
      "NIGNUNA                                                                                                                                                                                                                                                                                                                                                                1\n",
      "FALLA RENAL                                                                                                                                                                                                                                                                                                                                                            1\n",
      "SESPIS POR INFECCIÓN GASTROINTESTINAL                                                                                                                                                                                                                                                                                                                                  1\n",
      "PERFORACIÓN INTESTINAL, SANGRADO, BACTEREMIA , CONVULSION                                                                                                                                                                                                                                                                                                              1\n",
      "DISFUNCION PRIMARIA, BACTEREMIA , FALLA RENAL                                                                                                                                                                                                                                                                                                                          1\n",
      "1. FALLA HEPÁTICA HIPERAGUDA POST TRASPLANTE DE POSIBLE ORIGEN VASCULAR _x000B_1.1 DEFECTO PERFUSION SEGMENTO VI - TROMBOSIS CRONICA PARCIALMENTE R _x000B_ECANALIZADA DE LA PORTA PRINCIPAL Y RAMA I ZQUERDA - PROBABLE COMPRESION EXTRINSECA POR PTLD _x000B_2. BACTEREMIA POR ENTEROCOCCUS FAECIUM (30/06/2022) _x000B_2.1 MICROABSCESOS HEPATICOS + BILIOMAS       1\n",
      "HIPERTENSIÓN ABDOMINAL                                                                                                                                                                                                                                                                                                                                                 1\n",
      "DISFUNCIÓN PRIMARIA DEL INJERTO, FALLA HEPÁTICA HIPERAGUDA, RECHAZO AGUDO SEVERO, LESIÓN RENAL AGUDA, COAGULOPATÍA                                                                                                                                                                                                                                                     1\n",
      "DISFUNCIÓN PRIMARIA DEL INJERTO, FALLA HEPÁTICA AGUDA SOBRE CRÓNICA, SOSPECHA SEPSIS ORIGEN BILIAR                                                                                                                                                                                                                                                                     1\n",
      "DISFUNCIÓN PRIMARIA DEL INJERTO, , CHOQUE MIXTO, ACIDOSIS METABOLICA SEVERA, COAGULOPATIA,\\nDISFUNCION MULTIPORGANICA CON COMPROMISO RESPIRATORIO, NEUROLOGICO, LESIÓN RENAL CRÓNICA AGUDIZADA, HIPOPERFUSIÓN, HIPERLACTATEMIA, HIPERAMONEMIA, HIPOTERMIA                                                                                                              1\n",
      "Edema pulmonar                                                                                                                                                                                                                                                                                                                                                         1\n",
      "TROMBOSIS ARTERIA HEPÁTICA                                                                                                                                                                                                                                                                                                                                             1\n",
      "ACV                                                                                                                                                                                                                                                                                                                                                                    1\n",
      "Bradicardia sostenida                                                                                                                                                                                                                                                                                                                                                  1\n",
      "Name: count, dtype: int64\n"
     ]
    },
    {
     "name": "stderr",
     "output_type": "stream",
     "text": [
      "C:\\Users\\jmriv\\AppData\\Local\\Temp\\ipykernel_22692\\4038440533.py:1: FutureWarning: A value is trying to be set on a copy of a DataFrame or Series through chained assignment using an inplace method.\n",
      "The behavior will change in pandas 3.0. This inplace method will never work because the intermediate object on which we are setting values always behaves as a copy.\n",
      "\n",
      "For example, when doing 'df[col].method(value, inplace=True)', try using 'df.method({col: value}, inplace=True)' or df[col] = df[col].method(value) instead, to perform the operation inplace on the original object.\n",
      "\n",
      "\n",
      "  df[\"Complicación_Asociada\"].replace([\"NO\", \"N0\", \"NINGUNA\", \"NINGUNO\", \"NADA\"], 0, inplace=True)\n"
     ]
    }
   ],
   "source": [
    "df[\"Complicación_Asociada\"].replace([\"NO\", \"N0\", \"NINGUNA\", \"NINGUNO\", \"NADA\"], 0, inplace=True)\n",
    "\n",
    "ver_datos(df, 'Complicación_Asociada', True)"
   ]
  },
  {
   "cell_type": "markdown",
   "id": "2a708d2a",
   "metadata": {},
   "source": [
    "### Fecha-Enlistamiento"
   ]
  },
  {
   "cell_type": "code",
   "execution_count": 828,
   "id": "f42f2048",
   "metadata": {},
   "outputs": [
    {
     "name": "stdout",
     "output_type": "stream",
     "text": [
      "count                     699\n",
      "unique                    562\n",
      "top       2009-11-19 00:00:00\n",
      "freq                        5\n",
      "Name: Fecha-Enlistamiento, dtype: object\n",
      "--------------------\n",
      "Número de datos nulos: 37\n"
     ]
    }
   ],
   "source": [
    "ver_datos(df, 'Fecha-Enlistamiento')"
   ]
  },
  {
   "cell_type": "code",
   "execution_count": 829,
   "id": "e6e44936",
   "metadata": {},
   "outputs": [],
   "source": [
    "df['Fecha-Enlistamiento'] = df['Fecha-Enlistamiento'].apply(parse_date)"
   ]
  },
  {
   "cell_type": "code",
   "execution_count": 830,
   "id": "afd35c0f",
   "metadata": {},
   "outputs": [
    {
     "name": "stdout",
     "output_type": "stream",
     "text": [
      "count                              699\n",
      "mean     2014-07-11 01:38:53.047210240\n",
      "min                2002-07-29 00:00:00\n",
      "25%                2009-11-19 00:00:00\n",
      "50%                2014-09-26 00:00:00\n",
      "75%                2018-07-18 12:00:00\n",
      "max                2025-02-12 00:00:00\n",
      "Name: Fecha-Enlistamiento, dtype: object\n",
      "--------------------\n",
      "Número de datos nulos: 37\n"
     ]
    }
   ],
   "source": [
    "ver_datos(df, 'Fecha-Enlistamiento')"
   ]
  },
  {
   "cell_type": "markdown",
   "id": "12264b8b",
   "metadata": {},
   "source": [
    "### αFP_PreTx"
   ]
  },
  {
   "cell_type": "code",
   "execution_count": 831,
   "id": "12264b8b",
   "metadata": {},
   "outputs": [
    {
     "name": "stdout",
     "output_type": "stream",
     "text": [
      "count      194.000000\n",
      "mean       214.379072\n",
      "std       1334.154884\n",
      "min          1.230000\n",
      "25%          3.680000\n",
      "50%          6.475000\n",
      "75%         21.975000\n",
      "max      15487.000000\n",
      "Name: αFP_PreTx, dtype: float64\n",
      "--------------------\n",
      "Número de datos nulos: 542\n"
     ]
    }
   ],
   "source": [
    "ver_datos(df, 'αFP_PreTx')"
   ]
  },
  {
   "cell_type": "markdown",
   "id": "4f26c1a5",
   "metadata": {},
   "source": [
    "### αFP_Al_Dx"
   ]
  },
  {
   "cell_type": "code",
   "execution_count": 832,
   "id": "4f26c1a5",
   "metadata": {},
   "outputs": [
    {
     "name": "stdout",
     "output_type": "stream",
     "text": [
      "count     245.000000\n",
      "mean       59.458449\n",
      "std       188.843439\n",
      "min         0.900000\n",
      "25%         3.400000\n",
      "50%         6.000000\n",
      "75%        15.370000\n",
      "max      1924.000000\n",
      "Name: αFP_Al_Dx, dtype: float64\n",
      "--------------------\n",
      "Número de datos nulos: 491\n"
     ]
    }
   ],
   "source": [
    "ver_datos(df, 'αFP_Al_Dx')"
   ]
  },
  {
   "cell_type": "markdown",
   "id": "1a2d9aae",
   "metadata": {},
   "source": [
    "### Tiempo_Isquemia_Fría_Tx#1"
   ]
  },
  {
   "cell_type": "code",
   "execution_count": 833,
   "id": "1a2d9aae",
   "metadata": {},
   "outputs": [
    {
     "name": "stdout",
     "output_type": "stream",
     "text": [
      "count    701.000000\n",
      "mean       7.444559\n",
      "std        2.356060\n",
      "min        0.000000\n",
      "25%        5.630000\n",
      "50%        7.400000\n",
      "75%        9.000000\n",
      "max       16.000000\n",
      "Name: Tiempo_Isquemia_Fría_Tx#1, dtype: float64\n",
      "--------------------\n",
      "Número de datos nulos: 35\n"
     ]
    }
   ],
   "source": [
    "ver_datos(df, 'Tiempo_Isquemia_Fría_Tx#1')"
   ]
  },
  {
   "cell_type": "markdown",
   "id": "2600d7f2",
   "metadata": {},
   "source": [
    "### Días_Sobrevida_Injerto_#1"
   ]
  },
  {
   "cell_type": "code",
   "execution_count": 834,
   "id": "2600d7f2",
   "metadata": {},
   "outputs": [
    {
     "name": "stdout",
     "output_type": "stream",
     "text": [
      "count      704.000000\n",
      "mean      2051.998580\n",
      "std       3738.751428\n",
      "min     -45745.000000\n",
      "25%        315.000000\n",
      "50%       1948.000000\n",
      "75%       3668.500000\n",
      "max       7720.000000\n",
      "Name: Días_Sobrevida_Injerto_#1, dtype: float64\n",
      "--------------------\n",
      "Número de datos nulos: 32\n"
     ]
    }
   ],
   "source": [
    "ver_datos(df, 'Días_Sobrevida_Injerto_#1')"
   ]
  },
  {
   "cell_type": "markdown",
   "id": "3af778ae",
   "metadata": {},
   "source": [
    "Se recalcula la variable de manera que es *Fecha_Tx*-*Control_Injerto_#1*"
   ]
  },
  {
   "cell_type": "code",
   "execution_count": 835,
   "id": "fd6a434e",
   "metadata": {},
   "outputs": [
    {
     "name": "stdout",
     "output_type": "stream",
     "text": [
      "count                              701\n",
      "mean     2021-02-22 19:59:39.457917184\n",
      "min                2002-11-29 00:00:00\n",
      "25%                2020-05-15 00:00:00\n",
      "50%                2023-12-31 00:00:00\n",
      "75%                2023-12-31 00:00:00\n",
      "max                2025-04-01 00:00:00\n",
      "Name: Control_Injerto_#1, dtype: object\n",
      "--------------------\n",
      "Número de datos nulos: 35\n"
     ]
    }
   ],
   "source": [
    "ver_datos(df, 'Control_Injerto_#1')"
   ]
  },
  {
   "cell_type": "code",
   "execution_count": 836,
   "id": "cf054d5e",
   "metadata": {},
   "outputs": [],
   "source": [
    "df['Días_Sobrevida_Injerto_calculado'] = df.apply(\n",
    "    lambda row: (row['Control_Injerto_#1'] - row['Fecha_Tx']).days\n",
    "    if pd.notna(row['Control_Injerto_#1']) and pd.notna(row['Fecha_Tx'])\n",
    "    else np.nan,\n",
    "    axis=1\n",
    ")"
   ]
  },
  {
   "cell_type": "code",
   "execution_count": 837,
   "id": "49fb68d4",
   "metadata": {},
   "outputs": [
    {
     "data": {
      "text/html": [
       "<div>\n",
       "<style scoped>\n",
       "    .dataframe tbody tr th:only-of-type {\n",
       "        vertical-align: middle;\n",
       "    }\n",
       "\n",
       "    .dataframe tbody tr th {\n",
       "        vertical-align: top;\n",
       "    }\n",
       "\n",
       "    .dataframe thead th {\n",
       "        text-align: right;\n",
       "    }\n",
       "</style>\n",
       "<table border=\"1\" class=\"dataframe\">\n",
       "  <thead>\n",
       "    <tr style=\"text-align: right;\">\n",
       "      <th></th>\n",
       "      <th>Fecha_Tx</th>\n",
       "      <th>Control_Injerto_#1</th>\n",
       "      <th>Días_Sobrevida_Injerto_#1</th>\n",
       "      <th>Días_Sobrevida_Injerto_calculado</th>\n",
       "    </tr>\n",
       "    <tr>\n",
       "      <th>#_Paciente</th>\n",
       "      <th></th>\n",
       "      <th></th>\n",
       "      <th></th>\n",
       "      <th></th>\n",
       "    </tr>\n",
       "  </thead>\n",
       "  <tbody>\n",
       "    <tr>\n",
       "      <th>687</th>\n",
       "      <td>2023-10-21</td>\n",
       "      <td>2023-12-11</td>\n",
       "      <td>37.0</td>\n",
       "      <td>51.0</td>\n",
       "    </tr>\n",
       "  </tbody>\n",
       "</table>\n",
       "</div>"
      ],
      "text/plain": [
       "             Fecha_Tx Control_Injerto_#1  Días_Sobrevida_Injerto_#1  \\\n",
       "#_Paciente                                                            \n",
       "687        2023-10-21         2023-12-11                       37.0   \n",
       "\n",
       "            Días_Sobrevida_Injerto_calculado  \n",
       "#_Paciente                                    \n",
       "687                                     51.0  "
      ]
     },
     "execution_count": 837,
     "metadata": {},
     "output_type": "execute_result"
    }
   ],
   "source": [
    "df.loc[(df['Días_Sobrevida_Injerto_calculado']!=df['Días_Sobrevida_Injerto_#1'])\n",
    "       & df['Control_Injerto_#1'].notna()\n",
    "       ][['Fecha_Tx','Control_Injerto_#1','Días_Sobrevida_Injerto_#1','Días_Sobrevida_Injerto_calculado']]"
   ]
  },
  {
   "cell_type": "code",
   "execution_count": 838,
   "id": "afaf208c",
   "metadata": {},
   "outputs": [],
   "source": [
    "df['Días_Sobrevida_Injerto_#1'] = df['Días_Sobrevida_Injerto_calculado']"
   ]
  },
  {
   "cell_type": "code",
   "execution_count": 839,
   "id": "afaf208c",
   "metadata": {},
   "outputs": [
    {
     "name": "stdout",
     "output_type": "stream",
     "text": [
      "count     701.000000\n",
      "mean     2256.560628\n",
      "std      2050.901631\n",
      "min         0.000000\n",
      "25%       317.000000\n",
      "50%      1985.000000\n",
      "75%      3670.000000\n",
      "max      7720.000000\n",
      "Name: Días_Sobrevida_Injerto_#1, dtype: float64\n",
      "--------------------\n",
      "Número de datos nulos: 35\n"
     ]
    }
   ],
   "source": [
    "ver_datos(df, 'Días_Sobrevida_Injerto_#1')"
   ]
  },
  {
   "cell_type": "markdown",
   "id": "ccb59611",
   "metadata": {},
   "source": [
    "### Meses_Sobrevida_Injerto_#1"
   ]
  },
  {
   "cell_type": "code",
   "execution_count": 840,
   "id": "ccb59611",
   "metadata": {},
   "outputs": [
    {
     "name": "stdout",
     "output_type": "stream",
     "text": [
      "count     703.000000\n",
      "mean       68.496302\n",
      "std       124.687539\n",
      "min     -1524.833333\n",
      "25%        10.533333\n",
      "50%        64.966667\n",
      "75%       122.300000\n",
      "max       257.333333\n",
      "Name: Meses_Sobrevida_Injerto_#1, dtype: float64\n",
      "--------------------\n",
      "Número de datos nulos: 33\n"
     ]
    }
   ],
   "source": [
    "ver_datos(df, 'Meses_Sobrevida_Injerto_#1')"
   ]
  },
  {
   "cell_type": "markdown",
   "id": "0dbcecb6",
   "metadata": {},
   "source": [
    "Para garantizar consistencia se usa la misma fórmula que usan en la fuente de los datos para recalcular los meses y los años"
   ]
  },
  {
   "cell_type": "code",
   "execution_count": 841,
   "id": "0dbcecb6",
   "metadata": {},
   "outputs": [
    {
     "name": "stdout",
     "output_type": "stream",
     "text": [
      "count    701.000000\n",
      "mean      75.218688\n",
      "std       68.363388\n",
      "min        0.000000\n",
      "25%       10.566667\n",
      "50%       66.166667\n",
      "75%      122.333333\n",
      "max      257.333333\n",
      "Name: Meses_Sobrevida_Injerto_#1, dtype: float64\n",
      "--------------------\n",
      "Número de datos nulos: 35\n"
     ]
    }
   ],
   "source": [
    "df['Meses_Sobrevida_Injerto_#1'] = df['Días_Sobrevida_Injerto_#1']/30\n",
    "ver_datos(df, 'Meses_Sobrevida_Injerto_#1')"
   ]
  },
  {
   "cell_type": "markdown",
   "id": "b12faced",
   "metadata": {},
   "source": [
    "### Años_Sobrevida_Injerto_#1"
   ]
  },
  {
   "cell_type": "code",
   "execution_count": 842,
   "id": "b12faced",
   "metadata": {},
   "outputs": [
    {
     "name": "stdout",
     "output_type": "stream",
     "text": [
      "count    703.000000\n",
      "mean       5.708025\n",
      "std       10.390628\n",
      "min     -127.069444\n",
      "25%        0.877778\n",
      "50%        5.413889\n",
      "75%       10.191667\n",
      "max       21.444444\n",
      "Name: Años_Sobrevida_Injerto_#1, dtype: float64\n",
      "--------------------\n",
      "Número de datos nulos: 33\n"
     ]
    }
   ],
   "source": [
    "ver_datos(df, 'Años_Sobrevida_Injerto_#1')"
   ]
  },
  {
   "cell_type": "code",
   "execution_count": 843,
   "id": "9daf3155",
   "metadata": {},
   "outputs": [
    {
     "name": "stdout",
     "output_type": "stream",
     "text": [
      "count    701.000000\n",
      "mean       6.268224\n",
      "std        5.696949\n",
      "min        0.000000\n",
      "25%        0.880556\n",
      "50%        5.513889\n",
      "75%       10.194444\n",
      "max       21.444444\n",
      "Name: Años_Sobrevida_Injerto_#1, dtype: float64\n",
      "--------------------\n",
      "Número de datos nulos: 35\n"
     ]
    }
   ],
   "source": [
    "df['Años_Sobrevida_Injerto_#1'] = df['Meses_Sobrevida_Injerto_#1']/12\n",
    "ver_datos(df, 'Años_Sobrevida_Injerto_#1')"
   ]
  },
  {
   "cell_type": "markdown",
   "id": "9daf3155",
   "metadata": {},
   "source": [
    "### Diámetro_Nódulo_Principal_(cm)_Al_Dx"
   ]
  },
  {
   "cell_type": "code",
   "execution_count": 844,
   "id": "1deb69e9",
   "metadata": {},
   "outputs": [
    {
     "name": "stdout",
     "output_type": "stream",
     "text": [
      "count    105.000000\n",
      "mean       3.283143\n",
      "std        1.759876\n",
      "min        0.230000\n",
      "25%        2.000000\n",
      "50%        3.000000\n",
      "75%        4.000000\n",
      "max       11.000000\n",
      "Name: Diámetro_Nódulo_Principal_(cm)_Al_Dx, dtype: float64\n",
      "--------------------\n",
      "Número de datos nulos: 631\n"
     ]
    }
   ],
   "source": [
    "ver_datos(df, 'Diámetro_Nódulo_Principal_(cm)_Al_Dx')"
   ]
  },
  {
   "cell_type": "markdown",
   "id": "1deb69e9",
   "metadata": {},
   "source": [
    "### Ki67"
   ]
  },
  {
   "cell_type": "code",
   "execution_count": 845,
   "id": "e1450a28",
   "metadata": {},
   "outputs": [
    {
     "name": "stdout",
     "output_type": "stream",
     "text": [
      "count    81.000000\n",
      "mean      3.283951\n",
      "std       6.211350\n",
      "min       0.000000\n",
      "25%       0.000000\n",
      "50%       1.000000\n",
      "75%       5.000000\n",
      "max      40.000000\n",
      "Name: Ki67, dtype: float64\n",
      "--------------------\n",
      "Número de datos nulos: 655\n"
     ]
    }
   ],
   "source": [
    "ver_datos(df, 'Ki67')"
   ]
  },
  {
   "cell_type": "markdown",
   "id": "e1450a28",
   "metadata": {},
   "source": [
    "### #_Nódulos_Al_Dx"
   ]
  },
  {
   "cell_type": "code",
   "execution_count": 846,
   "id": "ec585d89",
   "metadata": {},
   "outputs": [
    {
     "name": "stdout",
     "output_type": "stream",
     "text": [
      "count    132.000000\n",
      "mean       1.651515\n",
      "std        1.703095\n",
      "min        0.000000\n",
      "25%        0.750000\n",
      "50%        1.000000\n",
      "75%        2.000000\n",
      "max        7.000000\n",
      "Name: #_Nódulos_Al_Dx, dtype: float64\n",
      "--------------------\n",
      "Número de datos nulos: 604\n"
     ]
    }
   ],
   "source": [
    "ver_datos(df, '#_Nódulos_Al_Dx')"
   ]
  },
  {
   "cell_type": "markdown",
   "id": "ec585d89",
   "metadata": {},
   "source": [
    "# Código de anonimización"
   ]
  },
  {
   "cell_type": "code",
   "execution_count": 847,
   "id": "7d288f09",
   "metadata": {},
   "outputs": [
    {
     "name": "stdout",
     "output_type": "stream",
     "text": [
      "count          736\n",
      "unique         736\n",
      "top       TXHEP720\n",
      "freq             1\n",
      "Name: Código de anonimización, dtype: object\n",
      "--------------------\n",
      "Número de datos nulos: 0\n"
     ]
    }
   ],
   "source": [
    "ver_datos(df, 'Código de anonimización')"
   ]
  },
  {
   "cell_type": "code",
   "execution_count": 848,
   "id": "7d288f09",
   "metadata": {},
   "outputs": [],
   "source": [
    "selected_columns.append('Código de anonimización')"
   ]
  },
  {
   "cell_type": "markdown",
   "id": "4b7ce16b",
   "metadata": {},
   "source": [
    "## Etapa 3: exportar datos limpios"
   ]
  },
  {
   "cell_type": "markdown",
   "id": "a3073aea",
   "metadata": {},
   "source": [
    "Finalmente se seleccionarán las variables de interés"
   ]
  },
  {
   "cell_type": "code",
   "execution_count": 849,
   "id": "e2262ab5",
   "metadata": {},
   "outputs": [],
   "source": [
    "output = df[selected_columns]"
   ]
  },
  {
   "cell_type": "code",
   "execution_count": 850,
   "id": "c2026e9f",
   "metadata": {},
   "outputs": [
    {
     "data": {
      "text/html": [
       "<div>\n",
       "<style scoped>\n",
       "    .dataframe tbody tr th:only-of-type {\n",
       "        vertical-align: middle;\n",
       "    }\n",
       "\n",
       "    .dataframe tbody tr th {\n",
       "        vertical-align: top;\n",
       "    }\n",
       "\n",
       "    .dataframe thead th {\n",
       "        text-align: right;\n",
       "    }\n",
       "</style>\n",
       "<table border=\"1\" class=\"dataframe\">\n",
       "  <thead>\n",
       "    <tr style=\"text-align: right;\">\n",
       "      <th></th>\n",
       "      <th>Año_Tx</th>\n",
       "      <th>Mes_Tx#1</th>\n",
       "      <th>Edad_Al_Tx</th>\n",
       "      <th>Tiempo_En_Lista_Días</th>\n",
       "      <th>Tiempo_En_Lista_Meses</th>\n",
       "      <th>Tiempo_En_Lista_Años</th>\n",
       "      <th>Sexo_Receptor</th>\n",
       "      <th>EPS</th>\n",
       "      <th>Causa_1_Tx_Hepático_</th>\n",
       "      <th>Causa_2_Tx_Hepático_</th>\n",
       "      <th>...</th>\n",
       "      <th>EKG_VALOR_POP_1</th>\n",
       "      <th>EKG_VALOR_POP_categoria</th>\n",
       "      <th>Retrasplante_bool</th>\n",
       "      <th>Indicación_Retrasplante_categoria</th>\n",
       "      <th>Fecha_Tx#2</th>\n",
       "      <th>Indicación_Retrasplante_categoria</th>\n",
       "      <th>Grado_HCC_desc</th>\n",
       "      <th>Sobrevida_Días_calculado</th>\n",
       "      <th>Causa_De_Muerte_categoria</th>\n",
       "      <th>Código de anonimización</th>\n",
       "    </tr>\n",
       "    <tr>\n",
       "      <th>#_Paciente</th>\n",
       "      <th></th>\n",
       "      <th></th>\n",
       "      <th></th>\n",
       "      <th></th>\n",
       "      <th></th>\n",
       "      <th></th>\n",
       "      <th></th>\n",
       "      <th></th>\n",
       "      <th></th>\n",
       "      <th></th>\n",
       "      <th></th>\n",
       "      <th></th>\n",
       "      <th></th>\n",
       "      <th></th>\n",
       "      <th></th>\n",
       "      <th></th>\n",
       "      <th></th>\n",
       "      <th></th>\n",
       "      <th></th>\n",
       "      <th></th>\n",
       "      <th></th>\n",
       "    </tr>\n",
       "  </thead>\n",
       "  <tbody>\n",
       "    <tr>\n",
       "      <th>1</th>\n",
       "      <td>1988</td>\n",
       "      <td>6</td>\n",
       "      <td>14.00</td>\n",
       "      <td>NaN</td>\n",
       "      <td>NaN</td>\n",
       "      <td>NaN</td>\n",
       "      <td>2</td>\n",
       "      <td>NaN</td>\n",
       "      <td>23.0</td>\n",
       "      <td>0.0</td>\n",
       "      <td>...</td>\n",
       "      <td>NaN</td>\n",
       "      <td>NaN</td>\n",
       "      <td>False</td>\n",
       "      <td>NaN</td>\n",
       "      <td>NaT</td>\n",
       "      <td>NaN</td>\n",
       "      <td>NaN</td>\n",
       "      <td>NaN</td>\n",
       "      <td>NaN</td>\n",
       "      <td>TXHEP001</td>\n",
       "    </tr>\n",
       "    <tr>\n",
       "      <th>2</th>\n",
       "      <td>1989</td>\n",
       "      <td>1</td>\n",
       "      <td>0.91</td>\n",
       "      <td>NaN</td>\n",
       "      <td>NaN</td>\n",
       "      <td>NaN</td>\n",
       "      <td>1</td>\n",
       "      <td>NaN</td>\n",
       "      <td>14.0</td>\n",
       "      <td>0.0</td>\n",
       "      <td>...</td>\n",
       "      <td>NaN</td>\n",
       "      <td>NaN</td>\n",
       "      <td>False</td>\n",
       "      <td>NaN</td>\n",
       "      <td>NaT</td>\n",
       "      <td>NaN</td>\n",
       "      <td>NaN</td>\n",
       "      <td>NaN</td>\n",
       "      <td>NaN</td>\n",
       "      <td>TXHEP002</td>\n",
       "    </tr>\n",
       "    <tr>\n",
       "      <th>3</th>\n",
       "      <td>1989</td>\n",
       "      <td>10</td>\n",
       "      <td>28.00</td>\n",
       "      <td>NaN</td>\n",
       "      <td>NaN</td>\n",
       "      <td>NaN</td>\n",
       "      <td>2</td>\n",
       "      <td>NaN</td>\n",
       "      <td>23.0</td>\n",
       "      <td>0.0</td>\n",
       "      <td>...</td>\n",
       "      <td>NaN</td>\n",
       "      <td>NaN</td>\n",
       "      <td>False</td>\n",
       "      <td>NaN</td>\n",
       "      <td>NaT</td>\n",
       "      <td>NaN</td>\n",
       "      <td>NaN</td>\n",
       "      <td>NaN</td>\n",
       "      <td>NaN</td>\n",
       "      <td>TXHEP003</td>\n",
       "    </tr>\n",
       "    <tr>\n",
       "      <th>4</th>\n",
       "      <td>1990</td>\n",
       "      <td>9</td>\n",
       "      <td>27.00</td>\n",
       "      <td>NaN</td>\n",
       "      <td>NaN</td>\n",
       "      <td>NaN</td>\n",
       "      <td>2</td>\n",
       "      <td>NaN</td>\n",
       "      <td>8.0</td>\n",
       "      <td>0.0</td>\n",
       "      <td>...</td>\n",
       "      <td>NaN</td>\n",
       "      <td>NaN</td>\n",
       "      <td>False</td>\n",
       "      <td>NaN</td>\n",
       "      <td>NaT</td>\n",
       "      <td>NaN</td>\n",
       "      <td>NaN</td>\n",
       "      <td>NaN</td>\n",
       "      <td>NaN</td>\n",
       "      <td>TXHEP004</td>\n",
       "    </tr>\n",
       "    <tr>\n",
       "      <th>5</th>\n",
       "      <td>1990</td>\n",
       "      <td>9</td>\n",
       "      <td>37.00</td>\n",
       "      <td>NaN</td>\n",
       "      <td>NaN</td>\n",
       "      <td>NaN</td>\n",
       "      <td>2</td>\n",
       "      <td>NaN</td>\n",
       "      <td>9.0</td>\n",
       "      <td>0.0</td>\n",
       "      <td>...</td>\n",
       "      <td>NaN</td>\n",
       "      <td>NaN</td>\n",
       "      <td>False</td>\n",
       "      <td>NaN</td>\n",
       "      <td>NaT</td>\n",
       "      <td>NaN</td>\n",
       "      <td>NaN</td>\n",
       "      <td>NaN</td>\n",
       "      <td>NaN</td>\n",
       "      <td>TXHEP005</td>\n",
       "    </tr>\n",
       "    <tr>\n",
       "      <th>...</th>\n",
       "      <td>...</td>\n",
       "      <td>...</td>\n",
       "      <td>...</td>\n",
       "      <td>...</td>\n",
       "      <td>...</td>\n",
       "      <td>...</td>\n",
       "      <td>...</td>\n",
       "      <td>...</td>\n",
       "      <td>...</td>\n",
       "      <td>...</td>\n",
       "      <td>...</td>\n",
       "      <td>...</td>\n",
       "      <td>...</td>\n",
       "      <td>...</td>\n",
       "      <td>...</td>\n",
       "      <td>...</td>\n",
       "      <td>...</td>\n",
       "      <td>...</td>\n",
       "      <td>...</td>\n",
       "      <td>...</td>\n",
       "      <td>...</td>\n",
       "    </tr>\n",
       "    <tr>\n",
       "      <th>731</th>\n",
       "      <td>2025</td>\n",
       "      <td>2</td>\n",
       "      <td>68.00</td>\n",
       "      <td>15.0</td>\n",
       "      <td>0.500000</td>\n",
       "      <td>0.041667</td>\n",
       "      <td>2</td>\n",
       "      <td>1.0</td>\n",
       "      <td>9.0</td>\n",
       "      <td>3.0</td>\n",
       "      <td>...</td>\n",
       "      <td>NaN</td>\n",
       "      <td>NaN</td>\n",
       "      <td>False</td>\n",
       "      <td>NaN</td>\n",
       "      <td>NaT</td>\n",
       "      <td>NaN</td>\n",
       "      <td>Poco diferenciado</td>\n",
       "      <td>26.0</td>\n",
       "      <td>NaN</td>\n",
       "      <td>TXHEP732</td>\n",
       "    </tr>\n",
       "    <tr>\n",
       "      <th>733</th>\n",
       "      <td>2025</td>\n",
       "      <td>3</td>\n",
       "      <td>56.00</td>\n",
       "      <td>205.0</td>\n",
       "      <td>6.833333</td>\n",
       "      <td>0.569444</td>\n",
       "      <td>2</td>\n",
       "      <td>33.0</td>\n",
       "      <td>3.0</td>\n",
       "      <td>0.0</td>\n",
       "      <td>...</td>\n",
       "      <td>NaN</td>\n",
       "      <td>NaN</td>\n",
       "      <td>False</td>\n",
       "      <td>NaN</td>\n",
       "      <td>NaT</td>\n",
       "      <td>NaN</td>\n",
       "      <td>NaN</td>\n",
       "      <td>27.0</td>\n",
       "      <td>NaN</td>\n",
       "      <td>TXHEP733</td>\n",
       "    </tr>\n",
       "    <tr>\n",
       "      <th>734</th>\n",
       "      <td>2025</td>\n",
       "      <td>3</td>\n",
       "      <td>43.00</td>\n",
       "      <td>45740.0</td>\n",
       "      <td>1524.666667</td>\n",
       "      <td>127.055556</td>\n",
       "      <td>1</td>\n",
       "      <td>1.0</td>\n",
       "      <td>NaN</td>\n",
       "      <td>NaN</td>\n",
       "      <td>...</td>\n",
       "      <td>NaN</td>\n",
       "      <td>NaN</td>\n",
       "      <td>False</td>\n",
       "      <td>NaN</td>\n",
       "      <td>NaT</td>\n",
       "      <td>NaN</td>\n",
       "      <td>NaN</td>\n",
       "      <td>NaN</td>\n",
       "      <td>NaN</td>\n",
       "      <td>TXHEP734</td>\n",
       "    </tr>\n",
       "    <tr>\n",
       "      <th>735</th>\n",
       "      <td>2025</td>\n",
       "      <td>3</td>\n",
       "      <td>55.00</td>\n",
       "      <td>45743.0</td>\n",
       "      <td>1524.766667</td>\n",
       "      <td>127.063889</td>\n",
       "      <td>1</td>\n",
       "      <td>0.0</td>\n",
       "      <td>NaN</td>\n",
       "      <td>NaN</td>\n",
       "      <td>...</td>\n",
       "      <td>NaN</td>\n",
       "      <td>NaN</td>\n",
       "      <td>False</td>\n",
       "      <td>NaN</td>\n",
       "      <td>NaT</td>\n",
       "      <td>NaN</td>\n",
       "      <td>NaN</td>\n",
       "      <td>NaN</td>\n",
       "      <td>NaN</td>\n",
       "      <td>TXHEP735</td>\n",
       "    </tr>\n",
       "    <tr>\n",
       "      <th>736</th>\n",
       "      <td>2025</td>\n",
       "      <td>3</td>\n",
       "      <td>36.00</td>\n",
       "      <td>45745.0</td>\n",
       "      <td>1524.833333</td>\n",
       "      <td>127.069444</td>\n",
       "      <td>1</td>\n",
       "      <td>NaN</td>\n",
       "      <td>NaN</td>\n",
       "      <td>NaN</td>\n",
       "      <td>...</td>\n",
       "      <td>NaN</td>\n",
       "      <td>NaN</td>\n",
       "      <td>False</td>\n",
       "      <td>NaN</td>\n",
       "      <td>NaT</td>\n",
       "      <td>NaN</td>\n",
       "      <td>NaN</td>\n",
       "      <td>NaN</td>\n",
       "      <td>NaN</td>\n",
       "      <td>TXHEP736</td>\n",
       "    </tr>\n",
       "  </tbody>\n",
       "</table>\n",
       "<p>736 rows × 135 columns</p>\n",
       "</div>"
      ],
      "text/plain": [
       "            Año_Tx  Mes_Tx#1  Edad_Al_Tx  Tiempo_En_Lista_Días  \\\n",
       "#_Paciente                                                       \n",
       "1             1988         6       14.00                   NaN   \n",
       "2             1989         1        0.91                   NaN   \n",
       "3             1989        10       28.00                   NaN   \n",
       "4             1990         9       27.00                   NaN   \n",
       "5             1990         9       37.00                   NaN   \n",
       "...            ...       ...         ...                   ...   \n",
       "731           2025         2       68.00                  15.0   \n",
       "733           2025         3       56.00                 205.0   \n",
       "734           2025         3       43.00               45740.0   \n",
       "735           2025         3       55.00               45743.0   \n",
       "736           2025         3       36.00               45745.0   \n",
       "\n",
       "            Tiempo_En_Lista_Meses  Tiempo_En_Lista_Años  Sexo_Receptor   EPS  \\\n",
       "#_Paciente                                                                     \n",
       "1                             NaN                   NaN              2   NaN   \n",
       "2                             NaN                   NaN              1   NaN   \n",
       "3                             NaN                   NaN              2   NaN   \n",
       "4                             NaN                   NaN              2   NaN   \n",
       "5                             NaN                   NaN              2   NaN   \n",
       "...                           ...                   ...            ...   ...   \n",
       "731                      0.500000              0.041667              2   1.0   \n",
       "733                      6.833333              0.569444              2  33.0   \n",
       "734                   1524.666667            127.055556              1   1.0   \n",
       "735                   1524.766667            127.063889              1   0.0   \n",
       "736                   1524.833333            127.069444              1   NaN   \n",
       "\n",
       "            Causa_1_Tx_Hepático_  Causa_2_Tx_Hepático_  ...  EKG_VALOR_POP_1  \\\n",
       "#_Paciente                                              ...                    \n",
       "1                           23.0                   0.0  ...              NaN   \n",
       "2                           14.0                   0.0  ...              NaN   \n",
       "3                           23.0                   0.0  ...              NaN   \n",
       "4                            8.0                   0.0  ...              NaN   \n",
       "5                            9.0                   0.0  ...              NaN   \n",
       "...                          ...                   ...  ...              ...   \n",
       "731                          9.0                   3.0  ...              NaN   \n",
       "733                          3.0                   0.0  ...              NaN   \n",
       "734                          NaN                   NaN  ...              NaN   \n",
       "735                          NaN                   NaN  ...              NaN   \n",
       "736                          NaN                   NaN  ...              NaN   \n",
       "\n",
       "           EKG_VALOR_POP_categoria  Retrasplante_bool  \\\n",
       "#_Paciente                                              \n",
       "1                              NaN              False   \n",
       "2                              NaN              False   \n",
       "3                              NaN              False   \n",
       "4                              NaN              False   \n",
       "5                              NaN              False   \n",
       "...                            ...                ...   \n",
       "731                            NaN              False   \n",
       "733                            NaN              False   \n",
       "734                            NaN              False   \n",
       "735                            NaN              False   \n",
       "736                            NaN              False   \n",
       "\n",
       "            Indicación_Retrasplante_categoria  Fecha_Tx#2  \\\n",
       "#_Paciente                                                  \n",
       "1                                         NaN         NaT   \n",
       "2                                         NaN         NaT   \n",
       "3                                         NaN         NaT   \n",
       "4                                         NaN         NaT   \n",
       "5                                         NaN         NaT   \n",
       "...                                       ...         ...   \n",
       "731                                       NaN         NaT   \n",
       "733                                       NaN         NaT   \n",
       "734                                       NaN         NaT   \n",
       "735                                       NaN         NaT   \n",
       "736                                       NaN         NaT   \n",
       "\n",
       "            Indicación_Retrasplante_categoria     Grado_HCC_desc  \\\n",
       "#_Paciente                                                         \n",
       "1                                         NaN                NaN   \n",
       "2                                         NaN                NaN   \n",
       "3                                         NaN                NaN   \n",
       "4                                         NaN                NaN   \n",
       "5                                         NaN                NaN   \n",
       "...                                       ...                ...   \n",
       "731                                       NaN  Poco diferenciado   \n",
       "733                                       NaN                NaN   \n",
       "734                                       NaN                NaN   \n",
       "735                                       NaN                NaN   \n",
       "736                                       NaN                NaN   \n",
       "\n",
       "            Sobrevida_Días_calculado  Causa_De_Muerte_categoria  \\\n",
       "#_Paciente                                                        \n",
       "1                                NaN                        NaN   \n",
       "2                                NaN                        NaN   \n",
       "3                                NaN                        NaN   \n",
       "4                                NaN                        NaN   \n",
       "5                                NaN                        NaN   \n",
       "...                              ...                        ...   \n",
       "731                             26.0                        NaN   \n",
       "733                             27.0                        NaN   \n",
       "734                              NaN                        NaN   \n",
       "735                              NaN                        NaN   \n",
       "736                              NaN                        NaN   \n",
       "\n",
       "            Código de anonimización  \n",
       "#_Paciente                           \n",
       "1                          TXHEP001  \n",
       "2                          TXHEP002  \n",
       "3                          TXHEP003  \n",
       "4                          TXHEP004  \n",
       "5                          TXHEP005  \n",
       "...                             ...  \n",
       "731                        TXHEP732  \n",
       "733                        TXHEP733  \n",
       "734                        TXHEP734  \n",
       "735                        TXHEP735  \n",
       "736                        TXHEP736  \n",
       "\n",
       "[736 rows x 135 columns]"
      ]
     },
     "execution_count": 850,
     "metadata": {},
     "output_type": "execute_result"
    }
   ],
   "source": [
    "output"
   ]
  },
  {
   "cell_type": "code",
   "execution_count": 851,
   "id": "c2026e9f",
   "metadata": {},
   "outputs": [],
   "source": [
    "output.to_excel('C:\\\\Users\\\\jmriv\\\\OneDrive - Universidad de los andes\\\\Semestres uniandes\\\\2025-2\\\\Ciencia de datos aplicada\\\\Proyecto transplantes hepáticos Fundación Sanatfé\\\\Trasplante hepático consolidado limpio.xlsx')"
   ]
  }
 ],
 "metadata": {
  "kernelspec": {
   "display_name": "Python 3",
   "language": "python",
   "name": "python3"
  },
  "language_info": {
   "codemirror_mode": {
    "name": "ipython",
    "version": 3
   },
   "file_extension": ".py",
   "mimetype": "text/x-python",
   "name": "python",
   "nbconvert_exporter": "python",
   "pygments_lexer": "ipython3",
   "version": "3.12.8"
  }
 },
 "nbformat": 4,
 "nbformat_minor": 5
}
