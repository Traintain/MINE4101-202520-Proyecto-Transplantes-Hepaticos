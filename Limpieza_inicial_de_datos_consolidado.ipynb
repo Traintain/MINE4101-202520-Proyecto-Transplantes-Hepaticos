{
  "cells": [
    {
      "cell_type": "markdown",
      "id": "18085973",
      "metadata": {
        "id": "18085973"
      },
      "source": [
        "# Proyecto de ciencia de datos - MINE 4101"
      ]
    },
    {
      "cell_type": "markdown",
      "id": "9d9e3f8f",
      "metadata": {
        "id": "9d9e3f8f"
      },
      "source": [
        "## Expectativas stakeholder:\n",
        "\"El objetivo de esta entrega es dar inicio a la creación del tablero en Power BI, que permitirá integrar y visualizar toda la información disponible. La idea es que este tablero se convierta en una herramienta dinámica, que pueda ser alimentada continuamente en el futuro con nuevos datos que vayamos recopilando.\"\n",
        "\n",
        "#### Comentarios adicionales:\n",
        "\"Podemos revisar pacientes con complicaciones, infecciones, sobrevida, y revisar grupos etarios.\n",
        "\n",
        "\n",
        "## Insumos entregados a corte 25 de septiembre de 2025\n",
        "\n",
        "* Cirugias_Hepaticas_consolidado.xlsx   (Higado)\n",
        "* Cirugias_Pancreaticas_Consolidado.xlsx (Pancreas)\n",
        "* Colecistectomias_Laparoscopicas_consolidado.xlsx  (Vesicula biliar) \"extracción de la vesícula biliar mediante laparoscopia\" \"técnica mínimamente invasiva (no se abre el abdomen por completo, sino que se usan pequeñas incisiones y una cámara).\" -- suelen ser mas comunes,\n",
        "* Otras_cirugias_consolidado.xlsx\n",
        "* Trasplante_hepático_consolidado.xlsx\n",
        "\n"
      ]
    },
    {
      "cell_type": "markdown",
      "id": "f02d56ed",
      "metadata": {
        "id": "f02d56ed"
      },
      "source": [
        "## 0. Importación de librerías y preparación del entorno de trabajo"
      ]
    },
    {
      "cell_type": "code",
      "execution_count": 318,
      "id": "9131a241",
      "metadata": {
        "id": "9131a241"
      },
      "outputs": [],
      "source": [
        "import os\n",
        "import pandas as pd\n",
        "import matplotlib.pyplot as plt\n",
        "import seaborn as sns\n",
        "import numpy as np"
      ]
    },
    {
      "cell_type": "markdown",
      "source": [
        "Se usó ruta relativa"
      ],
      "metadata": {
        "id": "xjPOFz12jO33"
      },
      "id": "xjPOFz12jO33"
    },
    {
      "cell_type": "code",
      "execution_count": 319,
      "id": "32d444db",
      "metadata": {
        "id": "32d444db"
      },
      "outputs": [],
      "source": [
        "path = \"Trasplante hepático consolidado.xlsx\""
      ]
    },
    {
      "cell_type": "markdown",
      "id": "cdbbbd16",
      "metadata": {
        "id": "cdbbbd16"
      },
      "source": [
        "## Etapa 1: Entendimiento de los datos"
      ]
    },
    {
      "cell_type": "code",
      "execution_count": 320,
      "id": "490c4361",
      "metadata": {
        "id": "490c4361",
        "outputId": "25fefcf9-c817-4a40-cca4-08891dbb8858",
        "colab": {
          "base_uri": "https://localhost:8080/",
          "height": 294
        }
      },
      "outputs": [
        {
          "output_type": "execute_result",
          "data": {
            "text/plain": [
              "            Año_Tx  Mes_Tx#1   Fecha_Tx  Edad_Al_Tx  Sexo_Receptor  \\\n",
              "#_Paciente                                                           \n",
              "612           2021        10 2021-10-25   66.553425              1   \n",
              "730           2025         1 2025-01-14   57.000000              1   \n",
              "143           2008         9 2008-09-12   50.523288              1   \n",
              "\n",
              "           Código de anonimización      Fecha_nacimiento   EPS  \\\n",
              "#_Paciente                                                       \n",
              "612                        TXHEP612  1955-04-23 00:00:00  23.0   \n",
              "730                        TXHEP728  1967-07-05 00:00:00   1.0   \n",
              "143                        TXHEP143  1958-03-18 00:00:00   2.0   \n",
              "\n",
              "           Grupo_Sanguíneo_Receptor RH_Receptor  ...  POSTMORAL_Categoría  \\\n",
              "#_Paciente                                       ...                        \n",
              "612                               O         (+)  ...                  NaN   \n",
              "730                               B         (+)  ...                  NaN   \n",
              "143                               A         (+)  ...               9999.0   \n",
              "\n",
              "            RETREAT_Valor COMBOMORAL_Valor COMBOMORAL_Categoría  \\\n",
              "#_Paciente                                                        \n",
              "612                   NaN              NaN                  NaN   \n",
              "730                   NaN              NaN                  NaN   \n",
              "143                9999.0           9999.0               9999.0   \n",
              "\n",
              "            αFP_1m_PostTx  αFP_6m_PostTx  αFP_1año_PostTx  Recurrencia_ HCC  \\\n",
              "#_Paciente                                                                    \n",
              "612                   NaN            NaN              NaN               NaN   \n",
              "730                   NaN            NaN              NaN               NaN   \n",
              "143                  9999           9999             9999            9999.0   \n",
              "\n",
              "            Fecha_Recurrencia Lugar_De_Recurrencia  \n",
              "#_Paciente                                          \n",
              "612                       NaN                  NaN  \n",
              "730                       NaN                  NaN  \n",
              "143                      9999               9999.0  \n",
              "\n",
              "[3 rows x 284 columns]"
            ],
            "text/html": [
              "\n",
              "  <div id=\"df-7a259f9f-fbb4-48d9-b337-9db3579c3897\" class=\"colab-df-container\">\n",
              "    <div>\n",
              "<style scoped>\n",
              "    .dataframe tbody tr th:only-of-type {\n",
              "        vertical-align: middle;\n",
              "    }\n",
              "\n",
              "    .dataframe tbody tr th {\n",
              "        vertical-align: top;\n",
              "    }\n",
              "\n",
              "    .dataframe thead th {\n",
              "        text-align: right;\n",
              "    }\n",
              "</style>\n",
              "<table border=\"1\" class=\"dataframe\">\n",
              "  <thead>\n",
              "    <tr style=\"text-align: right;\">\n",
              "      <th></th>\n",
              "      <th>Año_Tx</th>\n",
              "      <th>Mes_Tx#1</th>\n",
              "      <th>Fecha_Tx</th>\n",
              "      <th>Edad_Al_Tx</th>\n",
              "      <th>Sexo_Receptor</th>\n",
              "      <th>Código de anonimización</th>\n",
              "      <th>Fecha_nacimiento</th>\n",
              "      <th>EPS</th>\n",
              "      <th>Grupo_Sanguíneo_Receptor</th>\n",
              "      <th>RH_Receptor</th>\n",
              "      <th>...</th>\n",
              "      <th>POSTMORAL_Categoría</th>\n",
              "      <th>RETREAT_Valor</th>\n",
              "      <th>COMBOMORAL_Valor</th>\n",
              "      <th>COMBOMORAL_Categoría</th>\n",
              "      <th>αFP_1m_PostTx</th>\n",
              "      <th>αFP_6m_PostTx</th>\n",
              "      <th>αFP_1año_PostTx</th>\n",
              "      <th>Recurrencia_ HCC</th>\n",
              "      <th>Fecha_Recurrencia</th>\n",
              "      <th>Lugar_De_Recurrencia</th>\n",
              "    </tr>\n",
              "    <tr>\n",
              "      <th>#_Paciente</th>\n",
              "      <th></th>\n",
              "      <th></th>\n",
              "      <th></th>\n",
              "      <th></th>\n",
              "      <th></th>\n",
              "      <th></th>\n",
              "      <th></th>\n",
              "      <th></th>\n",
              "      <th></th>\n",
              "      <th></th>\n",
              "      <th></th>\n",
              "      <th></th>\n",
              "      <th></th>\n",
              "      <th></th>\n",
              "      <th></th>\n",
              "      <th></th>\n",
              "      <th></th>\n",
              "      <th></th>\n",
              "      <th></th>\n",
              "      <th></th>\n",
              "      <th></th>\n",
              "    </tr>\n",
              "  </thead>\n",
              "  <tbody>\n",
              "    <tr>\n",
              "      <th>612</th>\n",
              "      <td>2021</td>\n",
              "      <td>10</td>\n",
              "      <td>2021-10-25</td>\n",
              "      <td>66.553425</td>\n",
              "      <td>1</td>\n",
              "      <td>TXHEP612</td>\n",
              "      <td>1955-04-23 00:00:00</td>\n",
              "      <td>23.0</td>\n",
              "      <td>O</td>\n",
              "      <td>(+)</td>\n",
              "      <td>...</td>\n",
              "      <td>NaN</td>\n",
              "      <td>NaN</td>\n",
              "      <td>NaN</td>\n",
              "      <td>NaN</td>\n",
              "      <td>NaN</td>\n",
              "      <td>NaN</td>\n",
              "      <td>NaN</td>\n",
              "      <td>NaN</td>\n",
              "      <td>NaN</td>\n",
              "      <td>NaN</td>\n",
              "    </tr>\n",
              "    <tr>\n",
              "      <th>730</th>\n",
              "      <td>2025</td>\n",
              "      <td>1</td>\n",
              "      <td>2025-01-14</td>\n",
              "      <td>57.000000</td>\n",
              "      <td>1</td>\n",
              "      <td>TXHEP728</td>\n",
              "      <td>1967-07-05 00:00:00</td>\n",
              "      <td>1.0</td>\n",
              "      <td>B</td>\n",
              "      <td>(+)</td>\n",
              "      <td>...</td>\n",
              "      <td>NaN</td>\n",
              "      <td>NaN</td>\n",
              "      <td>NaN</td>\n",
              "      <td>NaN</td>\n",
              "      <td>NaN</td>\n",
              "      <td>NaN</td>\n",
              "      <td>NaN</td>\n",
              "      <td>NaN</td>\n",
              "      <td>NaN</td>\n",
              "      <td>NaN</td>\n",
              "    </tr>\n",
              "    <tr>\n",
              "      <th>143</th>\n",
              "      <td>2008</td>\n",
              "      <td>9</td>\n",
              "      <td>2008-09-12</td>\n",
              "      <td>50.523288</td>\n",
              "      <td>1</td>\n",
              "      <td>TXHEP143</td>\n",
              "      <td>1958-03-18 00:00:00</td>\n",
              "      <td>2.0</td>\n",
              "      <td>A</td>\n",
              "      <td>(+)</td>\n",
              "      <td>...</td>\n",
              "      <td>9999.0</td>\n",
              "      <td>9999.0</td>\n",
              "      <td>9999.0</td>\n",
              "      <td>9999.0</td>\n",
              "      <td>9999</td>\n",
              "      <td>9999</td>\n",
              "      <td>9999</td>\n",
              "      <td>9999.0</td>\n",
              "      <td>9999</td>\n",
              "      <td>9999.0</td>\n",
              "    </tr>\n",
              "  </tbody>\n",
              "</table>\n",
              "<p>3 rows × 284 columns</p>\n",
              "</div>\n",
              "    <div class=\"colab-df-buttons\">\n",
              "\n",
              "  <div class=\"colab-df-container\">\n",
              "    <button class=\"colab-df-convert\" onclick=\"convertToInteractive('df-7a259f9f-fbb4-48d9-b337-9db3579c3897')\"\n",
              "            title=\"Convert this dataframe to an interactive table.\"\n",
              "            style=\"display:none;\">\n",
              "\n",
              "  <svg xmlns=\"http://www.w3.org/2000/svg\" height=\"24px\" viewBox=\"0 -960 960 960\">\n",
              "    <path d=\"M120-120v-720h720v720H120Zm60-500h600v-160H180v160Zm220 220h160v-160H400v160Zm0 220h160v-160H400v160ZM180-400h160v-160H180v160Zm440 0h160v-160H620v160ZM180-180h160v-160H180v160Zm440 0h160v-160H620v160Z\"/>\n",
              "  </svg>\n",
              "    </button>\n",
              "\n",
              "  <style>\n",
              "    .colab-df-container {\n",
              "      display:flex;\n",
              "      gap: 12px;\n",
              "    }\n",
              "\n",
              "    .colab-df-convert {\n",
              "      background-color: #E8F0FE;\n",
              "      border: none;\n",
              "      border-radius: 50%;\n",
              "      cursor: pointer;\n",
              "      display: none;\n",
              "      fill: #1967D2;\n",
              "      height: 32px;\n",
              "      padding: 0 0 0 0;\n",
              "      width: 32px;\n",
              "    }\n",
              "\n",
              "    .colab-df-convert:hover {\n",
              "      background-color: #E2EBFA;\n",
              "      box-shadow: 0px 1px 2px rgba(60, 64, 67, 0.3), 0px 1px 3px 1px rgba(60, 64, 67, 0.15);\n",
              "      fill: #174EA6;\n",
              "    }\n",
              "\n",
              "    .colab-df-buttons div {\n",
              "      margin-bottom: 4px;\n",
              "    }\n",
              "\n",
              "    [theme=dark] .colab-df-convert {\n",
              "      background-color: #3B4455;\n",
              "      fill: #D2E3FC;\n",
              "    }\n",
              "\n",
              "    [theme=dark] .colab-df-convert:hover {\n",
              "      background-color: #434B5C;\n",
              "      box-shadow: 0px 1px 3px 1px rgba(0, 0, 0, 0.15);\n",
              "      filter: drop-shadow(0px 1px 2px rgba(0, 0, 0, 0.3));\n",
              "      fill: #FFFFFF;\n",
              "    }\n",
              "  </style>\n",
              "\n",
              "    <script>\n",
              "      const buttonEl =\n",
              "        document.querySelector('#df-7a259f9f-fbb4-48d9-b337-9db3579c3897 button.colab-df-convert');\n",
              "      buttonEl.style.display =\n",
              "        google.colab.kernel.accessAllowed ? 'block' : 'none';\n",
              "\n",
              "      async function convertToInteractive(key) {\n",
              "        const element = document.querySelector('#df-7a259f9f-fbb4-48d9-b337-9db3579c3897');\n",
              "        const dataTable =\n",
              "          await google.colab.kernel.invokeFunction('convertToInteractive',\n",
              "                                                    [key], {});\n",
              "        if (!dataTable) return;\n",
              "\n",
              "        const docLinkHtml = 'Like what you see? Visit the ' +\n",
              "          '<a target=\"_blank\" href=https://colab.research.google.com/notebooks/data_table.ipynb>data table notebook</a>'\n",
              "          + ' to learn more about interactive tables.';\n",
              "        element.innerHTML = '';\n",
              "        dataTable['output_type'] = 'display_data';\n",
              "        await google.colab.output.renderOutput(dataTable, element);\n",
              "        const docLink = document.createElement('div');\n",
              "        docLink.innerHTML = docLinkHtml;\n",
              "        element.appendChild(docLink);\n",
              "      }\n",
              "    </script>\n",
              "  </div>\n",
              "\n",
              "\n",
              "    <div id=\"df-d044677c-ff0e-4431-9fad-c5250d06914b\">\n",
              "      <button class=\"colab-df-quickchart\" onclick=\"quickchart('df-d044677c-ff0e-4431-9fad-c5250d06914b')\"\n",
              "                title=\"Suggest charts\"\n",
              "                style=\"display:none;\">\n",
              "\n",
              "<svg xmlns=\"http://www.w3.org/2000/svg\" height=\"24px\"viewBox=\"0 0 24 24\"\n",
              "     width=\"24px\">\n",
              "    <g>\n",
              "        <path d=\"M19 3H5c-1.1 0-2 .9-2 2v14c0 1.1.9 2 2 2h14c1.1 0 2-.9 2-2V5c0-1.1-.9-2-2-2zM9 17H7v-7h2v7zm4 0h-2V7h2v10zm4 0h-2v-4h2v4z\"/>\n",
              "    </g>\n",
              "</svg>\n",
              "      </button>\n",
              "\n",
              "<style>\n",
              "  .colab-df-quickchart {\n",
              "      --bg-color: #E8F0FE;\n",
              "      --fill-color: #1967D2;\n",
              "      --hover-bg-color: #E2EBFA;\n",
              "      --hover-fill-color: #174EA6;\n",
              "      --disabled-fill-color: #AAA;\n",
              "      --disabled-bg-color: #DDD;\n",
              "  }\n",
              "\n",
              "  [theme=dark] .colab-df-quickchart {\n",
              "      --bg-color: #3B4455;\n",
              "      --fill-color: #D2E3FC;\n",
              "      --hover-bg-color: #434B5C;\n",
              "      --hover-fill-color: #FFFFFF;\n",
              "      --disabled-bg-color: #3B4455;\n",
              "      --disabled-fill-color: #666;\n",
              "  }\n",
              "\n",
              "  .colab-df-quickchart {\n",
              "    background-color: var(--bg-color);\n",
              "    border: none;\n",
              "    border-radius: 50%;\n",
              "    cursor: pointer;\n",
              "    display: none;\n",
              "    fill: var(--fill-color);\n",
              "    height: 32px;\n",
              "    padding: 0;\n",
              "    width: 32px;\n",
              "  }\n",
              "\n",
              "  .colab-df-quickchart:hover {\n",
              "    background-color: var(--hover-bg-color);\n",
              "    box-shadow: 0 1px 2px rgba(60, 64, 67, 0.3), 0 1px 3px 1px rgba(60, 64, 67, 0.15);\n",
              "    fill: var(--button-hover-fill-color);\n",
              "  }\n",
              "\n",
              "  .colab-df-quickchart-complete:disabled,\n",
              "  .colab-df-quickchart-complete:disabled:hover {\n",
              "    background-color: var(--disabled-bg-color);\n",
              "    fill: var(--disabled-fill-color);\n",
              "    box-shadow: none;\n",
              "  }\n",
              "\n",
              "  .colab-df-spinner {\n",
              "    border: 2px solid var(--fill-color);\n",
              "    border-color: transparent;\n",
              "    border-bottom-color: var(--fill-color);\n",
              "    animation:\n",
              "      spin 1s steps(1) infinite;\n",
              "  }\n",
              "\n",
              "  @keyframes spin {\n",
              "    0% {\n",
              "      border-color: transparent;\n",
              "      border-bottom-color: var(--fill-color);\n",
              "      border-left-color: var(--fill-color);\n",
              "    }\n",
              "    20% {\n",
              "      border-color: transparent;\n",
              "      border-left-color: var(--fill-color);\n",
              "      border-top-color: var(--fill-color);\n",
              "    }\n",
              "    30% {\n",
              "      border-color: transparent;\n",
              "      border-left-color: var(--fill-color);\n",
              "      border-top-color: var(--fill-color);\n",
              "      border-right-color: var(--fill-color);\n",
              "    }\n",
              "    40% {\n",
              "      border-color: transparent;\n",
              "      border-right-color: var(--fill-color);\n",
              "      border-top-color: var(--fill-color);\n",
              "    }\n",
              "    60% {\n",
              "      border-color: transparent;\n",
              "      border-right-color: var(--fill-color);\n",
              "    }\n",
              "    80% {\n",
              "      border-color: transparent;\n",
              "      border-right-color: var(--fill-color);\n",
              "      border-bottom-color: var(--fill-color);\n",
              "    }\n",
              "    90% {\n",
              "      border-color: transparent;\n",
              "      border-bottom-color: var(--fill-color);\n",
              "    }\n",
              "  }\n",
              "</style>\n",
              "\n",
              "      <script>\n",
              "        async function quickchart(key) {\n",
              "          const quickchartButtonEl =\n",
              "            document.querySelector('#' + key + ' button');\n",
              "          quickchartButtonEl.disabled = true;  // To prevent multiple clicks.\n",
              "          quickchartButtonEl.classList.add('colab-df-spinner');\n",
              "          try {\n",
              "            const charts = await google.colab.kernel.invokeFunction(\n",
              "                'suggestCharts', [key], {});\n",
              "          } catch (error) {\n",
              "            console.error('Error during call to suggestCharts:', error);\n",
              "          }\n",
              "          quickchartButtonEl.classList.remove('colab-df-spinner');\n",
              "          quickchartButtonEl.classList.add('colab-df-quickchart-complete');\n",
              "        }\n",
              "        (() => {\n",
              "          let quickchartButtonEl =\n",
              "            document.querySelector('#df-d044677c-ff0e-4431-9fad-c5250d06914b button');\n",
              "          quickchartButtonEl.style.display =\n",
              "            google.colab.kernel.accessAllowed ? 'block' : 'none';\n",
              "        })();\n",
              "      </script>\n",
              "    </div>\n",
              "\n",
              "    </div>\n",
              "  </div>\n"
            ],
            "application/vnd.google.colaboratory.intrinsic+json": {
              "type": "dataframe"
            }
          },
          "metadata": {},
          "execution_count": 320
        }
      ],
      "source": [
        "df_trashepatico = pd.read_excel(path)\n",
        "df_original = pd.read_excel(path, index_col=0)\n",
        "df_original.sample(3)"
      ]
    },
    {
      "cell_type": "code",
      "execution_count": 321,
      "id": "709504ca",
      "metadata": {
        "id": "709504ca",
        "outputId": "34dd68f5-6c93-4a8c-b682-54023dbcc294",
        "colab": {
          "base_uri": "https://localhost:8080/"
        }
      },
      "outputs": [
        {
          "output_type": "stream",
          "name": "stdout",
          "text": [
            "La base de datos tiene 284 columnas y 736 filas.\n"
          ]
        }
      ],
      "source": [
        "print(f'La base de datos tiene {df_original.shape[1]} columnas y {df_original.shape[0]} filas.')"
      ]
    },
    {
      "cell_type": "markdown",
      "id": "02b795f9",
      "metadata": {
        "id": "02b795f9"
      },
      "source": [
        "A partir del diccionario y al revisar el comportamiento del dataframe, podemos concluir que los valores de 9999 corresponden a datos nulos.\n",
        "\n",
        "Por esto, <span style=\"color:red\">se remplazaran como valores perdidos con el fin de tener un cálculo mas preciso de completitud de la información </span>"
      ]
    },
    {
      "cell_type": "code",
      "execution_count": 322,
      "id": "a2254ab0",
      "metadata": {
        "id": "a2254ab0"
      },
      "outputs": [],
      "source": [
        "valores_nulos=[9999, 9999.0, '9999',999,99999,'8888.0',8888.0 ]"
      ]
    },
    {
      "cell_type": "code",
      "execution_count": 323,
      "id": "d91a3032",
      "metadata": {
        "id": "d91a3032",
        "outputId": "c5b19f3b-2c77-4dcc-86ee-d2b60befdb07",
        "colab": {
          "base_uri": "https://localhost:8080/"
        }
      },
      "outputs": [
        {
          "output_type": "stream",
          "name": "stderr",
          "text": [
            "/tmp/ipython-input-753223659.py:1: FutureWarning: Downcasting behavior in `replace` is deprecated and will be removed in a future version. To retain the old behavior, explicitly call `result.infer_objects(copy=False)`. To opt-in to the future behavior, set `pd.set_option('future.no_silent_downcasting', True)`\n",
            "  df = df_original.replace(\n"
          ]
        }
      ],
      "source": [
        "df = df_original.replace(\n",
        "    valores_nulos,\n",
        "    np.nan)"
      ]
    },
    {
      "cell_type": "markdown",
      "id": "69cbf975",
      "metadata": {
        "id": "69cbf975"
      },
      "source": [
        "Adicionalmente, se eliminarán espacios vacíos al inicio y final de los nombres de las columnas"
      ]
    },
    {
      "cell_type": "code",
      "execution_count": 324,
      "id": "5c84aa5b",
      "metadata": {
        "id": "5c84aa5b"
      },
      "outputs": [],
      "source": [
        "df.columns = df.columns.str.strip()"
      ]
    },
    {
      "cell_type": "markdown",
      "id": "3ccd288a",
      "metadata": {
        "id": "3ccd288a"
      },
      "source": [
        "Se validará el número de datos nulos presentes en las columnas"
      ]
    },
    {
      "cell_type": "code",
      "execution_count": 325,
      "id": "71f7a641",
      "metadata": {
        "id": "71f7a641",
        "outputId": "1ff4772f-2224-44f4-87ca-5bd4a808405a",
        "colab": {
          "base_uri": "https://localhost:8080/",
          "height": 335
        }
      },
      "outputs": [
        {
          "output_type": "execute_result",
          "data": {
            "text/plain": [
              "Año_Tx                                0\n",
              "Mes_Tx#1                              0\n",
              "Fecha_Tx                              0\n",
              "Edad_Al_Tx                            0\n",
              "Sexo_Receptor                         0\n",
              "Código de anonimización               0\n",
              "Año_Tx2 (si no retx, poner año tx)    0\n",
              "Año_Tx#3                              0\n",
              "dtype: int64"
            ],
            "text/html": [
              "<div>\n",
              "<style scoped>\n",
              "    .dataframe tbody tr th:only-of-type {\n",
              "        vertical-align: middle;\n",
              "    }\n",
              "\n",
              "    .dataframe tbody tr th {\n",
              "        vertical-align: top;\n",
              "    }\n",
              "\n",
              "    .dataframe thead th {\n",
              "        text-align: right;\n",
              "    }\n",
              "</style>\n",
              "<table border=\"1\" class=\"dataframe\">\n",
              "  <thead>\n",
              "    <tr style=\"text-align: right;\">\n",
              "      <th></th>\n",
              "      <th>0</th>\n",
              "    </tr>\n",
              "  </thead>\n",
              "  <tbody>\n",
              "    <tr>\n",
              "      <th>Año_Tx</th>\n",
              "      <td>0</td>\n",
              "    </tr>\n",
              "    <tr>\n",
              "      <th>Mes_Tx#1</th>\n",
              "      <td>0</td>\n",
              "    </tr>\n",
              "    <tr>\n",
              "      <th>Fecha_Tx</th>\n",
              "      <td>0</td>\n",
              "    </tr>\n",
              "    <tr>\n",
              "      <th>Edad_Al_Tx</th>\n",
              "      <td>0</td>\n",
              "    </tr>\n",
              "    <tr>\n",
              "      <th>Sexo_Receptor</th>\n",
              "      <td>0</td>\n",
              "    </tr>\n",
              "    <tr>\n",
              "      <th>Código de anonimización</th>\n",
              "      <td>0</td>\n",
              "    </tr>\n",
              "    <tr>\n",
              "      <th>Año_Tx2 (si no retx, poner año tx)</th>\n",
              "      <td>0</td>\n",
              "    </tr>\n",
              "    <tr>\n",
              "      <th>Año_Tx#3</th>\n",
              "      <td>0</td>\n",
              "    </tr>\n",
              "  </tbody>\n",
              "</table>\n",
              "</div><br><label><b>dtype:</b> int64</label>"
            ]
          },
          "metadata": {},
          "execution_count": 325
        }
      ],
      "source": [
        "null_count = df.isnull().sum()\n",
        "null_count[null_count==0]"
      ]
    },
    {
      "cell_type": "code",
      "execution_count": 326,
      "id": "43f2ace9",
      "metadata": {
        "id": "43f2ace9",
        "outputId": "7224a19e-78ce-40c2-e832-8b9d056c9471",
        "colab": {
          "base_uri": "https://localhost:8080/"
        }
      },
      "outputs": [
        {
          "output_type": "execute_result",
          "data": {
            "text/plain": [
              "(59,)"
            ]
          },
          "metadata": {},
          "execution_count": 326
        }
      ],
      "source": [
        "# Miraremos cuántas filas tienen más del 95% de datos nulos\n",
        "null_count[null_count>700].shape"
      ]
    },
    {
      "cell_type": "markdown",
      "id": "41492c00",
      "metadata": {
        "id": "41492c00"
      },
      "source": [
        "De las 286 variables vemos que solo 8 tienen todos los datos, y 59 tienen más del 95% de los datos como valores nulos."
      ]
    },
    {
      "cell_type": "markdown",
      "id": "22de6f14",
      "metadata": {
        "id": "22de6f14"
      },
      "source": [
        "### Selección de variables de interés\n",
        "\n",
        "Dado el elevado número de variables y la poca completitud de las mismas se decidió trabajar con un subconjunto de las variables.\n",
        "\n",
        "Para esto, se usaron los siguientes criterios de selección:\n",
        "- **Completitud de los datos**: el número de valores no nulos\n",
        "- **Variabilidad de los datos**: el número de veces que se repite un dato en una columna. La idea es evitar las columnas donde la muestra puede estar desbalanceada\n",
        "- **Concepto del experto**: el experto indicó que variables considera que se deben priorizar en el análisis\n",
        "\n",
        "Adicionalmente, se dividieron las variables en las siguientes categorías:\n",
        "- **Identificación del paciente**\n",
        "- **Transplante y cirugía**\n",
        "- **Hepatocarcinoma y cáncer**\n",
        "- **Scores clínicos**\n",
        "- **Comorbilidades y antecedentes**\n",
        "- **Evaluaciones diagnósticas**\n",
        "- **Seguimiento y sobrevida**\n",
        "- **Postoperatorio y complicaciones**\n",
        "- **Otras**\n",
        "\n",
        "De este proceso se seleccionaron 108 variables\n"
      ]
    },
    {
      "cell_type": "code",
      "execution_count": 327,
      "id": "a65e4e11",
      "metadata": {
        "id": "a65e4e11"
      },
      "outputs": [],
      "source": [
        "selected_columns = [\n",
        "    \"Año_Tx\",\n",
        "    \"Mes_Tx#1\",\n",
        "    \"Edad_Al_Tx\",\n",
        "    \"Tiempo_En_Lista_Días\",\n",
        "    \"Tiempo_En_Lista_Meses\",\n",
        "    \"Tiempo_En_Lista_Años\",\n",
        "    \"Sexo_Receptor\",\n",
        "    \"EPS\",\n",
        "    \"Causa_1_Tx_Hepático_\",\n",
        "    \"Causa_2_Tx_Hepático_\",\n",
        "    \"Hepatocarcinoma\",\n",
        "    \"Child_Pugh_Letra\",\n",
        "    \"MELD_Score\",\n",
        "    \"Causa_Tx_Renal\",\n",
        "    \"Peso_Pre_Tx\",\n",
        "    \"BMI\",\n",
        "    \"Composición_Corporal\",\n",
        "    \"Falla_Cardiaca_Pre_Tx\",\n",
        "    \"Antecedente_De_Tabaquismo\",\n",
        "    \"Antecedente_De_Alcoholismo\",\n",
        "    \"Enfermedad_Coronaria_Pre_Tx\",\n",
        "    \"Infarto_Cardiaco_Pre_Tx\",\n",
        "    \"Diabetes_Mellitus_Pre_Tx\",\n",
        "    \"Hipertensión_Arterial_Pre_Tx\",\n",
        "    \"Colesterol_TotalPre_Tx\",\n",
        "    \"LDL_Pre_Tx\",\n",
        "    \"HDL_Pre_Tx\",\n",
        "    \"Triglicéridos_Pre_Tx\",\n",
        "    \"Dislipidemia_Pre_Tx\",\n",
        "    \"MDRD_Categórico_PreTx\",\n",
        "    \"CMV_Receptor\",\n",
        "    \"EKG_PreQx\",\n",
        "    \"EKG_PreQx_Valor\",\n",
        "    \"Valvulopatía_Pre_Tx\",\n",
        "    \"Ecocardiograma_PreQx_FE%\",\n",
        "    \"Ecocardiograma_PreQx-FE_Cod\",\n",
        "    \"Ecocardiograma_PreQx_RC%\",\n",
        "    \"Ecocardiograma_PreQx_RC\",\n",
        "    \"Ecocardiograma_PreQx_Hipertensión_Pulmonar\",\n",
        "    \"Ecocardiograma_PreQx_TAPSE\",\n",
        "    \"Ecocardiograma_PreQx_TASVE\",\n",
        "    \"Ecocardiograma_PreQx_Disfunción_Diastólica\",\n",
        "    \"METS\",\n",
        "    \"Tx#1\",\n",
        "    \"Edad_Donante_Tx#1\",\n",
        "    \"Sexo_Donante_Tx#1\",\n",
        "    \"Causa_Muerte_Donante_Tx#1\",\n",
        "    \"Tipo_de_Cx-Trasplante_Tx#1\",\n",
        "    \"Trasplante_Combinado-Hígado-Riñón_Tx#1\",\n",
        "    \"#_Unidades_Glóbulos_Rojos_Tx#1\",\n",
        "    \"#_Unidades_Plasma_Fresco_Congelado_Tx#1\",\n",
        "    \"#_Unidades_Crioprecipitados_Tx#1\",\n",
        "    \"#_Unidades_Plaquetas_Tx#1\",\n",
        "    \"Tiempo_Quirúrgico_Tx#1\",\n",
        "    \"Antibiótico_Profiláctico_VS_Terapéutico\",\n",
        "    \"Días_Tratamiento_Antibiótico_Previo_A_Tx#1\",\n",
        "    \"Tiempo_De_Dosis_Hasta_Tx#1\",\n",
        "    \"Tiempo_Sonda_Vesical\",\n",
        "    \"Tiempo_CVC\",\n",
        "    \"Soporte_Vasopresor_PeriTx\",\n",
        "    \"Levosimendan_PeriTx\",\n",
        "    \"Noradrenalina_PeriTx\",\n",
        "    \"Adrenalina_PeriTx\",\n",
        "    \"Vasopresina_PeriTx\",\n",
        "    \"Dopamina_PeriTx\",\n",
        "    \"Amiodarona_PeriTx\",\n",
        "    \"Stent\",\n",
        "    \"Requirió_Reconstrucción_Biliar\",\n",
        "    \"Profilaxis_Antitrombótica\",\n",
        "    \"Días_de_Profilaxis_Antitrombótica\",\n",
        "    \"Fast_Track\",\n",
        "    \"Días_En_UCI\",\n",
        "    \"Días_En_Hospitalización_Piso\",\n",
        "    \"Días_Totales_Intrahospitalarios\",\n",
        "    \"Fecha_Egreso_UCI\",\n",
        "    \"Fecha_Egreso_Hospitalario\",\n",
        "    \"¿Complicación?\",\n",
        "    \"#_De_Complicaciones\",\n",
        "    \"Tipo_De_Complicación_1\",\n",
        "    \"Rechazo_Agudo\",\n",
        "    \"Severidad_Rechazo_Agudo\",\n",
        "    \"Rechazo_Crónico\",\n",
        "    \"Infección_POP\",\n",
        "    \"Tipo_Infección_1\",\n",
        "    \"Germen_1\",\n",
        "    \"Tiempo_Desde_Tx_Infección_1\",\n",
        "    \"Falla_Cardiaca_POP\",\n",
        "    \"Arritmia_POP\",\n",
        "    \"Infarto_POP\",\n",
        "    \"EKG_VALOR_POP\",\n",
        "    \"Ecocardiograma_POP_FE%\",\n",
        "    \"Ecocardiograma_POP_PASP\",\n",
        "    \"Ecocardiograma_POP_Otros\",\n",
        "    \"Retrasplante\",\n",
        "    \"Indicación_Retrasplante\",\n",
        "    \"Año_Tx2 (si no retx, poner año tx)\",\n",
        "    \"Re_Re trasplante\",\n",
        "    \"Indicación_Re_Re_trasplante\",\n",
        "    \"PTLD\",\n",
        "    \"Neoplasia_PostTx\",\n",
        "    \"Grado_HCC\",\n",
        "    \"Estadio\",\n",
        "    \"Sobrevida_PeriQx_30_días_POP\",\n",
        "    \"Vivo_Hoy\",\n",
        "    \"Fecha_Control/Muerte\",\n",
        "    \"Sobrevida_Días\",\n",
        "    \"Sobrevida_Meses\",\n",
        "    \"Sobrevida_Años\",\n",
        "    \"Causa_De_Muerte\",\n",
        "    \"Complicación_Asociada\",\n",
        "    \"Fecha-Enlistamiento\",\n",
        "    \"αFP_PreTx\",\n",
        "    \"αFP_Al_Dx\",\n",
        "    \"Tiempo_Isquemia_Fría_Tx#1\",\n",
        "    \"Días_Sobrevida_Injerto_#1\",\n",
        "    \"Meses_Sobrevida_Injerto_#1\",\n",
        "    \"Años_Sobrevida_Injerto_#1\",\n",
        "    \"Diámetro_Nódulo_Principal_(cm)_Al_Dx\",\n",
        "    \"Ki67\",\n",
        "    \"#_Nódulos_Al_Dx\"\n",
        "]"
      ]
    },
    {
      "cell_type": "code",
      "execution_count": 328,
      "id": "bdaea1be",
      "metadata": {
        "id": "bdaea1be"
      },
      "outputs": [],
      "source": [
        "categorias = {\n",
        "    'Identificación del paciente': ['#_Paciente',\t'Edad_Al_Tx',\t'Sexo_Receptor',\n",
        "    'Código de anonimización ',\t'Fecha_nacimiento',\t'EPS',\t'Grupo_Sanguíneo_Receptor',\t'RH_Receptor',\n",
        "    'COD_Grupo_Sanguíneo_Receptor',\t'COD_RH_Receptor',\t'Fecha-Enlistamiento',\n",
        "    'Tiempo_En_Lista_Días',\t'Tiempo_En_Lista_Meses',\t'Tiempo_En_Lista_Años',\n",
        "    'BMI',\t'Composición_Corporal',\t'Enfermedad_Coronaria_Pre_Tx',\n",
        "    'Edad_Donante_Tx#1',\t'Sexo_Donante_Tx#1',\t'Edad_Donante_Tx#2',\n",
        "    'Sexo_Donante_Tx#2',\t'Edad_Donante_Tx#3',\t'Sexo_Donante_Tx#3'\n",
        "    ],\n",
        "\n",
        "    'Trasplante y cirugía': ['Año_Tx',\t'Mes_Tx#1',\t'Fecha_Tx',\t'Causa_1_Tx_Hepático_',\n",
        "    'Causa_2_Tx_Hepático_',\t'Causa_Tx_Renal',\t'Peso_Pre_Tx',\t'Falla_Cardiaca_Pre_Tx',\n",
        "    'Infarto_Cardiaco_Pre_Tx',\t'Diabetes_Mellitus_Pre_Tx',\t'Hipertensión_Arterial_Pre_Tx',\n",
        "    'Colesterol_TotalPre_Tx',\t'LDL_Pre_Tx',\t'HDL_Pre_Tx',\t'Triglicéridos_Pre_Tx',\n",
        "    'Dislipidemia_Pre_Tx',\t'MDRD_Score_Pre_Tx',\t'MDRD_Categórico_PreTx',\n",
        "    'Valvulopatía_Pre_Tx',\t'Tx#1',\t'Causa_Muerte_Donante_Tx#1',\t'CMV_Donante_Tx#1',\n",
        "    'Cirujano_Rescate_1_Tx#1',\t'Cirujano_Rescate_2_Tx#1',\t'Tipo_de_Cx-Trasplante_Tx#1',\n",
        "    'Trasplante_Combinado-Hígado-Riñón_Tx#1',\t'Tiempo_Isquemia_Fría_Tx#1',\n",
        "    'Tiempo_Isquemia_Caliente_Tx#1',\t'Arterialización_Portal',\t'Injerto_Aórtico_Tx#1',\n",
        "    '#_Unidades_Glóbulos_Rojos_Tx#1',\t'#_Unidades_Plasma_Fresco_Congelado_Tx#1',\n",
        "    '#_Unidades_Crioprecipitados_Tx#1',\t'#_Unidades_Plaquetas_Tx#1',\n",
        "    'Tiempo_Quirúrgico_Tx#1',\t'Antibiótico_Profiláctico_VS_Terapéutico',\n",
        "    'Días_Tratamiento_Antibiótico_Previo_A_Tx#1',\t'Antibiótico_1__Tx#1',\t'Antibiótico_2_Tx#1',\n",
        "    'Antibiótico_3_Tx#1',\t'Antifúngico_Tx#1',\t'Tiempo_De_Dosis_Hasta_Tx#1',\t'Cirujano_Principal_Tx#1',\n",
        "    'Cirujano_Ayudante_Tx#1',\t'Fecha_Colocación_Sonda_Vesical',\t'Fecha_Colocación_CVC',\n",
        "    'Soporte_Vasopresor_PeriTx',\t'Levosimendan_PeriTx ',\t'Levosimendam_Dosis',\n",
        "    'Noradrenalina_PeriTx',\t'Noradrenalina_Dosis',\t'Adrenalina_PeriTx',\n",
        "    'Vasopresina_PeriTx',\t'Vasopresina_Dosis',\t'Dopamina_PeriTx',\t'Dopamina_Dosis',\n",
        "    'Amiodarona_PeriTx',\t'Amiodarona_Dosis',\t'Tx_Soporte_Inotrópico',\n",
        "    'Retrasplante',\t'Indicación_Retrasplante',\t'Fecha-Enlistamiento_Tx#2',\n",
        "    'Año_Tx2 (si no retx, poner año tx)',\t'Fecha_Tx#2',\t'Mes_Tx#2',\t'Días_Reenlistado_Tx#2',\n",
        "    'Días_Desde_Tx#1',\t'Causa_Muerte_Donante_Tx#2',\t'CMV_Donante_Tx#0',\t'Cirujano_Rescate_1_Tx#2',\n",
        "    'Cirujano_Rescate_2_Tx#2',\t'Tipo_de_Cx-Trasplante_Tx#2',\t'Tiempo_Isquemia_Fría_Tx#2',\t'Tiempo_Isquemia_Caliente_Tx#2',\n",
        "    'Injerto_Aórtico_Tx#2',\t'#_Unidades_Glóbulos_Rojos_Tx#2',\t'#_Unidades_Plasma_Fresco_Congelado_Tx#2',\n",
        "    '#_Unidades_Crioprecipitados_Tx#2',\t'#_Unidades_Plaquetas_Tx#2',\t'Tiempo_Quirúrgico_Tx#2',\n",
        "    'Días_Tratamiento_Antibiótico_Previo_A_Tx#2',\t'Antibiótico_1_Tx#2',\t'Antibiótico_2_Tx#2',\n",
        "    'Antibiótico_3_Tx#2',\t'Antifúngico_Tx#2',\t'Segunda_Dosis_Tx#2',\t'Tiempo_De_Dosis_Hasta_Tx#2',\n",
        "    'Cirujano_Principal_Tx#2',\t'Cirujano_Ayudante_Tx#2',\t'Re_Re trasplante',\t'Indicación_Re_Re_trasplante',\n",
        "    'Fecha-Enlistamiento_Tx#3',\t'Año_Tx#3',\t'Fecha_Tx#3',\t'Mes_Tx#3',\t'Días_Reenlistado_Tx#3',\t'Días_Desde_Tx#1',\t'Causa_Muerte_Donante_Tx#3',\n",
        "    'CMV_Donante_Tx#3',\t'Cirujano_Rescate_1_Tx#3',\t'Cirujano_Rescate_2_Tx#3',\t'Tipo_de_Cx-Trasplante_Tx#3',\t'Tiempo_Isquemia_Fría_Tx#3',\t'Tiempo_Isquemia_Caliente_Tx#3',\n",
        "    'Injerto_Aórtico_Tx#3',\t'#_Unidades_Glóbulos_Rojos_Tx#3',\t'#_Unidades_Plasma_Fresco_Congelado_Tx#3',\t'#_Unidades_Crioprecipitados_Tx#3',\t'#_Unidades_Plaquetas_Tx#3',\n",
        "    'Tiempo_Quirúrgico_Tx#3',\t'Cirujano_Principal_Tx#3',\t'Cirujano_Ayudante_Tx#3',\t'Años_Desde_El_Tx',\t'Fecha_Tx_A_PTLD',\t'Tiempo_Tx_A_PTLD',\t'Neoplasia_PostTx',\t'Fecha_Neoplasia_PostTx',\n",
        "    'Tiempo_Tx_A_Neoplasia_PostTx',\t'Fecha_última_Terapia_Local_PreTx',\t'αFP_PreTx',\t'Ca-19-9_PreTx',\t'Neutrófilos_PreTx',\t'Plaquetas_PreTx',\t'Linfocitos_PreTx',\t'αFP_1m_PostTx',\n",
        "    'αFP_6m_PostTx',\t'αFP_1año_PostTx'\n",
        "    ],\n",
        "\n",
        "    'Hepatocarcinoma y cáncer': ['Hepatocarcinoma',\t'Hepatocarcinoma',\t'αFP_Al_Dx',\t'#_Nódulos_Al_Dx',\t'Diámetro_Nódulo_Principal_(cm)_Al_Dx',\n",
        "    'Sumatoria_#Nódulos_y_Diámetros_Al_Dx',\t'Cumple_Milán',\t'Cumple_UCSF',\t'Cumple_Up_To_Seven',\t'Terapia_Local_1',\t'Terapia_Local_2',\t'#_Sesiones',\t'Patrón_Histológico',\n",
        "    'Grado_HCC',\t'Invasión_Vascular',\t'Trombosis_Porta_Tumoral',\t'Invasión_Linfática',\t'Invasión_Nerviosa',\t'Necrosis_Tumoral',\t'#Nódulos_Viables',\t'Diámetro_Tumor_Viable_Más_Grande_Patología',\n",
        "    'Sumatoria_Nódulos_Viables_y_Diámetro_Tumor_Más_Grande_Patología',\t'Ki67',\t'Mitosis',\t'p53',\t'αFP_Patología',\t'T',\t'N',\t'M',\t'Estadio',\n",
        "\n",
        "    ],\n",
        "\n",
        "    'Scores clínicos': ['Child_Pugh_Letra',\t'MELD_Score',\t'PREMORAL_Valor',\t'PREMORAL_Categoría',\t'POSTMORAL_Valor',\t'POSTMORAL_Categoría',\t'RETREAT_Valor',\t'COMBOMORAL_Valor',\t'COMBOMORAL_Categoría'\n",
        "    ],\n",
        "\n",
        "    'Comorbilidades y antecedentes': ['Antecedente_De_Tabaquismo',\t'Antecedente_De_Alcoholismo',\t'Ecocardiograma_PreQx_Hipertensión_Pulmonar',\t'Andrenalina_Dois',\t'Falla_Cardiaca_POP'\n",
        "    ],\n",
        "\n",
        "    'Evaluaciones diagnósticas': ['CMV_Receptor',\t'EKG_PreQx',\t'EKG_PreQx_Valor',\t'Ecocardiograma_PreQx_FE%',\t'Ecocardiograma_PreQx-FE_Cod',\t'Ecocardiograma_PreQx_RC%',\t'Ecocardiograma_PreQx_RC',\n",
        "    'Ecocardiograma_PreQxPSAP',\t'Ecocardiograma_PreQx_TAPSE ',\t'Ecocardiograma_PreQx_TASVE',\t'Ecocardiograma_PreQx_Disfunción_Diastólica',\t'METS',\t'EKG_VALOR_POP',\t'Ecocardiograma_POP_FE%',\n",
        "    'Ecocardiograma_POP_PASP',\t'Ecocardiograma_POP_Otros',\t'NLR',\t'PLR'\n",
        "    ],\n",
        "\n",
        "    'Seguimiento y sobrevida': [\n",
        "       'Fecha_Retiro_Sonda_Vesical',\t'Tiempo_Sonda_Vesical',\t'Fecha_Retiro_CVC',\t'Tiempo_CVC',\t'Días_de_Profilaxis_Antitrombótica',\t'Días_En_Hospitalización_Piso',\t'Días_Totales_Intrahospitalarios',\t'Vivo_Hoy',\t'Fecha_Control/Muerte',\t'Sobrevida_Días',\t'Sobrevida_Meses',\t'Sobrevida_Años',\t'Último_Análisis_De_Mortalidad',\t'Causa_De_Muerte',\t'Sobrevida_Injerto_#1',\t'Control_Injerto_#1',\t'Días_Sobrevida_Injerto_#1',\t'Meses_Sobrevida_Injerto_#1',\t'Años_Sobrevida_Injerto_#1',\t'Sobrevida_Injerto_#2',\t'Control_Injerto_#2',\t'Días_Sobrevida_Injerto_#2',\t'Meses_Sobrevida_Injerto_#2',\t'Años_Sobrevida_Injerto_#2',\t'Sobrevida_Injerto_#3',\t'Control_Injerto_#3',\t'Días_Sobrevida_Injerto_#3',\t'Meses_Sobrevida_Injerto_#3',\t'Años_Sobrevida_Injerto_#3',\t'PTLD',\t'Recurrencia_ HCC',\t'Fecha_Recurrencia',\t'Lugar_De_Recurrencia',\n",
        "\n",
        "    ],\n",
        "\n",
        "    'Postoperatorio y complicaciones': ['Bilirrubina_Total_POP',\t'COD_ Bilirrubina_Total_POP',\t'Bilirrubina_Directa_POP',\t'COD_Bilirrubina_Directa',\t'¿Complicación?',\t'#_De_Complicaciones',\t'Tipo_De_Complicación_1',\n",
        "    'Inmunosupresor_1',\t'Inmunosupresor_2',\t'Inmunosupresión_con_Anticuerpos',\t'Rechazo_Agudo',\t'Severidad_Rechazo_Agudo',\t'Rechazo_Crónico',\t'Infección_POP',\t'Tipo_Infección_1',\t'Germen_1',\t'Fecha_Infección_1',\n",
        "    'Tiempo_Desde_Tx_Infección_1',\t'Tipo_Infección_2',\t'Germen_2',\t'Fecha_Infección_2',\t'Tiempo_Desde_Tx_Infección_2',\t'Tipo_Infección_3',\t'Germen_3',\t'Fecha_Infección_3',\t'Tiempo_Desde_Tx_Infección_3',\t'Stent',\n",
        "    'Requirió_Reconstrucción_Biliar',\t'Fecha_Reconstrucción_Biliar',\t'Tiempo_Reconstrucción_Biliar',\t'Profilaxis_Antitrombótica',\t'Medicamento_Antitrombótica',\t'Arritmia_POP',\t'Infarto_POP',\t'Fast_Track',\n",
        "    'Días_En_UCI',\t'Fecha_Egreso_UCI ',\t'Fecha_Egreso_Hospitalario',\t'Sobrevida_PeriQx_30_días_POP',\t'Complicación_Asociada'\n",
        "    ]\n",
        "}"
      ]
    },
    {
      "cell_type": "code",
      "execution_count": 329,
      "id": "6154a35e",
      "metadata": {
        "id": "6154a35e",
        "outputId": "aad16086-cf82-4bb7-aa1e-976b3a80d3d4",
        "colab": {
          "base_uri": "https://localhost:8080/",
          "height": 398
        }
      },
      "outputs": [
        {
          "output_type": "execute_result",
          "data": {
            "text/plain": [
              "Categoría\n",
              "Trasplante y cirugía               43\n",
              "Postoperatorio y complicaciones    20\n",
              "Seguimiento y sobrevida            15\n",
              "Evaluaciones diagnósticas          14\n",
              "Identificación del paciente        12\n",
              "Hepatocarcinoma y cáncer            7\n",
              "Comorbilidades y antecedentes       4\n",
              "Otras / No clasificadas             3\n",
              "Scores clínicos                     2\n",
              "dtype: int64"
            ],
            "text/html": [
              "<div>\n",
              "<style scoped>\n",
              "    .dataframe tbody tr th:only-of-type {\n",
              "        vertical-align: middle;\n",
              "    }\n",
              "\n",
              "    .dataframe tbody tr th {\n",
              "        vertical-align: top;\n",
              "    }\n",
              "\n",
              "    .dataframe thead th {\n",
              "        text-align: right;\n",
              "    }\n",
              "</style>\n",
              "<table border=\"1\" class=\"dataframe\">\n",
              "  <thead>\n",
              "    <tr style=\"text-align: right;\">\n",
              "      <th></th>\n",
              "      <th>0</th>\n",
              "    </tr>\n",
              "    <tr>\n",
              "      <th>Categoría</th>\n",
              "      <th></th>\n",
              "    </tr>\n",
              "  </thead>\n",
              "  <tbody>\n",
              "    <tr>\n",
              "      <th>Trasplante y cirugía</th>\n",
              "      <td>43</td>\n",
              "    </tr>\n",
              "    <tr>\n",
              "      <th>Postoperatorio y complicaciones</th>\n",
              "      <td>20</td>\n",
              "    </tr>\n",
              "    <tr>\n",
              "      <th>Seguimiento y sobrevida</th>\n",
              "      <td>15</td>\n",
              "    </tr>\n",
              "    <tr>\n",
              "      <th>Evaluaciones diagnósticas</th>\n",
              "      <td>14</td>\n",
              "    </tr>\n",
              "    <tr>\n",
              "      <th>Identificación del paciente</th>\n",
              "      <td>12</td>\n",
              "    </tr>\n",
              "    <tr>\n",
              "      <th>Hepatocarcinoma y cáncer</th>\n",
              "      <td>7</td>\n",
              "    </tr>\n",
              "    <tr>\n",
              "      <th>Comorbilidades y antecedentes</th>\n",
              "      <td>4</td>\n",
              "    </tr>\n",
              "    <tr>\n",
              "      <th>Otras / No clasificadas</th>\n",
              "      <td>3</td>\n",
              "    </tr>\n",
              "    <tr>\n",
              "      <th>Scores clínicos</th>\n",
              "      <td>2</td>\n",
              "    </tr>\n",
              "  </tbody>\n",
              "</table>\n",
              "</div><br><label><b>dtype:</b> int64</label>"
            ]
          },
          "metadata": {},
          "execution_count": 329
        }
      ],
      "source": [
        "def clasificar_variable(var):\n",
        "    for categoria, palabras in categorias.items():\n",
        "        if var in palabras:\n",
        "            return categoria\n",
        "    return 'Otras / No clasificadas'\n",
        "\n",
        "df_vars = pd.DataFrame({'Variable': selected_columns})\n",
        "\n",
        "df_vars['Categoría'] = df_vars['Variable'].apply(clasificar_variable)\n",
        "\n",
        "# Vista general\n",
        "df_vars.groupby('Categoría').size().sort_values(ascending=False)"
      ]
    },
    {
      "cell_type": "markdown",
      "id": "be515691",
      "metadata": {
        "id": "be515691"
      },
      "source": [
        "## Etapa 2: Limpieza y enriquecimiento del dataset\n",
        "\n",
        "Se revisará la calidad de cada variable seleccionada. En caso de ser necesario se ajustará"
      ]
    },
    {
      "cell_type": "code",
      "execution_count": 330,
      "id": "64a37af1",
      "metadata": {
        "id": "64a37af1"
      },
      "outputs": [],
      "source": [
        "def ver_datos(data, col_name, categorica=False):\n",
        "    print(data[col_name].describe())\n",
        "    print('--'*10)\n",
        "    print(f'Número de datos nulos: {data[col_name].isnull().sum()}')\n",
        "    if categorica:\n",
        "        print('--'*10)\n",
        "        print(data[col_name].value_counts(dropna=False))"
      ]
    },
    {
      "cell_type": "code",
      "execution_count": 331,
      "id": "073d2cea",
      "metadata": {
        "id": "073d2cea"
      },
      "outputs": [],
      "source": [
        "def limpiar_numericas(data, col_name):\n",
        "    temp = (\n",
        "    data[col_name]\n",
        "    .astype(str)\n",
        "    .str.replace(',', '.', regex=False)\n",
        "    )\n",
        "    data[col_name] = pd.to_numeric(temp, errors='coerce')"
      ]
    },
    {
      "cell_type": "code",
      "execution_count": 332,
      "id": "db3eb2ae",
      "metadata": {
        "id": "db3eb2ae"
      },
      "outputs": [],
      "source": [
        "def parse_date(date, valores_nulos=[]):\n",
        "    if pd.isna(date) or date in valores_nulos:\n",
        "        return pd.NaT\n",
        "    try:\n",
        "        if isinstance(date, int):\n",
        "            return pd.to_datetime(date, origin=\"1899-12-30\", unit=\"D\", errors='coerce')\n",
        "        else:\n",
        "            return pd.to_datetime(date, dayfirst=True, errors='coerce')\n",
        "    except:\n",
        "        return pd.NaT"
      ]
    },
    {
      "cell_type": "markdown",
      "id": "1421ab28",
      "metadata": {
        "id": "1421ab28"
      },
      "source": [
        "### Año_Tx"
      ]
    },
    {
      "cell_type": "code",
      "execution_count": 333,
      "id": "e8102617",
      "metadata": {
        "id": "e8102617",
        "outputId": "316ddaba-1abb-4854-ba59-a4dabb81ad2e",
        "colab": {
          "base_uri": "https://localhost:8080/"
        }
      },
      "outputs": [
        {
          "output_type": "stream",
          "name": "stdout",
          "text": [
            "count     736.000000\n",
            "mean     2013.747283\n",
            "std         6.839958\n",
            "min      1988.000000\n",
            "25%      2009.000000\n",
            "50%      2014.000000\n",
            "75%      2019.000000\n",
            "max      2025.000000\n",
            "Name: Año_Tx, dtype: float64\n",
            "--------------------\n",
            "Número de datos nulos: 0\n"
          ]
        }
      ],
      "source": [
        "ver_datos(df, 'Año_Tx')"
      ]
    },
    {
      "cell_type": "markdown",
      "id": "4cc0f7d1",
      "metadata": {
        "id": "4cc0f7d1"
      },
      "source": [
        "### Mes_Tx#1"
      ]
    },
    {
      "cell_type": "code",
      "execution_count": 334,
      "id": "e10a986a",
      "metadata": {
        "id": "e10a986a",
        "outputId": "5fb0f204-bd20-4c29-bee7-3009b6006b4b",
        "colab": {
          "base_uri": "https://localhost:8080/"
        }
      },
      "outputs": [
        {
          "output_type": "stream",
          "name": "stdout",
          "text": [
            "count    736.000000\n",
            "mean       6.474185\n",
            "std        3.482026\n",
            "min        1.000000\n",
            "25%        3.000000\n",
            "50%        6.000000\n",
            "75%       10.000000\n",
            "max       12.000000\n",
            "Name: Mes_Tx#1, dtype: float64\n",
            "--------------------\n",
            "Número de datos nulos: 0\n"
          ]
        }
      ],
      "source": [
        "ver_datos(df, 'Mes_Tx#1')"
      ]
    },
    {
      "cell_type": "markdown",
      "id": "4aa04207",
      "metadata": {
        "id": "4aa04207"
      },
      "source": [
        "### Edad_Al_Tx"
      ]
    },
    {
      "cell_type": "code",
      "execution_count": 335,
      "id": "a4b000a0",
      "metadata": {
        "id": "a4b000a0",
        "outputId": "a3474efc-c4c9-4de0-9971-c02f26d1efc1",
        "colab": {
          "base_uri": "https://localhost:8080/"
        }
      },
      "outputs": [
        {
          "output_type": "stream",
          "name": "stdout",
          "text": [
            "count    736.000000\n",
            "mean      53.880852\n",
            "std       15.650689\n",
            "min        0.000000\n",
            "25%       48.063699\n",
            "50%       58.452055\n",
            "75%       64.626712\n",
            "max       84.813699\n",
            "Name: Edad_Al_Tx, dtype: float64\n",
            "--------------------\n",
            "Número de datos nulos: 0\n"
          ]
        }
      ],
      "source": [
        "ver_datos(df, 'Edad_Al_Tx')"
      ]
    },
    {
      "cell_type": "markdown",
      "id": "7aa12f9d",
      "metadata": {
        "id": "7aa12f9d"
      },
      "source": [
        "### Tiempo en lista (Tiempo_En_Lista_Días, Tiempo_En_Lista_Meses, Tiempo_En_Lista_Años)"
      ]
    },
    {
      "cell_type": "code",
      "execution_count": 336,
      "id": "56dccc69",
      "metadata": {
        "id": "56dccc69",
        "outputId": "6345bfdc-4ccb-4450-de89-eed69e52cf2c",
        "colab": {
          "base_uri": "https://localhost:8080/"
        }
      },
      "outputs": [
        {
          "output_type": "stream",
          "name": "stdout",
          "text": [
            "count     705\n",
            "unique    300\n",
            "top         1\n",
            "freq       23\n",
            "Name: Tiempo_En_Lista_Días, dtype: int64\n",
            "--------------------\n",
            "Número de datos nulos: 31\n"
          ]
        }
      ],
      "source": [
        "ver_datos(df, 'Tiempo_En_Lista_Días')"
      ]
    },
    {
      "cell_type": "code",
      "execution_count": 337,
      "id": "9ce33d93",
      "metadata": {
        "id": "9ce33d93",
        "outputId": "4b22421e-9e7c-4589-8aa7-d8f33dad1daf",
        "colab": {
          "base_uri": "https://localhost:8080/"
        }
      },
      "outputs": [
        {
          "output_type": "stream",
          "name": "stdout",
          "text": [
            "count     705.000000\n",
            "mean       17.981702\n",
            "std       139.255562\n",
            "min         0.000000\n",
            "25%         0.633333\n",
            "50%         1.900000\n",
            "75%         5.600000\n",
            "max      1524.833333\n",
            "Name: Tiempo_En_Lista_Meses, dtype: float64\n",
            "--------------------\n",
            "Número de datos nulos: 31\n"
          ]
        }
      ],
      "source": [
        "ver_datos(df, 'Tiempo_En_Lista_Meses')"
      ]
    },
    {
      "cell_type": "code",
      "execution_count": 338,
      "id": "3d7d3c34",
      "metadata": {
        "id": "3d7d3c34",
        "outputId": "1a294248-5afd-4423-ee26-ec00bfc194ec",
        "colab": {
          "base_uri": "https://localhost:8080/"
        }
      },
      "outputs": [
        {
          "output_type": "stream",
          "name": "stdout",
          "text": [
            "count    705.000000\n",
            "mean       1.498475\n",
            "std       11.604630\n",
            "min        0.000000\n",
            "25%        0.052778\n",
            "50%        0.158333\n",
            "75%        0.466667\n",
            "max      127.069444\n",
            "Name: Tiempo_En_Lista_Años, dtype: float64\n",
            "--------------------\n",
            "Número de datos nulos: 31\n"
          ]
        }
      ],
      "source": [
        "ver_datos(df, 'Tiempo_En_Lista_Años')"
      ]
    },
    {
      "cell_type": "markdown",
      "id": "179bc398",
      "metadata": {
        "id": "179bc398"
      },
      "source": [
        "### Sexo_Receptor"
      ]
    },
    {
      "cell_type": "code",
      "execution_count": 339,
      "id": "e01f0546",
      "metadata": {
        "id": "e01f0546",
        "outputId": "18c1b327-65f5-48b7-9d22-ed17bd08189e",
        "colab": {
          "base_uri": "https://localhost:8080/"
        }
      },
      "outputs": [
        {
          "output_type": "stream",
          "name": "stdout",
          "text": [
            "count    736.000000\n",
            "mean       1.491848\n",
            "std        0.500274\n",
            "min        1.000000\n",
            "25%        1.000000\n",
            "50%        1.000000\n",
            "75%        2.000000\n",
            "max        2.000000\n",
            "Name: Sexo_Receptor, dtype: float64\n",
            "--------------------\n",
            "Número de datos nulos: 0\n",
            "--------------------\n",
            "Sexo_Receptor\n",
            "1    374\n",
            "2    362\n",
            "Name: count, dtype: int64\n"
          ]
        }
      ],
      "source": [
        "ver_datos(df, 'Sexo_Receptor', True)"
      ]
    },
    {
      "cell_type": "markdown",
      "id": "c275b0b9",
      "metadata": {
        "id": "c275b0b9"
      },
      "source": [
        "### EPS"
      ]
    },
    {
      "cell_type": "code",
      "execution_count": 340,
      "id": "d923cb3f",
      "metadata": {
        "id": "d923cb3f",
        "outputId": "8f4539c8-b7dc-41a3-b3c1-3e426d8f1b49",
        "colab": {
          "base_uri": "https://localhost:8080/"
        }
      },
      "outputs": [
        {
          "output_type": "stream",
          "name": "stdout",
          "text": [
            "count    702.000000\n",
            "mean       6.888889\n",
            "std        8.592646\n",
            "min        0.000000\n",
            "25%        2.000000\n",
            "50%        2.000000\n",
            "75%       10.000000\n",
            "max       37.000000\n",
            "Name: EPS, dtype: float64\n",
            "--------------------\n",
            "Número de datos nulos: 34\n",
            "--------------------\n",
            "EPS\n",
            "2.0     256\n",
            "1.0     166\n",
            "NaN      34\n",
            "4.0      29\n",
            "6.0      28\n",
            "25.0     27\n",
            "12.0     20\n",
            "20.0     17\n",
            "14.0     16\n",
            "7.0      15\n",
            "22.0     14\n",
            "23.0     13\n",
            "3.0      11\n",
            "10.0     11\n",
            "17.0     10\n",
            "5.0      10\n",
            "28.0      6\n",
            "33.0      6\n",
            "13.0      5\n",
            "19.0      5\n",
            "9.0       4\n",
            "29.0      4\n",
            "27.0      4\n",
            "26.0      4\n",
            "30.0      3\n",
            "16.0      3\n",
            "21.0      3\n",
            "11.0      2\n",
            "8.0       2\n",
            "18.0      1\n",
            "15.0      1\n",
            "24.0      1\n",
            "34.0      1\n",
            "32.0      1\n",
            "31.0      1\n",
            "37.0      1\n",
            "0.0       1\n",
            "Name: count, dtype: int64\n"
          ]
        }
      ],
      "source": [
        "ver_datos(df, 'EPS', True)"
      ]
    },
    {
      "cell_type": "markdown",
      "id": "6ef25ff0",
      "metadata": {
        "id": "6ef25ff0"
      },
      "source": [
        "### Causa (Causa_1_Tx_Hepático_, Causa_2_Tx_Hepático_)"
      ]
    },
    {
      "cell_type": "code",
      "execution_count": 341,
      "id": "8e4c043b",
      "metadata": {
        "id": "8e4c043b",
        "outputId": "03682a90-b706-462a-934b-05fbe6ed560e",
        "colab": {
          "base_uri": "https://localhost:8080/"
        }
      },
      "outputs": [
        {
          "output_type": "stream",
          "name": "stdout",
          "text": [
            "count    729.000000\n",
            "mean       6.868313\n",
            "std        5.668420\n",
            "min        1.000000\n",
            "25%        3.000000\n",
            "50%        4.000000\n",
            "75%        9.000000\n",
            "max       28.000000\n",
            "Name: Causa_1_Tx_Hepático_, dtype: float64\n",
            "--------------------\n",
            "Número de datos nulos: 7\n",
            "--------------------\n",
            "Causa_1_Tx_Hepático_\n",
            "3.0     155\n",
            "4.0     113\n",
            "1.0     106\n",
            "8.0      92\n",
            "9.0      71\n",
            "11.0     40\n",
            "12.0     38\n",
            "23.0     22\n",
            "10.0     15\n",
            "5.0      11\n",
            "2.0      11\n",
            "20.0     10\n",
            "22.0     10\n",
            "14.0      8\n",
            "NaN       7\n",
            "21.0      4\n",
            "7.0       3\n",
            "6.0       3\n",
            "13.0      3\n",
            "19.0      3\n",
            "15.0      2\n",
            "25.0      2\n",
            "17.0      2\n",
            "18.0      1\n",
            "26.0      1\n",
            "16.0      1\n",
            "27.0      1\n",
            "28.0      1\n",
            "Name: count, dtype: int64\n"
          ]
        }
      ],
      "source": [
        "ver_datos(df, 'Causa_1_Tx_Hepático_', True)"
      ]
    },
    {
      "cell_type": "code",
      "execution_count": 342,
      "id": "3bee156c",
      "metadata": {
        "id": "3bee156c",
        "outputId": "7e2eb484-9a68-485b-bd76-9aa6790faee5",
        "colab": {
          "base_uri": "https://localhost:8080/"
        }
      },
      "outputs": [
        {
          "output_type": "stream",
          "name": "stdout",
          "text": [
            "count    730.000000\n",
            "mean       0.238356\n",
            "std        1.732655\n",
            "min        0.000000\n",
            "25%        0.000000\n",
            "50%        0.000000\n",
            "75%        0.000000\n",
            "max       22.000000\n",
            "Name: Causa_2_Tx_Hepático_, dtype: float64\n",
            "--------------------\n",
            "Número de datos nulos: 6\n",
            "--------------------\n",
            "Causa_2_Tx_Hepático_\n",
            "0.0     705\n",
            "3.0       7\n",
            "4.0       7\n",
            "NaN       6\n",
            "2.0       3\n",
            "15.0      2\n",
            "21.0      2\n",
            "5.0       1\n",
            "11.0      1\n",
            "22.0      1\n",
            "9.0       1\n",
            "Name: count, dtype: int64\n"
          ]
        }
      ],
      "source": [
        "ver_datos(df, 'Causa_2_Tx_Hepático_', True)"
      ]
    },
    {
      "cell_type": "markdown",
      "id": "4f77343c",
      "metadata": {
        "id": "4f77343c"
      },
      "source": [
        "### Hepatocarcinoma"
      ]
    },
    {
      "cell_type": "code",
      "execution_count": 343,
      "id": "2496c986",
      "metadata": {
        "id": "2496c986",
        "outputId": "b43a1d68-b376-419a-d3b2-5b4224b13c2c",
        "colab": {
          "base_uri": "https://localhost:8080/"
        }
      },
      "outputs": [
        {
          "output_type": "stream",
          "name": "stdout",
          "text": [
            "count    730.000000\n",
            "mean       0.236986\n",
            "std        0.425525\n",
            "min        0.000000\n",
            "25%        0.000000\n",
            "50%        0.000000\n",
            "75%        0.000000\n",
            "max        1.000000\n",
            "Name: Hepatocarcinoma, dtype: float64\n",
            "--------------------\n",
            "Número de datos nulos: 6\n",
            "--------------------\n",
            "Hepatocarcinoma\n",
            "0.0    557\n",
            "1.0    173\n",
            "NaN      6\n",
            "Name: count, dtype: int64\n"
          ]
        }
      ],
      "source": [
        "ver_datos(df, 'Hepatocarcinoma', True)"
      ]
    },
    {
      "cell_type": "markdown",
      "id": "bc0b8071",
      "metadata": {
        "id": "bc0b8071"
      },
      "source": [
        "### Child_Pugh_Letra"
      ]
    },
    {
      "cell_type": "code",
      "execution_count": 344,
      "id": "d23426f4",
      "metadata": {
        "id": "d23426f4",
        "outputId": "709c7365-b30b-40f4-fff6-637ed74322a8",
        "colab": {
          "base_uri": "https://localhost:8080/"
        }
      },
      "outputs": [
        {
          "output_type": "stream",
          "name": "stdout",
          "text": [
            "count     682\n",
            "unique      8\n",
            "top         B\n",
            "freq      354\n",
            "Name: Child_Pugh_Letra, dtype: object\n",
            "--------------------\n",
            "Número de datos nulos: 54\n",
            "--------------------\n",
            "Child_Pugh_Letra\n",
            "B      354\n",
            "C      168\n",
            "A      128\n",
            "NaN     54\n",
            "2       15\n",
            "3       11\n",
            "1        3\n",
            "0        2\n",
            "B        1\n",
            "Name: count, dtype: int64\n"
          ]
        }
      ],
      "source": [
        "ver_datos(df, 'Child_Pugh_Letra', True)"
      ]
    },
    {
      "cell_type": "code",
      "execution_count": 345,
      "id": "e80df80c",
      "metadata": {
        "id": "e80df80c"
      },
      "outputs": [],
      "source": [
        "df['Child_Pugh_Letra'] = (\n",
        "    df['Child_Pugh_Letra']\n",
        "    .astype(str).str.strip()   # limpia espacios invisibles que hay en letras\n",
        "    .replace({\n",
        "        'A': '1',\n",
        "        'B': '2',\n",
        "        'C': '3'\n",
        "    })\n",
        ")"
      ]
    },
    {
      "cell_type": "code",
      "execution_count": 346,
      "id": "9b56d025",
      "metadata": {
        "id": "9b56d025",
        "outputId": "a9f08d61-6d39-4f3c-ce2b-a4f05cc897be",
        "colab": {
          "base_uri": "https://localhost:8080/"
        }
      },
      "outputs": [
        {
          "output_type": "stream",
          "name": "stdout",
          "text": [
            "count     736\n",
            "unique      5\n",
            "top         2\n",
            "freq      370\n",
            "Name: Child_Pugh_Letra, dtype: object\n",
            "--------------------\n",
            "Número de datos nulos: 0\n",
            "--------------------\n",
            "Child_Pugh_Letra\n",
            "2      370\n",
            "3      179\n",
            "1      131\n",
            "nan     54\n",
            "0        2\n",
            "Name: count, dtype: int64\n"
          ]
        }
      ],
      "source": [
        "ver_datos(df, 'Child_Pugh_Letra', True)"
      ]
    },
    {
      "cell_type": "markdown",
      "id": "27d1cb69",
      "metadata": {
        "id": "27d1cb69"
      },
      "source": [
        "### MELD_Score"
      ]
    },
    {
      "cell_type": "code",
      "execution_count": 347,
      "id": "3cef31aa",
      "metadata": {
        "id": "3cef31aa",
        "outputId": "b809eff5-e090-4eae-fc48-981cd267cd0c",
        "colab": {
          "base_uri": "https://localhost:8080/"
        }
      },
      "outputs": [
        {
          "output_type": "stream",
          "name": "stdout",
          "text": [
            "count    647.000000\n",
            "mean      16.683153\n",
            "std        6.190231\n",
            "min        0.000000\n",
            "25%       12.000000\n",
            "50%       16.000000\n",
            "75%       22.000000\n",
            "max       57.000000\n",
            "Name: MELD_Score, dtype: float64\n",
            "--------------------\n",
            "Número de datos nulos: 89\n"
          ]
        }
      ],
      "source": [
        "ver_datos(df, 'MELD_Score')"
      ]
    },
    {
      "cell_type": "code",
      "execution_count": 348,
      "id": "510dfb82",
      "metadata": {
        "id": "510dfb82"
      },
      "outputs": [],
      "source": [
        "df['MELD_Score'] = (\n",
        "    df['MELD_Score']\n",
        "    .replace({\n",
        "        57: 40,\n",
        "        0: np.nan\n",
        "    })\n",
        ")"
      ]
    },
    {
      "cell_type": "code",
      "execution_count": 349,
      "id": "ed240cb7",
      "metadata": {
        "id": "ed240cb7",
        "outputId": "197b2274-d329-4a00-d104-672fd15b76e2",
        "colab": {
          "base_uri": "https://localhost:8080/"
        }
      },
      "outputs": [
        {
          "output_type": "stream",
          "name": "stdout",
          "text": [
            "count    645.000000\n",
            "mean      16.708527\n",
            "std        5.991091\n",
            "min        6.000000\n",
            "25%       12.000000\n",
            "50%       16.000000\n",
            "75%       22.000000\n",
            "max       40.000000\n",
            "Name: MELD_Score, dtype: float64\n",
            "--------------------\n",
            "Número de datos nulos: 91\n"
          ]
        }
      ],
      "source": [
        "ver_datos(df, 'MELD_Score')"
      ]
    },
    {
      "cell_type": "markdown",
      "id": "4e560dd7",
      "metadata": {
        "id": "4e560dd7"
      },
      "source": [
        "### Causa_Tx_Renal"
      ]
    },
    {
      "cell_type": "code",
      "execution_count": 350,
      "id": "72854f98",
      "metadata": {
        "id": "72854f98",
        "outputId": "d8635a91-1fcb-40a1-b9c8-1984e3ddf3b8",
        "colab": {
          "base_uri": "https://localhost:8080/"
        }
      },
      "outputs": [
        {
          "output_type": "stream",
          "name": "stdout",
          "text": [
            "count    47.000000\n",
            "mean      2.297872\n",
            "std       3.463567\n",
            "min       0.000000\n",
            "25%       0.000000\n",
            "50%       1.000000\n",
            "75%       3.500000\n",
            "max      20.000000\n",
            "Name: Causa_Tx_Renal, dtype: float64\n",
            "--------------------\n",
            "Número de datos nulos: 689\n",
            "--------------------\n",
            "Causa_Tx_Renal\n",
            "NaN     689\n",
            "0.0      21\n",
            "1.0       6\n",
            "6.0       6\n",
            "3.0       6\n",
            "5.0       4\n",
            "2.0       2\n",
            "4.0       1\n",
            "20.0      1\n",
            "Name: count, dtype: int64\n"
          ]
        }
      ],
      "source": [
        "ver_datos(df, 'Causa_Tx_Renal', True)"
      ]
    },
    {
      "cell_type": "code",
      "execution_count": 351,
      "id": "9605e731",
      "metadata": {
        "id": "9605e731"
      },
      "outputs": [],
      "source": [
        "df['Causa_Tx_Renal'] = (\n",
        "    df['Causa_Tx_Renal']\n",
        "    .replace({\n",
        "        0: np.nan,\n",
        "        20: np.nan,\n",
        "    })\n",
        ")"
      ]
    },
    {
      "cell_type": "code",
      "execution_count": 352,
      "id": "f6dbf419",
      "metadata": {
        "id": "f6dbf419",
        "outputId": "f2bd8cc3-197f-40fe-b0ff-149407167f96",
        "colab": {
          "base_uri": "https://localhost:8080/"
        }
      },
      "outputs": [
        {
          "output_type": "stream",
          "name": "stdout",
          "text": [
            "count    25.000000\n",
            "mean      3.520000\n",
            "std       1.939072\n",
            "min       1.000000\n",
            "25%       2.000000\n",
            "50%       3.000000\n",
            "75%       5.000000\n",
            "max       6.000000\n",
            "Name: Causa_Tx_Renal, dtype: float64\n",
            "--------------------\n",
            "Número de datos nulos: 711\n",
            "--------------------\n",
            "Causa_Tx_Renal\n",
            "NaN    711\n",
            "1.0      6\n",
            "3.0      6\n",
            "6.0      6\n",
            "5.0      4\n",
            "2.0      2\n",
            "4.0      1\n",
            "Name: count, dtype: int64\n"
          ]
        }
      ],
      "source": [
        "ver_datos(df, 'Causa_Tx_Renal', True)"
      ]
    },
    {
      "cell_type": "markdown",
      "id": "1c4e4ea8",
      "metadata": {
        "id": "1c4e4ea8"
      },
      "source": [
        "### Peso_Pre_Tx"
      ]
    },
    {
      "cell_type": "code",
      "execution_count": 353,
      "id": "34e83c70",
      "metadata": {
        "id": "34e83c70",
        "outputId": "6219326a-5293-4cc0-81f3-ec813a8f081b",
        "colab": {
          "base_uri": "https://localhost:8080/"
        }
      },
      "outputs": [
        {
          "output_type": "stream",
          "name": "stdout",
          "text": [
            "count    667.000000\n",
            "mean      67.087106\n",
            "std       15.758395\n",
            "min        4.000000\n",
            "25%       57.000000\n",
            "50%       66.000000\n",
            "75%       77.000000\n",
            "max      129.000000\n",
            "Name: Peso_Pre_Tx, dtype: float64\n",
            "--------------------\n",
            "Número de datos nulos: 69\n"
          ]
        }
      ],
      "source": [
        "ver_datos(df, 'Peso_Pre_Tx')"
      ]
    },
    {
      "cell_type": "markdown",
      "id": "b0743fe1",
      "metadata": {
        "id": "b0743fe1"
      },
      "source": [
        "### BMI"
      ]
    },
    {
      "cell_type": "code",
      "execution_count": 354,
      "id": "724ca046",
      "metadata": {
        "id": "724ca046",
        "outputId": "5625a2f3-2823-4ada-838f-4091e51d9b37",
        "colab": {
          "base_uri": "https://localhost:8080/"
        }
      },
      "outputs": [
        {
          "output_type": "stream",
          "name": "stdout",
          "text": [
            "count     597\n",
            "unique    207\n",
            "top        28\n",
            "freq       22\n",
            "Name: BMI, dtype: int64\n",
            "--------------------\n",
            "Número de datos nulos: 139\n"
          ]
        }
      ],
      "source": [
        "ver_datos(df, 'BMI')"
      ]
    },
    {
      "cell_type": "code",
      "execution_count": 355,
      "id": "b73fca52",
      "metadata": {
        "id": "b73fca52"
      },
      "outputs": [],
      "source": [
        "df['BMI'] = (\n",
        "    df['BMI']\n",
        "    .replace({\n",
        "        '%PESO/TALLA:NO SE CALCULA POR LA PRESENCIA DE EDEMA Y ASCITIS PERO ESTÀ POR DEBAJO DEL 86% CON DEFICIT DE MÀS DEL 14%': np.nan,\n",
        "        0: np.nan,\n",
        "    })\n",
        ")"
      ]
    },
    {
      "cell_type": "code",
      "execution_count": 356,
      "id": "ba7954f2",
      "metadata": {
        "id": "ba7954f2"
      },
      "outputs": [],
      "source": [
        "limpiar_numericas(df,'BMI')"
      ]
    },
    {
      "cell_type": "code",
      "execution_count": 357,
      "id": "24584f88",
      "metadata": {
        "id": "24584f88",
        "outputId": "03c2eb37-2e75-4f7d-b7fa-8762517e69c2",
        "colab": {
          "base_uri": "https://localhost:8080/"
        }
      },
      "outputs": [
        {
          "output_type": "stream",
          "name": "stdout",
          "text": [
            "count    594.000000\n",
            "mean      25.262449\n",
            "std        4.548209\n",
            "min       13.200000\n",
            "25%       22.000000\n",
            "50%       24.950000\n",
            "75%       28.075000\n",
            "max       42.000000\n",
            "Name: BMI, dtype: float64\n",
            "--------------------\n",
            "Número de datos nulos: 142\n"
          ]
        }
      ],
      "source": [
        "ver_datos(df, 'BMI')"
      ]
    },
    {
      "cell_type": "markdown",
      "id": "57bb71f1",
      "metadata": {
        "id": "57bb71f1"
      },
      "source": [
        "### Composición_Corporal (Podemos dejar este o el BMI, solo que este está categorizado)"
      ]
    },
    {
      "cell_type": "code",
      "execution_count": 358,
      "id": "d327c452",
      "metadata": {
        "id": "d327c452",
        "outputId": "1b6679a8-e7cd-415b-b8af-90e2209e10bd",
        "colab": {
          "base_uri": "https://localhost:8080/"
        }
      },
      "outputs": [
        {
          "output_type": "stream",
          "name": "stdout",
          "text": [
            "count    609.000000\n",
            "mean       1.559934\n",
            "std        0.905087\n",
            "min        0.000000\n",
            "25%        1.000000\n",
            "50%        1.000000\n",
            "75%        2.000000\n",
            "max        5.000000\n",
            "Name: Composición_Corporal, dtype: float64\n",
            "--------------------\n",
            "Número de datos nulos: 127\n",
            "--------------------\n",
            "Composición_Corporal\n",
            "1.0    260\n",
            "2.0    208\n",
            "NaN    127\n",
            "3.0     71\n",
            "0.0     55\n",
            "4.0     14\n",
            "5.0      1\n",
            "Name: count, dtype: int64\n"
          ]
        }
      ],
      "source": [
        "ver_datos(df, 'Composición_Corporal', True)"
      ]
    },
    {
      "cell_type": "code",
      "execution_count": 359,
      "id": "8fd3e95a",
      "metadata": {
        "id": "8fd3e95a"
      },
      "outputs": [],
      "source": [
        "def clasificar_bmi(bmi):\n",
        "    if pd.isna(bmi):\n",
        "        return np.nan\n",
        "    elif bmi < 18.5:\n",
        "        return 0\n",
        "    elif bmi < 25:\n",
        "        return 1\n",
        "    elif bmi < 30:\n",
        "        return 2\n",
        "    elif bmi < 35:\n",
        "        return 3\n",
        "    elif bmi < 40:\n",
        "        return 4\n",
        "    else:\n",
        "        return 5"
      ]
    },
    {
      "cell_type": "code",
      "execution_count": 360,
      "id": "3c67b088",
      "metadata": {
        "id": "3c67b088"
      },
      "outputs": [],
      "source": [
        "calculated_BMI = df['BMI'].apply(clasificar_bmi)\n",
        "df.loc[df['Composición_Corporal'].isna() & df['BMI'].notna(), 'Composición_Corporal'] = calculated_BMI"
      ]
    },
    {
      "cell_type": "code",
      "execution_count": 361,
      "id": "87b646e5",
      "metadata": {
        "id": "87b646e5",
        "outputId": "064541b0-c2d3-4e7b-fc52-ffde6121a2d7",
        "colab": {
          "base_uri": "https://localhost:8080/"
        }
      },
      "outputs": [
        {
          "output_type": "stream",
          "name": "stdout",
          "text": [
            "count    619.000000\n",
            "mean       1.563813\n",
            "std        0.903275\n",
            "min        0.000000\n",
            "25%        1.000000\n",
            "50%        1.000000\n",
            "75%        2.000000\n",
            "max        5.000000\n",
            "Name: Composición_Corporal, dtype: float64\n",
            "--------------------\n",
            "Número de datos nulos: 117\n",
            "--------------------\n",
            "Composición_Corporal\n",
            "1.0    264\n",
            "2.0    212\n",
            "NaN    117\n",
            "3.0     73\n",
            "0.0     55\n",
            "4.0     14\n",
            "5.0      1\n",
            "Name: count, dtype: int64\n"
          ]
        }
      ],
      "source": [
        "ver_datos(df, 'Composición_Corporal', True)"
      ]
    },
    {
      "cell_type": "markdown",
      "id": "bf696ee1",
      "metadata": {
        "id": "bf696ee1"
      },
      "source": [
        "### Falla_Cardiaca_Pre_Tx"
      ]
    },
    {
      "cell_type": "code",
      "execution_count": 362,
      "id": "13a58c4d",
      "metadata": {
        "id": "13a58c4d",
        "outputId": "81f57d27-db7d-4401-fd4b-d61050c45c65",
        "colab": {
          "base_uri": "https://localhost:8080/"
        }
      },
      "outputs": [
        {
          "output_type": "stream",
          "name": "stdout",
          "text": [
            "count     654\n",
            "unique      3\n",
            "top         0\n",
            "freq      645\n",
            "Name: Falla_Cardiaca_Pre_Tx, dtype: int64\n",
            "--------------------\n",
            "Número de datos nulos: 82\n",
            "--------------------\n",
            "Falla_Cardiaca_Pre_Tx\n",
            "0               645\n",
            "NaN              82\n",
            "1                 8\n",
            "PERICARDITIS      1\n",
            "Name: count, dtype: int64\n"
          ]
        }
      ],
      "source": [
        "ver_datos(df, 'Falla_Cardiaca_Pre_Tx', True)"
      ]
    },
    {
      "cell_type": "code",
      "execution_count": 363,
      "id": "860067e4",
      "metadata": {
        "id": "860067e4",
        "outputId": "e3b35a5e-0f52-4611-e424-a01457541585",
        "colab": {
          "base_uri": "https://localhost:8080/"
        }
      },
      "outputs": [
        {
          "output_type": "stream",
          "name": "stderr",
          "text": [
            "/tmp/ipython-input-753072673.py:3: FutureWarning: Downcasting behavior in `replace` is deprecated and will be removed in a future version. To retain the old behavior, explicitly call `result.infer_objects(copy=False)`. To opt-in to the future behavior, set `pd.set_option('future.no_silent_downcasting', True)`\n",
            "  .replace({\n"
          ]
        }
      ],
      "source": [
        "df['Falla_Cardiaca_Pre_Tx'] = (\n",
        "    df['Falla_Cardiaca_Pre_Tx']\n",
        "    .replace({\n",
        "        'PERICARDITIS': 0,\n",
        "    })\n",
        ")"
      ]
    },
    {
      "cell_type": "code",
      "execution_count": 364,
      "id": "7cdae1a0",
      "metadata": {
        "id": "7cdae1a0",
        "outputId": "1c9ebe53-d2d7-4308-c2ae-4615c9bbd619",
        "colab": {
          "base_uri": "https://localhost:8080/"
        }
      },
      "outputs": [
        {
          "output_type": "stream",
          "name": "stdout",
          "text": [
            "count    654.000000\n",
            "mean       0.012232\n",
            "std        0.110006\n",
            "min        0.000000\n",
            "25%        0.000000\n",
            "50%        0.000000\n",
            "75%        0.000000\n",
            "max        1.000000\n",
            "Name: Falla_Cardiaca_Pre_Tx, dtype: float64\n",
            "--------------------\n",
            "Número de datos nulos: 82\n",
            "--------------------\n",
            "Falla_Cardiaca_Pre_Tx\n",
            "0.0    646\n",
            "NaN     82\n",
            "1.0      8\n",
            "Name: count, dtype: int64\n"
          ]
        }
      ],
      "source": [
        "ver_datos(df, 'Falla_Cardiaca_Pre_Tx', True)"
      ]
    },
    {
      "cell_type": "markdown",
      "id": "28ffdefe",
      "metadata": {
        "id": "28ffdefe"
      },
      "source": [
        "### Antecedente_De_Tabaquismo"
      ]
    },
    {
      "cell_type": "code",
      "execution_count": 365,
      "id": "acefaae3",
      "metadata": {
        "id": "acefaae3",
        "outputId": "dbcbea23-fbf0-4783-e428-7db622e66170",
        "colab": {
          "base_uri": "https://localhost:8080/"
        }
      },
      "outputs": [
        {
          "output_type": "stream",
          "name": "stdout",
          "text": [
            "count    657.000000\n",
            "mean       0.302892\n",
            "std        0.459859\n",
            "min        0.000000\n",
            "25%        0.000000\n",
            "50%        0.000000\n",
            "75%        1.000000\n",
            "max        1.000000\n",
            "Name: Antecedente_De_Tabaquismo, dtype: float64\n",
            "--------------------\n",
            "Número de datos nulos: 79\n",
            "--------------------\n",
            "Antecedente_De_Tabaquismo\n",
            "0.0    458\n",
            "1.0    199\n",
            "NaN     79\n",
            "Name: count, dtype: int64\n"
          ]
        }
      ],
      "source": [
        "ver_datos(df, 'Antecedente_De_Tabaquismo', True)"
      ]
    },
    {
      "cell_type": "markdown",
      "id": "45fe00da",
      "metadata": {
        "id": "45fe00da"
      },
      "source": [
        "### Antecedente_De_Alcoholismo"
      ]
    },
    {
      "cell_type": "code",
      "execution_count": 366,
      "id": "f47674d8",
      "metadata": {
        "id": "f47674d8",
        "outputId": "9de58db6-97e6-475e-c34c-fe19831cd259",
        "colab": {
          "base_uri": "https://localhost:8080/"
        }
      },
      "outputs": [
        {
          "output_type": "stream",
          "name": "stdout",
          "text": [
            "count    654.000000\n",
            "mean       0.354740\n",
            "std        0.478801\n",
            "min        0.000000\n",
            "25%        0.000000\n",
            "50%        0.000000\n",
            "75%        1.000000\n",
            "max        1.000000\n",
            "Name: Antecedente_De_Alcoholismo, dtype: float64\n",
            "--------------------\n",
            "Número de datos nulos: 82\n",
            "--------------------\n",
            "Antecedente_De_Alcoholismo\n",
            "0.0    422\n",
            "1.0    232\n",
            "NaN     82\n",
            "Name: count, dtype: int64\n"
          ]
        }
      ],
      "source": [
        "ver_datos(df, 'Antecedente_De_Alcoholismo', True)"
      ]
    },
    {
      "cell_type": "markdown",
      "id": "2c9a52ad",
      "metadata": {
        "id": "2c9a52ad"
      },
      "source": [
        "### Enfermedad_Coronaria_Pre_Tx"
      ]
    },
    {
      "cell_type": "code",
      "execution_count": 367,
      "id": "b1fb8e96",
      "metadata": {
        "id": "b1fb8e96",
        "outputId": "970082a7-3c94-470e-cf43-f2031b162aa5",
        "colab": {
          "base_uri": "https://localhost:8080/"
        }
      },
      "outputs": [
        {
          "output_type": "stream",
          "name": "stdout",
          "text": [
            "count     655\n",
            "unique      4\n",
            "top         0\n",
            "freq      623\n",
            "Name: Enfermedad_Coronaria_Pre_Tx, dtype: int64\n",
            "--------------------\n",
            "Número de datos nulos: 81\n",
            "--------------------\n",
            "Enfermedad_Coronaria_Pre_Tx\n",
            "0                   623\n",
            "NaN                  81\n",
            "1                    30\n",
            "ANGINA ESTABLE        1\n",
            "ANGINA INESTABLE      1\n",
            "Name: count, dtype: int64\n"
          ]
        }
      ],
      "source": [
        "ver_datos(df, 'Enfermedad_Coronaria_Pre_Tx', True)"
      ]
    },
    {
      "cell_type": "code",
      "execution_count": 368,
      "id": "440fb635",
      "metadata": {
        "id": "440fb635",
        "outputId": "61e43309-a6e5-4498-f6ba-3c0cd577b398",
        "colab": {
          "base_uri": "https://localhost:8080/"
        }
      },
      "outputs": [
        {
          "output_type": "stream",
          "name": "stderr",
          "text": [
            "/tmp/ipython-input-1616243419.py:3: FutureWarning: Downcasting behavior in `replace` is deprecated and will be removed in a future version. To retain the old behavior, explicitly call `result.infer_objects(copy=False)`. To opt-in to the future behavior, set `pd.set_option('future.no_silent_downcasting', True)`\n",
            "  .replace({\n"
          ]
        }
      ],
      "source": [
        "df['Enfermedad_Coronaria_Pre_Tx'] = (\n",
        "    df['Enfermedad_Coronaria_Pre_Tx']\n",
        "    .replace({\n",
        "        'ANGINA ESTABLE': 1,\n",
        "        'ANGINA INESTABLE': 1,\n",
        "    })\n",
        ")"
      ]
    },
    {
      "cell_type": "code",
      "execution_count": 369,
      "id": "2f181eb3",
      "metadata": {
        "id": "2f181eb3",
        "outputId": "8825ae56-6baf-4a77-c91a-8e0e1e814f7c",
        "colab": {
          "base_uri": "https://localhost:8080/"
        }
      },
      "outputs": [
        {
          "output_type": "stream",
          "name": "stdout",
          "text": [
            "count    655.000000\n",
            "mean       0.048855\n",
            "std        0.215729\n",
            "min        0.000000\n",
            "25%        0.000000\n",
            "50%        0.000000\n",
            "75%        0.000000\n",
            "max        1.000000\n",
            "Name: Enfermedad_Coronaria_Pre_Tx, dtype: float64\n",
            "--------------------\n",
            "Número de datos nulos: 81\n",
            "--------------------\n",
            "Enfermedad_Coronaria_Pre_Tx\n",
            "0.0    623\n",
            "NaN     81\n",
            "1.0     32\n",
            "Name: count, dtype: int64\n"
          ]
        }
      ],
      "source": [
        "ver_datos(df, 'Enfermedad_Coronaria_Pre_Tx', True)"
      ]
    },
    {
      "cell_type": "markdown",
      "id": "cd7db0c2",
      "metadata": {
        "id": "cd7db0c2"
      },
      "source": [
        "### Infarto_Cardiaco_Pre_Tx"
      ]
    },
    {
      "cell_type": "code",
      "execution_count": 370,
      "id": "2f7cd1bd",
      "metadata": {
        "id": "2f7cd1bd",
        "outputId": "c57d064c-7dc7-4c3e-87b2-51872578930a",
        "colab": {
          "base_uri": "https://localhost:8080/"
        }
      },
      "outputs": [
        {
          "output_type": "stream",
          "name": "stdout",
          "text": [
            "count     653\n",
            "unique      3\n",
            "top         0\n",
            "freq      633\n",
            "Name: Infarto_Cardiaco_Pre_Tx, dtype: int64\n",
            "--------------------\n",
            "Número de datos nulos: 83\n",
            "--------------------\n",
            "Infarto_Cardiaco_Pre_Tx\n",
            "0                            633\n",
            "NaN                           83\n",
            "1                             19\n",
            "BLOQUEO AV CON MARCAPASOS      1\n",
            "Name: count, dtype: int64\n"
          ]
        }
      ],
      "source": [
        "ver_datos(df, 'Infarto_Cardiaco_Pre_Tx', True)"
      ]
    },
    {
      "cell_type": "code",
      "execution_count": 371,
      "id": "22a1eb52",
      "metadata": {
        "id": "22a1eb52",
        "outputId": "28d91083-fc1b-450d-996e-8060d91239d4",
        "colab": {
          "base_uri": "https://localhost:8080/"
        }
      },
      "outputs": [
        {
          "output_type": "stream",
          "name": "stderr",
          "text": [
            "/tmp/ipython-input-960486950.py:3: FutureWarning: Downcasting behavior in `replace` is deprecated and will be removed in a future version. To retain the old behavior, explicitly call `result.infer_objects(copy=False)`. To opt-in to the future behavior, set `pd.set_option('future.no_silent_downcasting', True)`\n",
            "  .replace({\n"
          ]
        }
      ],
      "source": [
        "df['Infarto_Cardiaco_Pre_Tx'] = (\n",
        "    df['Infarto_Cardiaco_Pre_Tx']\n",
        "    .replace({\n",
        "        'BLOQUEO AV CON MARCAPASOS': 0,\n",
        "    })\n",
        ")"
      ]
    },
    {
      "cell_type": "code",
      "execution_count": 372,
      "id": "72c54d1a",
      "metadata": {
        "id": "72c54d1a",
        "outputId": "4ddde5e3-d86a-4e38-8cfd-908bb97d377f",
        "colab": {
          "base_uri": "https://localhost:8080/"
        }
      },
      "outputs": [
        {
          "output_type": "stream",
          "name": "stdout",
          "text": [
            "count    653.000000\n",
            "mean       0.029096\n",
            "std        0.168206\n",
            "min        0.000000\n",
            "25%        0.000000\n",
            "50%        0.000000\n",
            "75%        0.000000\n",
            "max        1.000000\n",
            "Name: Infarto_Cardiaco_Pre_Tx, dtype: float64\n",
            "--------------------\n",
            "Número de datos nulos: 83\n",
            "--------------------\n",
            "Infarto_Cardiaco_Pre_Tx\n",
            "0.0    634\n",
            "NaN     83\n",
            "1.0     19\n",
            "Name: count, dtype: int64\n"
          ]
        }
      ],
      "source": [
        "ver_datos(df, 'Infarto_Cardiaco_Pre_Tx', True)"
      ]
    },
    {
      "cell_type": "markdown",
      "id": "2eacfce2",
      "metadata": {
        "id": "2eacfce2"
      },
      "source": [
        "### Diabetes_Mellitus_Pre_Tx"
      ]
    },
    {
      "cell_type": "code",
      "execution_count": 373,
      "id": "99602343",
      "metadata": {
        "id": "99602343",
        "outputId": "2152f901-b5e5-43d7-d26a-9329dc4d455d",
        "colab": {
          "base_uri": "https://localhost:8080/"
        }
      },
      "outputs": [
        {
          "output_type": "stream",
          "name": "stdout",
          "text": [
            "count     653\n",
            "unique      4\n",
            "top         0\n",
            "freq      463\n",
            "Name: Diabetes_Mellitus_Pre_Tx, dtype: int64\n",
            "--------------------\n",
            "Número de datos nulos: 83\n",
            "--------------------\n",
            "Diabetes_Mellitus_Pre_Tx\n",
            "0      463\n",
            "1      188\n",
            "NaN     83\n",
            "2        1\n",
            "O        1\n",
            "Name: count, dtype: int64\n"
          ]
        }
      ],
      "source": [
        "ver_datos(df, 'Diabetes_Mellitus_Pre_Tx', True)"
      ]
    },
    {
      "cell_type": "code",
      "execution_count": 374,
      "id": "672d76bd",
      "metadata": {
        "id": "672d76bd",
        "outputId": "2f907bd2-92bb-4cb8-cb19-98a5f4b46e3e",
        "colab": {
          "base_uri": "https://localhost:8080/"
        }
      },
      "outputs": [
        {
          "output_type": "stream",
          "name": "stderr",
          "text": [
            "/tmp/ipython-input-792571815.py:3: FutureWarning: Downcasting behavior in `replace` is deprecated and will be removed in a future version. To retain the old behavior, explicitly call `result.infer_objects(copy=False)`. To opt-in to the future behavior, set `pd.set_option('future.no_silent_downcasting', True)`\n",
            "  .replace({\n"
          ]
        }
      ],
      "source": [
        "df['Diabetes_Mellitus_Pre_Tx'] = (\n",
        "    df['Diabetes_Mellitus_Pre_Tx']\n",
        "    .replace({\n",
        "        'O': 0,\n",
        "        2:np.nan\n",
        "    })\n",
        ")"
      ]
    },
    {
      "cell_type": "code",
      "execution_count": 375,
      "id": "f0977561",
      "metadata": {
        "id": "f0977561",
        "outputId": "8b5b4119-5779-40eb-b292-0cad0edc726d",
        "colab": {
          "base_uri": "https://localhost:8080/"
        }
      },
      "outputs": [
        {
          "output_type": "stream",
          "name": "stdout",
          "text": [
            "count    652.000000\n",
            "mean       0.288344\n",
            "std        0.453340\n",
            "min        0.000000\n",
            "25%        0.000000\n",
            "50%        0.000000\n",
            "75%        1.000000\n",
            "max        1.000000\n",
            "Name: Diabetes_Mellitus_Pre_Tx, dtype: float64\n",
            "--------------------\n",
            "Número de datos nulos: 84\n",
            "--------------------\n",
            "Diabetes_Mellitus_Pre_Tx\n",
            "0.0    464\n",
            "1.0    188\n",
            "NaN     84\n",
            "Name: count, dtype: int64\n"
          ]
        }
      ],
      "source": [
        "ver_datos(df, 'Diabetes_Mellitus_Pre_Tx', True)"
      ]
    },
    {
      "cell_type": "markdown",
      "id": "f9119ad4",
      "metadata": {
        "id": "f9119ad4"
      },
      "source": [
        "### Hipertensión_Arterial_Pre_Tx"
      ]
    },
    {
      "cell_type": "code",
      "execution_count": 376,
      "id": "8b9d7540",
      "metadata": {
        "id": "8b9d7540",
        "outputId": "99535c73-e5de-4226-d020-3d0597188e5d",
        "colab": {
          "base_uri": "https://localhost:8080/"
        }
      },
      "outputs": [
        {
          "output_type": "stream",
          "name": "stdout",
          "text": [
            "count     653\n",
            "unique      3\n",
            "top         0\n",
            "freq      493\n",
            "Name: Hipertensión_Arterial_Pre_Tx, dtype: int64\n",
            "--------------------\n",
            "Número de datos nulos: 83\n",
            "--------------------\n",
            "Hipertensión_Arterial_Pre_Tx\n",
            "0      493\n",
            "1      159\n",
            "NaN     83\n",
            "O        1\n",
            "Name: count, dtype: int64\n"
          ]
        }
      ],
      "source": [
        "ver_datos(df, 'Hipertensión_Arterial_Pre_Tx', True)"
      ]
    },
    {
      "cell_type": "code",
      "execution_count": 377,
      "id": "a57ac1df",
      "metadata": {
        "id": "a57ac1df",
        "outputId": "0e320f65-72e7-4bfd-a319-754a0b111acf",
        "colab": {
          "base_uri": "https://localhost:8080/"
        }
      },
      "outputs": [
        {
          "output_type": "stream",
          "name": "stderr",
          "text": [
            "/tmp/ipython-input-1352510790.py:3: FutureWarning: Downcasting behavior in `replace` is deprecated and will be removed in a future version. To retain the old behavior, explicitly call `result.infer_objects(copy=False)`. To opt-in to the future behavior, set `pd.set_option('future.no_silent_downcasting', True)`\n",
            "  .replace({\n"
          ]
        }
      ],
      "source": [
        "df['Hipertensión_Arterial_Pre_Tx'] = (\n",
        "    df['Hipertensión_Arterial_Pre_Tx']\n",
        "    .replace({\n",
        "        'O': 0\n",
        "    })\n",
        ")"
      ]
    },
    {
      "cell_type": "code",
      "execution_count": 378,
      "id": "3063e8af",
      "metadata": {
        "id": "3063e8af",
        "outputId": "b3f739f4-818c-4595-fcc8-69d8897154fb",
        "colab": {
          "base_uri": "https://localhost:8080/"
        }
      },
      "outputs": [
        {
          "output_type": "stream",
          "name": "stdout",
          "text": [
            "count    653.000000\n",
            "mean       0.243492\n",
            "std        0.429518\n",
            "min        0.000000\n",
            "25%        0.000000\n",
            "50%        0.000000\n",
            "75%        0.000000\n",
            "max        1.000000\n",
            "Name: Hipertensión_Arterial_Pre_Tx, dtype: float64\n",
            "--------------------\n",
            "Número de datos nulos: 83\n",
            "--------------------\n",
            "Hipertensión_Arterial_Pre_Tx\n",
            "0.0    494\n",
            "1.0    159\n",
            "NaN     83\n",
            "Name: count, dtype: int64\n"
          ]
        }
      ],
      "source": [
        "ver_datos(df, 'Hipertensión_Arterial_Pre_Tx', True)"
      ]
    },
    {
      "cell_type": "markdown",
      "id": "521ac61a",
      "metadata": {
        "id": "521ac61a"
      },
      "source": [
        "### Colesterol_TotalPre_Tx"
      ]
    },
    {
      "cell_type": "code",
      "execution_count": 379,
      "id": "a681dac2",
      "metadata": {
        "id": "a681dac2",
        "outputId": "e833f129-0d6a-43b1-a93f-135d294cce0d",
        "colab": {
          "base_uri": "https://localhost:8080/"
        }
      },
      "outputs": [
        {
          "output_type": "stream",
          "name": "stdout",
          "text": [
            "count     550\n",
            "unique    233\n",
            "top       159\n",
            "freq        9\n",
            "Name: Colesterol_TotalPre_Tx, dtype: int64\n",
            "--------------------\n",
            "Número de datos nulos: 186\n"
          ]
        }
      ],
      "source": [
        "ver_datos(df, 'Colesterol_TotalPre_Tx')"
      ]
    },
    {
      "cell_type": "code",
      "execution_count": 380,
      "id": "29cc8e2b",
      "metadata": {
        "id": "29cc8e2b"
      },
      "outputs": [],
      "source": [
        "df['Colesterol_TotalPre_Tx'] = (\n",
        "    df['Colesterol_TotalPre_Tx']\n",
        "    .replace({\n",
        "        0: np.nan,\n",
        "        '>200':np.nan\n",
        "    })\n",
        ")"
      ]
    },
    {
      "cell_type": "code",
      "execution_count": 381,
      "id": "38654e19",
      "metadata": {
        "id": "38654e19"
      },
      "outputs": [],
      "source": [
        "limpiar_numericas(df,'Colesterol_TotalPre_Tx')"
      ]
    },
    {
      "cell_type": "code",
      "execution_count": 382,
      "id": "9177d209",
      "metadata": {
        "id": "9177d209",
        "outputId": "615d0314-abc1-4389-838b-a7dd21b877d0",
        "colab": {
          "base_uri": "https://localhost:8080/"
        }
      },
      "outputs": [
        {
          "output_type": "stream",
          "name": "stdout",
          "text": [
            "count     545.000000\n",
            "mean      175.884220\n",
            "std       102.146972\n",
            "min        24.000000\n",
            "25%       124.000000\n",
            "50%       161.000000\n",
            "75%       196.000000\n",
            "max      1113.000000\n",
            "Name: Colesterol_TotalPre_Tx, dtype: float64\n",
            "--------------------\n",
            "Número de datos nulos: 191\n"
          ]
        }
      ],
      "source": [
        "ver_datos(df, 'Colesterol_TotalPre_Tx')"
      ]
    },
    {
      "cell_type": "markdown",
      "id": "48a2f3d3",
      "metadata": {
        "id": "48a2f3d3"
      },
      "source": [
        "### LDL_Pre_Tx"
      ]
    },
    {
      "cell_type": "code",
      "execution_count": 383,
      "id": "f0ed72d5",
      "metadata": {
        "id": "f0ed72d5",
        "outputId": "0fd5d90d-bbba-4bbb-a488-86e9b65e0013",
        "colab": {
          "base_uri": "https://localhost:8080/"
        }
      },
      "outputs": [
        {
          "output_type": "stream",
          "name": "stdout",
          "text": [
            "count    455.000000\n",
            "mean     110.007143\n",
            "std       78.812600\n",
            "min        0.000000\n",
            "25%       66.300000\n",
            "50%       96.300000\n",
            "75%      131.000000\n",
            "max      893.000000\n",
            "Name: LDL_Pre_Tx, dtype: float64\n",
            "--------------------\n",
            "Número de datos nulos: 281\n"
          ]
        }
      ],
      "source": [
        "ver_datos(df, 'LDL_Pre_Tx')"
      ]
    },
    {
      "cell_type": "code",
      "execution_count": 384,
      "id": "93e82398",
      "metadata": {
        "id": "93e82398"
      },
      "outputs": [],
      "source": [
        "df['LDL_Pre_Tx'] = (\n",
        "    df['LDL_Pre_Tx']\n",
        "    .replace({\n",
        "        0: np.nan\n",
        "    })\n",
        ")"
      ]
    },
    {
      "cell_type": "code",
      "execution_count": 385,
      "id": "92de22ea",
      "metadata": {
        "id": "92de22ea",
        "outputId": "8b332896-7187-4549-b798-6d4199705c98",
        "colab": {
          "base_uri": "https://localhost:8080/"
        }
      },
      "outputs": [
        {
          "output_type": "stream",
          "name": "stdout",
          "text": [
            "count    452.000000\n",
            "mean     110.737279\n",
            "std       78.560239\n",
            "min       11.000000\n",
            "25%       68.000000\n",
            "50%       97.100000\n",
            "75%      131.000000\n",
            "max      893.000000\n",
            "Name: LDL_Pre_Tx, dtype: float64\n",
            "--------------------\n",
            "Número de datos nulos: 284\n"
          ]
        }
      ],
      "source": [
        "ver_datos(df, 'LDL_Pre_Tx')"
      ]
    },
    {
      "cell_type": "markdown",
      "id": "3eb28ef0",
      "metadata": {
        "id": "3eb28ef0"
      },
      "source": [
        "### HDL_Pre_Tx"
      ]
    },
    {
      "cell_type": "code",
      "execution_count": 386,
      "id": "a3460548",
      "metadata": {
        "id": "a3460548",
        "outputId": "08744f0f-9127-42bd-b0ad-ee9237a91b05",
        "colab": {
          "base_uri": "https://localhost:8080/"
        }
      },
      "outputs": [
        {
          "output_type": "stream",
          "name": "stdout",
          "text": [
            "count    464.000000\n",
            "mean      41.768707\n",
            "std       26.200961\n",
            "min        0.000000\n",
            "25%       28.000000\n",
            "50%       39.400000\n",
            "75%       52.700000\n",
            "max      365.000000\n",
            "Name: HDL_Pre_Tx, dtype: float64\n",
            "--------------------\n",
            "Número de datos nulos: 272\n"
          ]
        }
      ],
      "source": [
        "ver_datos(df, 'HDL_Pre_Tx')"
      ]
    },
    {
      "cell_type": "code",
      "execution_count": 387,
      "id": "d809f5cb",
      "metadata": {
        "id": "d809f5cb"
      },
      "outputs": [],
      "source": [
        "df['HDL_Pre_Tx'] = (\n",
        "    df['HDL_Pre_Tx']\n",
        "    .replace({\n",
        "        0: np.nan\n",
        "    })\n",
        ")"
      ]
    },
    {
      "cell_type": "markdown",
      "id": "ff19524a",
      "metadata": {
        "id": "ff19524a"
      },
      "source": [
        "### Triglicéridos_Pre_Tx"
      ]
    },
    {
      "cell_type": "code",
      "execution_count": 388,
      "id": "f4fc834c",
      "metadata": {
        "id": "f4fc834c",
        "outputId": "f6dfc9d0-a93f-4ebb-ed9e-1f95ff792b4b",
        "colab": {
          "base_uri": "https://localhost:8080/"
        }
      },
      "outputs": [
        {
          "output_type": "stream",
          "name": "stdout",
          "text": [
            "count     488\n",
            "unique    175\n",
            "top        84\n",
            "freq       10\n",
            "Name: Triglicéridos_Pre_Tx, dtype: int64\n",
            "--------------------\n",
            "Número de datos nulos: 248\n"
          ]
        }
      ],
      "source": [
        "ver_datos(df, 'Triglicéridos_Pre_Tx')"
      ]
    },
    {
      "cell_type": "code",
      "execution_count": 389,
      "id": "a1e88b0f",
      "metadata": {
        "id": "a1e88b0f"
      },
      "outputs": [],
      "source": [
        "limpiar_numericas(df,'Triglicéridos_Pre_Tx')"
      ]
    },
    {
      "cell_type": "code",
      "execution_count": 390,
      "id": "e4ce60da",
      "metadata": {
        "id": "e4ce60da"
      },
      "outputs": [],
      "source": [
        "df['Triglicéridos_Pre_Tx'] = (\n",
        "    df['Triglicéridos_Pre_Tx']\n",
        "    .replace({\n",
        "        0: np.nan\n",
        "    })\n",
        ")"
      ]
    },
    {
      "cell_type": "code",
      "execution_count": 391,
      "id": "edb3b0e9",
      "metadata": {
        "id": "edb3b0e9",
        "outputId": "981ac989-f176-4315-e398-7a66b9b239c2",
        "colab": {
          "base_uri": "https://localhost:8080/"
        }
      },
      "outputs": [
        {
          "output_type": "stream",
          "name": "stdout",
          "text": [
            "count     486.000000\n",
            "mean      111.400000\n",
            "std       106.369766\n",
            "min        14.000000\n",
            "25%        67.000000\n",
            "50%        91.000000\n",
            "75%       126.000000\n",
            "max      1444.000000\n",
            "Name: Triglicéridos_Pre_Tx, dtype: float64\n",
            "--------------------\n",
            "Número de datos nulos: 250\n"
          ]
        }
      ],
      "source": [
        "ver_datos(df, 'Triglicéridos_Pre_Tx')"
      ]
    },
    {
      "cell_type": "markdown",
      "id": "88778d0c",
      "metadata": {
        "id": "88778d0c"
      },
      "source": [
        "### Dislipidemia_Pre_Tx"
      ]
    },
    {
      "cell_type": "code",
      "execution_count": 392,
      "id": "dabef1bf",
      "metadata": {
        "id": "dabef1bf",
        "outputId": "40e9f89c-19be-4612-934d-428780fb3f78",
        "colab": {
          "base_uri": "https://localhost:8080/"
        }
      },
      "outputs": [
        {
          "output_type": "stream",
          "name": "stdout",
          "text": [
            "count    630.000000\n",
            "mean       1.153968\n",
            "std       12.806997\n",
            "min        0.000000\n",
            "25%        0.000000\n",
            "50%        0.000000\n",
            "75%        0.000000\n",
            "max      258.000000\n",
            "Name: Dislipidemia_Pre_Tx, dtype: float64\n",
            "--------------------\n",
            "Número de datos nulos: 106\n",
            "--------------------\n",
            "Dislipidemia_Pre_Tx\n",
            "0.0      488\n",
            "1.0      108\n",
            "NaN      106\n",
            "3.0       15\n",
            "4.0       13\n",
            "2.0        3\n",
            "258.0      1\n",
            "86.0       1\n",
            "172.0      1\n",
            "Name: count, dtype: int64\n"
          ]
        }
      ],
      "source": [
        "ver_datos(df, 'Dislipidemia_Pre_Tx', True)"
      ]
    },
    {
      "cell_type": "code",
      "execution_count": 393,
      "id": "9c9aa4e9",
      "metadata": {
        "id": "9c9aa4e9"
      },
      "outputs": [],
      "source": [
        "df['Dislipidemia_Pre_Tx'] = (\n",
        "    df['Dislipidemia_Pre_Tx']\n",
        "    .replace(\n",
        "        [258, 86, 172], 0\n",
        "    )\n",
        ")"
      ]
    },
    {
      "cell_type": "code",
      "execution_count": 394,
      "id": "bcf6e52e",
      "metadata": {
        "id": "bcf6e52e",
        "outputId": "54582bfa-46b4-40aa-b316-82dab57bd830",
        "colab": {
          "base_uri": "https://localhost:8080/"
        }
      },
      "outputs": [
        {
          "output_type": "stream",
          "name": "stdout",
          "text": [
            "count    630.000000\n",
            "mean       0.334921\n",
            "std        0.789771\n",
            "min        0.000000\n",
            "25%        0.000000\n",
            "50%        0.000000\n",
            "75%        0.000000\n",
            "max        4.000000\n",
            "Name: Dislipidemia_Pre_Tx, dtype: float64\n",
            "--------------------\n",
            "Número de datos nulos: 106\n",
            "--------------------\n",
            "Dislipidemia_Pre_Tx\n",
            "0.0    491\n",
            "1.0    108\n",
            "NaN    106\n",
            "3.0     15\n",
            "4.0     13\n",
            "2.0      3\n",
            "Name: count, dtype: int64\n"
          ]
        }
      ],
      "source": [
        "ver_datos(df, 'Dislipidemia_Pre_Tx', True)"
      ]
    },
    {
      "cell_type": "markdown",
      "id": "90bfaf32",
      "metadata": {
        "id": "90bfaf32"
      },
      "source": [
        "### MDRD_Categórico_PreTx"
      ]
    },
    {
      "cell_type": "code",
      "execution_count": 395,
      "id": "89c48c4c",
      "metadata": {
        "id": "89c48c4c",
        "outputId": "3ba3434f-1f8c-45b2-a42c-52a9b0298581",
        "colab": {
          "base_uri": "https://localhost:8080/"
        }
      },
      "outputs": [
        {
          "output_type": "stream",
          "name": "stdout",
          "text": [
            "count    575.000000\n",
            "mean       0.621896\n",
            "std        1.134050\n",
            "min        0.000000\n",
            "25%        0.000000\n",
            "50%        0.000000\n",
            "75%        1.000000\n",
            "max       18.590000\n",
            "Name: MDRD_Categórico_PreTx, dtype: float64\n",
            "--------------------\n",
            "Número de datos nulos: 161\n",
            "--------------------\n",
            "MDRD_Categórico_PreTx\n",
            "0.00     341\n",
            "NaN      161\n",
            "1.00     151\n",
            "2.00      66\n",
            "4.00       8\n",
            "3.00       8\n",
            "18.59      1\n",
            "Name: count, dtype: int64\n"
          ]
        }
      ],
      "source": [
        "ver_datos(df, 'MDRD_Categórico_PreTx', True)"
      ]
    },
    {
      "cell_type": "code",
      "execution_count": 396,
      "id": "a84dbd26",
      "metadata": {
        "id": "a84dbd26"
      },
      "outputs": [],
      "source": [
        "df['MDRD_Categórico_PreTx'] = (\n",
        "    df['MDRD_Categórico_PreTx']\n",
        "    .replace(\n",
        "        [18.59], 3\n",
        "    )\n",
        ")"
      ]
    },
    {
      "cell_type": "code",
      "execution_count": 397,
      "id": "97052151",
      "metadata": {
        "id": "97052151",
        "outputId": "1f5e01d8-111f-41dc-bfe5-ab0454e24389",
        "colab": {
          "base_uri": "https://localhost:8080/"
        }
      },
      "outputs": [
        {
          "output_type": "stream",
          "name": "stdout",
          "text": [
            "count    575.000000\n",
            "mean       0.594783\n",
            "std        0.855994\n",
            "min        0.000000\n",
            "25%        0.000000\n",
            "50%        0.000000\n",
            "75%        1.000000\n",
            "max        4.000000\n",
            "Name: MDRD_Categórico_PreTx, dtype: float64\n",
            "--------------------\n",
            "Número de datos nulos: 161\n",
            "--------------------\n",
            "MDRD_Categórico_PreTx\n",
            "0.0    341\n",
            "NaN    161\n",
            "1.0    151\n",
            "2.0     66\n",
            "3.0      9\n",
            "4.0      8\n",
            "Name: count, dtype: int64\n"
          ]
        }
      ],
      "source": [
        "ver_datos(df, 'MDRD_Categórico_PreTx', True)"
      ]
    },
    {
      "cell_type": "markdown",
      "id": "4468df37",
      "metadata": {
        "id": "4468df37"
      },
      "source": [
        "### CMV_Receptor"
      ]
    },
    {
      "cell_type": "code",
      "execution_count": 398,
      "id": "c9b7054f",
      "metadata": {
        "id": "c9b7054f",
        "outputId": "71e17e3d-559c-4f26-da55-25223faf413c",
        "colab": {
          "base_uri": "https://localhost:8080/"
        }
      },
      "outputs": [
        {
          "output_type": "stream",
          "name": "stdout",
          "text": [
            "count    643.000000\n",
            "mean       0.962675\n",
            "std        0.189705\n",
            "min        0.000000\n",
            "25%        1.000000\n",
            "50%        1.000000\n",
            "75%        1.000000\n",
            "max        1.000000\n",
            "Name: CMV_Receptor, dtype: float64\n",
            "--------------------\n",
            "Número de datos nulos: 93\n",
            "--------------------\n",
            "CMV_Receptor\n",
            "1.0    619\n",
            "NaN     93\n",
            "0.0     24\n",
            "Name: count, dtype: int64\n"
          ]
        }
      ],
      "source": [
        "ver_datos(df, 'CMV_Receptor', True)"
      ]
    },
    {
      "cell_type": "markdown",
      "id": "82e90500",
      "metadata": {
        "id": "82e90500"
      },
      "source": [
        "### EKG_PreQx"
      ]
    },
    {
      "cell_type": "code",
      "execution_count": 399,
      "id": "efe86e87",
      "metadata": {
        "id": "efe86e87",
        "outputId": "a9827bc0-a21b-467b-848c-8e75ff03c827",
        "colab": {
          "base_uri": "https://localhost:8080/"
        }
      },
      "outputs": [
        {
          "output_type": "stream",
          "name": "stdout",
          "text": [
            "count     583\n",
            "unique     15\n",
            "top         0\n",
            "freq      435\n",
            "Name: EKG_PreQx, dtype: int64\n",
            "--------------------\n",
            "Número de datos nulos: 153\n",
            "--------------------\n",
            "EKG_PreQx\n",
            "0        435\n",
            "NaN      153\n",
            "2         42\n",
            "1         34\n",
            "6         23\n",
            "5         17\n",
            "8         10\n",
            "3          5\n",
            "7          4\n",
            "9          4\n",
            "P          2\n",
            "?          2\n",
            "10         2\n",
            "3 - 4      1\n",
            "4          1\n",
            "nv         1\n",
            "Name: count, dtype: int64\n"
          ]
        }
      ],
      "source": [
        "ver_datos(df, 'EKG_PreQx', True)"
      ]
    },
    {
      "cell_type": "code",
      "execution_count": 400,
      "id": "65ccc7dd",
      "metadata": {
        "id": "65ccc7dd",
        "outputId": "035d3ed5-4cc4-4730-87e1-73fa4cfc7c76",
        "colab": {
          "base_uri": "https://localhost:8080/"
        }
      },
      "outputs": [
        {
          "output_type": "stream",
          "name": "stderr",
          "text": [
            "/tmp/ipython-input-3695801232.py:3: FutureWarning: Downcasting behavior in `replace` is deprecated and will be removed in a future version. To retain the old behavior, explicitly call `result.infer_objects(copy=False)`. To opt-in to the future behavior, set `pd.set_option('future.no_silent_downcasting', True)`\n",
            "  .replace({\n"
          ]
        }
      ],
      "source": [
        "df['EKG_PreQx'] = (\n",
        "    df['EKG_PreQx']\n",
        "    .replace({\n",
        "        '?': np.nan,\n",
        "        'P': np.nan,\n",
        "        10: np.nan,\n",
        "        'nv': np.nan,\n",
        "        '3 - 4':3\n",
        "    })\n",
        ")"
      ]
    },
    {
      "cell_type": "code",
      "execution_count": 401,
      "id": "70d9f89c",
      "metadata": {
        "id": "70d9f89c",
        "outputId": "83814de5-f611-4dbe-cb04-2fb6efd885e0",
        "colab": {
          "base_uri": "https://localhost:8080/"
        }
      },
      "outputs": [
        {
          "output_type": "stream",
          "name": "stdout",
          "text": [
            "count    576.000000\n",
            "mean       0.880208\n",
            "std        1.973183\n",
            "min        0.000000\n",
            "25%        0.000000\n",
            "50%        0.000000\n",
            "75%        0.000000\n",
            "max        9.000000\n",
            "Name: EKG_PreQx, dtype: float64\n",
            "--------------------\n",
            "Número de datos nulos: 160\n",
            "--------------------\n",
            "EKG_PreQx\n",
            "0.0    435\n",
            "NaN    160\n",
            "2.0     42\n",
            "1.0     34\n",
            "6.0     23\n",
            "5.0     17\n",
            "8.0     10\n",
            "3.0      6\n",
            "9.0      4\n",
            "7.0      4\n",
            "4.0      1\n",
            "Name: count, dtype: int64\n"
          ]
        }
      ],
      "source": [
        "ver_datos(df, 'EKG_PreQx', True)"
      ]
    },
    {
      "cell_type": "markdown",
      "id": "1d43dc5e",
      "metadata": {
        "id": "1d43dc5e"
      },
      "source": [
        "### EKG_PreQx_Valor"
      ]
    },
    {
      "cell_type": "code",
      "execution_count": 402,
      "id": "9a9885f0",
      "metadata": {
        "id": "9a9885f0",
        "outputId": "6a85a352-f090-43ba-82fb-d9175b6a9817",
        "colab": {
          "base_uri": "https://localhost:8080/"
        }
      },
      "outputs": [
        {
          "output_type": "stream",
          "name": "stdout",
          "text": [
            "count        393\n",
            "unique       111\n",
            "top       NORMAL\n",
            "freq         146\n",
            "Name: EKG_PreQx_Valor, dtype: object\n",
            "--------------------\n",
            "Número de datos nulos: 343\n",
            "--------------------\n",
            "EKG_PreQx_Valor\n",
            "NaN                                                                        343\n",
            "NORMAL                                                                     146\n",
            "0                                                                           91\n",
            "TRASTORNO DE LA REPOLARIZACIÓN                                              11\n",
            "BRADICARDIA SINUSAL                                                         10\n",
            "                                                                          ... \n",
            "BLOQUEO COMPLETO DE RAMA DERECHA. HEMIBLOQUEO ANTEROSUPERIOR\\nIZQUIERDO      1\n",
            "BLOQUEO ANTEROSUPERIOR                                                       1\n",
            "EXTRSÍSTOLES VENTRICULAES                                                    1\n",
            "PROGRESIÓN LENTA DE LA ONDA R Y ANOMALÍA T INESPECÍFICA                      1\n",
            "NORAML                                                                       1\n",
            "Name: count, Length: 112, dtype: int64\n"
          ]
        }
      ],
      "source": [
        "ver_datos(df, 'EKG_PreQx_Valor', True)"
      ]
    },
    {
      "cell_type": "markdown",
      "id": "7bb4543f",
      "metadata": {
        "id": "7bb4543f"
      },
      "source": [
        "### Valvulopatía_Pre_Tx"
      ]
    },
    {
      "cell_type": "code",
      "execution_count": 403,
      "id": "bfab8be1",
      "metadata": {
        "id": "bfab8be1",
        "outputId": "1c39b94c-022d-4d90-efe5-976e8d241b9e",
        "colab": {
          "base_uri": "https://localhost:8080/"
        }
      },
      "outputs": [
        {
          "output_type": "stream",
          "name": "stdout",
          "text": [
            "count     639\n",
            "unique     25\n",
            "top         0\n",
            "freq      523\n",
            "Name: Valvulopatía_Pre_Tx, dtype: int64\n",
            "--------------------\n",
            "Número de datos nulos: 97\n",
            "--------------------\n",
            "Valvulopatía_Pre_Tx\n",
            "0                                                                     523\n",
            "NaN                                                                    97\n",
            "4                                                                      37\n",
            "1                                                                      31\n",
            "2                                                                      15\n",
            "2+4                                                                     8\n",
            "3                                                                       6\n",
            "2.1                                                                     1\n",
            "AORTICA Y MITRAL                                                        1\n",
            "ESCLEROSIS VAL AORTICA CON LEVE GRADIENTE SISTÓLICO (POR ECG)           1\n",
            "INFS  MITRAL Y TRIC LEVE                                                1\n",
            "INSF MITRAL Y TRICUSPIDEA                                               1\n",
            "1 (INS AORITCA)                                                         1\n",
            "4 (GRADO III)                                                           1\n",
            "NV                                                                      1\n",
            "2 - 4(INSUF MITRAL Y TRICUSP)                                           1\n",
            "2 (PROLAPSO MITRAL PEQUEÑO)                                             1\n",
            "2-4 (INSUF MITRAL Y TRICUSP)                                            1\n",
            "1+4                                                                     1\n",
            "INSUF 1+2                                                               1\n",
            "4 (insuf tricusp)                                                       1\n",
            "1 (insuf tricusp)                                                       1\n",
            "2- 4(INSUFCIENCIA TRICUSP Y MITRAL)                                     1\n",
            "2 (INSUF MITRAL)                                                        1\n",
            "2 (MOVIMIENTO ANTERIOR SISTÓLICO DE LA VALVA ANTERIOR DE LA MITRAL      1\n",
            "1 (INSUF AORTICA)                                                       1\n",
            "Name: count, dtype: int64\n"
          ]
        }
      ],
      "source": [
        "ver_datos(df, 'Valvulopatía_Pre_Tx', True)"
      ]
    },
    {
      "cell_type": "code",
      "execution_count": 404,
      "id": "ad00b1ca",
      "metadata": {
        "id": "ad00b1ca",
        "outputId": "fa7b0487-7dfb-4798-ae6a-f1cda68c0020",
        "colab": {
          "base_uri": "https://localhost:8080/"
        }
      },
      "outputs": [
        {
          "output_type": "stream",
          "name": "stderr",
          "text": [
            "/tmp/ipython-input-890579721.py:3: FutureWarning: Downcasting behavior in `replace` is deprecated and will be removed in a future version. To retain the old behavior, explicitly call `result.infer_objects(copy=False)`. To opt-in to the future behavior, set `pd.set_option('future.no_silent_downcasting', True)`\n",
            "  .replace({\n"
          ]
        }
      ],
      "source": [
        "df['Valvulopatía_Pre_Tx'] = (\n",
        "    df['Valvulopatía_Pre_Tx']\n",
        "    .replace({\n",
        "        'AORTICA Y MITRAL':1,\n",
        "        'ESCLEROSIS VAL AORTICA CON LEVE GRADIENTE SISTÓLICO (POR ECG)':1,\n",
        "        'INFS  MITRAL Y TRIC LEVE':2,\n",
        "        'INSF MITRAL Y TRICUSPIDEA':2,\n",
        "        '1 (INS AORITCA)':1,\n",
        "        '4 (GRADO III)':4,\n",
        "        'NV':np.nan,\n",
        "        '2 - 4(INSUF MITRAL Y TRICUSP)':2,\n",
        "        '2 (PROLAPSO MITRAL PEQUEÑO)':2,\n",
        "        '2-4 (INSUF MITRAL Y TRICUSP)':2,\n",
        "        '1+4':1,\n",
        "        'INSUF 1+2':1,\n",
        "        '4 (insuf tricusp)':4,\n",
        "        '1 (insuf tricusp)':np.nan,\n",
        "        '2- 4(INSUFCIENCIA TRICUSP Y MITRAL)':2,\n",
        "        '2 (INSUF MITRAL)':2,\n",
        "        '2 (MOVIMIENTO ANTERIOR SISTÓLICO DE LA VALVA ANTERIOR DE LA MITRAL':2,\n",
        "        '1 (INSUF AORTICA)':1,\n",
        "        '2+4':2,\n",
        "        2.1:2\n",
        "    })\n",
        ")"
      ]
    },
    {
      "cell_type": "code",
      "execution_count": 405,
      "id": "0ee2a174",
      "metadata": {
        "id": "0ee2a174",
        "outputId": "6e6d4f62-19d7-4022-caad-6697894ec8d9",
        "colab": {
          "base_uri": "https://localhost:8080/"
        }
      },
      "outputs": [
        {
          "output_type": "stream",
          "name": "stdout",
          "text": [
            "count    637.000000\n",
            "mean       0.431711\n",
            "std        1.067148\n",
            "min        0.000000\n",
            "25%        0.000000\n",
            "50%        0.000000\n",
            "75%        0.000000\n",
            "max        4.000000\n",
            "Name: Valvulopatía_Pre_Tx, dtype: float64\n",
            "--------------------\n",
            "Número de datos nulos: 99\n",
            "--------------------\n",
            "Valvulopatía_Pre_Tx\n",
            "0.0    523\n",
            "NaN     99\n",
            "4.0     39\n",
            "1.0     37\n",
            "2.0     32\n",
            "3.0      6\n",
            "Name: count, dtype: int64\n"
          ]
        }
      ],
      "source": [
        "ver_datos(df, 'Valvulopatía_Pre_Tx', True)"
      ]
    },
    {
      "cell_type": "markdown",
      "id": "c0c00f2a",
      "metadata": {
        "id": "c0c00f2a"
      },
      "source": [
        "### Valvulopatía_SiNo"
      ]
    },
    {
      "cell_type": "code",
      "execution_count": 406,
      "id": "1657d274",
      "metadata": {
        "id": "1657d274"
      },
      "outputs": [],
      "source": [
        "def valv_bool(value):\n",
        "    if pd.isna(value):\n",
        "        return np.nan\n",
        "    elif value==0:\n",
        "        return 0\n",
        "    else:\n",
        "        return 1"
      ]
    },
    {
      "cell_type": "code",
      "execution_count": 407,
      "id": "575e2836",
      "metadata": {
        "id": "575e2836"
      },
      "outputs": [],
      "source": [
        "df['Valvulopatía_SiNo'] = df['Valvulopatía_Pre_Tx'].apply(valv_bool)"
      ]
    },
    {
      "cell_type": "code",
      "execution_count": 408,
      "id": "abc73973",
      "metadata": {
        "id": "abc73973"
      },
      "outputs": [],
      "source": [
        "selected_columns.append('Valvulopatía_SiNo')"
      ]
    },
    {
      "cell_type": "code",
      "execution_count": 409,
      "id": "38f24d5b",
      "metadata": {
        "id": "38f24d5b",
        "outputId": "5c9d56e1-4636-48fe-9519-e3f0cd309082",
        "colab": {
          "base_uri": "https://localhost:8080/"
        }
      },
      "outputs": [
        {
          "output_type": "stream",
          "name": "stdout",
          "text": [
            "count    637.000000\n",
            "mean       0.178964\n",
            "std        0.383623\n",
            "min        0.000000\n",
            "25%        0.000000\n",
            "50%        0.000000\n",
            "75%        0.000000\n",
            "max        1.000000\n",
            "Name: Valvulopatía_SiNo, dtype: float64\n",
            "--------------------\n",
            "Número de datos nulos: 99\n",
            "--------------------\n",
            "Valvulopatía_SiNo\n",
            "0.0    523\n",
            "1.0    114\n",
            "NaN     99\n",
            "Name: count, dtype: int64\n"
          ]
        }
      ],
      "source": [
        "ver_datos(df, 'Valvulopatía_SiNo', True)"
      ]
    },
    {
      "cell_type": "markdown",
      "id": "3be800ed",
      "metadata": {
        "id": "3be800ed"
      },
      "source": [
        "### Ecocardiograma_PreQx_FE%"
      ]
    },
    {
      "cell_type": "code",
      "execution_count": 410,
      "id": "4968eb64",
      "metadata": {
        "id": "4968eb64",
        "outputId": "a3179321-e22b-4586-d220-d9da9d3fdd4d",
        "colab": {
          "base_uri": "https://localhost:8080/"
        }
      },
      "outputs": [
        {
          "output_type": "stream",
          "name": "stdout",
          "text": [
            "count     564\n",
            "unique     38\n",
            "top        65\n",
            "freq       84\n",
            "Name: Ecocardiograma_PreQx_FE%, dtype: int64\n",
            "--------------------\n",
            "Número de datos nulos: 172\n"
          ]
        }
      ],
      "source": [
        "ver_datos(df, 'Ecocardiograma_PreQx_FE%')"
      ]
    },
    {
      "cell_type": "code",
      "execution_count": 411,
      "id": "784b6605",
      "metadata": {
        "id": "784b6605"
      },
      "outputs": [],
      "source": [
        "limpiar_numericas(df, 'Ecocardiograma_PreQx_FE%')"
      ]
    },
    {
      "cell_type": "code",
      "execution_count": 412,
      "id": "809cc23e",
      "metadata": {
        "id": "809cc23e",
        "outputId": "42f27e25-d414-454e-e147-2d0f647e832f",
        "colab": {
          "base_uri": "https://localhost:8080/"
        }
      },
      "outputs": [
        {
          "output_type": "stream",
          "name": "stdout",
          "text": [
            "count    561.000000\n",
            "mean      66.709447\n",
            "std        5.824155\n",
            "min       49.000000\n",
            "25%       63.000000\n",
            "50%       66.000000\n",
            "75%       70.000000\n",
            "max       94.000000\n",
            "Name: Ecocardiograma_PreQx_FE%, dtype: float64\n",
            "--------------------\n",
            "Número de datos nulos: 175\n"
          ]
        }
      ],
      "source": [
        "ver_datos(df, 'Ecocardiograma_PreQx_FE%')"
      ]
    },
    {
      "cell_type": "markdown",
      "id": "df14d410",
      "metadata": {
        "id": "df14d410"
      },
      "source": [
        "### Ecocardiograma_PreQx-FE_Cod"
      ]
    },
    {
      "cell_type": "code",
      "execution_count": 413,
      "id": "afff671c",
      "metadata": {
        "id": "afff671c",
        "outputId": "77f92f10-469d-4a68-bf48-e6181b05cc61",
        "colab": {
          "base_uri": "https://localhost:8080/"
        }
      },
      "outputs": [
        {
          "output_type": "stream",
          "name": "stdout",
          "text": [
            "count     524\n",
            "unique      5\n",
            "top         2\n",
            "freq      349\n",
            "Name: Ecocardiograma_PreQx-FE_Cod, dtype: int64\n",
            "--------------------\n",
            "Número de datos nulos: 212\n",
            "--------------------\n",
            "Ecocardiograma_PreQx-FE_Cod\n",
            "2      349\n",
            "NaN    212\n",
            "0      126\n",
            "1       47\n",
            "NV       1\n",
            "nv       1\n",
            "Name: count, dtype: int64\n"
          ]
        }
      ],
      "source": [
        "ver_datos(df, 'Ecocardiograma_PreQx-FE_Cod', True)"
      ]
    },
    {
      "cell_type": "code",
      "execution_count": 414,
      "id": "b97a1986",
      "metadata": {
        "id": "b97a1986",
        "outputId": "b0899fbd-f98b-4fa0-d2dc-d8c7fb2d9556",
        "colab": {
          "base_uri": "https://localhost:8080/"
        }
      },
      "outputs": [
        {
          "output_type": "stream",
          "name": "stderr",
          "text": [
            "/tmp/ipython-input-383932686.py:3: FutureWarning: Downcasting behavior in `replace` is deprecated and will be removed in a future version. To retain the old behavior, explicitly call `result.infer_objects(copy=False)`. To opt-in to the future behavior, set `pd.set_option('future.no_silent_downcasting', True)`\n",
            "  .replace({\n"
          ]
        }
      ],
      "source": [
        "df['Ecocardiograma_PreQx-FE_Cod'] = (\n",
        "    df['Ecocardiograma_PreQx-FE_Cod']\n",
        "    .replace({\n",
        "        'NV':np.nan,\n",
        "        'nv':np.nan,\n",
        "    })\n",
        ")"
      ]
    },
    {
      "cell_type": "code",
      "execution_count": 415,
      "id": "3ff14d69",
      "metadata": {
        "id": "3ff14d69"
      },
      "outputs": [],
      "source": [
        "def clasificar_fraccion_eyeccion_ekg(ekg):\n",
        "    if pd.isna(ekg):\n",
        "        return np.nan\n",
        "    elif ekg > 60:\n",
        "        return 0\n",
        "    elif ekg < 40:\n",
        "        return 2\n",
        "    else:\n",
        "        1"
      ]
    },
    {
      "cell_type": "code",
      "execution_count": 416,
      "id": "f45fa476",
      "metadata": {
        "id": "f45fa476"
      },
      "outputs": [],
      "source": [
        "calculated_Fr_Ey_EKG = df['Ecocardiograma_PreQx_FE%'].apply(clasificar_fraccion_eyeccion_ekg)\n",
        "df.loc[df['Ecocardiograma_PreQx-FE_Cod'].isna() & df['Ecocardiograma_PreQx_FE%'].notna(), 'Ecocardiograma_PreQx-FE_Cod'] = calculated_Fr_Ey_EKG"
      ]
    },
    {
      "cell_type": "code",
      "execution_count": 417,
      "id": "f8109674",
      "metadata": {
        "id": "f8109674",
        "outputId": "7a26ab10-bb2e-4eb9-aab6-c9b91a8bc2bf",
        "colab": {
          "base_uri": "https://localhost:8080/"
        }
      },
      "outputs": [
        {
          "output_type": "stream",
          "name": "stdout",
          "text": [
            "count    558.000000\n",
            "mean       1.335125\n",
            "std        0.897164\n",
            "min        0.000000\n",
            "25%        0.000000\n",
            "50%        2.000000\n",
            "75%        2.000000\n",
            "max        2.000000\n",
            "Name: Ecocardiograma_PreQx-FE_Cod, dtype: float64\n",
            "--------------------\n",
            "Número de datos nulos: 178\n",
            "--------------------\n",
            "Ecocardiograma_PreQx-FE_Cod\n",
            "2.0    349\n",
            "NaN    178\n",
            "0.0    162\n",
            "1.0     47\n",
            "Name: count, dtype: int64\n"
          ]
        }
      ],
      "source": [
        "ver_datos(df, 'Ecocardiograma_PreQx-FE_Cod', True)"
      ]
    },
    {
      "cell_type": "markdown",
      "id": "d68b881d",
      "metadata": {
        "id": "d68b881d"
      },
      "source": [
        "### Ecocardiograma_PreQx_RC%"
      ]
    },
    {
      "cell_type": "code",
      "execution_count": 418,
      "id": "ca741e32",
      "metadata": {
        "id": "ca741e32",
        "outputId": "04ac1a6b-bb46-4446-f271-f59218e1497d",
        "colab": {
          "base_uri": "https://localhost:8080/"
        }
      },
      "outputs": [
        {
          "output_type": "stream",
          "name": "stdout",
          "text": [
            "count     502\n",
            "unique     55\n",
            "top        87\n",
            "freq       82\n",
            "Name: Ecocardiograma_PreQx_RC%, dtype: int64\n",
            "--------------------\n",
            "Número de datos nulos: 234\n"
          ]
        }
      ],
      "source": [
        "ver_datos(df, 'Ecocardiograma_PreQx_RC%')"
      ]
    },
    {
      "cell_type": "code",
      "execution_count": 419,
      "id": "771f2bee",
      "metadata": {
        "id": "771f2bee"
      },
      "outputs": [],
      "source": [
        "df['Ecocardiograma_PreQx_RC%'] = (\n",
        "    df['Ecocardiograma_PreQx_RC%']\n",
        "    .replace({\n",
        "        'NV':np.nan,\n",
        "        'nv \"resultado digiatado\"':np.nan,\n",
        "    })\n",
        ")"
      ]
    },
    {
      "cell_type": "code",
      "execution_count": 420,
      "id": "cd0a7c58",
      "metadata": {
        "id": "cd0a7c58"
      },
      "outputs": [],
      "source": [
        "limpiar_numericas(df, 'Ecocardiograma_PreQx_RC%')"
      ]
    },
    {
      "cell_type": "code",
      "execution_count": 421,
      "id": "a0480ff4",
      "metadata": {
        "id": "a0480ff4",
        "outputId": "88b84c24-7506-4d6f-88e2-c3188b9d8145",
        "colab": {
          "base_uri": "https://localhost:8080/"
        }
      },
      "outputs": [
        {
          "output_type": "stream",
          "name": "stdout",
          "text": [
            "count    495.000000\n",
            "mean      87.830000\n",
            "std       10.541842\n",
            "min        0.850000\n",
            "25%       85.000000\n",
            "50%       87.000000\n",
            "75%       91.000000\n",
            "max      141.000000\n",
            "Name: Ecocardiograma_PreQx_RC%, dtype: float64\n",
            "--------------------\n",
            "Número de datos nulos: 241\n"
          ]
        }
      ],
      "source": [
        "ver_datos(df, 'Ecocardiograma_PreQx_RC%')"
      ]
    },
    {
      "cell_type": "markdown",
      "id": "8f167173",
      "metadata": {
        "id": "8f167173"
      },
      "source": [
        "### Ecocardiograma_PreQx_RC"
      ]
    },
    {
      "cell_type": "code",
      "execution_count": 422,
      "id": "6f27e405",
      "metadata": {
        "id": "6f27e405",
        "outputId": "0c4af06f-254b-4969-8c02-e0a85204fc3b",
        "colab": {
          "base_uri": "https://localhost:8080/"
        }
      },
      "outputs": [
        {
          "output_type": "stream",
          "name": "stdout",
          "text": [
            "count     453\n",
            "unique      7\n",
            "top         0\n",
            "freq      368\n",
            "Name: Ecocardiograma_PreQx_RC, dtype: int64\n",
            "--------------------\n",
            "Número de datos nulos: 283\n",
            "--------------------\n",
            "Ecocardiograma_PreQx_RC\n",
            "0      368\n",
            "NaN    283\n",
            "1       67\n",
            "2       13\n",
            "NV       2\n",
            "9        1\n",
            "nv       1\n",
            "85       1\n",
            "Name: count, dtype: int64\n"
          ]
        }
      ],
      "source": [
        "ver_datos(df, 'Ecocardiograma_PreQx_RC', True)"
      ]
    },
    {
      "cell_type": "code",
      "execution_count": 423,
      "id": "b8814544",
      "metadata": {
        "id": "b8814544",
        "outputId": "b0ae3f0f-b76f-4712-88bb-b051e0deccb5",
        "colab": {
          "base_uri": "https://localhost:8080/"
        }
      },
      "outputs": [
        {
          "output_type": "stream",
          "name": "stderr",
          "text": [
            "/tmp/ipython-input-4194565765.py:3: FutureWarning: Downcasting behavior in `replace` is deprecated and will be removed in a future version. To retain the old behavior, explicitly call `result.infer_objects(copy=False)`. To opt-in to the future behavior, set `pd.set_option('future.no_silent_downcasting', True)`\n",
            "  .replace({\n"
          ]
        }
      ],
      "source": [
        "df['Ecocardiograma_PreQx_RC'] = (\n",
        "    df['Ecocardiograma_PreQx_RC']\n",
        "    .replace({\n",
        "        'NV':np.nan,\n",
        "        'nv':np.nan\n",
        "    })\n",
        ")"
      ]
    },
    {
      "cell_type": "code",
      "execution_count": 424,
      "id": "83d57531",
      "metadata": {
        "id": "83d57531"
      },
      "outputs": [],
      "source": [
        "def clasificar_resp(ekg):\n",
        "    if pd.isna(ekg):\n",
        "        return np.nan\n",
        "    elif ekg >= 85:\n",
        "        return 0\n",
        "    elif ekg < 85:\n",
        "        return 1"
      ]
    },
    {
      "cell_type": "code",
      "execution_count": 425,
      "id": "bae7ace5",
      "metadata": {
        "id": "bae7ace5"
      },
      "outputs": [],
      "source": [
        "calculated_RC_EKG = df['Ecocardiograma_PreQx_RC%'].apply(clasificar_resp)\n",
        "df.loc[(df['Ecocardiograma_PreQx_RC']>1) & df['Ecocardiograma_PreQx_RC%'].notna(), 'Ecocardiograma_PreQx_RC'] = calculated_RC_EKG"
      ]
    },
    {
      "cell_type": "code",
      "execution_count": 426,
      "id": "4c82c92c",
      "metadata": {
        "id": "4c82c92c"
      },
      "outputs": [],
      "source": [
        "df['Ecocardiograma_PreQx_RC'] = (\n",
        "    df['Ecocardiograma_PreQx_RC']\n",
        "    .replace({\n",
        "        2:np.nan\n",
        "    })\n",
        ")"
      ]
    },
    {
      "cell_type": "code",
      "execution_count": 427,
      "id": "565ba5b3",
      "metadata": {
        "id": "565ba5b3",
        "outputId": "848c9774-a0e3-4a17-acd5-5d8b848c87af",
        "colab": {
          "base_uri": "https://localhost:8080/"
        }
      },
      "outputs": [
        {
          "output_type": "stream",
          "name": "stdout",
          "text": [
            "count    449.000000\n",
            "mean       0.153675\n",
            "std        0.361039\n",
            "min        0.000000\n",
            "25%        0.000000\n",
            "50%        0.000000\n",
            "75%        0.000000\n",
            "max        1.000000\n",
            "Name: Ecocardiograma_PreQx_RC, dtype: float64\n",
            "--------------------\n",
            "Número de datos nulos: 287\n",
            "--------------------\n",
            "Ecocardiograma_PreQx_RC\n",
            "0.0    380\n",
            "NaN    287\n",
            "1.0     69\n",
            "Name: count, dtype: int64\n"
          ]
        }
      ],
      "source": [
        "ver_datos(df, 'Ecocardiograma_PreQx_RC', True)"
      ]
    },
    {
      "cell_type": "markdown",
      "id": "7086fb05",
      "metadata": {
        "id": "7086fb05"
      },
      "source": [
        "### Ecocardiograma_PreQx_Hipertensión_Pulmonar"
      ]
    },
    {
      "cell_type": "code",
      "execution_count": 428,
      "id": "f97ce1c1",
      "metadata": {
        "id": "f97ce1c1",
        "outputId": "6b917086-a87b-4e4d-b4bf-5d2b51a64f85",
        "colab": {
          "base_uri": "https://localhost:8080/"
        }
      },
      "outputs": [
        {
          "output_type": "stream",
          "name": "stdout",
          "text": [
            "count     255\n",
            "unique     16\n",
            "top         0\n",
            "freq      160\n",
            "Name: Ecocardiograma_PreQx_Hipertensión_Pulmonar, dtype: int64\n",
            "--------------------\n",
            "Número de datos nulos: 481\n",
            "--------------------\n",
            "Ecocardiograma_PreQx_Hipertensión_Pulmonar\n",
            "NaN    481\n",
            "0      160\n",
            "1       73\n",
            "2        4\n",
            "36       3\n",
            "22       2\n",
            "39       2\n",
            "35       2\n",
            "30       1\n",
            "31       1\n",
            "29       1\n",
            "NO       1\n",
            "27       1\n",
            "37       1\n",
            "34       1\n",
            "20       1\n",
            "40       1\n",
            "Name: count, dtype: int64\n"
          ]
        }
      ],
      "source": [
        "ver_datos(df, 'Ecocardiograma_PreQx_Hipertensión_Pulmonar', True)"
      ]
    },
    {
      "cell_type": "code",
      "execution_count": 429,
      "id": "f0e159d2",
      "metadata": {
        "id": "f0e159d2",
        "outputId": "7630212f-b762-46b5-90f4-bb27abc007cf",
        "colab": {
          "base_uri": "https://localhost:8080/"
        }
      },
      "outputs": [
        {
          "output_type": "stream",
          "name": "stderr",
          "text": [
            "/tmp/ipython-input-4229912866.py:3: FutureWarning: Downcasting behavior in `replace` is deprecated and will be removed in a future version. To retain the old behavior, explicitly call `result.infer_objects(copy=False)`. To opt-in to the future behavior, set `pd.set_option('future.no_silent_downcasting', True)`\n",
            "  .replace({\n"
          ]
        }
      ],
      "source": [
        "df['Ecocardiograma_PreQx_Hipertensión_Pulmonar'] = (\n",
        "    df['Ecocardiograma_PreQx_Hipertensión_Pulmonar']\n",
        "    .replace({\n",
        "        'NO':0\n",
        "    })\n",
        ")"
      ]
    },
    {
      "cell_type": "code",
      "execution_count": 430,
      "id": "5fa15be0",
      "metadata": {
        "id": "5fa15be0",
        "outputId": "6d27ca78-7f7a-451f-d033-d1d41922242f",
        "colab": {
          "base_uri": "https://localhost:8080/",
          "height": 739
        }
      },
      "outputs": [
        {
          "output_type": "execute_result",
          "data": {
            "text/plain": [
              "            Ecocardiograma_PreQx_Hipertensión_Pulmonar  \\\n",
              "#_Paciente                                               \n",
              "217                                               30.0   \n",
              "218                                               29.0   \n",
              "223                                               35.0   \n",
              "233                                               36.0   \n",
              "235                                               31.0   \n",
              "245                                               22.0   \n",
              "249                                               27.0   \n",
              "253                                               37.0   \n",
              "255                                               36.0   \n",
              "256                                               35.0   \n",
              "258                                               36.0   \n",
              "260                                               39.0   \n",
              "261                                               22.0   \n",
              "263                                               34.0   \n",
              "264                                               39.0   \n",
              "265                                               20.0   \n",
              "268                                               40.0   \n",
              "312                                                2.0   \n",
              "348                                                2.0   \n",
              "352                                                2.0   \n",
              "353                                                2.0   \n",
              "\n",
              "           Ecocardiograma_PreQxPSAP  \n",
              "#_Paciente                           \n",
              "217                             NaN  \n",
              "218                             NaN  \n",
              "223                             NaN  \n",
              "233                             NaN  \n",
              "235                             NaN  \n",
              "245                             NaN  \n",
              "249                             NaN  \n",
              "253                             NaN  \n",
              "255                             NaN  \n",
              "256                             NaN  \n",
              "258                             NaN  \n",
              "260                             NaN  \n",
              "261                             NaN  \n",
              "263                             NaN  \n",
              "264                             NaN  \n",
              "265                             NaN  \n",
              "268                             NaN  \n",
              "312                              24  \n",
              "348                              24  \n",
              "352                              22  \n",
              "353                              26  "
            ],
            "text/html": [
              "\n",
              "  <div id=\"df-c5d7868e-2a64-4b3a-8612-af9907471a92\" class=\"colab-df-container\">\n",
              "    <div>\n",
              "<style scoped>\n",
              "    .dataframe tbody tr th:only-of-type {\n",
              "        vertical-align: middle;\n",
              "    }\n",
              "\n",
              "    .dataframe tbody tr th {\n",
              "        vertical-align: top;\n",
              "    }\n",
              "\n",
              "    .dataframe thead th {\n",
              "        text-align: right;\n",
              "    }\n",
              "</style>\n",
              "<table border=\"1\" class=\"dataframe\">\n",
              "  <thead>\n",
              "    <tr style=\"text-align: right;\">\n",
              "      <th></th>\n",
              "      <th>Ecocardiograma_PreQx_Hipertensión_Pulmonar</th>\n",
              "      <th>Ecocardiograma_PreQxPSAP</th>\n",
              "    </tr>\n",
              "    <tr>\n",
              "      <th>#_Paciente</th>\n",
              "      <th></th>\n",
              "      <th></th>\n",
              "    </tr>\n",
              "  </thead>\n",
              "  <tbody>\n",
              "    <tr>\n",
              "      <th>217</th>\n",
              "      <td>30.0</td>\n",
              "      <td>NaN</td>\n",
              "    </tr>\n",
              "    <tr>\n",
              "      <th>218</th>\n",
              "      <td>29.0</td>\n",
              "      <td>NaN</td>\n",
              "    </tr>\n",
              "    <tr>\n",
              "      <th>223</th>\n",
              "      <td>35.0</td>\n",
              "      <td>NaN</td>\n",
              "    </tr>\n",
              "    <tr>\n",
              "      <th>233</th>\n",
              "      <td>36.0</td>\n",
              "      <td>NaN</td>\n",
              "    </tr>\n",
              "    <tr>\n",
              "      <th>235</th>\n",
              "      <td>31.0</td>\n",
              "      <td>NaN</td>\n",
              "    </tr>\n",
              "    <tr>\n",
              "      <th>245</th>\n",
              "      <td>22.0</td>\n",
              "      <td>NaN</td>\n",
              "    </tr>\n",
              "    <tr>\n",
              "      <th>249</th>\n",
              "      <td>27.0</td>\n",
              "      <td>NaN</td>\n",
              "    </tr>\n",
              "    <tr>\n",
              "      <th>253</th>\n",
              "      <td>37.0</td>\n",
              "      <td>NaN</td>\n",
              "    </tr>\n",
              "    <tr>\n",
              "      <th>255</th>\n",
              "      <td>36.0</td>\n",
              "      <td>NaN</td>\n",
              "    </tr>\n",
              "    <tr>\n",
              "      <th>256</th>\n",
              "      <td>35.0</td>\n",
              "      <td>NaN</td>\n",
              "    </tr>\n",
              "    <tr>\n",
              "      <th>258</th>\n",
              "      <td>36.0</td>\n",
              "      <td>NaN</td>\n",
              "    </tr>\n",
              "    <tr>\n",
              "      <th>260</th>\n",
              "      <td>39.0</td>\n",
              "      <td>NaN</td>\n",
              "    </tr>\n",
              "    <tr>\n",
              "      <th>261</th>\n",
              "      <td>22.0</td>\n",
              "      <td>NaN</td>\n",
              "    </tr>\n",
              "    <tr>\n",
              "      <th>263</th>\n",
              "      <td>34.0</td>\n",
              "      <td>NaN</td>\n",
              "    </tr>\n",
              "    <tr>\n",
              "      <th>264</th>\n",
              "      <td>39.0</td>\n",
              "      <td>NaN</td>\n",
              "    </tr>\n",
              "    <tr>\n",
              "      <th>265</th>\n",
              "      <td>20.0</td>\n",
              "      <td>NaN</td>\n",
              "    </tr>\n",
              "    <tr>\n",
              "      <th>268</th>\n",
              "      <td>40.0</td>\n",
              "      <td>NaN</td>\n",
              "    </tr>\n",
              "    <tr>\n",
              "      <th>312</th>\n",
              "      <td>2.0</td>\n",
              "      <td>24</td>\n",
              "    </tr>\n",
              "    <tr>\n",
              "      <th>348</th>\n",
              "      <td>2.0</td>\n",
              "      <td>24</td>\n",
              "    </tr>\n",
              "    <tr>\n",
              "      <th>352</th>\n",
              "      <td>2.0</td>\n",
              "      <td>22</td>\n",
              "    </tr>\n",
              "    <tr>\n",
              "      <th>353</th>\n",
              "      <td>2.0</td>\n",
              "      <td>26</td>\n",
              "    </tr>\n",
              "  </tbody>\n",
              "</table>\n",
              "</div>\n",
              "    <div class=\"colab-df-buttons\">\n",
              "\n",
              "  <div class=\"colab-df-container\">\n",
              "    <button class=\"colab-df-convert\" onclick=\"convertToInteractive('df-c5d7868e-2a64-4b3a-8612-af9907471a92')\"\n",
              "            title=\"Convert this dataframe to an interactive table.\"\n",
              "            style=\"display:none;\">\n",
              "\n",
              "  <svg xmlns=\"http://www.w3.org/2000/svg\" height=\"24px\" viewBox=\"0 -960 960 960\">\n",
              "    <path d=\"M120-120v-720h720v720H120Zm60-500h600v-160H180v160Zm220 220h160v-160H400v160Zm0 220h160v-160H400v160ZM180-400h160v-160H180v160Zm440 0h160v-160H620v160ZM180-180h160v-160H180v160Zm440 0h160v-160H620v160Z\"/>\n",
              "  </svg>\n",
              "    </button>\n",
              "\n",
              "  <style>\n",
              "    .colab-df-container {\n",
              "      display:flex;\n",
              "      gap: 12px;\n",
              "    }\n",
              "\n",
              "    .colab-df-convert {\n",
              "      background-color: #E8F0FE;\n",
              "      border: none;\n",
              "      border-radius: 50%;\n",
              "      cursor: pointer;\n",
              "      display: none;\n",
              "      fill: #1967D2;\n",
              "      height: 32px;\n",
              "      padding: 0 0 0 0;\n",
              "      width: 32px;\n",
              "    }\n",
              "\n",
              "    .colab-df-convert:hover {\n",
              "      background-color: #E2EBFA;\n",
              "      box-shadow: 0px 1px 2px rgba(60, 64, 67, 0.3), 0px 1px 3px 1px rgba(60, 64, 67, 0.15);\n",
              "      fill: #174EA6;\n",
              "    }\n",
              "\n",
              "    .colab-df-buttons div {\n",
              "      margin-bottom: 4px;\n",
              "    }\n",
              "\n",
              "    [theme=dark] .colab-df-convert {\n",
              "      background-color: #3B4455;\n",
              "      fill: #D2E3FC;\n",
              "    }\n",
              "\n",
              "    [theme=dark] .colab-df-convert:hover {\n",
              "      background-color: #434B5C;\n",
              "      box-shadow: 0px 1px 3px 1px rgba(0, 0, 0, 0.15);\n",
              "      filter: drop-shadow(0px 1px 2px rgba(0, 0, 0, 0.3));\n",
              "      fill: #FFFFFF;\n",
              "    }\n",
              "  </style>\n",
              "\n",
              "    <script>\n",
              "      const buttonEl =\n",
              "        document.querySelector('#df-c5d7868e-2a64-4b3a-8612-af9907471a92 button.colab-df-convert');\n",
              "      buttonEl.style.display =\n",
              "        google.colab.kernel.accessAllowed ? 'block' : 'none';\n",
              "\n",
              "      async function convertToInteractive(key) {\n",
              "        const element = document.querySelector('#df-c5d7868e-2a64-4b3a-8612-af9907471a92');\n",
              "        const dataTable =\n",
              "          await google.colab.kernel.invokeFunction('convertToInteractive',\n",
              "                                                    [key], {});\n",
              "        if (!dataTable) return;\n",
              "\n",
              "        const docLinkHtml = 'Like what you see? Visit the ' +\n",
              "          '<a target=\"_blank\" href=https://colab.research.google.com/notebooks/data_table.ipynb>data table notebook</a>'\n",
              "          + ' to learn more about interactive tables.';\n",
              "        element.innerHTML = '';\n",
              "        dataTable['output_type'] = 'display_data';\n",
              "        await google.colab.output.renderOutput(dataTable, element);\n",
              "        const docLink = document.createElement('div');\n",
              "        docLink.innerHTML = docLinkHtml;\n",
              "        element.appendChild(docLink);\n",
              "      }\n",
              "    </script>\n",
              "  </div>\n",
              "\n",
              "\n",
              "    <div id=\"df-3ac9f3e2-06d7-4a9a-bd68-9adb5916e210\">\n",
              "      <button class=\"colab-df-quickchart\" onclick=\"quickchart('df-3ac9f3e2-06d7-4a9a-bd68-9adb5916e210')\"\n",
              "                title=\"Suggest charts\"\n",
              "                style=\"display:none;\">\n",
              "\n",
              "<svg xmlns=\"http://www.w3.org/2000/svg\" height=\"24px\"viewBox=\"0 0 24 24\"\n",
              "     width=\"24px\">\n",
              "    <g>\n",
              "        <path d=\"M19 3H5c-1.1 0-2 .9-2 2v14c0 1.1.9 2 2 2h14c1.1 0 2-.9 2-2V5c0-1.1-.9-2-2-2zM9 17H7v-7h2v7zm4 0h-2V7h2v10zm4 0h-2v-4h2v4z\"/>\n",
              "    </g>\n",
              "</svg>\n",
              "      </button>\n",
              "\n",
              "<style>\n",
              "  .colab-df-quickchart {\n",
              "      --bg-color: #E8F0FE;\n",
              "      --fill-color: #1967D2;\n",
              "      --hover-bg-color: #E2EBFA;\n",
              "      --hover-fill-color: #174EA6;\n",
              "      --disabled-fill-color: #AAA;\n",
              "      --disabled-bg-color: #DDD;\n",
              "  }\n",
              "\n",
              "  [theme=dark] .colab-df-quickchart {\n",
              "      --bg-color: #3B4455;\n",
              "      --fill-color: #D2E3FC;\n",
              "      --hover-bg-color: #434B5C;\n",
              "      --hover-fill-color: #FFFFFF;\n",
              "      --disabled-bg-color: #3B4455;\n",
              "      --disabled-fill-color: #666;\n",
              "  }\n",
              "\n",
              "  .colab-df-quickchart {\n",
              "    background-color: var(--bg-color);\n",
              "    border: none;\n",
              "    border-radius: 50%;\n",
              "    cursor: pointer;\n",
              "    display: none;\n",
              "    fill: var(--fill-color);\n",
              "    height: 32px;\n",
              "    padding: 0;\n",
              "    width: 32px;\n",
              "  }\n",
              "\n",
              "  .colab-df-quickchart:hover {\n",
              "    background-color: var(--hover-bg-color);\n",
              "    box-shadow: 0 1px 2px rgba(60, 64, 67, 0.3), 0 1px 3px 1px rgba(60, 64, 67, 0.15);\n",
              "    fill: var(--button-hover-fill-color);\n",
              "  }\n",
              "\n",
              "  .colab-df-quickchart-complete:disabled,\n",
              "  .colab-df-quickchart-complete:disabled:hover {\n",
              "    background-color: var(--disabled-bg-color);\n",
              "    fill: var(--disabled-fill-color);\n",
              "    box-shadow: none;\n",
              "  }\n",
              "\n",
              "  .colab-df-spinner {\n",
              "    border: 2px solid var(--fill-color);\n",
              "    border-color: transparent;\n",
              "    border-bottom-color: var(--fill-color);\n",
              "    animation:\n",
              "      spin 1s steps(1) infinite;\n",
              "  }\n",
              "\n",
              "  @keyframes spin {\n",
              "    0% {\n",
              "      border-color: transparent;\n",
              "      border-bottom-color: var(--fill-color);\n",
              "      border-left-color: var(--fill-color);\n",
              "    }\n",
              "    20% {\n",
              "      border-color: transparent;\n",
              "      border-left-color: var(--fill-color);\n",
              "      border-top-color: var(--fill-color);\n",
              "    }\n",
              "    30% {\n",
              "      border-color: transparent;\n",
              "      border-left-color: var(--fill-color);\n",
              "      border-top-color: var(--fill-color);\n",
              "      border-right-color: var(--fill-color);\n",
              "    }\n",
              "    40% {\n",
              "      border-color: transparent;\n",
              "      border-right-color: var(--fill-color);\n",
              "      border-top-color: var(--fill-color);\n",
              "    }\n",
              "    60% {\n",
              "      border-color: transparent;\n",
              "      border-right-color: var(--fill-color);\n",
              "    }\n",
              "    80% {\n",
              "      border-color: transparent;\n",
              "      border-right-color: var(--fill-color);\n",
              "      border-bottom-color: var(--fill-color);\n",
              "    }\n",
              "    90% {\n",
              "      border-color: transparent;\n",
              "      border-bottom-color: var(--fill-color);\n",
              "    }\n",
              "  }\n",
              "</style>\n",
              "\n",
              "      <script>\n",
              "        async function quickchart(key) {\n",
              "          const quickchartButtonEl =\n",
              "            document.querySelector('#' + key + ' button');\n",
              "          quickchartButtonEl.disabled = true;  // To prevent multiple clicks.\n",
              "          quickchartButtonEl.classList.add('colab-df-spinner');\n",
              "          try {\n",
              "            const charts = await google.colab.kernel.invokeFunction(\n",
              "                'suggestCharts', [key], {});\n",
              "          } catch (error) {\n",
              "            console.error('Error during call to suggestCharts:', error);\n",
              "          }\n",
              "          quickchartButtonEl.classList.remove('colab-df-spinner');\n",
              "          quickchartButtonEl.classList.add('colab-df-quickchart-complete');\n",
              "        }\n",
              "        (() => {\n",
              "          let quickchartButtonEl =\n",
              "            document.querySelector('#df-3ac9f3e2-06d7-4a9a-bd68-9adb5916e210 button');\n",
              "          quickchartButtonEl.style.display =\n",
              "            google.colab.kernel.accessAllowed ? 'block' : 'none';\n",
              "        })();\n",
              "      </script>\n",
              "    </div>\n",
              "\n",
              "    </div>\n",
              "  </div>\n"
            ],
            "application/vnd.google.colaboratory.intrinsic+json": {
              "type": "dataframe",
              "summary": "{\n  \"name\": \"df\",\n  \"rows\": 21,\n  \"fields\": [\n    {\n      \"column\": \"#_Paciente\",\n      \"properties\": {\n        \"dtype\": \"number\",\n        \"std\": 41,\n        \"min\": 217,\n        \"max\": 353,\n        \"num_unique_values\": 21,\n        \"samples\": [\n          217,\n          312,\n          265\n        ],\n        \"semantic_type\": \"\",\n        \"description\": \"\"\n      }\n    },\n    {\n      \"column\": \"Ecocardiograma_PreQx_Hipertensi\\u00f3n_Pulmonar\",\n      \"properties\": {\n        \"dtype\": \"number\",\n        \"std\": 13.414988064173025,\n        \"min\": 2.0,\n        \"max\": 40.0,\n        \"num_unique_values\": 13,\n        \"samples\": [\n          40.0,\n          34.0,\n          30.0\n        ],\n        \"semantic_type\": \"\",\n        \"description\": \"\"\n      }\n    },\n    {\n      \"column\": \"Ecocardiograma_PreQxPSAP\",\n      \"properties\": {\n        \"dtype\": \"date\",\n        \"min\": 22,\n        \"max\": 26,\n        \"num_unique_values\": 3,\n        \"samples\": [\n          24,\n          22,\n          26\n        ],\n        \"semantic_type\": \"\",\n        \"description\": \"\"\n      }\n    }\n  ]\n}"
            }
          },
          "metadata": {},
          "execution_count": 430
        }
      ],
      "source": [
        "df.loc[(df['Ecocardiograma_PreQx_Hipertensión_Pulmonar']>1)][['Ecocardiograma_PreQx_Hipertensión_Pulmonar','Ecocardiograma_PreQxPSAP']]"
      ]
    },
    {
      "cell_type": "code",
      "execution_count": 431,
      "id": "53991628",
      "metadata": {
        "id": "53991628"
      },
      "outputs": [],
      "source": [
        "df['Ecocardiograma_PreQx_Hipertensión_Pulmonar'] = (\n",
        "    df['Ecocardiograma_PreQx_Hipertensión_Pulmonar']\n",
        "    .replace({\n",
        "        2:0  # En este caso están todos bajo el umbral de 29\n",
        "    })\n",
        ")"
      ]
    },
    {
      "cell_type": "code",
      "execution_count": 432,
      "id": "9f119533",
      "metadata": {
        "id": "9f119533"
      },
      "outputs": [],
      "source": [
        "def clasificar_resp(ekg):\n",
        "    if pd.isna(ekg):\n",
        "        return np.nan\n",
        "    elif ekg <= 29:\n",
        "        return 0\n",
        "    else:\n",
        "        return 1"
      ]
    },
    {
      "cell_type": "code",
      "execution_count": 433,
      "id": "588f08fb",
      "metadata": {
        "id": "588f08fb"
      },
      "outputs": [],
      "source": [
        "calculated = df['Ecocardiograma_PreQx_Hipertensión_Pulmonar'].apply(clasificar_resp)\n",
        "df.loc[(df['Ecocardiograma_PreQx_Hipertensión_Pulmonar']>1) , 'Ecocardiograma_PreQx_Hipertensión_Pulmonar'] = calculated"
      ]
    },
    {
      "cell_type": "code",
      "execution_count": 434,
      "id": "31c1801b",
      "metadata": {
        "id": "31c1801b",
        "outputId": "9681b034-d5a6-47c5-feda-e9f4b29edc4b",
        "colab": {
          "base_uri": "https://localhost:8080/"
        }
      },
      "outputs": [
        {
          "output_type": "stream",
          "name": "stdout",
          "text": [
            "count    255.000000\n",
            "mean       0.333333\n",
            "std        0.472332\n",
            "min        0.000000\n",
            "25%        0.000000\n",
            "50%        0.000000\n",
            "75%        1.000000\n",
            "max        1.000000\n",
            "Name: Ecocardiograma_PreQx_Hipertensión_Pulmonar, dtype: float64\n",
            "--------------------\n",
            "Número de datos nulos: 481\n",
            "--------------------\n",
            "Ecocardiograma_PreQx_Hipertensión_Pulmonar\n",
            "NaN    481\n",
            "0.0    170\n",
            "1.0     85\n",
            "Name: count, dtype: int64\n"
          ]
        }
      ],
      "source": [
        "ver_datos(df, 'Ecocardiograma_PreQx_Hipertensión_Pulmonar', True)"
      ]
    },
    {
      "cell_type": "markdown",
      "id": "c8b9bb5f",
      "metadata": {
        "id": "c8b9bb5f"
      },
      "source": [
        "### Ecocardiograma_PreQx_TAPSE"
      ]
    },
    {
      "cell_type": "code",
      "execution_count": 435,
      "id": "87e20595",
      "metadata": {
        "id": "87e20595",
        "outputId": "15750c10-96c5-45e2-88e8-ab2de31214f6",
        "colab": {
          "base_uri": "https://localhost:8080/"
        }
      },
      "outputs": [
        {
          "output_type": "stream",
          "name": "stdout",
          "text": [
            "count     288\n",
            "unique     24\n",
            "top         0\n",
            "freq      123\n",
            "Name: Ecocardiograma_PreQx_TAPSE, dtype: int64\n",
            "--------------------\n",
            "Número de datos nulos: 448\n",
            "--------------------\n",
            "Ecocardiograma_PreQx_TAPSE\n",
            "NaN     448\n",
            "0       123\n",
            "24       21\n",
            "25       21\n",
            "23       18\n",
            "22       15\n",
            "20       14\n",
            "21       10\n",
            "27        9\n",
            "26        7\n",
            "18        7\n",
            "19        7\n",
            "30        7\n",
            "28        6\n",
            "31        4\n",
            "32        3\n",
            "29        3\n",
            "33        3\n",
            "16        3\n",
            "17        2\n",
            "2         1\n",
            "13MM      1\n",
            "35        1\n",
            "37        1\n",
            "1.9       1\n",
            "Name: count, dtype: int64\n"
          ]
        }
      ],
      "source": [
        "ver_datos(df, 'Ecocardiograma_PreQx_TAPSE', True)"
      ]
    },
    {
      "cell_type": "code",
      "execution_count": 436,
      "id": "4bb08ead",
      "metadata": {
        "id": "4bb08ead",
        "outputId": "754e27fa-d276-405c-e31b-60f320365941",
        "colab": {
          "base_uri": "https://localhost:8080/"
        }
      },
      "outputs": [
        {
          "output_type": "stream",
          "name": "stderr",
          "text": [
            "/tmp/ipython-input-3124144626.py:3: FutureWarning: Downcasting behavior in `replace` is deprecated and will be removed in a future version. To retain the old behavior, explicitly call `result.infer_objects(copy=False)`. To opt-in to the future behavior, set `pd.set_option('future.no_silent_downcasting', True)`\n",
            "  .replace({\n"
          ]
        }
      ],
      "source": [
        "df['Ecocardiograma_PreQx_TAPSE'] = (\n",
        "    df['Ecocardiograma_PreQx_TAPSE']\n",
        "    .replace({\n",
        "        '13MM':13\n",
        "    })\n",
        ")"
      ]
    },
    {
      "cell_type": "code",
      "execution_count": 437,
      "id": "177255a2",
      "metadata": {
        "id": "177255a2",
        "outputId": "e4896fac-eb1a-4796-c31c-cd9c454ce828",
        "colab": {
          "base_uri": "https://localhost:8080/"
        }
      },
      "outputs": [
        {
          "output_type": "stream",
          "name": "stdout",
          "text": [
            "count    288.000000\n",
            "mean      13.548264\n",
            "std       12.249389\n",
            "min        0.000000\n",
            "25%        0.000000\n",
            "50%       19.000000\n",
            "75%       24.000000\n",
            "max       37.000000\n",
            "Name: Ecocardiograma_PreQx_TAPSE, dtype: float64\n",
            "--------------------\n",
            "Número de datos nulos: 448\n"
          ]
        }
      ],
      "source": [
        "ver_datos(df, 'Ecocardiograma_PreQx_TAPSE')"
      ]
    },
    {
      "cell_type": "markdown",
      "id": "fdeb0d55",
      "metadata": {
        "id": "fdeb0d55"
      },
      "source": [
        "### Ecocardiograma_PreQx_TASVE"
      ]
    },
    {
      "cell_type": "code",
      "execution_count": 438,
      "id": "3db511eb",
      "metadata": {
        "id": "3db511eb",
        "outputId": "93ee5e88-c14d-4d94-e67f-52e669ff13e6",
        "colab": {
          "base_uri": "https://localhost:8080/"
        }
      },
      "outputs": [
        {
          "output_type": "stream",
          "name": "stdout",
          "text": [
            "count     156\n",
            "unique     19\n",
            "top         0\n",
            "freq      126\n",
            "Name: Ecocardiograma_PreQx_TASVE, dtype: int64\n",
            "--------------------\n",
            "Número de datos nulos: 580\n",
            "--------------------\n",
            "Ecocardiograma_PreQx_TASVE\n",
            "NaN     580\n",
            "0       126\n",
            "14        5\n",
            "13        4\n",
            "11        3\n",
            "15        2\n",
            "10        2\n",
            "21        2\n",
            "16CM      1\n",
            "1         1\n",
            "25        1\n",
            "23        1\n",
            "26        1\n",
            "20        1\n",
            "5         1\n",
            "7         1\n",
            "18        1\n",
            "12        1\n",
            "9         1\n",
            "16        1\n",
            "Name: count, dtype: int64\n"
          ]
        }
      ],
      "source": [
        "ver_datos(df, 'Ecocardiograma_PreQx_TASVE', True)"
      ]
    },
    {
      "cell_type": "code",
      "execution_count": 439,
      "id": "fdc03715",
      "metadata": {
        "id": "fdc03715",
        "outputId": "c4cb3685-a1ed-49d1-9c8c-1cf8d54e7b9c",
        "colab": {
          "base_uri": "https://localhost:8080/"
        }
      },
      "outputs": [
        {
          "output_type": "stream",
          "name": "stderr",
          "text": [
            "/tmp/ipython-input-2576872614.py:3: FutureWarning: Downcasting behavior in `replace` is deprecated and will be removed in a future version. To retain the old behavior, explicitly call `result.infer_objects(copy=False)`. To opt-in to the future behavior, set `pd.set_option('future.no_silent_downcasting', True)`\n",
            "  .replace({\n"
          ]
        }
      ],
      "source": [
        "df['Ecocardiograma_PreQx_TASVE'] = (\n",
        "    df['Ecocardiograma_PreQx_TASVE']\n",
        "    .replace({\n",
        "        '16CM':13\n",
        "    })\n",
        ")"
      ]
    },
    {
      "cell_type": "code",
      "execution_count": 440,
      "id": "a9ebb4fc",
      "metadata": {
        "id": "a9ebb4fc",
        "outputId": "f951a221-5b1a-4d81-b25e-6c6a76b1607c",
        "colab": {
          "base_uri": "https://localhost:8080/"
        }
      },
      "outputs": [
        {
          "output_type": "stream",
          "name": "stdout",
          "text": [
            "count    156.000000\n",
            "mean       2.705128\n",
            "std        6.058018\n",
            "min        0.000000\n",
            "25%        0.000000\n",
            "50%        0.000000\n",
            "75%        0.000000\n",
            "max       26.000000\n",
            "Name: Ecocardiograma_PreQx_TASVE, dtype: float64\n",
            "--------------------\n",
            "Número de datos nulos: 580\n"
          ]
        }
      ],
      "source": [
        "ver_datos(df, 'Ecocardiograma_PreQx_TASVE')"
      ]
    },
    {
      "cell_type": "markdown",
      "id": "8a8db788",
      "metadata": {
        "id": "8a8db788"
      },
      "source": [
        "### Ecocardiograma_PreQx_Disfunción_Diastólica"
      ]
    },
    {
      "cell_type": "code",
      "execution_count": 441,
      "id": "d95e7cd9",
      "metadata": {
        "id": "d95e7cd9",
        "outputId": "4b32ba9b-a1b4-4063-d442-dfe5c8da84b2",
        "colab": {
          "base_uri": "https://localhost:8080/"
        }
      },
      "outputs": [
        {
          "output_type": "stream",
          "name": "stdout",
          "text": [
            "count     524\n",
            "unique      6\n",
            "top         0\n",
            "freq      489\n",
            "Name: Ecocardiograma_PreQx_Disfunción_Diastólica, dtype: int64\n",
            "--------------------\n",
            "Número de datos nulos: 212\n",
            "--------------------\n",
            "Ecocardiograma_PreQx_Disfunción_Diastólica\n",
            "0            489\n",
            "NaN          212\n",
            "1             30\n",
            "NV             2\n",
            "IZQUIERDA      1\n",
            "9              1\n",
            "TIPO 1         1\n",
            "Name: count, dtype: int64\n"
          ]
        }
      ],
      "source": [
        "ver_datos(df, 'Ecocardiograma_PreQx_Disfunción_Diastólica', True)"
      ]
    },
    {
      "cell_type": "code",
      "execution_count": 442,
      "id": "66e27464",
      "metadata": {
        "id": "66e27464",
        "outputId": "7a635e71-a57c-42c6-dbaa-14ae35b4aca2",
        "colab": {
          "base_uri": "https://localhost:8080/"
        }
      },
      "outputs": [
        {
          "output_type": "stream",
          "name": "stderr",
          "text": [
            "/tmp/ipython-input-72107711.py:3: FutureWarning: Downcasting behavior in `replace` is deprecated and will be removed in a future version. To retain the old behavior, explicitly call `result.infer_objects(copy=False)`. To opt-in to the future behavior, set `pd.set_option('future.no_silent_downcasting', True)`\n",
            "  .replace({\n"
          ]
        }
      ],
      "source": [
        "df['Ecocardiograma_PreQx_Disfunción_Diastólica'] = (\n",
        "    df['Ecocardiograma_PreQx_Disfunción_Diastólica']\n",
        "    .replace({\n",
        "        'NV':np.nan,\n",
        "        'IZQUIERDA':1,\n",
        "        9:np.nan,\n",
        "        'TIPO 1':1\n",
        "    })\n",
        ")"
      ]
    },
    {
      "cell_type": "code",
      "execution_count": 443,
      "id": "d01ea536",
      "metadata": {
        "id": "d01ea536",
        "outputId": "bec255b6-6eea-42d8-bb11-6116766bc993",
        "colab": {
          "base_uri": "https://localhost:8080/"
        }
      },
      "outputs": [
        {
          "output_type": "stream",
          "name": "stdout",
          "text": [
            "count    521.00000\n",
            "mean       0.06142\n",
            "std        0.24033\n",
            "min        0.00000\n",
            "25%        0.00000\n",
            "50%        0.00000\n",
            "75%        0.00000\n",
            "max        1.00000\n",
            "Name: Ecocardiograma_PreQx_Disfunción_Diastólica, dtype: float64\n",
            "--------------------\n",
            "Número de datos nulos: 215\n",
            "--------------------\n",
            "Ecocardiograma_PreQx_Disfunción_Diastólica\n",
            "0.0    489\n",
            "NaN    215\n",
            "1.0     32\n",
            "Name: count, dtype: int64\n"
          ]
        }
      ],
      "source": [
        "ver_datos(df, 'Ecocardiograma_PreQx_Disfunción_Diastólica', True)"
      ]
    },
    {
      "cell_type": "markdown",
      "id": "f5ad8b52",
      "metadata": {
        "id": "f5ad8b52"
      },
      "source": [
        "### METS"
      ]
    },
    {
      "cell_type": "code",
      "execution_count": 444,
      "id": "35be2f7e",
      "metadata": {
        "id": "35be2f7e",
        "outputId": "61639105-0bea-4bc0-aa1c-378bb4bf3594",
        "colab": {
          "base_uri": "https://localhost:8080/"
        }
      },
      "outputs": [
        {
          "output_type": "stream",
          "name": "stdout",
          "text": [
            "count     97\n",
            "unique    60\n",
            "top        7\n",
            "freq      16\n",
            "Name: METS, dtype: int64\n",
            "--------------------\n",
            "Número de datos nulos: 639\n",
            "--------------------\n",
            "METS\n",
            "NaN     639\n",
            "7.0      16\n",
            "4.6       8\n",
            "10.0      5\n",
            "10.1      4\n",
            "       ... \n",
            "8.1       1\n",
            "13.5      1\n",
            "13.7      1\n",
            "4.0       1\n",
            "3.8       1\n",
            "Name: count, Length: 61, dtype: int64\n"
          ]
        }
      ],
      "source": [
        "ver_datos(df, 'METS', True)"
      ]
    },
    {
      "cell_type": "code",
      "execution_count": 445,
      "id": "0a41b3ae",
      "metadata": {
        "id": "0a41b3ae"
      },
      "outputs": [],
      "source": [
        "df['METS'] = (\n",
        "    df['METS']\n",
        "    .replace({\n",
        "        '>8':8\n",
        "    })\n",
        ")"
      ]
    },
    {
      "cell_type": "code",
      "execution_count": 446,
      "id": "bda8dd35",
      "metadata": {
        "id": "bda8dd35"
      },
      "outputs": [],
      "source": [
        "limpiar_numericas(df, 'METS')"
      ]
    },
    {
      "cell_type": "code",
      "execution_count": 447,
      "id": "130507df",
      "metadata": {
        "id": "130507df",
        "outputId": "ed7afada-e9d1-4ca2-d6c2-6adb49e6a205",
        "colab": {
          "base_uri": "https://localhost:8080/"
        }
      },
      "outputs": [
        {
          "output_type": "stream",
          "name": "stdout",
          "text": [
            "count    97.000000\n",
            "mean      7.672268\n",
            "std       3.034629\n",
            "min       0.000000\n",
            "25%       5.100000\n",
            "50%       7.200000\n",
            "75%      10.000000\n",
            "max      18.000000\n",
            "Name: METS, dtype: float64\n",
            "--------------------\n",
            "Número de datos nulos: 639\n"
          ]
        }
      ],
      "source": [
        "ver_datos(df, 'METS')"
      ]
    },
    {
      "cell_type": "markdown",
      "id": "e5443968",
      "metadata": {
        "id": "e5443968"
      },
      "source": [
        "### Tx#1"
      ]
    },
    {
      "cell_type": "code",
      "execution_count": 448,
      "id": "009a4450",
      "metadata": {
        "id": "009a4450",
        "outputId": "4ebfb301-2a60-4a2a-cafa-eb0dd18a5f92",
        "colab": {
          "base_uri": "https://localhost:8080/"
        }
      },
      "outputs": [
        {
          "output_type": "stream",
          "name": "stdout",
          "text": [
            "count    733.0\n",
            "mean       1.0\n",
            "std        0.0\n",
            "min        1.0\n",
            "25%        1.0\n",
            "50%        1.0\n",
            "75%        1.0\n",
            "max        1.0\n",
            "Name: Tx#1, dtype: float64\n",
            "--------------------\n",
            "Número de datos nulos: 3\n"
          ]
        }
      ],
      "source": [
        "ver_datos(df, 'Tx#1')"
      ]
    },
    {
      "cell_type": "markdown",
      "id": "94d110d7",
      "metadata": {
        "id": "94d110d7"
      },
      "source": [
        "### Edad_Donante_Tx#1"
      ]
    },
    {
      "cell_type": "code",
      "execution_count": 449,
      "id": "0a6bfde6",
      "metadata": {
        "id": "0a6bfde6",
        "outputId": "b4fa9fec-5b0f-4c82-9741-c3a14a226b43",
        "colab": {
          "base_uri": "https://localhost:8080/"
        }
      },
      "outputs": [
        {
          "output_type": "stream",
          "name": "stdout",
          "text": [
            "count    697.000000\n",
            "mean      34.246772\n",
            "std       14.536397\n",
            "min        1.000000\n",
            "25%       23.000000\n",
            "50%       31.000000\n",
            "75%       46.000000\n",
            "max       74.000000\n",
            "Name: Edad_Donante_Tx#1, dtype: float64\n",
            "--------------------\n",
            "Número de datos nulos: 39\n"
          ]
        }
      ],
      "source": [
        "ver_datos(df, 'Edad_Donante_Tx#1')"
      ]
    },
    {
      "cell_type": "markdown",
      "id": "bc4ba1c5",
      "metadata": {
        "id": "bc4ba1c5"
      },
      "source": [
        "### Sexo_Donante_Tx#1"
      ]
    },
    {
      "cell_type": "code",
      "execution_count": 450,
      "id": "dea5c131",
      "metadata": {
        "id": "dea5c131",
        "outputId": "61f8d4fd-9a1c-47b0-ede0-33357cc06e71",
        "colab": {
          "base_uri": "https://localhost:8080/"
        }
      },
      "outputs": [
        {
          "output_type": "stream",
          "name": "stdout",
          "text": [
            "count    695.000000\n",
            "mean       1.286331\n",
            "std        0.452372\n",
            "min        1.000000\n",
            "25%        1.000000\n",
            "50%        1.000000\n",
            "75%        2.000000\n",
            "max        2.000000\n",
            "Name: Sexo_Donante_Tx#1, dtype: float64\n",
            "--------------------\n",
            "Número de datos nulos: 41\n",
            "--------------------\n",
            "Sexo_Donante_Tx#1\n",
            "1.0    496\n",
            "2.0    199\n",
            "NaN     41\n",
            "Name: count, dtype: int64\n"
          ]
        }
      ],
      "source": [
        "ver_datos(df, 'Sexo_Donante_Tx#1', True)"
      ]
    },
    {
      "cell_type": "markdown",
      "id": "1bc876df",
      "metadata": {
        "id": "1bc876df"
      },
      "source": [
        "### Causa_Muerte_Donante_Tx#1"
      ]
    },
    {
      "cell_type": "code",
      "execution_count": 451,
      "id": "a58975b0",
      "metadata": {
        "id": "a58975b0",
        "outputId": "3ba1d909-4118-42cc-d1eb-822f3e2c8e2b",
        "colab": {
          "base_uri": "https://localhost:8080/"
        }
      },
      "outputs": [
        {
          "output_type": "stream",
          "name": "stdout",
          "text": [
            "count    668.000000\n",
            "mean       3.284431\n",
            "std        3.253866\n",
            "min        0.000000\n",
            "25%        1.000000\n",
            "50%        2.000000\n",
            "75%        5.000000\n",
            "max       29.000000\n",
            "Name: Causa_Muerte_Donante_Tx#1, dtype: float64\n",
            "--------------------\n",
            "Número de datos nulos: 68\n",
            "--------------------\n",
            "Causa_Muerte_Donante_Tx#1\n",
            "1.0     313\n",
            "2.0     122\n",
            "5.0      80\n",
            "NaN      68\n",
            "10.0     60\n",
            "7.0      48\n",
            "4.0      18\n",
            "3.0       7\n",
            "6.0       4\n",
            "12.0      4\n",
            "9.0       3\n",
            "8.0       2\n",
            "11.0      2\n",
            "29.0      1\n",
            "13.0      1\n",
            "14.0      1\n",
            "0.0       1\n",
            "15.0      1\n",
            "Name: count, dtype: int64\n"
          ]
        }
      ],
      "source": [
        "ver_datos(df, 'Causa_Muerte_Donante_Tx#1', True)"
      ]
    },
    {
      "cell_type": "code",
      "execution_count": 452,
      "id": "27da9644",
      "metadata": {
        "id": "27da9644"
      },
      "outputs": [],
      "source": [
        "df['Causa_Muerte_Donante_Tx#1'] = (\n",
        "    df['Causa_Muerte_Donante_Tx#1']\n",
        "    .replace({\n",
        "        0:np.nan,\n",
        "        29:np.nan\n",
        "    })\n",
        ")"
      ]
    },
    {
      "cell_type": "code",
      "execution_count": 453,
      "id": "486f22eb",
      "metadata": {
        "id": "486f22eb",
        "outputId": "a4fef0c2-0286-43b9-ff5a-3ed5d59c4844",
        "colab": {
          "base_uri": "https://localhost:8080/"
        }
      },
      "outputs": [
        {
          "output_type": "stream",
          "name": "stdout",
          "text": [
            "count    666.000000\n",
            "mean       3.250751\n",
            "std        3.099630\n",
            "min        1.000000\n",
            "25%        1.000000\n",
            "50%        2.000000\n",
            "75%        5.000000\n",
            "max       15.000000\n",
            "Name: Causa_Muerte_Donante_Tx#1, dtype: float64\n",
            "--------------------\n",
            "Número de datos nulos: 70\n",
            "--------------------\n",
            "Causa_Muerte_Donante_Tx#1\n",
            "1.0     313\n",
            "2.0     122\n",
            "5.0      80\n",
            "NaN      70\n",
            "10.0     60\n",
            "7.0      48\n",
            "4.0      18\n",
            "3.0       7\n",
            "6.0       4\n",
            "12.0      4\n",
            "9.0       3\n",
            "8.0       2\n",
            "11.0      2\n",
            "13.0      1\n",
            "14.0      1\n",
            "15.0      1\n",
            "Name: count, dtype: int64\n"
          ]
        }
      ],
      "source": [
        "ver_datos(df, 'Causa_Muerte_Donante_Tx#1', True)"
      ]
    },
    {
      "cell_type": "markdown",
      "id": "3da83de9",
      "metadata": {
        "id": "3da83de9"
      },
      "source": [
        "### Tipo_de_Cx-Trasplante_Tx#1"
      ]
    },
    {
      "cell_type": "code",
      "execution_count": 454,
      "id": "6e2a0cb1",
      "metadata": {
        "id": "6e2a0cb1",
        "outputId": "1d630300-3f5b-45b9-9ce8-18d462799612",
        "colab": {
          "base_uri": "https://localhost:8080/"
        }
      },
      "outputs": [
        {
          "output_type": "stream",
          "name": "stdout",
          "text": [
            "count    728.000000\n",
            "mean       1.950549\n",
            "std        0.413360\n",
            "min        0.000000\n",
            "25%        2.000000\n",
            "50%        2.000000\n",
            "75%        2.000000\n",
            "max        4.000000\n",
            "Name: Tipo_de_Cx-Trasplante_Tx#1, dtype: float64\n",
            "--------------------\n",
            "Número de datos nulos: 8\n",
            "--------------------\n",
            "Tipo_de_Cx-Trasplante_Tx#1\n",
            "2.0    644\n",
            "1.0     45\n",
            "3.0     25\n",
            "0.0     11\n",
            "NaN      8\n",
            "4.0      3\n",
            "Name: count, dtype: int64\n"
          ]
        }
      ],
      "source": [
        "ver_datos(df, 'Tipo_de_Cx-Trasplante_Tx#1', True)"
      ]
    },
    {
      "cell_type": "code",
      "execution_count": 455,
      "id": "d580279a",
      "metadata": {
        "id": "d580279a"
      },
      "outputs": [],
      "source": [
        "df['Tipo_de_Cx-Trasplante_Tx#1'] = (\n",
        "    df['Tipo_de_Cx-Trasplante_Tx#1']\n",
        "    .replace({\n",
        "        0:np.nan\n",
        "    })\n",
        ")"
      ]
    },
    {
      "cell_type": "code",
      "execution_count": 456,
      "id": "bf194497",
      "metadata": {
        "id": "bf194497",
        "outputId": "4a771d81-05a7-4387-f943-855f71c8c4a0",
        "colab": {
          "base_uri": "https://localhost:8080/"
        }
      },
      "outputs": [
        {
          "output_type": "stream",
          "name": "stdout",
          "text": [
            "count    717.000000\n",
            "mean       1.980474\n",
            "std        0.337851\n",
            "min        1.000000\n",
            "25%        2.000000\n",
            "50%        2.000000\n",
            "75%        2.000000\n",
            "max        4.000000\n",
            "Name: Tipo_de_Cx-Trasplante_Tx#1, dtype: float64\n",
            "--------------------\n",
            "Número de datos nulos: 19\n",
            "--------------------\n",
            "Tipo_de_Cx-Trasplante_Tx#1\n",
            "2.0    644\n",
            "1.0     45\n",
            "3.0     25\n",
            "NaN     19\n",
            "4.0      3\n",
            "Name: count, dtype: int64\n"
          ]
        }
      ],
      "source": [
        "ver_datos(df, 'Tipo_de_Cx-Trasplante_Tx#1', True)"
      ]
    },
    {
      "cell_type": "markdown",
      "id": "e2e406e7",
      "metadata": {
        "id": "e2e406e7"
      },
      "source": [
        "### Trasplante_Combinado-Hígado-Riñón_Tx#1"
      ]
    },
    {
      "cell_type": "code",
      "execution_count": 457,
      "id": "ba29c6eb",
      "metadata": {
        "id": "ba29c6eb",
        "outputId": "ccb6ec81-6fbe-4782-dc06-1ee919124599",
        "colab": {
          "base_uri": "https://localhost:8080/"
        }
      },
      "outputs": [
        {
          "output_type": "stream",
          "name": "stdout",
          "text": [
            "count    698.000000\n",
            "mean       0.057307\n",
            "std        0.232594\n",
            "min        0.000000\n",
            "25%        0.000000\n",
            "50%        0.000000\n",
            "75%        0.000000\n",
            "max        1.000000\n",
            "Name: Trasplante_Combinado-Hígado-Riñón_Tx#1, dtype: float64\n",
            "--------------------\n",
            "Número de datos nulos: 38\n",
            "--------------------\n",
            "Trasplante_Combinado-Hígado-Riñón_Tx#1\n",
            "0.0    658\n",
            "1.0     40\n",
            "NaN     38\n",
            "Name: count, dtype: int64\n"
          ]
        }
      ],
      "source": [
        "ver_datos(df, 'Trasplante_Combinado-Hígado-Riñón_Tx#1', True)"
      ]
    },
    {
      "cell_type": "markdown",
      "id": "a003afa3",
      "metadata": {
        "id": "a003afa3"
      },
      "source": [
        "### #_Unidades_Glóbulos_Rojos_Tx#1"
      ]
    },
    {
      "cell_type": "code",
      "execution_count": 458,
      "id": "e3b2e4b0",
      "metadata": {
        "id": "e3b2e4b0",
        "outputId": "b3b1de01-c344-41b9-814b-84e8f4c45c5a",
        "colab": {
          "base_uri": "https://localhost:8080/"
        }
      },
      "outputs": [
        {
          "output_type": "stream",
          "name": "stdout",
          "text": [
            "count    697.000000\n",
            "mean       6.421090\n",
            "std        8.176058\n",
            "min        0.000000\n",
            "25%        2.000000\n",
            "50%        4.000000\n",
            "75%        8.000000\n",
            "max       82.000000\n",
            "Name: #_Unidades_Glóbulos_Rojos_Tx#1, dtype: float64\n",
            "--------------------\n",
            "Número de datos nulos: 39\n"
          ]
        }
      ],
      "source": [
        "ver_datos(df, '#_Unidades_Glóbulos_Rojos_Tx#1')"
      ]
    },
    {
      "cell_type": "markdown",
      "id": "eb7021ad",
      "metadata": {
        "id": "eb7021ad"
      },
      "source": [
        "### #_Unidades_Plasma_Fresco_Congelado_Tx#1"
      ]
    },
    {
      "cell_type": "code",
      "execution_count": 459,
      "id": "4b642fc7",
      "metadata": {
        "id": "4b642fc7",
        "outputId": "cd420ad3-3c6c-4406-822c-ba2c66ebd188",
        "colab": {
          "base_uri": "https://localhost:8080/"
        }
      },
      "outputs": [
        {
          "output_type": "stream",
          "name": "stdout",
          "text": [
            "count    698.000000\n",
            "mean      12.523639\n",
            "std        9.827410\n",
            "min        0.000000\n",
            "25%        6.000000\n",
            "50%       10.000000\n",
            "75%       15.000000\n",
            "max       87.000000\n",
            "Name: #_Unidades_Plasma_Fresco_Congelado_Tx#1, dtype: float64\n",
            "--------------------\n",
            "Número de datos nulos: 38\n"
          ]
        }
      ],
      "source": [
        "ver_datos(df, '#_Unidades_Plasma_Fresco_Congelado_Tx#1')"
      ]
    },
    {
      "cell_type": "markdown",
      "id": "2fa0ac78",
      "metadata": {
        "id": "2fa0ac78"
      },
      "source": [
        "### #_Unidades_Crioprecipitados_Tx#1"
      ]
    },
    {
      "cell_type": "code",
      "execution_count": 460,
      "id": "50743b35",
      "metadata": {
        "id": "50743b35",
        "outputId": "30bde686-d24b-4f80-8c15-b0ec25f1d96c",
        "colab": {
          "base_uri": "https://localhost:8080/"
        }
      },
      "outputs": [
        {
          "output_type": "stream",
          "name": "stdout",
          "text": [
            "count    698.000000\n",
            "mean       8.840974\n",
            "std       11.639944\n",
            "min        0.000000\n",
            "25%        0.000000\n",
            "50%        6.000000\n",
            "75%       14.000000\n",
            "max       82.000000\n",
            "Name: #_Unidades_Crioprecipitados_Tx#1, dtype: float64\n",
            "--------------------\n",
            "Número de datos nulos: 38\n"
          ]
        }
      ],
      "source": [
        "ver_datos(df, '#_Unidades_Crioprecipitados_Tx#1')"
      ]
    },
    {
      "cell_type": "markdown",
      "id": "a94025d9",
      "metadata": {
        "id": "a94025d9"
      },
      "source": [
        "### #_Unidades_Plaquetas_Tx#1"
      ]
    },
    {
      "cell_type": "code",
      "execution_count": 461,
      "id": "f8d60aec",
      "metadata": {
        "id": "f8d60aec",
        "outputId": "ef446d39-ba36-42b8-ddab-b5ea1d9d3e90",
        "colab": {
          "base_uri": "https://localhost:8080/"
        }
      },
      "outputs": [
        {
          "output_type": "stream",
          "name": "stdout",
          "text": [
            "count    698.000000\n",
            "mean       7.148281\n",
            "std       10.170090\n",
            "min        0.000000\n",
            "25%        0.000000\n",
            "50%        6.000000\n",
            "75%       12.000000\n",
            "max      138.000000\n",
            "Name: #_Unidades_Plaquetas_Tx#1, dtype: float64\n",
            "--------------------\n",
            "Número de datos nulos: 38\n"
          ]
        }
      ],
      "source": [
        "ver_datos(df, '#_Unidades_Plaquetas_Tx#1')"
      ]
    },
    {
      "cell_type": "markdown",
      "id": "86cb78d3",
      "metadata": {
        "id": "86cb78d3"
      },
      "source": [
        "### Tiempo_Quirúrgico_Tx#1"
      ]
    },
    {
      "cell_type": "code",
      "execution_count": 462,
      "id": "1c1cfe8c",
      "metadata": {
        "id": "1c1cfe8c",
        "outputId": "82b3b3f9-4561-40d8-d204-ae57dedfdfaf",
        "colab": {
          "base_uri": "https://localhost:8080/"
        }
      },
      "outputs": [
        {
          "output_type": "stream",
          "name": "stdout",
          "text": [
            "count    691.000000\n",
            "mean       5.795774\n",
            "std        1.969284\n",
            "min        2.300000\n",
            "25%        4.500000\n",
            "50%        5.300000\n",
            "75%        6.500000\n",
            "max       16.000000\n",
            "Name: Tiempo_Quirúrgico_Tx#1, dtype: float64\n",
            "--------------------\n",
            "Número de datos nulos: 45\n"
          ]
        }
      ],
      "source": [
        "ver_datos(df, 'Tiempo_Quirúrgico_Tx#1')"
      ]
    },
    {
      "cell_type": "markdown",
      "id": "0f8be2e9",
      "metadata": {
        "id": "0f8be2e9"
      },
      "source": [
        "### Antibiótico_Profiláctico_VS_Terapéutico"
      ]
    },
    {
      "cell_type": "code",
      "execution_count": 463,
      "id": "3967b30a",
      "metadata": {
        "id": "3967b30a",
        "outputId": "8a20f5b0-4efa-499a-9b1d-8be2754fc6c3",
        "colab": {
          "base_uri": "https://localhost:8080/"
        }
      },
      "outputs": [
        {
          "output_type": "stream",
          "name": "stdout",
          "text": [
            "count    576.000000\n",
            "mean       0.053819\n",
            "std        0.225857\n",
            "min        0.000000\n",
            "25%        0.000000\n",
            "50%        0.000000\n",
            "75%        0.000000\n",
            "max        1.000000\n",
            "Name: Antibiótico_Profiláctico_VS_Terapéutico, dtype: float64\n",
            "--------------------\n",
            "Número de datos nulos: 160\n",
            "--------------------\n",
            "Antibiótico_Profiláctico_VS_Terapéutico\n",
            "0.0    545\n",
            "NaN    160\n",
            "1.0     31\n",
            "Name: count, dtype: int64\n"
          ]
        }
      ],
      "source": [
        "ver_datos(df, 'Antibiótico_Profiláctico_VS_Terapéutico', True)"
      ]
    },
    {
      "cell_type": "markdown",
      "id": "21ca19df",
      "metadata": {
        "id": "21ca19df"
      },
      "source": [
        "### Días_Tratamiento_Antibiótico_Previo_A_Tx#1 (hay varios de antibióticos, no sé si incluirlos)"
      ]
    },
    {
      "cell_type": "code",
      "execution_count": 464,
      "id": "83221799",
      "metadata": {
        "id": "83221799",
        "outputId": "0c2cb569-17b6-425c-bf92-9ca1c731ec15",
        "colab": {
          "base_uri": "https://localhost:8080/"
        }
      },
      "outputs": [
        {
          "output_type": "stream",
          "name": "stdout",
          "text": [
            "count    571.000000\n",
            "mean       0.315236\n",
            "std        1.766778\n",
            "min        0.000000\n",
            "25%        0.000000\n",
            "50%        0.000000\n",
            "75%        0.000000\n",
            "max       18.000000\n",
            "Name: Días_Tratamiento_Antibiótico_Previo_A_Tx#1, dtype: float64\n",
            "--------------------\n",
            "Número de datos nulos: 165\n"
          ]
        }
      ],
      "source": [
        "ver_datos(df, 'Días_Tratamiento_Antibiótico_Previo_A_Tx#1')"
      ]
    },
    {
      "cell_type": "markdown",
      "id": "60ae1642",
      "metadata": {
        "id": "60ae1642"
      },
      "source": [
        "### Tiempo_De_Dosis_Hasta_Tx#1"
      ]
    },
    {
      "cell_type": "code",
      "execution_count": 465,
      "id": "2947c3c0",
      "metadata": {
        "id": "2947c3c0",
        "outputId": "deac8534-ab6a-4db2-d83f-28695d0bbaac",
        "colab": {
          "base_uri": "https://localhost:8080/"
        }
      },
      "outputs": [
        {
          "output_type": "stream",
          "name": "stdout",
          "text": [
            "count     496\n",
            "unique    186\n",
            "top        10\n",
            "freq       16\n",
            "Name: Tiempo_De_Dosis_Hasta_Tx#1, dtype: int64\n",
            "--------------------\n",
            "Número de datos nulos: 240\n"
          ]
        }
      ],
      "source": [
        "ver_datos(df, 'Tiempo_De_Dosis_Hasta_Tx#1')"
      ]
    },
    {
      "cell_type": "code",
      "execution_count": 466,
      "id": "ccab987f",
      "metadata": {
        "id": "ccab987f",
        "outputId": "61746623-57b2-4d5b-8b97-ababd5f7a6fd",
        "colab": {
          "base_uri": "https://localhost:8080/"
        }
      },
      "outputs": [
        {
          "output_type": "stream",
          "name": "stdout",
          "text": [
            "count     496\n",
            "unique    186\n",
            "top        10\n",
            "freq       16\n",
            "Name: Tiempo_De_Dosis_Hasta_Tx#1, dtype: int64\n",
            "--------------------\n",
            "Número de datos nulos: 240\n",
            "--------------------\n",
            "Tiempo_De_Dosis_Hasta_Tx#1\n",
            "NaN     240\n",
            "10.0     16\n",
            "2.0      15\n",
            "0.0      15\n",
            "1.0      14\n",
            "       ... \n",
            "69.0      1\n",
            "84.0      1\n",
            "70.0      1\n",
            "61.0      1\n",
            "38.0      1\n",
            "Name: count, Length: 187, dtype: int64\n"
          ]
        }
      ],
      "source": [
        "ver_datos(df, 'Tiempo_De_Dosis_Hasta_Tx#1', True)"
      ]
    },
    {
      "cell_type": "code",
      "execution_count": 467,
      "id": "e794d9ef",
      "metadata": {
        "id": "e794d9ef"
      },
      "outputs": [],
      "source": [
        "df['Tiempo_De_Dosis_Hasta_Tx#1'] = (\n",
        "    df['Tiempo_De_Dosis_Hasta_Tx#1']\n",
        "    .replace({\n",
        "        '0..91':0.91,\n",
        "        2083:np.nan\n",
        "    })\n",
        ")"
      ]
    },
    {
      "cell_type": "code",
      "execution_count": 468,
      "id": "21650fbd",
      "metadata": {
        "id": "21650fbd"
      },
      "outputs": [],
      "source": [
        "limpiar_numericas(df, 'Tiempo_De_Dosis_Hasta_Tx#1')"
      ]
    },
    {
      "cell_type": "code",
      "execution_count": 469,
      "id": "091cb21b",
      "metadata": {
        "id": "091cb21b",
        "outputId": "1fe761b9-c5fe-4134-84da-4c432a318245",
        "colab": {
          "base_uri": "https://localhost:8080/"
        }
      },
      "outputs": [
        {
          "output_type": "stream",
          "name": "stdout",
          "text": [
            "count    494.000000\n",
            "mean      14.721802\n",
            "std       19.872557\n",
            "min        0.000000\n",
            "25%        1.000000\n",
            "50%        3.000000\n",
            "75%       24.000000\n",
            "max      128.000000\n",
            "Name: Tiempo_De_Dosis_Hasta_Tx#1, dtype: float64\n",
            "--------------------\n",
            "Número de datos nulos: 242\n"
          ]
        }
      ],
      "source": [
        "ver_datos(df, 'Tiempo_De_Dosis_Hasta_Tx#1')"
      ]
    },
    {
      "cell_type": "markdown",
      "id": "d367951e",
      "metadata": {
        "id": "d367951e"
      },
      "source": [
        "### Tiempo_Sonda_Vesical"
      ]
    },
    {
      "cell_type": "code",
      "execution_count": 470,
      "id": "bbfa7781",
      "metadata": {
        "id": "bbfa7781",
        "outputId": "2f882a30-a9f8-4a12-a9d1-23269bc1bae9",
        "colab": {
          "base_uri": "https://localhost:8080/"
        }
      },
      "outputs": [
        {
          "output_type": "stream",
          "name": "stdout",
          "text": [
            "count      404.000000\n",
            "mean      -867.150990\n",
            "std       6123.497471\n",
            "min     -44810.000000\n",
            "25%          0.000000\n",
            "50%          1.000000\n",
            "75%          2.000000\n",
            "max         47.000000\n",
            "Name: Tiempo_Sonda_Vesical, dtype: float64\n",
            "--------------------\n",
            "Número de datos nulos: 332\n"
          ]
        }
      ],
      "source": [
        "ver_datos(df, 'Tiempo_Sonda_Vesical')"
      ]
    },
    {
      "cell_type": "code",
      "execution_count": 471,
      "id": "72d83e29",
      "metadata": {
        "id": "72d83e29",
        "outputId": "0fdb2461-a602-4e00-a43b-1a1d58014356",
        "colab": {
          "base_uri": "https://localhost:8080/",
          "height": 447
        }
      },
      "outputs": [
        {
          "output_type": "execute_result",
          "data": {
            "text/plain": [
              "<Axes: >"
            ]
          },
          "metadata": {},
          "execution_count": 471
        },
        {
          "output_type": "display_data",
          "data": {
            "text/plain": [
              "<Figure size 640x480 with 1 Axes>"
            ],
            "image/png": "[encoded data removed]"
          },
          "metadata": {}
        }
      ],
      "source": [
        "df['Tiempo_Sonda_Vesical'].hist()"
      ]
    },
    {
      "cell_type": "code",
      "execution_count": 472,
      "id": "bf6daebe",
      "metadata": {
        "id": "bf6daebe"
      },
      "outputs": [],
      "source": [
        "# Los pacientes que tienen duraciones de cateter negativos no tienen fecha de retiro.\n",
        "df.loc[df['Tiempo_Sonda_Vesical']<0, 'Tiempo_Sonda_Vesical'] = np.nan"
      ]
    },
    {
      "cell_type": "code",
      "execution_count": 473,
      "id": "a0adf848",
      "metadata": {
        "id": "a0adf848",
        "outputId": "056ecd55-d7c9-41eb-e4aa-f727b30d8e39",
        "colab": {
          "base_uri": "https://localhost:8080/",
          "height": 447
        }
      },
      "outputs": [
        {
          "output_type": "execute_result",
          "data": {
            "text/plain": [
              "<Axes: >"
            ]
          },
          "metadata": {},
          "execution_count": 473
        },
        {
          "output_type": "display_data",
          "data": {
            "text/plain": [
              "<Figure size 640x480 with 1 Axes>"
            ],
            "image/png": "[encoded data removed]"
          },
          "metadata": {}
        }
      ],
      "source": [
        "df['Tiempo_Sonda_Vesical'].hist()"
      ]
    },
    {
      "cell_type": "code",
      "execution_count": 474,
      "id": "162bccff",
      "metadata": {
        "id": "162bccff",
        "outputId": "801258e6-c477-41cf-a4f4-17a78a8af6dc",
        "colab": {
          "base_uri": "https://localhost:8080/"
        }
      },
      "outputs": [
        {
          "output_type": "stream",
          "name": "stdout",
          "text": [
            "count    396.000000\n",
            "mean       1.916667\n",
            "std        3.965755\n",
            "min        0.000000\n",
            "25%        0.000000\n",
            "50%        1.000000\n",
            "75%        2.000000\n",
            "max       47.000000\n",
            "Name: Tiempo_Sonda_Vesical, dtype: float64\n",
            "--------------------\n",
            "Número de datos nulos: 340\n"
          ]
        }
      ],
      "source": [
        "ver_datos(df, 'Tiempo_Sonda_Vesical')"
      ]
    },
    {
      "cell_type": "markdown",
      "id": "4b34e2fc",
      "metadata": {
        "id": "4b34e2fc"
      },
      "source": [
        "### Tiempo_CVC"
      ]
    },
    {
      "cell_type": "code",
      "execution_count": 475,
      "id": "97b8dec2",
      "metadata": {
        "id": "97b8dec2",
        "outputId": "159ca23a-d082-4c6a-9545-4bd31c390917",
        "colab": {
          "base_uri": "https://localhost:8080/"
        }
      },
      "outputs": [
        {
          "output_type": "stream",
          "name": "stdout",
          "text": [
            "count      446.000000\n",
            "mean     -3467.995516\n",
            "std      11752.094236\n",
            "min     -45245.000000\n",
            "25%          2.000000\n",
            "50%          6.000000\n",
            "75%          9.000000\n",
            "max        889.000000\n",
            "Name: Tiempo_CVC, dtype: float64\n",
            "--------------------\n",
            "Número de datos nulos: 290\n"
          ]
        }
      ],
      "source": [
        "ver_datos(df, 'Tiempo_CVC')"
      ]
    },
    {
      "cell_type": "code",
      "execution_count": 476,
      "id": "c886367b",
      "metadata": {
        "id": "c886367b",
        "outputId": "6de91b0e-accb-4200-c5a6-605d1180fd15",
        "colab": {
          "base_uri": "https://localhost:8080/",
          "height": 447
        }
      },
      "outputs": [
        {
          "output_type": "execute_result",
          "data": {
            "text/plain": [
              "<Axes: >"
            ]
          },
          "metadata": {},
          "execution_count": 476
        },
        {
          "output_type": "display_data",
          "data": {
            "text/plain": [
              "<Figure size 640x480 with 1 Axes>"
            ],
            "image/png": "[encoded data removed]"
          },
          "metadata": {}
        }
      ],
      "source": [
        "df['Tiempo_CVC'].hist()"
      ]
    },
    {
      "cell_type": "code",
      "execution_count": 477,
      "id": "c36600a9",
      "metadata": {
        "id": "c36600a9"
      },
      "outputs": [],
      "source": [
        "# Los pacientes que tienen duraciones de cateter negativos no tienen fecha de retiro.\n",
        "df.loc[df['Tiempo_CVC']<0, 'Tiempo_CVC'] = np.nan"
      ]
    },
    {
      "cell_type": "code",
      "execution_count": 478,
      "id": "40010fb7",
      "metadata": {
        "id": "40010fb7",
        "outputId": "d8c0b96f-5736-4398-eb71-ac7487a99314",
        "colab": {
          "base_uri": "https://localhost:8080/",
          "height": 447
        }
      },
      "outputs": [
        {
          "output_type": "execute_result",
          "data": {
            "text/plain": [
              "<Axes: >"
            ]
          },
          "metadata": {},
          "execution_count": 478
        },
        {
          "output_type": "display_data",
          "data": {
            "text/plain": [
              "<Figure size 640x480 with 1 Axes>"
            ],
            "image/png": "[encoded data removed]"
          },
          "metadata": {}
        }
      ],
      "source": [
        "df['Tiempo_CVC'].hist()"
      ]
    },
    {
      "cell_type": "code",
      "execution_count": 479,
      "id": "b1567287",
      "metadata": {
        "id": "b1567287",
        "outputId": "78de9e85-4492-4983-8a73-23f8ca8a3edf",
        "colab": {
          "base_uri": "https://localhost:8080/",
          "height": 112
        }
      },
      "outputs": [
        {
          "output_type": "execute_result",
          "data": {
            "text/plain": [
              "           Fecha_Colocación_CVC Fecha_Retiro_CVC  Tiempo_CVC\n",
              "#_Paciente                                                  \n",
              "440         2016-07-25 00:00:00       2018-12-31       889.0"
            ],
            "text/html": [
              "\n",
              "  <div id=\"df-d3dda39e-710c-40e5-a7c7-a2ba56a4bf77\" class=\"colab-df-container\">\n",
              "    <div>\n",
              "<style scoped>\n",
              "    .dataframe tbody tr th:only-of-type {\n",
              "        vertical-align: middle;\n",
              "    }\n",
              "\n",
              "    .dataframe tbody tr th {\n",
              "        vertical-align: top;\n",
              "    }\n",
              "\n",
              "    .dataframe thead th {\n",
              "        text-align: right;\n",
              "    }\n",
              "</style>\n",
              "<table border=\"1\" class=\"dataframe\">\n",
              "  <thead>\n",
              "    <tr style=\"text-align: right;\">\n",
              "      <th></th>\n",
              "      <th>Fecha_Colocación_CVC</th>\n",
              "      <th>Fecha_Retiro_CVC</th>\n",
              "      <th>Tiempo_CVC</th>\n",
              "    </tr>\n",
              "    <tr>\n",
              "      <th>#_Paciente</th>\n",
              "      <th></th>\n",
              "      <th></th>\n",
              "      <th></th>\n",
              "    </tr>\n",
              "  </thead>\n",
              "  <tbody>\n",
              "    <tr>\n",
              "      <th>440</th>\n",
              "      <td>2016-07-25 00:00:00</td>\n",
              "      <td>2018-12-31</td>\n",
              "      <td>889.0</td>\n",
              "    </tr>\n",
              "  </tbody>\n",
              "</table>\n",
              "</div>\n",
              "    <div class=\"colab-df-buttons\">\n",
              "\n",
              "  <div class=\"colab-df-container\">\n",
              "    <button class=\"colab-df-convert\" onclick=\"convertToInteractive('df-d3dda39e-710c-40e5-a7c7-a2ba56a4bf77')\"\n",
              "            title=\"Convert this dataframe to an interactive table.\"\n",
              "            style=\"display:none;\">\n",
              "\n",
              "  <svg xmlns=\"http://www.w3.org/2000/svg\" height=\"24px\" viewBox=\"0 -960 960 960\">\n",
              "    <path d=\"M120-120v-720h720v720H120Zm60-500h600v-160H180v160Zm220 220h160v-160H400v160Zm0 220h160v-160H400v160ZM180-400h160v-160H180v160Zm440 0h160v-160H620v160ZM180-180h160v-160H180v160Zm440 0h160v-160H620v160Z\"/>\n",
              "  </svg>\n",
              "    </button>\n",
              "\n",
              "  <style>\n",
              "    .colab-df-container {\n",
              "      display:flex;\n",
              "      gap: 12px;\n",
              "    }\n",
              "\n",
              "    .colab-df-convert {\n",
              "      background-color: #E8F0FE;\n",
              "      border: none;\n",
              "      border-radius: 50%;\n",
              "      cursor: pointer;\n",
              "      display: none;\n",
              "      fill: #1967D2;\n",
              "      height: 32px;\n",
              "      padding: 0 0 0 0;\n",
              "      width: 32px;\n",
              "    }\n",
              "\n",
              "    .colab-df-convert:hover {\n",
              "      background-color: #E2EBFA;\n",
              "      box-shadow: 0px 1px 2px rgba(60, 64, 67, 0.3), 0px 1px 3px 1px rgba(60, 64, 67, 0.15);\n",
              "      fill: #174EA6;\n",
              "    }\n",
              "\n",
              "    .colab-df-buttons div {\n",
              "      margin-bottom: 4px;\n",
              "    }\n",
              "\n",
              "    [theme=dark] .colab-df-convert {\n",
              "      background-color: #3B4455;\n",
              "      fill: #D2E3FC;\n",
              "    }\n",
              "\n",
              "    [theme=dark] .colab-df-convert:hover {\n",
              "      background-color: #434B5C;\n",
              "      box-shadow: 0px 1px 3px 1px rgba(0, 0, 0, 0.15);\n",
              "      filter: drop-shadow(0px 1px 2px rgba(0, 0, 0, 0.3));\n",
              "      fill: #FFFFFF;\n",
              "    }\n",
              "  </style>\n",
              "\n",
              "    <script>\n",
              "      const buttonEl =\n",
              "        document.querySelector('#df-d3dda39e-710c-40e5-a7c7-a2ba56a4bf77 button.colab-df-convert');\n",
              "      buttonEl.style.display =\n",
              "        google.colab.kernel.accessAllowed ? 'block' : 'none';\n",
              "\n",
              "      async function convertToInteractive(key) {\n",
              "        const element = document.querySelector('#df-d3dda39e-710c-40e5-a7c7-a2ba56a4bf77');\n",
              "        const dataTable =\n",
              "          await google.colab.kernel.invokeFunction('convertToInteractive',\n",
              "                                                    [key], {});\n",
              "        if (!dataTable) return;\n",
              "\n",
              "        const docLinkHtml = 'Like what you see? Visit the ' +\n",
              "          '<a target=\"_blank\" href=https://colab.research.google.com/notebooks/data_table.ipynb>data table notebook</a>'\n",
              "          + ' to learn more about interactive tables.';\n",
              "        element.innerHTML = '';\n",
              "        dataTable['output_type'] = 'display_data';\n",
              "        await google.colab.output.renderOutput(dataTable, element);\n",
              "        const docLink = document.createElement('div');\n",
              "        docLink.innerHTML = docLinkHtml;\n",
              "        element.appendChild(docLink);\n",
              "      }\n",
              "    </script>\n",
              "  </div>\n",
              "\n",
              "\n",
              "    </div>\n",
              "  </div>\n"
            ],
            "application/vnd.google.colaboratory.intrinsic+json": {
              "type": "dataframe",
              "summary": "{\n  \"name\": \"df[(df['Tiempo_CVC']>400)][['Fecha_Colocaci\\u00f3n_CVC','Fecha_Retiro_CVC','Tiempo_CVC']]\",\n  \"rows\": 1,\n  \"fields\": [\n    {\n      \"column\": \"#_Paciente\",\n      \"properties\": {\n        \"dtype\": \"number\",\n        \"std\": null,\n        \"min\": 440,\n        \"max\": 440,\n        \"num_unique_values\": 1,\n        \"samples\": [\n          440\n        ],\n        \"semantic_type\": \"\",\n        \"description\": \"\"\n      }\n    },\n    {\n      \"column\": \"Fecha_Colocaci\\u00f3n_CVC\",\n      \"properties\": {\n        \"dtype\": \"date\",\n        \"min\": \"2016-07-25 00:00:00\",\n        \"max\": \"2016-07-25 00:00:00\",\n        \"num_unique_values\": 1,\n        \"samples\": [\n          \"2016-07-25 00:00:00\"\n        ],\n        \"semantic_type\": \"\",\n        \"description\": \"\"\n      }\n    },\n    {\n      \"column\": \"Fecha_Retiro_CVC\",\n      \"properties\": {\n        \"dtype\": \"date\",\n        \"min\": \"2018-12-31 00:00:00\",\n        \"max\": \"2018-12-31 00:00:00\",\n        \"num_unique_values\": 1,\n        \"samples\": [\n          \"2018-12-31 00:00:00\"\n        ],\n        \"semantic_type\": \"\",\n        \"description\": \"\"\n      }\n    },\n    {\n      \"column\": \"Tiempo_CVC\",\n      \"properties\": {\n        \"dtype\": \"number\",\n        \"std\": null,\n        \"min\": 889.0,\n        \"max\": 889.0,\n        \"num_unique_values\": 1,\n        \"samples\": [\n          889.0\n        ],\n        \"semantic_type\": \"\",\n        \"description\": \"\"\n      }\n    }\n  ]\n}"
            }
          },
          "metadata": {},
          "execution_count": 479
        }
      ],
      "source": [
        "# Vemos que la duración de 889 días es válida, pero corresponde a un valor atípico por lo que se omitirá\n",
        "df[(df['Tiempo_CVC']>400)][['Fecha_Colocación_CVC','Fecha_Retiro_CVC','Tiempo_CVC']]"
      ]
    },
    {
      "cell_type": "code",
      "execution_count": 480,
      "id": "1316bcbe",
      "metadata": {
        "id": "1316bcbe"
      },
      "outputs": [],
      "source": [
        "df.loc[df['Tiempo_CVC']>800, 'Tiempo_CVC'] = np.nan"
      ]
    },
    {
      "cell_type": "code",
      "execution_count": 481,
      "id": "0c27b726",
      "metadata": {
        "id": "0c27b726",
        "outputId": "19863da9-d21b-4549-c689-822b03ea55e1",
        "colab": {
          "base_uri": "https://localhost:8080/"
        }
      },
      "outputs": [
        {
          "output_type": "stream",
          "name": "stdout",
          "text": [
            "count    409.000000\n",
            "mean       7.422983\n",
            "std        7.302938\n",
            "min        0.000000\n",
            "25%        4.000000\n",
            "50%        6.000000\n",
            "75%        9.000000\n",
            "max       59.000000\n",
            "Name: Tiempo_CVC, dtype: float64\n",
            "--------------------\n",
            "Número de datos nulos: 327\n"
          ]
        }
      ],
      "source": [
        "ver_datos(df, 'Tiempo_CVC')"
      ]
    },
    {
      "cell_type": "markdown",
      "id": "3e5f11f6",
      "metadata": {
        "id": "3e5f11f6"
      },
      "source": [
        "### Soporte_Vasopresor_PeriTx"
      ]
    },
    {
      "cell_type": "code",
      "execution_count": 482,
      "id": "b86b406a",
      "metadata": {
        "id": "b86b406a",
        "outputId": "99de58d7-6f66-4986-837a-fde428863605",
        "colab": {
          "base_uri": "https://localhost:8080/"
        }
      },
      "outputs": [
        {
          "output_type": "stream",
          "name": "stdout",
          "text": [
            "count    642.000000\n",
            "mean       0.588785\n",
            "std        0.492438\n",
            "min        0.000000\n",
            "25%        0.000000\n",
            "50%        1.000000\n",
            "75%        1.000000\n",
            "max        1.000000\n",
            "Name: Soporte_Vasopresor_PeriTx, dtype: float64\n",
            "--------------------\n",
            "Número de datos nulos: 94\n",
            "--------------------\n",
            "Soporte_Vasopresor_PeriTx\n",
            "1.0    378\n",
            "0.0    264\n",
            "NaN     94\n",
            "Name: count, dtype: int64\n"
          ]
        }
      ],
      "source": [
        "ver_datos(df, 'Soporte_Vasopresor_PeriTx', True)"
      ]
    },
    {
      "cell_type": "markdown",
      "id": "97b97573",
      "metadata": {
        "id": "97b97573"
      },
      "source": [
        "### Levosimendan_PeriTx"
      ]
    },
    {
      "cell_type": "code",
      "execution_count": 483,
      "id": "4d4bb832",
      "metadata": {
        "id": "4d4bb832",
        "outputId": "ec894543-bc17-4d05-d457-c0de6e82090a",
        "colab": {
          "base_uri": "https://localhost:8080/"
        }
      },
      "outputs": [
        {
          "output_type": "stream",
          "name": "stdout",
          "text": [
            "count    648.000000\n",
            "mean       0.006173\n",
            "std        0.078385\n",
            "min        0.000000\n",
            "25%        0.000000\n",
            "50%        0.000000\n",
            "75%        0.000000\n",
            "max        1.000000\n",
            "Name: Levosimendan_PeriTx, dtype: float64\n",
            "--------------------\n",
            "Número de datos nulos: 88\n",
            "--------------------\n",
            "Levosimendan_PeriTx\n",
            "0.0    644\n",
            "NaN     88\n",
            "1.0      4\n",
            "Name: count, dtype: int64\n"
          ]
        }
      ],
      "source": [
        "ver_datos(df, 'Levosimendan_PeriTx', True)"
      ]
    },
    {
      "cell_type": "markdown",
      "id": "31c991d7",
      "metadata": {
        "id": "31c991d7"
      },
      "source": [
        "### Noradrenalina_PeriTx"
      ]
    },
    {
      "cell_type": "code",
      "execution_count": 484,
      "id": "4fd8680a",
      "metadata": {
        "id": "4fd8680a",
        "outputId": "887b3e3d-5b6c-409e-f41c-040be48d6202",
        "colab": {
          "base_uri": "https://localhost:8080/"
        }
      },
      "outputs": [
        {
          "output_type": "stream",
          "name": "stdout",
          "text": [
            "count    644.000000\n",
            "mean       0.560559\n",
            "std        0.496705\n",
            "min        0.000000\n",
            "25%        0.000000\n",
            "50%        1.000000\n",
            "75%        1.000000\n",
            "max        1.000000\n",
            "Name: Noradrenalina_PeriTx, dtype: float64\n",
            "--------------------\n",
            "Número de datos nulos: 92\n",
            "--------------------\n",
            "Noradrenalina_PeriTx\n",
            "1.0    361\n",
            "0.0    283\n",
            "NaN     92\n",
            "Name: count, dtype: int64\n"
          ]
        }
      ],
      "source": [
        "ver_datos(df, 'Noradrenalina_PeriTx', True)"
      ]
    },
    {
      "cell_type": "markdown",
      "id": "6ec6a1c3",
      "metadata": {
        "id": "6ec6a1c3"
      },
      "source": [
        "### Adrenalina_PeriTx"
      ]
    },
    {
      "cell_type": "code",
      "execution_count": 485,
      "id": "d6d7a29e",
      "metadata": {
        "id": "d6d7a29e",
        "outputId": "64140008-232e-4d89-a8f2-1c334b284a79",
        "colab": {
          "base_uri": "https://localhost:8080/"
        }
      },
      "outputs": [
        {
          "output_type": "stream",
          "name": "stdout",
          "text": [
            "count    646.000000\n",
            "mean       0.082043\n",
            "std        0.274643\n",
            "min        0.000000\n",
            "25%        0.000000\n",
            "50%        0.000000\n",
            "75%        0.000000\n",
            "max        1.000000\n",
            "Name: Adrenalina_PeriTx, dtype: float64\n",
            "--------------------\n",
            "Número de datos nulos: 90\n",
            "--------------------\n",
            "Adrenalina_PeriTx\n",
            "0.0    593\n",
            "NaN     90\n",
            "1.0     53\n",
            "Name: count, dtype: int64\n"
          ]
        }
      ],
      "source": [
        "ver_datos(df, 'Adrenalina_PeriTx', True)"
      ]
    },
    {
      "cell_type": "markdown",
      "id": "0fbbd457",
      "metadata": {
        "id": "0fbbd457"
      },
      "source": [
        "### Vasopresina_PeriTx"
      ]
    },
    {
      "cell_type": "code",
      "execution_count": 486,
      "id": "d0fdf612",
      "metadata": {
        "id": "d0fdf612",
        "outputId": "e1bac376-b2db-4f11-8380-d25ceff7500f",
        "colab": {
          "base_uri": "https://localhost:8080/"
        }
      },
      "outputs": [
        {
          "output_type": "stream",
          "name": "stdout",
          "text": [
            "count    646.000000\n",
            "mean       0.051084\n",
            "std        0.220339\n",
            "min        0.000000\n",
            "25%        0.000000\n",
            "50%        0.000000\n",
            "75%        0.000000\n",
            "max        1.000000\n",
            "Name: Vasopresina_PeriTx, dtype: float64\n",
            "--------------------\n",
            "Número de datos nulos: 90\n",
            "--------------------\n",
            "Vasopresina_PeriTx\n",
            "0.0    613\n",
            "NaN     90\n",
            "1.0     33\n",
            "Name: count, dtype: int64\n"
          ]
        }
      ],
      "source": [
        "ver_datos(df, 'Vasopresina_PeriTx', True)"
      ]
    },
    {
      "cell_type": "markdown",
      "id": "1c2ba74a",
      "metadata": {
        "id": "1c2ba74a"
      },
      "source": [
        "### Dopamina_PeriTx"
      ]
    },
    {
      "cell_type": "code",
      "execution_count": 487,
      "id": "700b6882",
      "metadata": {
        "id": "700b6882",
        "outputId": "da99c248-99c9-4b6a-97f5-6fdc250fac38",
        "colab": {
          "base_uri": "https://localhost:8080/"
        }
      },
      "outputs": [
        {
          "output_type": "stream",
          "name": "stdout",
          "text": [
            "count    645.000000\n",
            "mean       0.131783\n",
            "std        0.338517\n",
            "min        0.000000\n",
            "25%        0.000000\n",
            "50%        0.000000\n",
            "75%        0.000000\n",
            "max        1.000000\n",
            "Name: Dopamina_PeriTx, dtype: float64\n",
            "--------------------\n",
            "Número de datos nulos: 91\n",
            "--------------------\n",
            "Dopamina_PeriTx\n",
            "0.0    560\n",
            "NaN     91\n",
            "1.0     85\n",
            "Name: count, dtype: int64\n"
          ]
        }
      ],
      "source": [
        "ver_datos(df, 'Dopamina_PeriTx', True)"
      ]
    },
    {
      "cell_type": "markdown",
      "id": "6d856c02",
      "metadata": {
        "id": "6d856c02"
      },
      "source": [
        "### Amiodarona_PeriTx"
      ]
    },
    {
      "cell_type": "code",
      "execution_count": 488,
      "id": "99293c8e",
      "metadata": {
        "id": "99293c8e",
        "outputId": "bc2d2c26-322d-4c07-fd99-d20eb485c28e",
        "colab": {
          "base_uri": "https://localhost:8080/"
        }
      },
      "outputs": [
        {
          "output_type": "stream",
          "name": "stdout",
          "text": [
            "count    645.000000\n",
            "mean       0.058915\n",
            "std        0.441907\n",
            "min        0.000000\n",
            "25%        0.000000\n",
            "50%        0.000000\n",
            "75%        0.000000\n",
            "max       10.000000\n",
            "Name: Amiodarona_PeriTx, dtype: float64\n",
            "--------------------\n",
            "Número de datos nulos: 91\n",
            "--------------------\n",
            "Amiodarona_PeriTx\n",
            "0.0     616\n",
            "NaN      91\n",
            "1.0      28\n",
            "10.0      1\n",
            "Name: count, dtype: int64\n"
          ]
        }
      ],
      "source": [
        "ver_datos(df, 'Amiodarona_PeriTx', True)"
      ]
    },
    {
      "cell_type": "code",
      "execution_count": 489,
      "id": "e608ed44",
      "metadata": {
        "id": "e608ed44"
      },
      "outputs": [],
      "source": [
        "df[\"Amiodarona_PeriTx\"] = df[\"Amiodarona_PeriTx\"].replace(10, 1)"
      ]
    },
    {
      "cell_type": "code",
      "execution_count": 490,
      "id": "28b01783",
      "metadata": {
        "id": "28b01783",
        "outputId": "b75c7a8d-c949-45e5-e19f-3828a47ecce7",
        "colab": {
          "base_uri": "https://localhost:8080/"
        }
      },
      "outputs": [
        {
          "output_type": "stream",
          "name": "stdout",
          "text": [
            "count    645.000000\n",
            "mean       0.044961\n",
            "std        0.207380\n",
            "min        0.000000\n",
            "25%        0.000000\n",
            "50%        0.000000\n",
            "75%        0.000000\n",
            "max        1.000000\n",
            "Name: Amiodarona_PeriTx, dtype: float64\n",
            "--------------------\n",
            "Número de datos nulos: 91\n",
            "--------------------\n",
            "Amiodarona_PeriTx\n",
            "0.0    616\n",
            "NaN     91\n",
            "1.0     29\n",
            "Name: count, dtype: int64\n"
          ]
        }
      ],
      "source": [
        "ver_datos(df, 'Amiodarona_PeriTx', True)"
      ]
    },
    {
      "cell_type": "markdown",
      "id": "ccc7dd85",
      "metadata": {
        "id": "ccc7dd85"
      },
      "source": [
        "### Stent"
      ]
    },
    {
      "cell_type": "code",
      "execution_count": 491,
      "id": "60ba20ca",
      "metadata": {
        "id": "60ba20ca",
        "outputId": "aca7b658-9126-4b13-8703-4fecc389acbe",
        "colab": {
          "base_uri": "https://localhost:8080/"
        }
      },
      "outputs": [
        {
          "output_type": "stream",
          "name": "stdout",
          "text": [
            "count    651.000000\n",
            "mean       0.168971\n",
            "std        0.375014\n",
            "min        0.000000\n",
            "25%        0.000000\n",
            "50%        0.000000\n",
            "75%        0.000000\n",
            "max        1.000000\n",
            "Name: Stent, dtype: float64\n",
            "--------------------\n",
            "Número de datos nulos: 85\n",
            "--------------------\n",
            "Stent\n",
            "0.0    541\n",
            "1.0    110\n",
            "NaN     85\n",
            "Name: count, dtype: int64\n"
          ]
        }
      ],
      "source": [
        "ver_datos(df, 'Stent', True)"
      ]
    },
    {
      "cell_type": "markdown",
      "id": "c9eb7fce",
      "metadata": {
        "id": "c9eb7fce"
      },
      "source": [
        "### Requirió_Reconstrucción_Biliar"
      ]
    },
    {
      "cell_type": "code",
      "execution_count": 492,
      "id": "9e324ba9",
      "metadata": {
        "id": "9e324ba9",
        "outputId": "1c25ec8f-aaa0-4ff2-8442-e37470d265c3",
        "colab": {
          "base_uri": "https://localhost:8080/"
        }
      },
      "outputs": [
        {
          "output_type": "stream",
          "name": "stdout",
          "text": [
            "count    652.000000\n",
            "mean       0.044479\n",
            "std        0.206314\n",
            "min        0.000000\n",
            "25%        0.000000\n",
            "50%        0.000000\n",
            "75%        0.000000\n",
            "max        1.000000\n",
            "Name: Requirió_Reconstrucción_Biliar, dtype: float64\n",
            "--------------------\n",
            "Número de datos nulos: 84\n",
            "--------------------\n",
            "Requirió_Reconstrucción_Biliar\n",
            "0.0    623\n",
            "NaN     84\n",
            "1.0     29\n",
            "Name: count, dtype: int64\n"
          ]
        }
      ],
      "source": [
        "ver_datos(df, 'Requirió_Reconstrucción_Biliar', True)"
      ]
    },
    {
      "cell_type": "markdown",
      "id": "a6ae3111",
      "metadata": {
        "id": "a6ae3111"
      },
      "source": [
        "### Profilaxis_Antitrombótica"
      ]
    },
    {
      "cell_type": "code",
      "execution_count": 493,
      "id": "9d9e2a71",
      "metadata": {
        "id": "9d9e2a71",
        "outputId": "208aa879-6bc4-46e1-a682-920991f3f64e",
        "colab": {
          "base_uri": "https://localhost:8080/"
        }
      },
      "outputs": [
        {
          "output_type": "stream",
          "name": "stdout",
          "text": [
            "count    533.000000\n",
            "mean       0.969981\n",
            "std        0.485736\n",
            "min        0.000000\n",
            "25%        1.000000\n",
            "50%        1.000000\n",
            "75%        1.000000\n",
            "max       11.000000\n",
            "Name: Profilaxis_Antitrombótica, dtype: float64\n",
            "--------------------\n",
            "Número de datos nulos: 203\n",
            "--------------------\n",
            "Profilaxis_Antitrombótica\n",
            "1.0     506\n",
            "NaN     203\n",
            "0.0      26\n",
            "11.0      1\n",
            "Name: count, dtype: int64\n"
          ]
        }
      ],
      "source": [
        "ver_datos(df, 'Profilaxis_Antitrombótica', True)"
      ]
    },
    {
      "cell_type": "code",
      "execution_count": 494,
      "id": "82c110e0",
      "metadata": {
        "id": "82c110e0"
      },
      "outputs": [],
      "source": [
        "df[\"Profilaxis_Antitrombótica\"] = df[\"Profilaxis_Antitrombótica\"].replace(11, 1)"
      ]
    },
    {
      "cell_type": "code",
      "execution_count": 495,
      "id": "ded64073",
      "metadata": {
        "id": "ded64073",
        "outputId": "28940ffa-2b6f-4a09-8744-40ef5284b7fa",
        "colab": {
          "base_uri": "https://localhost:8080/"
        }
      },
      "outputs": [
        {
          "output_type": "stream",
          "name": "stdout",
          "text": [
            "count    533.000000\n",
            "mean       0.951220\n",
            "std        0.215611\n",
            "min        0.000000\n",
            "25%        1.000000\n",
            "50%        1.000000\n",
            "75%        1.000000\n",
            "max        1.000000\n",
            "Name: Profilaxis_Antitrombótica, dtype: float64\n",
            "--------------------\n",
            "Número de datos nulos: 203\n",
            "--------------------\n",
            "Profilaxis_Antitrombótica\n",
            "1.0    507\n",
            "NaN    203\n",
            "0.0     26\n",
            "Name: count, dtype: int64\n"
          ]
        }
      ],
      "source": [
        "ver_datos(df, 'Profilaxis_Antitrombótica', True)"
      ]
    },
    {
      "cell_type": "markdown",
      "id": "a3b1614b",
      "metadata": {
        "id": "a3b1614b"
      },
      "source": [
        "### Días_de_Profilaxis_Antitrombótica"
      ]
    },
    {
      "cell_type": "code",
      "execution_count": 496,
      "id": "71f6226d",
      "metadata": {
        "id": "71f6226d",
        "outputId": "08780faf-43ab-47d5-b5d7-9bb5e35706e9",
        "colab": {
          "base_uri": "https://localhost:8080/"
        }
      },
      "outputs": [
        {
          "output_type": "stream",
          "name": "stdout",
          "text": [
            "count    473.000000\n",
            "mean       6.520085\n",
            "std        8.788723\n",
            "min        0.000000\n",
            "25%        1.000000\n",
            "50%        1.000000\n",
            "75%        9.000000\n",
            "max       54.000000\n",
            "Name: Días_de_Profilaxis_Antitrombótica, dtype: float64\n",
            "--------------------\n",
            "Número de datos nulos: 263\n"
          ]
        }
      ],
      "source": [
        "ver_datos(df, 'Días_de_Profilaxis_Antitrombótica')"
      ]
    },
    {
      "cell_type": "markdown",
      "id": "955489d8",
      "metadata": {
        "id": "955489d8"
      },
      "source": [
        "### Fast_Track"
      ]
    },
    {
      "cell_type": "code",
      "execution_count": 497,
      "id": "b2db90e5",
      "metadata": {
        "id": "b2db90e5",
        "outputId": "02153801-3dbd-4980-ebdf-14d59a58a4d6",
        "colab": {
          "base_uri": "https://localhost:8080/"
        }
      },
      "outputs": [
        {
          "output_type": "stream",
          "name": "stdout",
          "text": [
            "count    696.000000\n",
            "mean       0.089080\n",
            "std        0.285065\n",
            "min        0.000000\n",
            "25%        0.000000\n",
            "50%        0.000000\n",
            "75%        0.000000\n",
            "max        1.000000\n",
            "Name: Fast_Track, dtype: float64\n",
            "--------------------\n",
            "Número de datos nulos: 40\n",
            "--------------------\n",
            "Fast_Track\n",
            "0.0    634\n",
            "1.0     62\n",
            "NaN     40\n",
            "Name: count, dtype: int64\n"
          ]
        }
      ],
      "source": [
        "ver_datos(df, 'Fast_Track', True)"
      ]
    },
    {
      "cell_type": "markdown",
      "id": "83951db1",
      "metadata": {
        "id": "83951db1"
      },
      "source": [
        "### Días_En_UCI"
      ]
    },
    {
      "cell_type": "code",
      "execution_count": 498,
      "id": "9ccdfcd7",
      "metadata": {
        "id": "9ccdfcd7",
        "outputId": "d111dbb0-9134-4c97-c144-c07d2b56fcb9",
        "colab": {
          "base_uri": "https://localhost:8080/"
        }
      },
      "outputs": [
        {
          "output_type": "stream",
          "name": "stdout",
          "text": [
            "count    697.000000\n",
            "mean       4.568149\n",
            "std        8.556524\n",
            "min        0.000000\n",
            "25%        1.000000\n",
            "50%        2.000000\n",
            "75%        4.000000\n",
            "max       94.000000\n",
            "Name: Días_En_UCI, dtype: float64\n",
            "--------------------\n",
            "Número de datos nulos: 39\n"
          ]
        }
      ],
      "source": [
        "ver_datos(df, 'Días_En_UCI')"
      ]
    },
    {
      "cell_type": "markdown",
      "id": "4cfce924",
      "metadata": {
        "id": "4cfce924"
      },
      "source": [
        "### Días_En_Hospitalización_Piso"
      ]
    },
    {
      "cell_type": "code",
      "execution_count": 499,
      "id": "5dfc45a8",
      "metadata": {
        "id": "5dfc45a8",
        "outputId": "eb6954d4-bc13-47b0-9f86-31bb4497521e",
        "colab": {
          "base_uri": "https://localhost:8080/"
        }
      },
      "outputs": [
        {
          "output_type": "stream",
          "name": "stdout",
          "text": [
            "count      702.000000\n",
            "mean      -377.676638\n",
            "std       4167.865767\n",
            "min     -45324.000000\n",
            "25%          4.000000\n",
            "50%          7.000000\n",
            "75%         11.000000\n",
            "max        125.000000\n",
            "Name: Días_En_Hospitalización_Piso, dtype: float64\n",
            "--------------------\n",
            "Número de datos nulos: 34\n"
          ]
        }
      ],
      "source": [
        "ver_datos(df, 'Días_En_Hospitalización_Piso')"
      ]
    },
    {
      "cell_type": "code",
      "execution_count": 500,
      "id": "a8d46573",
      "metadata": {
        "id": "a8d46573"
      },
      "outputs": [],
      "source": [
        "df.loc[\n",
        "    df[\"Días_En_Hospitalización_Piso\"] < 0,\n",
        "    \"Días_En_Hospitalización_Piso\"\n",
        "] = np.nan"
      ]
    },
    {
      "cell_type": "code",
      "execution_count": 501,
      "id": "63fc2b16",
      "metadata": {
        "id": "63fc2b16",
        "outputId": "22e274a5-402a-427b-c026-5b57977bf1b8",
        "colab": {
          "base_uri": "https://localhost:8080/"
        }
      },
      "outputs": [
        {
          "output_type": "stream",
          "name": "stdout",
          "text": [
            "count    696.000000\n",
            "mean       9.022989\n",
            "std        9.356999\n",
            "min        0.000000\n",
            "25%        4.000000\n",
            "50%        7.000000\n",
            "75%       11.000000\n",
            "max      125.000000\n",
            "Name: Días_En_Hospitalización_Piso, dtype: float64\n",
            "--------------------\n",
            "Número de datos nulos: 40\n"
          ]
        }
      ],
      "source": [
        "ver_datos(df, 'Días_En_Hospitalización_Piso')"
      ]
    },
    {
      "cell_type": "markdown",
      "id": "30b7203e",
      "metadata": {
        "id": "30b7203e"
      },
      "source": [
        "### Días_Totales_Intrahospitalarios"
      ]
    },
    {
      "cell_type": "code",
      "execution_count": 502,
      "id": "9f43f683",
      "metadata": {
        "id": "9f43f683",
        "outputId": "20d9c16b-97a6-41e5-8d93-cb18e2155ada",
        "colab": {
          "base_uri": "https://localhost:8080/"
        }
      },
      "outputs": [
        {
          "output_type": "stream",
          "name": "stdout",
          "text": [
            "count      702.000000\n",
            "mean      -373.457265\n",
            "std       4168.268764\n",
            "min     -45324.000000\n",
            "25%          6.000000\n",
            "50%          9.000000\n",
            "75%         15.000000\n",
            "max        184.000000\n",
            "Name: Días_Totales_Intrahospitalarios, dtype: float64\n",
            "--------------------\n",
            "Número de datos nulos: 34\n"
          ]
        }
      ],
      "source": [
        "ver_datos(df, 'Días_Totales_Intrahospitalarios')"
      ]
    },
    {
      "cell_type": "code",
      "execution_count": 503,
      "id": "eaebb8ce",
      "metadata": {
        "id": "eaebb8ce"
      },
      "outputs": [],
      "source": [
        "df.loc[\n",
        "    df[\"Días_Totales_Intrahospitalarios\"] < 0,\n",
        "    \"Días_Totales_Intrahospitalarios\"\n",
        "] = np.nan"
      ]
    },
    {
      "cell_type": "code",
      "execution_count": 504,
      "id": "d5150d8c",
      "metadata": {
        "id": "d5150d8c",
        "outputId": "6f8b1916-4b68-437f-fe4d-7d234f9e96d8",
        "colab": {
          "base_uri": "https://localhost:8080/"
        }
      },
      "outputs": [
        {
          "output_type": "stream",
          "name": "stdout",
          "text": [
            "count    696.000000\n",
            "mean      13.278736\n",
            "std       13.405460\n",
            "min        0.000000\n",
            "25%        6.000000\n",
            "50%        9.000000\n",
            "75%       15.000000\n",
            "max      184.000000\n",
            "Name: Días_Totales_Intrahospitalarios, dtype: float64\n",
            "--------------------\n",
            "Número de datos nulos: 40\n"
          ]
        }
      ],
      "source": [
        "ver_datos(df, 'Días_Totales_Intrahospitalarios')"
      ]
    },
    {
      "cell_type": "markdown",
      "id": "619f85fd",
      "metadata": {
        "id": "619f85fd"
      },
      "source": [
        "### Fecha_Egreso_UCI\n"
      ]
    },
    {
      "cell_type": "code",
      "execution_count": 505,
      "id": "ddbd0043",
      "metadata": {
        "id": "ddbd0043",
        "outputId": "69090903-7999-482f-9231-6d5114dcdaad",
        "colab": {
          "base_uri": "https://localhost:8080/"
        }
      },
      "outputs": [
        {
          "output_type": "stream",
          "name": "stdout",
          "text": [
            "count                     108\n",
            "unique                    107\n",
            "top       2017-11-09 00:00:00\n",
            "freq                        2\n",
            "Name: Fecha_Egreso_UCI, dtype: object\n",
            "--------------------\n",
            "Número de datos nulos: 628\n"
          ]
        }
      ],
      "source": [
        "ver_datos(df, 'Fecha_Egreso_UCI')"
      ]
    },
    {
      "cell_type": "code",
      "execution_count": 506,
      "id": "9e46b216",
      "metadata": {
        "id": "9e46b216"
      },
      "outputs": [],
      "source": [
        "df['Fecha_Egreso_UCI']=df['Fecha_Egreso_UCI'].apply(parse_date)"
      ]
    },
    {
      "cell_type": "code",
      "execution_count": 507,
      "id": "c78ca057",
      "metadata": {
        "id": "c78ca057"
      },
      "outputs": [],
      "source": [
        "df.loc[df['Fecha_Egreso_UCI'] < '1900-01-01', 'Fecha_Egreso_UCI'] = pd.NaT"
      ]
    },
    {
      "cell_type": "code",
      "execution_count": 508,
      "id": "d1354e41",
      "metadata": {
        "id": "d1354e41",
        "outputId": "feda8c95-7324-4063-c767-82934396d484",
        "colab": {
          "base_uri": "https://localhost:8080/"
        }
      },
      "outputs": [
        {
          "output_type": "stream",
          "name": "stdout",
          "text": [
            "count                              107\n",
            "mean     2017-12-15 19:30:50.467289600\n",
            "min                2004-08-14 00:00:00\n",
            "25%                2014-07-21 12:00:00\n",
            "50%                2017-02-11 00:00:00\n",
            "75%                2023-02-15 00:00:00\n",
            "max                2025-03-05 00:00:00\n",
            "Name: Fecha_Egreso_UCI, dtype: object\n",
            "--------------------\n",
            "Número de datos nulos: 629\n"
          ]
        }
      ],
      "source": [
        "ver_datos(df, 'Fecha_Egreso_UCI')"
      ]
    },
    {
      "cell_type": "markdown",
      "id": "231d5c11",
      "metadata": {
        "id": "231d5c11"
      },
      "source": [
        "### Fecha_Egreso_Hospitalario"
      ]
    },
    {
      "cell_type": "code",
      "execution_count": 509,
      "id": "4cd58eb7",
      "metadata": {
        "id": "4cd58eb7",
        "outputId": "2bc9ba2a-8a8f-4406-ed6b-1f4fb2966a02",
        "colab": {
          "base_uri": "https://localhost:8080/"
        }
      },
      "outputs": [
        {
          "output_type": "stream",
          "name": "stdout",
          "text": [
            "count                              155\n",
            "mean     2019-11-18 15:38:19.354838784\n",
            "min                2004-08-14 00:00:00\n",
            "25%                2015-08-08 00:00:00\n",
            "50%                2023-01-28 00:00:00\n",
            "75%                2024-01-27 00:00:00\n",
            "max                2025-03-13 00:00:00\n",
            "Name: Fecha_Egreso_Hospitalario, dtype: object\n",
            "--------------------\n",
            "Número de datos nulos: 581\n"
          ]
        }
      ],
      "source": [
        "ver_datos(df, 'Fecha_Egreso_Hospitalario')"
      ]
    },
    {
      "cell_type": "markdown",
      "id": "51590418",
      "metadata": {
        "id": "51590418"
      },
      "source": [
        "### ¿Complicación?"
      ]
    },
    {
      "cell_type": "code",
      "execution_count": 510,
      "id": "b074a4cb",
      "metadata": {
        "id": "b074a4cb",
        "outputId": "8062c93a-8371-4a30-923b-dcfcd06a8940",
        "colab": {
          "base_uri": "https://localhost:8080/"
        }
      },
      "outputs": [
        {
          "output_type": "stream",
          "name": "stdout",
          "text": [
            "count     675\n",
            "unique    162\n",
            "top        NO\n",
            "freq      259\n",
            "Name: ¿Complicación?, dtype: object\n",
            "--------------------\n",
            "Número de datos nulos: 61\n",
            "--------------------\n",
            "¿Complicación?\n",
            "NO                                 259\n",
            "0                                   94\n",
            "NaN                                 61\n",
            "1                                   61\n",
            "BILIAR                              19\n",
            "                                  ... \n",
            "HERPES ZOSTER                        1\n",
            "RECHAZO                              1\n",
            "CHOQUE DISTRIBUTIVO                  1\n",
            "FALLA RENAL                          1\n",
            "DISFUNCIÓN PRIMARIA DEL INJERTO      1\n",
            "Name: count, Length: 163, dtype: int64\n"
          ]
        }
      ],
      "source": [
        "ver_datos(df, '¿Complicación?', True)"
      ]
    },
    {
      "cell_type": "code",
      "execution_count": 511,
      "id": "52440685",
      "metadata": {
        "id": "52440685"
      },
      "outputs": [],
      "source": [
        "df['¿Complicación?']=df['¿Complicación?'].replace([\"NO\", \"N0\", \"NINGUNA\", \"NINGUNO\", \"NADA\"], 0)\n",
        "df.loc[df['¿Complicación?'].notna() & (df['¿Complicación?'] != 0), '¿Complicación?'] = 1"
      ]
    },
    {
      "cell_type": "code",
      "execution_count": 512,
      "id": "c8149df7",
      "metadata": {
        "id": "c8149df7",
        "outputId": "c901758c-5094-4d60-c08f-45c8d1b4f1e1",
        "colab": {
          "base_uri": "https://localhost:8080/"
        }
      },
      "outputs": [
        {
          "output_type": "stream",
          "name": "stdout",
          "text": [
            "count     675\n",
            "unique      2\n",
            "top         0\n",
            "freq      361\n",
            "Name: ¿Complicación?, dtype: int64\n",
            "--------------------\n",
            "Número de datos nulos: 61\n",
            "--------------------\n",
            "¿Complicación?\n",
            "0      361\n",
            "1      314\n",
            "NaN     61\n",
            "Name: count, dtype: int64\n"
          ]
        }
      ],
      "source": [
        "ver_datos(df, '¿Complicación?', True)"
      ]
    },
    {
      "cell_type": "markdown",
      "id": "23e9ac66",
      "metadata": {
        "id": "23e9ac66"
      },
      "source": [
        "### #_De_Complicaciones"
      ]
    },
    {
      "cell_type": "code",
      "execution_count": 513,
      "id": "c57ec6b3",
      "metadata": {
        "id": "c57ec6b3",
        "outputId": "b5daf18a-96b3-4491-9db4-c8867ac7a408",
        "colab": {
          "base_uri": "https://localhost:8080/"
        }
      },
      "outputs": [
        {
          "output_type": "stream",
          "name": "stdout",
          "text": [
            "count    491.000000\n",
            "mean       1.853360\n",
            "std        3.887038\n",
            "min        0.000000\n",
            "25%        0.000000\n",
            "50%        1.000000\n",
            "75%        2.000000\n",
            "max       37.000000\n",
            "Name: #_De_Complicaciones, dtype: float64\n",
            "--------------------\n",
            "Número de datos nulos: 245\n"
          ]
        }
      ],
      "source": [
        "ver_datos(df, '#_De_Complicaciones')"
      ]
    },
    {
      "cell_type": "markdown",
      "id": "2f2e5fc3",
      "metadata": {
        "id": "2f2e5fc3"
      },
      "source": [
        "### Tipo_De_Complicación_1"
      ]
    },
    {
      "cell_type": "code",
      "execution_count": 514,
      "id": "70c886cf",
      "metadata": {
        "id": "70c886cf",
        "outputId": "34b3b941-0b38-438e-ba88-d5c5ffd488a2",
        "colab": {
          "base_uri": "https://localhost:8080/"
        }
      },
      "outputs": [
        {
          "output_type": "stream",
          "name": "stdout",
          "text": [
            "count     537\n",
            "unique     44\n",
            "top         0\n",
            "freq      256\n",
            "Name: Tipo_De_Complicación_1, dtype: int64\n",
            "--------------------\n",
            "Número de datos nulos: 199\n",
            "--------------------\n",
            "Tipo_De_Complicación_1\n",
            "0                                                                                       256\n",
            "NaN                                                                                     199\n",
            "1                                                                                        69\n",
            "4                                                                                        34\n",
            "15                                                                                       30\n",
            "9                                                                                        22\n",
            "3                                                                                        18\n",
            "18                                                                                       15\n",
            "5                                                                                        13\n",
            "2                                                                                        12\n",
            "14                                                                                        8\n",
            "31                                                                                        6\n",
            "6                                                                                         5\n",
            "38                                                                                        4\n",
            "22                                                                                        4\n",
            "19                                                                                        3\n",
            "17                                                                                        3\n",
            "7                                                                                         2\n",
            "8                                                                                         2\n",
            "24                                                                                        2\n",
            "25                                                                                        2\n",
            "26                                                                                        2\n",
            "20                                                                                        2\n",
            "21                                                                                        2\n",
            "11                                                                                        1\n",
            "12                                                                                        1\n",
            "30                                                                                        1\n",
            "13                                                                                        1\n",
            "16                                                                                        1\n",
            "29                                                                                        1\n",
            "28                                                                                        1\n",
            "35                                                                                        1\n",
            "27                                                                                        1\n",
            "36                                                                                        1\n",
            "5,9,18                                                                                    1\n",
            "34                                                                                        1\n",
            "9.18                                                                                      1\n",
            "5.15                                                                                      1\n",
            "7,15,18,33                                                                                1\n",
            "4.18                                                                                      1\n",
            "5,11,15,18,25,38                                                                          1\n",
            "BUDD CHIARI AGUDO                                                                         1\n",
            "40                                                                                        1\n",
            "FA, HEMOPERITONEO, FALLA RENAL, PARO RESPIRATORIO, STEVEN JOHNSON, FALLA RENAL AGUDA      1\n",
            "41                                                                                        1\n",
            "Name: count, dtype: int64\n"
          ]
        }
      ],
      "source": [
        "ver_datos(df, 'Tipo_De_Complicación_1', True)"
      ]
    },
    {
      "cell_type": "code",
      "execution_count": 515,
      "id": "407dcb28",
      "metadata": {
        "id": "407dcb28",
        "outputId": "ebf12057-00c0-425c-897f-8f04aa2b3a81",
        "colab": {
          "base_uri": "https://localhost:8080/"
        }
      },
      "outputs": [
        {
          "output_type": "stream",
          "name": "stderr",
          "text": [
            "/tmp/ipython-input-667141772.py:3: FutureWarning: Downcasting behavior in `replace` is deprecated and will be removed in a future version. To retain the old behavior, explicitly call `result.infer_objects(copy=False)`. To opt-in to the future behavior, set `pd.set_option('future.no_silent_downcasting', True)`\n",
            "  .replace({\n"
          ]
        }
      ],
      "source": [
        "df['Tipo_De_Complicación_1'] = (\n",
        "    df['Tipo_De_Complicación_1']\n",
        "    .replace({\n",
        "        \"BUDD CHIARI AGUDO\": 24,\n",
        "        \"STEVEN JOHNSON\": 42,\n",
        "        \"FALLA RENAL AGUDA\": 18,\n",
        "        \"FA, HEMOPERITONEO, FALLA RENAL, PARO RESPIRATORIO, STEVEN JOHNSON, FALLA RENAL AGUDA\":18,\n",
        "        \"5,9,18\":5,\n",
        "        9.18:9,\n",
        "        5.15:5,\n",
        "        '7,15,18,33':7,\n",
        "        4.18:4,\n",
        "        '5,11,15,18,25,38':5\n",
        "    })\n",
        ")"
      ]
    },
    {
      "cell_type": "code",
      "execution_count": 516,
      "id": "09bc2cb4",
      "metadata": {
        "id": "09bc2cb4",
        "outputId": "5196b51b-1191-47b4-fde7-ed55e0ea6966",
        "colab": {
          "base_uri": "https://localhost:8080/"
        }
      },
      "outputs": [
        {
          "output_type": "stream",
          "name": "stdout",
          "text": [
            "count    537.000000\n",
            "mean       4.903166\n",
            "std        8.251070\n",
            "min        0.000000\n",
            "25%        0.000000\n",
            "50%        1.000000\n",
            "75%        5.000000\n",
            "max       41.000000\n",
            "Name: Tipo_De_Complicación_1, dtype: float64\n",
            "--------------------\n",
            "Número de datos nulos: 199\n",
            "--------------------\n",
            "Tipo_De_Complicación_1\n",
            "0.0     256\n",
            "NaN     199\n",
            "1.0      69\n",
            "4.0      35\n",
            "15.0     30\n",
            "9.0      23\n",
            "3.0      18\n",
            "5.0      16\n",
            "18.0     16\n",
            "2.0      12\n",
            "14.0      8\n",
            "31.0      6\n",
            "6.0       5\n",
            "38.0      4\n",
            "22.0      4\n",
            "24.0      3\n",
            "7.0       3\n",
            "19.0      3\n",
            "17.0      3\n",
            "8.0       2\n",
            "20.0      2\n",
            "26.0      2\n",
            "21.0      2\n",
            "25.0      2\n",
            "16.0      1\n",
            "12.0      1\n",
            "11.0      1\n",
            "13.0      1\n",
            "30.0      1\n",
            "29.0      1\n",
            "28.0      1\n",
            "35.0      1\n",
            "27.0      1\n",
            "36.0      1\n",
            "34.0      1\n",
            "40.0      1\n",
            "41.0      1\n",
            "Name: count, dtype: int64\n"
          ]
        }
      ],
      "source": [
        "ver_datos(df, 'Tipo_De_Complicación_1', True)"
      ]
    },
    {
      "cell_type": "markdown",
      "id": "5d4554e0",
      "metadata": {
        "id": "5d4554e0"
      },
      "source": [
        "A partir de los datos de *Tipo de complicación* se ajustará la variable *¿Complicaciones?* para que sea coherente"
      ]
    },
    {
      "cell_type": "code",
      "execution_count": 517,
      "id": "5498e7b4",
      "metadata": {
        "id": "5498e7b4",
        "outputId": "df61bb1d-1718-40d4-d4e8-6d8a691040d2",
        "colab": {
          "base_uri": "https://localhost:8080/",
          "height": 551
        }
      },
      "outputs": [
        {
          "output_type": "execute_result",
          "data": {
            "text/plain": [
              "            Tipo_De_Complicación_1 ¿Complicación?\n",
              "#_Paciente                                       \n",
              "289                            4.0              0\n",
              "304                            2.0              0\n",
              "586                            9.0              0\n",
              "590                           15.0              0\n",
              "595                           15.0              0\n",
              "596                           15.0              0\n",
              "597                           15.0              0\n",
              "600                            9.0              0\n",
              "603                            5.0              0\n",
              "605                            7.0              0\n",
              "606                           15.0              0\n",
              "608                            4.0              0\n",
              "609                           38.0              0\n",
              "610                            5.0              0\n",
              "611                           15.0              0"
            ],
            "text/html": [
              "\n",
              "  <div id=\"df-f0b6d7b5-1c1b-4536-bfc3-5251fdfe9a08\" class=\"colab-df-container\">\n",
              "    <div>\n",
              "<style scoped>\n",
              "    .dataframe tbody tr th:only-of-type {\n",
              "        vertical-align: middle;\n",
              "    }\n",
              "\n",
              "    .dataframe tbody tr th {\n",
              "        vertical-align: top;\n",
              "    }\n",
              "\n",
              "    .dataframe thead th {\n",
              "        text-align: right;\n",
              "    }\n",
              "</style>\n",
              "<table border=\"1\" class=\"dataframe\">\n",
              "  <thead>\n",
              "    <tr style=\"text-align: right;\">\n",
              "      <th></th>\n",
              "      <th>Tipo_De_Complicación_1</th>\n",
              "      <th>¿Complicación?</th>\n",
              "    </tr>\n",
              "    <tr>\n",
              "      <th>#_Paciente</th>\n",
              "      <th></th>\n",
              "      <th></th>\n",
              "    </tr>\n",
              "  </thead>\n",
              "  <tbody>\n",
              "    <tr>\n",
              "      <th>289</th>\n",
              "      <td>4.0</td>\n",
              "      <td>0</td>\n",
              "    </tr>\n",
              "    <tr>\n",
              "      <th>304</th>\n",
              "      <td>2.0</td>\n",
              "      <td>0</td>\n",
              "    </tr>\n",
              "    <tr>\n",
              "      <th>586</th>\n",
              "      <td>9.0</td>\n",
              "      <td>0</td>\n",
              "    </tr>\n",
              "    <tr>\n",
              "      <th>590</th>\n",
              "      <td>15.0</td>\n",
              "      <td>0</td>\n",
              "    </tr>\n",
              "    <tr>\n",
              "      <th>595</th>\n",
              "      <td>15.0</td>\n",
              "      <td>0</td>\n",
              "    </tr>\n",
              "    <tr>\n",
              "      <th>596</th>\n",
              "      <td>15.0</td>\n",
              "      <td>0</td>\n",
              "    </tr>\n",
              "    <tr>\n",
              "      <th>597</th>\n",
              "      <td>15.0</td>\n",
              "      <td>0</td>\n",
              "    </tr>\n",
              "    <tr>\n",
              "      <th>600</th>\n",
              "      <td>9.0</td>\n",
              "      <td>0</td>\n",
              "    </tr>\n",
              "    <tr>\n",
              "      <th>603</th>\n",
              "      <td>5.0</td>\n",
              "      <td>0</td>\n",
              "    </tr>\n",
              "    <tr>\n",
              "      <th>605</th>\n",
              "      <td>7.0</td>\n",
              "      <td>0</td>\n",
              "    </tr>\n",
              "    <tr>\n",
              "      <th>606</th>\n",
              "      <td>15.0</td>\n",
              "      <td>0</td>\n",
              "    </tr>\n",
              "    <tr>\n",
              "      <th>608</th>\n",
              "      <td>4.0</td>\n",
              "      <td>0</td>\n",
              "    </tr>\n",
              "    <tr>\n",
              "      <th>609</th>\n",
              "      <td>38.0</td>\n",
              "      <td>0</td>\n",
              "    </tr>\n",
              "    <tr>\n",
              "      <th>610</th>\n",
              "      <td>5.0</td>\n",
              "      <td>0</td>\n",
              "    </tr>\n",
              "    <tr>\n",
              "      <th>611</th>\n",
              "      <td>15.0</td>\n",
              "      <td>0</td>\n",
              "    </tr>\n",
              "  </tbody>\n",
              "</table>\n",
              "</div>\n",
              "    <div class=\"colab-df-buttons\">\n",
              "\n",
              "  <div class=\"colab-df-container\">\n",
              "    <button class=\"colab-df-convert\" onclick=\"convertToInteractive('df-f0b6d7b5-1c1b-4536-bfc3-5251fdfe9a08')\"\n",
              "            title=\"Convert this dataframe to an interactive table.\"\n",
              "            style=\"display:none;\">\n",
              "\n",
              "  <svg xmlns=\"http://www.w3.org/2000/svg\" height=\"24px\" viewBox=\"0 -960 960 960\">\n",
              "    <path d=\"M120-120v-720h720v720H120Zm60-500h600v-160H180v160Zm220 220h160v-160H400v160Zm0 220h160v-160H400v160ZM180-400h160v-160H180v160Zm440 0h160v-160H620v160ZM180-180h160v-160H180v160Zm440 0h160v-160H620v160Z\"/>\n",
              "  </svg>\n",
              "    </button>\n",
              "\n",
              "  <style>\n",
              "    .colab-df-container {\n",
              "      display:flex;\n",
              "      gap: 12px;\n",
              "    }\n",
              "\n",
              "    .colab-df-convert {\n",
              "      background-color: #E8F0FE;\n",
              "      border: none;\n",
              "      border-radius: 50%;\n",
              "      cursor: pointer;\n",
              "      display: none;\n",
              "      fill: #1967D2;\n",
              "      height: 32px;\n",
              "      padding: 0 0 0 0;\n",
              "      width: 32px;\n",
              "    }\n",
              "\n",
              "    .colab-df-convert:hover {\n",
              "      background-color: #E2EBFA;\n",
              "      box-shadow: 0px 1px 2px rgba(60, 64, 67, 0.3), 0px 1px 3px 1px rgba(60, 64, 67, 0.15);\n",
              "      fill: #174EA6;\n",
              "    }\n",
              "\n",
              "    .colab-df-buttons div {\n",
              "      margin-bottom: 4px;\n",
              "    }\n",
              "\n",
              "    [theme=dark] .colab-df-convert {\n",
              "      background-color: #3B4455;\n",
              "      fill: #D2E3FC;\n",
              "    }\n",
              "\n",
              "    [theme=dark] .colab-df-convert:hover {\n",
              "      background-color: #434B5C;\n",
              "      box-shadow: 0px 1px 3px 1px rgba(0, 0, 0, 0.15);\n",
              "      filter: drop-shadow(0px 1px 2px rgba(0, 0, 0, 0.3));\n",
              "      fill: #FFFFFF;\n",
              "    }\n",
              "  </style>\n",
              "\n",
              "    <script>\n",
              "      const buttonEl =\n",
              "        document.querySelector('#df-f0b6d7b5-1c1b-4536-bfc3-5251fdfe9a08 button.colab-df-convert');\n",
              "      buttonEl.style.display =\n",
              "        google.colab.kernel.accessAllowed ? 'block' : 'none';\n",
              "\n",
              "      async function convertToInteractive(key) {\n",
              "        const element = document.querySelector('#df-f0b6d7b5-1c1b-4536-bfc3-5251fdfe9a08');\n",
              "        const dataTable =\n",
              "          await google.colab.kernel.invokeFunction('convertToInteractive',\n",
              "                                                    [key], {});\n",
              "        if (!dataTable) return;\n",
              "\n",
              "        const docLinkHtml = 'Like what you see? Visit the ' +\n",
              "          '<a target=\"_blank\" href=https://colab.research.google.com/notebooks/data_table.ipynb>data table notebook</a>'\n",
              "          + ' to learn more about interactive tables.';\n",
              "        element.innerHTML = '';\n",
              "        dataTable['output_type'] = 'display_data';\n",
              "        await google.colab.output.renderOutput(dataTable, element);\n",
              "        const docLink = document.createElement('div');\n",
              "        docLink.innerHTML = docLinkHtml;\n",
              "        element.appendChild(docLink);\n",
              "      }\n",
              "    </script>\n",
              "  </div>\n",
              "\n",
              "\n",
              "    <div id=\"df-ea52148b-4432-48b6-8230-aa811ad29f27\">\n",
              "      <button class=\"colab-df-quickchart\" onclick=\"quickchart('df-ea52148b-4432-48b6-8230-aa811ad29f27')\"\n",
              "                title=\"Suggest charts\"\n",
              "                style=\"display:none;\">\n",
              "\n",
              "<svg xmlns=\"http://www.w3.org/2000/svg\" height=\"24px\"viewBox=\"0 0 24 24\"\n",
              "     width=\"24px\">\n",
              "    <g>\n",
              "        <path d=\"M19 3H5c-1.1 0-2 .9-2 2v14c0 1.1.9 2 2 2h14c1.1 0 2-.9 2-2V5c0-1.1-.9-2-2-2zM9 17H7v-7h2v7zm4 0h-2V7h2v10zm4 0h-2v-4h2v4z\"/>\n",
              "    </g>\n",
              "</svg>\n",
              "      </button>\n",
              "\n",
              "<style>\n",
              "  .colab-df-quickchart {\n",
              "      --bg-color: #E8F0FE;\n",
              "      --fill-color: #1967D2;\n",
              "      --hover-bg-color: #E2EBFA;\n",
              "      --hover-fill-color: #174EA6;\n",
              "      --disabled-fill-color: #AAA;\n",
              "      --disabled-bg-color: #DDD;\n",
              "  }\n",
              "\n",
              "  [theme=dark] .colab-df-quickchart {\n",
              "      --bg-color: #3B4455;\n",
              "      --fill-color: #D2E3FC;\n",
              "      --hover-bg-color: #434B5C;\n",
              "      --hover-fill-color: #FFFFFF;\n",
              "      --disabled-bg-color: #3B4455;\n",
              "      --disabled-fill-color: #666;\n",
              "  }\n",
              "\n",
              "  .colab-df-quickchart {\n",
              "    background-color: var(--bg-color);\n",
              "    border: none;\n",
              "    border-radius: 50%;\n",
              "    cursor: pointer;\n",
              "    display: none;\n",
              "    fill: var(--fill-color);\n",
              "    height: 32px;\n",
              "    padding: 0;\n",
              "    width: 32px;\n",
              "  }\n",
              "\n",
              "  .colab-df-quickchart:hover {\n",
              "    background-color: var(--hover-bg-color);\n",
              "    box-shadow: 0 1px 2px rgba(60, 64, 67, 0.3), 0 1px 3px 1px rgba(60, 64, 67, 0.15);\n",
              "    fill: var(--button-hover-fill-color);\n",
              "  }\n",
              "\n",
              "  .colab-df-quickchart-complete:disabled,\n",
              "  .colab-df-quickchart-complete:disabled:hover {\n",
              "    background-color: var(--disabled-bg-color);\n",
              "    fill: var(--disabled-fill-color);\n",
              "    box-shadow: none;\n",
              "  }\n",
              "\n",
              "  .colab-df-spinner {\n",
              "    border: 2px solid var(--fill-color);\n",
              "    border-color: transparent;\n",
              "    border-bottom-color: var(--fill-color);\n",
              "    animation:\n",
              "      spin 1s steps(1) infinite;\n",
              "  }\n",
              "\n",
              "  @keyframes spin {\n",
              "    0% {\n",
              "      border-color: transparent;\n",
              "      border-bottom-color: var(--fill-color);\n",
              "      border-left-color: var(--fill-color);\n",
              "    }\n",
              "    20% {\n",
              "      border-color: transparent;\n",
              "      border-left-color: var(--fill-color);\n",
              "      border-top-color: var(--fill-color);\n",
              "    }\n",
              "    30% {\n",
              "      border-color: transparent;\n",
              "      border-left-color: var(--fill-color);\n",
              "      border-top-color: var(--fill-color);\n",
              "      border-right-color: var(--fill-color);\n",
              "    }\n",
              "    40% {\n",
              "      border-color: transparent;\n",
              "      border-right-color: var(--fill-color);\n",
              "      border-top-color: var(--fill-color);\n",
              "    }\n",
              "    60% {\n",
              "      border-color: transparent;\n",
              "      border-right-color: var(--fill-color);\n",
              "    }\n",
              "    80% {\n",
              "      border-color: transparent;\n",
              "      border-right-color: var(--fill-color);\n",
              "      border-bottom-color: var(--fill-color);\n",
              "    }\n",
              "    90% {\n",
              "      border-color: transparent;\n",
              "      border-bottom-color: var(--fill-color);\n",
              "    }\n",
              "  }\n",
              "</style>\n",
              "\n",
              "      <script>\n",
              "        async function quickchart(key) {\n",
              "          const quickchartButtonEl =\n",
              "            document.querySelector('#' + key + ' button');\n",
              "          quickchartButtonEl.disabled = true;  // To prevent multiple clicks.\n",
              "          quickchartButtonEl.classList.add('colab-df-spinner');\n",
              "          try {\n",
              "            const charts = await google.colab.kernel.invokeFunction(\n",
              "                'suggestCharts', [key], {});\n",
              "          } catch (error) {\n",
              "            console.error('Error during call to suggestCharts:', error);\n",
              "          }\n",
              "          quickchartButtonEl.classList.remove('colab-df-spinner');\n",
              "          quickchartButtonEl.classList.add('colab-df-quickchart-complete');\n",
              "        }\n",
              "        (() => {\n",
              "          let quickchartButtonEl =\n",
              "            document.querySelector('#df-ea52148b-4432-48b6-8230-aa811ad29f27 button');\n",
              "          quickchartButtonEl.style.display =\n",
              "            google.colab.kernel.accessAllowed ? 'block' : 'none';\n",
              "        })();\n",
              "      </script>\n",
              "    </div>\n",
              "\n",
              "    </div>\n",
              "  </div>\n"
            ],
            "application/vnd.google.colaboratory.intrinsic+json": {
              "type": "dataframe",
              "summary": "{\n  \"name\": \"df[[\\\"Tipo_De_Complicaci\\u00f3n_1\\\",\\\"\\u00bfComplicaci\\u00f3n?\\\"]]\",\n  \"rows\": 15,\n  \"fields\": [\n    {\n      \"column\": \"#_Paciente\",\n      \"properties\": {\n        \"dtype\": \"number\",\n        \"std\": 107,\n        \"min\": 289,\n        \"max\": 611,\n        \"num_unique_values\": 15,\n        \"samples\": [\n          605,\n          608,\n          289\n        ],\n        \"semantic_type\": \"\",\n        \"description\": \"\"\n      }\n    },\n    {\n      \"column\": \"Tipo_De_Complicaci\\u00f3n_1\",\n      \"properties\": {\n        \"dtype\": \"number\",\n        \"std\": 8.846845012017937,\n        \"min\": 2.0,\n        \"max\": 38.0,\n        \"num_unique_values\": 7,\n        \"samples\": [\n          4.0,\n          2.0,\n          7.0\n        ],\n        \"semantic_type\": \"\",\n        \"description\": \"\"\n      }\n    },\n    {\n      \"column\": \"\\u00bfComplicaci\\u00f3n?\",\n      \"properties\": {\n        \"dtype\": \"date\",\n        \"min\": 0,\n        \"max\": 0,\n        \"num_unique_values\": 1,\n        \"samples\": [\n          0\n        ],\n        \"semantic_type\": \"\",\n        \"description\": \"\"\n      }\n    }\n  ]\n}"
            }
          },
          "metadata": {},
          "execution_count": 517
        }
      ],
      "source": [
        "df[[\"Tipo_De_Complicación_1\",\"¿Complicación?\"]].loc[(df[\"Tipo_De_Complicación_1\"].notna())&(df[\"Tipo_De_Complicación_1\"]!=0)&(df[\"¿Complicación?\"]==0)]"
      ]
    },
    {
      "cell_type": "code",
      "execution_count": 518,
      "id": "8a45a3bd",
      "metadata": {
        "id": "8a45a3bd"
      },
      "outputs": [],
      "source": [
        "df.loc[\n",
        "    (df[\"Tipo_De_Complicación_1\"].notna())\n",
        "    &(df[\"Tipo_De_Complicación_1\"]!=0)\n",
        "    &(df[\"¿Complicación?\"]==0), '¿Complicación?'] = 1"
      ]
    },
    {
      "cell_type": "code",
      "execution_count": 519,
      "id": "23c3fab7",
      "metadata": {
        "id": "23c3fab7",
        "outputId": "bd58035d-82f4-4380-8cfa-ff180c23eb11",
        "colab": {
          "base_uri": "https://localhost:8080/"
        }
      },
      "outputs": [
        {
          "output_type": "stream",
          "name": "stdout",
          "text": [
            "count     675\n",
            "unique      2\n",
            "top         0\n",
            "freq      346\n",
            "Name: ¿Complicación?, dtype: int64\n",
            "--------------------\n",
            "Número de datos nulos: 61\n",
            "--------------------\n",
            "¿Complicación?\n",
            "0      346\n",
            "1      329\n",
            "NaN     61\n",
            "Name: count, dtype: int64\n"
          ]
        }
      ],
      "source": [
        "ver_datos(df, '¿Complicación?', True)"
      ]
    },
    {
      "cell_type": "markdown",
      "id": "cd806d14",
      "metadata": {
        "id": "cd806d14"
      },
      "source": [
        "### Inmunosupresión_con_Anticuerpos"
      ]
    },
    {
      "cell_type": "code",
      "execution_count": 520,
      "id": "5937cc8e",
      "metadata": {
        "id": "5937cc8e",
        "outputId": "62715037-a05d-4aa3-c8e6-34365213b379",
        "colab": {
          "base_uri": "https://localhost:8080/"
        }
      },
      "outputs": [
        {
          "output_type": "stream",
          "name": "stdout",
          "text": [
            "count    228.000000\n",
            "mean       0.250000\n",
            "std        0.444001\n",
            "min        0.000000\n",
            "25%        0.000000\n",
            "50%        0.000000\n",
            "75%        0.000000\n",
            "max        2.000000\n",
            "Name: Inmunosupresión_con_Anticuerpos, dtype: float64\n",
            "--------------------\n",
            "Número de datos nulos: 508\n",
            "--------------------\n",
            "Inmunosupresión_con_Anticuerpos\n",
            "NaN    508\n",
            "0.0    172\n",
            "1.0     55\n",
            "2.0      1\n",
            "Name: count, dtype: int64\n"
          ]
        }
      ],
      "source": [
        "ver_datos(df, 'Inmunosupresión_con_Anticuerpos', True)"
      ]
    },
    {
      "cell_type": "code",
      "execution_count": 521,
      "id": "01fe050a",
      "metadata": {
        "id": "01fe050a"
      },
      "outputs": [],
      "source": [
        "def clasificar_inmunosupresion(valor):\n",
        "    if pd.isna(valor):\n",
        "        return np.nan\n",
        "    elif valor in [1, 2]:\n",
        "        return \"SI\"\n",
        "    else:\n",
        "        return \"NO\"\n",
        "\n",
        "df[\"Inmunosupresión_con_Anticuerpos\"] = df[\"Inmunosupresión_con_Anticuerpos\"].apply(clasificar_inmunosupresion)\n",
        "selected_columns.append('Inmunosupresión_con_Anticuerpos')"
      ]
    },
    {
      "cell_type": "code",
      "execution_count": 522,
      "id": "9973f224",
      "metadata": {
        "id": "9973f224",
        "outputId": "49c34b24-d99c-446e-b756-47191070cd72",
        "colab": {
          "base_uri": "https://localhost:8080/"
        }
      },
      "outputs": [
        {
          "output_type": "stream",
          "name": "stdout",
          "text": [
            "count     228\n",
            "unique      2\n",
            "top        NO\n",
            "freq      172\n",
            "Name: Inmunosupresión_con_Anticuerpos, dtype: object\n",
            "--------------------\n",
            "Número de datos nulos: 508\n",
            "--------------------\n",
            "Inmunosupresión_con_Anticuerpos\n",
            "NaN    508\n",
            "NO     172\n",
            "SI      56\n",
            "Name: count, dtype: int64\n"
          ]
        }
      ],
      "source": [
        "ver_datos(df, 'Inmunosupresión_con_Anticuerpos', True)"
      ]
    },
    {
      "cell_type": "markdown",
      "id": "62b41979",
      "metadata": {
        "id": "62b41979"
      },
      "source": [
        "### Rechazo_Agudo"
      ]
    },
    {
      "cell_type": "code",
      "execution_count": 523,
      "id": "124f752a",
      "metadata": {
        "id": "124f752a",
        "outputId": "38ddf135-ab9b-4513-ebcd-f44e2ad0aebd",
        "colab": {
          "base_uri": "https://localhost:8080/"
        }
      },
      "outputs": [
        {
          "output_type": "stream",
          "name": "stdout",
          "text": [
            "count     672\n",
            "unique      3\n",
            "top         0\n",
            "freq      537\n",
            "Name: Rechazo_Agudo, dtype: int64\n",
            "--------------------\n",
            "Número de datos nulos: 64\n",
            "--------------------\n",
            "Rechazo_Agudo\n",
            "0           537\n",
            "1           134\n",
            "NaN          64\n",
            "MODERADO      1\n",
            "Name: count, dtype: int64\n"
          ]
        }
      ],
      "source": [
        "ver_datos(df, 'Rechazo_Agudo', True)"
      ]
    },
    {
      "cell_type": "code",
      "execution_count": 524,
      "id": "ccf39fa3",
      "metadata": {
        "id": "ccf39fa3",
        "outputId": "01a9ae47-3be9-4282-c75f-72e9f652bfeb",
        "colab": {
          "base_uri": "https://localhost:8080/"
        }
      },
      "outputs": [
        {
          "output_type": "stream",
          "name": "stderr",
          "text": [
            "/tmp/ipython-input-4161090847.py:1: FutureWarning: Downcasting behavior in `replace` is deprecated and will be removed in a future version. To retain the old behavior, explicitly call `result.infer_objects(copy=False)`. To opt-in to the future behavior, set `pd.set_option('future.no_silent_downcasting', True)`\n",
            "  df['Rechazo_Agudo']=df['Rechazo_Agudo'].replace('MODERADO', 1)\n"
          ]
        }
      ],
      "source": [
        "df['Rechazo_Agudo']=df['Rechazo_Agudo'].replace('MODERADO', 1)"
      ]
    },
    {
      "cell_type": "code",
      "execution_count": 525,
      "id": "2ae8d270",
      "metadata": {
        "id": "2ae8d270",
        "outputId": "a9a674ba-f7da-4ae4-f879-17edcc8a0ae2",
        "colab": {
          "base_uri": "https://localhost:8080/"
        }
      },
      "outputs": [
        {
          "output_type": "stream",
          "name": "stdout",
          "text": [
            "count    672.000000\n",
            "mean       0.200893\n",
            "std        0.400967\n",
            "min        0.000000\n",
            "25%        0.000000\n",
            "50%        0.000000\n",
            "75%        0.000000\n",
            "max        1.000000\n",
            "Name: Rechazo_Agudo, dtype: float64\n",
            "--------------------\n",
            "Número de datos nulos: 64\n",
            "--------------------\n",
            "Rechazo_Agudo\n",
            "0.0    537\n",
            "1.0    135\n",
            "NaN     64\n",
            "Name: count, dtype: int64\n"
          ]
        }
      ],
      "source": [
        "ver_datos(df, 'Rechazo_Agudo', True)"
      ]
    },
    {
      "cell_type": "markdown",
      "id": "022e02e0",
      "metadata": {
        "id": "022e02e0"
      },
      "source": [
        "### Severidad_Rechazo_Agudo"
      ]
    },
    {
      "cell_type": "code",
      "execution_count": 526,
      "id": "cee5788d",
      "metadata": {
        "id": "cee5788d",
        "outputId": "f9961cb6-d7a3-49c6-8d1f-83334bc9f85d",
        "colab": {
          "base_uri": "https://localhost:8080/"
        }
      },
      "outputs": [
        {
          "output_type": "stream",
          "name": "stdout",
          "text": [
            "count     657\n",
            "unique      6\n",
            "top         0\n",
            "freq      524\n",
            "Name: Severidad_Rechazo_Agudo, dtype: int64\n",
            "--------------------\n",
            "Número de datos nulos: 79\n",
            "--------------------\n",
            "Severidad_Rechazo_Agudo\n",
            "0      524\n",
            "2       87\n",
            "NaN     79\n",
            "3       28\n",
            "1       16\n",
            "4        1\n",
            "SI       1\n",
            "Name: count, dtype: int64\n"
          ]
        }
      ],
      "source": [
        "ver_datos(df, 'Severidad_Rechazo_Agudo', True)"
      ]
    },
    {
      "cell_type": "code",
      "execution_count": 527,
      "id": "af7b3839",
      "metadata": {
        "id": "af7b3839",
        "outputId": "e2fbf406-aea5-4346-a720-52c10370e90d",
        "colab": {
          "base_uri": "https://localhost:8080/"
        }
      },
      "outputs": [
        {
          "output_type": "stream",
          "name": "stderr",
          "text": [
            "/tmp/ipython-input-1102723293.py:1: FutureWarning: Downcasting behavior in `replace` is deprecated and will be removed in a future version. To retain the old behavior, explicitly call `result.infer_objects(copy=False)`. To opt-in to the future behavior, set `pd.set_option('future.no_silent_downcasting', True)`\n",
            "  df['Severidad_Rechazo_Agudo']=df['Severidad_Rechazo_Agudo'].replace('SI', 1)\n"
          ]
        }
      ],
      "source": [
        "df['Severidad_Rechazo_Agudo']=df['Severidad_Rechazo_Agudo'].replace('SI', 1)"
      ]
    },
    {
      "cell_type": "code",
      "execution_count": 528,
      "id": "2b75d2df",
      "metadata": {
        "id": "2b75d2df",
        "outputId": "9e6fa27c-daa8-48b8-ccb6-54cf29c029da",
        "colab": {
          "base_uri": "https://localhost:8080/"
        }
      },
      "outputs": [
        {
          "output_type": "stream",
          "name": "stdout",
          "text": [
            "count    657.000000\n",
            "mean       0.424658\n",
            "std        0.885624\n",
            "min        0.000000\n",
            "25%        0.000000\n",
            "50%        0.000000\n",
            "75%        0.000000\n",
            "max        4.000000\n",
            "Name: Severidad_Rechazo_Agudo, dtype: float64\n",
            "--------------------\n",
            "Número de datos nulos: 79\n",
            "--------------------\n",
            "Severidad_Rechazo_Agudo\n",
            "0.0    524\n",
            "2.0     87\n",
            "NaN     79\n",
            "3.0     28\n",
            "1.0     17\n",
            "4.0      1\n",
            "Name: count, dtype: int64\n"
          ]
        }
      ],
      "source": [
        "ver_datos(df, 'Severidad_Rechazo_Agudo', True)"
      ]
    },
    {
      "cell_type": "markdown",
      "id": "c710cdab",
      "metadata": {
        "id": "c710cdab"
      },
      "source": [
        "### Rechazo_Crónico"
      ]
    },
    {
      "cell_type": "code",
      "execution_count": 529,
      "id": "10e572fd",
      "metadata": {
        "id": "10e572fd",
        "outputId": "8cac7f41-b972-4912-9332-c4099205f93a",
        "colab": {
          "base_uri": "https://localhost:8080/"
        }
      },
      "outputs": [
        {
          "output_type": "stream",
          "name": "stdout",
          "text": [
            "count    671.000000\n",
            "mean       0.005961\n",
            "std        0.077036\n",
            "min        0.000000\n",
            "25%        0.000000\n",
            "50%        0.000000\n",
            "75%        0.000000\n",
            "max        1.000000\n",
            "Name: Rechazo_Crónico, dtype: float64\n",
            "--------------------\n",
            "Número de datos nulos: 65\n",
            "--------------------\n",
            "Rechazo_Crónico\n",
            "0.0    667\n",
            "NaN     65\n",
            "1.0      4\n",
            "Name: count, dtype: int64\n"
          ]
        }
      ],
      "source": [
        "ver_datos(df, 'Rechazo_Crónico', True)"
      ]
    },
    {
      "cell_type": "markdown",
      "id": "4622ba90",
      "metadata": {
        "id": "4622ba90"
      },
      "source": [
        "### Infección_POP"
      ]
    },
    {
      "cell_type": "code",
      "execution_count": 530,
      "id": "0a90baf3",
      "metadata": {
        "id": "0a90baf3",
        "outputId": "7c6f6270-a8e6-4f31-dd52-08e68c0666a4",
        "colab": {
          "base_uri": "https://localhost:8080/"
        }
      },
      "outputs": [
        {
          "output_type": "stream",
          "name": "stdout",
          "text": [
            "count    562.000000\n",
            "mean       0.268683\n",
            "std        0.443670\n",
            "min        0.000000\n",
            "25%        0.000000\n",
            "50%        0.000000\n",
            "75%        1.000000\n",
            "max        1.000000\n",
            "Name: Infección_POP, dtype: float64\n",
            "--------------------\n",
            "Número de datos nulos: 174\n",
            "--------------------\n",
            "Infección_POP\n",
            "0.0    411\n",
            "NaN    174\n",
            "1.0    151\n",
            "Name: count, dtype: int64\n"
          ]
        }
      ],
      "source": [
        "ver_datos(df, 'Infección_POP', True)"
      ]
    },
    {
      "cell_type": "markdown",
      "id": "40465d27",
      "metadata": {
        "id": "40465d27"
      },
      "source": [
        "### Tipo_Infección_1"
      ]
    },
    {
      "cell_type": "code",
      "execution_count": 531,
      "id": "afba8e30",
      "metadata": {
        "id": "afba8e30",
        "outputId": "d7d8e454-9bf7-4c6a-bc1b-65a388f0d1f7",
        "colab": {
          "base_uri": "https://localhost:8080/"
        }
      },
      "outputs": [
        {
          "output_type": "stream",
          "name": "stdout",
          "text": [
            "count     254\n",
            "unique     18\n",
            "top         0\n",
            "freq      103\n",
            "Name: Tipo_Infección_1, dtype: int64\n",
            "--------------------\n",
            "Número de datos nulos: 482\n",
            "--------------------\n",
            "Tipo_Infección_1\n",
            "NaN         482\n",
            "0           103\n",
            "2            50\n",
            "10           22\n",
            "1            17\n",
            "3            13\n",
            "8            10\n",
            "5            10\n",
            "11            8\n",
            "6             5\n",
            "4             4\n",
            "16            2\n",
            "18            2\n",
            "BILIAR        2\n",
            "7             2\n",
            "13            1\n",
            "17            1\n",
            "9             1\n",
            "NEUMONIA      1\n",
            "Name: count, dtype: int64\n"
          ]
        }
      ],
      "source": [
        "ver_datos(df, 'Tipo_Infección_1', True)"
      ]
    },
    {
      "cell_type": "code",
      "execution_count": 532,
      "id": "368272d1",
      "metadata": {
        "id": "368272d1"
      },
      "outputs": [],
      "source": [
        "df['Tipo_Infección_1']= df['Tipo_Infección_1'].replace({\n",
        "    \"BILIAR\": \"19\",\n",
        "    \"NEUMONIA\": \"3\",\n",
        "})"
      ]
    },
    {
      "cell_type": "code",
      "execution_count": 533,
      "id": "7fb1c276",
      "metadata": {
        "id": "7fb1c276",
        "outputId": "7fc6b540-67b6-4559-9244-3725f4a2ff01",
        "colab": {
          "base_uri": "https://localhost:8080/"
        }
      },
      "outputs": [
        {
          "output_type": "stream",
          "name": "stdout",
          "text": [
            "count     254\n",
            "unique     18\n",
            "top         0\n",
            "freq      103\n",
            "Name: Tipo_Infección_1, dtype: int64\n",
            "--------------------\n",
            "Número de datos nulos: 482\n",
            "--------------------\n",
            "Tipo_Infección_1\n",
            "NaN    482\n",
            "0      103\n",
            "2       50\n",
            "10      22\n",
            "1       17\n",
            "3       13\n",
            "8       10\n",
            "5       10\n",
            "11       8\n",
            "6        5\n",
            "4        4\n",
            "16       2\n",
            "18       2\n",
            "19       2\n",
            "7        2\n",
            "13       1\n",
            "17       1\n",
            "9        1\n",
            "3        1\n",
            "Name: count, dtype: int64\n"
          ]
        }
      ],
      "source": [
        "ver_datos(df, 'Tipo_Infección_1', True)"
      ]
    },
    {
      "cell_type": "markdown",
      "id": "bb59fd86",
      "metadata": {
        "id": "bb59fd86"
      },
      "source": [
        "### Germen_1"
      ]
    },
    {
      "cell_type": "code",
      "execution_count": 534,
      "id": "c04a368e",
      "metadata": {
        "id": "c04a368e",
        "outputId": "35175e59-4e1f-40cb-bb34-5d55afd070e4",
        "colab": {
          "base_uri": "https://localhost:8080/"
        }
      },
      "outputs": [
        {
          "output_type": "stream",
          "name": "stdout",
          "text": [
            "count     198\n",
            "unique     32\n",
            "top         0\n",
            "freq       85\n",
            "Name: Germen_1, dtype: int64\n",
            "--------------------\n",
            "Número de datos nulos: 538\n",
            "--------------------\n",
            "Germen_1\n",
            "NaN                                                                                       538\n",
            "0                                                                                          85\n",
            "1                                                                                          26\n",
            "7                                                                                          23\n",
            "17                                                                                          8\n",
            "16                                                                                          6\n",
            "14                                                                                          6\n",
            "10                                                                                          5\n",
            "2                                                                                           5\n",
            "3                                                                                           4\n",
            "23                                                                                          2\n",
            "26                                                                                          2\n",
            "24                                                                                          2\n",
            "28                                                                                          2\n",
            "32                                                                                          2\n",
            "6                                                                                           2\n",
            "12                                                                                          2\n",
            "22                                                                                          1\n",
            "19                                                                                          1\n",
            "18                                                                                          1\n",
            "4                                                                                           1\n",
            "8                                                                                           1\n",
            "27                                                                                          1\n",
            "31                                                                                          1\n",
            "9                                                                                           1\n",
            "30                                                                                          1\n",
            "ENTEROBACTER CLOACAE, ENT\\nEROCOCCUS FAECALIS, ESCHERICHI COLI Y CITROBACTER FREUNDII.      1\n",
            "KPC                                                                                         1\n",
            "e.coli                                                                                      1\n",
            "ecoli blee                                                                                  1\n",
            "CANDIDA                                                                                     1\n",
            "S.CAPITIS                                                                                   1\n",
            "ECOLI                                                                                       1\n",
            "Name: count, dtype: int64\n"
          ]
        }
      ],
      "source": [
        "ver_datos(df, 'Germen_1', True)"
      ]
    },
    {
      "cell_type": "code",
      "execution_count": 535,
      "id": "5fcf25a7",
      "metadata": {
        "id": "5fcf25a7",
        "outputId": "06ffee29-b4ed-49bb-a307-08f0929109ca",
        "colab": {
          "base_uri": "https://localhost:8080/"
        }
      },
      "outputs": [
        {
          "output_type": "stream",
          "name": "stderr",
          "text": [
            "/tmp/ipython-input-4156398199.py:1: FutureWarning: Downcasting behavior in `replace` is deprecated and will be removed in a future version. To retain the old behavior, explicitly call `result.infer_objects(copy=False)`. To opt-in to the future behavior, set `pd.set_option('future.no_silent_downcasting', True)`\n",
            "  df['Germen_1']= df['Germen_1'].replace({\n"
          ]
        }
      ],
      "source": [
        "df['Germen_1']= df['Germen_1'].replace({\n",
        "    \"KPC\": 28,\n",
        "    \"e.coli\": 7,\n",
        "    \"e.coliblee\": 7,\n",
        "    \"ecoli blee\":7,\n",
        "    \"candida\":10,\n",
        "    \"CANDIDA\":10,\n",
        "    \"S.CAPITIS\": 19,\n",
        "    \"ECOLI\": 7,\n",
        "    \"ENTEROBACTER CLOACAE, ENT\\nEROCOCCUS FAECALIS, ESCHERICHI COLI Y CITROBACTER FREUNDII.\":7\n",
        "})"
      ]
    },
    {
      "cell_type": "code",
      "execution_count": 536,
      "id": "9e0394f9",
      "metadata": {
        "id": "9e0394f9",
        "outputId": "1be3a4a4-2f3e-49c1-ac07-9688b03e9de1",
        "colab": {
          "base_uri": "https://localhost:8080/"
        }
      },
      "outputs": [
        {
          "output_type": "stream",
          "name": "stdout",
          "text": [
            "count    198.000000\n",
            "mean       5.707071\n",
            "std        8.180393\n",
            "min        0.000000\n",
            "25%        0.000000\n",
            "50%        1.000000\n",
            "75%        7.000000\n",
            "max       32.000000\n",
            "Name: Germen_1, dtype: float64\n",
            "--------------------\n",
            "Número de datos nulos: 538\n",
            "--------------------\n",
            "Germen_1\n",
            "NaN     538\n",
            "0.0      85\n",
            "7.0      27\n",
            "1.0      26\n",
            "17.0      8\n",
            "10.0      6\n",
            "14.0      6\n",
            "16.0      6\n",
            "2.0       5\n",
            "3.0       4\n",
            "28.0      3\n",
            "32.0      2\n",
            "26.0      2\n",
            "12.0      2\n",
            "19.0      2\n",
            "6.0       2\n",
            "24.0      2\n",
            "23.0      2\n",
            "4.0       1\n",
            "8.0       1\n",
            "22.0      1\n",
            "18.0      1\n",
            "30.0      1\n",
            "27.0      1\n",
            "9.0       1\n",
            "31.0      1\n",
            "Name: count, dtype: int64\n"
          ]
        }
      ],
      "source": [
        "ver_datos(df, 'Germen_1', True)"
      ]
    },
    {
      "cell_type": "markdown",
      "id": "a49b5454",
      "metadata": {
        "id": "a49b5454"
      },
      "source": [
        "### Fecha_Infección_1"
      ]
    },
    {
      "cell_type": "code",
      "execution_count": 537,
      "id": "2f113bbb",
      "metadata": {
        "id": "2f113bbb",
        "outputId": "08210903-56e4-4de7-af2a-31a4bf6e1188",
        "colab": {
          "base_uri": "https://localhost:8080/"
        }
      },
      "outputs": [
        {
          "output_type": "stream",
          "name": "stdout",
          "text": [
            "count                     517\n",
            "unique                    147\n",
            "top       1927-05-17 00:00:00\n",
            "freq                      280\n",
            "Name: Fecha_Infección_1, dtype: object\n",
            "--------------------\n",
            "Número de datos nulos: 219\n"
          ]
        }
      ],
      "source": [
        "ver_datos(df, 'Fecha_Infección_1')"
      ]
    },
    {
      "cell_type": "code",
      "execution_count": 538,
      "id": "27ecd5eb",
      "metadata": {
        "id": "27ecd5eb"
      },
      "outputs": [],
      "source": [
        "df['Fecha_Infección_1'] = df['Fecha_Infección_1'].apply(parse_date)"
      ]
    },
    {
      "cell_type": "code",
      "execution_count": 539,
      "id": "6bc13b2c",
      "metadata": {
        "id": "6bc13b2c"
      },
      "outputs": [],
      "source": [
        "df['Fecha_Infección_1'] = df['Fecha_Infección_1'].replace(\n",
        "    {\n",
        "        pd.Timestamp('1927-05-17'): pd.NaT,\n",
        "        pd.Timestamp('1902-09-25'): pd.NaT\n",
        "    }\n",
        ")"
      ]
    },
    {
      "cell_type": "code",
      "execution_count": 540,
      "id": "6d8a9fd8",
      "metadata": {
        "id": "6d8a9fd8",
        "outputId": "aaf6e63e-6fe7-483b-cc00-cbcfd08cb115",
        "colab": {
          "base_uri": "https://localhost:8080/"
        }
      },
      "outputs": [
        {
          "output_type": "stream",
          "name": "stdout",
          "text": [
            "count                    145\n",
            "mean     2014-12-29 14:24:00\n",
            "min      2004-01-10 00:00:00\n",
            "25%      2011-05-23 00:00:00\n",
            "50%      2013-05-24 00:00:00\n",
            "75%      2017-06-23 00:00:00\n",
            "max      2024-05-18 00:00:00\n",
            "Name: Fecha_Infección_1, dtype: object\n",
            "--------------------\n",
            "Número de datos nulos: 591\n"
          ]
        }
      ],
      "source": [
        "ver_datos(df, 'Fecha_Infección_1')"
      ]
    },
    {
      "cell_type": "markdown",
      "id": "158cfd97",
      "metadata": {
        "id": "158cfd97"
      },
      "source": [
        "### Tiempo_Desde_Tx_Infección_1 (Fecha_Infección_1 - Fecha_Tx)"
      ]
    },
    {
      "cell_type": "code",
      "execution_count": 541,
      "id": "6601a6d6",
      "metadata": {
        "id": "6601a6d6",
        "outputId": "1df6c9bc-24d9-45cb-c246-367a1f4f1b8c",
        "colab": {
          "base_uri": "https://localhost:8080/"
        }
      },
      "outputs": [
        {
          "output_type": "stream",
          "name": "stdout",
          "text": [
            "count     634\n",
            "unique    542\n",
            "top        10\n",
            "freq       11\n",
            "Name: Tiempo_Desde_Tx_Infección_1, dtype: int64\n",
            "--------------------\n",
            "Número de datos nulos: 102\n",
            "--------------------\n",
            "Tiempo_Desde_Tx_Infección_1\n",
            "NaN                    102\n",
            "10                      11\n",
            "7                        9\n",
            "4                        8\n",
            "9                        7\n",
            "                      ... \n",
            "1816-07-31 00:00:00      1\n",
            "1816-07-28 00:00:00      1\n",
            "1816-07-24 00:00:00      1\n",
            "1816-07-19 00:00:00      1\n",
            "28                       1\n",
            "Name: count, Length: 543, dtype: int64\n"
          ]
        }
      ],
      "source": [
        "ver_datos(df, 'Tiempo_Desde_Tx_Infección_1', True)"
      ]
    },
    {
      "cell_type": "markdown",
      "id": "679b96c4",
      "metadata": {
        "id": "679b96c4"
      },
      "source": [
        "Por como algunos datos están codificados como fechas se recalculará esta variable a partir de la fecha del transplante y la fecha de infección"
      ]
    },
    {
      "cell_type": "code",
      "execution_count": 542,
      "id": "15eb0b3a",
      "metadata": {
        "id": "15eb0b3a"
      },
      "outputs": [],
      "source": [
        "df[\"Tiempo_Desde_Tx_Infección_1\"] = (\n",
        "    df[\"Fecha_Infección_1\"] - df[\"Fecha_Tx\"]\n",
        ").dt.days"
      ]
    },
    {
      "cell_type": "code",
      "execution_count": 543,
      "id": "ff8af3dd",
      "metadata": {
        "id": "ff8af3dd",
        "outputId": "71a36c99-53cc-406d-c419-c7476e18fb4f",
        "colab": {
          "base_uri": "https://localhost:8080/"
        }
      },
      "outputs": [
        {
          "output_type": "stream",
          "name": "stdout",
          "text": [
            "count    145.000000\n",
            "mean      22.393103\n",
            "std       31.406010\n",
            "min        0.000000\n",
            "25%        7.000000\n",
            "50%       12.000000\n",
            "75%       24.000000\n",
            "max      250.000000\n",
            "Name: Tiempo_Desde_Tx_Infección_1, dtype: float64\n",
            "--------------------\n",
            "Número de datos nulos: 591\n",
            "--------------------\n",
            "Tiempo_Desde_Tx_Infección_1\n",
            "NaN      591\n",
            "10.0      11\n",
            "7.0        9\n",
            "9.0        9\n",
            "4.0        8\n",
            "8.0        7\n",
            "6.0        7\n",
            "15.0       6\n",
            "14.0       6\n",
            "1.0        5\n",
            "24.0       4\n",
            "5.0        4\n",
            "12.0       4\n",
            "18.0       4\n",
            "21.0       3\n",
            "11.0       3\n",
            "3.0        3\n",
            "16.0       3\n",
            "22.0       3\n",
            "17.0       3\n",
            "19.0       2\n",
            "78.0       2\n",
            "37.0       2\n",
            "0.0        2\n",
            "23.0       2\n",
            "26.0       2\n",
            "42.0       2\n",
            "2.0        2\n",
            "28.0       1\n",
            "35.0       1\n",
            "111.0      1\n",
            "250.0      1\n",
            "64.0       1\n",
            "102.0      1\n",
            "55.0       1\n",
            "58.0       1\n",
            "31.0       1\n",
            "20.0       1\n",
            "13.0       1\n",
            "36.0       1\n",
            "25.0       1\n",
            "38.0       1\n",
            "48.0       1\n",
            "70.0       1\n",
            "43.0       1\n",
            "52.0       1\n",
            "29.0       1\n",
            "74.0       1\n",
            "41.0       1\n",
            "44.0       1\n",
            "173.0      1\n",
            "121.0      1\n",
            "34.0       1\n",
            "57.0       1\n",
            "72.0       1\n",
            "Name: count, dtype: int64\n"
          ]
        }
      ],
      "source": [
        "ver_datos(df, 'Tiempo_Desde_Tx_Infección_1', True)"
      ]
    },
    {
      "cell_type": "markdown",
      "id": "06080090",
      "metadata": {
        "id": "06080090"
      },
      "source": [
        "### Falla_Cardiaca_POP"
      ]
    },
    {
      "cell_type": "code",
      "execution_count": 544,
      "id": "0f535f66",
      "metadata": {
        "id": "0f535f66",
        "outputId": "775fc616-0037-4edb-9dcf-29cac398b38f",
        "colab": {
          "base_uri": "https://localhost:8080/"
        }
      },
      "outputs": [
        {
          "output_type": "stream",
          "name": "stdout",
          "text": [
            "count    623.000000\n",
            "mean       0.020867\n",
            "std        0.143053\n",
            "min        0.000000\n",
            "25%        0.000000\n",
            "50%        0.000000\n",
            "75%        0.000000\n",
            "max        1.000000\n",
            "Name: Falla_Cardiaca_POP, dtype: float64\n",
            "--------------------\n",
            "Número de datos nulos: 113\n",
            "--------------------\n",
            "Falla_Cardiaca_POP\n",
            "0.0    610\n",
            "NaN    113\n",
            "1.0     13\n",
            "Name: count, dtype: int64\n"
          ]
        }
      ],
      "source": [
        "ver_datos(df, 'Falla_Cardiaca_POP', True)"
      ]
    },
    {
      "cell_type": "markdown",
      "id": "f1db3643",
      "metadata": {
        "id": "f1db3643"
      },
      "source": [
        "### Arritmia_POP"
      ]
    },
    {
      "cell_type": "code",
      "execution_count": 545,
      "id": "a832067a",
      "metadata": {
        "id": "a832067a",
        "outputId": "2c029175-adee-40b4-cf03-0aadfee6dca3",
        "colab": {
          "base_uri": "https://localhost:8080/"
        }
      },
      "outputs": [
        {
          "output_type": "stream",
          "name": "stdout",
          "text": [
            "count     626\n",
            "unique     33\n",
            "top         0\n",
            "freq      544\n",
            "Name: Arritmia_POP, dtype: int64\n",
            "--------------------\n",
            "Número de datos nulos: 110\n",
            "--------------------\n",
            "Arritmia_POP\n",
            "0                                                                                                                                                                                                                                                               544\n",
            "NaN                                                                                                                                                                                                                                                             110\n",
            "1                                                                                                                                                                                                                                                                36\n",
            "3                                                                                                                                                                                                                                                                 8\n",
            "TAQUICARDIA SINUSAL                                                                                                                                                                                                                                               5\n",
            "TAQUICARDIA SINUSAL/ FIBRILACION VENTRICULAR CON RTS VENT CONTROLADA/ EXTRASISTOLES SUPREAVENT OCASIONALES/TAQUICARDIA SUPRAVENTRICULAR CON RESPUESTA VENTRICULAR ABERRANTE - COMPLEJO ANCHO COMPROMISO HEMODINAMICO                                              3\n",
            "2                                                                                                                                                                                                                                                                 2\n",
            "TAQUICARDIA SINUKAS                                                                                                                                                                                                                                               2\n",
            "PARO                                                                                                                                                                                                                                                              1\n",
            "TAQUIARDIA SINUSAL                                                                                                                                                                                                                                                1\n",
            "TAQUICARDIA SINUSAL,                                                                                                                                                                                                                                              1\n",
            "TAQUICARDIA SINUSAL, BRADICARDIA, PARO, AESP, FIBRILACION VENTRICULAR                                                                                                                                                                                             1\n",
            "TAQUICARDIA SINUSAL, TAQUICARDIA SURPAVENTRICULAR.AESP, REANIMAICON, TAQUICARDIA VENTRICULAR, FIBRILACION VENTRICULAR. MUERTE                                                                                                                                     1\n",
            "AMBIOS DINAMICOS EN EL VISOSCOPIO: \\nARRITMICA, TAQUI-BRADICARDICO, \\nELEVACION DEL ST Y PROL\\nONGACION DEL QRS,. /  FIBRILACION AURICULAR OCN REPSUESTA VENTRICULAR 112-120, NO COLAPSANTE/ EPISODIOS DE PAUSA SINUSAL EXTREMA / ASISTOLIA REFRACTARIA           1\n",
            "TAQUIARDICA SINUSAL                                                                                                                                                                                                                                               1\n",
            "BRADICARDIA SINUSAL-ENSANCHAMIENTO QRS/ TAQUICARDIA DUPRAVENTIRCULAR INICIA FIBRILACIN AURICULAR CON RESPUESTA VENTRICULAR RAPIDA                                                                                                                                 1\n",
            "BRADICARDIA, CON ACTIVIDAD ELECTRICA SIN PULSO, LUEGO FV )INTRACX). BRADICARDIA, AESP, REANIM, TAQUICARDIA SINUSAL.  FA CON RTA  VENT RAPIDA. BIGEMINISMO Y LUEGO TAQUICARDIA VENTRICULAR MONOMORFICA NO COLAPSANTE )cardio version elect mas sulfato de mg)      1\n",
            "4 ( TAQUICARDIA CON BIGEMINISMO, FA, PARO)                                                                                                                                                                                                                        1\n",
            "BRADICARDIA, AESP,  FIBRILAVION VENTRICULAR,  RITMO DE ESCAPE,  AISSTOLIA 10 MIN.  PARO PRESENCIADO, REANIMACION, RITMO DE ESCAPE, TAQUICARDIA SINUSAL.  AESP, ASISTOLIA, REANIMACION. AESP                                                                       1\n",
            "aesp                                                                                                                                                                                                                                                              1\n",
            "EXTRASISTOLES VENTRICULARES, 1 EPISODIO DE BIGEMINISMO                                                                                                                                                                                                            1\n",
            "AISIS INTRAOP.                                                                                                                                                                                                                                                    1\n",
            "0FIBRILACIÓN AURICULAR DE RESPUESTA VENTRICULAR RÁPIDA. BRADICARDIA SEVERE                                                                                                                                                                                        1\n",
            "TAQUICARDIA SINUSAL                                                                                                                                                                                                                                               1\n",
            "BRADICARDIA, ASISTOLIA, TAQUIARRITMIA DE COMPLEJO ESTRECHO, CON PR CORTO - SUGESTIVO DE SINDROME DE WPW . ASISTOLIA PARO CARDIO RESP .                                                                                                                            1\n",
            "BRADICARDIA. PARAO                                                                                                                                                                                                                                                1\n",
            "2 (FV)                                                                                                                                                                                                                                                            1\n",
            "2 + 1 (FA)                                                                                                                                                                                                                                                        1\n",
            "1 (FA) + 2                                                                                                                                                                                                                                                        1\n",
            "1+2                                                                                                                                                                                                                                                               1\n",
            "1 (FA)                                                                                                                                                                                                                                                            1\n",
            "1 y 2                                                                                                                                                                                                                                                             1\n",
            "FA                                                                                                                                                                                                                                                                1\n",
            "REVISAR HOLTER                                                                                                                                                                                                                                                    1\n",
            "Name: count, dtype: int64\n"
          ]
        }
      ],
      "source": [
        "ver_datos(df, 'Arritmia_POP', True)"
      ]
    },
    {
      "cell_type": "code",
      "execution_count": 546,
      "id": "d8cfc74c",
      "metadata": {
        "id": "d8cfc74c"
      },
      "outputs": [],
      "source": [
        "# Supongamos que la columna se llama 'arritmia_pop'\n",
        "df['Arritmia_pop_limpia'] = df['Arritmia_POP'].astype(str).str.upper().str.strip()\n",
        "\n",
        "def clasificar_arritmia(texto):\n",
        "    if texto in ['0', 'NO', 'N/A', 'NINGUNA']:\n",
        "        return 0\n",
        "    # Bradiarritmias\n",
        "    elif any(x in texto for x in ['BRADI', 'ASISTOLIA', 'RITMO DE ESCAPE', 'AESP', 'PARO']):\n",
        "        return 3\n",
        "    # Taquiarritmias ventriculares\n",
        "    elif any(x in texto for x in ['VENTRICULAR', 'FV', 'FIBRILACION VENTRICULAR', 'BIGEMINISMO']):\n",
        "        return 2\n",
        "    # Taquiarritmias supraventriculares\n",
        "    elif any(x in texto for x in ['SUPRAVENT', 'FA ', 'FIBRILACION AURICULAR', 'TAQUICARDIA SINUSAL']):\n",
        "        return 1\n",
        "    # Casos dudosos o combinaciones múltiples\n",
        "    elif any(c in texto for c in ['+', '/', 'Y']):\n",
        "        # Si menciona taqui + bradi, podría marcarse como 1 (predomina taqui) o np.nan\n",
        "        return np.nan\n",
        "    else:\n",
        "        return np.nan\n",
        "\n",
        "df['arritmia_pop_cod'] = df['Arritmia_pop_limpia'].apply(clasificar_arritmia)"
      ]
    },
    {
      "cell_type": "code",
      "execution_count": 547,
      "id": "c5e57934",
      "metadata": {
        "id": "c5e57934"
      },
      "outputs": [],
      "source": [
        "selected_columns.append('arritmia_pop_cod')"
      ]
    },
    {
      "cell_type": "code",
      "execution_count": 548,
      "id": "97b4b98c",
      "metadata": {
        "id": "97b4b98c",
        "outputId": "f50e974a-b316-43c8-c473-4cf93c599efd",
        "colab": {
          "base_uri": "https://localhost:8080/"
        }
      },
      "outputs": [
        {
          "output_type": "stream",
          "name": "stdout",
          "text": [
            "count     626\n",
            "unique     33\n",
            "top         0\n",
            "freq      544\n",
            "Name: Arritmia_POP, dtype: int64\n",
            "--------------------\n",
            "Número de datos nulos: 110\n",
            "--------------------\n",
            "Arritmia_POP\n",
            "0                                                                                                                                                                                                                                                               544\n",
            "NaN                                                                                                                                                                                                                                                             110\n",
            "1                                                                                                                                                                                                                                                                36\n",
            "3                                                                                                                                                                                                                                                                 8\n",
            "TAQUICARDIA SINUSAL                                                                                                                                                                                                                                               5\n",
            "TAQUICARDIA SINUSAL/ FIBRILACION VENTRICULAR CON RTS VENT CONTROLADA/ EXTRASISTOLES SUPREAVENT OCASIONALES/TAQUICARDIA SUPRAVENTRICULAR CON RESPUESTA VENTRICULAR ABERRANTE - COMPLEJO ANCHO COMPROMISO HEMODINAMICO                                              3\n",
            "2                                                                                                                                                                                                                                                                 2\n",
            "TAQUICARDIA SINUKAS                                                                                                                                                                                                                                               2\n",
            "PARO                                                                                                                                                                                                                                                              1\n",
            "TAQUIARDIA SINUSAL                                                                                                                                                                                                                                                1\n",
            "TAQUICARDIA SINUSAL,                                                                                                                                                                                                                                              1\n",
            "TAQUICARDIA SINUSAL, BRADICARDIA, PARO, AESP, FIBRILACION VENTRICULAR                                                                                                                                                                                             1\n",
            "TAQUICARDIA SINUSAL, TAQUICARDIA SURPAVENTRICULAR.AESP, REANIMAICON, TAQUICARDIA VENTRICULAR, FIBRILACION VENTRICULAR. MUERTE                                                                                                                                     1\n",
            "AMBIOS DINAMICOS EN EL VISOSCOPIO: \\nARRITMICA, TAQUI-BRADICARDICO, \\nELEVACION DEL ST Y PROL\\nONGACION DEL QRS,. /  FIBRILACION AURICULAR OCN REPSUESTA VENTRICULAR 112-120, NO COLAPSANTE/ EPISODIOS DE PAUSA SINUSAL EXTREMA / ASISTOLIA REFRACTARIA           1\n",
            "TAQUIARDICA SINUSAL                                                                                                                                                                                                                                               1\n",
            "BRADICARDIA SINUSAL-ENSANCHAMIENTO QRS/ TAQUICARDIA DUPRAVENTIRCULAR INICIA FIBRILACIN AURICULAR CON RESPUESTA VENTRICULAR RAPIDA                                                                                                                                 1\n",
            "BRADICARDIA, CON ACTIVIDAD ELECTRICA SIN PULSO, LUEGO FV )INTRACX). BRADICARDIA, AESP, REANIM, TAQUICARDIA SINUSAL.  FA CON RTA  VENT RAPIDA. BIGEMINISMO Y LUEGO TAQUICARDIA VENTRICULAR MONOMORFICA NO COLAPSANTE )cardio version elect mas sulfato de mg)      1\n",
            "4 ( TAQUICARDIA CON BIGEMINISMO, FA, PARO)                                                                                                                                                                                                                        1\n",
            "BRADICARDIA, AESP,  FIBRILAVION VENTRICULAR,  RITMO DE ESCAPE,  AISSTOLIA 10 MIN.  PARO PRESENCIADO, REANIMACION, RITMO DE ESCAPE, TAQUICARDIA SINUSAL.  AESP, ASISTOLIA, REANIMACION. AESP                                                                       1\n",
            "aesp                                                                                                                                                                                                                                                              1\n",
            "EXTRASISTOLES VENTRICULARES, 1 EPISODIO DE BIGEMINISMO                                                                                                                                                                                                            1\n",
            "AISIS INTRAOP.                                                                                                                                                                                                                                                    1\n",
            "0FIBRILACIÓN AURICULAR DE RESPUESTA VENTRICULAR RÁPIDA. BRADICARDIA SEVERE                                                                                                                                                                                        1\n",
            "TAQUICARDIA SINUSAL                                                                                                                                                                                                                                               1\n",
            "BRADICARDIA, ASISTOLIA, TAQUIARRITMIA DE COMPLEJO ESTRECHO, CON PR CORTO - SUGESTIVO DE SINDROME DE WPW . ASISTOLIA PARO CARDIO RESP .                                                                                                                            1\n",
            "BRADICARDIA. PARAO                                                                                                                                                                                                                                                1\n",
            "2 (FV)                                                                                                                                                                                                                                                            1\n",
            "2 + 1 (FA)                                                                                                                                                                                                                                                        1\n",
            "1 (FA) + 2                                                                                                                                                                                                                                                        1\n",
            "1+2                                                                                                                                                                                                                                                               1\n",
            "1 (FA)                                                                                                                                                                                                                                                            1\n",
            "1 y 2                                                                                                                                                                                                                                                             1\n",
            "FA                                                                                                                                                                                                                                                                1\n",
            "REVISAR HOLTER                                                                                                                                                                                                                                                    1\n",
            "Name: count, dtype: int64\n"
          ]
        }
      ],
      "source": [
        "ver_datos(df, 'Arritmia_POP', True)"
      ]
    },
    {
      "cell_type": "code",
      "execution_count": 549,
      "id": "9e967555",
      "metadata": {
        "id": "9e967555"
      },
      "outputs": [],
      "source": [
        "df[\"arritmia_pop_descripcion\"] = (\n",
        "    df[\"Arritmia_POP\"]\n",
        "    .map({0: \"NO\", 1: \"TAQUIARRITMIA SUPRAVENTRICULAR\", 2: \"TAQUIARRITMIA VENTRICULAR\", 3: \"BRADIARRITMIA\"})\n",
        "    .fillna(\"NO\")\n",
        ")"
      ]
    },
    {
      "cell_type": "code",
      "execution_count": 550,
      "id": "2a80033c",
      "metadata": {
        "id": "2a80033c"
      },
      "outputs": [],
      "source": [
        "selected_columns.append('arritmia_pop_descripcion')"
      ]
    },
    {
      "cell_type": "code",
      "execution_count": 551,
      "id": "0839a952",
      "metadata": {
        "id": "0839a952",
        "outputId": "265adefe-1930-4175-87b5-e4bfad52d976",
        "colab": {
          "base_uri": "https://localhost:8080/"
        }
      },
      "outputs": [
        {
          "output_type": "stream",
          "name": "stdout",
          "text": [
            "count     736\n",
            "unique      4\n",
            "top        NO\n",
            "freq      690\n",
            "Name: arritmia_pop_descripcion, dtype: object\n",
            "--------------------\n",
            "Número de datos nulos: 0\n",
            "--------------------\n",
            "arritmia_pop_descripcion\n",
            "NO                                690\n",
            "TAQUIARRITMIA SUPRAVENTRICULAR     36\n",
            "BRADIARRITMIA                       8\n",
            "TAQUIARRITMIA VENTRICULAR           2\n",
            "Name: count, dtype: int64\n"
          ]
        }
      ],
      "source": [
        "ver_datos(df, 'arritmia_pop_descripcion', True)"
      ]
    },
    {
      "cell_type": "markdown",
      "id": "1623f2b3",
      "metadata": {
        "id": "1623f2b3"
      },
      "source": [
        "### Infarto_POP"
      ]
    },
    {
      "cell_type": "code",
      "execution_count": 552,
      "id": "6797a091",
      "metadata": {
        "id": "6797a091",
        "outputId": "5912b22a-c411-40d0-9d7a-3acddf5cbe20",
        "colab": {
          "base_uri": "https://localhost:8080/"
        }
      },
      "outputs": [
        {
          "output_type": "stream",
          "name": "stdout",
          "text": [
            "count     629\n",
            "unique      5\n",
            "top         0\n",
            "freq      621\n",
            "Name: Infarto_POP, dtype: int64\n",
            "--------------------\n",
            "Número de datos nulos: 107\n",
            "--------------------\n",
            "Infarto_POP\n",
            "0                 621\n",
            "NaN               107\n",
            "1                   4\n",
            "2                   2\n",
            "P                   1\n",
            "2 (2 INFARTOS)      1\n",
            "Name: count, dtype: int64\n"
          ]
        }
      ],
      "source": [
        "ver_datos(df, 'Infarto_POP', True)"
      ]
    },
    {
      "cell_type": "code",
      "execution_count": 553,
      "id": "3d7e036d",
      "metadata": {
        "id": "3d7e036d"
      },
      "outputs": [],
      "source": [
        "def limpiar_infarto_pop(texto):\n",
        "    if pd.isna(texto):\n",
        "        return np.nan\n",
        "    texto = str(texto).strip().upper()\n",
        "\n",
        "    if texto in ['0','0.0', 'NO', 'N/A', 'NINGUNA']:\n",
        "        return 0\n",
        "    elif texto in ['1', '1.0','SI', 'SÍ']:\n",
        "        return 1\n",
        "    else:\n",
        "        return np.nan\n",
        "\n",
        "df['Infarto_POP'] = df['Infarto_POP'].apply(limpiar_infarto_pop)\n"
      ]
    },
    {
      "cell_type": "code",
      "execution_count": 554,
      "id": "0bac192b",
      "metadata": {
        "id": "0bac192b",
        "outputId": "8c2f5410-28fc-4c2e-b8a2-87d176738b71",
        "colab": {
          "base_uri": "https://localhost:8080/"
        }
      },
      "outputs": [
        {
          "output_type": "stream",
          "name": "stdout",
          "text": [
            "count    625.000000\n",
            "mean       0.006400\n",
            "std        0.079807\n",
            "min        0.000000\n",
            "25%        0.000000\n",
            "50%        0.000000\n",
            "75%        0.000000\n",
            "max        1.000000\n",
            "Name: Infarto_POP, dtype: float64\n",
            "--------------------\n",
            "Número de datos nulos: 111\n",
            "--------------------\n",
            "Infarto_POP\n",
            "0.0    621\n",
            "NaN    111\n",
            "1.0      4\n",
            "Name: count, dtype: int64\n"
          ]
        }
      ],
      "source": [
        "ver_datos(df, 'Infarto_POP', True)"
      ]
    },
    {
      "cell_type": "code",
      "execution_count": 555,
      "id": "25fbf615",
      "metadata": {
        "id": "25fbf615",
        "outputId": "e03bec18-9d1b-41d5-b51c-ee8f18470327",
        "colab": {
          "base_uri": "https://localhost:8080/"
        }
      },
      "outputs": [
        {
          "output_type": "stream",
          "name": "stdout",
          "text": [
            "count       625\n",
            "unique        2\n",
            "top       False\n",
            "freq        621\n",
            "Name: Infarto_POP_bool, dtype: object\n",
            "--------------------\n",
            "Número de datos nulos: 111\n",
            "--------------------\n",
            "Infarto_POP_bool\n",
            "False    621\n",
            "NaN      111\n",
            "True       4\n",
            "Name: count, dtype: int64\n"
          ]
        }
      ],
      "source": [
        "df[\"Infarto_POP_bool\"] = df[\"Infarto_POP\"].replace({0: False, 1: True})\n",
        "ver_datos(df, 'Infarto_POP_bool', True)\n",
        "selected_columns.append('Infarto_POP_bool')"
      ]
    },
    {
      "cell_type": "markdown",
      "id": "33fcca4e",
      "metadata": {
        "id": "33fcca4e"
      },
      "source": [
        "### EKG_VALOR_POP"
      ]
    },
    {
      "cell_type": "code",
      "execution_count": 556,
      "id": "866352bc",
      "metadata": {
        "id": "866352bc",
        "outputId": "b43d079a-322b-4c8d-c732-d3cb628c94aa",
        "colab": {
          "base_uri": "https://localhost:8080/"
        }
      },
      "outputs": [
        {
          "output_type": "stream",
          "name": "stdout",
          "text": [
            "count     168\n",
            "unique     35\n",
            "top         0\n",
            "freq      119\n",
            "Name: EKG_VALOR_POP, dtype: int64\n",
            "--------------------\n",
            "Número de datos nulos: 568\n",
            "--------------------\n",
            "EKG_VALOR_POP\n",
            "NaN                                                                                                                                                                                                                                                                                                                                                                                                                                                                                                                                                                                                                                                                                        568\n",
            "0                                                                                                                                                                                                                                                                                                                                                                                                                                                                                                                                                                                                                                                                                          119\n",
            "TAQUICARDIA SINUSAL                                                                                                                                                                                                                                                                                                                                                                                                                                                                                                                                                                                                                                                                          5\n",
            "RITMO SINUSAL                                                                                                                                                                                                                                                                                                                                                                                                                                                                                                                                                                                                                                                                                5\n",
            "1                                                                                                                                                                                                                                                                                                                                                                                                                                                                                                                                                                                                                                                                                            3\n",
            "NORMAL                                                                                                                                                                                                                                                                                                                                                                                                                                                                                                                                                                                                                                                                                       2\n",
            "FA                                                                                                                                                                                                                                                                                                                                                                                                                                                                                                                                                                                                                                                                                           2\n",
            "2                                                                                                                                                                                                                                                                                                                                                                                                                                                                                                                                                                                                                                                                                            2\n",
            "FA CON RESPUESTA VENTRICULAR RAPIDA                                                                                                                                                                                                                                                                                                                                                                                                                                                                                                                                                                                                                                                          2\n",
            "RITMO SINUSAL, SIN CAMBIOS DINAMICOS EN EL ST                                                                                                                                                                                                                                                                                                                                                                                                                                                                                                                                                                                                                                                2\n",
            "BLOQUEO AV III GRADO                                                                                                                                                                                                                                                                                                                                                                                                                                                                                                                                                                                                                                                                         1\n",
            "TAQUICARDIA SINULSAL, ALTERACION INESPECIFICA DE T                                                                                                                                                                                                                                                                                                                                                                                                                                                                                                                                                                                                                                           1\n",
            "01.08.2012: INFARTO INFERIOR.\\n05.08.2012: FA CON  RTA VENTRICUALR RAPIRDA. ANOMALIAS DIFUSAS DE LA REPOLARIZACION\\n(2) ANOMALIAS DIFUSAS DE LA REPOLARIZACION\\n(3)PQ CORTO. ANOMALIAS DIFUSAS DE REPOLARIZACION\\n06.08.2012: PROBABLE NECROSIS INFERIOR, LESION ISQUEMIA SEPTAL\\n11:08.2012: FA CON RTA VENTRICULAR RAPIDA\\n12.08.2012: ALTERACIONES INESPECIFICAS DEL ST\\n13.08.20'12: TC SINUSAL, INFRADESNIVEL DEL ST 1MM: ISQUEMIA?:\\n14.08.2012:TX DIFUSO DE LA REPOLARIZAION. \\n20.08.2012: FA CON RTA VENTRICULAR ACELERADA.LESION SUBENDOCARDICA ANTERIOR. \\n(2)ALTERACION DE LA REPOLARIZACION: LESION ISQUEMICA ANTERISEPTAL.\\n22.08.2012:TX DIFUSO DE LA REPOLARIZACION\\n\\n      1\n",
            "ELEVACION DEL ST EN CARA ANTERIOR Y LATERAL, PERO 10 MIN MAS TARDE SE NORM\\nALIZA Y ENTRA EN RITMO SINUSAL REGULAR./ FIRBRILACION AURICULAR CONRTA VENT RAPIDA. LESION SBEPICARDICA ANTERIOR/ TAQUICARDIA SINUSAL                                                                                                                                                                                                                                                                                                                                                                                                                                                                            1\n",
            "BRADICARDIA, AESP,  FIBRILAVION VENTRICULAR,  RITMO DE ESCAPE,  AISSTOLIA 10 MIN.  PARO PRESENCIADO, REANIMACION, RITMO DE ESCAPE, TAQUICARDIA SINUSAL.  AESP, ASISTOLIA, REANIMACION. AESP                                                                                                                                                                                                                                                                                                                                                                                                                                                                                                  1\n",
            "FIBRILACION AURICULAR PAROXISTICA                                                                                                                                                                                                                                                                                                                                                                                                                                                                                                                                                                                                                                                            1\n",
            "HIPERTROFIA VENTRICULAR IZQ                                                                                                                                                                                                                                                                                                                                                                                                                                                                                                                                                                                                                                                                  1\n",
            "TAQUICARDIA SINUSAL, EXTRASISTOLES VENTRICULARES                                                                                                                                                                                                                                                                                                                                                                                                                                                                                                                                                                                                                                             1\n",
            "INVERSION T EN VI / NORMAL                                                                                                                                                                                                                                                                                                                                                                                                                                                                                                                                                                                                                                                                   1\n",
            "TAQUIARDIA SINUSAL                                                                                                                                                                                                                                                                                                                                                                                                                                                                                                                                                                                                                                                                           1\n",
            "EXTRASISTOLES VENTRICULARES, 1 EPISODIO DE BIGEMINISMO/ (2) HACE TAQUICARDIA VENTRICULAR NO SOSTENIDA, RESUELVE A RITMO SINUSAL CON PRESENCIA DE EXTRASISTOLES SUPRAVENTRICULARES \\n\\n                                                                                                                                                                                                                                                                                                                                                                                                                                                                                                       1\n",
            "AESP/ RITMO DIVENTRICULAR                                                                                                                                                                                                                                                                                                                                                                                                                                                                                                                                                                                                                                                                    1\n",
            "TAQUICARDIA SINUSAL(03.04.2009) FIBRILACIÓN AURICULAR DE RESPUESTA VENTRICULAR RÁPIDA                                                                                                                                                                                                                                                                                                                                                                                                                                                                                                                                                                                                        1\n",
            "FIBRILACION AURICULAR CON RTA VENT RAPIDA, FA PAROXISTICA 3 EPISODIOS/ FLUTTER AURICULAR                                                                                                                                                                                                                                                                                                                                                                                                                                                                                                                                                                                                     1\n",
            ")11.10:2008) EKG DE CONTROL DIARIO MUESTRA RITMO SINUSAL, FC 96, PR 156, QRS 130, QTC 466, PARTON DE BLOQUEO DE RAMA IZQDA, UNA EXTRASISTOLE VENTRICUAR EN EL TRAZADO.  14.10.2008 EKG NUEVAMENTE EVIDENCIANDO ISQUEMIA SUBENDOCARDICA, CON LESION EN CARA INFERIOR SIN CAMBIOS CON RESPECTO A ELECTROS PREVIO                                                                                                                                                                                                                                                                                                                                                                               1\n",
            "3                                                                                                                                                                                                                                                                                                                                                                                                                                                                                                                                                                                                                                                                                            1\n",
            "01.06.2009\\n Ritmo sinusal FC 71, PR 180, QTC 470 mseg, eje 5 grados, inversion asimè trica de la onda T difusa (anteroseptal, inferior, lateral) \\n2. Ritmo sinusal FC 66, PR 180 mseg, QTc 526 mseg, Eje 0 grados, inversiòn asimètrica y difusa de la onda T (anteroseptal, inferior, lateral).                                                                                                                                                                                                                                                                                                                                                                                           1\n",
            "6                                                                                                                                                                                                                                                                                                                                                                                                                                                                                                                                                                                                                                                                                            1\n",
            "SIN ALTERACIONES QUE SUGIERAN ISQUEMIA AGUDA                                                                                                                                                                                                                                                                                                                                                                                                                                                                                                                                                                                                                                                 1\n",
            "RITMO SINUSAL, BLOQUEO DE RAMA DERECHA DEL HAZ DE HIS, SIN CAMBIOS DINAMICOS EN EL ST                                                                                                                                                                                                                                                                                                                                                                                                                                                                                                                                                                                                        1\n",
            "TAQUICRDIA SINUSAL                                                                                                                                                                                                                                                                                                                                                                                                                                                                                                                                                                                                                                                                           1\n",
            "RITMO SINUSAL. PROGRESIÓN LENTA DE LA ONDA R EN PRECORDIALES. DESCARTAR NECROSIS ANTERIOR                                                                                                                                                                                                                                                                                                                                                                                                                                                                                                                                                                                                    1\n",
            "RITMO SINUSAL NORMAL, SIN CAMBIOS SEGMENTO ST                                                                                                                                                                                                                                                                                                                                                                                                                                                                                                                                                                                                                                                1\n",
            "QT NORMAL DE 400\\nMSEG CORREGIDO POR FRECUENCIA SIN OTROS HALLAZGOS ANORMALES                                                                                                                                                                                                                                                                                                                                                                                                                                                                                                                                                                                                                1\n",
            "TAQUICARDIA SUPRAVENTRICULAR                                                                                                                                                                                                                                                                                                                                                                                                                                                                                                                                                                                                                                                                 1\n",
            "FIBRILACIÓN AURICULAR                                                                                                                                                                                                                                                                                                                                                                                                                                                                                                                                                                                                                                                                        1\n",
            "Name: count, dtype: int64\n"
          ]
        }
      ],
      "source": [
        "ver_datos(df, 'EKG_VALOR_POP', True)"
      ]
    },
    {
      "cell_type": "code",
      "execution_count": 557,
      "id": "43ca43aa",
      "metadata": {
        "id": "43ca43aa",
        "outputId": "4fe6cc8c-d1ca-4826-ee97-c61751ca079f",
        "colab": {
          "base_uri": "https://localhost:8080/"
        }
      },
      "outputs": [
        {
          "output_type": "stream",
          "name": "stdout",
          "text": [
            "count    159.000000\n",
            "mean       0.352201\n",
            "std        1.038124\n",
            "min        0.000000\n",
            "25%        0.000000\n",
            "50%        0.000000\n",
            "75%        0.000000\n",
            "max        6.000000\n",
            "Name: EKG_VALOR_POP_1, dtype: float64\n",
            "--------------------\n",
            "Número de datos nulos: 577\n",
            "--------------------\n",
            "EKG_VALOR_POP_1\n",
            "NaN    577\n",
            "0.0    141\n",
            "3.0     13\n",
            "2.0      3\n",
            "5.0      1\n",
            "6.0      1\n",
            "Name: count, dtype: int64\n"
          ]
        }
      ],
      "source": [
        "def clasificar_ekg(valor):\n",
        "    if pd.isna(valor) or valor.strip() in ['999', '']:\n",
        "        return np.nan\n",
        "\n",
        "    v = valor.upper()\n",
        "\n",
        "    # Normal\n",
        "    if any(x in v for x in ['0','NORMAL', 'RITMO SINUSAL', 'SIN CAMBIOS', 'SIN ALTERACIONES']):\n",
        "        return 0\n",
        "\n",
        "    # QTc prolongado\n",
        "    elif 'QT' in v and any(x in v for x in ['1','PROLONG', 'QTC 5']):\n",
        "        return 1\n",
        "\n",
        "    # Trastornos de la repolarización\n",
        "    elif any(x in v for x in ['2','REPOLAR', 'ONDA T', 'LESION', 'ISQUEM', 'ALTERACION INESPECIFICA']):\n",
        "        return 2\n",
        "\n",
        "    # Taquiarritmias supraventriculares\n",
        "    elif any(x in v for x in ['3','TAQUICARDIA SINUSAL', 'TAQUIARDIA', 'FA ', 'FIBRILACION AURIC', 'FLUTTER', 'SUPRAVENTRICULAR']):\n",
        "        return 3\n",
        "\n",
        "    # Taquiarritmias ventriculares\n",
        "    elif any(x in v for x in ['4','TAQUICARDIA VENTRICULAR', 'FIBRILACION VENTRICULAR']):\n",
        "        return 4\n",
        "\n",
        "    # Bradiarritmias\n",
        "    elif any(x in v for x in ['5','BRADICARD', 'ASISTOL', 'BLOQUEO AV']):\n",
        "        return 5\n",
        "\n",
        "    # Extrasístoles\n",
        "    elif 'EXTRASIST' in v or 'BIGEMINISMO' in v or '6' in v:\n",
        "        return 6\n",
        "\n",
        "    # Mala progresión de onda R\n",
        "    elif 'ONDA R' in v or 'PROGRESION LENTA' in v or '7' in v:\n",
        "        return 7\n",
        "\n",
        "    # Bloqueo de rama derecha\n",
        "    elif 'BLOQUEO DE RAMA DERECHA' in v or '8'in v:\n",
        "        return 8\n",
        "\n",
        "    # Bloqueo de rama izquierda\n",
        "    elif 'BLOQUEO DE RAMA IZQ' in v or '9' in v:\n",
        "        return 9\n",
        "\n",
        "    else:\n",
        "        return np.nan\n",
        "\n",
        "\n",
        "# Aplicar\n",
        "df['EKG_VALOR_POP_1'] = df['EKG_VALOR_POP'].astype(str).apply(clasificar_ekg)\n",
        "\n",
        "# Ver resultado\n",
        "ver_datos(df, 'EKG_VALOR_POP_1', True)"
      ]
    },
    {
      "cell_type": "code",
      "execution_count": 558,
      "id": "04c3c76e",
      "metadata": {
        "id": "04c3c76e"
      },
      "outputs": [],
      "source": [
        "selected_columns.append('EKG_VALOR_POP_1')"
      ]
    },
    {
      "cell_type": "code",
      "execution_count": 559,
      "id": "e04736a3",
      "metadata": {
        "id": "e04736a3",
        "outputId": "55900f07-0db8-4a01-85b4-20efe7a7a166",
        "colab": {
          "base_uri": "https://localhost:8080/"
        }
      },
      "outputs": [
        {
          "output_type": "stream",
          "name": "stdout",
          "text": [
            "count        159\n",
            "unique         5\n",
            "top       Normal\n",
            "freq         141\n",
            "Name: EKG_VALOR_POP_categoria, dtype: object\n",
            "--------------------\n",
            "Número de datos nulos: 577\n",
            "--------------------\n",
            "EKG_VALOR_POP_categoria\n",
            "NaN                                  577\n",
            "Normal                               141\n",
            "Taquiarritmias supraventriculares     13\n",
            "Trastornos de la repolarización        3\n",
            "Bradiarritmias                         1\n",
            "Extrasístoles                          1\n",
            "Name: count, dtype: int64\n"
          ]
        }
      ],
      "source": [
        "df[\"EKG_VALOR_POP_categoria\"] = df[\"EKG_VALOR_POP_1\"].replace({0: 'Normal', 1: 'QTc prolongado', 2: 'Trastornos de la repolarización',\n",
        "                                                                                             3: 'Taquiarritmias supraventriculares', 4: 'Taquiarritmias ventriculares',\n",
        "                                                                                             5: 'Bradiarritmias', 6: 'Extrasístoles', 7: 'Mala progresión de onda R',\n",
        "                                                                                             8: 'Bloqueo de rama derecha', 9: 'Bloqueo de rama izquierda'})\n",
        "selected_columns.append('EKG_VALOR_POP_categoria')\n",
        "ver_datos(df, 'EKG_VALOR_POP_categoria', True)"
      ]
    },
    {
      "cell_type": "markdown",
      "id": "447a776d",
      "metadata": {
        "id": "447a776d"
      },
      "source": [
        "### Ecocardiograma_POP_FE%"
      ]
    },
    {
      "cell_type": "code",
      "execution_count": 560,
      "id": "9dd52afe",
      "metadata": {
        "id": "9dd52afe",
        "outputId": "13bb62ce-f599-4bfe-d2d9-6f079642119d",
        "colab": {
          "base_uri": "https://localhost:8080/"
        }
      },
      "outputs": [
        {
          "output_type": "stream",
          "name": "stdout",
          "text": [
            "count    126.000000\n",
            "mean       7.888889\n",
            "std       21.136593\n",
            "min        0.000000\n",
            "25%        0.000000\n",
            "50%        0.000000\n",
            "75%        0.000000\n",
            "max       85.000000\n",
            "Name: Ecocardiograma_POP_FE%, dtype: float64\n",
            "--------------------\n",
            "Número de datos nulos: 610\n"
          ]
        }
      ],
      "source": [
        "ver_datos(df, 'Ecocardiograma_POP_FE%')"
      ]
    },
    {
      "cell_type": "markdown",
      "id": "f9336170",
      "metadata": {
        "id": "f9336170"
      },
      "source": [
        "### Ecocardiograma_POP_PASP"
      ]
    },
    {
      "cell_type": "code",
      "execution_count": 561,
      "id": "db8db494",
      "metadata": {
        "id": "db8db494",
        "outputId": "0a598bc3-63ac-48f3-a167-e3ec41b6e265",
        "colab": {
          "base_uri": "https://localhost:8080/"
        }
      },
      "outputs": [
        {
          "output_type": "stream",
          "name": "stdout",
          "text": [
            "count    123.000000\n",
            "mean       3.040650\n",
            "std       11.025602\n",
            "min        0.000000\n",
            "25%        0.000000\n",
            "50%        0.000000\n",
            "75%        0.000000\n",
            "max       72.000000\n",
            "Name: Ecocardiograma_POP_PASP, dtype: float64\n",
            "--------------------\n",
            "Número de datos nulos: 613\n",
            "--------------------\n",
            "Ecocardiograma_POP_PASP\n",
            "NaN     613\n",
            "0.0     113\n",
            "38.0      2\n",
            "33.0      1\n",
            "50.0      1\n",
            "31.0      1\n",
            "27.0      1\n",
            "24.0      1\n",
            "40.0      1\n",
            "21.0      1\n",
            "72.0      1\n",
            "Name: count, dtype: int64\n"
          ]
        }
      ],
      "source": [
        "ver_datos(df, 'Ecocardiograma_POP_PASP', True)"
      ]
    },
    {
      "cell_type": "code",
      "execution_count": 562,
      "id": "35458ba7",
      "metadata": {
        "id": "35458ba7"
      },
      "outputs": [],
      "source": [
        "df['Ecocardiograma_POP_PASP'] = df['Ecocardiograma_POP_PASP'].replace(\n",
        "    {\n",
        "        0: np.nan\n",
        "    }\n",
        ")"
      ]
    },
    {
      "cell_type": "code",
      "execution_count": 563,
      "id": "1caeb737",
      "metadata": {
        "id": "1caeb737",
        "outputId": "404be79e-7313-4165-d087-adbf53745044",
        "colab": {
          "base_uri": "https://localhost:8080/"
        }
      },
      "outputs": [
        {
          "output_type": "stream",
          "name": "stdout",
          "text": [
            "count    10.000000\n",
            "mean     37.400000\n",
            "std      14.833895\n",
            "min      21.000000\n",
            "25%      28.000000\n",
            "50%      35.500000\n",
            "75%      39.500000\n",
            "max      72.000000\n",
            "Name: Ecocardiograma_POP_PASP, dtype: float64\n",
            "--------------------\n",
            "Número de datos nulos: 726\n",
            "--------------------\n",
            "Ecocardiograma_POP_PASP\n",
            "NaN     726\n",
            "38.0      2\n",
            "50.0      1\n",
            "33.0      1\n",
            "31.0      1\n",
            "27.0      1\n",
            "24.0      1\n",
            "40.0      1\n",
            "21.0      1\n",
            "72.0      1\n",
            "Name: count, dtype: int64\n"
          ]
        }
      ],
      "source": [
        "ver_datos(df, 'Ecocardiograma_POP_PASP', True)"
      ]
    },
    {
      "cell_type": "markdown",
      "id": "e891d2bf",
      "metadata": {
        "id": "e891d2bf"
      },
      "source": [
        "### Retrasplante"
      ]
    },
    {
      "cell_type": "code",
      "execution_count": 564,
      "id": "4ce2788c",
      "metadata": {
        "id": "4ce2788c",
        "outputId": "d07fecf5-4f3c-43c2-e29c-e07cf45dbf49",
        "colab": {
          "base_uri": "https://localhost:8080/"
        }
      },
      "outputs": [
        {
          "output_type": "stream",
          "name": "stdout",
          "text": [
            "count    732.000000\n",
            "mean       0.060109\n",
            "std        0.237852\n",
            "min        0.000000\n",
            "25%        0.000000\n",
            "50%        0.000000\n",
            "75%        0.000000\n",
            "max        1.000000\n",
            "Name: Retrasplante, dtype: float64\n",
            "--------------------\n",
            "Número de datos nulos: 4\n",
            "--------------------\n",
            "Retrasplante\n",
            "0.0    688\n",
            "1.0     44\n",
            "NaN      4\n",
            "Name: count, dtype: int64\n"
          ]
        }
      ],
      "source": [
        "ver_datos(df,'Retrasplante', True)"
      ]
    },
    {
      "cell_type": "code",
      "execution_count": 565,
      "id": "66bee816",
      "metadata": {
        "id": "66bee816",
        "outputId": "98248f8a-d68e-4244-ae90-d35a850a4e95",
        "colab": {
          "base_uri": "https://localhost:8080/"
        }
      },
      "outputs": [
        {
          "output_type": "stream",
          "name": "stdout",
          "text": [
            "count       732\n",
            "unique        2\n",
            "top       False\n",
            "freq        688\n",
            "Name: Retrasplante_bool, dtype: object\n",
            "--------------------\n",
            "Número de datos nulos: 4\n"
          ]
        }
      ],
      "source": [
        "df[\"Retrasplante_bool\"] = df[\"Retrasplante\"].replace({0: False, 1: True})\n",
        "selected_columns.append(\"Retrasplante_bool\")\n",
        "ver_datos(df, \"Retrasplante_bool\")"
      ]
    },
    {
      "cell_type": "markdown",
      "id": "aa607487",
      "metadata": {
        "id": "aa607487"
      },
      "source": [
        "### Indicación_Retrasplante"
      ]
    },
    {
      "cell_type": "code",
      "execution_count": 566,
      "id": "280ce86a",
      "metadata": {
        "id": "280ce86a",
        "outputId": "882305c8-946b-49bb-c9fc-b987f7f04884",
        "colab": {
          "base_uri": "https://localhost:8080/"
        }
      },
      "outputs": [
        {
          "output_type": "stream",
          "name": "stdout",
          "text": [
            "count    42.000000\n",
            "mean      1.690476\n",
            "std       1.219518\n",
            "min       1.000000\n",
            "25%       1.000000\n",
            "50%       1.000000\n",
            "75%       2.000000\n",
            "max       6.000000\n",
            "Name: Indicación_Retrasplante, dtype: float64\n",
            "--------------------\n",
            "Número de datos nulos: 694\n",
            "--------------------\n",
            "Indicación_Retrasplante\n",
            "NaN    694\n",
            "1.0     26\n",
            "2.0     11\n",
            "5.0      2\n",
            "3.0      1\n",
            "4.0      1\n",
            "6.0      1\n",
            "Name: count, dtype: int64\n"
          ]
        }
      ],
      "source": [
        "ver_datos(df, \"Indicación_Retrasplante\", True)"
      ]
    },
    {
      "cell_type": "code",
      "execution_count": 567,
      "id": "6733fcda",
      "metadata": {
        "id": "6733fcda"
      },
      "outputs": [],
      "source": [
        "df[\"Indicación_Retrasplante_categoria\"] = df[\"Indicación_Retrasplante\"].replace({1:'DISFUNCIÓN PRIMARIA DEL INJERTO', 2: 'TROMBOSIS ARTERIA HEPÁTICA', 3: 'TROMBOSIS PORTAL',\n",
        "                                                                                                     4: 'BUDD CHIARI', 5: 'COLANGIOPATIA ISQUEMICA', 6: 'HELLP'})\n",
        "selected_columns.append('Indicación_Retrasplante_categoria')"
      ]
    },
    {
      "cell_type": "code",
      "execution_count": 568,
      "id": "1e703192",
      "metadata": {
        "id": "1e703192",
        "outputId": "6723053f-1068-4bce-8127-4e90e634ffd6",
        "colab": {
          "base_uri": "https://localhost:8080/"
        }
      },
      "outputs": [
        {
          "output_type": "stream",
          "name": "stdout",
          "text": [
            "count                                  42\n",
            "unique                                  6\n",
            "top       DISFUNCIÓN PRIMARIA DEL INJERTO\n",
            "freq                                   26\n",
            "Name: Indicación_Retrasplante_categoria, dtype: object\n",
            "--------------------\n",
            "Número de datos nulos: 694\n",
            "--------------------\n",
            "Indicación_Retrasplante_categoria\n",
            "NaN                                694\n",
            "DISFUNCIÓN PRIMARIA DEL INJERTO     26\n",
            "TROMBOSIS ARTERIA HEPÁTICA          11\n",
            "COLANGIOPATIA ISQUEMICA              2\n",
            "TROMBOSIS PORTAL                     1\n",
            "BUDD CHIARI                          1\n",
            "HELLP                                1\n",
            "Name: count, dtype: int64\n"
          ]
        }
      ],
      "source": [
        "ver_datos(df, \"Indicación_Retrasplante_categoria\", True)"
      ]
    },
    {
      "cell_type": "markdown",
      "id": "9c6514ee",
      "metadata": {
        "id": "9c6514ee"
      },
      "source": [
        "### Año_Tx2 (si no retx, poner año tx)"
      ]
    },
    {
      "cell_type": "code",
      "execution_count": 569,
      "id": "c6974114",
      "metadata": {
        "id": "c6974114",
        "outputId": "01110cfb-f359-4788-b78d-d4139718f5f2",
        "colab": {
          "base_uri": "https://localhost:8080/"
        }
      },
      "outputs": [
        {
          "output_type": "stream",
          "name": "stdout",
          "text": [
            "count     736.000000\n",
            "mean     2013.767663\n",
            "std         6.841577\n",
            "min      1988.000000\n",
            "25%      2009.000000\n",
            "50%      2014.000000\n",
            "75%      2019.000000\n",
            "max      2025.000000\n",
            "Name: Año_Tx2 (si no retx, poner año tx), dtype: float64\n",
            "--------------------\n",
            "Número de datos nulos: 0\n",
            "--------------------\n",
            "Año_Tx2 (si no retx, poner año tx)\n",
            "2017    58\n",
            "2009    45\n",
            "2010    43\n",
            "2016    43\n",
            "2023    42\n",
            "2015    40\n",
            "2018    38\n",
            "2024    37\n",
            "2012    37\n",
            "2008    34\n",
            "2014    34\n",
            "2011    33\n",
            "2019    33\n",
            "2022    30\n",
            "2007    29\n",
            "2013    27\n",
            "2021    22\n",
            "1998    19\n",
            "2006    19\n",
            "2004    14\n",
            "2005    14\n",
            "2020    13\n",
            "2025     9\n",
            "2003     8\n",
            "2002     3\n",
            "1991     2\n",
            "1999     2\n",
            "1994     2\n",
            "1990     2\n",
            "1989     2\n",
            "1988     1\n",
            "1997     1\n",
            "Name: count, dtype: int64\n"
          ]
        }
      ],
      "source": [
        "ver_datos(df, \"Año_Tx2 (si no retx, poner año tx)\", True)"
      ]
    },
    {
      "cell_type": "code",
      "execution_count": 570,
      "id": "9a599857",
      "metadata": {
        "id": "9a599857",
        "outputId": "4a47a7bb-1bfd-4c3c-9873-f44a4ee426fc",
        "colab": {
          "base_uri": "https://localhost:8080/",
          "height": 394
        }
      },
      "outputs": [
        {
          "output_type": "execute_result",
          "data": {
            "text/plain": [
              "             Fecha_Tx  Año_Tx2 (si no retx, poner año tx) Fecha_Tx#2  \\\n",
              "#_Paciente                                                             \n",
              "35         2002-12-02                                2006 2006-06-17   \n",
              "52         2004-06-29                                2004 2004-07-25   \n",
              "69         2005-10-16                                2005 2005-11-02   \n",
              "81         2006-07-11                                2006 2006-12-06   \n",
              "153        2008-12-26                                2009 2009-01-08   \n",
              "\n",
              "            Retrasplante Indicación_Retrasplante_categoria  \n",
              "#_Paciente                                                  \n",
              "35                   1.0           COLANGIOPATIA ISQUEMICA  \n",
              "52                   1.0        TROMBOSIS ARTERIA HEPÁTICA  \n",
              "69                   1.0   DISFUNCIÓN PRIMARIA DEL INJERTO  \n",
              "81                   1.0           COLANGIOPATIA ISQUEMICA  \n",
              "153                  1.0   DISFUNCIÓN PRIMARIA DEL INJERTO  "
            ],
            "text/html": [
              "\n",
              "  <div id=\"df-0decb484-f5f3-4dd1-b59b-3f860d20fa5c\" class=\"colab-df-container\">\n",
              "    <div>\n",
              "<style scoped>\n",
              "    .dataframe tbody tr th:only-of-type {\n",
              "        vertical-align: middle;\n",
              "    }\n",
              "\n",
              "    .dataframe tbody tr th {\n",
              "        vertical-align: top;\n",
              "    }\n",
              "\n",
              "    .dataframe thead th {\n",
              "        text-align: right;\n",
              "    }\n",
              "</style>\n",
              "<table border=\"1\" class=\"dataframe\">\n",
              "  <thead>\n",
              "    <tr style=\"text-align: right;\">\n",
              "      <th></th>\n",
              "      <th>Fecha_Tx</th>\n",
              "      <th>Año_Tx2 (si no retx, poner año tx)</th>\n",
              "      <th>Fecha_Tx#2</th>\n",
              "      <th>Retrasplante</th>\n",
              "      <th>Indicación_Retrasplante_categoria</th>\n",
              "    </tr>\n",
              "    <tr>\n",
              "      <th>#_Paciente</th>\n",
              "      <th></th>\n",
              "      <th></th>\n",
              "      <th></th>\n",
              "      <th></th>\n",
              "      <th></th>\n",
              "    </tr>\n",
              "  </thead>\n",
              "  <tbody>\n",
              "    <tr>\n",
              "      <th>35</th>\n",
              "      <td>2002-12-02</td>\n",
              "      <td>2006</td>\n",
              "      <td>2006-06-17</td>\n",
              "      <td>1.0</td>\n",
              "      <td>COLANGIOPATIA ISQUEMICA</td>\n",
              "    </tr>\n",
              "    <tr>\n",
              "      <th>52</th>\n",
              "      <td>2004-06-29</td>\n",
              "      <td>2004</td>\n",
              "      <td>2004-07-25</td>\n",
              "      <td>1.0</td>\n",
              "      <td>TROMBOSIS ARTERIA HEPÁTICA</td>\n",
              "    </tr>\n",
              "    <tr>\n",
              "      <th>69</th>\n",
              "      <td>2005-10-16</td>\n",
              "      <td>2005</td>\n",
              "      <td>2005-11-02</td>\n",
              "      <td>1.0</td>\n",
              "      <td>DISFUNCIÓN PRIMARIA DEL INJERTO</td>\n",
              "    </tr>\n",
              "    <tr>\n",
              "      <th>81</th>\n",
              "      <td>2006-07-11</td>\n",
              "      <td>2006</td>\n",
              "      <td>2006-12-06</td>\n",
              "      <td>1.0</td>\n",
              "      <td>COLANGIOPATIA ISQUEMICA</td>\n",
              "    </tr>\n",
              "    <tr>\n",
              "      <th>153</th>\n",
              "      <td>2008-12-26</td>\n",
              "      <td>2009</td>\n",
              "      <td>2009-01-08</td>\n",
              "      <td>1.0</td>\n",
              "      <td>DISFUNCIÓN PRIMARIA DEL INJERTO</td>\n",
              "    </tr>\n",
              "  </tbody>\n",
              "</table>\n",
              "</div>\n",
              "    <div class=\"colab-df-buttons\">\n",
              "\n",
              "  <div class=\"colab-df-container\">\n",
              "    <button class=\"colab-df-convert\" onclick=\"convertToInteractive('df-0decb484-f5f3-4dd1-b59b-3f860d20fa5c')\"\n",
              "            title=\"Convert this dataframe to an interactive table.\"\n",
              "            style=\"display:none;\">\n",
              "\n",
              "  <svg xmlns=\"http://www.w3.org/2000/svg\" height=\"24px\" viewBox=\"0 -960 960 960\">\n",
              "    <path d=\"M120-120v-720h720v720H120Zm60-500h600v-160H180v160Zm220 220h160v-160H400v160Zm0 220h160v-160H400v160ZM180-400h160v-160H180v160Zm440 0h160v-160H620v160ZM180-180h160v-160H180v160Zm440 0h160v-160H620v160Z\"/>\n",
              "  </svg>\n",
              "    </button>\n",
              "\n",
              "  <style>\n",
              "    .colab-df-container {\n",
              "      display:flex;\n",
              "      gap: 12px;\n",
              "    }\n",
              "\n",
              "    .colab-df-convert {\n",
              "      background-color: #E8F0FE;\n",
              "      border: none;\n",
              "      border-radius: 50%;\n",
              "      cursor: pointer;\n",
              "      display: none;\n",
              "      fill: #1967D2;\n",
              "      height: 32px;\n",
              "      padding: 0 0 0 0;\n",
              "      width: 32px;\n",
              "    }\n",
              "\n",
              "    .colab-df-convert:hover {\n",
              "      background-color: #E2EBFA;\n",
              "      box-shadow: 0px 1px 2px rgba(60, 64, 67, 0.3), 0px 1px 3px 1px rgba(60, 64, 67, 0.15);\n",
              "      fill: #174EA6;\n",
              "    }\n",
              "\n",
              "    .colab-df-buttons div {\n",
              "      margin-bottom: 4px;\n",
              "    }\n",
              "\n",
              "    [theme=dark] .colab-df-convert {\n",
              "      background-color: #3B4455;\n",
              "      fill: #D2E3FC;\n",
              "    }\n",
              "\n",
              "    [theme=dark] .colab-df-convert:hover {\n",
              "      background-color: #434B5C;\n",
              "      box-shadow: 0px 1px 3px 1px rgba(0, 0, 0, 0.15);\n",
              "      filter: drop-shadow(0px 1px 2px rgba(0, 0, 0, 0.3));\n",
              "      fill: #FFFFFF;\n",
              "    }\n",
              "  </style>\n",
              "\n",
              "    <script>\n",
              "      const buttonEl =\n",
              "        document.querySelector('#df-0decb484-f5f3-4dd1-b59b-3f860d20fa5c button.colab-df-convert');\n",
              "      buttonEl.style.display =\n",
              "        google.colab.kernel.accessAllowed ? 'block' : 'none';\n",
              "\n",
              "      async function convertToInteractive(key) {\n",
              "        const element = document.querySelector('#df-0decb484-f5f3-4dd1-b59b-3f860d20fa5c');\n",
              "        const dataTable =\n",
              "          await google.colab.kernel.invokeFunction('convertToInteractive',\n",
              "                                                    [key], {});\n",
              "        if (!dataTable) return;\n",
              "\n",
              "        const docLinkHtml = 'Like what you see? Visit the ' +\n",
              "          '<a target=\"_blank\" href=https://colab.research.google.com/notebooks/data_table.ipynb>data table notebook</a>'\n",
              "          + ' to learn more about interactive tables.';\n",
              "        element.innerHTML = '';\n",
              "        dataTable['output_type'] = 'display_data';\n",
              "        await google.colab.output.renderOutput(dataTable, element);\n",
              "        const docLink = document.createElement('div');\n",
              "        docLink.innerHTML = docLinkHtml;\n",
              "        element.appendChild(docLink);\n",
              "      }\n",
              "    </script>\n",
              "  </div>\n",
              "\n",
              "\n",
              "    <div id=\"df-e8119236-4a43-4007-97b6-086dd48e40eb\">\n",
              "      <button class=\"colab-df-quickchart\" onclick=\"quickchart('df-e8119236-4a43-4007-97b6-086dd48e40eb')\"\n",
              "                title=\"Suggest charts\"\n",
              "                style=\"display:none;\">\n",
              "\n",
              "<svg xmlns=\"http://www.w3.org/2000/svg\" height=\"24px\"viewBox=\"0 0 24 24\"\n",
              "     width=\"24px\">\n",
              "    <g>\n",
              "        <path d=\"M19 3H5c-1.1 0-2 .9-2 2v14c0 1.1.9 2 2 2h14c1.1 0 2-.9 2-2V5c0-1.1-.9-2-2-2zM9 17H7v-7h2v7zm4 0h-2V7h2v10zm4 0h-2v-4h2v4z\"/>\n",
              "    </g>\n",
              "</svg>\n",
              "      </button>\n",
              "\n",
              "<style>\n",
              "  .colab-df-quickchart {\n",
              "      --bg-color: #E8F0FE;\n",
              "      --fill-color: #1967D2;\n",
              "      --hover-bg-color: #E2EBFA;\n",
              "      --hover-fill-color: #174EA6;\n",
              "      --disabled-fill-color: #AAA;\n",
              "      --disabled-bg-color: #DDD;\n",
              "  }\n",
              "\n",
              "  [theme=dark] .colab-df-quickchart {\n",
              "      --bg-color: #3B4455;\n",
              "      --fill-color: #D2E3FC;\n",
              "      --hover-bg-color: #434B5C;\n",
              "      --hover-fill-color: #FFFFFF;\n",
              "      --disabled-bg-color: #3B4455;\n",
              "      --disabled-fill-color: #666;\n",
              "  }\n",
              "\n",
              "  .colab-df-quickchart {\n",
              "    background-color: var(--bg-color);\n",
              "    border: none;\n",
              "    border-radius: 50%;\n",
              "    cursor: pointer;\n",
              "    display: none;\n",
              "    fill: var(--fill-color);\n",
              "    height: 32px;\n",
              "    padding: 0;\n",
              "    width: 32px;\n",
              "  }\n",
              "\n",
              "  .colab-df-quickchart:hover {\n",
              "    background-color: var(--hover-bg-color);\n",
              "    box-shadow: 0 1px 2px rgba(60, 64, 67, 0.3), 0 1px 3px 1px rgba(60, 64, 67, 0.15);\n",
              "    fill: var(--button-hover-fill-color);\n",
              "  }\n",
              "\n",
              "  .colab-df-quickchart-complete:disabled,\n",
              "  .colab-df-quickchart-complete:disabled:hover {\n",
              "    background-color: var(--disabled-bg-color);\n",
              "    fill: var(--disabled-fill-color);\n",
              "    box-shadow: none;\n",
              "  }\n",
              "\n",
              "  .colab-df-spinner {\n",
              "    border: 2px solid var(--fill-color);\n",
              "    border-color: transparent;\n",
              "    border-bottom-color: var(--fill-color);\n",
              "    animation:\n",
              "      spin 1s steps(1) infinite;\n",
              "  }\n",
              "\n",
              "  @keyframes spin {\n",
              "    0% {\n",
              "      border-color: transparent;\n",
              "      border-bottom-color: var(--fill-color);\n",
              "      border-left-color: var(--fill-color);\n",
              "    }\n",
              "    20% {\n",
              "      border-color: transparent;\n",
              "      border-left-color: var(--fill-color);\n",
              "      border-top-color: var(--fill-color);\n",
              "    }\n",
              "    30% {\n",
              "      border-color: transparent;\n",
              "      border-left-color: var(--fill-color);\n",
              "      border-top-color: var(--fill-color);\n",
              "      border-right-color: var(--fill-color);\n",
              "    }\n",
              "    40% {\n",
              "      border-color: transparent;\n",
              "      border-right-color: var(--fill-color);\n",
              "      border-top-color: var(--fill-color);\n",
              "    }\n",
              "    60% {\n",
              "      border-color: transparent;\n",
              "      border-right-color: var(--fill-color);\n",
              "    }\n",
              "    80% {\n",
              "      border-color: transparent;\n",
              "      border-right-color: var(--fill-color);\n",
              "      border-bottom-color: var(--fill-color);\n",
              "    }\n",
              "    90% {\n",
              "      border-color: transparent;\n",
              "      border-bottom-color: var(--fill-color);\n",
              "    }\n",
              "  }\n",
              "</style>\n",
              "\n",
              "      <script>\n",
              "        async function quickchart(key) {\n",
              "          const quickchartButtonEl =\n",
              "            document.querySelector('#' + key + ' button');\n",
              "          quickchartButtonEl.disabled = true;  // To prevent multiple clicks.\n",
              "          quickchartButtonEl.classList.add('colab-df-spinner');\n",
              "          try {\n",
              "            const charts = await google.colab.kernel.invokeFunction(\n",
              "                'suggestCharts', [key], {});\n",
              "          } catch (error) {\n",
              "            console.error('Error during call to suggestCharts:', error);\n",
              "          }\n",
              "          quickchartButtonEl.classList.remove('colab-df-spinner');\n",
              "          quickchartButtonEl.classList.add('colab-df-quickchart-complete');\n",
              "        }\n",
              "        (() => {\n",
              "          let quickchartButtonEl =\n",
              "            document.querySelector('#df-e8119236-4a43-4007-97b6-086dd48e40eb button');\n",
              "          quickchartButtonEl.style.display =\n",
              "            google.colab.kernel.accessAllowed ? 'block' : 'none';\n",
              "        })();\n",
              "      </script>\n",
              "    </div>\n",
              "\n",
              "    </div>\n",
              "  </div>\n"
            ],
            "application/vnd.google.colaboratory.intrinsic+json": {
              "type": "dataframe",
              "summary": "{\n  \"name\": \"# df_trans_hepatico[\\\"Tiempo_Desde_Tx_Infecci\\u00f3n_1\\\"]\",\n  \"rows\": 5,\n  \"fields\": [\n    {\n      \"column\": \"#_Paciente\",\n      \"properties\": {\n        \"dtype\": \"number\",\n        \"std\": 45,\n        \"min\": 35,\n        \"max\": 153,\n        \"num_unique_values\": 5,\n        \"samples\": [\n          52,\n          153,\n          69\n        ],\n        \"semantic_type\": \"\",\n        \"description\": \"\"\n      }\n    },\n    {\n      \"column\": \"Fecha_Tx\",\n      \"properties\": {\n        \"dtype\": \"date\",\n        \"min\": \"2002-12-02 00:00:00\",\n        \"max\": \"2008-12-26 00:00:00\",\n        \"num_unique_values\": 5,\n        \"samples\": [\n          \"2004-06-29 00:00:00\",\n          \"2008-12-26 00:00:00\",\n          \"2005-10-16 00:00:00\"\n        ],\n        \"semantic_type\": \"\",\n        \"description\": \"\"\n      }\n    },\n    {\n      \"column\": \"A\\u00f1o_Tx2 (si no retx, poner a\\u00f1o tx)\",\n      \"properties\": {\n        \"dtype\": \"number\",\n        \"std\": 1,\n        \"min\": 2004,\n        \"max\": 2009,\n        \"num_unique_values\": 4,\n        \"samples\": [\n          2004,\n          2009,\n          2006\n        ],\n        \"semantic_type\": \"\",\n        \"description\": \"\"\n      }\n    },\n    {\n      \"column\": \"Fecha_Tx#2\",\n      \"properties\": {\n        \"dtype\": \"date\",\n        \"min\": \"2004-07-25 00:00:00\",\n        \"max\": \"2009-01-08 00:00:00\",\n        \"num_unique_values\": 5,\n        \"samples\": [\n          \"2004-07-25 00:00:00\",\n          \"2009-01-08 00:00:00\",\n          \"2005-11-02 00:00:00\"\n        ],\n        \"semantic_type\": \"\",\n        \"description\": \"\"\n      }\n    },\n    {\n      \"column\": \"Retrasplante\",\n      \"properties\": {\n        \"dtype\": \"number\",\n        \"std\": 0.0,\n        \"min\": 1.0,\n        \"max\": 1.0,\n        \"num_unique_values\": 1,\n        \"samples\": [\n          1.0\n        ],\n        \"semantic_type\": \"\",\n        \"description\": \"\"\n      }\n    },\n    {\n      \"column\": \"Indicaci\\u00f3n_Retrasplante_categoria\",\n      \"properties\": {\n        \"dtype\": \"string\",\n        \"num_unique_values\": 3,\n        \"samples\": [\n          \"COLANGIOPATIA ISQUEMICA\"\n        ],\n        \"semantic_type\": \"\",\n        \"description\": \"\"\n      }\n    }\n  ]\n}"
            }
          },
          "metadata": {},
          "execution_count": 570
        }
      ],
      "source": [
        "df[[\"Fecha_Tx\",\"Año_Tx2 (si no retx, poner año tx)\",\"Fecha_Tx#2\",\"Retrasplante\",\"Indicación_Retrasplante_categoria\"]].loc[df[\"Fecha_Tx#2\"].notna() |\n",
        "                                                                                                                        ((~df[\"Retrasplante\"].astype(str).isin([\"\", \"0.0\", \"NaN\", \"NAT\", \"NO\"])) &  (df[\"Retrasplante\"].notna())) |\n",
        "                                                                                                                            df[\"Indicación_Retrasplante_categoria\"].notnull()\n",
        "                                                                                                                            #| df[\"Año_Tx2 (si no retx, poner año tx)\"].notna() # la variable tiene datos inconsistentes\n",
        "                                                                                                                            ].head(5)\n",
        "\n",
        "# # Convertir ambas columnas a datetime\n",
        "# df_trans_hepatico[\"Fecha_Tx#2\"] = pd.to_datetime(df_trans_hepatico[\"Fecha_Tx#2\"], errors='coerce')\n",
        "\n",
        "# df_trans_hepatico[\"Tiempo_Desde_Tx_Infección_1\"] = (\n",
        "#     df_trans_hepatico[\"Fecha_Infección_1\"] - df_trans_hepatico[\"Fecha_Tx\"]\n",
        "# ).dt.days\n",
        "\n",
        "# df_trans_hepatico[\"Tiempo_Desde_Tx_Infección_1\"] = df_trans_hepatico[\"Tiempo_Desde_Tx_Infección_1\"].astype(\"Int64\")\n",
        "# df_trans_hepatico[\"Tiempo_Desde_Tx_Infección_1\"].unique()"
      ]
    },
    {
      "cell_type": "markdown",
      "id": "d6d8e791",
      "metadata": {
        "id": "d6d8e791"
      },
      "source": [
        "Dado que el atributo Año_tx2 no es consistente con la variable retrasplante o indicacion retrasplante, se pensaria en ajustarla, sin embargo, la definición de la variable para los stakeholder sugiere que debe dejarse asi.\n",
        "\n",
        "Por lo tanto, se hará uso de las variables que presentan consistencia las cuales son Retrasplante, Indicacion_Retrasplante y Fecha_Tx#2."
      ]
    },
    {
      "cell_type": "markdown",
      "id": "b4cdc62f",
      "metadata": {
        "id": "b4cdc62f"
      },
      "source": [
        "### Fecha_Tx#2"
      ]
    },
    {
      "cell_type": "code",
      "execution_count": 571,
      "id": "ff71c988",
      "metadata": {
        "id": "ff71c988",
        "outputId": "ef481188-b1c5-45e4-a1d7-6e747f52c2e0",
        "colab": {
          "base_uri": "https://localhost:8080/"
        }
      },
      "outputs": [
        {
          "output_type": "stream",
          "name": "stdout",
          "text": [
            "count                               44\n",
            "mean     2014-11-06 09:49:05.454545408\n",
            "min                2004-07-25 00:00:00\n",
            "25%                2010-03-03 18:00:00\n",
            "50%                2014-12-13 00:00:00\n",
            "75%                2018-10-07 12:00:00\n",
            "max                2025-03-04 00:00:00\n",
            "Name: Fecha_Tx#2, dtype: object\n",
            "--------------------\n",
            "Número de datos nulos: 692\n"
          ]
        }
      ],
      "source": [
        "ver_datos(df, 'Fecha_Tx#2')\n",
        "selected_columns.append('Fecha_Tx#2')"
      ]
    },
    {
      "cell_type": "markdown",
      "id": "a6e233ef",
      "metadata": {
        "id": "a6e233ef"
      },
      "source": [
        "### Días_Desde_Tx#1(se puede hacer un calculo con años o algo así, como una nueva variable)"
      ]
    },
    {
      "cell_type": "code",
      "execution_count": 572,
      "id": "9472116c",
      "metadata": {
        "id": "9472116c",
        "outputId": "ead38a7e-00ee-4042-f5da-3446bcb7b4ce",
        "colab": {
          "base_uri": "https://localhost:8080/"
        }
      },
      "outputs": [
        {
          "output_type": "stream",
          "name": "stdout",
          "text": [
            "count      42.000000\n",
            "mean       45.261905\n",
            "std       199.944146\n",
            "min         0.000000\n",
            "25%         2.000000\n",
            "50%         3.000000\n",
            "75%        12.500000\n",
            "max      1293.000000\n",
            "Name: Días_Desde_Tx#1, dtype: float64\n",
            "--------------------\n",
            "Número de datos nulos: 694\n"
          ]
        }
      ],
      "source": [
        "ver_datos(df, 'Días_Desde_Tx#1')"
      ]
    },
    {
      "cell_type": "code",
      "execution_count": 573,
      "id": "5c84d835",
      "metadata": {
        "id": "5c84d835",
        "outputId": "4d5af58b-5dc6-4882-d259-fe03f8217ec1",
        "colab": {
          "base_uri": "https://localhost:8080/",
          "height": 335
        }
      },
      "outputs": [
        {
          "output_type": "execute_result",
          "data": {
            "text/plain": [
              "count      44.000000\n",
              "mean      123.477273\n",
              "std       560.630438\n",
              "min         0.000000\n",
              "25%         2.000000\n",
              "50%         3.000000\n",
              "75%        14.000000\n",
              "max      3530.000000\n",
              "Name: Días_Desde_Tx#1_calculada, dtype: float64"
            ],
            "text/html": [
              "<div>\n",
              "<style scoped>\n",
              "    .dataframe tbody tr th:only-of-type {\n",
              "        vertical-align: middle;\n",
              "    }\n",
              "\n",
              "    .dataframe tbody tr th {\n",
              "        vertical-align: top;\n",
              "    }\n",
              "\n",
              "    .dataframe thead th {\n",
              "        text-align: right;\n",
              "    }\n",
              "</style>\n",
              "<table border=\"1\" class=\"dataframe\">\n",
              "  <thead>\n",
              "    <tr style=\"text-align: right;\">\n",
              "      <th></th>\n",
              "      <th>Días_Desde_Tx#1_calculada</th>\n",
              "    </tr>\n",
              "  </thead>\n",
              "  <tbody>\n",
              "    <tr>\n",
              "      <th>count</th>\n",
              "      <td>44.000000</td>\n",
              "    </tr>\n",
              "    <tr>\n",
              "      <th>mean</th>\n",
              "      <td>123.477273</td>\n",
              "    </tr>\n",
              "    <tr>\n",
              "      <th>std</th>\n",
              "      <td>560.630438</td>\n",
              "    </tr>\n",
              "    <tr>\n",
              "      <th>min</th>\n",
              "      <td>0.000000</td>\n",
              "    </tr>\n",
              "    <tr>\n",
              "      <th>25%</th>\n",
              "      <td>2.000000</td>\n",
              "    </tr>\n",
              "    <tr>\n",
              "      <th>50%</th>\n",
              "      <td>3.000000</td>\n",
              "    </tr>\n",
              "    <tr>\n",
              "      <th>75%</th>\n",
              "      <td>14.000000</td>\n",
              "    </tr>\n",
              "    <tr>\n",
              "      <th>max</th>\n",
              "      <td>3530.000000</td>\n",
              "    </tr>\n",
              "  </tbody>\n",
              "</table>\n",
              "</div><br><label><b>dtype:</b> float64</label>"
            ]
          },
          "metadata": {},
          "execution_count": 573
        }
      ],
      "source": [
        "# Ahora sí puedes restar fechas\n",
        "df[\"Días_Desde_Tx#1_calculada\"] = (\n",
        "    df[\"Fecha_Tx#2\"] - df[\"Fecha_Tx\"]\n",
        ").dt.days\n",
        "\n",
        "df[\"Días_Desde_Tx#1_calculada\"].describe()"
      ]
    },
    {
      "cell_type": "code",
      "execution_count": 574,
      "id": "ea86e3db",
      "metadata": {
        "id": "ea86e3db",
        "outputId": "046b9393-99f3-4795-9ecd-6a5546958cac",
        "colab": {
          "base_uri": "https://localhost:8080/",
          "height": 143
        }
      },
      "outputs": [
        {
          "output_type": "execute_result",
          "data": {
            "text/plain": [
              "            Días_Desde_Tx#1  Días_Desde_Tx#1_calculada   Fecha_Tx Fecha_Tx#2\n",
              "#_Paciente                                                                  \n",
              "364                     NaN                     3530.0 2014-10-06 2024-06-05\n",
              "712                     NaN                        2.0 2024-07-17 2024-07-19"
            ],
            "text/html": [
              "\n",
              "  <div id=\"df-132a56a1-12fe-482c-94d7-7775307e32d5\" class=\"colab-df-container\">\n",
              "    <div>\n",
              "<style scoped>\n",
              "    .dataframe tbody tr th:only-of-type {\n",
              "        vertical-align: middle;\n",
              "    }\n",
              "\n",
              "    .dataframe tbody tr th {\n",
              "        vertical-align: top;\n",
              "    }\n",
              "\n",
              "    .dataframe thead th {\n",
              "        text-align: right;\n",
              "    }\n",
              "</style>\n",
              "<table border=\"1\" class=\"dataframe\">\n",
              "  <thead>\n",
              "    <tr style=\"text-align: right;\">\n",
              "      <th></th>\n",
              "      <th>Días_Desde_Tx#1</th>\n",
              "      <th>Días_Desde_Tx#1_calculada</th>\n",
              "      <th>Fecha_Tx</th>\n",
              "      <th>Fecha_Tx#2</th>\n",
              "    </tr>\n",
              "    <tr>\n",
              "      <th>#_Paciente</th>\n",
              "      <th></th>\n",
              "      <th></th>\n",
              "      <th></th>\n",
              "      <th></th>\n",
              "    </tr>\n",
              "  </thead>\n",
              "  <tbody>\n",
              "    <tr>\n",
              "      <th>364</th>\n",
              "      <td>NaN</td>\n",
              "      <td>3530.0</td>\n",
              "      <td>2014-10-06</td>\n",
              "      <td>2024-06-05</td>\n",
              "    </tr>\n",
              "    <tr>\n",
              "      <th>712</th>\n",
              "      <td>NaN</td>\n",
              "      <td>2.0</td>\n",
              "      <td>2024-07-17</td>\n",
              "      <td>2024-07-19</td>\n",
              "    </tr>\n",
              "  </tbody>\n",
              "</table>\n",
              "</div>\n",
              "    <div class=\"colab-df-buttons\">\n",
              "\n",
              "  <div class=\"colab-df-container\">\n",
              "    <button class=\"colab-df-convert\" onclick=\"convertToInteractive('df-132a56a1-12fe-482c-94d7-7775307e32d5')\"\n",
              "            title=\"Convert this dataframe to an interactive table.\"\n",
              "            style=\"display:none;\">\n",
              "\n",
              "  <svg xmlns=\"http://www.w3.org/2000/svg\" height=\"24px\" viewBox=\"0 -960 960 960\">\n",
              "    <path d=\"M120-120v-720h720v720H120Zm60-500h600v-160H180v160Zm220 220h160v-160H400v160Zm0 220h160v-160H400v160ZM180-400h160v-160H180v160Zm440 0h160v-160H620v160ZM180-180h160v-160H180v160Zm440 0h160v-160H620v160Z\"/>\n",
              "  </svg>\n",
              "    </button>\n",
              "\n",
              "  <style>\n",
              "    .colab-df-container {\n",
              "      display:flex;\n",
              "      gap: 12px;\n",
              "    }\n",
              "\n",
              "    .colab-df-convert {\n",
              "      background-color: #E8F0FE;\n",
              "      border: none;\n",
              "      border-radius: 50%;\n",
              "      cursor: pointer;\n",
              "      display: none;\n",
              "      fill: #1967D2;\n",
              "      height: 32px;\n",
              "      padding: 0 0 0 0;\n",
              "      width: 32px;\n",
              "    }\n",
              "\n",
              "    .colab-df-convert:hover {\n",
              "      background-color: #E2EBFA;\n",
              "      box-shadow: 0px 1px 2px rgba(60, 64, 67, 0.3), 0px 1px 3px 1px rgba(60, 64, 67, 0.15);\n",
              "      fill: #174EA6;\n",
              "    }\n",
              "\n",
              "    .colab-df-buttons div {\n",
              "      margin-bottom: 4px;\n",
              "    }\n",
              "\n",
              "    [theme=dark] .colab-df-convert {\n",
              "      background-color: #3B4455;\n",
              "      fill: #D2E3FC;\n",
              "    }\n",
              "\n",
              "    [theme=dark] .colab-df-convert:hover {\n",
              "      background-color: #434B5C;\n",
              "      box-shadow: 0px 1px 3px 1px rgba(0, 0, 0, 0.15);\n",
              "      filter: drop-shadow(0px 1px 2px rgba(0, 0, 0, 0.3));\n",
              "      fill: #FFFFFF;\n",
              "    }\n",
              "  </style>\n",
              "\n",
              "    <script>\n",
              "      const buttonEl =\n",
              "        document.querySelector('#df-132a56a1-12fe-482c-94d7-7775307e32d5 button.colab-df-convert');\n",
              "      buttonEl.style.display =\n",
              "        google.colab.kernel.accessAllowed ? 'block' : 'none';\n",
              "\n",
              "      async function convertToInteractive(key) {\n",
              "        const element = document.querySelector('#df-132a56a1-12fe-482c-94d7-7775307e32d5');\n",
              "        const dataTable =\n",
              "          await google.colab.kernel.invokeFunction('convertToInteractive',\n",
              "                                                    [key], {});\n",
              "        if (!dataTable) return;\n",
              "\n",
              "        const docLinkHtml = 'Like what you see? Visit the ' +\n",
              "          '<a target=\"_blank\" href=https://colab.research.google.com/notebooks/data_table.ipynb>data table notebook</a>'\n",
              "          + ' to learn more about interactive tables.';\n",
              "        element.innerHTML = '';\n",
              "        dataTable['output_type'] = 'display_data';\n",
              "        await google.colab.output.renderOutput(dataTable, element);\n",
              "        const docLink = document.createElement('div');\n",
              "        docLink.innerHTML = docLinkHtml;\n",
              "        element.appendChild(docLink);\n",
              "      }\n",
              "    </script>\n",
              "  </div>\n",
              "\n",
              "\n",
              "    <div id=\"df-3193e21b-c5eb-45bd-9792-21a2fc693901\">\n",
              "      <button class=\"colab-df-quickchart\" onclick=\"quickchart('df-3193e21b-c5eb-45bd-9792-21a2fc693901')\"\n",
              "                title=\"Suggest charts\"\n",
              "                style=\"display:none;\">\n",
              "\n",
              "<svg xmlns=\"http://www.w3.org/2000/svg\" height=\"24px\"viewBox=\"0 0 24 24\"\n",
              "     width=\"24px\">\n",
              "    <g>\n",
              "        <path d=\"M19 3H5c-1.1 0-2 .9-2 2v14c0 1.1.9 2 2 2h14c1.1 0 2-.9 2-2V5c0-1.1-.9-2-2-2zM9 17H7v-7h2v7zm4 0h-2V7h2v10zm4 0h-2v-4h2v4z\"/>\n",
              "    </g>\n",
              "</svg>\n",
              "      </button>\n",
              "\n",
              "<style>\n",
              "  .colab-df-quickchart {\n",
              "      --bg-color: #E8F0FE;\n",
              "      --fill-color: #1967D2;\n",
              "      --hover-bg-color: #E2EBFA;\n",
              "      --hover-fill-color: #174EA6;\n",
              "      --disabled-fill-color: #AAA;\n",
              "      --disabled-bg-color: #DDD;\n",
              "  }\n",
              "\n",
              "  [theme=dark] .colab-df-quickchart {\n",
              "      --bg-color: #3B4455;\n",
              "      --fill-color: #D2E3FC;\n",
              "      --hover-bg-color: #434B5C;\n",
              "      --hover-fill-color: #FFFFFF;\n",
              "      --disabled-bg-color: #3B4455;\n",
              "      --disabled-fill-color: #666;\n",
              "  }\n",
              "\n",
              "  .colab-df-quickchart {\n",
              "    background-color: var(--bg-color);\n",
              "    border: none;\n",
              "    border-radius: 50%;\n",
              "    cursor: pointer;\n",
              "    display: none;\n",
              "    fill: var(--fill-color);\n",
              "    height: 32px;\n",
              "    padding: 0;\n",
              "    width: 32px;\n",
              "  }\n",
              "\n",
              "  .colab-df-quickchart:hover {\n",
              "    background-color: var(--hover-bg-color);\n",
              "    box-shadow: 0 1px 2px rgba(60, 64, 67, 0.3), 0 1px 3px 1px rgba(60, 64, 67, 0.15);\n",
              "    fill: var(--button-hover-fill-color);\n",
              "  }\n",
              "\n",
              "  .colab-df-quickchart-complete:disabled,\n",
              "  .colab-df-quickchart-complete:disabled:hover {\n",
              "    background-color: var(--disabled-bg-color);\n",
              "    fill: var(--disabled-fill-color);\n",
              "    box-shadow: none;\n",
              "  }\n",
              "\n",
              "  .colab-df-spinner {\n",
              "    border: 2px solid var(--fill-color);\n",
              "    border-color: transparent;\n",
              "    border-bottom-color: var(--fill-color);\n",
              "    animation:\n",
              "      spin 1s steps(1) infinite;\n",
              "  }\n",
              "\n",
              "  @keyframes spin {\n",
              "    0% {\n",
              "      border-color: transparent;\n",
              "      border-bottom-color: var(--fill-color);\n",
              "      border-left-color: var(--fill-color);\n",
              "    }\n",
              "    20% {\n",
              "      border-color: transparent;\n",
              "      border-left-color: var(--fill-color);\n",
              "      border-top-color: var(--fill-color);\n",
              "    }\n",
              "    30% {\n",
              "      border-color: transparent;\n",
              "      border-left-color: var(--fill-color);\n",
              "      border-top-color: var(--fill-color);\n",
              "      border-right-color: var(--fill-color);\n",
              "    }\n",
              "    40% {\n",
              "      border-color: transparent;\n",
              "      border-right-color: var(--fill-color);\n",
              "      border-top-color: var(--fill-color);\n",
              "    }\n",
              "    60% {\n",
              "      border-color: transparent;\n",
              "      border-right-color: var(--fill-color);\n",
              "    }\n",
              "    80% {\n",
              "      border-color: transparent;\n",
              "      border-right-color: var(--fill-color);\n",
              "      border-bottom-color: var(--fill-color);\n",
              "    }\n",
              "    90% {\n",
              "      border-color: transparent;\n",
              "      border-bottom-color: var(--fill-color);\n",
              "    }\n",
              "  }\n",
              "</style>\n",
              "\n",
              "      <script>\n",
              "        async function quickchart(key) {\n",
              "          const quickchartButtonEl =\n",
              "            document.querySelector('#' + key + ' button');\n",
              "          quickchartButtonEl.disabled = true;  // To prevent multiple clicks.\n",
              "          quickchartButtonEl.classList.add('colab-df-spinner');\n",
              "          try {\n",
              "            const charts = await google.colab.kernel.invokeFunction(\n",
              "                'suggestCharts', [key], {});\n",
              "          } catch (error) {\n",
              "            console.error('Error during call to suggestCharts:', error);\n",
              "          }\n",
              "          quickchartButtonEl.classList.remove('colab-df-spinner');\n",
              "          quickchartButtonEl.classList.add('colab-df-quickchart-complete');\n",
              "        }\n",
              "        (() => {\n",
              "          let quickchartButtonEl =\n",
              "            document.querySelector('#df-3193e21b-c5eb-45bd-9792-21a2fc693901 button');\n",
              "          quickchartButtonEl.style.display =\n",
              "            google.colab.kernel.accessAllowed ? 'block' : 'none';\n",
              "        })();\n",
              "      </script>\n",
              "    </div>\n",
              "\n",
              "    </div>\n",
              "  </div>\n"
            ],
            "application/vnd.google.colaboratory.intrinsic+json": {
              "type": "dataframe",
              "summary": "{\n  \"name\": \"df\",\n  \"rows\": 2,\n  \"fields\": [\n    {\n      \"column\": \"#_Paciente\",\n      \"properties\": {\n        \"dtype\": \"number\",\n        \"std\": 246,\n        \"min\": 364,\n        \"max\": 712,\n        \"num_unique_values\": 2,\n        \"samples\": [\n          712,\n          364\n        ],\n        \"semantic_type\": \"\",\n        \"description\": \"\"\n      }\n    },\n    {\n      \"column\": \"D\\u00edas_Desde_Tx#1\",\n      \"properties\": {\n        \"dtype\": \"number\",\n        \"std\": null,\n        \"min\": null,\n        \"max\": null,\n        \"num_unique_values\": 0,\n        \"samples\": [],\n        \"semantic_type\": \"\",\n        \"description\": \"\"\n      }\n    },\n    {\n      \"column\": \"D\\u00edas_Desde_Tx#1_calculada\",\n      \"properties\": {\n        \"dtype\": \"number\",\n        \"std\": 2494.67272402614,\n        \"min\": 2.0,\n        \"max\": 3530.0,\n        \"num_unique_values\": 2,\n        \"samples\": [],\n        \"semantic_type\": \"\",\n        \"description\": \"\"\n      }\n    },\n    {\n      \"column\": \"Fecha_Tx\",\n      \"properties\": {\n        \"dtype\": \"date\",\n        \"min\": \"2014-10-06 00:00:00\",\n        \"max\": \"2024-07-17 00:00:00\",\n        \"num_unique_values\": 2,\n        \"samples\": [],\n        \"semantic_type\": \"\",\n        \"description\": \"\"\n      }\n    },\n    {\n      \"column\": \"Fecha_Tx#2\",\n      \"properties\": {\n        \"dtype\": \"date\",\n        \"min\": \"2024-06-05 00:00:00\",\n        \"max\": \"2024-07-19 00:00:00\",\n        \"num_unique_values\": 2,\n        \"samples\": [],\n        \"semantic_type\": \"\",\n        \"description\": \"\"\n      }\n    }\n  ]\n}"
            }
          },
          "metadata": {},
          "execution_count": 574
        }
      ],
      "source": [
        "df.loc[(df['Días_Desde_Tx#1']!=df['Días_Desde_Tx#1_calculada']) & df['Días_Desde_Tx#1_calculada'].notna()][['Días_Desde_Tx#1', 'Días_Desde_Tx#1_calculada', 'Fecha_Tx', 'Fecha_Tx#2']]"
      ]
    },
    {
      "cell_type": "code",
      "execution_count": 575,
      "id": "65518742",
      "metadata": {
        "id": "65518742"
      },
      "outputs": [],
      "source": [
        "df['Días_Desde_Tx#1'] = df['Días_Desde_Tx#1_calculada']"
      ]
    },
    {
      "cell_type": "markdown",
      "id": "d1620339",
      "metadata": {
        "id": "d1620339"
      },
      "source": [
        "### Re_Re trasplante"
      ]
    },
    {
      "cell_type": "code",
      "execution_count": 576,
      "id": "f2abeb96",
      "metadata": {
        "id": "f2abeb96",
        "outputId": "1fba1ca5-8e41-4bde-f2fd-af12f0f19b8a",
        "colab": {
          "base_uri": "https://localhost:8080/"
        }
      },
      "outputs": [
        {
          "output_type": "stream",
          "name": "stdout",
          "text": [
            "count    731.000000\n",
            "mean       0.002736\n",
            "std        0.052271\n",
            "min        0.000000\n",
            "25%        0.000000\n",
            "50%        0.000000\n",
            "75%        0.000000\n",
            "max        1.000000\n",
            "Name: Re_Re trasplante, dtype: float64\n",
            "--------------------\n",
            "Número de datos nulos: 5\n",
            "--------------------\n",
            "Re_Re trasplante\n",
            "0.0    729\n",
            "NaN      5\n",
            "1.0      2\n",
            "Name: count, dtype: int64\n"
          ]
        }
      ],
      "source": [
        "ver_datos(df, 'Re_Re trasplante', True)"
      ]
    },
    {
      "cell_type": "code",
      "execution_count": 577,
      "id": "6efe1fe7",
      "metadata": {
        "id": "6efe1fe7",
        "outputId": "19dcc821-00eb-4749-f2ac-68eaef44d58b",
        "colab": {
          "base_uri": "https://localhost:8080/",
          "height": 1000
        }
      },
      "outputs": [
        {
          "output_type": "execute_result",
          "data": {
            "text/plain": [
              "             Fecha_Tx Fecha_Tx#2  Días_Desde_Tx#1  Días_Desde_Tx#1_calculada  \\\n",
              "#_Paciente                                                                     \n",
              "35         2002-12-02 2006-06-17           1293.0                     1293.0   \n",
              "52         2004-06-29 2004-07-25             26.0                       26.0   \n",
              "69         2005-10-16 2005-11-02             17.0                       17.0   \n",
              "81         2006-07-11 2006-12-06            148.0                      148.0   \n",
              "153        2008-12-26 2009-01-08             13.0                       13.0   \n",
              "164        2009-03-30 2009-04-03              4.0                        4.0   \n",
              "181        2009-08-13 2009-08-18              5.0                        5.0   \n",
              "185        2009-09-18 2009-09-20              2.0                        2.0   \n",
              "195        2009-11-25 2009-11-26              1.0                        1.0   \n",
              "196        2009-12-02 2009-12-05              3.0                        3.0   \n",
              "197        2009-12-16 2009-12-27             11.0                       11.0   \n",
              "203        2010-03-24 2010-03-26              2.0                        2.0   \n",
              "212        2010-05-25 2010-06-04             10.0                       10.0   \n",
              "214        2010-06-24 2010-06-27              3.0                        3.0   \n",
              "219        2010-08-14 2010-08-16              2.0                        2.0   \n",
              "236        2010-12-11 2010-12-12              1.0                        1.0   \n",
              "245        2011-03-16 2011-03-17              1.0                        1.0   \n",
              "272        2011-12-14 2011-12-16              2.0                        2.0   \n",
              "303        2012-10-21 2012-10-29              8.0                        8.0   \n",
              "347        2014-03-03 2014-03-04              1.0                        1.0   \n",
              "348        2014-03-20 2014-04-21             32.0                       32.0   \n",
              "361        2014-08-28 2014-09-01              4.0                        4.0   \n",
              "364        2014-10-06 2024-06-05           3530.0                     3530.0   \n",
              "378        2015-02-28 2015-04-12             43.0                       43.0   \n",
              "382        2015-03-23 2015-03-26              3.0                        3.0   \n",
              "403        2015-09-18 2015-10-11             23.0                       23.0   \n",
              "404        2015-09-20 2015-09-23              3.0                        3.0   \n",
              "409        2015-11-12 2015-11-21              9.0                        9.0   \n",
              "422        2016-02-23 2016-02-25              2.0                        2.0   \n",
              "444        2016-09-22 2016-10-16             24.0                       24.0   \n",
              "492        2017-06-26 2017-06-30              4.0                        4.0   \n",
              "495        2017-07-08 2017-07-10              2.0                        2.0   \n",
              "533        2018-06-29 2018-06-30              1.0                        1.0   \n",
              "537        2018-07-26 2018-07-29              3.0                        3.0   \n",
              "563        2019-05-04 2019-05-07              3.0                        3.0   \n",
              "584        2019-12-16 2019-12-18              2.0                        2.0   \n",
              "603        2021-04-01 2021-04-03              2.0                        2.0   \n",
              "606        2021-06-25 2021-06-25              0.0                        0.0   \n",
              "610        2021-09-19 2021-10-09             20.0                       20.0   \n",
              "648        2022-11-23 2022-11-24              1.0                        1.0   \n",
              "649        2022-12-08 2022-12-09              1.0                        1.0   \n",
              "655        2023-02-10 2023-07-19            159.0                      159.0   \n",
              "712        2024-07-17 2024-07-19              2.0                        2.0   \n",
              "729        2025-02-25 2025-03-04              7.0                        7.0   \n",
              "\n",
              "            Re_Re trasplante  \n",
              "#_Paciente                    \n",
              "35                       0.0  \n",
              "52                       0.0  \n",
              "69                       0.0  \n",
              "81                       0.0  \n",
              "153                      0.0  \n",
              "164                      0.0  \n",
              "181                      0.0  \n",
              "185                      0.0  \n",
              "195                      0.0  \n",
              "196                      0.0  \n",
              "197                      0.0  \n",
              "203                      0.0  \n",
              "212                      0.0  \n",
              "214                      0.0  \n",
              "219                      0.0  \n",
              "236                      1.0  \n",
              "245                      0.0  \n",
              "272                      0.0  \n",
              "303                      0.0  \n",
              "347                      0.0  \n",
              "348                      0.0  \n",
              "361                      0.0  \n",
              "364                      0.0  \n",
              "378                      0.0  \n",
              "382                      0.0  \n",
              "403                      0.0  \n",
              "404                      0.0  \n",
              "409                      0.0  \n",
              "422                      0.0  \n",
              "444                      0.0  \n",
              "492                      0.0  \n",
              "495                      0.0  \n",
              "533                      0.0  \n",
              "537                      0.0  \n",
              "563                      0.0  \n",
              "584                      0.0  \n",
              "603                      0.0  \n",
              "606                      0.0  \n",
              "610                      0.0  \n",
              "648                      1.0  \n",
              "649                      0.0  \n",
              "655                      0.0  \n",
              "712                      0.0  \n",
              "729                      0.0  "
            ],
            "text/html": [
              "\n",
              "  <div id=\"df-8451a0eb-d1eb-42a4-b3ba-c11ff1a3ac1a\" class=\"colab-df-container\">\n",
              "    <div>\n",
              "<style scoped>\n",
              "    .dataframe tbody tr th:only-of-type {\n",
              "        vertical-align: middle;\n",
              "    }\n",
              "\n",
              "    .dataframe tbody tr th {\n",
              "        vertical-align: top;\n",
              "    }\n",
              "\n",
              "    .dataframe thead th {\n",
              "        text-align: right;\n",
              "    }\n",
              "</style>\n",
              "<table border=\"1\" class=\"dataframe\">\n",
              "  <thead>\n",
              "    <tr style=\"text-align: right;\">\n",
              "      <th></th>\n",
              "      <th>Fecha_Tx</th>\n",
              "      <th>Fecha_Tx#2</th>\n",
              "      <th>Días_Desde_Tx#1</th>\n",
              "      <th>Días_Desde_Tx#1_calculada</th>\n",
              "      <th>Re_Re trasplante</th>\n",
              "    </tr>\n",
              "    <tr>\n",
              "      <th>#_Paciente</th>\n",
              "      <th></th>\n",
              "      <th></th>\n",
              "      <th></th>\n",
              "      <th></th>\n",
              "      <th></th>\n",
              "    </tr>\n",
              "  </thead>\n",
              "  <tbody>\n",
              "    <tr>\n",
              "      <th>35</th>\n",
              "      <td>2002-12-02</td>\n",
              "      <td>2006-06-17</td>\n",
              "      <td>1293.0</td>\n",
              "      <td>1293.0</td>\n",
              "      <td>0.0</td>\n",
              "    </tr>\n",
              "    <tr>\n",
              "      <th>52</th>\n",
              "      <td>2004-06-29</td>\n",
              "      <td>2004-07-25</td>\n",
              "      <td>26.0</td>\n",
              "      <td>26.0</td>\n",
              "      <td>0.0</td>\n",
              "    </tr>\n",
              "    <tr>\n",
              "      <th>69</th>\n",
              "      <td>2005-10-16</td>\n",
              "      <td>2005-11-02</td>\n",
              "      <td>17.0</td>\n",
              "      <td>17.0</td>\n",
              "      <td>0.0</td>\n",
              "    </tr>\n",
              "    <tr>\n",
              "      <th>81</th>\n",
              "      <td>2006-07-11</td>\n",
              "      <td>2006-12-06</td>\n",
              "      <td>148.0</td>\n",
              "      <td>148.0</td>\n",
              "      <td>0.0</td>\n",
              "    </tr>\n",
              "    <tr>\n",
              "      <th>153</th>\n",
              "      <td>2008-12-26</td>\n",
              "      <td>2009-01-08</td>\n",
              "      <td>13.0</td>\n",
              "      <td>13.0</td>\n",
              "      <td>0.0</td>\n",
              "    </tr>\n",
              "    <tr>\n",
              "      <th>164</th>\n",
              "      <td>2009-03-30</td>\n",
              "      <td>2009-04-03</td>\n",
              "      <td>4.0</td>\n",
              "      <td>4.0</td>\n",
              "      <td>0.0</td>\n",
              "    </tr>\n",
              "    <tr>\n",
              "      <th>181</th>\n",
              "      <td>2009-08-13</td>\n",
              "      <td>2009-08-18</td>\n",
              "      <td>5.0</td>\n",
              "      <td>5.0</td>\n",
              "      <td>0.0</td>\n",
              "    </tr>\n",
              "    <tr>\n",
              "      <th>185</th>\n",
              "      <td>2009-09-18</td>\n",
              "      <td>2009-09-20</td>\n",
              "      <td>2.0</td>\n",
              "      <td>2.0</td>\n",
              "      <td>0.0</td>\n",
              "    </tr>\n",
              "    <tr>\n",
              "      <th>195</th>\n",
              "      <td>2009-11-25</td>\n",
              "      <td>2009-11-26</td>\n",
              "      <td>1.0</td>\n",
              "      <td>1.0</td>\n",
              "      <td>0.0</td>\n",
              "    </tr>\n",
              "    <tr>\n",
              "      <th>196</th>\n",
              "      <td>2009-12-02</td>\n",
              "      <td>2009-12-05</td>\n",
              "      <td>3.0</td>\n",
              "      <td>3.0</td>\n",
              "      <td>0.0</td>\n",
              "    </tr>\n",
              "    <tr>\n",
              "      <th>197</th>\n",
              "      <td>2009-12-16</td>\n",
              "      <td>2009-12-27</td>\n",
              "      <td>11.0</td>\n",
              "      <td>11.0</td>\n",
              "      <td>0.0</td>\n",
              "    </tr>\n",
              "    <tr>\n",
              "      <th>203</th>\n",
              "      <td>2010-03-24</td>\n",
              "      <td>2010-03-26</td>\n",
              "      <td>2.0</td>\n",
              "      <td>2.0</td>\n",
              "      <td>0.0</td>\n",
              "    </tr>\n",
              "    <tr>\n",
              "      <th>212</th>\n",
              "      <td>2010-05-25</td>\n",
              "      <td>2010-06-04</td>\n",
              "      <td>10.0</td>\n",
              "      <td>10.0</td>\n",
              "      <td>0.0</td>\n",
              "    </tr>\n",
              "    <tr>\n",
              "      <th>214</th>\n",
              "      <td>2010-06-24</td>\n",
              "      <td>2010-06-27</td>\n",
              "      <td>3.0</td>\n",
              "      <td>3.0</td>\n",
              "      <td>0.0</td>\n",
              "    </tr>\n",
              "    <tr>\n",
              "      <th>219</th>\n",
              "      <td>2010-08-14</td>\n",
              "      <td>2010-08-16</td>\n",
              "      <td>2.0</td>\n",
              "      <td>2.0</td>\n",
              "      <td>0.0</td>\n",
              "    </tr>\n",
              "    <tr>\n",
              "      <th>236</th>\n",
              "      <td>2010-12-11</td>\n",
              "      <td>2010-12-12</td>\n",
              "      <td>1.0</td>\n",
              "      <td>1.0</td>\n",
              "      <td>1.0</td>\n",
              "    </tr>\n",
              "    <tr>\n",
              "      <th>245</th>\n",
              "      <td>2011-03-16</td>\n",
              "      <td>2011-03-17</td>\n",
              "      <td>1.0</td>\n",
              "      <td>1.0</td>\n",
              "      <td>0.0</td>\n",
              "    </tr>\n",
              "    <tr>\n",
              "      <th>272</th>\n",
              "      <td>2011-12-14</td>\n",
              "      <td>2011-12-16</td>\n",
              "      <td>2.0</td>\n",
              "      <td>2.0</td>\n",
              "      <td>0.0</td>\n",
              "    </tr>\n",
              "    <tr>\n",
              "      <th>303</th>\n",
              "      <td>2012-10-21</td>\n",
              "      <td>2012-10-29</td>\n",
              "      <td>8.0</td>\n",
              "      <td>8.0</td>\n",
              "      <td>0.0</td>\n",
              "    </tr>\n",
              "    <tr>\n",
              "      <th>347</th>\n",
              "      <td>2014-03-03</td>\n",
              "      <td>2014-03-04</td>\n",
              "      <td>1.0</td>\n",
              "      <td>1.0</td>\n",
              "      <td>0.0</td>\n",
              "    </tr>\n",
              "    <tr>\n",
              "      <th>348</th>\n",
              "      <td>2014-03-20</td>\n",
              "      <td>2014-04-21</td>\n",
              "      <td>32.0</td>\n",
              "      <td>32.0</td>\n",
              "      <td>0.0</td>\n",
              "    </tr>\n",
              "    <tr>\n",
              "      <th>361</th>\n",
              "      <td>2014-08-28</td>\n",
              "      <td>2014-09-01</td>\n",
              "      <td>4.0</td>\n",
              "      <td>4.0</td>\n",
              "      <td>0.0</td>\n",
              "    </tr>\n",
              "    <tr>\n",
              "      <th>364</th>\n",
              "      <td>2014-10-06</td>\n",
              "      <td>2024-06-05</td>\n",
              "      <td>3530.0</td>\n",
              "      <td>3530.0</td>\n",
              "      <td>0.0</td>\n",
              "    </tr>\n",
              "    <tr>\n",
              "      <th>378</th>\n",
              "      <td>2015-02-28</td>\n",
              "      <td>2015-04-12</td>\n",
              "      <td>43.0</td>\n",
              "      <td>43.0</td>\n",
              "      <td>0.0</td>\n",
              "    </tr>\n",
              "    <tr>\n",
              "      <th>382</th>\n",
              "      <td>2015-03-23</td>\n",
              "      <td>2015-03-26</td>\n",
              "      <td>3.0</td>\n",
              "      <td>3.0</td>\n",
              "      <td>0.0</td>\n",
              "    </tr>\n",
              "    <tr>\n",
              "      <th>403</th>\n",
              "      <td>2015-09-18</td>\n",
              "      <td>2015-10-11</td>\n",
              "      <td>23.0</td>\n",
              "      <td>23.0</td>\n",
              "      <td>0.0</td>\n",
              "    </tr>\n",
              "    <tr>\n",
              "      <th>404</th>\n",
              "      <td>2015-09-20</td>\n",
              "      <td>2015-09-23</td>\n",
              "      <td>3.0</td>\n",
              "      <td>3.0</td>\n",
              "      <td>0.0</td>\n",
              "    </tr>\n",
              "    <tr>\n",
              "      <th>409</th>\n",
              "      <td>2015-11-12</td>\n",
              "      <td>2015-11-21</td>\n",
              "      <td>9.0</td>\n",
              "      <td>9.0</td>\n",
              "      <td>0.0</td>\n",
              "    </tr>\n",
              "    <tr>\n",
              "      <th>422</th>\n",
              "      <td>2016-02-23</td>\n",
              "      <td>2016-02-25</td>\n",
              "      <td>2.0</td>\n",
              "      <td>2.0</td>\n",
              "      <td>0.0</td>\n",
              "    </tr>\n",
              "    <tr>\n",
              "      <th>444</th>\n",
              "      <td>2016-09-22</td>\n",
              "      <td>2016-10-16</td>\n",
              "      <td>24.0</td>\n",
              "      <td>24.0</td>\n",
              "      <td>0.0</td>\n",
              "    </tr>\n",
              "    <tr>\n",
              "      <th>492</th>\n",
              "      <td>2017-06-26</td>\n",
              "      <td>2017-06-30</td>\n",
              "      <td>4.0</td>\n",
              "      <td>4.0</td>\n",
              "      <td>0.0</td>\n",
              "    </tr>\n",
              "    <tr>\n",
              "      <th>495</th>\n",
              "      <td>2017-07-08</td>\n",
              "      <td>2017-07-10</td>\n",
              "      <td>2.0</td>\n",
              "      <td>2.0</td>\n",
              "      <td>0.0</td>\n",
              "    </tr>\n",
              "    <tr>\n",
              "      <th>533</th>\n",
              "      <td>2018-06-29</td>\n",
              "      <td>2018-06-30</td>\n",
              "      <td>1.0</td>\n",
              "      <td>1.0</td>\n",
              "      <td>0.0</td>\n",
              "    </tr>\n",
              "    <tr>\n",
              "      <th>537</th>\n",
              "      <td>2018-07-26</td>\n",
              "      <td>2018-07-29</td>\n",
              "      <td>3.0</td>\n",
              "      <td>3.0</td>\n",
              "      <td>0.0</td>\n",
              "    </tr>\n",
              "    <tr>\n",
              "      <th>563</th>\n",
              "      <td>2019-05-04</td>\n",
              "      <td>2019-05-07</td>\n",
              "      <td>3.0</td>\n",
              "      <td>3.0</td>\n",
              "      <td>0.0</td>\n",
              "    </tr>\n",
              "    <tr>\n",
              "      <th>584</th>\n",
              "      <td>2019-12-16</td>\n",
              "      <td>2019-12-18</td>\n",
              "      <td>2.0</td>\n",
              "      <td>2.0</td>\n",
              "      <td>0.0</td>\n",
              "    </tr>\n",
              "    <tr>\n",
              "      <th>603</th>\n",
              "      <td>2021-04-01</td>\n",
              "      <td>2021-04-03</td>\n",
              "      <td>2.0</td>\n",
              "      <td>2.0</td>\n",
              "      <td>0.0</td>\n",
              "    </tr>\n",
              "    <tr>\n",
              "      <th>606</th>\n",
              "      <td>2021-06-25</td>\n",
              "      <td>2021-06-25</td>\n",
              "      <td>0.0</td>\n",
              "      <td>0.0</td>\n",
              "      <td>0.0</td>\n",
              "    </tr>\n",
              "    <tr>\n",
              "      <th>610</th>\n",
              "      <td>2021-09-19</td>\n",
              "      <td>2021-10-09</td>\n",
              "      <td>20.0</td>\n",
              "      <td>20.0</td>\n",
              "      <td>0.0</td>\n",
              "    </tr>\n",
              "    <tr>\n",
              "      <th>648</th>\n",
              "      <td>2022-11-23</td>\n",
              "      <td>2022-11-24</td>\n",
              "      <td>1.0</td>\n",
              "      <td>1.0</td>\n",
              "      <td>1.0</td>\n",
              "    </tr>\n",
              "    <tr>\n",
              "      <th>649</th>\n",
              "      <td>2022-12-08</td>\n",
              "      <td>2022-12-09</td>\n",
              "      <td>1.0</td>\n",
              "      <td>1.0</td>\n",
              "      <td>0.0</td>\n",
              "    </tr>\n",
              "    <tr>\n",
              "      <th>655</th>\n",
              "      <td>2023-02-10</td>\n",
              "      <td>2023-07-19</td>\n",
              "      <td>159.0</td>\n",
              "      <td>159.0</td>\n",
              "      <td>0.0</td>\n",
              "    </tr>\n",
              "    <tr>\n",
              "      <th>712</th>\n",
              "      <td>2024-07-17</td>\n",
              "      <td>2024-07-19</td>\n",
              "      <td>2.0</td>\n",
              "      <td>2.0</td>\n",
              "      <td>0.0</td>\n",
              "    </tr>\n",
              "    <tr>\n",
              "      <th>729</th>\n",
              "      <td>2025-02-25</td>\n",
              "      <td>2025-03-04</td>\n",
              "      <td>7.0</td>\n",
              "      <td>7.0</td>\n",
              "      <td>0.0</td>\n",
              "    </tr>\n",
              "  </tbody>\n",
              "</table>\n",
              "</div>\n",
              "    <div class=\"colab-df-buttons\">\n",
              "\n",
              "  <div class=\"colab-df-container\">\n",
              "    <button class=\"colab-df-convert\" onclick=\"convertToInteractive('df-8451a0eb-d1eb-42a4-b3ba-c11ff1a3ac1a')\"\n",
              "            title=\"Convert this dataframe to an interactive table.\"\n",
              "            style=\"display:none;\">\n",
              "\n",
              "  <svg xmlns=\"http://www.w3.org/2000/svg\" height=\"24px\" viewBox=\"0 -960 960 960\">\n",
              "    <path d=\"M120-120v-720h720v720H120Zm60-500h600v-160H180v160Zm220 220h160v-160H400v160Zm0 220h160v-160H400v160ZM180-400h160v-160H180v160Zm440 0h160v-160H620v160ZM180-180h160v-160H180v160Zm440 0h160v-160H620v160Z\"/>\n",
              "  </svg>\n",
              "    </button>\n",
              "\n",
              "  <style>\n",
              "    .colab-df-container {\n",
              "      display:flex;\n",
              "      gap: 12px;\n",
              "    }\n",
              "\n",
              "    .colab-df-convert {\n",
              "      background-color: #E8F0FE;\n",
              "      border: none;\n",
              "      border-radius: 50%;\n",
              "      cursor: pointer;\n",
              "      display: none;\n",
              "      fill: #1967D2;\n",
              "      height: 32px;\n",
              "      padding: 0 0 0 0;\n",
              "      width: 32px;\n",
              "    }\n",
              "\n",
              "    .colab-df-convert:hover {\n",
              "      background-color: #E2EBFA;\n",
              "      box-shadow: 0px 1px 2px rgba(60, 64, 67, 0.3), 0px 1px 3px 1px rgba(60, 64, 67, 0.15);\n",
              "      fill: #174EA6;\n",
              "    }\n",
              "\n",
              "    .colab-df-buttons div {\n",
              "      margin-bottom: 4px;\n",
              "    }\n",
              "\n",
              "    [theme=dark] .colab-df-convert {\n",
              "      background-color: #3B4455;\n",
              "      fill: #D2E3FC;\n",
              "    }\n",
              "\n",
              "    [theme=dark] .colab-df-convert:hover {\n",
              "      background-color: #434B5C;\n",
              "      box-shadow: 0px 1px 3px 1px rgba(0, 0, 0, 0.15);\n",
              "      filter: drop-shadow(0px 1px 2px rgba(0, 0, 0, 0.3));\n",
              "      fill: #FFFFFF;\n",
              "    }\n",
              "  </style>\n",
              "\n",
              "    <script>\n",
              "      const buttonEl =\n",
              "        document.querySelector('#df-8451a0eb-d1eb-42a4-b3ba-c11ff1a3ac1a button.colab-df-convert');\n",
              "      buttonEl.style.display =\n",
              "        google.colab.kernel.accessAllowed ? 'block' : 'none';\n",
              "\n",
              "      async function convertToInteractive(key) {\n",
              "        const element = document.querySelector('#df-8451a0eb-d1eb-42a4-b3ba-c11ff1a3ac1a');\n",
              "        const dataTable =\n",
              "          await google.colab.kernel.invokeFunction('convertToInteractive',\n",
              "                                                    [key], {});\n",
              "        if (!dataTable) return;\n",
              "\n",
              "        const docLinkHtml = 'Like what you see? Visit the ' +\n",
              "          '<a target=\"_blank\" href=https://colab.research.google.com/notebooks/data_table.ipynb>data table notebook</a>'\n",
              "          + ' to learn more about interactive tables.';\n",
              "        element.innerHTML = '';\n",
              "        dataTable['output_type'] = 'display_data';\n",
              "        await google.colab.output.renderOutput(dataTable, element);\n",
              "        const docLink = document.createElement('div');\n",
              "        docLink.innerHTML = docLinkHtml;\n",
              "        element.appendChild(docLink);\n",
              "      }\n",
              "    </script>\n",
              "  </div>\n",
              "\n",
              "\n",
              "    <div id=\"df-a0bb5182-3a3d-4370-a4bf-a9de4e484ab6\">\n",
              "      <button class=\"colab-df-quickchart\" onclick=\"quickchart('df-a0bb5182-3a3d-4370-a4bf-a9de4e484ab6')\"\n",
              "                title=\"Suggest charts\"\n",
              "                style=\"display:none;\">\n",
              "\n",
              "<svg xmlns=\"http://www.w3.org/2000/svg\" height=\"24px\"viewBox=\"0 0 24 24\"\n",
              "     width=\"24px\">\n",
              "    <g>\n",
              "        <path d=\"M19 3H5c-1.1 0-2 .9-2 2v14c0 1.1.9 2 2 2h14c1.1 0 2-.9 2-2V5c0-1.1-.9-2-2-2zM9 17H7v-7h2v7zm4 0h-2V7h2v10zm4 0h-2v-4h2v4z\"/>\n",
              "    </g>\n",
              "</svg>\n",
              "      </button>\n",
              "\n",
              "<style>\n",
              "  .colab-df-quickchart {\n",
              "      --bg-color: #E8F0FE;\n",
              "      --fill-color: #1967D2;\n",
              "      --hover-bg-color: #E2EBFA;\n",
              "      --hover-fill-color: #174EA6;\n",
              "      --disabled-fill-color: #AAA;\n",
              "      --disabled-bg-color: #DDD;\n",
              "  }\n",
              "\n",
              "  [theme=dark] .colab-df-quickchart {\n",
              "      --bg-color: #3B4455;\n",
              "      --fill-color: #D2E3FC;\n",
              "      --hover-bg-color: #434B5C;\n",
              "      --hover-fill-color: #FFFFFF;\n",
              "      --disabled-bg-color: #3B4455;\n",
              "      --disabled-fill-color: #666;\n",
              "  }\n",
              "\n",
              "  .colab-df-quickchart {\n",
              "    background-color: var(--bg-color);\n",
              "    border: none;\n",
              "    border-radius: 50%;\n",
              "    cursor: pointer;\n",
              "    display: none;\n",
              "    fill: var(--fill-color);\n",
              "    height: 32px;\n",
              "    padding: 0;\n",
              "    width: 32px;\n",
              "  }\n",
              "\n",
              "  .colab-df-quickchart:hover {\n",
              "    background-color: var(--hover-bg-color);\n",
              "    box-shadow: 0 1px 2px rgba(60, 64, 67, 0.3), 0 1px 3px 1px rgba(60, 64, 67, 0.15);\n",
              "    fill: var(--button-hover-fill-color);\n",
              "  }\n",
              "\n",
              "  .colab-df-quickchart-complete:disabled,\n",
              "  .colab-df-quickchart-complete:disabled:hover {\n",
              "    background-color: var(--disabled-bg-color);\n",
              "    fill: var(--disabled-fill-color);\n",
              "    box-shadow: none;\n",
              "  }\n",
              "\n",
              "  .colab-df-spinner {\n",
              "    border: 2px solid var(--fill-color);\n",
              "    border-color: transparent;\n",
              "    border-bottom-color: var(--fill-color);\n",
              "    animation:\n",
              "      spin 1s steps(1) infinite;\n",
              "  }\n",
              "\n",
              "  @keyframes spin {\n",
              "    0% {\n",
              "      border-color: transparent;\n",
              "      border-bottom-color: var(--fill-color);\n",
              "      border-left-color: var(--fill-color);\n",
              "    }\n",
              "    20% {\n",
              "      border-color: transparent;\n",
              "      border-left-color: var(--fill-color);\n",
              "      border-top-color: var(--fill-color);\n",
              "    }\n",
              "    30% {\n",
              "      border-color: transparent;\n",
              "      border-left-color: var(--fill-color);\n",
              "      border-top-color: var(--fill-color);\n",
              "      border-right-color: var(--fill-color);\n",
              "    }\n",
              "    40% {\n",
              "      border-color: transparent;\n",
              "      border-right-color: var(--fill-color);\n",
              "      border-top-color: var(--fill-color);\n",
              "    }\n",
              "    60% {\n",
              "      border-color: transparent;\n",
              "      border-right-color: var(--fill-color);\n",
              "    }\n",
              "    80% {\n",
              "      border-color: transparent;\n",
              "      border-right-color: var(--fill-color);\n",
              "      border-bottom-color: var(--fill-color);\n",
              "    }\n",
              "    90% {\n",
              "      border-color: transparent;\n",
              "      border-bottom-color: var(--fill-color);\n",
              "    }\n",
              "  }\n",
              "</style>\n",
              "\n",
              "      <script>\n",
              "        async function quickchart(key) {\n",
              "          const quickchartButtonEl =\n",
              "            document.querySelector('#' + key + ' button');\n",
              "          quickchartButtonEl.disabled = true;  // To prevent multiple clicks.\n",
              "          quickchartButtonEl.classList.add('colab-df-spinner');\n",
              "          try {\n",
              "            const charts = await google.colab.kernel.invokeFunction(\n",
              "                'suggestCharts', [key], {});\n",
              "          } catch (error) {\n",
              "            console.error('Error during call to suggestCharts:', error);\n",
              "          }\n",
              "          quickchartButtonEl.classList.remove('colab-df-spinner');\n",
              "          quickchartButtonEl.classList.add('colab-df-quickchart-complete');\n",
              "        }\n",
              "        (() => {\n",
              "          let quickchartButtonEl =\n",
              "            document.querySelector('#df-a0bb5182-3a3d-4370-a4bf-a9de4e484ab6 button');\n",
              "          quickchartButtonEl.style.display =\n",
              "            google.colab.kernel.accessAllowed ? 'block' : 'none';\n",
              "        })();\n",
              "      </script>\n",
              "    </div>\n",
              "\n",
              "    </div>\n",
              "  </div>\n"
            ],
            "application/vnd.google.colaboratory.intrinsic+json": {
              "type": "dataframe",
              "summary": "{\n  \"name\": \"df[[\\\"Fecha_Tx\\\",\\\"Fecha_Tx#2\\\",\\\"D\\u00edas_Desde_Tx#1\\\",\\\"D\\u00edas_Desde_Tx#1_calculada\\\",\\\"Re_Re trasplante\\\"]]\",\n  \"rows\": 44,\n  \"fields\": [\n    {\n      \"column\": \"#_Paciente\",\n      \"properties\": {\n        \"dtype\": \"number\",\n        \"std\": 193,\n        \"min\": 35,\n        \"max\": 729,\n        \"num_unique_values\": 44,\n        \"samples\": [\n          606,\n          382,\n          403\n        ],\n        \"semantic_type\": \"\",\n        \"description\": \"\"\n      }\n    },\n    {\n      \"column\": \"Fecha_Tx\",\n      \"properties\": {\n        \"dtype\": \"date\",\n        \"min\": \"2002-12-02 00:00:00\",\n        \"max\": \"2025-02-25 00:00:00\",\n        \"num_unique_values\": 44,\n        \"samples\": [\n          \"2021-06-25 00:00:00\",\n          \"2015-03-23 00:00:00\",\n          \"2015-09-18 00:00:00\"\n        ],\n        \"semantic_type\": \"\",\n        \"description\": \"\"\n      }\n    },\n    {\n      \"column\": \"Fecha_Tx#2\",\n      \"properties\": {\n        \"dtype\": \"date\",\n        \"min\": \"2004-07-25 00:00:00\",\n        \"max\": \"2025-03-04 00:00:00\",\n        \"num_unique_values\": 44,\n        \"samples\": [\n          \"2021-06-25 00:00:00\",\n          \"2015-03-26 00:00:00\",\n          \"2015-10-11 00:00:00\"\n        ],\n        \"semantic_type\": \"\",\n        \"description\": \"\"\n      }\n    },\n    {\n      \"column\": \"D\\u00edas_Desde_Tx#1\",\n      \"properties\": {\n        \"dtype\": \"number\",\n        \"std\": 560.6304378497049,\n        \"min\": 0.0,\n        \"max\": 3530.0,\n        \"num_unique_values\": 23,\n        \"samples\": [\n          43.0,\n          3.0,\n          1293.0\n        ],\n        \"semantic_type\": \"\",\n        \"description\": \"\"\n      }\n    },\n    {\n      \"column\": \"D\\u00edas_Desde_Tx#1_calculada\",\n      \"properties\": {\n        \"dtype\": \"number\",\n        \"std\": 560.6304378497049,\n        \"min\": 0.0,\n        \"max\": 3530.0,\n        \"num_unique_values\": 23,\n        \"samples\": [\n          43.0,\n          3.0,\n          1293.0\n        ],\n        \"semantic_type\": \"\",\n        \"description\": \"\"\n      }\n    },\n    {\n      \"column\": \"Re_Re trasplante\",\n      \"properties\": {\n        \"dtype\": \"number\",\n        \"std\": 0.2107070549414855,\n        \"min\": 0.0,\n        \"max\": 1.0,\n        \"num_unique_values\": 2,\n        \"samples\": [\n          1.0,\n          0.0\n        ],\n        \"semantic_type\": \"\",\n        \"description\": \"\"\n      }\n    }\n  ]\n}"
            }
          },
          "metadata": {},
          "execution_count": 577
        }
      ],
      "source": [
        "df[[\"Fecha_Tx\",\"Fecha_Tx#2\",\"Días_Desde_Tx#1\",\"Días_Desde_Tx#1_calculada\",\"Re_Re trasplante\"]].loc[df[\"Fecha_Tx#2\"].notna() ]"
      ]
    },
    {
      "cell_type": "markdown",
      "id": "a5439430",
      "metadata": {
        "id": "a5439430"
      },
      "source": [
        "Dada la definición del stakeholder para esta variable en donde \"Re_Re Trasplante\" : DEFINE SI EL PACIENTE REQUIRIÓ RE-RETRASPLANTE TEMPRANO (< 1AÑO), se evidencia que tiene inconsistencias, por lo que se procede a calcularla en funcon de Dias_Desde_Tx#1_calculada."
      ]
    },
    {
      "cell_type": "code",
      "execution_count": 578,
      "id": "2cbfc702",
      "metadata": {
        "id": "2cbfc702"
      },
      "outputs": [],
      "source": [
        "# Convertir a float para que los nulos sean np.nan y se puedan evaluar\n",
        "dias = df[\"Días_Desde_Tx#1\"].astype(float)\n",
        "\n",
        "# Aplicar la lógica con np.where\n",
        "df[\"Re_Re trasplante\"] = np.where(\n",
        "    dias < 366,\n",
        "    True,\n",
        "    np.where(dias.isna(), np.nan, False)\n",
        ")"
      ]
    },
    {
      "cell_type": "code",
      "execution_count": 579,
      "id": "a308c69e",
      "metadata": {
        "id": "a308c69e",
        "outputId": "1d567063-868d-40bf-e340-9dce5435cbc7",
        "colab": {
          "base_uri": "https://localhost:8080/"
        }
      },
      "outputs": [
        {
          "output_type": "stream",
          "name": "stdout",
          "text": [
            "count    44.000000\n",
            "mean      0.954545\n",
            "std       0.210707\n",
            "min       0.000000\n",
            "25%       1.000000\n",
            "50%       1.000000\n",
            "75%       1.000000\n",
            "max       1.000000\n",
            "Name: Re_Re trasplante, dtype: float64\n",
            "--------------------\n",
            "Número de datos nulos: 692\n",
            "--------------------\n",
            "Re_Re trasplante\n",
            "NaN    692\n",
            "1.0     42\n",
            "0.0      2\n",
            "Name: count, dtype: int64\n"
          ]
        }
      ],
      "source": [
        "ver_datos(df, 'Re_Re trasplante', True)"
      ]
    },
    {
      "cell_type": "markdown",
      "id": "f285cb49",
      "metadata": {
        "id": "f285cb49"
      },
      "source": [
        "### Indicación_Re_Re_trasplante"
      ]
    },
    {
      "cell_type": "code",
      "execution_count": 580,
      "id": "886d91ed",
      "metadata": {
        "id": "886d91ed",
        "outputId": "92222543-ac79-4a3c-fe6d-a3a06f84670d",
        "colab": {
          "base_uri": "https://localhost:8080/"
        }
      },
      "outputs": [
        {
          "output_type": "stream",
          "name": "stdout",
          "text": [
            "count    42.000000\n",
            "mean      1.690476\n",
            "std       1.219518\n",
            "min       1.000000\n",
            "25%       1.000000\n",
            "50%       1.000000\n",
            "75%       2.000000\n",
            "max       6.000000\n",
            "Name: Indicación_Retrasplante, dtype: float64\n",
            "--------------------\n",
            "Número de datos nulos: 694\n",
            "--------------------\n",
            "Indicación_Retrasplante\n",
            "NaN    694\n",
            "1.0     26\n",
            "2.0     11\n",
            "5.0      2\n",
            "3.0      1\n",
            "4.0      1\n",
            "6.0      1\n",
            "Name: count, dtype: int64\n"
          ]
        }
      ],
      "source": [
        "ver_datos(df, 'Indicación_Retrasplante', True)"
      ]
    },
    {
      "cell_type": "code",
      "execution_count": 581,
      "id": "dd56f22e",
      "metadata": {
        "id": "dd56f22e",
        "outputId": "5d1fb912-9955-4bc3-ca74-3baadc0e137c",
        "colab": {
          "base_uri": "https://localhost:8080/"
        }
      },
      "outputs": [
        {
          "output_type": "stream",
          "name": "stdout",
          "text": [
            "count                                  42\n",
            "unique                                  6\n",
            "top       DISFUNCIÓN PRIMARIA DEL INJERTO\n",
            "freq                                   26\n",
            "Name: Indicación_Retrasplante_categoria, dtype: object\n",
            "--------------------\n",
            "Número de datos nulos: 694\n",
            "--------------------\n",
            "Indicación_Retrasplante_categoria\n",
            "NaN                                694\n",
            "DISFUNCIÓN PRIMARIA DEL INJERTO     26\n",
            "TROMBOSIS ARTERIA HEPÁTICA          11\n",
            "COLANGIOPATIA ISQUEMICA              2\n",
            "TROMBOSIS PORTAL                     1\n",
            "BUDD CHIARI                          1\n",
            "HELLP                                1\n",
            "Name: count, dtype: int64\n"
          ]
        }
      ],
      "source": [
        "df[\"Indicación_Retrasplante_categoria\"] = df[\"Indicación_Retrasplante\"].replace({1:'DISFUNCIÓN PRIMARIA DEL INJERTO', 2: 'TROMBOSIS ARTERIA HEPÁTICA', 3: 'TROMBOSIS PORTAL',\n",
        "                                                                                                     4: 'BUDD CHIARI', 5: 'COLANGIOPATIA ISQUEMICA', 6: 'HELLP'})\n",
        "selected_columns.append('Indicación_Retrasplante_categoria')\n",
        "ver_datos(df, 'Indicación_Retrasplante_categoria', True)"
      ]
    },
    {
      "cell_type": "markdown",
      "id": "551efe91",
      "metadata": {
        "id": "551efe91"
      },
      "source": [
        "### PTLD"
      ]
    },
    {
      "cell_type": "code",
      "execution_count": 582,
      "id": "9e65bd8b",
      "metadata": {
        "id": "9e65bd8b",
        "outputId": "be2e1ac9-56bd-413d-bf43-b0d298b71702",
        "colab": {
          "base_uri": "https://localhost:8080/"
        }
      },
      "outputs": [
        {
          "output_type": "stream",
          "name": "stdout",
          "text": [
            "count     646\n",
            "unique      3\n",
            "top         0\n",
            "freq      624\n",
            "Name: PTLD, dtype: int64\n",
            "--------------------\n",
            "Número de datos nulos: 90\n",
            "--------------------\n",
            "PTLD\n",
            "0      624\n",
            "NaN     90\n",
            "1       21\n",
            "         1\n",
            "Name: count, dtype: int64\n"
          ]
        }
      ],
      "source": [
        "ver_datos(df, 'PTLD', True)"
      ]
    },
    {
      "cell_type": "code",
      "execution_count": 583,
      "id": "9b1ed8d6",
      "metadata": {
        "id": "9b1ed8d6"
      },
      "outputs": [],
      "source": [
        "df['PTLD'] = df['PTLD'].apply(lambda x: np.nan if isinstance(x, str) and x.strip() == '' else x)"
      ]
    },
    {
      "cell_type": "code",
      "execution_count": 584,
      "id": "0bb3d07c",
      "metadata": {
        "id": "0bb3d07c",
        "outputId": "ec5af4ca-b568-4177-aafd-07d5415e9650",
        "colab": {
          "base_uri": "https://localhost:8080/"
        }
      },
      "outputs": [
        {
          "output_type": "stream",
          "name": "stdout",
          "text": [
            "count    645.000000\n",
            "mean       0.032558\n",
            "std        0.177615\n",
            "min        0.000000\n",
            "25%        0.000000\n",
            "50%        0.000000\n",
            "75%        0.000000\n",
            "max        1.000000\n",
            "Name: PTLD, dtype: float64\n",
            "--------------------\n",
            "Número de datos nulos: 91\n",
            "--------------------\n",
            "PTLD\n",
            "0.0    624\n",
            "NaN     91\n",
            "1.0     21\n",
            "Name: count, dtype: int64\n"
          ]
        }
      ],
      "source": [
        "ver_datos(df, 'PTLD', True)"
      ]
    },
    {
      "cell_type": "markdown",
      "id": "01a7a02f",
      "metadata": {
        "id": "01a7a02f"
      },
      "source": [
        "### Tiempo_Tx_A_PTLD"
      ]
    },
    {
      "cell_type": "code",
      "execution_count": 585,
      "id": "3edd085d",
      "metadata": {
        "id": "3edd085d",
        "outputId": "0587e4bc-a5ae-46ee-adad-36ab838165f3",
        "colab": {
          "base_uri": "https://localhost:8080/"
        }
      },
      "outputs": [
        {
          "output_type": "stream",
          "name": "stdout",
          "text": [
            "count     148\n",
            "unique      3\n",
            "top         0\n",
            "freq      146\n",
            "Name: Tiempo_Tx_A_PTLD, dtype: int64\n",
            "--------------------\n",
            "Número de datos nulos: 588\n",
            "--------------------\n",
            "Tiempo_Tx_A_PTLD\n",
            "NaN          588\n",
            "0            146\n",
            "RITUXIMAB      1\n",
            "1              1\n",
            "Name: count, dtype: int64\n"
          ]
        }
      ],
      "source": [
        "ver_datos(df, 'Tiempo_Tx_A_PTLD', True)"
      ]
    },
    {
      "cell_type": "markdown",
      "id": "2337506d",
      "metadata": {
        "id": "2337506d"
      },
      "source": [
        "La variable deberia reflejar el tiempo en dias desde el transplante a la identificación de un PTLD. Parece tener un comportamiento booleano. <span style=\"color:red\"> No es consistente </span>"
      ]
    },
    {
      "cell_type": "markdown",
      "id": "7f9bb63b",
      "metadata": {
        "id": "7f9bb63b"
      },
      "source": [
        "### Neoplasia_PostTx"
      ]
    },
    {
      "cell_type": "code",
      "execution_count": 586,
      "id": "04ed6a2f",
      "metadata": {
        "id": "04ed6a2f",
        "outputId": "eb55a3ce-8c40-4da8-ea08-495ae76897b5",
        "colab": {
          "base_uri": "https://localhost:8080/"
        }
      },
      "outputs": [
        {
          "output_type": "stream",
          "name": "stdout",
          "text": [
            "count    634.000000\n",
            "mean       0.075710\n",
            "std        0.530828\n",
            "min        0.000000\n",
            "25%        0.000000\n",
            "50%        0.000000\n",
            "75%        0.000000\n",
            "max        7.000000\n",
            "Name: Neoplasia_PostTx, dtype: float64\n",
            "--------------------\n",
            "Número de datos nulos: 102\n",
            "--------------------\n",
            "Neoplasia_PostTx\n",
            "0.0    612\n",
            "NaN    102\n",
            "1.0     14\n",
            "2.0      2\n",
            "5.0      2\n",
            "7.0      1\n",
            "3.0      1\n",
            "6.0      1\n",
            "4.0      1\n",
            "Name: count, dtype: int64\n"
          ]
        }
      ],
      "source": [
        "ver_datos(df,'Neoplasia_PostTx', True)"
      ]
    },
    {
      "cell_type": "code",
      "execution_count": 587,
      "id": "2ba71a61",
      "metadata": {
        "id": "2ba71a61"
      },
      "outputs": [],
      "source": [
        "df[\"Neoplasia_PostTx\"] = df[\"Neoplasia_PostTx\"].replace({0:'NO' ,1:'PTLD', 2: 'CA PIEL', 3: 'CA PULMON',\n",
        "                                                        4: 'CA UTERO', 5: 'SARCOMA DE KAPOSI', 6: 'CA RENAL',\n",
        "                                                        7: 'CA SENO',8:'LEUCEMIAS', 9: 'CA COLON',10 : 'LINFOMA' ,11:'COLANGIOCA',12: 'CA PROSTATA' ,13:'CA CERVIX',14:'PSEUDOMIXOMA PERITONEAL'})"
      ]
    },
    {
      "cell_type": "code",
      "execution_count": 588,
      "id": "e2ca450a",
      "metadata": {
        "id": "e2ca450a",
        "outputId": "37719ef7-d653-45dd-9dc8-187158d7d0b0",
        "colab": {
          "base_uri": "https://localhost:8080/"
        }
      },
      "outputs": [
        {
          "output_type": "stream",
          "name": "stdout",
          "text": [
            "count     634\n",
            "unique      8\n",
            "top        NO\n",
            "freq      612\n",
            "Name: Neoplasia_PostTx, dtype: object\n",
            "--------------------\n",
            "Número de datos nulos: 102\n",
            "--------------------\n",
            "Neoplasia_PostTx\n",
            "NO                   612\n",
            "NaN                  102\n",
            "PTLD                  14\n",
            "CA PIEL                2\n",
            "SARCOMA DE KAPOSI      2\n",
            "CA SENO                1\n",
            "CA PULMON              1\n",
            "CA RENAL               1\n",
            "CA UTERO               1\n",
            "Name: count, dtype: int64\n"
          ]
        }
      ],
      "source": [
        "ver_datos(df,'Neoplasia_PostTx', True)"
      ]
    },
    {
      "cell_type": "markdown",
      "id": "6f9fccf8",
      "metadata": {
        "id": "6f9fccf8"
      },
      "source": [
        "### Tiempo_Tx_A_Neoplasia_PostTx"
      ]
    },
    {
      "cell_type": "code",
      "execution_count": 589,
      "id": "610e77bf",
      "metadata": {
        "id": "610e77bf",
        "outputId": "92892ec6-424c-45a9-c3a8-a8cc46f35492",
        "colab": {
          "base_uri": "https://localhost:8080/"
        }
      },
      "outputs": [
        {
          "output_type": "stream",
          "name": "stdout",
          "text": [
            "count    147.0\n",
            "mean       0.0\n",
            "std        0.0\n",
            "min        0.0\n",
            "25%        0.0\n",
            "50%        0.0\n",
            "75%        0.0\n",
            "max        0.0\n",
            "Name: Tiempo_Tx_A_Neoplasia_PostTx, dtype: float64\n",
            "--------------------\n",
            "Número de datos nulos: 589\n",
            "--------------------\n",
            "Tiempo_Tx_A_Neoplasia_PostTx\n",
            "NaN    589\n",
            "0.0    147\n",
            "Name: count, dtype: int64\n"
          ]
        }
      ],
      "source": [
        "ver_datos(df, 'Tiempo_Tx_A_Neoplasia_PostTx', True)"
      ]
    },
    {
      "cell_type": "markdown",
      "id": "d2307027",
      "metadata": {
        "id": "d2307027"
      },
      "source": [
        "La varaible no tiene datos. A pesar de que el conteo de no nulidad mostraba un 20% de completitud"
      ]
    },
    {
      "cell_type": "code",
      "execution_count": 590,
      "id": "6ebbe9c3",
      "metadata": {
        "id": "6ebbe9c3"
      },
      "outputs": [],
      "source": [
        "# selected_columns.remove('Tiempo_Tx_A_Neoplasia_PostTx')"
      ]
    },
    {
      "cell_type": "markdown",
      "id": "f5dbd192",
      "metadata": {
        "id": "f5dbd192"
      },
      "source": [
        "### Grado_HCC\n"
      ]
    },
    {
      "cell_type": "code",
      "execution_count": 591,
      "id": "c4e6d5c7",
      "metadata": {
        "id": "c4e6d5c7",
        "outputId": "1543747d-b4b7-4c69-c3c3-21f45e7df48b",
        "colab": {
          "base_uri": "https://localhost:8080/"
        }
      },
      "outputs": [
        {
          "output_type": "stream",
          "name": "stdout",
          "text": [
            "count    99.000000\n",
            "mean      2.484848\n",
            "std       0.675574\n",
            "min       1.000000\n",
            "25%       2.000000\n",
            "50%       2.000000\n",
            "75%       3.000000\n",
            "max       4.000000\n",
            "Name: Grado_HCC, dtype: float64\n",
            "--------------------\n",
            "Número de datos nulos: 637\n",
            "--------------------\n",
            "Grado_HCC\n",
            "NaN    637\n",
            "2.0     49\n",
            "3.0     40\n",
            "4.0      6\n",
            "1.0      4\n",
            "Name: count, dtype: int64\n"
          ]
        }
      ],
      "source": [
        "ver_datos(df, 'Grado_HCC', True)"
      ]
    },
    {
      "cell_type": "code",
      "execution_count": 592,
      "id": "12ce26c1",
      "metadata": {
        "id": "12ce26c1"
      },
      "outputs": [],
      "source": [
        "grado_map = {\n",
        "    1: \"Bien diferenciado\",\n",
        "    2: \"Moderadamente diferenciado\",\n",
        "    3: \"Poco diferenciado\",\n",
        "    4: \"Indiferenciado\"\n",
        "}\n",
        "\n",
        "df[\"Grado_HCC_desc\"] = df[\"Grado_HCC\"].map(grado_map)\n",
        "selected_columns.append('Grado_HCC_desc')"
      ]
    },
    {
      "cell_type": "code",
      "execution_count": 593,
      "id": "4f39f7a3",
      "metadata": {
        "id": "4f39f7a3",
        "outputId": "e0188813-8e09-4c47-cdd5-0aac81668bbe",
        "colab": {
          "base_uri": "https://localhost:8080/"
        }
      },
      "outputs": [
        {
          "output_type": "stream",
          "name": "stdout",
          "text": [
            "count                             99\n",
            "unique                             4\n",
            "top       Moderadamente diferenciado\n",
            "freq                              49\n",
            "Name: Grado_HCC_desc, dtype: object\n",
            "--------------------\n",
            "Número de datos nulos: 637\n",
            "--------------------\n",
            "Grado_HCC_desc\n",
            "NaN                           637\n",
            "Moderadamente diferenciado     49\n",
            "Poco diferenciado              40\n",
            "Indiferenciado                  6\n",
            "Bien diferenciado               4\n",
            "Name: count, dtype: int64\n"
          ]
        }
      ],
      "source": [
        "ver_datos(df, 'Grado_HCC_desc', True)"
      ]
    },
    {
      "cell_type": "markdown",
      "id": "68a17116",
      "metadata": {
        "id": "68a17116"
      },
      "source": [
        "### Estadio"
      ]
    },
    {
      "cell_type": "code",
      "execution_count": 594,
      "id": "25d622c8",
      "metadata": {
        "id": "25d622c8",
        "outputId": "76482e1b-a93c-40e5-ebbd-233e0a5b11b7",
        "colab": {
          "base_uri": "https://localhost:8080/"
        }
      },
      "outputs": [
        {
          "output_type": "stream",
          "name": "stdout",
          "text": [
            "count    99.000000\n",
            "mean      1.565657\n",
            "std       0.687522\n",
            "min       1.000000\n",
            "25%       1.000000\n",
            "50%       1.000000\n",
            "75%       2.000000\n",
            "max       4.000000\n",
            "Name: Estadio, dtype: float64\n",
            "--------------------\n",
            "Número de datos nulos: 637\n",
            "--------------------\n",
            "Estadio\n",
            "NaN    637\n",
            "1.0     53\n",
            "2.0     37\n",
            "3.0      8\n",
            "4.0      1\n",
            "Name: count, dtype: int64\n"
          ]
        }
      ],
      "source": [
        "ver_datos(df, 'Estadio', True)"
      ]
    },
    {
      "cell_type": "code",
      "execution_count": 595,
      "id": "df83c04c",
      "metadata": {
        "id": "df83c04c"
      },
      "outputs": [],
      "source": [
        "df[\"Estadio\"] = df[\"Estadio\"].replace({0:'NO' ,1:'ESTADIO 1', 2: 'ESTADIO 2', 3: 'ESTADIO 3',4: 'ESTADIO 4'})"
      ]
    },
    {
      "cell_type": "code",
      "execution_count": 596,
      "id": "c808347d",
      "metadata": {
        "id": "c808347d",
        "outputId": "34fb15b2-6534-4e97-f986-4443b9305f20",
        "colab": {
          "base_uri": "https://localhost:8080/"
        }
      },
      "outputs": [
        {
          "output_type": "stream",
          "name": "stdout",
          "text": [
            "count            99\n",
            "unique            4\n",
            "top       ESTADIO 1\n",
            "freq             53\n",
            "Name: Estadio, dtype: object\n",
            "--------------------\n",
            "Número de datos nulos: 637\n",
            "--------------------\n",
            "Estadio\n",
            "NaN          637\n",
            "ESTADIO 1     53\n",
            "ESTADIO 2     37\n",
            "ESTADIO 3      8\n",
            "ESTADIO 4      1\n",
            "Name: count, dtype: int64\n"
          ]
        }
      ],
      "source": [
        "ver_datos(df, 'Estadio', True)"
      ]
    },
    {
      "cell_type": "markdown",
      "id": "c97553bb",
      "metadata": {
        "id": "c97553bb"
      },
      "source": [
        "### Sobrevida_PeriQx_30_días_POP"
      ]
    },
    {
      "cell_type": "code",
      "execution_count": 597,
      "id": "1f2824a4",
      "metadata": {
        "id": "1f2824a4",
        "outputId": "b38649bf-33e7-49aa-861c-d7f378f5427e",
        "colab": {
          "base_uri": "https://localhost:8080/"
        }
      },
      "outputs": [
        {
          "output_type": "stream",
          "name": "stdout",
          "text": [
            "count    702.000000\n",
            "mean       0.920228\n",
            "std        0.271133\n",
            "min        0.000000\n",
            "25%        1.000000\n",
            "50%        1.000000\n",
            "75%        1.000000\n",
            "max        1.000000\n",
            "Name: Sobrevida_PeriQx_30_días_POP, dtype: float64\n",
            "--------------------\n",
            "Número de datos nulos: 34\n",
            "--------------------\n",
            "Sobrevida_PeriQx_30_días_POP\n",
            "1.0    646\n",
            "0.0     56\n",
            "NaN     34\n",
            "Name: count, dtype: int64\n"
          ]
        }
      ],
      "source": [
        "ver_datos(df, 'Sobrevida_PeriQx_30_días_POP', True)"
      ]
    },
    {
      "cell_type": "markdown",
      "id": "26201839",
      "metadata": {
        "id": "26201839"
      },
      "source": [
        "### Vivo hoy (Actualizado enero 2022)"
      ]
    },
    {
      "cell_type": "code",
      "execution_count": 598,
      "id": "64694608",
      "metadata": {
        "id": "64694608",
        "outputId": "03b7c3d3-8982-4676-ef42-fc1065fa6725",
        "colab": {
          "base_uri": "https://localhost:8080/"
        }
      },
      "outputs": [
        {
          "output_type": "stream",
          "name": "stdout",
          "text": [
            "count    702.000000\n",
            "mean       0.646724\n",
            "std        0.478328\n",
            "min        0.000000\n",
            "25%        0.000000\n",
            "50%        1.000000\n",
            "75%        1.000000\n",
            "max        1.000000\n",
            "Name: Vivo_Hoy, dtype: float64\n",
            "--------------------\n",
            "Número de datos nulos: 34\n",
            "--------------------\n",
            "Vivo_Hoy\n",
            "1.0    454\n",
            "0.0    248\n",
            "NaN     34\n",
            "Name: count, dtype: int64\n"
          ]
        }
      ],
      "source": [
        "ver_datos(df, 'Vivo_Hoy', True)"
      ]
    },
    {
      "cell_type": "markdown",
      "id": "8f940aed",
      "metadata": {
        "id": "8f940aed"
      },
      "source": [
        "### Fecha_Control/Muerte"
      ]
    },
    {
      "cell_type": "code",
      "execution_count": 599,
      "id": "f15c6fad",
      "metadata": {
        "id": "f15c6fad",
        "outputId": "92a72a1a-6030-476d-9a0a-a80cf3e64dd7",
        "colab": {
          "base_uri": "https://localhost:8080/"
        }
      },
      "outputs": [
        {
          "output_type": "stream",
          "name": "stdout",
          "text": [
            "count                              702\n",
            "mean     2021-11-20 01:58:58.461538560\n",
            "min                2002-11-29 00:00:00\n",
            "25%                2020-11-14 00:00:00\n",
            "50%                2024-12-31 00:00:00\n",
            "75%                2024-12-31 00:00:00\n",
            "max                2025-04-01 00:00:00\n",
            "Name: Fecha_Control/Muerte, dtype: object\n",
            "--------------------\n",
            "Número de datos nulos: 34\n"
          ]
        }
      ],
      "source": [
        "ver_datos(df, 'Fecha_Control/Muerte')"
      ]
    },
    {
      "cell_type": "markdown",
      "id": "cbcd80e4",
      "metadata": {
        "id": "cbcd80e4"
      },
      "source": [
        "### Sobrevida (escoger entre Sobrevida_Días, Sobrevida_Meses, Sobrevida_Años)"
      ]
    },
    {
      "cell_type": "code",
      "execution_count": 600,
      "id": "eae93dcf",
      "metadata": {
        "id": "eae93dcf",
        "outputId": "37b0b6f2-f29b-4434-a014-52a0638f6d66",
        "colab": {
          "base_uri": "https://localhost:8080/"
        }
      },
      "outputs": [
        {
          "output_type": "stream",
          "name": "stdout",
          "text": [
            "count      704.000000\n",
            "mean      2317.992898\n",
            "std       3788.853487\n",
            "min     -45745.000000\n",
            "25%        489.500000\n",
            "50%       2347.000000\n",
            "75%       4013.000000\n",
            "max       8086.000000\n",
            "Name: Sobrevida_Días, dtype: float64\n",
            "--------------------\n",
            "Número de datos nulos: 32\n"
          ]
        }
      ],
      "source": [
        "ver_datos(df, \"Sobrevida_Días\")"
      ]
    },
    {
      "cell_type": "code",
      "execution_count": 601,
      "id": "eb824b3d",
      "metadata": {
        "id": "eb824b3d",
        "outputId": "975c659e-c4cb-4090-efb7-c84c84ee7a48",
        "colab": {
          "base_uri": "https://localhost:8080/"
        }
      },
      "outputs": [
        {
          "output_type": "stream",
          "name": "stdout",
          "text": [
            "count     702.000000\n",
            "mean     2521.511396\n",
            "std      2114.754796\n",
            "min         0.000000\n",
            "25%       499.000000\n",
            "50%      2350.500000\n",
            "75%      4013.000000\n",
            "max      8086.000000\n",
            "Name: Sobrevida_Días_calculado, dtype: float64\n",
            "--------------------\n",
            "Número de datos nulos: 34\n"
          ]
        }
      ],
      "source": [
        "df[\"Sobrevida_Días_calculado\"] = (\n",
        "    df[\"Fecha_Control/Muerte\"] - df[\"Fecha_Tx\"]\n",
        ").dt.days\n",
        "selected_columns.append(\"Sobrevida_Días_calculado\")\n",
        "ver_datos(df, \"Sobrevida_Días_calculado\")"
      ]
    },
    {
      "cell_type": "markdown",
      "id": "97d0c595",
      "metadata": {
        "id": "97d0c595"
      },
      "source": [
        "<span style=\"color:red\">Se sugiere trabajar con el dato calculado dado que se encuentra una inconsistencia en el dato capturado </span>"
      ]
    },
    {
      "cell_type": "markdown",
      "id": "09d43f96",
      "metadata": {
        "id": "09d43f96"
      },
      "source": [
        "### Causa_De_Muerte"
      ]
    },
    {
      "cell_type": "code",
      "execution_count": 602,
      "id": "d1737603",
      "metadata": {
        "id": "d1737603",
        "outputId": "69a33693-c8ac-483c-f746-feb4e8bf51ca",
        "colab": {
          "base_uri": "https://localhost:8080/"
        }
      },
      "outputs": [
        {
          "output_type": "stream",
          "name": "stdout",
          "text": [
            "count     117\n",
            "unique     40\n",
            "top         2\n",
            "freq       25\n",
            "Name: Causa_De_Muerte, dtype: int64\n",
            "--------------------\n",
            "Número de datos nulos: 619\n",
            "--------------------\n",
            "Causa_De_Muerte\n",
            "NaN                               619\n",
            "2                                  25\n",
            "12                                 15\n",
            "18                                 10\n",
            "1                                   8\n",
            "FALLA MULTI                         5\n",
            "13                                  4\n",
            "4                                   4\n",
            "5                                   3\n",
            "16                                  3\n",
            "11                                  3\n",
            "8                                   3\n",
            "6                                   2\n",
            "17                                  2\n",
            "SHOCK SEPTICO/DISFUNCION            2\n",
            "24                                  2\n",
            "hiporexia                           2\n",
            "choque mixto                        1\n",
            "7                                   1\n",
            "NEUMONIA COVID                      1\n",
            "asistolia                           1\n",
            "19                                  1\n",
            "15                                  1\n",
            "3                                   1\n",
            "falla ventilatoria                  1\n",
            "shock mixto - sepsis                1\n",
            "20                                  1\n",
            "muerte cerebral                     1\n",
            "21                                  1\n",
            "23                                  1\n",
            "shock mixto                         1\n",
            "25                                  1\n",
            "22                                  1\n",
            "shock                               1\n",
            "sepsis abdominal                    1\n",
            "enceladopatia hipoxia               1\n",
            "SEPSIS GI                           1\n",
            "****                                1\n",
            "FALLA RENAL AGUDA                   1\n",
            "Insifuciencia renal aguda           1\n",
            "TROMBOSIS VENAS SUPRAHEPÁTICAS      1\n",
            "Name: count, dtype: int64\n"
          ]
        }
      ],
      "source": [
        "ver_datos(df, \"Causa_De_Muerte\", True)"
      ]
    },
    {
      "cell_type": "code",
      "execution_count": 603,
      "id": "8cb5dcfd",
      "metadata": {
        "id": "8cb5dcfd",
        "outputId": "b78a2328-9285-4549-ce60-bbe34914a5b6",
        "colab": {
          "base_uri": "https://localhost:8080/"
        }
      },
      "outputs": [
        {
          "output_type": "stream",
          "name": "stdout",
          "text": [
            "count    113.000000\n",
            "mean       9.477876\n",
            "std        6.783774\n",
            "min        1.000000\n",
            "25%        2.000000\n",
            "50%       12.000000\n",
            "75%       15.000000\n",
            "max       24.000000\n",
            "Name: Causa_De_Muerte_cod, dtype: float64\n",
            "--------------------\n",
            "Número de datos nulos: 623\n",
            "--------------------\n",
            "Causa_De_Muerte_cod\n",
            "NaN     623\n",
            "2.0      28\n",
            "12.0     24\n",
            "18.0     12\n",
            "1.0       8\n",
            "16.0      6\n",
            "11.0      4\n",
            "4.0       4\n",
            "8.0       4\n",
            "13.0      4\n",
            "5.0       3\n",
            "24.0      2\n",
            "3.0       2\n",
            "6.0       2\n",
            "17.0      2\n",
            "21.0      2\n",
            "7.0       1\n",
            "15.0      1\n",
            "19.0      1\n",
            "20.0      1\n",
            "22.0      1\n",
            "23.0      1\n",
            "Name: count, dtype: int64\n"
          ]
        }
      ],
      "source": [
        "def clasificar_causa_muerte(texto):\n",
        "    if pd.isna(texto):\n",
        "        return np.nan\n",
        "\n",
        "    texto = str(texto).upper().strip()\n",
        "\n",
        "    # Mapeo directo por número\n",
        "    if texto.isdigit():\n",
        "        num = int(texto)\n",
        "        if num in range(1, 25):\n",
        "            return num\n",
        "\n",
        "    # Reglas por texto libre\n",
        "    elif any(x in texto for x in ['FALLA MULTI', 'MULTIORGAN']):\n",
        "        return 12  # FALLA MULTIORGÁNICA\n",
        "    elif 'SEPSIS' in texto:\n",
        "        return 2   # SEPSIS\n",
        "    elif any(x in texto for x in ['EMBOL', 'TROMBOSIS']):\n",
        "        return 3   # EMBOLIA PULMONAR\n",
        "    elif 'RECHAZO' in texto:\n",
        "        return 4   # RECHAZO CRÓNICO\n",
        "    elif any(x in texto for x in ['AEREA', 'OBSTRUCCION']):\n",
        "        return 5   # OBSTRUCCIÓN DE LA VÍA AÉREA\n",
        "    elif 'BRONCOASP' in texto:\n",
        "        return 6   # BRONCOASPIRACIÓN\n",
        "    elif 'COLANGIO' in texto:\n",
        "        return 7   # COLANGIOCARCINOMA\n",
        "    elif any(x in texto for x in ['NEURO', 'ENCEFAL', 'CEREBR']):\n",
        "        return 8   # NEUROLÓGICA\n",
        "    elif 'SUBARACNO' in texto:\n",
        "        return 9   # HEMORRAGIA SUBARACNOIDEA\n",
        "    elif 'HERPES' in texto:\n",
        "        return 10  # ENCEFALITIS HERPES\n",
        "    elif any(x in texto for x in ['NEUMON', 'COVID']):\n",
        "        return 11  # NEUMONÍA\n",
        "    elif any(x in texto for x in ['DISFUNCION', 'DISFUNCIÓN', 'HEPAT']):\n",
        "        return 18  # DISFUNCIÓN HEPÁTICA\n",
        "    elif 'ANGIOSARCOMA' in texto:\n",
        "        return 14  # ANGIOSARCOMA\n",
        "    elif 'HCC' in texto:\n",
        "        return 15  # HCC\n",
        "    elif any(x in texto for x in ['SHOCK', 'CHOQUE']):\n",
        "        return 16  # SHOCK HIPOVOLÉMICO\n",
        "    elif 'ASPERG' in texto:\n",
        "        return 17  # ASPERGILOSIS\n",
        "    elif 'ISQUEMIA' in texto:\n",
        "        return 19  # ISQUEMIA MESENTÉRICA\n",
        "    elif 'EDEMA' in texto:\n",
        "        return 20  # EDEMA PULMONAR\n",
        "    elif 'VENTILATOR' in texto:\n",
        "        return 21  # FALLA VENTILATORIA\n",
        "    elif 'ILEO' in texto:\n",
        "        return 22  # ÍLEO ADINÁMICO\n",
        "    elif 'HCV' in texto:\n",
        "        return 23  # RECURRENCIA HCV\n",
        "    elif 'ONCOL' in texto:\n",
        "        return 24  # ONCOLÓGICO\n",
        "    elif any(x in texto for x in ['RENAL', 'HIPOREXIA']):\n",
        "        return 12  # FALLA MULTIORGÁNICA (asociado)\n",
        "    else:\n",
        "        return np.nan\n",
        "\n",
        "\n",
        "# Aplicación sobre tu DataFrame\n",
        "df[\"Causa_De_Muerte_cod\"] = df[\"Causa_De_Muerte\"].apply(clasificar_causa_muerte)\n",
        "ver_datos(df, \"Causa_De_Muerte_cod\", True)"
      ]
    },
    {
      "cell_type": "code",
      "execution_count": 604,
      "id": "a5d389e2",
      "metadata": {
        "id": "a5d389e2"
      },
      "outputs": [],
      "source": [
        "catalogo = {\n",
        "    1: \"COAGULOPATÍA\", 2: \"SEPSIS\", 3: \"EMBOLIA PULMONAR\", 4: \"RECHAZO CRÓNICO\",\n",
        "    5: \"OBSTRUCCIÓN DE LA VÍA AÉREA\", 6: \"BRONCOASPIRACIÓN\", 7: \"COLANGIOCARCINOMA\",\n",
        "    8: \"NEUROLÓGICA\", 9: \"HEMORRAGIA SUBARACNOIDEA\", 10: \"ENCEFALITIS HERPES\",\n",
        "    11: \"NEUMONÍA\", 12: \"FALLA MULTIORGÁNICA\", 13: \"MUERTE IO\", 14: \"ANGIOSARCOMA\",\n",
        "    15: \"HCC\", 16: \"SHOCK HIPOVOLÉMICO\", 17: \"ASPERGILOSIS\", 18: \"DISFUNCIÓN HEPÁTICA\",\n",
        "    19: \"ISQUEMIA MESENTÉRICA\", 20: \"EDEMA PULMONAR\", 21: \"FALLA VENTILATORIA\",\n",
        "    22: \"ÍLEO ADINÁMICO\", 23: \"RECURRENCIA HCV\", 24: \"ONCOLÓGICO\"\n",
        "}\n",
        "\n",
        "df['Causa_De_Muerte_categoria'] = df['Causa_De_Muerte_cod'].map(catalogo)\n",
        "selected_columns.append('Causa_De_Muerte_categoria')"
      ]
    },
    {
      "cell_type": "code",
      "execution_count": 605,
      "id": "316b40e6",
      "metadata": {
        "id": "316b40e6",
        "outputId": "b8bfe0a6-b3a8-4ad0-fcc7-1b5b5f02e565",
        "colab": {
          "base_uri": "https://localhost:8080/"
        }
      },
      "outputs": [
        {
          "output_type": "stream",
          "name": "stdout",
          "text": [
            "count        113\n",
            "unique        21\n",
            "top       SEPSIS\n",
            "freq          28\n",
            "Name: Causa_De_Muerte_categoria, dtype: object\n",
            "--------------------\n",
            "Número de datos nulos: 623\n",
            "--------------------\n",
            "Causa_De_Muerte_categoria\n",
            "NaN                            623\n",
            "SEPSIS                          28\n",
            "FALLA MULTIORGÁNICA             24\n",
            "DISFUNCIÓN HEPÁTICA             12\n",
            "COAGULOPATÍA                     8\n",
            "SHOCK HIPOVOLÉMICO               6\n",
            "NEUMONÍA                         4\n",
            "RECHAZO CRÓNICO                  4\n",
            "NEUROLÓGICA                      4\n",
            "MUERTE IO                        4\n",
            "OBSTRUCCIÓN DE LA VÍA AÉREA      3\n",
            "ONCOLÓGICO                       2\n",
            "EMBOLIA PULMONAR                 2\n",
            "BRONCOASPIRACIÓN                 2\n",
            "ASPERGILOSIS                     2\n",
            "FALLA VENTILATORIA               2\n",
            "COLANGIOCARCINOMA                1\n",
            "HCC                              1\n",
            "ISQUEMIA MESENTÉRICA             1\n",
            "EDEMA PULMONAR                   1\n",
            "ÍLEO ADINÁMICO                   1\n",
            "RECURRENCIA HCV                  1\n",
            "Name: count, dtype: int64\n"
          ]
        }
      ],
      "source": [
        "ver_datos(df, \"Causa_De_Muerte_categoria\", True)"
      ]
    },
    {
      "cell_type": "markdown",
      "id": "2d23c95a",
      "metadata": {
        "id": "2d23c95a"
      },
      "source": [
        "### Complicación_Asociada"
      ]
    },
    {
      "cell_type": "code",
      "execution_count": 606,
      "id": "1db81e5e",
      "metadata": {
        "id": "1db81e5e",
        "outputId": "5a4477cc-b283-411b-d61f-ad84e19ce4f3",
        "colab": {
          "base_uri": "https://localhost:8080/"
        }
      },
      "outputs": [
        {
          "output_type": "stream",
          "name": "stdout",
          "text": [
            "count         143\n",
            "unique         54\n",
            "top       NINGUNA\n",
            "freq           54\n",
            "Name: Complicación_Asociada, dtype: object\n",
            "--------------------\n",
            "Número de datos nulos: 593\n",
            "--------------------\n",
            "Complicación_Asociada\n",
            "NaN                                                                                                                                                                                                                                                                                                                                      593\n",
            "NINGUNA                                                                                                                                                                                                                                                                                                                                   54\n",
            "4                                                                                                                                                                                                                                                                                                                                          8\n",
            "3                                                                                                                                                                                                                                                                                                                                          5\n",
            "15                                                                                                                                                                                                                                                                                                                                         5\n",
            "DISFUNCION PRIMARIA                                                                                                                                                                                                                                                                                                                        5\n",
            "1                                                                                                                                                                                                                                                                                                                                          5\n",
            "DISFUNCIÓN PRIMARIA DEL INJERTO                                                                                                                                                                                                                                                                                                            4\n",
            "SANGRADO POST                                                                                                                                                                                                                                                                                                                              4\n",
            "18                                                                                                                                                                                                                                                                                                                                         4\n",
            "5                                                                                                                                                                                                                                                                                                                                          3\n",
            "2                                                                                                                                                                                                                                                                                                                                          3\n",
            "fallamultiorganica - hemorragia vias digestivas - sindrome hepatorenal 1                                                                                                                                                                                                                                                                   1\n",
            "6                                                                                                                                                                                                                                                                                                                                          1\n",
            "sondrome mielodisplasico                                                                                                                                                                                                                                                                                                                   1\n",
            "apergilosis en SNC                                                                                                                                                                                                                                                                                                                         1\n",
            "linfoma gastrico b celula grande difuso                                                                                                                                                                                                                                                                                                    1\n",
            "aneurisma cerebral                                                                                                                                                                                                                                                                                                                         1\n",
            "IVU                                                                                                                                                                                                                                                                                                                                        1\n",
            "9                                                                                                                                                                                                                                                                                                                                          1\n",
            "neumonia nosocomial - rechazo cronico                                                                                                                                                                                                                                                                                                      1\n",
            "hepatoca metastasuci a colon                                                                                                                                                                                                                                                                                                               1\n",
            "8                                                                                                                                                                                                                                                                                                                                          1\n",
            "36                                                                                                                                                                                                                                                                                                                                         1\n",
            "20                                                                                                                                                                                                                                                                                                                                         1\n",
            "trombosis arteria hepatica - hemorrafia digestiva alta                                                                                                                                                                                                                                                                                     1\n",
            "ptld                                                                                                                                                                                                                                                                                                                                       1\n",
            "2020-08-16 00:00:00                                                                                                                                                                                                                                                                                                                        1\n",
            "SHOCK - DISFUCION NGERTO                                                                                                                                                                                                                                                                                                                   1\n",
            "rechazo agudo                                                                                                                                                                                                                                                                                                                              1\n",
            "neumonia                                                                                                                                                                                                                                                                                                                                   1\n",
            "infección                                                                                                                                                                                                                                                                                                                                  1\n",
            "NEUMONIA                                                                                                                                                                                                                                                                                                                                   1\n",
            "RECHAZO SEVERO                                                                                                                                                                                                                                                                                                                             1\n",
            "INFECCIÓN, ESTENSOIS VIA BILIAR, SANGRADO                                                                                                                                                                                                                                                                                                  1\n",
            "NEUMONITIS POR ASPIRACION                                                                                                                                                                                                                                                                                                                  1\n",
            "TROMBOSIS PORTAÑ                                                                                                                                                                                                                                                                                                                           1\n",
            "PANCREATITIS POST CPRE                                                                                                                                                                                                                                                                                                                     1\n",
            "recurrencia hcc                                                                                                                                                                                                                                                                                                                            1\n",
            "CHOQUE DISTRIBUTIVO                                                                                                                                                                                                                                                                                                                        1\n",
            "RECHAZO                                                                                                                                                                                                                                                                                                                                    1\n",
            "NIGNUNA                                                                                                                                                                                                                                                                                                                                    1\n",
            "FALLA RENAL                                                                                                                                                                                                                                                                                                                                1\n",
            "SESPIS POR INFECCIÓN GASTROINTESTINAL                                                                                                                                                                                                                                                                                                      1\n",
            "PERFORACIÓN INTESTINAL, SANGRADO, BACTEREMIA , CONVULSION                                                                                                                                                                                                                                                                                  1\n",
            "DISFUNCION PRIMARIA, BACTEREMIA , FALLA RENAL                                                                                                                                                                                                                                                                                              1\n",
            "1. FALLA HEPÁTICA HIPERAGUDA POST TRASPLANTE DE POSIBLE ORIGEN VASCULAR 1.1 DEFECTO PERFUSION SEGMENTO VI - TROMBOSIS CRONICA PARCIALMENTE R ECANALIZADA DE LA PORTA PRINCIPAL Y RAMA I ZQUERDA - PROBABLE COMPRESION EXTRINSECA POR PTLD 2. BACTEREMIA POR ENTEROCOCCUS FAECIUM (30/06/2022) 2.1 MICROABSCESOS HEPATICOS + BILIOMAS       1\n",
            "HIPERTENSIÓN ABDOMINAL                                                                                                                                                                                                                                                                                                                     1\n",
            "DISFUNCIÓN PRIMARIA DEL INJERTO, FALLA HEPÁTICA HIPERAGUDA, RECHAZO AGUDO SEVERO, LESIÓN RENAL AGUDA, COAGULOPATÍA                                                                                                                                                                                                                         1\n",
            "DISFUNCIÓN PRIMARIA DEL INJERTO, FALLA HEPÁTICA AGUDA SOBRE CRÓNICA, SOSPECHA SEPSIS ORIGEN BILIAR                                                                                                                                                                                                                                         1\n",
            "DISFUNCIÓN PRIMARIA DEL INJERTO, , CHOQUE MIXTO, ACIDOSIS METABOLICA SEVERA, COAGULOPATIA,\\nDISFUNCION MULTIPORGANICA CON COMPROMISO RESPIRATORIO, NEUROLOGICO, LESIÓN RENAL CRÓNICA AGUDIZADA, HIPOPERFUSIÓN, HIPERLACTATEMIA, HIPERAMONEMIA, HIPOTERMIA                                                                                  1\n",
            "Edema pulmonar                                                                                                                                                                                                                                                                                                                             1\n",
            "TROMBOSIS ARTERIA HEPÁTICA                                                                                                                                                                                                                                                                                                                 1\n",
            "ACV                                                                                                                                                                                                                                                                                                                                        1\n",
            "Bradicardia sostenida                                                                                                                                                                                                                                                                                                                      1\n",
            "Name: count, dtype: int64\n"
          ]
        }
      ],
      "source": [
        "ver_datos(df, 'Complicación_Asociada', True)"
      ]
    },
    {
      "cell_type": "code",
      "execution_count": 607,
      "id": "5c8be5a1",
      "metadata": {
        "id": "5c8be5a1",
        "outputId": "b49d6c92-8d31-449f-efab-198eecba07e8",
        "colab": {
          "base_uri": "https://localhost:8080/"
        }
      },
      "outputs": [
        {
          "output_type": "stream",
          "name": "stdout",
          "text": [
            "count     143\n",
            "unique     54\n",
            "top         0\n",
            "freq       54\n",
            "Name: Complicación_Asociada, dtype: int64\n",
            "--------------------\n",
            "Número de datos nulos: 593\n",
            "--------------------\n",
            "Complicación_Asociada\n",
            "NaN                                                                                                                                                                                                                                                                                                                                      593\n",
            "0                                                                                                                                                                                                                                                                                                                                         54\n",
            "4                                                                                                                                                                                                                                                                                                                                          8\n",
            "3                                                                                                                                                                                                                                                                                                                                          5\n",
            "15                                                                                                                                                                                                                                                                                                                                         5\n",
            "DISFUNCION PRIMARIA                                                                                                                                                                                                                                                                                                                        5\n",
            "1                                                                                                                                                                                                                                                                                                                                          5\n",
            "DISFUNCIÓN PRIMARIA DEL INJERTO                                                                                                                                                                                                                                                                                                            4\n",
            "SANGRADO POST                                                                                                                                                                                                                                                                                                                              4\n",
            "18                                                                                                                                                                                                                                                                                                                                         4\n",
            "5                                                                                                                                                                                                                                                                                                                                          3\n",
            "2                                                                                                                                                                                                                                                                                                                                          3\n",
            "fallamultiorganica - hemorragia vias digestivas - sindrome hepatorenal 1                                                                                                                                                                                                                                                                   1\n",
            "6                                                                                                                                                                                                                                                                                                                                          1\n",
            "sondrome mielodisplasico                                                                                                                                                                                                                                                                                                                   1\n",
            "apergilosis en SNC                                                                                                                                                                                                                                                                                                                         1\n",
            "linfoma gastrico b celula grande difuso                                                                                                                                                                                                                                                                                                    1\n",
            "aneurisma cerebral                                                                                                                                                                                                                                                                                                                         1\n",
            "IVU                                                                                                                                                                                                                                                                                                                                        1\n",
            "9                                                                                                                                                                                                                                                                                                                                          1\n",
            "neumonia nosocomial - rechazo cronico                                                                                                                                                                                                                                                                                                      1\n",
            "hepatoca metastasuci a colon                                                                                                                                                                                                                                                                                                               1\n",
            "8                                                                                                                                                                                                                                                                                                                                          1\n",
            "36                                                                                                                                                                                                                                                                                                                                         1\n",
            "20                                                                                                                                                                                                                                                                                                                                         1\n",
            "trombosis arteria hepatica - hemorrafia digestiva alta                                                                                                                                                                                                                                                                                     1\n",
            "ptld                                                                                                                                                                                                                                                                                                                                       1\n",
            "2020-08-16 00:00:00                                                                                                                                                                                                                                                                                                                        1\n",
            "SHOCK - DISFUCION NGERTO                                                                                                                                                                                                                                                                                                                   1\n",
            "rechazo agudo                                                                                                                                                                                                                                                                                                                              1\n",
            "neumonia                                                                                                                                                                                                                                                                                                                                   1\n",
            "infección                                                                                                                                                                                                                                                                                                                                  1\n",
            "NEUMONIA                                                                                                                                                                                                                                                                                                                                   1\n",
            "RECHAZO SEVERO                                                                                                                                                                                                                                                                                                                             1\n",
            "INFECCIÓN, ESTENSOIS VIA BILIAR, SANGRADO                                                                                                                                                                                                                                                                                                  1\n",
            "NEUMONITIS POR ASPIRACION                                                                                                                                                                                                                                                                                                                  1\n",
            "TROMBOSIS PORTAÑ                                                                                                                                                                                                                                                                                                                           1\n",
            "PANCREATITIS POST CPRE                                                                                                                                                                                                                                                                                                                     1\n",
            "recurrencia hcc                                                                                                                                                                                                                                                                                                                            1\n",
            "CHOQUE DISTRIBUTIVO                                                                                                                                                                                                                                                                                                                        1\n",
            "RECHAZO                                                                                                                                                                                                                                                                                                                                    1\n",
            "NIGNUNA                                                                                                                                                                                                                                                                                                                                    1\n",
            "FALLA RENAL                                                                                                                                                                                                                                                                                                                                1\n",
            "SESPIS POR INFECCIÓN GASTROINTESTINAL                                                                                                                                                                                                                                                                                                      1\n",
            "PERFORACIÓN INTESTINAL, SANGRADO, BACTEREMIA , CONVULSION                                                                                                                                                                                                                                                                                  1\n",
            "DISFUNCION PRIMARIA, BACTEREMIA , FALLA RENAL                                                                                                                                                                                                                                                                                              1\n",
            "1. FALLA HEPÁTICA HIPERAGUDA POST TRASPLANTE DE POSIBLE ORIGEN VASCULAR 1.1 DEFECTO PERFUSION SEGMENTO VI - TROMBOSIS CRONICA PARCIALMENTE R ECANALIZADA DE LA PORTA PRINCIPAL Y RAMA I ZQUERDA - PROBABLE COMPRESION EXTRINSECA POR PTLD 2. BACTEREMIA POR ENTEROCOCCUS FAECIUM (30/06/2022) 2.1 MICROABSCESOS HEPATICOS + BILIOMAS       1\n",
            "HIPERTENSIÓN ABDOMINAL                                                                                                                                                                                                                                                                                                                     1\n",
            "DISFUNCIÓN PRIMARIA DEL INJERTO, FALLA HEPÁTICA HIPERAGUDA, RECHAZO AGUDO SEVERO, LESIÓN RENAL AGUDA, COAGULOPATÍA                                                                                                                                                                                                                         1\n",
            "DISFUNCIÓN PRIMARIA DEL INJERTO, FALLA HEPÁTICA AGUDA SOBRE CRÓNICA, SOSPECHA SEPSIS ORIGEN BILIAR                                                                                                                                                                                                                                         1\n",
            "DISFUNCIÓN PRIMARIA DEL INJERTO, , CHOQUE MIXTO, ACIDOSIS METABOLICA SEVERA, COAGULOPATIA,\\nDISFUNCION MULTIPORGANICA CON COMPROMISO RESPIRATORIO, NEUROLOGICO, LESIÓN RENAL CRÓNICA AGUDIZADA, HIPOPERFUSIÓN, HIPERLACTATEMIA, HIPERAMONEMIA, HIPOTERMIA                                                                                  1\n",
            "Edema pulmonar                                                                                                                                                                                                                                                                                                                             1\n",
            "TROMBOSIS ARTERIA HEPÁTICA                                                                                                                                                                                                                                                                                                                 1\n",
            "ACV                                                                                                                                                                                                                                                                                                                                        1\n",
            "Bradicardia sostenida                                                                                                                                                                                                                                                                                                                      1\n",
            "Name: count, dtype: int64\n"
          ]
        },
        {
          "output_type": "stream",
          "name": "stderr",
          "text": [
            "/tmp/ipython-input-4038440533.py:1: FutureWarning: A value is trying to be set on a copy of a DataFrame or Series through chained assignment using an inplace method.\n",
            "The behavior will change in pandas 3.0. This inplace method will never work because the intermediate object on which we are setting values always behaves as a copy.\n",
            "\n",
            "For example, when doing 'df[col].method(value, inplace=True)', try using 'df.method({col: value}, inplace=True)' or df[col] = df[col].method(value) instead, to perform the operation inplace on the original object.\n",
            "\n",
            "\n",
            "  df[\"Complicación_Asociada\"].replace([\"NO\", \"N0\", \"NINGUNA\", \"NINGUNO\", \"NADA\"], 0, inplace=True)\n"
          ]
        }
      ],
      "source": [
        "df[\"Complicación_Asociada\"].replace([\"NO\", \"N0\", \"NINGUNA\", \"NINGUNO\", \"NADA\"], 0, inplace=True)\n",
        "\n",
        "ver_datos(df, 'Complicación_Asociada', True)"
      ]
    },
    {
      "cell_type": "markdown",
      "id": "2a708d2a",
      "metadata": {
        "id": "2a708d2a"
      },
      "source": [
        "### Fecha-Enlistamiento"
      ]
    },
    {
      "cell_type": "code",
      "execution_count": 608,
      "id": "f42f2048",
      "metadata": {
        "id": "f42f2048",
        "outputId": "0cc90b8d-8d89-40c1-eb21-f2a1fd16f62a",
        "colab": {
          "base_uri": "https://localhost:8080/"
        }
      },
      "outputs": [
        {
          "output_type": "stream",
          "name": "stdout",
          "text": [
            "count                     699\n",
            "unique                    562\n",
            "top       2007-06-01 00:00:00\n",
            "freq                        5\n",
            "Name: Fecha-Enlistamiento, dtype: object\n",
            "--------------------\n",
            "Número de datos nulos: 37\n"
          ]
        }
      ],
      "source": [
        "ver_datos(df, 'Fecha-Enlistamiento')"
      ]
    },
    {
      "cell_type": "code",
      "execution_count": 609,
      "id": "e6e44936",
      "metadata": {
        "id": "e6e44936"
      },
      "outputs": [],
      "source": [
        "df['Fecha-Enlistamiento'] = df['Fecha-Enlistamiento'].apply(parse_date)"
      ]
    },
    {
      "cell_type": "code",
      "execution_count": 610,
      "id": "afd35c0f",
      "metadata": {
        "id": "afd35c0f",
        "outputId": "3d9ce2b7-92db-4e94-f098-9711ac3c0433",
        "colab": {
          "base_uri": "https://localhost:8080/"
        }
      },
      "outputs": [
        {
          "output_type": "stream",
          "name": "stdout",
          "text": [
            "count                              699\n",
            "mean     2014-07-11 01:38:53.047210240\n",
            "min                2002-07-29 00:00:00\n",
            "25%                2009-11-19 00:00:00\n",
            "50%                2014-09-26 00:00:00\n",
            "75%                2018-07-18 12:00:00\n",
            "max                2025-02-12 00:00:00\n",
            "Name: Fecha-Enlistamiento, dtype: object\n",
            "--------------------\n",
            "Número de datos nulos: 37\n"
          ]
        }
      ],
      "source": [
        "ver_datos(df, 'Fecha-Enlistamiento')"
      ]
    },
    {
      "cell_type": "markdown",
      "id": "12264b8b",
      "metadata": {
        "id": "12264b8b"
      },
      "source": [
        "### αFP_PreTx"
      ]
    },
    {
      "cell_type": "code",
      "execution_count": 611,
      "metadata": {
        "id": "ZtIjqf7LjKZE",
        "outputId": "c07d9f85-38b6-4ef6-eeda-2d27c3e6c195",
        "colab": {
          "base_uri": "https://localhost:8080/"
        }
      },
      "outputs": [
        {
          "output_type": "stream",
          "name": "stdout",
          "text": [
            "count      194.000000\n",
            "mean       214.379072\n",
            "std       1334.154884\n",
            "min          1.230000\n",
            "25%          3.680000\n",
            "50%          6.475000\n",
            "75%         21.975000\n",
            "max      15487.000000\n",
            "Name: αFP_PreTx, dtype: float64\n",
            "--------------------\n",
            "Número de datos nulos: 542\n"
          ]
        }
      ],
      "source": [
        "ver_datos(df, 'αFP_PreTx')"
      ],
      "id": "ZtIjqf7LjKZE"
    },
    {
      "cell_type": "markdown",
      "id": "4f26c1a5",
      "metadata": {
        "id": "4f26c1a5"
      },
      "source": [
        "### αFP_Al_Dx"
      ]
    },
    {
      "cell_type": "code",
      "execution_count": 612,
      "metadata": {
        "id": "alsJDIIpjKZF",
        "outputId": "7345c058-efcc-4171-b3cd-e1cf6bc26068",
        "colab": {
          "base_uri": "https://localhost:8080/"
        }
      },
      "outputs": [
        {
          "output_type": "stream",
          "name": "stdout",
          "text": [
            "count     245.000000\n",
            "mean       59.458449\n",
            "std       188.843439\n",
            "min         0.900000\n",
            "25%         3.400000\n",
            "50%         6.000000\n",
            "75%        15.370000\n",
            "max      1924.000000\n",
            "Name: αFP_Al_Dx, dtype: float64\n",
            "--------------------\n",
            "Número de datos nulos: 491\n"
          ]
        }
      ],
      "source": [
        "ver_datos(df, 'αFP_Al_Dx')"
      ],
      "id": "alsJDIIpjKZF"
    },
    {
      "cell_type": "markdown",
      "id": "1a2d9aae",
      "metadata": {
        "id": "1a2d9aae"
      },
      "source": [
        "### Tiempo_Isquemia_Fría_Tx#1"
      ]
    },
    {
      "cell_type": "code",
      "execution_count": 613,
      "metadata": {
        "id": "FTjzjAsYjKZF",
        "outputId": "b07e7077-68af-4ac9-ce5e-6b08a2e5de29",
        "colab": {
          "base_uri": "https://localhost:8080/"
        }
      },
      "outputs": [
        {
          "output_type": "stream",
          "name": "stdout",
          "text": [
            "count    701.000000\n",
            "mean       7.444559\n",
            "std        2.356060\n",
            "min        0.000000\n",
            "25%        5.630000\n",
            "50%        7.400000\n",
            "75%        9.000000\n",
            "max       16.000000\n",
            "Name: Tiempo_Isquemia_Fría_Tx#1, dtype: float64\n",
            "--------------------\n",
            "Número de datos nulos: 35\n"
          ]
        }
      ],
      "source": [
        "ver_datos(df, 'Tiempo_Isquemia_Fría_Tx#1')"
      ],
      "id": "FTjzjAsYjKZF"
    },
    {
      "cell_type": "markdown",
      "id": "2600d7f2",
      "metadata": {
        "id": "2600d7f2"
      },
      "source": [
        "### Días_Sobrevida_Injerto_#1"
      ]
    },
    {
      "cell_type": "code",
      "execution_count": 614,
      "metadata": {
        "id": "c5ytaYPNjKZF",
        "outputId": "ff39b4b9-e844-4236-b83f-58cb16004202",
        "colab": {
          "base_uri": "https://localhost:8080/"
        }
      },
      "outputs": [
        {
          "output_type": "stream",
          "name": "stdout",
          "text": [
            "count      703.000000\n",
            "mean      2054.889047\n",
            "std       3740.626169\n",
            "min     -45745.000000\n",
            "25%        316.000000\n",
            "50%       1949.000000\n",
            "75%       3669.000000\n",
            "max       7720.000000\n",
            "Name: Días_Sobrevida_Injerto_#1, dtype: float64\n",
            "--------------------\n",
            "Número de datos nulos: 33\n"
          ]
        }
      ],
      "source": [
        "ver_datos(df, 'Días_Sobrevida_Injerto_#1')"
      ],
      "id": "c5ytaYPNjKZF"
    },
    {
      "cell_type": "markdown",
      "id": "3af778ae",
      "metadata": {
        "id": "3af778ae"
      },
      "source": [
        "Se recalcula la variable de manera que es *Fecha_Tx*-*Control_Injerto_#1*"
      ]
    },
    {
      "cell_type": "code",
      "execution_count": 615,
      "id": "fd6a434e",
      "metadata": {
        "id": "fd6a434e",
        "outputId": "46fc0633-3825-4121-9bae-4ad6cfd90f2c",
        "colab": {
          "base_uri": "https://localhost:8080/"
        }
      },
      "outputs": [
        {
          "output_type": "stream",
          "name": "stdout",
          "text": [
            "count                              701\n",
            "mean     2021-02-22 19:59:39.457917184\n",
            "min                2002-11-29 00:00:00\n",
            "25%                2020-05-15 00:00:00\n",
            "50%                2023-12-31 00:00:00\n",
            "75%                2023-12-31 00:00:00\n",
            "max                2025-04-01 00:00:00\n",
            "Name: Control_Injerto_#1, dtype: object\n",
            "--------------------\n",
            "Número de datos nulos: 35\n"
          ]
        }
      ],
      "source": [
        "ver_datos(df, 'Control_Injerto_#1')"
      ]
    },
    {
      "cell_type": "code",
      "execution_count": 616,
      "id": "cf054d5e",
      "metadata": {
        "id": "cf054d5e"
      },
      "outputs": [],
      "source": [
        "df['Días_Sobrevida_Injerto_calculado'] = df.apply(\n",
        "    lambda row: (row['Control_Injerto_#1'] - row['Fecha_Tx']).days\n",
        "    if pd.notna(row['Control_Injerto_#1']) and pd.notna(row['Fecha_Tx'])\n",
        "    else np.nan,\n",
        "    axis=1\n",
        ")"
      ]
    },
    {
      "cell_type": "code",
      "execution_count": 617,
      "id": "49fb68d4",
      "metadata": {
        "id": "49fb68d4",
        "outputId": "d395e48b-3c86-49f9-d925-ea70f2d84bbd",
        "colab": {
          "base_uri": "https://localhost:8080/",
          "height": 198
        }
      },
      "outputs": [
        {
          "output_type": "execute_result",
          "data": {
            "text/plain": [
              "             Fecha_Tx Control_Injerto_#1  Días_Sobrevida_Injerto_#1  \\\n",
              "#_Paciente                                                            \n",
              "687        2023-10-21         2023-12-11                       37.0   \n",
              "688        2023-11-04         2023-11-24                        NaN   \n",
              "\n",
              "            Días_Sobrevida_Injerto_calculado  \n",
              "#_Paciente                                    \n",
              "687                                     51.0  \n",
              "688                                     20.0  "
            ],
            "text/html": [
              "\n",
              "  <div id=\"df-0cc19dd7-f685-4a78-b01b-23b24a7aae04\" class=\"colab-df-container\">\n",
              "    <div>\n",
              "<style scoped>\n",
              "    .dataframe tbody tr th:only-of-type {\n",
              "        vertical-align: middle;\n",
              "    }\n",
              "\n",
              "    .dataframe tbody tr th {\n",
              "        vertical-align: top;\n",
              "    }\n",
              "\n",
              "    .dataframe thead th {\n",
              "        text-align: right;\n",
              "    }\n",
              "</style>\n",
              "<table border=\"1\" class=\"dataframe\">\n",
              "  <thead>\n",
              "    <tr style=\"text-align: right;\">\n",
              "      <th></th>\n",
              "      <th>Fecha_Tx</th>\n",
              "      <th>Control_Injerto_#1</th>\n",
              "      <th>Días_Sobrevida_Injerto_#1</th>\n",
              "      <th>Días_Sobrevida_Injerto_calculado</th>\n",
              "    </tr>\n",
              "    <tr>\n",
              "      <th>#_Paciente</th>\n",
              "      <th></th>\n",
              "      <th></th>\n",
              "      <th></th>\n",
              "      <th></th>\n",
              "    </tr>\n",
              "  </thead>\n",
              "  <tbody>\n",
              "    <tr>\n",
              "      <th>687</th>\n",
              "      <td>2023-10-21</td>\n",
              "      <td>2023-12-11</td>\n",
              "      <td>37.0</td>\n",
              "      <td>51.0</td>\n",
              "    </tr>\n",
              "    <tr>\n",
              "      <th>688</th>\n",
              "      <td>2023-11-04</td>\n",
              "      <td>2023-11-24</td>\n",
              "      <td>NaN</td>\n",
              "      <td>20.0</td>\n",
              "    </tr>\n",
              "  </tbody>\n",
              "</table>\n",
              "</div>\n",
              "    <div class=\"colab-df-buttons\">\n",
              "\n",
              "  <div class=\"colab-df-container\">\n",
              "    <button class=\"colab-df-convert\" onclick=\"convertToInteractive('df-0cc19dd7-f685-4a78-b01b-23b24a7aae04')\"\n",
              "            title=\"Convert this dataframe to an interactive table.\"\n",
              "            style=\"display:none;\">\n",
              "\n",
              "  <svg xmlns=\"http://www.w3.org/2000/svg\" height=\"24px\" viewBox=\"0 -960 960 960\">\n",
              "    <path d=\"M120-120v-720h720v720H120Zm60-500h600v-160H180v160Zm220 220h160v-160H400v160Zm0 220h160v-160H400v160ZM180-400h160v-160H180v160Zm440 0h160v-160H620v160ZM180-180h160v-160H180v160Zm440 0h160v-160H620v160Z\"/>\n",
              "  </svg>\n",
              "    </button>\n",
              "\n",
              "  <style>\n",
              "    .colab-df-container {\n",
              "      display:flex;\n",
              "      gap: 12px;\n",
              "    }\n",
              "\n",
              "    .colab-df-convert {\n",
              "      background-color: #E8F0FE;\n",
              "      border: none;\n",
              "      border-radius: 50%;\n",
              "      cursor: pointer;\n",
              "      display: none;\n",
              "      fill: #1967D2;\n",
              "      height: 32px;\n",
              "      padding: 0 0 0 0;\n",
              "      width: 32px;\n",
              "    }\n",
              "\n",
              "    .colab-df-convert:hover {\n",
              "      background-color: #E2EBFA;\n",
              "      box-shadow: 0px 1px 2px rgba(60, 64, 67, 0.3), 0px 1px 3px 1px rgba(60, 64, 67, 0.15);\n",
              "      fill: #174EA6;\n",
              "    }\n",
              "\n",
              "    .colab-df-buttons div {\n",
              "      margin-bottom: 4px;\n",
              "    }\n",
              "\n",
              "    [theme=dark] .colab-df-convert {\n",
              "      background-color: #3B4455;\n",
              "      fill: #D2E3FC;\n",
              "    }\n",
              "\n",
              "    [theme=dark] .colab-df-convert:hover {\n",
              "      background-color: #434B5C;\n",
              "      box-shadow: 0px 1px 3px 1px rgba(0, 0, 0, 0.15);\n",
              "      filter: drop-shadow(0px 1px 2px rgba(0, 0, 0, 0.3));\n",
              "      fill: #FFFFFF;\n",
              "    }\n",
              "  </style>\n",
              "\n",
              "    <script>\n",
              "      const buttonEl =\n",
              "        document.querySelector('#df-0cc19dd7-f685-4a78-b01b-23b24a7aae04 button.colab-df-convert');\n",
              "      buttonEl.style.display =\n",
              "        google.colab.kernel.accessAllowed ? 'block' : 'none';\n",
              "\n",
              "      async function convertToInteractive(key) {\n",
              "        const element = document.querySelector('#df-0cc19dd7-f685-4a78-b01b-23b24a7aae04');\n",
              "        const dataTable =\n",
              "          await google.colab.kernel.invokeFunction('convertToInteractive',\n",
              "                                                    [key], {});\n",
              "        if (!dataTable) return;\n",
              "\n",
              "        const docLinkHtml = 'Like what you see? Visit the ' +\n",
              "          '<a target=\"_blank\" href=https://colab.research.google.com/notebooks/data_table.ipynb>data table notebook</a>'\n",
              "          + ' to learn more about interactive tables.';\n",
              "        element.innerHTML = '';\n",
              "        dataTable['output_type'] = 'display_data';\n",
              "        await google.colab.output.renderOutput(dataTable, element);\n",
              "        const docLink = document.createElement('div');\n",
              "        docLink.innerHTML = docLinkHtml;\n",
              "        element.appendChild(docLink);\n",
              "      }\n",
              "    </script>\n",
              "  </div>\n",
              "\n",
              "\n",
              "    <div id=\"df-103e3976-00f6-4128-a0d9-0796ce778307\">\n",
              "      <button class=\"colab-df-quickchart\" onclick=\"quickchart('df-103e3976-00f6-4128-a0d9-0796ce778307')\"\n",
              "                title=\"Suggest charts\"\n",
              "                style=\"display:none;\">\n",
              "\n",
              "<svg xmlns=\"http://www.w3.org/2000/svg\" height=\"24px\"viewBox=\"0 0 24 24\"\n",
              "     width=\"24px\">\n",
              "    <g>\n",
              "        <path d=\"M19 3H5c-1.1 0-2 .9-2 2v14c0 1.1.9 2 2 2h14c1.1 0 2-.9 2-2V5c0-1.1-.9-2-2-2zM9 17H7v-7h2v7zm4 0h-2V7h2v10zm4 0h-2v-4h2v4z\"/>\n",
              "    </g>\n",
              "</svg>\n",
              "      </button>\n",
              "\n",
              "<style>\n",
              "  .colab-df-quickchart {\n",
              "      --bg-color: #E8F0FE;\n",
              "      --fill-color: #1967D2;\n",
              "      --hover-bg-color: #E2EBFA;\n",
              "      --hover-fill-color: #174EA6;\n",
              "      --disabled-fill-color: #AAA;\n",
              "      --disabled-bg-color: #DDD;\n",
              "  }\n",
              "\n",
              "  [theme=dark] .colab-df-quickchart {\n",
              "      --bg-color: #3B4455;\n",
              "      --fill-color: #D2E3FC;\n",
              "      --hover-bg-color: #434B5C;\n",
              "      --hover-fill-color: #FFFFFF;\n",
              "      --disabled-bg-color: #3B4455;\n",
              "      --disabled-fill-color: #666;\n",
              "  }\n",
              "\n",
              "  .colab-df-quickchart {\n",
              "    background-color: var(--bg-color);\n",
              "    border: none;\n",
              "    border-radius: 50%;\n",
              "    cursor: pointer;\n",
              "    display: none;\n",
              "    fill: var(--fill-color);\n",
              "    height: 32px;\n",
              "    padding: 0;\n",
              "    width: 32px;\n",
              "  }\n",
              "\n",
              "  .colab-df-quickchart:hover {\n",
              "    background-color: var(--hover-bg-color);\n",
              "    box-shadow: 0 1px 2px rgba(60, 64, 67, 0.3), 0 1px 3px 1px rgba(60, 64, 67, 0.15);\n",
              "    fill: var(--button-hover-fill-color);\n",
              "  }\n",
              "\n",
              "  .colab-df-quickchart-complete:disabled,\n",
              "  .colab-df-quickchart-complete:disabled:hover {\n",
              "    background-color: var(--disabled-bg-color);\n",
              "    fill: var(--disabled-fill-color);\n",
              "    box-shadow: none;\n",
              "  }\n",
              "\n",
              "  .colab-df-spinner {\n",
              "    border: 2px solid var(--fill-color);\n",
              "    border-color: transparent;\n",
              "    border-bottom-color: var(--fill-color);\n",
              "    animation:\n",
              "      spin 1s steps(1) infinite;\n",
              "  }\n",
              "\n",
              "  @keyframes spin {\n",
              "    0% {\n",
              "      border-color: transparent;\n",
              "      border-bottom-color: var(--fill-color);\n",
              "      border-left-color: var(--fill-color);\n",
              "    }\n",
              "    20% {\n",
              "      border-color: transparent;\n",
              "      border-left-color: var(--fill-color);\n",
              "      border-top-color: var(--fill-color);\n",
              "    }\n",
              "    30% {\n",
              "      border-color: transparent;\n",
              "      border-left-color: var(--fill-color);\n",
              "      border-top-color: var(--fill-color);\n",
              "      border-right-color: var(--fill-color);\n",
              "    }\n",
              "    40% {\n",
              "      border-color: transparent;\n",
              "      border-right-color: var(--fill-color);\n",
              "      border-top-color: var(--fill-color);\n",
              "    }\n",
              "    60% {\n",
              "      border-color: transparent;\n",
              "      border-right-color: var(--fill-color);\n",
              "    }\n",
              "    80% {\n",
              "      border-color: transparent;\n",
              "      border-right-color: var(--fill-color);\n",
              "      border-bottom-color: var(--fill-color);\n",
              "    }\n",
              "    90% {\n",
              "      border-color: transparent;\n",
              "      border-bottom-color: var(--fill-color);\n",
              "    }\n",
              "  }\n",
              "</style>\n",
              "\n",
              "      <script>\n",
              "        async function quickchart(key) {\n",
              "          const quickchartButtonEl =\n",
              "            document.querySelector('#' + key + ' button');\n",
              "          quickchartButtonEl.disabled = true;  // To prevent multiple clicks.\n",
              "          quickchartButtonEl.classList.add('colab-df-spinner');\n",
              "          try {\n",
              "            const charts = await google.colab.kernel.invokeFunction(\n",
              "                'suggestCharts', [key], {});\n",
              "          } catch (error) {\n",
              "            console.error('Error during call to suggestCharts:', error);\n",
              "          }\n",
              "          quickchartButtonEl.classList.remove('colab-df-spinner');\n",
              "          quickchartButtonEl.classList.add('colab-df-quickchart-complete');\n",
              "        }\n",
              "        (() => {\n",
              "          let quickchartButtonEl =\n",
              "            document.querySelector('#df-103e3976-00f6-4128-a0d9-0796ce778307 button');\n",
              "          quickchartButtonEl.style.display =\n",
              "            google.colab.kernel.accessAllowed ? 'block' : 'none';\n",
              "        })();\n",
              "      </script>\n",
              "    </div>\n",
              "\n",
              "    </div>\n",
              "  </div>\n"
            ],
            "application/vnd.google.colaboratory.intrinsic+json": {
              "type": "dataframe",
              "summary": "{\n  \"name\": \"       ][['Fecha_Tx','Control_Injerto_#1','D\\u00edas_Sobrevida_Injerto_#1','D\\u00edas_Sobrevida_Injerto_calculado']]\",\n  \"rows\": 2,\n  \"fields\": [\n    {\n      \"column\": \"#_Paciente\",\n      \"properties\": {\n        \"dtype\": \"number\",\n        \"std\": 0,\n        \"min\": 687,\n        \"max\": 688,\n        \"num_unique_values\": 2,\n        \"samples\": [\n          688,\n          687\n        ],\n        \"semantic_type\": \"\",\n        \"description\": \"\"\n      }\n    },\n    {\n      \"column\": \"Fecha_Tx\",\n      \"properties\": {\n        \"dtype\": \"date\",\n        \"min\": \"2023-10-21 00:00:00\",\n        \"max\": \"2023-11-04 00:00:00\",\n        \"num_unique_values\": 2,\n        \"samples\": [\n          \"2023-11-04 00:00:00\",\n          \"2023-10-21 00:00:00\"\n        ],\n        \"semantic_type\": \"\",\n        \"description\": \"\"\n      }\n    },\n    {\n      \"column\": \"Control_Injerto_#1\",\n      \"properties\": {\n        \"dtype\": \"date\",\n        \"min\": \"2023-11-24 00:00:00\",\n        \"max\": \"2023-12-11 00:00:00\",\n        \"num_unique_values\": 2,\n        \"samples\": [\n          \"2023-11-24 00:00:00\",\n          \"2023-12-11 00:00:00\"\n        ],\n        \"semantic_type\": \"\",\n        \"description\": \"\"\n      }\n    },\n    {\n      \"column\": \"D\\u00edas_Sobrevida_Injerto_#1\",\n      \"properties\": {\n        \"dtype\": \"number\",\n        \"std\": null,\n        \"min\": 37.0,\n        \"max\": 37.0,\n        \"num_unique_values\": 1,\n        \"samples\": [\n          37.0\n        ],\n        \"semantic_type\": \"\",\n        \"description\": \"\"\n      }\n    },\n    {\n      \"column\": \"D\\u00edas_Sobrevida_Injerto_calculado\",\n      \"properties\": {\n        \"dtype\": \"number\",\n        \"std\": 21.920310216782973,\n        \"min\": 20.0,\n        \"max\": 51.0,\n        \"num_unique_values\": 2,\n        \"samples\": [\n          20.0\n        ],\n        \"semantic_type\": \"\",\n        \"description\": \"\"\n      }\n    }\n  ]\n}"
            }
          },
          "metadata": {},
          "execution_count": 617
        }
      ],
      "source": [
        "df.loc[(df['Días_Sobrevida_Injerto_calculado']!=df['Días_Sobrevida_Injerto_#1'])\n",
        "       & df['Control_Injerto_#1'].notna()\n",
        "       ][['Fecha_Tx','Control_Injerto_#1','Días_Sobrevida_Injerto_#1','Días_Sobrevida_Injerto_calculado']]"
      ]
    },
    {
      "cell_type": "code",
      "execution_count": 618,
      "id": "afaf208c",
      "metadata": {
        "id": "afaf208c"
      },
      "outputs": [],
      "source": [
        "df['Días_Sobrevida_Injerto_#1'] = df['Días_Sobrevida_Injerto_calculado']"
      ]
    },
    {
      "cell_type": "code",
      "execution_count": 619,
      "metadata": {
        "id": "eFyMse_7jKZG",
        "outputId": "cf6c9bb5-cb32-40e0-9a92-a70c4837163d",
        "colab": {
          "base_uri": "https://localhost:8080/"
        }
      },
      "outputs": [
        {
          "output_type": "stream",
          "name": "stdout",
          "text": [
            "count     701.000000\n",
            "mean     2256.560628\n",
            "std      2050.901631\n",
            "min         0.000000\n",
            "25%       317.000000\n",
            "50%      1985.000000\n",
            "75%      3670.000000\n",
            "max      7720.000000\n",
            "Name: Días_Sobrevida_Injerto_#1, dtype: float64\n",
            "--------------------\n",
            "Número de datos nulos: 35\n"
          ]
        }
      ],
      "source": [
        "ver_datos(df, 'Días_Sobrevida_Injerto_#1')"
      ],
      "id": "eFyMse_7jKZG"
    },
    {
      "cell_type": "markdown",
      "id": "ccb59611",
      "metadata": {
        "id": "ccb59611"
      },
      "source": [
        "### Meses_Sobrevida_Injerto_#1"
      ]
    },
    {
      "cell_type": "code",
      "execution_count": 620,
      "metadata": {
        "id": "ePjT-3PAjKZG",
        "outputId": "793df00c-6d5d-4e05-f417-d6557bd03a81",
        "colab": {
          "base_uri": "https://localhost:8080/"
        }
      },
      "outputs": [
        {
          "output_type": "stream",
          "name": "stdout",
          "text": [
            "count     703.000000\n",
            "mean       68.496302\n",
            "std       124.687539\n",
            "min     -1524.833333\n",
            "25%        10.533333\n",
            "50%        64.966667\n",
            "75%       122.300000\n",
            "max       257.333333\n",
            "Name: Meses_Sobrevida_Injerto_#1, dtype: float64\n",
            "--------------------\n",
            "Número de datos nulos: 33\n"
          ]
        }
      ],
      "source": [
        "ver_datos(df, 'Meses_Sobrevida_Injerto_#1')"
      ],
      "id": "ePjT-3PAjKZG"
    },
    {
      "cell_type": "markdown",
      "id": "0dbcecb6",
      "metadata": {
        "id": "0dbcecb6"
      },
      "source": [
        "Para garantizar consistencia se usa la misma fórmula que usan en la fuente de los datos para recalcular los meses y los años"
      ]
    },
    {
      "cell_type": "code",
      "execution_count": 621,
      "metadata": {
        "id": "-2688IVOjKZG",
        "outputId": "51681914-509a-4670-c8ba-c132ed36e782",
        "colab": {
          "base_uri": "https://localhost:8080/"
        }
      },
      "outputs": [
        {
          "output_type": "stream",
          "name": "stdout",
          "text": [
            "count    701.000000\n",
            "mean      75.218688\n",
            "std       68.363388\n",
            "min        0.000000\n",
            "25%       10.566667\n",
            "50%       66.166667\n",
            "75%      122.333333\n",
            "max      257.333333\n",
            "Name: Meses_Sobrevida_Injerto_#1, dtype: float64\n",
            "--------------------\n",
            "Número de datos nulos: 35\n"
          ]
        }
      ],
      "source": [
        "df['Meses_Sobrevida_Injerto_#1'] = df['Días_Sobrevida_Injerto_#1']/30\n",
        "ver_datos(df, 'Meses_Sobrevida_Injerto_#1')"
      ],
      "id": "-2688IVOjKZG"
    },
    {
      "cell_type": "markdown",
      "id": "b12faced",
      "metadata": {
        "id": "b12faced"
      },
      "source": [
        "### Años_Sobrevida_Injerto_#1"
      ]
    },
    {
      "cell_type": "code",
      "execution_count": 622,
      "metadata": {
        "id": "3x7oXQntjKZH",
        "outputId": "e35e63a3-bf60-419c-dd6f-374fc7b6f319",
        "colab": {
          "base_uri": "https://localhost:8080/"
        }
      },
      "outputs": [
        {
          "output_type": "stream",
          "name": "stdout",
          "text": [
            "count    703.000000\n",
            "mean       5.708025\n",
            "std       10.390628\n",
            "min     -127.069444\n",
            "25%        0.877778\n",
            "50%        5.413889\n",
            "75%       10.191667\n",
            "max       21.444444\n",
            "Name: Años_Sobrevida_Injerto_#1, dtype: float64\n",
            "--------------------\n",
            "Número de datos nulos: 33\n"
          ]
        }
      ],
      "source": [
        "ver_datos(df, 'Años_Sobrevida_Injerto_#1')"
      ],
      "id": "3x7oXQntjKZH"
    },
    {
      "cell_type": "code",
      "execution_count": 623,
      "id": "9daf3155",
      "metadata": {
        "id": "9daf3155",
        "outputId": "2cbfc4d6-e179-4694-d772-f3221d93e22a",
        "colab": {
          "base_uri": "https://localhost:8080/"
        }
      },
      "outputs": [
        {
          "output_type": "stream",
          "name": "stdout",
          "text": [
            "count    701.000000\n",
            "mean       6.268224\n",
            "std        5.696949\n",
            "min        0.000000\n",
            "25%        0.880556\n",
            "50%        5.513889\n",
            "75%       10.194444\n",
            "max       21.444444\n",
            "Name: Años_Sobrevida_Injerto_#1, dtype: float64\n",
            "--------------------\n",
            "Número de datos nulos: 35\n"
          ]
        }
      ],
      "source": [
        "df['Años_Sobrevida_Injerto_#1'] = df['Meses_Sobrevida_Injerto_#1']/12\n",
        "ver_datos(df, 'Años_Sobrevida_Injerto_#1')"
      ]
    },
    {
      "cell_type": "markdown",
      "metadata": {
        "id": "8eCTcr5VjKZH"
      },
      "source": [
        "### Diámetro_Nódulo_Principal_(cm)_Al_Dx"
      ],
      "id": "8eCTcr5VjKZH"
    },
    {
      "cell_type": "code",
      "execution_count": 624,
      "id": "1deb69e9",
      "metadata": {
        "id": "1deb69e9",
        "outputId": "43c644a7-1954-47a5-bbf3-3a449354d0a4",
        "colab": {
          "base_uri": "https://localhost:8080/"
        }
      },
      "outputs": [
        {
          "output_type": "stream",
          "name": "stdout",
          "text": [
            "count    105.000000\n",
            "mean       3.283143\n",
            "std        1.759876\n",
            "min        0.230000\n",
            "25%        2.000000\n",
            "50%        3.000000\n",
            "75%        4.000000\n",
            "max       11.000000\n",
            "Name: Diámetro_Nódulo_Principal_(cm)_Al_Dx, dtype: float64\n",
            "--------------------\n",
            "Número de datos nulos: 631\n"
          ]
        }
      ],
      "source": [
        "ver_datos(df, 'Diámetro_Nódulo_Principal_(cm)_Al_Dx')"
      ]
    },
    {
      "cell_type": "markdown",
      "metadata": {
        "id": "I5WIz2fujKZH"
      },
      "source": [
        "### Ki67"
      ],
      "id": "I5WIz2fujKZH"
    },
    {
      "cell_type": "code",
      "execution_count": 625,
      "id": "e1450a28",
      "metadata": {
        "id": "e1450a28",
        "outputId": "d88f39c6-a95f-4abd-9fd3-c145ef9442da",
        "colab": {
          "base_uri": "https://localhost:8080/"
        }
      },
      "outputs": [
        {
          "output_type": "stream",
          "name": "stdout",
          "text": [
            "count    81.000000\n",
            "mean      3.283951\n",
            "std       6.211350\n",
            "min       0.000000\n",
            "25%       0.000000\n",
            "50%       1.000000\n",
            "75%       5.000000\n",
            "max      40.000000\n",
            "Name: Ki67, dtype: float64\n",
            "--------------------\n",
            "Número de datos nulos: 655\n"
          ]
        }
      ],
      "source": [
        "ver_datos(df, 'Ki67')"
      ]
    },
    {
      "cell_type": "markdown",
      "metadata": {
        "id": "QIlOoOO3jKZH"
      },
      "source": [
        "### #_Nódulos_Al_Dx"
      ],
      "id": "QIlOoOO3jKZH"
    },
    {
      "cell_type": "code",
      "execution_count": 626,
      "id": "ec585d89",
      "metadata": {
        "id": "ec585d89",
        "outputId": "84d8f576-f3d4-4b1d-b13e-f289c63535e3",
        "colab": {
          "base_uri": "https://localhost:8080/"
        }
      },
      "outputs": [
        {
          "output_type": "stream",
          "name": "stdout",
          "text": [
            "count    132.000000\n",
            "mean       1.651515\n",
            "std        1.703095\n",
            "min        0.000000\n",
            "25%        0.750000\n",
            "50%        1.000000\n",
            "75%        2.000000\n",
            "max        7.000000\n",
            "Name: #_Nódulos_Al_Dx, dtype: float64\n",
            "--------------------\n",
            "Número de datos nulos: 604\n"
          ]
        }
      ],
      "source": [
        "ver_datos(df, '#_Nódulos_Al_Dx')"
      ]
    },
    {
      "cell_type": "markdown",
      "metadata": {
        "id": "MbG2314XjKZH"
      },
      "source": [
        "### Código de anonimización"
      ],
      "id": "MbG2314XjKZH"
    },
    {
      "cell_type": "code",
      "execution_count": 627,
      "id": "7d288f09",
      "metadata": {
        "id": "7d288f09",
        "outputId": "e30ad1d1-b755-4604-886d-50cd639e6015",
        "colab": {
          "base_uri": "https://localhost:8080/"
        }
      },
      "outputs": [
        {
          "output_type": "stream",
          "name": "stdout",
          "text": [
            "count          736\n",
            "unique         736\n",
            "top       TXHEP720\n",
            "freq             1\n",
            "Name: Código de anonimización, dtype: object\n",
            "--------------------\n",
            "Número de datos nulos: 0\n"
          ]
        }
      ],
      "source": [
        "ver_datos(df, 'Código de anonimización')"
      ]
    },
    {
      "cell_type": "code",
      "execution_count": 628,
      "metadata": {
        "id": "dKq5rFJZjKZI"
      },
      "outputs": [],
      "source": [
        "selected_columns.append('Código de anonimización')"
      ],
      "id": "dKq5rFJZjKZI"
    },
    {
      "cell_type": "markdown",
      "id": "4b7ce16b",
      "metadata": {
        "id": "4b7ce16b"
      },
      "source": [
        "## Etapa 3: exportar datos limpios"
      ]
    },
    {
      "cell_type": "markdown",
      "id": "a3073aea",
      "metadata": {
        "id": "a3073aea"
      },
      "source": [
        "Finalmente se seleccionarán las variables de interés"
      ]
    },
    {
      "cell_type": "code",
      "execution_count": 629,
      "id": "e2262ab5",
      "metadata": {
        "id": "e2262ab5"
      },
      "outputs": [],
      "source": [
        "output = df[selected_columns]"
      ]
    },
    {
      "cell_type": "code",
      "execution_count": 630,
      "id": "c2026e9f",
      "metadata": {
        "id": "c2026e9f",
        "outputId": "9098751e-772e-44eb-82e0-81e15fd82624",
        "colab": {
          "base_uri": "https://localhost:8080/",
          "height": 492
        }
      },
      "outputs": [
        {
          "output_type": "execute_result",
          "data": {
            "text/plain": [
              "            Año_Tx  Mes_Tx#1  Edad_Al_Tx Tiempo_En_Lista_Días  \\\n",
              "#_Paciente                                                      \n",
              "1             1988         6       14.00                  NaN   \n",
              "2             1989         1        0.91                  NaN   \n",
              "3             1989        10       28.00                  NaN   \n",
              "4             1990         9       27.00                  NaN   \n",
              "5             1990         9       37.00                  NaN   \n",
              "...            ...       ...         ...                  ...   \n",
              "731           2025         2       68.00                   15   \n",
              "733           2025         3       56.00                  205   \n",
              "734           2025         3       43.00  2025-03-24 00:00:00   \n",
              "735           2025         3       55.00  2025-03-27 00:00:00   \n",
              "736           2025         3       36.00  2025-03-29 00:00:00   \n",
              "\n",
              "            Tiempo_En_Lista_Meses  Tiempo_En_Lista_Años  Sexo_Receptor   EPS  \\\n",
              "#_Paciente                                                                     \n",
              "1                             NaN                   NaN              2   NaN   \n",
              "2                             NaN                   NaN              1   NaN   \n",
              "3                             NaN                   NaN              2   NaN   \n",
              "4                             NaN                   NaN              2   NaN   \n",
              "5                             NaN                   NaN              2   NaN   \n",
              "...                           ...                   ...            ...   ...   \n",
              "731                      0.500000              0.041667              2   1.0   \n",
              "733                      6.833333              0.569444              2  33.0   \n",
              "734                   1524.666667            127.055556              1   1.0   \n",
              "735                   1524.766667            127.063889              1   0.0   \n",
              "736                   1524.833333            127.069444              1   NaN   \n",
              "\n",
              "            Causa_1_Tx_Hepático_  Causa_2_Tx_Hepático_  ...  EKG_VALOR_POP_1  \\\n",
              "#_Paciente                                              ...                    \n",
              "1                           23.0                   0.0  ...              NaN   \n",
              "2                           14.0                   0.0  ...              NaN   \n",
              "3                           23.0                   0.0  ...              NaN   \n",
              "4                            8.0                   0.0  ...              NaN   \n",
              "5                            9.0                   0.0  ...              NaN   \n",
              "...                          ...                   ...  ...              ...   \n",
              "731                          9.0                   3.0  ...              NaN   \n",
              "733                          3.0                   0.0  ...              NaN   \n",
              "734                          NaN                   NaN  ...              NaN   \n",
              "735                          NaN                   NaN  ...              NaN   \n",
              "736                          NaN                   NaN  ...              NaN   \n",
              "\n",
              "           EKG_VALOR_POP_categoria  Retrasplante_bool  \\\n",
              "#_Paciente                                              \n",
              "1                              NaN              False   \n",
              "2                              NaN              False   \n",
              "3                              NaN              False   \n",
              "4                              NaN              False   \n",
              "5                              NaN              False   \n",
              "...                            ...                ...   \n",
              "731                            NaN              False   \n",
              "733                            NaN              False   \n",
              "734                            NaN              False   \n",
              "735                            NaN              False   \n",
              "736                            NaN              False   \n",
              "\n",
              "            Indicación_Retrasplante_categoria  Fecha_Tx#2  \\\n",
              "#_Paciente                                                  \n",
              "1                                         NaN         NaT   \n",
              "2                                         NaN         NaT   \n",
              "3                                         NaN         NaT   \n",
              "4                                         NaN         NaT   \n",
              "5                                         NaN         NaT   \n",
              "...                                       ...         ...   \n",
              "731                                       NaN         NaT   \n",
              "733                                       NaN         NaT   \n",
              "734                                       NaN         NaT   \n",
              "735                                       NaN         NaT   \n",
              "736                                       NaN         NaT   \n",
              "\n",
              "            Indicación_Retrasplante_categoria     Grado_HCC_desc  \\\n",
              "#_Paciente                                                         \n",
              "1                                         NaN                NaN   \n",
              "2                                         NaN                NaN   \n",
              "3                                         NaN                NaN   \n",
              "4                                         NaN                NaN   \n",
              "5                                         NaN                NaN   \n",
              "...                                       ...                ...   \n",
              "731                                       NaN  Poco diferenciado   \n",
              "733                                       NaN                NaN   \n",
              "734                                       NaN                NaN   \n",
              "735                                       NaN                NaN   \n",
              "736                                       NaN                NaN   \n",
              "\n",
              "            Sobrevida_Días_calculado  Causa_De_Muerte_categoria  \\\n",
              "#_Paciente                                                        \n",
              "1                                NaN                        NaN   \n",
              "2                                NaN                        NaN   \n",
              "3                                NaN                        NaN   \n",
              "4                                NaN                        NaN   \n",
              "5                                NaN                        NaN   \n",
              "...                              ...                        ...   \n",
              "731                             26.0                        NaN   \n",
              "733                             27.0                        NaN   \n",
              "734                              NaN                        NaN   \n",
              "735                              NaN                        NaN   \n",
              "736                              NaN                        NaN   \n",
              "\n",
              "            Código de anonimización  \n",
              "#_Paciente                           \n",
              "1                          TXHEP001  \n",
              "2                          TXHEP002  \n",
              "3                          TXHEP003  \n",
              "4                          TXHEP004  \n",
              "5                          TXHEP005  \n",
              "...                             ...  \n",
              "731                        TXHEP732  \n",
              "733                        TXHEP733  \n",
              "734                        TXHEP734  \n",
              "735                        TXHEP735  \n",
              "736                        TXHEP736  \n",
              "\n",
              "[736 rows x 135 columns]"
            ],
            "text/html": [
              "\n",
              "  <div id=\"df-cf68f945-bbce-4f4d-8cfa-0b132591719d\" class=\"colab-df-container\">\n",
              "    <div>\n",
              "<style scoped>\n",
              "    .dataframe tbody tr th:only-of-type {\n",
              "        vertical-align: middle;\n",
              "    }\n",
              "\n",
              "    .dataframe tbody tr th {\n",
              "        vertical-align: top;\n",
              "    }\n",
              "\n",
              "    .dataframe thead th {\n",
              "        text-align: right;\n",
              "    }\n",
              "</style>\n",
              "<table border=\"1\" class=\"dataframe\">\n",
              "  <thead>\n",
              "    <tr style=\"text-align: right;\">\n",
              "      <th></th>\n",
              "      <th>Año_Tx</th>\n",
              "      <th>Mes_Tx#1</th>\n",
              "      <th>Edad_Al_Tx</th>\n",
              "      <th>Tiempo_En_Lista_Días</th>\n",
              "      <th>Tiempo_En_Lista_Meses</th>\n",
              "      <th>Tiempo_En_Lista_Años</th>\n",
              "      <th>Sexo_Receptor</th>\n",
              "      <th>EPS</th>\n",
              "      <th>Causa_1_Tx_Hepático_</th>\n",
              "      <th>Causa_2_Tx_Hepático_</th>\n",
              "      <th>...</th>\n",
              "      <th>EKG_VALOR_POP_1</th>\n",
              "      <th>EKG_VALOR_POP_categoria</th>\n",
              "      <th>Retrasplante_bool</th>\n",
              "      <th>Indicación_Retrasplante_categoria</th>\n",
              "      <th>Fecha_Tx#2</th>\n",
              "      <th>Indicación_Retrasplante_categoria</th>\n",
              "      <th>Grado_HCC_desc</th>\n",
              "      <th>Sobrevida_Días_calculado</th>\n",
              "      <th>Causa_De_Muerte_categoria</th>\n",
              "      <th>Código de anonimización</th>\n",
              "    </tr>\n",
              "    <tr>\n",
              "      <th>#_Paciente</th>\n",
              "      <th></th>\n",
              "      <th></th>\n",
              "      <th></th>\n",
              "      <th></th>\n",
              "      <th></th>\n",
              "      <th></th>\n",
              "      <th></th>\n",
              "      <th></th>\n",
              "      <th></th>\n",
              "      <th></th>\n",
              "      <th></th>\n",
              "      <th></th>\n",
              "      <th></th>\n",
              "      <th></th>\n",
              "      <th></th>\n",
              "      <th></th>\n",
              "      <th></th>\n",
              "      <th></th>\n",
              "      <th></th>\n",
              "      <th></th>\n",
              "      <th></th>\n",
              "    </tr>\n",
              "  </thead>\n",
              "  <tbody>\n",
              "    <tr>\n",
              "      <th>1</th>\n",
              "      <td>1988</td>\n",
              "      <td>6</td>\n",
              "      <td>14.00</td>\n",
              "      <td>NaN</td>\n",
              "      <td>NaN</td>\n",
              "      <td>NaN</td>\n",
              "      <td>2</td>\n",
              "      <td>NaN</td>\n",
              "      <td>23.0</td>\n",
              "      <td>0.0</td>\n",
              "      <td>...</td>\n",
              "      <td>NaN</td>\n",
              "      <td>NaN</td>\n",
              "      <td>False</td>\n",
              "      <td>NaN</td>\n",
              "      <td>NaT</td>\n",
              "      <td>NaN</td>\n",
              "      <td>NaN</td>\n",
              "      <td>NaN</td>\n",
              "      <td>NaN</td>\n",
              "      <td>TXHEP001</td>\n",
              "    </tr>\n",
              "    <tr>\n",
              "      <th>2</th>\n",
              "      <td>1989</td>\n",
              "      <td>1</td>\n",
              "      <td>0.91</td>\n",
              "      <td>NaN</td>\n",
              "      <td>NaN</td>\n",
              "      <td>NaN</td>\n",
              "      <td>1</td>\n",
              "      <td>NaN</td>\n",
              "      <td>14.0</td>\n",
              "      <td>0.0</td>\n",
              "      <td>...</td>\n",
              "      <td>NaN</td>\n",
              "      <td>NaN</td>\n",
              "      <td>False</td>\n",
              "      <td>NaN</td>\n",
              "      <td>NaT</td>\n",
              "      <td>NaN</td>\n",
              "      <td>NaN</td>\n",
              "      <td>NaN</td>\n",
              "      <td>NaN</td>\n",
              "      <td>TXHEP002</td>\n",
              "    </tr>\n",
              "    <tr>\n",
              "      <th>3</th>\n",
              "      <td>1989</td>\n",
              "      <td>10</td>\n",
              "      <td>28.00</td>\n",
              "      <td>NaN</td>\n",
              "      <td>NaN</td>\n",
              "      <td>NaN</td>\n",
              "      <td>2</td>\n",
              "      <td>NaN</td>\n",
              "      <td>23.0</td>\n",
              "      <td>0.0</td>\n",
              "      <td>...</td>\n",
              "      <td>NaN</td>\n",
              "      <td>NaN</td>\n",
              "      <td>False</td>\n",
              "      <td>NaN</td>\n",
              "      <td>NaT</td>\n",
              "      <td>NaN</td>\n",
              "      <td>NaN</td>\n",
              "      <td>NaN</td>\n",
              "      <td>NaN</td>\n",
              "      <td>TXHEP003</td>\n",
              "    </tr>\n",
              "    <tr>\n",
              "      <th>4</th>\n",
              "      <td>1990</td>\n",
              "      <td>9</td>\n",
              "      <td>27.00</td>\n",
              "      <td>NaN</td>\n",
              "      <td>NaN</td>\n",
              "      <td>NaN</td>\n",
              "      <td>2</td>\n",
              "      <td>NaN</td>\n",
              "      <td>8.0</td>\n",
              "      <td>0.0</td>\n",
              "      <td>...</td>\n",
              "      <td>NaN</td>\n",
              "      <td>NaN</td>\n",
              "      <td>False</td>\n",
              "      <td>NaN</td>\n",
              "      <td>NaT</td>\n",
              "      <td>NaN</td>\n",
              "      <td>NaN</td>\n",
              "      <td>NaN</td>\n",
              "      <td>NaN</td>\n",
              "      <td>TXHEP004</td>\n",
              "    </tr>\n",
              "    <tr>\n",
              "      <th>5</th>\n",
              "      <td>1990</td>\n",
              "      <td>9</td>\n",
              "      <td>37.00</td>\n",
              "      <td>NaN</td>\n",
              "      <td>NaN</td>\n",
              "      <td>NaN</td>\n",
              "      <td>2</td>\n",
              "      <td>NaN</td>\n",
              "      <td>9.0</td>\n",
              "      <td>0.0</td>\n",
              "      <td>...</td>\n",
              "      <td>NaN</td>\n",
              "      <td>NaN</td>\n",
              "      <td>False</td>\n",
              "      <td>NaN</td>\n",
              "      <td>NaT</td>\n",
              "      <td>NaN</td>\n",
              "      <td>NaN</td>\n",
              "      <td>NaN</td>\n",
              "      <td>NaN</td>\n",
              "      <td>TXHEP005</td>\n",
              "    </tr>\n",
              "    <tr>\n",
              "      <th>...</th>\n",
              "      <td>...</td>\n",
              "      <td>...</td>\n",
              "      <td>...</td>\n",
              "      <td>...</td>\n",
              "      <td>...</td>\n",
              "      <td>...</td>\n",
              "      <td>...</td>\n",
              "      <td>...</td>\n",
              "      <td>...</td>\n",
              "      <td>...</td>\n",
              "      <td>...</td>\n",
              "      <td>...</td>\n",
              "      <td>...</td>\n",
              "      <td>...</td>\n",
              "      <td>...</td>\n",
              "      <td>...</td>\n",
              "      <td>...</td>\n",
              "      <td>...</td>\n",
              "      <td>...</td>\n",
              "      <td>...</td>\n",
              "      <td>...</td>\n",
              "    </tr>\n",
              "    <tr>\n",
              "      <th>731</th>\n",
              "      <td>2025</td>\n",
              "      <td>2</td>\n",
              "      <td>68.00</td>\n",
              "      <td>15</td>\n",
              "      <td>0.500000</td>\n",
              "      <td>0.041667</td>\n",
              "      <td>2</td>\n",
              "      <td>1.0</td>\n",
              "      <td>9.0</td>\n",
              "      <td>3.0</td>\n",
              "      <td>...</td>\n",
              "      <td>NaN</td>\n",
              "      <td>NaN</td>\n",
              "      <td>False</td>\n",
              "      <td>NaN</td>\n",
              "      <td>NaT</td>\n",
              "      <td>NaN</td>\n",
              "      <td>Poco diferenciado</td>\n",
              "      <td>26.0</td>\n",
              "      <td>NaN</td>\n",
              "      <td>TXHEP732</td>\n",
              "    </tr>\n",
              "    <tr>\n",
              "      <th>733</th>\n",
              "      <td>2025</td>\n",
              "      <td>3</td>\n",
              "      <td>56.00</td>\n",
              "      <td>205</td>\n",
              "      <td>6.833333</td>\n",
              "      <td>0.569444</td>\n",
              "      <td>2</td>\n",
              "      <td>33.0</td>\n",
              "      <td>3.0</td>\n",
              "      <td>0.0</td>\n",
              "      <td>...</td>\n",
              "      <td>NaN</td>\n",
              "      <td>NaN</td>\n",
              "      <td>False</td>\n",
              "      <td>NaN</td>\n",
              "      <td>NaT</td>\n",
              "      <td>NaN</td>\n",
              "      <td>NaN</td>\n",
              "      <td>27.0</td>\n",
              "      <td>NaN</td>\n",
              "      <td>TXHEP733</td>\n",
              "    </tr>\n",
              "    <tr>\n",
              "      <th>734</th>\n",
              "      <td>2025</td>\n",
              "      <td>3</td>\n",
              "      <td>43.00</td>\n",
              "      <td>2025-03-24 00:00:00</td>\n",
              "      <td>1524.666667</td>\n",
              "      <td>127.055556</td>\n",
              "      <td>1</td>\n",
              "      <td>1.0</td>\n",
              "      <td>NaN</td>\n",
              "      <td>NaN</td>\n",
              "      <td>...</td>\n",
              "      <td>NaN</td>\n",
              "      <td>NaN</td>\n",
              "      <td>False</td>\n",
              "      <td>NaN</td>\n",
              "      <td>NaT</td>\n",
              "      <td>NaN</td>\n",
              "      <td>NaN</td>\n",
              "      <td>NaN</td>\n",
              "      <td>NaN</td>\n",
              "      <td>TXHEP734</td>\n",
              "    </tr>\n",
              "    <tr>\n",
              "      <th>735</th>\n",
              "      <td>2025</td>\n",
              "      <td>3</td>\n",
              "      <td>55.00</td>\n",
              "      <td>2025-03-27 00:00:00</td>\n",
              "      <td>1524.766667</td>\n",
              "      <td>127.063889</td>\n",
              "      <td>1</td>\n",
              "      <td>0.0</td>\n",
              "      <td>NaN</td>\n",
              "      <td>NaN</td>\n",
              "      <td>...</td>\n",
              "      <td>NaN</td>\n",
              "      <td>NaN</td>\n",
              "      <td>False</td>\n",
              "      <td>NaN</td>\n",
              "      <td>NaT</td>\n",
              "      <td>NaN</td>\n",
              "      <td>NaN</td>\n",
              "      <td>NaN</td>\n",
              "      <td>NaN</td>\n",
              "      <td>TXHEP735</td>\n",
              "    </tr>\n",
              "    <tr>\n",
              "      <th>736</th>\n",
              "      <td>2025</td>\n",
              "      <td>3</td>\n",
              "      <td>36.00</td>\n",
              "      <td>2025-03-29 00:00:00</td>\n",
              "      <td>1524.833333</td>\n",
              "      <td>127.069444</td>\n",
              "      <td>1</td>\n",
              "      <td>NaN</td>\n",
              "      <td>NaN</td>\n",
              "      <td>NaN</td>\n",
              "      <td>...</td>\n",
              "      <td>NaN</td>\n",
              "      <td>NaN</td>\n",
              "      <td>False</td>\n",
              "      <td>NaN</td>\n",
              "      <td>NaT</td>\n",
              "      <td>NaN</td>\n",
              "      <td>NaN</td>\n",
              "      <td>NaN</td>\n",
              "      <td>NaN</td>\n",
              "      <td>TXHEP736</td>\n",
              "    </tr>\n",
              "  </tbody>\n",
              "</table>\n",
              "<p>736 rows × 135 columns</p>\n",
              "</div>\n",
              "    <div class=\"colab-df-buttons\">\n",
              "\n",
              "  <div class=\"colab-df-container\">\n",
              "    <button class=\"colab-df-convert\" onclick=\"convertToInteractive('df-cf68f945-bbce-4f4d-8cfa-0b132591719d')\"\n",
              "            title=\"Convert this dataframe to an interactive table.\"\n",
              "            style=\"display:none;\">\n",
              "\n",
              "  <svg xmlns=\"http://www.w3.org/2000/svg\" height=\"24px\" viewBox=\"0 -960 960 960\">\n",
              "    <path d=\"M120-120v-720h720v720H120Zm60-500h600v-160H180v160Zm220 220h160v-160H400v160Zm0 220h160v-160H400v160ZM180-400h160v-160H180v160Zm440 0h160v-160H620v160ZM180-180h160v-160H180v160Zm440 0h160v-160H620v160Z\"/>\n",
              "  </svg>\n",
              "    </button>\n",
              "\n",
              "  <style>\n",
              "    .colab-df-container {\n",
              "      display:flex;\n",
              "      gap: 12px;\n",
              "    }\n",
              "\n",
              "    .colab-df-convert {\n",
              "      background-color: #E8F0FE;\n",
              "      border: none;\n",
              "      border-radius: 50%;\n",
              "      cursor: pointer;\n",
              "      display: none;\n",
              "      fill: #1967D2;\n",
              "      height: 32px;\n",
              "      padding: 0 0 0 0;\n",
              "      width: 32px;\n",
              "    }\n",
              "\n",
              "    .colab-df-convert:hover {\n",
              "      background-color: #E2EBFA;\n",
              "      box-shadow: 0px 1px 2px rgba(60, 64, 67, 0.3), 0px 1px 3px 1px rgba(60, 64, 67, 0.15);\n",
              "      fill: #174EA6;\n",
              "    }\n",
              "\n",
              "    .colab-df-buttons div {\n",
              "      margin-bottom: 4px;\n",
              "    }\n",
              "\n",
              "    [theme=dark] .colab-df-convert {\n",
              "      background-color: #3B4455;\n",
              "      fill: #D2E3FC;\n",
              "    }\n",
              "\n",
              "    [theme=dark] .colab-df-convert:hover {\n",
              "      background-color: #434B5C;\n",
              "      box-shadow: 0px 1px 3px 1px rgba(0, 0, 0, 0.15);\n",
              "      filter: drop-shadow(0px 1px 2px rgba(0, 0, 0, 0.3));\n",
              "      fill: #FFFFFF;\n",
              "    }\n",
              "  </style>\n",
              "\n",
              "    <script>\n",
              "      const buttonEl =\n",
              "        document.querySelector('#df-cf68f945-bbce-4f4d-8cfa-0b132591719d button.colab-df-convert');\n",
              "      buttonEl.style.display =\n",
              "        google.colab.kernel.accessAllowed ? 'block' : 'none';\n",
              "\n",
              "      async function convertToInteractive(key) {\n",
              "        const element = document.querySelector('#df-cf68f945-bbce-4f4d-8cfa-0b132591719d');\n",
              "        const dataTable =\n",
              "          await google.colab.kernel.invokeFunction('convertToInteractive',\n",
              "                                                    [key], {});\n",
              "        if (!dataTable) return;\n",
              "\n",
              "        const docLinkHtml = 'Like what you see? Visit the ' +\n",
              "          '<a target=\"_blank\" href=https://colab.research.google.com/notebooks/data_table.ipynb>data table notebook</a>'\n",
              "          + ' to learn more about interactive tables.';\n",
              "        element.innerHTML = '';\n",
              "        dataTable['output_type'] = 'display_data';\n",
              "        await google.colab.output.renderOutput(dataTable, element);\n",
              "        const docLink = document.createElement('div');\n",
              "        docLink.innerHTML = docLinkHtml;\n",
              "        element.appendChild(docLink);\n",
              "      }\n",
              "    </script>\n",
              "  </div>\n",
              "\n",
              "\n",
              "    <div id=\"df-3e979165-3e2e-44cb-8d77-ddf192b30a8c\">\n",
              "      <button class=\"colab-df-quickchart\" onclick=\"quickchart('df-3e979165-3e2e-44cb-8d77-ddf192b30a8c')\"\n",
              "                title=\"Suggest charts\"\n",
              "                style=\"display:none;\">\n",
              "\n",
              "<svg xmlns=\"http://www.w3.org/2000/svg\" height=\"24px\"viewBox=\"0 0 24 24\"\n",
              "     width=\"24px\">\n",
              "    <g>\n",
              "        <path d=\"M19 3H5c-1.1 0-2 .9-2 2v14c0 1.1.9 2 2 2h14c1.1 0 2-.9 2-2V5c0-1.1-.9-2-2-2zM9 17H7v-7h2v7zm4 0h-2V7h2v10zm4 0h-2v-4h2v4z\"/>\n",
              "    </g>\n",
              "</svg>\n",
              "      </button>\n",
              "\n",
              "<style>\n",
              "  .colab-df-quickchart {\n",
              "      --bg-color: #E8F0FE;\n",
              "      --fill-color: #1967D2;\n",
              "      --hover-bg-color: #E2EBFA;\n",
              "      --hover-fill-color: #174EA6;\n",
              "      --disabled-fill-color: #AAA;\n",
              "      --disabled-bg-color: #DDD;\n",
              "  }\n",
              "\n",
              "  [theme=dark] .colab-df-quickchart {\n",
              "      --bg-color: #3B4455;\n",
              "      --fill-color: #D2E3FC;\n",
              "      --hover-bg-color: #434B5C;\n",
              "      --hover-fill-color: #FFFFFF;\n",
              "      --disabled-bg-color: #3B4455;\n",
              "      --disabled-fill-color: #666;\n",
              "  }\n",
              "\n",
              "  .colab-df-quickchart {\n",
              "    background-color: var(--bg-color);\n",
              "    border: none;\n",
              "    border-radius: 50%;\n",
              "    cursor: pointer;\n",
              "    display: none;\n",
              "    fill: var(--fill-color);\n",
              "    height: 32px;\n",
              "    padding: 0;\n",
              "    width: 32px;\n",
              "  }\n",
              "\n",
              "  .colab-df-quickchart:hover {\n",
              "    background-color: var(--hover-bg-color);\n",
              "    box-shadow: 0 1px 2px rgba(60, 64, 67, 0.3), 0 1px 3px 1px rgba(60, 64, 67, 0.15);\n",
              "    fill: var(--button-hover-fill-color);\n",
              "  }\n",
              "\n",
              "  .colab-df-quickchart-complete:disabled,\n",
              "  .colab-df-quickchart-complete:disabled:hover {\n",
              "    background-color: var(--disabled-bg-color);\n",
              "    fill: var(--disabled-fill-color);\n",
              "    box-shadow: none;\n",
              "  }\n",
              "\n",
              "  .colab-df-spinner {\n",
              "    border: 2px solid var(--fill-color);\n",
              "    border-color: transparent;\n",
              "    border-bottom-color: var(--fill-color);\n",
              "    animation:\n",
              "      spin 1s steps(1) infinite;\n",
              "  }\n",
              "\n",
              "  @keyframes spin {\n",
              "    0% {\n",
              "      border-color: transparent;\n",
              "      border-bottom-color: var(--fill-color);\n",
              "      border-left-color: var(--fill-color);\n",
              "    }\n",
              "    20% {\n",
              "      border-color: transparent;\n",
              "      border-left-color: var(--fill-color);\n",
              "      border-top-color: var(--fill-color);\n",
              "    }\n",
              "    30% {\n",
              "      border-color: transparent;\n",
              "      border-left-color: var(--fill-color);\n",
              "      border-top-color: var(--fill-color);\n",
              "      border-right-color: var(--fill-color);\n",
              "    }\n",
              "    40% {\n",
              "      border-color: transparent;\n",
              "      border-right-color: var(--fill-color);\n",
              "      border-top-color: var(--fill-color);\n",
              "    }\n",
              "    60% {\n",
              "      border-color: transparent;\n",
              "      border-right-color: var(--fill-color);\n",
              "    }\n",
              "    80% {\n",
              "      border-color: transparent;\n",
              "      border-right-color: var(--fill-color);\n",
              "      border-bottom-color: var(--fill-color);\n",
              "    }\n",
              "    90% {\n",
              "      border-color: transparent;\n",
              "      border-bottom-color: var(--fill-color);\n",
              "    }\n",
              "  }\n",
              "</style>\n",
              "\n",
              "      <script>\n",
              "        async function quickchart(key) {\n",
              "          const quickchartButtonEl =\n",
              "            document.querySelector('#' + key + ' button');\n",
              "          quickchartButtonEl.disabled = true;  // To prevent multiple clicks.\n",
              "          quickchartButtonEl.classList.add('colab-df-spinner');\n",
              "          try {\n",
              "            const charts = await google.colab.kernel.invokeFunction(\n",
              "                'suggestCharts', [key], {});\n",
              "          } catch (error) {\n",
              "            console.error('Error during call to suggestCharts:', error);\n",
              "          }\n",
              "          quickchartButtonEl.classList.remove('colab-df-spinner');\n",
              "          quickchartButtonEl.classList.add('colab-df-quickchart-complete');\n",
              "        }\n",
              "        (() => {\n",
              "          let quickchartButtonEl =\n",
              "            document.querySelector('#df-3e979165-3e2e-44cb-8d77-ddf192b30a8c button');\n",
              "          quickchartButtonEl.style.display =\n",
              "            google.colab.kernel.accessAllowed ? 'block' : 'none';\n",
              "        })();\n",
              "      </script>\n",
              "    </div>\n",
              "\n",
              "  <div id=\"id_4272367f-1ef8-4d78-90a9-c85e3f3e6948\">\n",
              "    <style>\n",
              "      .colab-df-generate {\n",
              "        background-color: #E8F0FE;\n",
              "        border: none;\n",
              "        border-radius: 50%;\n",
              "        cursor: pointer;\n",
              "        display: none;\n",
              "        fill: #1967D2;\n",
              "        height: 32px;\n",
              "        padding: 0 0 0 0;\n",
              "        width: 32px;\n",
              "      }\n",
              "\n",
              "      .colab-df-generate:hover {\n",
              "        background-color: #E2EBFA;\n",
              "        box-shadow: 0px 1px 2px rgba(60, 64, 67, 0.3), 0px 1px 3px 1px rgba(60, 64, 67, 0.15);\n",
              "        fill: #174EA6;\n",
              "      }\n",
              "\n",
              "      [theme=dark] .colab-df-generate {\n",
              "        background-color: #3B4455;\n",
              "        fill: #D2E3FC;\n",
              "      }\n",
              "\n",
              "      [theme=dark] .colab-df-generate:hover {\n",
              "        background-color: #434B5C;\n",
              "        box-shadow: 0px 1px 3px 1px rgba(0, 0, 0, 0.15);\n",
              "        filter: drop-shadow(0px 1px 2px rgba(0, 0, 0, 0.3));\n",
              "        fill: #FFFFFF;\n",
              "      }\n",
              "    </style>\n",
              "    <button class=\"colab-df-generate\" onclick=\"generateWithVariable('output')\"\n",
              "            title=\"Generate code using this dataframe.\"\n",
              "            style=\"display:none;\">\n",
              "\n",
              "  <svg xmlns=\"http://www.w3.org/2000/svg\" height=\"24px\"viewBox=\"0 0 24 24\"\n",
              "       width=\"24px\">\n",
              "    <path d=\"M7,19H8.4L18.45,9,17,7.55,7,17.6ZM5,21V16.75L18.45,3.32a2,2,0,0,1,2.83,0l1.4,1.43a1.91,1.91,0,0,1,.58,1.4,1.91,1.91,0,0,1-.58,1.4L9.25,21ZM18.45,9,17,7.55Zm-12,3A5.31,5.31,0,0,0,4.9,8.1,5.31,5.31,0,0,0,1,6.5,5.31,5.31,0,0,0,4.9,4.9,5.31,5.31,0,0,0,6.5,1,5.31,5.31,0,0,0,8.1,4.9,5.31,5.31,0,0,0,12,6.5,5.46,5.46,0,0,0,6.5,12Z\"/>\n",
              "  </svg>\n",
              "    </button>\n",
              "    <script>\n",
              "      (() => {\n",
              "      const buttonEl =\n",
              "        document.querySelector('#id_4272367f-1ef8-4d78-90a9-c85e3f3e6948 button.colab-df-generate');\n",
              "      buttonEl.style.display =\n",
              "        google.colab.kernel.accessAllowed ? 'block' : 'none';\n",
              "\n",
              "      buttonEl.onclick = () => {\n",
              "        google.colab.notebook.generateWithVariable('output');\n",
              "      }\n",
              "      })();\n",
              "    </script>\n",
              "  </div>\n",
              "\n",
              "    </div>\n",
              "  </div>\n"
            ],
            "application/vnd.google.colaboratory.intrinsic+json": {
              "type": "dataframe",
              "variable_name": "output"
            }
          },
          "metadata": {},
          "execution_count": 630
        }
      ],
      "source": [
        "output"
      ]
    },
    {
      "cell_type": "code",
      "execution_count": 631,
      "metadata": {
        "id": "XnX7jt2ZjKZJ"
      },
      "outputs": [],
      "source": [
        "output.to_excel('Trasplante hepático consolidado limpio.xlsx')"
      ],
      "id": "XnX7jt2ZjKZJ"
    }
  ],
  "metadata": {
    "kernelspec": {
      "display_name": "Python 3",
      "language": "python",
      "name": "python3"
    },
    "language_info": {
      "codemirror_mode": {
        "name": "ipython",
        "version": 3
      },
      "file_extension": ".py",
      "mimetype": "text/x-python",
      "name": "python",
      "nbconvert_exporter": "python",
      "pygments_lexer": "ipython3",
      "version": "3.12.8"
    },
    "colab": {
      "provenance": []
    }
  },
  "nbformat": 4,
  "nbformat_minor": 5
}